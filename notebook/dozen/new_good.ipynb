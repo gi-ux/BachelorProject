{
 "cells": [
  {
   "cell_type": "code",
   "execution_count": 1,
   "metadata": {},
   "outputs": [
    {
     "data": {
      "application/javascript": [
       "IPython.notebook.set_autosave_interval(3600000)"
      ]
     },
     "metadata": {},
     "output_type": "display_data"
    },
    {
     "name": "stdout",
     "output_type": "stream",
     "text": [
      "Autosaving every 3600 seconds\n"
     ]
    }
   ],
   "source": [
    "import pandas as pd\n",
    "import plotly.graph_objects as go\n",
    "import numpy as np\n",
    "import matplotlib as mpl \n",
    "import matplotlib\n",
    "import matplotlib.pyplot as plt\n",
    "import squarify\n",
    "from matplotlib.pyplot import figure\n",
    "import datetime\n",
    "from datetime import datetime\n",
    "import plotly.express as px\n",
    "import math\n",
    "import warnings\n",
    "warnings.filterwarnings('ignore')\n",
    "import time\n",
    "from time import perf_counter\n",
    "import glob\n",
    "import csv\n",
    "import importlib\n",
    "import seaborn as sns\n",
    "import json\n",
    "from tqdm.notebook import tqdm\n",
    "import sys\n",
    "sys.path.append('C:/Users/gianl/Desktop/Gi/Supsi/BachelorProject/notebook/tweet_utils')\n",
    "import tweets_utils\n",
    "%autosave 3600"
   ]
  },
  {
   "cell_type": "code",
   "execution_count": 2,
   "metadata": {},
   "outputs": [
    {
     "data": {
      "text/html": [
       "<div>\n",
       "<style scoped>\n",
       "    .dataframe tbody tr th:only-of-type {\n",
       "        vertical-align: middle;\n",
       "    }\n",
       "\n",
       "    .dataframe tbody tr th {\n",
       "        vertical-align: top;\n",
       "    }\n",
       "\n",
       "    .dataframe thead th {\n",
       "        text-align: right;\n",
       "    }\n",
       "</style>\n",
       "<table border=\"1\" class=\"dataframe\">\n",
       "  <thead>\n",
       "    <tr style=\"text-align: right;\">\n",
       "      <th></th>\n",
       "      <th>url</th>\n",
       "      <th>expanded</th>\n",
       "    </tr>\n",
       "  </thead>\n",
       "  <tbody>\n",
       "    <tr>\n",
       "      <th>0</th>\n",
       "      <td>https://bit.ly/38SLstI</td>\n",
       "      <td>https://news.abs-cbn.com/news/01/29/20/cbcp-is...</td>\n",
       "    </tr>\n",
       "    <tr>\n",
       "      <th>1</th>\n",
       "      <td>http://dlvr.it/RP1y3X</td>\n",
       "      <td>https://www.theglobeandmail.com/world/article-...</td>\n",
       "    </tr>\n",
       "    <tr>\n",
       "      <th>2</th>\n",
       "      <td>https://trib.al/aYQ7ZIA</td>\n",
       "      <td>https://www.dailymail.co.uk/news/article-79390...</td>\n",
       "    </tr>\n",
       "    <tr>\n",
       "      <th>3</th>\n",
       "      <td>http://bit.ly/2tMEBmu</td>\n",
       "      <td>https://www.who.int/news-room/q-a-detail/q-a-c...</td>\n",
       "    </tr>\n",
       "    <tr>\n",
       "      <th>4</th>\n",
       "      <td>http://bit.ly/36HK7Vk</td>\n",
       "      <td>https://cnnphilippines.com/news/2020/1/31/pers...</td>\n",
       "    </tr>\n",
       "    <tr>\n",
       "      <th>...</th>\n",
       "      <td>...</td>\n",
       "      <td>...</td>\n",
       "    </tr>\n",
       "    <tr>\n",
       "      <th>49806</th>\n",
       "      <td>https://www.irishtimes.com/news/social-affairs...</td>\n",
       "      <td>https://www.irishtimes.com/news/social-affairs...</td>\n",
       "    </tr>\n",
       "    <tr>\n",
       "      <th>49807</th>\n",
       "      <td>https://www.irishtimes.com/news/social-affairs...</td>\n",
       "      <td>https://www.irishtimes.com/news/social-affairs...</td>\n",
       "    </tr>\n",
       "    <tr>\n",
       "      <th>49808</th>\n",
       "      <td>https://www.irishtimes.com/news/social-affairs...</td>\n",
       "      <td>https://www.irishtimes.com/news/social-affairs...</td>\n",
       "    </tr>\n",
       "    <tr>\n",
       "      <th>49809</th>\n",
       "      <td>https://www.irishtimes.com/news/social-affairs...</td>\n",
       "      <td>https://www.irishtimes.com/news/social-affairs...</td>\n",
       "    </tr>\n",
       "    <tr>\n",
       "      <th>49810</th>\n",
       "      <td>https://www.irishtimes.com/news/social-affairs...</td>\n",
       "      <td>https://www.irishtimes.com/news/social-affairs...</td>\n",
       "    </tr>\n",
       "  </tbody>\n",
       "</table>\n",
       "<p>419869 rows × 2 columns</p>\n",
       "</div>"
      ],
      "text/plain": [
       "                                                     url  \\\n",
       "0                                 https://bit.ly/38SLstI   \n",
       "1                                  http://dlvr.it/RP1y3X   \n",
       "2                                https://trib.al/aYQ7ZIA   \n",
       "3                                  http://bit.ly/2tMEBmu   \n",
       "4                                  http://bit.ly/36HK7Vk   \n",
       "...                                                  ...   \n",
       "49806  https://www.irishtimes.com/news/social-affairs...   \n",
       "49807  https://www.irishtimes.com/news/social-affairs...   \n",
       "49808  https://www.irishtimes.com/news/social-affairs...   \n",
       "49809  https://www.irishtimes.com/news/social-affairs...   \n",
       "49810  https://www.irishtimes.com/news/social-affairs...   \n",
       "\n",
       "                                                expanded  \n",
       "0      https://news.abs-cbn.com/news/01/29/20/cbcp-is...  \n",
       "1      https://www.theglobeandmail.com/world/article-...  \n",
       "2      https://www.dailymail.co.uk/news/article-79390...  \n",
       "3      https://www.who.int/news-room/q-a-detail/q-a-c...  \n",
       "4      https://cnnphilippines.com/news/2020/1/31/pers...  \n",
       "...                                                  ...  \n",
       "49806  https://www.irishtimes.com/news/social-affairs...  \n",
       "49807  https://www.irishtimes.com/news/social-affairs...  \n",
       "49808  https://www.irishtimes.com/news/social-affairs...  \n",
       "49809  https://www.irishtimes.com/news/social-affairs...  \n",
       "49810  https://www.irishtimes.com/news/social-affairs...  \n",
       "\n",
       "[419869 rows x 2 columns]"
      ]
     },
     "execution_count": 2,
     "metadata": {},
     "output_type": "execute_result"
    }
   ],
   "source": [
    "path_url = glob.glob(\"F:/Supsi/COVID-19-Tweets/large_files/urls/expanded_urls_*.csv\")\n",
    "expanded_urls = pd.DataFrame()\n",
    "for i in path_url:\n",
    "    expanded_urls = expanded_urls.append(pd.read_csv(i, low_memory=False, lineterminator=\"\\n\"))\n",
    "    expanded_urls = expanded_urls[expanded_urls[\"expanded\"].notna()]\n",
    "    expanded_urls.drop('error', inplace=True, axis=1)\n",
    "    expanded_urls.drop_duplicates(subset=['url'])\n",
    "expanded_urls.reset_index(drop=True)\n",
    "expanded_urls"
   ]
  },
  {
   "cell_type": "code",
   "execution_count": 3,
   "metadata": {},
   "outputs": [],
   "source": [
    "cols = [\"id\", \"id_str\", \"user_id\", \"user_screen_name\", \"text\",\"in_reply_to_status_id\",\n",
    "        \"in_reply_to_status_id_str\" ,\"in_reply_to_user_id\" ,\"in_reply_to_user_id_str\" ,\"in_reply_to_screen_name\",\n",
    "        \"rt_created_at\", \"rt_in_reply_to_status_id\", \"rt_in_reply_to_user_id\", \"rt_id\", \"rt_user_id\", \"rt_created_at\",\n",
    "        \"rt_user_screen_name\", \"quoted_status_id\" ,\"quoted_status_text\" ,\"quoted_status_created_at\", \"quoted_user_id\",\n",
    "        \"quoted_user_created_at\", \"hashtags\", \"user_mentions\", \"urls\", \"retweet_count\", \"created_at\"]"
   ]
  },
  {
   "cell_type": "code",
   "execution_count": 4,
   "metadata": {},
   "outputs": [],
   "source": [
    "# scores and credibility\n",
    "path =  glob.glob(\"F:/Supsi/COVID-19-Tweets/large_files/urls/\")\n",
    "scores = pd.read_csv(path[0] + \"sum_of_urls_df_all_months_with_score.csv\", low_memory=False, lineterminator=\"\\n\")\n",
    "scores = scores[scores[\"conspiracy_score\"].notna()]\n",
    "scores = scores[scores[\"number_of_urls\"]>=10]\n",
    "scores = scores.reset_index(drop=True)\n",
    "\n",
    "path_csv = glob.glob(\"C:/Users/gianl/Desktop/Gi/Supsi/BachelorProject/csv/\")\n",
    "credibility_url = pd.read_csv(path_csv[0] + \"domain_credibility.csv\")\n",
    "bad_dozen_list = pd.read_csv(path_csv[0] + \"disinformation_users.csv\")\n",
    "good_dozen_list = pd.read_csv(path_csv[0] + \"good_dozen.csv\")\n",
    "good_users_list = pd.read_csv(path_csv[0] + \"all_good_users.csv\", low_memory=False, lineterminator=\"\\n\")\n",
    "bad_fbme = pd.read_csv(path_csv[0] + \"bad_fbme_decompress.csv\", lineterminator=\"\\n\")\n",
    "\n",
    "path_ccdh =  glob.glob(\"F:/Supsi/COVID-19-Tweets/large_files/ccdh/\")\n",
    "df_good_users_interactions = pd.read_csv(path_ccdh[0] + \"all_good.csv\", low_memory=False, lineterminator=\"\\n\")\n",
    "df_bad_dozen_interactions = pd.read_csv(path_ccdh[0] + \"bad_dozen.csv\", low_memory=False, lineterminator=\"\\n\")\n",
    "\n",
    "df_bad_activity = df_bad_dozen_interactions[df_bad_dozen_interactions[\"user_screen_name\"].isin(list(bad_dozen_list[\"screen_name\"]))]\n",
    "df_good_activity = df_good_users_interactions[df_good_users_interactions[\"user_screen_name\"].isin(list(good_users_list[\"screen_name\"]))]"
   ]
  },
  {
   "cell_type": "markdown",
   "metadata": {},
   "source": [
    "### Reminder:\n",
    "\n",
    "<p> \n",
    "\n",
    "    df_good/bad_activity → DataFrame che contiene le attività attive delle due categorie (in cui sono loro ad effettuare qualcosa)\n",
    "\n",
    "    df_bad/good_dozen_interactions → interazioni attive e passive (ma mancano i retweet grossi)\n",
    "    \n",
    "</p>"
   ]
  },
  {
   "cell_type": "code",
   "execution_count": 5,
   "metadata": {},
   "outputs": [
    {
     "data": {
      "text/html": [
       "<div>\n",
       "<style scoped>\n",
       "    .dataframe tbody tr th:only-of-type {\n",
       "        vertical-align: middle;\n",
       "    }\n",
       "\n",
       "    .dataframe tbody tr th {\n",
       "        vertical-align: top;\n",
       "    }\n",
       "\n",
       "    .dataframe thead th {\n",
       "        text-align: right;\n",
       "    }\n",
       "</style>\n",
       "<table border=\"1\" class=\"dataframe\">\n",
       "  <thead>\n",
       "    <tr style=\"text-align: right;\">\n",
       "      <th></th>\n",
       "      <th>user</th>\n",
       "      <th>status</th>\n",
       "    </tr>\n",
       "  </thead>\n",
       "  <tbody>\n",
       "    <tr>\n",
       "      <th>0</th>\n",
       "      <td>KizzyPhD</td>\n",
       "      <td>verified</td>\n",
       "    </tr>\n",
       "    <tr>\n",
       "      <th>1</th>\n",
       "      <td>JuliaLMarcus</td>\n",
       "      <td>verified</td>\n",
       "    </tr>\n",
       "    <tr>\n",
       "      <th>2</th>\n",
       "      <td>KrutikaKuppalli</td>\n",
       "      <td>verified</td>\n",
       "    </tr>\n",
       "    <tr>\n",
       "      <th>3</th>\n",
       "      <td>gmleunghku</td>\n",
       "      <td>verified</td>\n",
       "    </tr>\n",
       "    <tr>\n",
       "      <th>4</th>\n",
       "      <td>DrMikeRyan</td>\n",
       "      <td>verified</td>\n",
       "    </tr>\n",
       "    <tr>\n",
       "      <th>...</th>\n",
       "      <td>...</td>\n",
       "      <td>...</td>\n",
       "    </tr>\n",
       "    <tr>\n",
       "      <th>94</th>\n",
       "      <td>johnbrownstein</td>\n",
       "      <td>verified</td>\n",
       "    </tr>\n",
       "    <tr>\n",
       "      <th>96</th>\n",
       "      <td>phylogenomics</td>\n",
       "      <td>verified</td>\n",
       "    </tr>\n",
       "    <tr>\n",
       "      <th>97</th>\n",
       "      <td>marcelsalathe</td>\n",
       "      <td>verified</td>\n",
       "    </tr>\n",
       "    <tr>\n",
       "      <th>98</th>\n",
       "      <td>neil_ferguson</td>\n",
       "      <td>verified</td>\n",
       "    </tr>\n",
       "    <tr>\n",
       "      <th>99</th>\n",
       "      <td>profvrr</td>\n",
       "      <td>verified</td>\n",
       "    </tr>\n",
       "  </tbody>\n",
       "</table>\n",
       "<p>80 rows × 2 columns</p>\n",
       "</div>"
      ],
      "text/plain": [
       "               user    status\n",
       "0          KizzyPhD  verified\n",
       "1      JuliaLMarcus  verified\n",
       "2   KrutikaKuppalli  verified\n",
       "3        gmleunghku  verified\n",
       "4        DrMikeRyan  verified\n",
       "..              ...       ...\n",
       "94   johnbrownstein  verified\n",
       "96    phylogenomics  verified\n",
       "97    marcelsalathe  verified\n",
       "98    neil_ferguson  verified\n",
       "99          profvrr  verified\n",
       "\n",
       "[80 rows x 2 columns]"
      ]
     },
     "execution_count": 5,
     "metadata": {},
     "output_type": "execute_result"
    }
   ],
   "source": [
    "x = pd.read_csv(\"F:/Supsi/COVID-19-Tweets/large_files/ccdh/new_good.csv\")\n",
    "new_good = x[x[\"status\"]==\"verified\"]\n",
    "new_users = list(new_good[\"user\"])\n",
    "new_good"
   ]
  },
  {
   "cell_type": "code",
   "execution_count": 6,
   "metadata": {},
   "outputs": [],
   "source": [
    "new_good_activity = df_good_activity[(df_good_activity['user_screen_name'].isin(new_users)) | \n",
    "                 (df_good_activity['in_reply_to_screen_name'].isin(new_users)) | \n",
    "                 (df_good_activity['rt_user_screen_name'].isin(new_users)) |\n",
    "                 (df_good_activity['quoted_user_created_at'].isin(new_users))]"
   ]
  },
  {
   "cell_type": "code",
   "execution_count": 17,
   "metadata": {},
   "outputs": [],
   "source": [
    "df_bad_split = tweets_utils.split_df(df_bad_activity)\n",
    "df_good_split = tweets_utils.split_df(new_good_activity)"
   ]
  },
  {
   "cell_type": "code",
   "execution_count": 24,
   "metadata": {},
   "outputs": [
    {
     "data": {
      "application/vnd.jupyter.widget-view+json": {
       "model_id": "04c2126300d14454ab13f26e97c2fa6c",
       "version_major": 2,
       "version_minor": 0
      },
      "text/plain": [
       "HBox(children=(HTML(value=''), FloatProgress(value=1.0, bar_style='info', layout=Layout(width='20px'), max=1.0…"
      ]
     },
     "metadata": {},
     "output_type": "display_data"
    },
    {
     "name": "stdout",
     "output_type": "stream",
     "text": [
      "\n"
     ]
    },
    {
     "data": {
      "application/vnd.jupyter.widget-view+json": {
       "model_id": "45cad77acdcb4c50869bfa976a63fa46",
       "version_major": 2,
       "version_minor": 0
      },
      "text/plain": [
       "HBox(children=(HTML(value=''), FloatProgress(value=1.0, bar_style='info', layout=Layout(width='20px'), max=1.0…"
      ]
     },
     "metadata": {},
     "output_type": "display_data"
    },
    {
     "name": "stdout",
     "output_type": "stream",
     "text": [
      "\n"
     ]
    }
   ],
   "source": [
    "# name = list(df_good_activity[\"user_screen_name\"])\n",
    "# # link = list(df_good_activity[\"urls\"])\n",
    "# hashtag = list(df_good_activity[\"hashtags\"])\n",
    "good_rt_in = pd.DataFrame()\n",
    "for chunk in tqdm(pd.read_csv(path_ccdh[0] + \"good_dozen_rt.csv\", lineterminator='\\n', \n",
    "                         low_memory=False, usecols=cols, chunksize=int(1e6))):\n",
    "    good_rt_in = good_rt_in.append(chunk)\n",
    "    \n",
    "new_good_rt_in = good_rt_in[(good_rt_in['rt_user_screen_name'].isin(new_users)) |\n",
    "                 (good_rt_in['quoted_user_created_at'].isin(new_users))]    \n",
    "    \n",
    "bad_rt_in = pd.DataFrame()\n",
    "for chunk in tqdm(pd.read_csv(path_ccdh[0] + \"bad_dozen_rt_ricevuti.csv\", lineterminator='\\n', \n",
    "                         low_memory=False, usecols=cols, chunksize=int(1e6))):\n",
    "    bad_rt_in = bad_rt_in.append(chunk)\n",
    "    \n",
    "#     link.extend(list(chunk[\"urls\"]))\n",
    "#      hashtag.extend(list(chunk[\"hashtags\"]))\n",
    "#     name.extend(list(chunk[\"user_screen_name\"]))"
   ]
  },
  {
   "cell_type": "code",
   "execution_count": 19,
   "metadata": {},
   "outputs": [
    {
     "name": "stdout",
     "output_type": "stream",
     "text": [
      "Number of total tweets: 19159\n",
      "Number of original tweets: 13182\n",
      "Number of retweets: 2834\n",
      "Number of replies: 1622\n",
      "Number of quotes: 1521\n",
      "Number of original_tweets: 68.8% of total tweets\n",
      "Number of retweets: 14.79% of total tweets\n",
      "Number of replies: 8.47% of total tweets\n",
      "Number of quotes: 7.94% of total tweets\n",
      "Check sum == len(tweets):  True\n"
     ]
    },
    {
     "data": {
      "image/png": "[encoded data removed]",
      "text/plain": [
       "<Figure size 720x504 with 1 Axes>"
      ]
     },
     "metadata": {},
     "output_type": "display_data"
    }
   ],
   "source": [
    "original_bad = df_bad_split[\"original\"]\n",
    "quote_bad = df_bad_split[\"quote\"]\n",
    "retweet_bad = df_bad_split[\"retweet\"]\n",
    "reply_bad = df_bad_split[\"reply\"]\n",
    "mentions_bad = df_bad_split[\"original_mention\"]\n",
    "reply_status_bad = df_bad_split['reply_to_status']\n",
    "retweet_original_bad = df_bad_split['rt_original']\n",
    "retweet_reply_bad = df_bad_split['rt_in_reply']\n",
    "retweet_mention_bad = df_bad_split['rt_mention']\n",
    "quote_original_bad = df_bad_split['quote_original']\n",
    "quote_reply_bad = df_bad_split['quote_reply']\n",
    "quote_mention_bad = df_bad_split['quote_mention']\n",
    "total_len_bad = len(df_bad_activity) \n",
    "len_quote_bad = len(quote_bad)\n",
    "len_original_bad = len(original_bad)\n",
    "len_rt_bad = len(retweet_bad)\n",
    "len_rp_bad = len(reply_bad)\n",
    "len_mentions_bad = len(mentions_bad)\n",
    "len_reply_status_bad = len(reply_status_bad)\n",
    "len_retweet_original_bad = len(retweet_original_bad)\n",
    "len_retweet_reply_bad = len(retweet_reply_bad)\n",
    "len_retweet_mention_bad = len(retweet_mention_bad)\n",
    "len_quote_original_bad = len(quote_original_bad)\n",
    "len_quote_reply_bad = len(quote_reply_bad)\n",
    "len_quote_mention_bad = len(quote_mention_bad)\n",
    "tweets_utils.stats(total_len_bad, len_original_bad, len_rt_bad, len_rp_bad, len_quote_bad)\n",
    "tweets_utils.print_pie_chart4(\"Bad Dozen tweets\", \"Original\", \"Retweet\", \"Reply\", \"Quote\", len_original_bad, len_rt_bad, len_rp_bad, len_quote_bad)"
   ]
  },
  {
   "cell_type": "code",
   "execution_count": 22,
   "metadata": {},
   "outputs": [
    {
     "name": "stdout",
     "output_type": "stream",
     "text": [
      "Number of total tweets: 247339\n",
      "Number of original tweets: 40721\n",
      "Number of retweets: 103565\n",
      "Number of replies: 77621\n",
      "Number of quotes: 25432\n",
      "Number of original_tweets: 16.46% of total tweets\n",
      "Number of retweets: 41.87% of total tweets\n",
      "Number of replies: 31.38% of total tweets\n",
      "Number of quotes: 10.28% of total tweets\n",
      "Check sum == len(tweets):  True\n"
     ]
    },
    {
     "data": {
      "image/png": "[encoded data removed]",
      "text/plain": [
       "<Figure size 720x504 with 1 Axes>"
      ]
     },
     "metadata": {},
     "output_type": "display_data"
    }
   ],
   "source": [
    "original_good = df_good_split[\"original\"]\n",
    "quote_good = df_good_split[\"quote\"]\n",
    "retweet_good = df_good_split[\"retweet\"]\n",
    "reply_good = df_good_split[\"reply\"]\n",
    "mentions_good = df_good_split[\"original_mention\"]\n",
    "reply_status_good = df_good_split['reply_to_status']\n",
    "retweet_original_good = df_good_split['rt_original']\n",
    "retweet_reply_good = df_good_split['rt_in_reply']\n",
    "retweet_mention_good = df_good_split['rt_mention']\n",
    "quote_original_good = df_good_split['quote_original']\n",
    "quote_reply_good = df_good_split['quote_reply']\n",
    "quote_mention_good = df_good_split['quote_mention']\n",
    "total_len_good = len(new_good_activity) \n",
    "len_quote_good = len(quote_good)\n",
    "len_original_good = len(original_good)\n",
    "len_rt_good = len(retweet_good)\n",
    "len_rp_good = len(reply_good)\n",
    "len_mentions_good = len(mentions_good)\n",
    "len_reply_status_good = len(reply_status_good)\n",
    "len_retweet_original_good = len(retweet_original_good)\n",
    "len_retweet_reply_good = len(retweet_reply_good)\n",
    "len_retweet_mention_good = len(retweet_mention_good)\n",
    "len_quote_original_good = len(quote_original_good)\n",
    "len_quote_reply_good = len(quote_reply_good)\n",
    "len_quote_mention_good = len(quote_mention_good)\n",
    "tweets_utils.stats(total_len_good, len_original_good, len_rt_good, len_rp_good, len_quote_good)\n",
    "tweets_utils.print_pie_chart4(\"Good Users tweets\", \"Original\", \"Retweet\", \"Reply\", \"Quote\", len_original_good, len_rt_good, len_rp_good, len_quote_good)"
   ]
  },
  {
   "cell_type": "markdown",
   "metadata": {},
   "source": [
    "# Stats\n",
    "<a id=\"c_stats\"/>"
   ]
  },
  {
   "cell_type": "code",
   "execution_count": 23,
   "metadata": {},
   "outputs": [
    {
     "data": {
      "application/vnd.plotly.v1+json": {
       "config": {
        "plotlyServerURL": "https://plot.ly"
       },
       "data": [
        {
         "histfunc": "sum",
         "name": "Bad",
         "type": "histogram",
         "x": [
          "Original",
          "Retweet",
          "Reply",
          "Quote"
         ],
         "y": [
          0.6880317344329036,
          0.1479200375802495,
          0.0846599509368965,
          0.07938827704995041
         ]
        },
        {
         "histfunc": "sum",
         "name": "Good",
         "type": "histogram",
         "x": [
          "Original",
          "Retweet",
          "Reply",
          "Quote"
         ],
         "y": [
          0.1646363897323107,
          0.41871682185179043,
          0.31382434634246925,
          0.10282244207342958
         ]
        }
       ],
       "layout": {
        "legend": {
         "title": {
          "text": "Legend"
         }
        },
        "template": {
         "data": {
          "bar": [
           {
            "error_x": {
             "color": "#2a3f5f"
            },
            "error_y": {
             "color": "#2a3f5f"
            },
            "marker": {
             "line": {
              "color": "#E5ECF6",
              "width": 0.5
             },
             "pattern": {
              "fillmode": "overlay",
              "size": 10,
              "solidity": 0.2
             }
            },
            "type": "bar"
           }
          ],
          "barpolar": [
           {
            "marker": {
             "line": {
              "color": "#E5ECF6",
              "width": 0.5
             },
             "pattern": {
              "fillmode": "overlay",
              "size": 10,
              "solidity": 0.2
             }
            },
            "type": "barpolar"
           }
          ],
          "carpet": [
           {
            "aaxis": {
             "endlinecolor": "#2a3f5f",
             "gridcolor": "white",
             "linecolor": "white",
             "minorgridcolor": "white",
             "startlinecolor": "#2a3f5f"
            },
            "baxis": {
             "endlinecolor": "#2a3f5f",
             "gridcolor": "white",
             "linecolor": "white",
             "minorgridcolor": "white",
             "startlinecolor": "#2a3f5f"
            },
            "type": "carpet"
           }
          ],
          "choropleth": [
           {
            "colorbar": {
             "outlinewidth": 0,
             "ticks": ""
            },
            "type": "choropleth"
           }
          ],
          "contour": [
           {
            "colorbar": {
             "outlinewidth": 0,
             "ticks": ""
            },
            "colorscale": [
             [
              0,
              "#0d0887"
             ],
             [
              0.1111111111111111,
              "#46039f"
             ],
             [
              0.2222222222222222,
              "#7201a8"
             ],
             [
              0.3333333333333333,
              "#9c179e"
             ],
             [
              0.4444444444444444,
              "#bd3786"
             ],
             [
              0.5555555555555556,
              "#d8576b"
             ],
             [
              0.6666666666666666,
              "#ed7953"
             ],
             [
              0.7777777777777778,
              "#fb9f3a"
             ],
             [
              0.8888888888888888,
              "#fdca26"
             ],
             [
              1,
              "#f0f921"
             ]
            ],
            "type": "contour"
           }
          ],
          "contourcarpet": [
           {
            "colorbar": {
             "outlinewidth": 0,
             "ticks": ""
            },
            "type": "contourcarpet"
           }
          ],
          "heatmap": [
           {
            "colorbar": {
             "outlinewidth": 0,
             "ticks": ""
            },
            "colorscale": [
             [
              0,
              "#0d0887"
             ],
             [
              0.1111111111111111,
              "#46039f"
             ],
             [
              0.2222222222222222,
              "#7201a8"
             ],
             [
              0.3333333333333333,
              "#9c179e"
             ],
             [
              0.4444444444444444,
              "#bd3786"
             ],
             [
              0.5555555555555556,
              "#d8576b"
             ],
             [
              0.6666666666666666,
              "#ed7953"
             ],
             [
              0.7777777777777778,
              "#fb9f3a"
             ],
             [
              0.8888888888888888,
              "#fdca26"
             ],
             [
              1,
              "#f0f921"
             ]
            ],
            "type": "heatmap"
           }
          ],
          "heatmapgl": [
           {
            "colorbar": {
             "outlinewidth": 0,
             "ticks": ""
            },
            "colorscale": [
             [
              0,
              "#0d0887"
             ],
             [
              0.1111111111111111,
              "#46039f"
             ],
             [
              0.2222222222222222,
              "#7201a8"
             ],
             [
              0.3333333333333333,
              "#9c179e"
             ],
             [
              0.4444444444444444,
              "#bd3786"
             ],
             [
              0.5555555555555556,
              "#d8576b"
             ],
             [
              0.6666666666666666,
              "#ed7953"
             ],
             [
              0.7777777777777778,
              "#fb9f3a"
             ],
             [
              0.8888888888888888,
              "#fdca26"
             ],
             [
              1,
              "#f0f921"
             ]
            ],
            "type": "heatmapgl"
           }
          ],
          "histogram": [
           {
            "marker": {
             "pattern": {
              "fillmode": "overlay",
              "size": 10,
              "solidity": 0.2
             }
            },
            "type": "histogram"
           }
          ],
          "histogram2d": [
           {
            "colorbar": {
             "outlinewidth": 0,
             "ticks": ""
            },
            "colorscale": [
             [
              0,
              "#0d0887"
             ],
             [
              0.1111111111111111,
              "#46039f"
             ],
             [
              0.2222222222222222,
              "#7201a8"
             ],
             [
              0.3333333333333333,
              "#9c179e"
             ],
             [
              0.4444444444444444,
              "#bd3786"
             ],
             [
              0.5555555555555556,
              "#d8576b"
             ],
             [
              0.6666666666666666,
              "#ed7953"
             ],
             [
              0.7777777777777778,
              "#fb9f3a"
             ],
             [
              0.8888888888888888,
              "#fdca26"
             ],
             [
              1,
              "#f0f921"
             ]
            ],
            "type": "histogram2d"
           }
          ],
          "histogram2dcontour": [
           {
            "colorbar": {
             "outlinewidth": 0,
             "ticks": ""
            },
            "colorscale": [
             [
              0,
              "#0d0887"
             ],
             [
              0.1111111111111111,
              "#46039f"
             ],
             [
              0.2222222222222222,
              "#7201a8"
             ],
             [
              0.3333333333333333,
              "#9c179e"
             ],
             [
              0.4444444444444444,
              "#bd3786"
             ],
             [
              0.5555555555555556,
              "#d8576b"
             ],
             [
              0.6666666666666666,
              "#ed7953"
             ],
             [
              0.7777777777777778,
              "#fb9f3a"
             ],
             [
              0.8888888888888888,
              "#fdca26"
             ],
             [
              1,
              "#f0f921"
             ]
            ],
            "type": "histogram2dcontour"
           }
          ],
          "mesh3d": [
           {
            "colorbar": {
             "outlinewidth": 0,
             "ticks": ""
            },
            "type": "mesh3d"
           }
          ],
          "parcoords": [
           {
            "line": {
             "colorbar": {
              "outlinewidth": 0,
              "ticks": ""
             }
            },
            "type": "parcoords"
           }
          ],
          "pie": [
           {
            "automargin": true,
            "type": "pie"
           }
          ],
          "scatter": [
           {
            "marker": {
             "colorbar": {
              "outlinewidth": 0,
              "ticks": ""
             }
            },
            "type": "scatter"
           }
          ],
          "scatter3d": [
           {
            "line": {
             "colorbar": {
              "outlinewidth": 0,
              "ticks": ""
             }
            },
            "marker": {
             "colorbar": {
              "outlinewidth": 0,
              "ticks": ""
             }
            },
            "type": "scatter3d"
           }
          ],
          "scattercarpet": [
           {
            "marker": {
             "colorbar": {
              "outlinewidth": 0,
              "ticks": ""
             }
            },
            "type": "scattercarpet"
           }
          ],
          "scattergeo": [
           {
            "marker": {
             "colorbar": {
              "outlinewidth": 0,
              "ticks": ""
             }
            },
            "type": "scattergeo"
           }
          ],
          "scattergl": [
           {
            "marker": {
             "colorbar": {
              "outlinewidth": 0,
              "ticks": ""
             }
            },
            "type": "scattergl"
           }
          ],
          "scattermapbox": [
           {
            "marker": {
             "colorbar": {
              "outlinewidth": 0,
              "ticks": ""
             }
            },
            "type": "scattermapbox"
           }
          ],
          "scatterpolar": [
           {
            "marker": {
             "colorbar": {
              "outlinewidth": 0,
              "ticks": ""
             }
            },
            "type": "scatterpolar"
           }
          ],
          "scatterpolargl": [
           {
            "marker": {
             "colorbar": {
              "outlinewidth": 0,
              "ticks": ""
             }
            },
            "type": "scatterpolargl"
           }
          ],
          "scatterternary": [
           {
            "marker": {
             "colorbar": {
              "outlinewidth": 0,
              "ticks": ""
             }
            },
            "type": "scatterternary"
           }
          ],
          "surface": [
           {
            "colorbar": {
             "outlinewidth": 0,
             "ticks": ""
            },
            "colorscale": [
             [
              0,
              "#0d0887"
             ],
             [
              0.1111111111111111,
              "#46039f"
             ],
             [
              0.2222222222222222,
              "#7201a8"
             ],
             [
              0.3333333333333333,
              "#9c179e"
             ],
             [
              0.4444444444444444,
              "#bd3786"
             ],
             [
              0.5555555555555556,
              "#d8576b"
             ],
             [
              0.6666666666666666,
              "#ed7953"
             ],
             [
              0.7777777777777778,
              "#fb9f3a"
             ],
             [
              0.8888888888888888,
              "#fdca26"
             ],
             [
              1,
              "#f0f921"
             ]
            ],
            "type": "surface"
           }
          ],
          "table": [
           {
            "cells": {
             "fill": {
              "color": "#EBF0F8"
             },
             "line": {
              "color": "white"
             }
            },
            "header": {
             "fill": {
              "color": "#C8D4E3"
             },
             "line": {
              "color": "white"
             }
            },
            "type": "table"
           }
          ]
         },
         "layout": {
          "annotationdefaults": {
           "arrowcolor": "#2a3f5f",
           "arrowhead": 0,
           "arrowwidth": 1
          },
          "autotypenumbers": "strict",
          "coloraxis": {
           "colorbar": {
            "outlinewidth": 0,
            "ticks": ""
           }
          },
          "colorscale": {
           "diverging": [
            [
             0,
             "#8e0152"
            ],
            [
             0.1,
             "#c51b7d"
            ],
            [
             0.2,
             "#de77ae"
            ],
            [
             0.3,
             "#f1b6da"
            ],
            [
             0.4,
             "#fde0ef"
            ],
            [
             0.5,
             "#f7f7f7"
            ],
            [
             0.6,
             "#e6f5d0"
            ],
            [
             0.7,
             "#b8e186"
            ],
            [
             0.8,
             "#7fbc41"
            ],
            [
             0.9,
             "#4d9221"
            ],
            [
             1,
             "#276419"
            ]
           ],
           "sequential": [
            [
             0,
             "#0d0887"
            ],
            [
             0.1111111111111111,
             "#46039f"
            ],
            [
             0.2222222222222222,
             "#7201a8"
            ],
            [
             0.3333333333333333,
             "#9c179e"
            ],
            [
             0.4444444444444444,
             "#bd3786"
            ],
            [
             0.5555555555555556,
             "#d8576b"
            ],
            [
             0.6666666666666666,
             "#ed7953"
            ],
            [
             0.7777777777777778,
             "#fb9f3a"
            ],
            [
             0.8888888888888888,
             "#fdca26"
            ],
            [
             1,
             "#f0f921"
            ]
           ],
           "sequentialminus": [
            [
             0,
             "#0d0887"
            ],
            [
             0.1111111111111111,
             "#46039f"
            ],
            [
             0.2222222222222222,
             "#7201a8"
            ],
            [
             0.3333333333333333,
             "#9c179e"
            ],
            [
             0.4444444444444444,
             "#bd3786"
            ],
            [
             0.5555555555555556,
             "#d8576b"
            ],
            [
             0.6666666666666666,
             "#ed7953"
            ],
            [
             0.7777777777777778,
             "#fb9f3a"
            ],
            [
             0.8888888888888888,
             "#fdca26"
            ],
            [
             1,
             "#f0f921"
            ]
           ]
          },
          "colorway": [
           "#636efa",
           "#EF553B",
           "#00cc96",
           "#ab63fa",
           "#FFA15A",
           "#19d3f3",
           "#FF6692",
           "#B6E880",
           "#FF97FF",
           "#FECB52"
          ],
          "font": {
           "color": "#2a3f5f"
          },
          "geo": {
           "bgcolor": "white",
           "lakecolor": "white",
           "landcolor": "#E5ECF6",
           "showlakes": true,
           "showland": true,
           "subunitcolor": "white"
          },
          "hoverlabel": {
           "align": "left"
          },
          "hovermode": "closest",
          "mapbox": {
           "style": "light"
          },
          "paper_bgcolor": "white",
          "plot_bgcolor": "#E5ECF6",
          "polar": {
           "angularaxis": {
            "gridcolor": "white",
            "linecolor": "white",
            "ticks": ""
           },
           "bgcolor": "#E5ECF6",
           "radialaxis": {
            "gridcolor": "white",
            "linecolor": "white",
            "ticks": ""
           }
          },
          "scene": {
           "xaxis": {
            "backgroundcolor": "#E5ECF6",
            "gridcolor": "white",
            "gridwidth": 2,
            "linecolor": "white",
            "showbackground": true,
            "ticks": "",
            "zerolinecolor": "white"
           },
           "yaxis": {
            "backgroundcolor": "#E5ECF6",
            "gridcolor": "white",
            "gridwidth": 2,
            "linecolor": "white",
            "showbackground": true,
            "ticks": "",
            "zerolinecolor": "white"
           },
           "zaxis": {
            "backgroundcolor": "#E5ECF6",
            "gridcolor": "white",
            "gridwidth": 2,
            "linecolor": "white",
            "showbackground": true,
            "ticks": "",
            "zerolinecolor": "white"
           }
          },
          "shapedefaults": {
           "line": {
            "color": "#2a3f5f"
           }
          },
          "ternary": {
           "aaxis": {
            "gridcolor": "white",
            "linecolor": "white",
            "ticks": ""
           },
           "baxis": {
            "gridcolor": "white",
            "linecolor": "white",
            "ticks": ""
           },
           "bgcolor": "#E5ECF6",
           "caxis": {
            "gridcolor": "white",
            "linecolor": "white",
            "ticks": ""
           }
          },
          "title": {
           "x": 0.05
          },
          "xaxis": {
           "automargin": true,
           "gridcolor": "white",
           "linecolor": "white",
           "ticks": "",
           "title": {
            "standoff": 15
           },
           "zerolinecolor": "white",
           "zerolinewidth": 2
          },
          "yaxis": {
           "automargin": true,
           "gridcolor": "white",
           "linecolor": "white",
           "ticks": "",
           "title": {
            "standoff": 15
           },
           "zerolinecolor": "white",
           "zerolinewidth": 2
          }
         }
        },
        "title": {
         "text": "Differences between Bad Dozen and Good Users activity"
        },
        "xaxis": {
         "title": {
          "text": "Kind of activity"
         }
        },
        "yaxis": {
         "title": {
          "text": "Percentage of activity"
         }
        }
       }
      },
      "text/html": [
       "<div>                            <div id=\"c039c4e7-0ba1-42db-8ed3-bf36ce3c75fa\" class=\"plotly-graph-div\" style=\"height:525px; width:100%;\"></div>            <script type=\"text/javascript\">                require([\"plotly\"], function(Plotly) {                    window.PLOTLYENV=window.PLOTLYENV || {};                                    if (document.getElementById(\"c039c4e7-0ba1-42db-8ed3-bf36ce3c75fa\")) {                    Plotly.newPlot(                        \"c039c4e7-0ba1-42db-8ed3-bf36ce3c75fa\",                        [{\"histfunc\":\"sum\",\"name\":\"Bad\",\"type\":\"histogram\",\"x\":[\"Original\",\"Retweet\",\"Reply\",\"Quote\"],\"y\":[0.6880317344329036,0.1479200375802495,0.0846599509368965,0.07938827704995041]},{\"histfunc\":\"sum\",\"name\":\"Good\",\"type\":\"histogram\",\"x\":[\"Original\",\"Retweet\",\"Reply\",\"Quote\"],\"y\":[0.1646363897323107,0.41871682185179043,0.31382434634246925,0.10282244207342958]}],                        {\"legend\":{\"title\":{\"text\":\"Legend\"}},\"template\":{\"data\":{\"bar\":[{\"error_x\":{\"color\":\"#2a3f5f\"},\"error_y\":{\"color\":\"#2a3f5f\"},\"marker\":{\"line\":{\"color\":\"#E5ECF6\",\"width\":0.5},\"pattern\":{\"fillmode\":\"overlay\",\"size\":10,\"solidity\":0.2}},\"type\":\"bar\"}],\"barpolar\":[{\"marker\":{\"line\":{\"color\":\"#E5ECF6\",\"width\":0.5},\"pattern\":{\"fillmode\":\"overlay\",\"size\":10,\"solidity\":0.2}},\"type\":\"barpolar\"}],\"carpet\":[{\"aaxis\":{\"endlinecolor\":\"#2a3f5f\",\"gridcolor\":\"white\",\"linecolor\":\"white\",\"minorgridcolor\":\"white\",\"startlinecolor\":\"#2a3f5f\"},\"baxis\":{\"endlinecolor\":\"#2a3f5f\",\"gridcolor\":\"white\",\"linecolor\":\"white\",\"minorgridcolor\":\"white\",\"startlinecolor\":\"#2a3f5f\"},\"type\":\"carpet\"}],\"choropleth\":[{\"colorbar\":{\"outlinewidth\":0,\"ticks\":\"\"},\"type\":\"choropleth\"}],\"contour\":[{\"colorbar\":{\"outlinewidth\":0,\"ticks\":\"\"},\"colorscale\":[[0.0,\"#0d0887\"],[0.1111111111111111,\"#46039f\"],[0.2222222222222222,\"#7201a8\"],[0.3333333333333333,\"#9c179e\"],[0.4444444444444444,\"#bd3786\"],[0.5555555555555556,\"#d8576b\"],[0.6666666666666666,\"#ed7953\"],[0.7777777777777778,\"#fb9f3a\"],[0.8888888888888888,\"#fdca26\"],[1.0,\"#f0f921\"]],\"type\":\"contour\"}],\"contourcarpet\":[{\"colorbar\":{\"outlinewidth\":0,\"ticks\":\"\"},\"type\":\"contourcarpet\"}],\"heatmap\":[{\"colorbar\":{\"outlinewidth\":0,\"ticks\":\"\"},\"colorscale\":[[0.0,\"#0d0887\"],[0.1111111111111111,\"#46039f\"],[0.2222222222222222,\"#7201a8\"],[0.3333333333333333,\"#9c179e\"],[0.4444444444444444,\"#bd3786\"],[0.5555555555555556,\"#d8576b\"],[0.6666666666666666,\"#ed7953\"],[0.7777777777777778,\"#fb9f3a\"],[0.8888888888888888,\"#fdca26\"],[1.0,\"#f0f921\"]],\"type\":\"heatmap\"}],\"heatmapgl\":[{\"colorbar\":{\"outlinewidth\":0,\"ticks\":\"\"},\"colorscale\":[[0.0,\"#0d0887\"],[0.1111111111111111,\"#46039f\"],[0.2222222222222222,\"#7201a8\"],[0.3333333333333333,\"#9c179e\"],[0.4444444444444444,\"#bd3786\"],[0.5555555555555556,\"#d8576b\"],[0.6666666666666666,\"#ed7953\"],[0.7777777777777778,\"#fb9f3a\"],[0.8888888888888888,\"#fdca26\"],[1.0,\"#f0f921\"]],\"type\":\"heatmapgl\"}],\"histogram\":[{\"marker\":{\"pattern\":{\"fillmode\":\"overlay\",\"size\":10,\"solidity\":0.2}},\"type\":\"histogram\"}],\"histogram2d\":[{\"colorbar\":{\"outlinewidth\":0,\"ticks\":\"\"},\"colorscale\":[[0.0,\"#0d0887\"],[0.1111111111111111,\"#46039f\"],[0.2222222222222222,\"#7201a8\"],[0.3333333333333333,\"#9c179e\"],[0.4444444444444444,\"#bd3786\"],[0.5555555555555556,\"#d8576b\"],[0.6666666666666666,\"#ed7953\"],[0.7777777777777778,\"#fb9f3a\"],[0.8888888888888888,\"#fdca26\"],[1.0,\"#f0f921\"]],\"type\":\"histogram2d\"}],\"histogram2dcontour\":[{\"colorbar\":{\"outlinewidth\":0,\"ticks\":\"\"},\"colorscale\":[[0.0,\"#0d0887\"],[0.1111111111111111,\"#46039f\"],[0.2222222222222222,\"#7201a8\"],[0.3333333333333333,\"#9c179e\"],[0.4444444444444444,\"#bd3786\"],[0.5555555555555556,\"#d8576b\"],[0.6666666666666666,\"#ed7953\"],[0.7777777777777778,\"#fb9f3a\"],[0.8888888888888888,\"#fdca26\"],[1.0,\"#f0f921\"]],\"type\":\"histogram2dcontour\"}],\"mesh3d\":[{\"colorbar\":{\"outlinewidth\":0,\"ticks\":\"\"},\"type\":\"mesh3d\"}],\"parcoords\":[{\"line\":{\"colorbar\":{\"outlinewidth\":0,\"ticks\":\"\"}},\"type\":\"parcoords\"}],\"pie\":[{\"automargin\":true,\"type\":\"pie\"}],\"scatter\":[{\"marker\":{\"colorbar\":{\"outlinewidth\":0,\"ticks\":\"\"}},\"type\":\"scatter\"}],\"scatter3d\":[{\"line\":{\"colorbar\":{\"outlinewidth\":0,\"ticks\":\"\"}},\"marker\":{\"colorbar\":{\"outlinewidth\":0,\"ticks\":\"\"}},\"type\":\"scatter3d\"}],\"scattercarpet\":[{\"marker\":{\"colorbar\":{\"outlinewidth\":0,\"ticks\":\"\"}},\"type\":\"scattercarpet\"}],\"scattergeo\":[{\"marker\":{\"colorbar\":{\"outlinewidth\":0,\"ticks\":\"\"}},\"type\":\"scattergeo\"}],\"scattergl\":[{\"marker\":{\"colorbar\":{\"outlinewidth\":0,\"ticks\":\"\"}},\"type\":\"scattergl\"}],\"scattermapbox\":[{\"marker\":{\"colorbar\":{\"outlinewidth\":0,\"ticks\":\"\"}},\"type\":\"scattermapbox\"}],\"scatterpolar\":[{\"marker\":{\"colorbar\":{\"outlinewidth\":0,\"ticks\":\"\"}},\"type\":\"scatterpolar\"}],\"scatterpolargl\":[{\"marker\":{\"colorbar\":{\"outlinewidth\":0,\"ticks\":\"\"}},\"type\":\"scatterpolargl\"}],\"scatterternary\":[{\"marker\":{\"colorbar\":{\"outlinewidth\":0,\"ticks\":\"\"}},\"type\":\"scatterternary\"}],\"surface\":[{\"colorbar\":{\"outlinewidth\":0,\"ticks\":\"\"},\"colorscale\":[[0.0,\"#0d0887\"],[0.1111111111111111,\"#46039f\"],[0.2222222222222222,\"#7201a8\"],[0.3333333333333333,\"#9c179e\"],[0.4444444444444444,\"#bd3786\"],[0.5555555555555556,\"#d8576b\"],[0.6666666666666666,\"#ed7953\"],[0.7777777777777778,\"#fb9f3a\"],[0.8888888888888888,\"#fdca26\"],[1.0,\"#f0f921\"]],\"type\":\"surface\"}],\"table\":[{\"cells\":{\"fill\":{\"color\":\"#EBF0F8\"},\"line\":{\"color\":\"white\"}},\"header\":{\"fill\":{\"color\":\"#C8D4E3\"},\"line\":{\"color\":\"white\"}},\"type\":\"table\"}]},\"layout\":{\"annotationdefaults\":{\"arrowcolor\":\"#2a3f5f\",\"arrowhead\":0,\"arrowwidth\":1},\"autotypenumbers\":\"strict\",\"coloraxis\":{\"colorbar\":{\"outlinewidth\":0,\"ticks\":\"\"}},\"colorscale\":{\"diverging\":[[0,\"#8e0152\"],[0.1,\"#c51b7d\"],[0.2,\"#de77ae\"],[0.3,\"#f1b6da\"],[0.4,\"#fde0ef\"],[0.5,\"#f7f7f7\"],[0.6,\"#e6f5d0\"],[0.7,\"#b8e186\"],[0.8,\"#7fbc41\"],[0.9,\"#4d9221\"],[1,\"#276419\"]],\"sequential\":[[0.0,\"#0d0887\"],[0.1111111111111111,\"#46039f\"],[0.2222222222222222,\"#7201a8\"],[0.3333333333333333,\"#9c179e\"],[0.4444444444444444,\"#bd3786\"],[0.5555555555555556,\"#d8576b\"],[0.6666666666666666,\"#ed7953\"],[0.7777777777777778,\"#fb9f3a\"],[0.8888888888888888,\"#fdca26\"],[1.0,\"#f0f921\"]],\"sequentialminus\":[[0.0,\"#0d0887\"],[0.1111111111111111,\"#46039f\"],[0.2222222222222222,\"#7201a8\"],[0.3333333333333333,\"#9c179e\"],[0.4444444444444444,\"#bd3786\"],[0.5555555555555556,\"#d8576b\"],[0.6666666666666666,\"#ed7953\"],[0.7777777777777778,\"#fb9f3a\"],[0.8888888888888888,\"#fdca26\"],[1.0,\"#f0f921\"]]},\"colorway\":[\"#636efa\",\"#EF553B\",\"#00cc96\",\"#ab63fa\",\"#FFA15A\",\"#19d3f3\",\"#FF6692\",\"#B6E880\",\"#FF97FF\",\"#FECB52\"],\"font\":{\"color\":\"#2a3f5f\"},\"geo\":{\"bgcolor\":\"white\",\"lakecolor\":\"white\",\"landcolor\":\"#E5ECF6\",\"showlakes\":true,\"showland\":true,\"subunitcolor\":\"white\"},\"hoverlabel\":{\"align\":\"left\"},\"hovermode\":\"closest\",\"mapbox\":{\"style\":\"light\"},\"paper_bgcolor\":\"white\",\"plot_bgcolor\":\"#E5ECF6\",\"polar\":{\"angularaxis\":{\"gridcolor\":\"white\",\"linecolor\":\"white\",\"ticks\":\"\"},\"bgcolor\":\"#E5ECF6\",\"radialaxis\":{\"gridcolor\":\"white\",\"linecolor\":\"white\",\"ticks\":\"\"}},\"scene\":{\"xaxis\":{\"backgroundcolor\":\"#E5ECF6\",\"gridcolor\":\"white\",\"gridwidth\":2,\"linecolor\":\"white\",\"showbackground\":true,\"ticks\":\"\",\"zerolinecolor\":\"white\"},\"yaxis\":{\"backgroundcolor\":\"#E5ECF6\",\"gridcolor\":\"white\",\"gridwidth\":2,\"linecolor\":\"white\",\"showbackground\":true,\"ticks\":\"\",\"zerolinecolor\":\"white\"},\"zaxis\":{\"backgroundcolor\":\"#E5ECF6\",\"gridcolor\":\"white\",\"gridwidth\":2,\"linecolor\":\"white\",\"showbackground\":true,\"ticks\":\"\",\"zerolinecolor\":\"white\"}},\"shapedefaults\":{\"line\":{\"color\":\"#2a3f5f\"}},\"ternary\":{\"aaxis\":{\"gridcolor\":\"white\",\"linecolor\":\"white\",\"ticks\":\"\"},\"baxis\":{\"gridcolor\":\"white\",\"linecolor\":\"white\",\"ticks\":\"\"},\"bgcolor\":\"#E5ECF6\",\"caxis\":{\"gridcolor\":\"white\",\"linecolor\":\"white\",\"ticks\":\"\"}},\"title\":{\"x\":0.05},\"xaxis\":{\"automargin\":true,\"gridcolor\":\"white\",\"linecolor\":\"white\",\"ticks\":\"\",\"title\":{\"standoff\":15},\"zerolinecolor\":\"white\",\"zerolinewidth\":2},\"yaxis\":{\"automargin\":true,\"gridcolor\":\"white\",\"linecolor\":\"white\",\"ticks\":\"\",\"title\":{\"standoff\":15},\"zerolinecolor\":\"white\",\"zerolinewidth\":2}}},\"title\":{\"text\":\"Differences between Bad Dozen and Good Users activity\"},\"xaxis\":{\"title\":{\"text\":\"Kind of activity\"}},\"yaxis\":{\"title\":{\"text\":\"Percentage of activity\"}}},                        {\"responsive\": true}                    ).then(function(){\n",
       "                            \n",
       "var gd = document.getElementById('c039c4e7-0ba1-42db-8ed3-bf36ce3c75fa');\n",
       "var x = new MutationObserver(function (mutations, observer) {{\n",
       "        var display = window.getComputedStyle(gd).display;\n",
       "        if (!display || display === 'none') {{\n",
       "            console.log([gd, 'removed!']);\n",
       "            Plotly.purge(gd);\n",
       "            observer.disconnect();\n",
       "        }}\n",
       "}});\n",
       "\n",
       "// Listen for the removal of the full notebook cells\n",
       "var notebookContainer = gd.closest('#notebook-container');\n",
       "if (notebookContainer) {{\n",
       "    x.observe(notebookContainer, {childList: true});\n",
       "}}\n",
       "\n",
       "// Listen for the clearing of the current output cell\n",
       "var outputEl = gd.closest('.output');\n",
       "if (outputEl) {{\n",
       "    x.observe(outputEl, {childList: true});\n",
       "}}\n",
       "\n",
       "                        })                };                });            </script>        </div>"
      ]
     },
     "metadata": {},
     "output_type": "display_data"
    }
   ],
   "source": [
    "bad_values = [(len_original_bad/total_len_bad), (len_rt_bad/total_len_bad), (len_rp_bad/total_len_bad), (len_quote_bad/total_len_bad)]\n",
    "good_values = [len_original_good/total_len_good, len_rt_good/total_len_good, len_rp_good/total_len_good, len_quote_good/total_len_good]\n",
    "labels = [\"Original\", \"Retweet\", \"Reply\", \"Quote\"]\n",
    "\n",
    "fig = go.Figure()\n",
    "fig.add_trace(go.Histogram(histfunc=\"sum\", y=bad_values, x=labels, name=\"Bad\"))\n",
    "fig.add_trace(go.Histogram(histfunc=\"sum\", y=good_values, x=labels, name=\"Good\"))\n",
    "fig.update_layout(\n",
    "    title=\"Differences between Bad Dozen and Good Users activity\",\n",
    "    xaxis_title=\"Kind of activity\",\n",
    "    yaxis_title=\"Percentage of activity\",\n",
    "    legend_title=\"Legend\")\n",
    "fig.show()\n"
   ]
  },
  {
   "cell_type": "markdown",
   "metadata": {},
   "source": [
    "# Link shared by Dozen\n",
    "<a id=\"link_sh\"/>"
   ]
  },
  {
   "cell_type": "code",
   "execution_count": 7,
   "metadata": {},
   "outputs": [],
   "source": [
    "importlib.reload(tweets_utils)\n",
    "def substitute_compressed_url(df, flag = False, fbme = None, expanded_urls = expanded_urls):\n",
    "    df_urls = df.loc[df['urls'] != '[]']\n",
    "    df_urls = df.loc[df['urls'].notna()]\n",
    "    urls = df_urls[\"urls\"]\n",
    "    val = []\n",
    "    for i in urls:\n",
    "        if type(i) == float:\n",
    "            print(i)\n",
    "        else:\n",
    "            val.append(i)\n",
    "    val = [i for i in val if i != \"[]\"]\n",
    "    print(len(val))\n",
    "#     for i in val:\n",
    "#         print(i)\n",
    "#         print(type(i))\n",
    "#         print(i.split()[3])\n",
    "    val = [x.split()[3].translate({ord(\"'\"): None}).replace(\",\",\"\") for x in val]\n",
    "    df_urls = pd.DataFrame(val, columns=[\"urls\"])\n",
    "    df_merge = df_urls.merge(expanded_urls, how=\"left\", left_on=\"urls\", right_on=\"url\")\n",
    "    x = df_merge[df_merge[\"url\"].notna()]\n",
    "    if flag:\n",
    "        y = df_urls.merge(fbme, left_on=\"urls\", right_on=\"compressed\", how=\"left\")\n",
    "        y = y[y[\"compressed\"].notna()]\n",
    "        for index, row in tqdm(y.iterrows()):\n",
    "            df_urls.loc[df_urls[\"urls\"]==row[\"compressed\"], \"urls\"] = row[\"decompressed\"]\n",
    "    print(len(x))\n",
    "    for index, row in tqdm(x.iterrows()):\n",
    "        df_urls.loc[df_urls[\"urls\"]==row[\"url\"], \"urls\"] = row[\"expanded\"]\n",
    "    print(\"Beautify...\")\n",
    "    urls = df_urls[\"urls\"]\n",
    "    urls = [tweets_utils.url_decompress(v) for v in urls]\n",
    "    urls = tweets_utils.remove_www(urls)\n",
    "    return urls"
   ]
  },
  {
   "cell_type": "code",
   "execution_count": 8,
   "metadata": {
    "scrolled": true
   },
   "outputs": [
    {
     "name": "stdout",
     "output_type": "stream",
     "text": [
      "115246\n",
      "134\n"
     ]
    },
    {
     "data": {
      "application/vnd.jupyter.widget-view+json": {
       "model_id": "b71a947a57bf444a9cef624e913c74d3",
       "version_major": 2,
       "version_minor": 0
      },
      "text/plain": [
       "HBox(children=(HTML(value=''), FloatProgress(value=1.0, bar_style='info', layout=Layout(width='20px'), max=1.0…"
      ]
     },
     "metadata": {},
     "output_type": "display_data"
    },
    {
     "name": "stdout",
     "output_type": "stream",
     "text": [
      "\n",
      "Beautify...\n",
      "14890\n"
     ]
    },
    {
     "data": {
      "application/vnd.jupyter.widget-view+json": {
       "model_id": "455f3851d81d46b3b8607f22ea9085df",
       "version_major": 2,
       "version_minor": 0
      },
      "text/plain": [
       "HBox(children=(HTML(value=''), FloatProgress(value=1.0, bar_style='info', layout=Layout(width='20px'), max=1.0…"
      ]
     },
     "metadata": {},
     "output_type": "display_data"
    },
    {
     "name": "stdout",
     "output_type": "stream",
     "text": [
      "\n",
      "8\n"
     ]
    },
    {
     "data": {
      "application/vnd.jupyter.widget-view+json": {
       "model_id": "0457493d7e8940d9a97045019c6239b9",
       "version_major": 2,
       "version_minor": 0
      },
      "text/plain": [
       "HBox(children=(HTML(value=''), FloatProgress(value=1.0, bar_style='info', layout=Layout(width='20px'), max=1.0…"
      ]
     },
     "metadata": {},
     "output_type": "display_data"
    },
    {
     "name": "stdout",
     "output_type": "stream",
     "text": [
      "\n",
      "Beautify...\n",
      "['not found']\n",
      "invalid data\n",
      "['not found']\n",
      "invalid data\n",
      "['not found']\n",
      "invalid data\n",
      "['not found']\n",
      "invalid data\n",
      "['not found']\n",
      "invalid data\n",
      "['not found']\n",
      "invalid data\n",
      "['not found']\n",
      "invalid data\n",
      "['not found']\n",
      "invalid data\n",
      "['not found']\n",
      "invalid data\n",
      "['not found']\n",
      "invalid data\n",
      "['not found']\n",
      "invalid data\n",
      "['not found']\n",
      "invalid data\n",
      "['not found']\n",
      "invalid data\n",
      "['not found']\n",
      "invalid data\n",
      "['not found']\n",
      "invalid data\n",
      "['not found']\n",
      "invalid data\n",
      "['not found']\n",
      "invalid data\n",
      "['not found']\n",
      "invalid data\n",
      "['not found']\n",
      "invalid data\n",
      "['not found']\n",
      "invalid data\n",
      "['not found']\n",
      "invalid data\n",
      "['not found']\n",
      "invalid data\n",
      "['not found']\n",
      "invalid data\n",
      "['not found']\n",
      "invalid data\n",
      "['not found']\n",
      "invalid data\n",
      "['not found']\n",
      "invalid data\n",
      "['not found']\n",
      "invalid data\n"
     ]
    }
   ],
   "source": [
    "df_good_activity_urls = substitute_compressed_url(new_good_activity)\n",
    "df_bad_activity_urls = substitute_compressed_url(df_bad_activity, True, bad_fbme)"
   ]
  },
  {
   "cell_type": "code",
   "execution_count": 9,
   "metadata": {},
   "outputs": [],
   "source": [
    "# print(len(df_good_urls)/len(good_dozen_list[\"screen_name\"]))\n",
    "# print(len(df_bad_urls)/len(bad_dozen_list[\"screen_name\"]))\n",
    "# df_gg = pd.Series(df_good_activity_urls).value_counts().sort_values(ascending=False)\n",
    "# df_gg[:15]"
   ]
  },
  {
   "cell_type": "code",
   "execution_count": 32,
   "metadata": {
    "scrolled": false
   },
   "outputs": [
    {
     "data": {
      "image/png": "[encoded data removed]",
      "text/plain": [
       "<Figure size 432x288 with 1 Axes>"
      ]
     },
     "metadata": {
      "needs_background": "light"
     },
     "output_type": "display_data"
    }
   ],
   "source": [
    "val = pd.Series(df_good_activity_urls).value_counts().sort_values(ascending=False)\n",
    "val.drop(val.index[0], inplace=True)\n",
    "val.drop(val.index[0], inplace=True)\n",
    "# val.drop(val.index[1], inplace=True)\n",
    "val.drop(val.index[4], inplace=True)\n",
    "# val.drop(val.index[12], inplace=True)\n",
    "fig = plt.figure()\n",
    "ax = val[:15].plot(kind='barh', color='steelblue')\n",
    "ax.set_title('Most link shared by GOOD DOZEN (Twitter exluded)')\n",
    "ax.invert_yaxis()\n",
    "plt.show()"
   ]
  },
  {
   "cell_type": "code",
   "execution_count": 147,
   "metadata": {},
   "outputs": [],
   "source": [
    "df_bad_urls = pd.DataFrame(df_bad_activity_urls, columns =['Url'])\n",
    "good_url = pd.Series(df_good_activity_urls).value_counts().sort_values(ascending=False)\n",
    "x = df_bad_urls[df_bad_urls[\"Url\"].isin(list(good_url[1:20].keys()))]\n",
    "bad_url = pd.Series(x[\"Url\"]).value_counts().sort_values(ascending=False)\n",
    "ind = []\n",
    "type_b = []\n",
    "type_g = []\n",
    "for i in good_url[1:20].keys():\n",
    "    type_g.append(\"Good\")\n",
    "    type_b.append(\"Bad\")\n",
    "    if i in bad_url:\n",
    "        continue\n",
    "    else:\n",
    "        bad_url = bad_url.append(pd.Series(0,index=[i]))\n",
    "bad_url\n",
    "good_urls_values = list(good_url[1:20].values)\n",
    "good_urls_keys = list(good_url[1:20].keys())\n",
    "bad_urls_values = list(bad_url.values)\n",
    "bad_urls_keys = list(bad_url.keys())\n",
    "df_plot_good = pd.DataFrame(zip(good_urls_values, good_urls_keys, type_g), columns=[\"Count\", \"Url\", \"Dozen\"])\n",
    "df_plot_bad = pd.DataFrame(zip(bad_urls_values, bad_urls_keys, type_b), columns=[\"Count\", \"Url\", \"Dozen\"])\n",
    "df_plot = df_plot_good.append(df_plot_bad)\n",
    "df_plot = df_plot.reset_index(drop = True)"
   ]
  },
  {
   "cell_type": "code",
   "execution_count": 145,
   "metadata": {},
   "outputs": [],
   "source": [
    "# value_good = df_plot.loc[2][\"Val\"] + df_plot.loc[3][\"Val\"]\n",
    "# value_bad = df_plot.loc[17][\"Val\"] + df_plot.loc[18][\"Val\"]\n",
    "# df_plot.loc[df_plot.index == 3, 'Val'] = value_good\n",
    "# df_plot.loc[df_plot.index == 18, 'Val'] = value_bad\n",
    "# df_plot"
   ]
  },
  {
   "cell_type": "code",
   "execution_count": 149,
   "metadata": {},
   "outputs": [],
   "source": [
    "df_plot.loc[df_plot.index == 16, 'Count'] = 1192\n",
    "df_plot.loc[df_plot.index == 16, 'Url'] = \"youtube.com\"\n",
    "df_plot.loc[df_plot.index == 19, 'Count'] = 574\n",
    "df_plot.loc[df_plot.index == 19, 'Url'] = \"youtube.com\""
   ]
  },
  {
   "cell_type": "code",
   "execution_count": 151,
   "metadata": {},
   "outputs": [
    {
     "data": {
      "application/vnd.plotly.v1+json": {
       "config": {
        "plotlyServerURL": "https://plot.ly"
       },
       "data": [
        {
         "alignmentgroup": "True",
         "hovertemplate": "Dozen=Good<br>Count=%{x}<br>Url=%{y}<extra></extra>",
         "legendgroup": "Good",
         "marker": {
          "color": "blue",
          "pattern": {
           "shape": ""
          }
         },
         "name": "Good",
         "offsetgroup": "Good",
         "orientation": "h",
         "showlegend": true,
         "textposition": "auto",
         "type": "bar",
         "x": [
          3809,
          2407,
          2147,
          2071,
          1511,
          1192,
          1123,
          906,
          817,
          815,
          763,
          751,
          677,
          617,
          584
         ],
         "xaxis": "x",
         "y": [
          "nytimes.com",
          "theguardian.com",
          "washingtonpost.com",
          "nature.com",
          "statnews.com",
          "youtube.com",
          "cnn.com",
          "m-gat.es",
          "thelancet.com",
          "cdc.gov",
          "sciencemag.org",
          "who.int",
          "gates.ly",
          "medrxiv.org",
          "biorxiv.org"
         ],
         "yaxis": "y"
        },
        {
         "alignmentgroup": "True",
         "hovertemplate": "Dozen=Bad<br>Count=%{x}<br>Url=%{y}<extra></extra>",
         "legendgroup": "Bad",
         "marker": {
          "color": "red",
          "pattern": {
           "shape": ""
          }
         },
         "name": "Bad",
         "offsetgroup": "Bad",
         "orientation": "h",
         "showlegend": true,
         "textposition": "auto",
         "type": "bar",
         "x": [
          574,
          62,
          39,
          36,
          32,
          5,
          4,
          3,
          1,
          0,
          0,
          0,
          0,
          0,
          0
         ],
         "xaxis": "x",
         "y": [
          "youtube.com",
          "nytimes.com",
          "theguardian.com",
          "cnn.com",
          "washingtonpost.com",
          "nature.com",
          "sciencemag.org",
          "statnews.com",
          "biorxiv.org",
          "m-gat.es",
          "thelancet.com",
          "cdc.gov",
          "who.int",
          "gates.ly",
          "medrxiv.org"
         ],
         "yaxis": "y"
        }
       ],
       "layout": {
        "barmode": "group",
        "font": {
         "size": 15
        },
        "legend": {
         "title": {
          "text": "Dozen"
         },
         "tracegroupgap": 0
        },
        "template": {
         "data": {
          "bar": [
           {
            "error_x": {
             "color": "#2a3f5f"
            },
            "error_y": {
             "color": "#2a3f5f"
            },
            "marker": {
             "line": {
              "color": "#E5ECF6",
              "width": 0.5
             },
             "pattern": {
              "fillmode": "overlay",
              "size": 10,
              "solidity": 0.2
             }
            },
            "type": "bar"
           }
          ],
          "barpolar": [
           {
            "marker": {
             "line": {
              "color": "#E5ECF6",
              "width": 0.5
             },
             "pattern": {
              "fillmode": "overlay",
              "size": 10,
              "solidity": 0.2
             }
            },
            "type": "barpolar"
           }
          ],
          "carpet": [
           {
            "aaxis": {
             "endlinecolor": "#2a3f5f",
             "gridcolor": "white",
             "linecolor": "white",
             "minorgridcolor": "white",
             "startlinecolor": "#2a3f5f"
            },
            "baxis": {
             "endlinecolor": "#2a3f5f",
             "gridcolor": "white",
             "linecolor": "white",
             "minorgridcolor": "white",
             "startlinecolor": "#2a3f5f"
            },
            "type": "carpet"
           }
          ],
          "choropleth": [
           {
            "colorbar": {
             "outlinewidth": 0,
             "ticks": ""
            },
            "type": "choropleth"
           }
          ],
          "contour": [
           {
            "colorbar": {
             "outlinewidth": 0,
             "ticks": ""
            },
            "colorscale": [
             [
              0,
              "#0d0887"
             ],
             [
              0.1111111111111111,
              "#46039f"
             ],
             [
              0.2222222222222222,
              "#7201a8"
             ],
             [
              0.3333333333333333,
              "#9c179e"
             ],
             [
              0.4444444444444444,
              "#bd3786"
             ],
             [
              0.5555555555555556,
              "#d8576b"
             ],
             [
              0.6666666666666666,
              "#ed7953"
             ],
             [
              0.7777777777777778,
              "#fb9f3a"
             ],
             [
              0.8888888888888888,
              "#fdca26"
             ],
             [
              1,
              "#f0f921"
             ]
            ],
            "type": "contour"
           }
          ],
          "contourcarpet": [
           {
            "colorbar": {
             "outlinewidth": 0,
             "ticks": ""
            },
            "type": "contourcarpet"
           }
          ],
          "heatmap": [
           {
            "colorbar": {
             "outlinewidth": 0,
             "ticks": ""
            },
            "colorscale": [
             [
              0,
              "#0d0887"
             ],
             [
              0.1111111111111111,
              "#46039f"
             ],
             [
              0.2222222222222222,
              "#7201a8"
             ],
             [
              0.3333333333333333,
              "#9c179e"
             ],
             [
              0.4444444444444444,
              "#bd3786"
             ],
             [
              0.5555555555555556,
              "#d8576b"
             ],
             [
              0.6666666666666666,
              "#ed7953"
             ],
             [
              0.7777777777777778,
              "#fb9f3a"
             ],
             [
              0.8888888888888888,
              "#fdca26"
             ],
             [
              1,
              "#f0f921"
             ]
            ],
            "type": "heatmap"
           }
          ],
          "heatmapgl": [
           {
            "colorbar": {
             "outlinewidth": 0,
             "ticks": ""
            },
            "colorscale": [
             [
              0,
              "#0d0887"
             ],
             [
              0.1111111111111111,
              "#46039f"
             ],
             [
              0.2222222222222222,
              "#7201a8"
             ],
             [
              0.3333333333333333,
              "#9c179e"
             ],
             [
              0.4444444444444444,
              "#bd3786"
             ],
             [
              0.5555555555555556,
              "#d8576b"
             ],
             [
              0.6666666666666666,
              "#ed7953"
             ],
             [
              0.7777777777777778,
              "#fb9f3a"
             ],
             [
              0.8888888888888888,
              "#fdca26"
             ],
             [
              1,
              "#f0f921"
             ]
            ],
            "type": "heatmapgl"
           }
          ],
          "histogram": [
           {
            "marker": {
             "pattern": {
              "fillmode": "overlay",
              "size": 10,
              "solidity": 0.2
             }
            },
            "type": "histogram"
           }
          ],
          "histogram2d": [
           {
            "colorbar": {
             "outlinewidth": 0,
             "ticks": ""
            },
            "colorscale": [
             [
              0,
              "#0d0887"
             ],
             [
              0.1111111111111111,
              "#46039f"
             ],
             [
              0.2222222222222222,
              "#7201a8"
             ],
             [
              0.3333333333333333,
              "#9c179e"
             ],
             [
              0.4444444444444444,
              "#bd3786"
             ],
             [
              0.5555555555555556,
              "#d8576b"
             ],
             [
              0.6666666666666666,
              "#ed7953"
             ],
             [
              0.7777777777777778,
              "#fb9f3a"
             ],
             [
              0.8888888888888888,
              "#fdca26"
             ],
             [
              1,
              "#f0f921"
             ]
            ],
            "type": "histogram2d"
           }
          ],
          "histogram2dcontour": [
           {
            "colorbar": {
             "outlinewidth": 0,
             "ticks": ""
            },
            "colorscale": [
             [
              0,
              "#0d0887"
             ],
             [
              0.1111111111111111,
              "#46039f"
             ],
             [
              0.2222222222222222,
              "#7201a8"
             ],
             [
              0.3333333333333333,
              "#9c179e"
             ],
             [
              0.4444444444444444,
              "#bd3786"
             ],
             [
              0.5555555555555556,
              "#d8576b"
             ],
             [
              0.6666666666666666,
              "#ed7953"
             ],
             [
              0.7777777777777778,
              "#fb9f3a"
             ],
             [
              0.8888888888888888,
              "#fdca26"
             ],
             [
              1,
              "#f0f921"
             ]
            ],
            "type": "histogram2dcontour"
           }
          ],
          "mesh3d": [
           {
            "colorbar": {
             "outlinewidth": 0,
             "ticks": ""
            },
            "type": "mesh3d"
           }
          ],
          "parcoords": [
           {
            "line": {
             "colorbar": {
              "outlinewidth": 0,
              "ticks": ""
             }
            },
            "type": "parcoords"
           }
          ],
          "pie": [
           {
            "automargin": true,
            "type": "pie"
           }
          ],
          "scatter": [
           {
            "marker": {
             "colorbar": {
              "outlinewidth": 0,
              "ticks": ""
             }
            },
            "type": "scatter"
           }
          ],
          "scatter3d": [
           {
            "line": {
             "colorbar": {
              "outlinewidth": 0,
              "ticks": ""
             }
            },
            "marker": {
             "colorbar": {
              "outlinewidth": 0,
              "ticks": ""
             }
            },
            "type": "scatter3d"
           }
          ],
          "scattercarpet": [
           {
            "marker": {
             "colorbar": {
              "outlinewidth": 0,
              "ticks": ""
             }
            },
            "type": "scattercarpet"
           }
          ],
          "scattergeo": [
           {
            "marker": {
             "colorbar": {
              "outlinewidth": 0,
              "ticks": ""
             }
            },
            "type": "scattergeo"
           }
          ],
          "scattergl": [
           {
            "marker": {
             "colorbar": {
              "outlinewidth": 0,
              "ticks": ""
             }
            },
            "type": "scattergl"
           }
          ],
          "scattermapbox": [
           {
            "marker": {
             "colorbar": {
              "outlinewidth": 0,
              "ticks": ""
             }
            },
            "type": "scattermapbox"
           }
          ],
          "scatterpolar": [
           {
            "marker": {
             "colorbar": {
              "outlinewidth": 0,
              "ticks": ""
             }
            },
            "type": "scatterpolar"
           }
          ],
          "scatterpolargl": [
           {
            "marker": {
             "colorbar": {
              "outlinewidth": 0,
              "ticks": ""
             }
            },
            "type": "scatterpolargl"
           }
          ],
          "scatterternary": [
           {
            "marker": {
             "colorbar": {
              "outlinewidth": 0,
              "ticks": ""
             }
            },
            "type": "scatterternary"
           }
          ],
          "surface": [
           {
            "colorbar": {
             "outlinewidth": 0,
             "ticks": ""
            },
            "colorscale": [
             [
              0,
              "#0d0887"
             ],
             [
              0.1111111111111111,
              "#46039f"
             ],
             [
              0.2222222222222222,
              "#7201a8"
             ],
             [
              0.3333333333333333,
              "#9c179e"
             ],
             [
              0.4444444444444444,
              "#bd3786"
             ],
             [
              0.5555555555555556,
              "#d8576b"
             ],
             [
              0.6666666666666666,
              "#ed7953"
             ],
             [
              0.7777777777777778,
              "#fb9f3a"
             ],
             [
              0.8888888888888888,
              "#fdca26"
             ],
             [
              1,
              "#f0f921"
             ]
            ],
            "type": "surface"
           }
          ],
          "table": [
           {
            "cells": {
             "fill": {
              "color": "#EBF0F8"
             },
             "line": {
              "color": "white"
             }
            },
            "header": {
             "fill": {
              "color": "#C8D4E3"
             },
             "line": {
              "color": "white"
             }
            },
            "type": "table"
           }
          ]
         },
         "layout": {
          "annotationdefaults": {
           "arrowcolor": "#2a3f5f",
           "arrowhead": 0,
           "arrowwidth": 1
          },
          "autotypenumbers": "strict",
          "coloraxis": {
           "colorbar": {
            "outlinewidth": 0,
            "ticks": ""
           }
          },
          "colorscale": {
           "diverging": [
            [
             0,
             "#8e0152"
            ],
            [
             0.1,
             "#c51b7d"
            ],
            [
             0.2,
             "#de77ae"
            ],
            [
             0.3,
             "#f1b6da"
            ],
            [
             0.4,
             "#fde0ef"
            ],
            [
             0.5,
             "#f7f7f7"
            ],
            [
             0.6,
             "#e6f5d0"
            ],
            [
             0.7,
             "#b8e186"
            ],
            [
             0.8,
             "#7fbc41"
            ],
            [
             0.9,
             "#4d9221"
            ],
            [
             1,
             "#276419"
            ]
           ],
           "sequential": [
            [
             0,
             "#0d0887"
            ],
            [
             0.1111111111111111,
             "#46039f"
            ],
            [
             0.2222222222222222,
             "#7201a8"
            ],
            [
             0.3333333333333333,
             "#9c179e"
            ],
            [
             0.4444444444444444,
             "#bd3786"
            ],
            [
             0.5555555555555556,
             "#d8576b"
            ],
            [
             0.6666666666666666,
             "#ed7953"
            ],
            [
             0.7777777777777778,
             "#fb9f3a"
            ],
            [
             0.8888888888888888,
             "#fdca26"
            ],
            [
             1,
             "#f0f921"
            ]
           ],
           "sequentialminus": [
            [
             0,
             "#0d0887"
            ],
            [
             0.1111111111111111,
             "#46039f"
            ],
            [
             0.2222222222222222,
             "#7201a8"
            ],
            [
             0.3333333333333333,
             "#9c179e"
            ],
            [
             0.4444444444444444,
             "#bd3786"
            ],
            [
             0.5555555555555556,
             "#d8576b"
            ],
            [
             0.6666666666666666,
             "#ed7953"
            ],
            [
             0.7777777777777778,
             "#fb9f3a"
            ],
            [
             0.8888888888888888,
             "#fdca26"
            ],
            [
             1,
             "#f0f921"
            ]
           ]
          },
          "colorway": [
           "#636efa",
           "#EF553B",
           "#00cc96",
           "#ab63fa",
           "#FFA15A",
           "#19d3f3",
           "#FF6692",
           "#B6E880",
           "#FF97FF",
           "#FECB52"
          ],
          "font": {
           "color": "#2a3f5f"
          },
          "geo": {
           "bgcolor": "white",
           "lakecolor": "white",
           "landcolor": "#E5ECF6",
           "showlakes": true,
           "showland": true,
           "subunitcolor": "white"
          },
          "hoverlabel": {
           "align": "left"
          },
          "hovermode": "closest",
          "mapbox": {
           "style": "light"
          },
          "paper_bgcolor": "white",
          "plot_bgcolor": "#E5ECF6",
          "polar": {
           "angularaxis": {
            "gridcolor": "white",
            "linecolor": "white",
            "ticks": ""
           },
           "bgcolor": "#E5ECF6",
           "radialaxis": {
            "gridcolor": "white",
            "linecolor": "white",
            "ticks": ""
           }
          },
          "scene": {
           "xaxis": {
            "backgroundcolor": "#E5ECF6",
            "gridcolor": "white",
            "gridwidth": 2,
            "linecolor": "white",
            "showbackground": true,
            "ticks": "",
            "zerolinecolor": "white"
           },
           "yaxis": {
            "backgroundcolor": "#E5ECF6",
            "gridcolor": "white",
            "gridwidth": 2,
            "linecolor": "white",
            "showbackground": true,
            "ticks": "",
            "zerolinecolor": "white"
           },
           "zaxis": {
            "backgroundcolor": "#E5ECF6",
            "gridcolor": "white",
            "gridwidth": 2,
            "linecolor": "white",
            "showbackground": true,
            "ticks": "",
            "zerolinecolor": "white"
           }
          },
          "shapedefaults": {
           "line": {
            "color": "#2a3f5f"
           }
          },
          "ternary": {
           "aaxis": {
            "gridcolor": "white",
            "linecolor": "white",
            "ticks": ""
           },
           "baxis": {
            "gridcolor": "white",
            "linecolor": "white",
            "ticks": ""
           },
           "bgcolor": "#E5ECF6",
           "caxis": {
            "gridcolor": "white",
            "linecolor": "white",
            "ticks": ""
           }
          },
          "title": {
           "x": 0.05
          },
          "xaxis": {
           "automargin": true,
           "gridcolor": "white",
           "linecolor": "white",
           "ticks": "",
           "title": {
            "standoff": 15
           },
           "zerolinecolor": "white",
           "zerolinewidth": 2
          },
          "yaxis": {
           "automargin": true,
           "gridcolor": "white",
           "linecolor": "white",
           "ticks": "",
           "title": {
            "standoff": 15
           },
           "zerolinecolor": "white",
           "zerolinewidth": 2
          }
         }
        },
        "title": {
         "text": "Top 15 Good Dozen domain shared (with comparison)"
        },
        "xaxis": {
         "anchor": "y",
         "domain": [
          0,
          1
         ],
         "title": {
          "text": "Count"
         }
        },
        "yaxis": {
         "anchor": "x",
         "autorange": "reversed",
         "domain": [
          0,
          1
         ],
         "title": {
          "text": "Url"
         }
        }
       }
      },
      "text/html": [
       "<div>                            <div id=\"31c33a32-d900-42c1-acdd-4e536d620355\" class=\"plotly-graph-div\" style=\"height:525px; width:100%;\"></div>            <script type=\"text/javascript\">                require([\"plotly\"], function(Plotly) {                    window.PLOTLYENV=window.PLOTLYENV || {};                                    if (document.getElementById(\"31c33a32-d900-42c1-acdd-4e536d620355\")) {                    Plotly.newPlot(                        \"31c33a32-d900-42c1-acdd-4e536d620355\",                        [{\"alignmentgroup\":\"True\",\"hovertemplate\":\"Dozen=Good<br>Count=%{x}<br>Url=%{y}<extra></extra>\",\"legendgroup\":\"Good\",\"marker\":{\"color\":\"blue\",\"pattern\":{\"shape\":\"\"}},\"name\":\"Good\",\"offsetgroup\":\"Good\",\"orientation\":\"h\",\"showlegend\":true,\"textposition\":\"auto\",\"type\":\"bar\",\"x\":[3809,2407,2147,2071,1511,1192,1123,906,817,815,763,751,677,617,584],\"xaxis\":\"x\",\"y\":[\"nytimes.com\",\"theguardian.com\",\"washingtonpost.com\",\"nature.com\",\"statnews.com\",\"youtube.com\",\"cnn.com\",\"m-gat.es\",\"thelancet.com\",\"cdc.gov\",\"sciencemag.org\",\"who.int\",\"gates.ly\",\"medrxiv.org\",\"biorxiv.org\"],\"yaxis\":\"y\"},{\"alignmentgroup\":\"True\",\"hovertemplate\":\"Dozen=Bad<br>Count=%{x}<br>Url=%{y}<extra></extra>\",\"legendgroup\":\"Bad\",\"marker\":{\"color\":\"red\",\"pattern\":{\"shape\":\"\"}},\"name\":\"Bad\",\"offsetgroup\":\"Bad\",\"orientation\":\"h\",\"showlegend\":true,\"textposition\":\"auto\",\"type\":\"bar\",\"x\":[574,62,39,36,32,5,4,3,1,0,0,0,0,0,0],\"xaxis\":\"x\",\"y\":[\"youtube.com\",\"nytimes.com\",\"theguardian.com\",\"cnn.com\",\"washingtonpost.com\",\"nature.com\",\"sciencemag.org\",\"statnews.com\",\"biorxiv.org\",\"m-gat.es\",\"thelancet.com\",\"cdc.gov\",\"who.int\",\"gates.ly\",\"medrxiv.org\"],\"yaxis\":\"y\"}],                        {\"barmode\":\"group\",\"font\":{\"size\":15},\"legend\":{\"title\":{\"text\":\"Dozen\"},\"tracegroupgap\":0},\"template\":{\"data\":{\"bar\":[{\"error_x\":{\"color\":\"#2a3f5f\"},\"error_y\":{\"color\":\"#2a3f5f\"},\"marker\":{\"line\":{\"color\":\"#E5ECF6\",\"width\":0.5},\"pattern\":{\"fillmode\":\"overlay\",\"size\":10,\"solidity\":0.2}},\"type\":\"bar\"}],\"barpolar\":[{\"marker\":{\"line\":{\"color\":\"#E5ECF6\",\"width\":0.5},\"pattern\":{\"fillmode\":\"overlay\",\"size\":10,\"solidity\":0.2}},\"type\":\"barpolar\"}],\"carpet\":[{\"aaxis\":{\"endlinecolor\":\"#2a3f5f\",\"gridcolor\":\"white\",\"linecolor\":\"white\",\"minorgridcolor\":\"white\",\"startlinecolor\":\"#2a3f5f\"},\"baxis\":{\"endlinecolor\":\"#2a3f5f\",\"gridcolor\":\"white\",\"linecolor\":\"white\",\"minorgridcolor\":\"white\",\"startlinecolor\":\"#2a3f5f\"},\"type\":\"carpet\"}],\"choropleth\":[{\"colorbar\":{\"outlinewidth\":0,\"ticks\":\"\"},\"type\":\"choropleth\"}],\"contour\":[{\"colorbar\":{\"outlinewidth\":0,\"ticks\":\"\"},\"colorscale\":[[0.0,\"#0d0887\"],[0.1111111111111111,\"#46039f\"],[0.2222222222222222,\"#7201a8\"],[0.3333333333333333,\"#9c179e\"],[0.4444444444444444,\"#bd3786\"],[0.5555555555555556,\"#d8576b\"],[0.6666666666666666,\"#ed7953\"],[0.7777777777777778,\"#fb9f3a\"],[0.8888888888888888,\"#fdca26\"],[1.0,\"#f0f921\"]],\"type\":\"contour\"}],\"contourcarpet\":[{\"colorbar\":{\"outlinewidth\":0,\"ticks\":\"\"},\"type\":\"contourcarpet\"}],\"heatmap\":[{\"colorbar\":{\"outlinewidth\":0,\"ticks\":\"\"},\"colorscale\":[[0.0,\"#0d0887\"],[0.1111111111111111,\"#46039f\"],[0.2222222222222222,\"#7201a8\"],[0.3333333333333333,\"#9c179e\"],[0.4444444444444444,\"#bd3786\"],[0.5555555555555556,\"#d8576b\"],[0.6666666666666666,\"#ed7953\"],[0.7777777777777778,\"#fb9f3a\"],[0.8888888888888888,\"#fdca26\"],[1.0,\"#f0f921\"]],\"type\":\"heatmap\"}],\"heatmapgl\":[{\"colorbar\":{\"outlinewidth\":0,\"ticks\":\"\"},\"colorscale\":[[0.0,\"#0d0887\"],[0.1111111111111111,\"#46039f\"],[0.2222222222222222,\"#7201a8\"],[0.3333333333333333,\"#9c179e\"],[0.4444444444444444,\"#bd3786\"],[0.5555555555555556,\"#d8576b\"],[0.6666666666666666,\"#ed7953\"],[0.7777777777777778,\"#fb9f3a\"],[0.8888888888888888,\"#fdca26\"],[1.0,\"#f0f921\"]],\"type\":\"heatmapgl\"}],\"histogram\":[{\"marker\":{\"pattern\":{\"fillmode\":\"overlay\",\"size\":10,\"solidity\":0.2}},\"type\":\"histogram\"}],\"histogram2d\":[{\"colorbar\":{\"outlinewidth\":0,\"ticks\":\"\"},\"colorscale\":[[0.0,\"#0d0887\"],[0.1111111111111111,\"#46039f\"],[0.2222222222222222,\"#7201a8\"],[0.3333333333333333,\"#9c179e\"],[0.4444444444444444,\"#bd3786\"],[0.5555555555555556,\"#d8576b\"],[0.6666666666666666,\"#ed7953\"],[0.7777777777777778,\"#fb9f3a\"],[0.8888888888888888,\"#fdca26\"],[1.0,\"#f0f921\"]],\"type\":\"histogram2d\"}],\"histogram2dcontour\":[{\"colorbar\":{\"outlinewidth\":0,\"ticks\":\"\"},\"colorscale\":[[0.0,\"#0d0887\"],[0.1111111111111111,\"#46039f\"],[0.2222222222222222,\"#7201a8\"],[0.3333333333333333,\"#9c179e\"],[0.4444444444444444,\"#bd3786\"],[0.5555555555555556,\"#d8576b\"],[0.6666666666666666,\"#ed7953\"],[0.7777777777777778,\"#fb9f3a\"],[0.8888888888888888,\"#fdca26\"],[1.0,\"#f0f921\"]],\"type\":\"histogram2dcontour\"}],\"mesh3d\":[{\"colorbar\":{\"outlinewidth\":0,\"ticks\":\"\"},\"type\":\"mesh3d\"}],\"parcoords\":[{\"line\":{\"colorbar\":{\"outlinewidth\":0,\"ticks\":\"\"}},\"type\":\"parcoords\"}],\"pie\":[{\"automargin\":true,\"type\":\"pie\"}],\"scatter\":[{\"marker\":{\"colorbar\":{\"outlinewidth\":0,\"ticks\":\"\"}},\"type\":\"scatter\"}],\"scatter3d\":[{\"line\":{\"colorbar\":{\"outlinewidth\":0,\"ticks\":\"\"}},\"marker\":{\"colorbar\":{\"outlinewidth\":0,\"ticks\":\"\"}},\"type\":\"scatter3d\"}],\"scattercarpet\":[{\"marker\":{\"colorbar\":{\"outlinewidth\":0,\"ticks\":\"\"}},\"type\":\"scattercarpet\"}],\"scattergeo\":[{\"marker\":{\"colorbar\":{\"outlinewidth\":0,\"ticks\":\"\"}},\"type\":\"scattergeo\"}],\"scattergl\":[{\"marker\":{\"colorbar\":{\"outlinewidth\":0,\"ticks\":\"\"}},\"type\":\"scattergl\"}],\"scattermapbox\":[{\"marker\":{\"colorbar\":{\"outlinewidth\":0,\"ticks\":\"\"}},\"type\":\"scattermapbox\"}],\"scatterpolar\":[{\"marker\":{\"colorbar\":{\"outlinewidth\":0,\"ticks\":\"\"}},\"type\":\"scatterpolar\"}],\"scatterpolargl\":[{\"marker\":{\"colorbar\":{\"outlinewidth\":0,\"ticks\":\"\"}},\"type\":\"scatterpolargl\"}],\"scatterternary\":[{\"marker\":{\"colorbar\":{\"outlinewidth\":0,\"ticks\":\"\"}},\"type\":\"scatterternary\"}],\"surface\":[{\"colorbar\":{\"outlinewidth\":0,\"ticks\":\"\"},\"colorscale\":[[0.0,\"#0d0887\"],[0.1111111111111111,\"#46039f\"],[0.2222222222222222,\"#7201a8\"],[0.3333333333333333,\"#9c179e\"],[0.4444444444444444,\"#bd3786\"],[0.5555555555555556,\"#d8576b\"],[0.6666666666666666,\"#ed7953\"],[0.7777777777777778,\"#fb9f3a\"],[0.8888888888888888,\"#fdca26\"],[1.0,\"#f0f921\"]],\"type\":\"surface\"}],\"table\":[{\"cells\":{\"fill\":{\"color\":\"#EBF0F8\"},\"line\":{\"color\":\"white\"}},\"header\":{\"fill\":{\"color\":\"#C8D4E3\"},\"line\":{\"color\":\"white\"}},\"type\":\"table\"}]},\"layout\":{\"annotationdefaults\":{\"arrowcolor\":\"#2a3f5f\",\"arrowhead\":0,\"arrowwidth\":1},\"autotypenumbers\":\"strict\",\"coloraxis\":{\"colorbar\":{\"outlinewidth\":0,\"ticks\":\"\"}},\"colorscale\":{\"diverging\":[[0,\"#8e0152\"],[0.1,\"#c51b7d\"],[0.2,\"#de77ae\"],[0.3,\"#f1b6da\"],[0.4,\"#fde0ef\"],[0.5,\"#f7f7f7\"],[0.6,\"#e6f5d0\"],[0.7,\"#b8e186\"],[0.8,\"#7fbc41\"],[0.9,\"#4d9221\"],[1,\"#276419\"]],\"sequential\":[[0.0,\"#0d0887\"],[0.1111111111111111,\"#46039f\"],[0.2222222222222222,\"#7201a8\"],[0.3333333333333333,\"#9c179e\"],[0.4444444444444444,\"#bd3786\"],[0.5555555555555556,\"#d8576b\"],[0.6666666666666666,\"#ed7953\"],[0.7777777777777778,\"#fb9f3a\"],[0.8888888888888888,\"#fdca26\"],[1.0,\"#f0f921\"]],\"sequentialminus\":[[0.0,\"#0d0887\"],[0.1111111111111111,\"#46039f\"],[0.2222222222222222,\"#7201a8\"],[0.3333333333333333,\"#9c179e\"],[0.4444444444444444,\"#bd3786\"],[0.5555555555555556,\"#d8576b\"],[0.6666666666666666,\"#ed7953\"],[0.7777777777777778,\"#fb9f3a\"],[0.8888888888888888,\"#fdca26\"],[1.0,\"#f0f921\"]]},\"colorway\":[\"#636efa\",\"#EF553B\",\"#00cc96\",\"#ab63fa\",\"#FFA15A\",\"#19d3f3\",\"#FF6692\",\"#B6E880\",\"#FF97FF\",\"#FECB52\"],\"font\":{\"color\":\"#2a3f5f\"},\"geo\":{\"bgcolor\":\"white\",\"lakecolor\":\"white\",\"landcolor\":\"#E5ECF6\",\"showlakes\":true,\"showland\":true,\"subunitcolor\":\"white\"},\"hoverlabel\":{\"align\":\"left\"},\"hovermode\":\"closest\",\"mapbox\":{\"style\":\"light\"},\"paper_bgcolor\":\"white\",\"plot_bgcolor\":\"#E5ECF6\",\"polar\":{\"angularaxis\":{\"gridcolor\":\"white\",\"linecolor\":\"white\",\"ticks\":\"\"},\"bgcolor\":\"#E5ECF6\",\"radialaxis\":{\"gridcolor\":\"white\",\"linecolor\":\"white\",\"ticks\":\"\"}},\"scene\":{\"xaxis\":{\"backgroundcolor\":\"#E5ECF6\",\"gridcolor\":\"white\",\"gridwidth\":2,\"linecolor\":\"white\",\"showbackground\":true,\"ticks\":\"\",\"zerolinecolor\":\"white\"},\"yaxis\":{\"backgroundcolor\":\"#E5ECF6\",\"gridcolor\":\"white\",\"gridwidth\":2,\"linecolor\":\"white\",\"showbackground\":true,\"ticks\":\"\",\"zerolinecolor\":\"white\"},\"zaxis\":{\"backgroundcolor\":\"#E5ECF6\",\"gridcolor\":\"white\",\"gridwidth\":2,\"linecolor\":\"white\",\"showbackground\":true,\"ticks\":\"\",\"zerolinecolor\":\"white\"}},\"shapedefaults\":{\"line\":{\"color\":\"#2a3f5f\"}},\"ternary\":{\"aaxis\":{\"gridcolor\":\"white\",\"linecolor\":\"white\",\"ticks\":\"\"},\"baxis\":{\"gridcolor\":\"white\",\"linecolor\":\"white\",\"ticks\":\"\"},\"bgcolor\":\"#E5ECF6\",\"caxis\":{\"gridcolor\":\"white\",\"linecolor\":\"white\",\"ticks\":\"\"}},\"title\":{\"x\":0.05},\"xaxis\":{\"automargin\":true,\"gridcolor\":\"white\",\"linecolor\":\"white\",\"ticks\":\"\",\"title\":{\"standoff\":15},\"zerolinecolor\":\"white\",\"zerolinewidth\":2},\"yaxis\":{\"automargin\":true,\"gridcolor\":\"white\",\"linecolor\":\"white\",\"ticks\":\"\",\"title\":{\"standoff\":15},\"zerolinecolor\":\"white\",\"zerolinewidth\":2}}},\"title\":{\"text\":\"Top 15 Good Dozen domain shared (with comparison)\"},\"xaxis\":{\"anchor\":\"y\",\"domain\":[0.0,1.0],\"title\":{\"text\":\"Count\"}},\"yaxis\":{\"anchor\":\"x\",\"autorange\":\"reversed\",\"domain\":[0.0,1.0],\"title\":{\"text\":\"Url\"}}},                        {\"responsive\": true}                    ).then(function(){\n",
       "                            \n",
       "var gd = document.getElementById('31c33a32-d900-42c1-acdd-4e536d620355');\n",
       "var x = new MutationObserver(function (mutations, observer) {{\n",
       "        var display = window.getComputedStyle(gd).display;\n",
       "        if (!display || display === 'none') {{\n",
       "            console.log([gd, 'removed!']);\n",
       "            Plotly.purge(gd);\n",
       "            observer.disconnect();\n",
       "        }}\n",
       "}});\n",
       "\n",
       "// Listen for the removal of the full notebook cells\n",
       "var notebookContainer = gd.closest('#notebook-container');\n",
       "if (notebookContainer) {{\n",
       "    x.observe(notebookContainer, {childList: true});\n",
       "}}\n",
       "\n",
       "// Listen for the clearing of the current output cell\n",
       "var outputEl = gd.closest('.output');\n",
       "if (outputEl) {{\n",
       "    x.observe(outputEl, {childList: true});\n",
       "}}\n",
       "\n",
       "                        })                };                });            </script>        </div>"
      ]
     },
     "metadata": {},
     "output_type": "display_data"
    }
   ],
   "source": [
    "a = [\"bit.ly\", \"shar.es\", \"ow.ly\", \"dlvr.it\", \"ift.tt\", \"nyti.ms\", \"zpr.io\"]\n",
    "df_plot = df_plot[~df_plot[\"Url\"].isin(a)]\n",
    "\n",
    "df_plot = df_plot.sort_values(by=\"Count\", ascending=False)\n",
    "fig = px.bar(df_plot, color_discrete_sequence=['blue', \"red\"], x=\"Count\", y=\"Url\", color=\"Dozen\", barmode='group', title=\"Top 15 Good Dozen domain shared (with comparison)\")\n",
    "fig.update_layout(\n",
    "        font_size = 15,\n",
    "    yaxis = dict(autorange=\"reversed\"))\n",
    "fig.show()"
   ]
  },
  {
   "cell_type": "code",
   "execution_count": 15,
   "metadata": {},
   "outputs": [
    {
     "data": {
      "text/plain": [
       "335"
      ]
     },
     "execution_count": 15,
     "metadata": {},
     "output_type": "execute_result"
    }
   ],
   "source": [
    "val = pd.Series(df_good_activity_urls).value_counts().sort_values(ascending=False)\n",
    "labels = list(val[2:18].keys())\n",
    "values = list(val[2:18].values)\n",
    "labels.pop(4)\n",
    "values.pop(4)"
   ]
  },
  {
   "cell_type": "code",
   "execution_count": 16,
   "metadata": {},
   "outputs": [
    {
     "data": {
      "application/vnd.plotly.v1+json": {
       "config": {
        "plotlyServerURL": "https://plot.ly"
       },
       "data": [
        {
         "branchvalues": "total",
         "domain": {
          "x": [
           0,
           1
          ],
          "y": [
           0,
           1
          ]
         },
         "hovertemplate": "labels=%{label}<br>value=%{value}<br>parent=%{parent}<br>id=%{id}<extra></extra>",
         "ids": [
          "cdc.gov",
          "cnn.com",
          "goo.gl",
          "medrxiv.org",
          "nature.com",
          "nejm.org",
          "nyti.ms",
          "nytimes.com",
          "reuters.com",
          "statnews.com",
          "theguardian.com",
          "thelancet.com",
          "washingtonpost.com",
          "who.int",
          "youtu.be"
         ],
         "labels": [
          "cdc.gov",
          "cnn.com",
          "goo.gl",
          "medrxiv.org",
          "nature.com",
          "nejm.org",
          "nyti.ms",
          "nytimes.com",
          "reuters.com",
          "statnews.com",
          "theguardian.com",
          "thelancet.com",
          "washingtonpost.com",
          "who.int",
          "youtu.be"
         ],
         "name": "",
         "parents": [
          "",
          "",
          "",
          "",
          "",
          "",
          "",
          "",
          "",
          "",
          "",
          "",
          "",
          "",
          ""
         ],
         "type": "treemap",
         "values": [
          293,
          224,
          235,
          237,
          684,
          264,
          207,
          1040,
          194,
          297,
          612,
          313,
          485,
          323,
          206
         ]
        }
       ],
       "layout": {
        "height": 500,
        "legend": {
         "tracegroupgap": 0
        },
        "margin": {
         "b": 25,
         "l": 25,
         "r": 25,
         "t": 50
        },
        "template": {
         "data": {
          "bar": [
           {
            "error_x": {
             "color": "#2a3f5f"
            },
            "error_y": {
             "color": "#2a3f5f"
            },
            "marker": {
             "line": {
              "color": "#E5ECF6",
              "width": 0.5
             },
             "pattern": {
              "fillmode": "overlay",
              "size": 10,
              "solidity": 0.2
             }
            },
            "type": "bar"
           }
          ],
          "barpolar": [
           {
            "marker": {
             "line": {
              "color": "#E5ECF6",
              "width": 0.5
             },
             "pattern": {
              "fillmode": "overlay",
              "size": 10,
              "solidity": 0.2
             }
            },
            "type": "barpolar"
           }
          ],
          "carpet": [
           {
            "aaxis": {
             "endlinecolor": "#2a3f5f",
             "gridcolor": "white",
             "linecolor": "white",
             "minorgridcolor": "white",
             "startlinecolor": "#2a3f5f"
            },
            "baxis": {
             "endlinecolor": "#2a3f5f",
             "gridcolor": "white",
             "linecolor": "white",
             "minorgridcolor": "white",
             "startlinecolor": "#2a3f5f"
            },
            "type": "carpet"
           }
          ],
          "choropleth": [
           {
            "colorbar": {
             "outlinewidth": 0,
             "ticks": ""
            },
            "type": "choropleth"
           }
          ],
          "contour": [
           {
            "colorbar": {
             "outlinewidth": 0,
             "ticks": ""
            },
            "colorscale": [
             [
              0,
              "#0d0887"
             ],
             [
              0.1111111111111111,
              "#46039f"
             ],
             [
              0.2222222222222222,
              "#7201a8"
             ],
             [
              0.3333333333333333,
              "#9c179e"
             ],
             [
              0.4444444444444444,
              "#bd3786"
             ],
             [
              0.5555555555555556,
              "#d8576b"
             ],
             [
              0.6666666666666666,
              "#ed7953"
             ],
             [
              0.7777777777777778,
              "#fb9f3a"
             ],
             [
              0.8888888888888888,
              "#fdca26"
             ],
             [
              1,
              "#f0f921"
             ]
            ],
            "type": "contour"
           }
          ],
          "contourcarpet": [
           {
            "colorbar": {
             "outlinewidth": 0,
             "ticks": ""
            },
            "type": "contourcarpet"
           }
          ],
          "heatmap": [
           {
            "colorbar": {
             "outlinewidth": 0,
             "ticks": ""
            },
            "colorscale": [
             [
              0,
              "#0d0887"
             ],
             [
              0.1111111111111111,
              "#46039f"
             ],
             [
              0.2222222222222222,
              "#7201a8"
             ],
             [
              0.3333333333333333,
              "#9c179e"
             ],
             [
              0.4444444444444444,
              "#bd3786"
             ],
             [
              0.5555555555555556,
              "#d8576b"
             ],
             [
              0.6666666666666666,
              "#ed7953"
             ],
             [
              0.7777777777777778,
              "#fb9f3a"
             ],
             [
              0.8888888888888888,
              "#fdca26"
             ],
             [
              1,
              "#f0f921"
             ]
            ],
            "type": "heatmap"
           }
          ],
          "heatmapgl": [
           {
            "colorbar": {
             "outlinewidth": 0,
             "ticks": ""
            },
            "colorscale": [
             [
              0,
              "#0d0887"
             ],
             [
              0.1111111111111111,
              "#46039f"
             ],
             [
              0.2222222222222222,
              "#7201a8"
             ],
             [
              0.3333333333333333,
              "#9c179e"
             ],
             [
              0.4444444444444444,
              "#bd3786"
             ],
             [
              0.5555555555555556,
              "#d8576b"
             ],
             [
              0.6666666666666666,
              "#ed7953"
             ],
             [
              0.7777777777777778,
              "#fb9f3a"
             ],
             [
              0.8888888888888888,
              "#fdca26"
             ],
             [
              1,
              "#f0f921"
             ]
            ],
            "type": "heatmapgl"
           }
          ],
          "histogram": [
           {
            "marker": {
             "pattern": {
              "fillmode": "overlay",
              "size": 10,
              "solidity": 0.2
             }
            },
            "type": "histogram"
           }
          ],
          "histogram2d": [
           {
            "colorbar": {
             "outlinewidth": 0,
             "ticks": ""
            },
            "colorscale": [
             [
              0,
              "#0d0887"
             ],
             [
              0.1111111111111111,
              "#46039f"
             ],
             [
              0.2222222222222222,
              "#7201a8"
             ],
             [
              0.3333333333333333,
              "#9c179e"
             ],
             [
              0.4444444444444444,
              "#bd3786"
             ],
             [
              0.5555555555555556,
              "#d8576b"
             ],
             [
              0.6666666666666666,
              "#ed7953"
             ],
             [
              0.7777777777777778,
              "#fb9f3a"
             ],
             [
              0.8888888888888888,
              "#fdca26"
             ],
             [
              1,
              "#f0f921"
             ]
            ],
            "type": "histogram2d"
           }
          ],
          "histogram2dcontour": [
           {
            "colorbar": {
             "outlinewidth": 0,
             "ticks": ""
            },
            "colorscale": [
             [
              0,
              "#0d0887"
             ],
             [
              0.1111111111111111,
              "#46039f"
             ],
             [
              0.2222222222222222,
              "#7201a8"
             ],
             [
              0.3333333333333333,
              "#9c179e"
             ],
             [
              0.4444444444444444,
              "#bd3786"
             ],
             [
              0.5555555555555556,
              "#d8576b"
             ],
             [
              0.6666666666666666,
              "#ed7953"
             ],
             [
              0.7777777777777778,
              "#fb9f3a"
             ],
             [
              0.8888888888888888,
              "#fdca26"
             ],
             [
              1,
              "#f0f921"
             ]
            ],
            "type": "histogram2dcontour"
           }
          ],
          "mesh3d": [
           {
            "colorbar": {
             "outlinewidth": 0,
             "ticks": ""
            },
            "type": "mesh3d"
           }
          ],
          "parcoords": [
           {
            "line": {
             "colorbar": {
              "outlinewidth": 0,
              "ticks": ""
             }
            },
            "type": "parcoords"
           }
          ],
          "pie": [
           {
            "automargin": true,
            "type": "pie"
           }
          ],
          "scatter": [
           {
            "marker": {
             "colorbar": {
              "outlinewidth": 0,
              "ticks": ""
             }
            },
            "type": "scatter"
           }
          ],
          "scatter3d": [
           {
            "line": {
             "colorbar": {
              "outlinewidth": 0,
              "ticks": ""
             }
            },
            "marker": {
             "colorbar": {
              "outlinewidth": 0,
              "ticks": ""
             }
            },
            "type": "scatter3d"
           }
          ],
          "scattercarpet": [
           {
            "marker": {
             "colorbar": {
              "outlinewidth": 0,
              "ticks": ""
             }
            },
            "type": "scattercarpet"
           }
          ],
          "scattergeo": [
           {
            "marker": {
             "colorbar": {
              "outlinewidth": 0,
              "ticks": ""
             }
            },
            "type": "scattergeo"
           }
          ],
          "scattergl": [
           {
            "marker": {
             "colorbar": {
              "outlinewidth": 0,
              "ticks": ""
             }
            },
            "type": "scattergl"
           }
          ],
          "scattermapbox": [
           {
            "marker": {
             "colorbar": {
              "outlinewidth": 0,
              "ticks": ""
             }
            },
            "type": "scattermapbox"
           }
          ],
          "scatterpolar": [
           {
            "marker": {
             "colorbar": {
              "outlinewidth": 0,
              "ticks": ""
             }
            },
            "type": "scatterpolar"
           }
          ],
          "scatterpolargl": [
           {
            "marker": {
             "colorbar": {
              "outlinewidth": 0,
              "ticks": ""
             }
            },
            "type": "scatterpolargl"
           }
          ],
          "scatterternary": [
           {
            "marker": {
             "colorbar": {
              "outlinewidth": 0,
              "ticks": ""
             }
            },
            "type": "scatterternary"
           }
          ],
          "surface": [
           {
            "colorbar": {
             "outlinewidth": 0,
             "ticks": ""
            },
            "colorscale": [
             [
              0,
              "#0d0887"
             ],
             [
              0.1111111111111111,
              "#46039f"
             ],
             [
              0.2222222222222222,
              "#7201a8"
             ],
             [
              0.3333333333333333,
              "#9c179e"
             ],
             [
              0.4444444444444444,
              "#bd3786"
             ],
             [
              0.5555555555555556,
              "#d8576b"
             ],
             [
              0.6666666666666666,
              "#ed7953"
             ],
             [
              0.7777777777777778,
              "#fb9f3a"
             ],
             [
              0.8888888888888888,
              "#fdca26"
             ],
             [
              1,
              "#f0f921"
             ]
            ],
            "type": "surface"
           }
          ],
          "table": [
           {
            "cells": {
             "fill": {
              "color": "#EBF0F8"
             },
             "line": {
              "color": "white"
             }
            },
            "header": {
             "fill": {
              "color": "#C8D4E3"
             },
             "line": {
              "color": "white"
             }
            },
            "type": "table"
           }
          ]
         },
         "layout": {
          "annotationdefaults": {
           "arrowcolor": "#2a3f5f",
           "arrowhead": 0,
           "arrowwidth": 1
          },
          "autotypenumbers": "strict",
          "coloraxis": {
           "colorbar": {
            "outlinewidth": 0,
            "ticks": ""
           }
          },
          "colorscale": {
           "diverging": [
            [
             0,
             "#8e0152"
            ],
            [
             0.1,
             "#c51b7d"
            ],
            [
             0.2,
             "#de77ae"
            ],
            [
             0.3,
             "#f1b6da"
            ],
            [
             0.4,
             "#fde0ef"
            ],
            [
             0.5,
             "#f7f7f7"
            ],
            [
             0.6,
             "#e6f5d0"
            ],
            [
             0.7,
             "#b8e186"
            ],
            [
             0.8,
             "#7fbc41"
            ],
            [
             0.9,
             "#4d9221"
            ],
            [
             1,
             "#276419"
            ]
           ],
           "sequential": [
            [
             0,
             "#0d0887"
            ],
            [
             0.1111111111111111,
             "#46039f"
            ],
            [
             0.2222222222222222,
             "#7201a8"
            ],
            [
             0.3333333333333333,
             "#9c179e"
            ],
            [
             0.4444444444444444,
             "#bd3786"
            ],
            [
             0.5555555555555556,
             "#d8576b"
            ],
            [
             0.6666666666666666,
             "#ed7953"
            ],
            [
             0.7777777777777778,
             "#fb9f3a"
            ],
            [
             0.8888888888888888,
             "#fdca26"
            ],
            [
             1,
             "#f0f921"
            ]
           ],
           "sequentialminus": [
            [
             0,
             "#0d0887"
            ],
            [
             0.1111111111111111,
             "#46039f"
            ],
            [
             0.2222222222222222,
             "#7201a8"
            ],
            [
             0.3333333333333333,
             "#9c179e"
            ],
            [
             0.4444444444444444,
             "#bd3786"
            ],
            [
             0.5555555555555556,
             "#d8576b"
            ],
            [
             0.6666666666666666,
             "#ed7953"
            ],
            [
             0.7777777777777778,
             "#fb9f3a"
            ],
            [
             0.8888888888888888,
             "#fdca26"
            ],
            [
             1,
             "#f0f921"
            ]
           ]
          },
          "colorway": [
           "#636efa",
           "#EF553B",
           "#00cc96",
           "#ab63fa",
           "#FFA15A",
           "#19d3f3",
           "#FF6692",
           "#B6E880",
           "#FF97FF",
           "#FECB52"
          ],
          "font": {
           "color": "#2a3f5f"
          },
          "geo": {
           "bgcolor": "white",
           "lakecolor": "white",
           "landcolor": "#E5ECF6",
           "showlakes": true,
           "showland": true,
           "subunitcolor": "white"
          },
          "hoverlabel": {
           "align": "left"
          },
          "hovermode": "closest",
          "mapbox": {
           "style": "light"
          },
          "paper_bgcolor": "white",
          "plot_bgcolor": "#E5ECF6",
          "polar": {
           "angularaxis": {
            "gridcolor": "white",
            "linecolor": "white",
            "ticks": ""
           },
           "bgcolor": "#E5ECF6",
           "radialaxis": {
            "gridcolor": "white",
            "linecolor": "white",
            "ticks": ""
           }
          },
          "scene": {
           "xaxis": {
            "backgroundcolor": "#E5ECF6",
            "gridcolor": "white",
            "gridwidth": 2,
            "linecolor": "white",
            "showbackground": true,
            "ticks": "",
            "zerolinecolor": "white"
           },
           "yaxis": {
            "backgroundcolor": "#E5ECF6",
            "gridcolor": "white",
            "gridwidth": 2,
            "linecolor": "white",
            "showbackground": true,
            "ticks": "",
            "zerolinecolor": "white"
           },
           "zaxis": {
            "backgroundcolor": "#E5ECF6",
            "gridcolor": "white",
            "gridwidth": 2,
            "linecolor": "white",
            "showbackground": true,
            "ticks": "",
            "zerolinecolor": "white"
           }
          },
          "shapedefaults": {
           "line": {
            "color": "#2a3f5f"
           }
          },
          "ternary": {
           "aaxis": {
            "gridcolor": "white",
            "linecolor": "white",
            "ticks": ""
           },
           "baxis": {
            "gridcolor": "white",
            "linecolor": "white",
            "ticks": ""
           },
           "bgcolor": "#E5ECF6",
           "caxis": {
            "gridcolor": "white",
            "linecolor": "white",
            "ticks": ""
           }
          },
          "title": {
           "x": 0.05
          },
          "xaxis": {
           "automargin": true,
           "gridcolor": "white",
           "linecolor": "white",
           "ticks": "",
           "title": {
            "standoff": 15
           },
           "zerolinecolor": "white",
           "zerolinewidth": 2
          },
          "yaxis": {
           "automargin": true,
           "gridcolor": "white",
           "linecolor": "white",
           "ticks": "",
           "title": {
            "standoff": 15
           },
           "zerolinecolor": "white",
           "zerolinewidth": 2
          }
         }
        },
        "treemapcolorway": [
         "#154360",
         "#1b4f72",
         "#1a5276",
         "#21618c",
         "#1f618d",
         "#2874a6",
         "#2471a3",
         "#2e86c1",
         "#2980b9",
         "#3498db",
         "#5499c7",
         "#5dade2",
         "#7fb3d5",
         "#85c1e9",
         "#a9cce3"
        ],
        "width": 800
       }
      },
      "text/html": [
       "<div>                            <div id=\"2673844e-1dd0-43c5-bda2-4f1a092de448\" class=\"plotly-graph-div\" style=\"height:500px; width:800px;\"></div>            <script type=\"text/javascript\">                require([\"plotly\"], function(Plotly) {                    window.PLOTLYENV=window.PLOTLYENV || {};                                    if (document.getElementById(\"2673844e-1dd0-43c5-bda2-4f1a092de448\")) {                    Plotly.newPlot(                        \"2673844e-1dd0-43c5-bda2-4f1a092de448\",                        [{\"branchvalues\":\"total\",\"domain\":{\"x\":[0.0,1.0],\"y\":[0.0,1.0]},\"hovertemplate\":\"labels=%{label}<br>value=%{value}<br>parent=%{parent}<br>id=%{id}<extra></extra>\",\"ids\":[\"cdc.gov\",\"cnn.com\",\"goo.gl\",\"medrxiv.org\",\"nature.com\",\"nejm.org\",\"nyti.ms\",\"nytimes.com\",\"reuters.com\",\"statnews.com\",\"theguardian.com\",\"thelancet.com\",\"washingtonpost.com\",\"who.int\",\"youtu.be\"],\"labels\":[\"cdc.gov\",\"cnn.com\",\"goo.gl\",\"medrxiv.org\",\"nature.com\",\"nejm.org\",\"nyti.ms\",\"nytimes.com\",\"reuters.com\",\"statnews.com\",\"theguardian.com\",\"thelancet.com\",\"washingtonpost.com\",\"who.int\",\"youtu.be\"],\"name\":\"\",\"parents\":[\"\",\"\",\"\",\"\",\"\",\"\",\"\",\"\",\"\",\"\",\"\",\"\",\"\",\"\",\"\"],\"type\":\"treemap\",\"values\":[293,224,235,237,684,264,207,1040,194,297,612,313,485,323,206]}],                        {\"height\":500,\"legend\":{\"tracegroupgap\":0},\"margin\":{\"b\":25,\"l\":25,\"r\":25,\"t\":50},\"template\":{\"data\":{\"bar\":[{\"error_x\":{\"color\":\"#2a3f5f\"},\"error_y\":{\"color\":\"#2a3f5f\"},\"marker\":{\"line\":{\"color\":\"#E5ECF6\",\"width\":0.5},\"pattern\":{\"fillmode\":\"overlay\",\"size\":10,\"solidity\":0.2}},\"type\":\"bar\"}],\"barpolar\":[{\"marker\":{\"line\":{\"color\":\"#E5ECF6\",\"width\":0.5},\"pattern\":{\"fillmode\":\"overlay\",\"size\":10,\"solidity\":0.2}},\"type\":\"barpolar\"}],\"carpet\":[{\"aaxis\":{\"endlinecolor\":\"#2a3f5f\",\"gridcolor\":\"white\",\"linecolor\":\"white\",\"minorgridcolor\":\"white\",\"startlinecolor\":\"#2a3f5f\"},\"baxis\":{\"endlinecolor\":\"#2a3f5f\",\"gridcolor\":\"white\",\"linecolor\":\"white\",\"minorgridcolor\":\"white\",\"startlinecolor\":\"#2a3f5f\"},\"type\":\"carpet\"}],\"choropleth\":[{\"colorbar\":{\"outlinewidth\":0,\"ticks\":\"\"},\"type\":\"choropleth\"}],\"contour\":[{\"colorbar\":{\"outlinewidth\":0,\"ticks\":\"\"},\"colorscale\":[[0.0,\"#0d0887\"],[0.1111111111111111,\"#46039f\"],[0.2222222222222222,\"#7201a8\"],[0.3333333333333333,\"#9c179e\"],[0.4444444444444444,\"#bd3786\"],[0.5555555555555556,\"#d8576b\"],[0.6666666666666666,\"#ed7953\"],[0.7777777777777778,\"#fb9f3a\"],[0.8888888888888888,\"#fdca26\"],[1.0,\"#f0f921\"]],\"type\":\"contour\"}],\"contourcarpet\":[{\"colorbar\":{\"outlinewidth\":0,\"ticks\":\"\"},\"type\":\"contourcarpet\"}],\"heatmap\":[{\"colorbar\":{\"outlinewidth\":0,\"ticks\":\"\"},\"colorscale\":[[0.0,\"#0d0887\"],[0.1111111111111111,\"#46039f\"],[0.2222222222222222,\"#7201a8\"],[0.3333333333333333,\"#9c179e\"],[0.4444444444444444,\"#bd3786\"],[0.5555555555555556,\"#d8576b\"],[0.6666666666666666,\"#ed7953\"],[0.7777777777777778,\"#fb9f3a\"],[0.8888888888888888,\"#fdca26\"],[1.0,\"#f0f921\"]],\"type\":\"heatmap\"}],\"heatmapgl\":[{\"colorbar\":{\"outlinewidth\":0,\"ticks\":\"\"},\"colorscale\":[[0.0,\"#0d0887\"],[0.1111111111111111,\"#46039f\"],[0.2222222222222222,\"#7201a8\"],[0.3333333333333333,\"#9c179e\"],[0.4444444444444444,\"#bd3786\"],[0.5555555555555556,\"#d8576b\"],[0.6666666666666666,\"#ed7953\"],[0.7777777777777778,\"#fb9f3a\"],[0.8888888888888888,\"#fdca26\"],[1.0,\"#f0f921\"]],\"type\":\"heatmapgl\"}],\"histogram\":[{\"marker\":{\"pattern\":{\"fillmode\":\"overlay\",\"size\":10,\"solidity\":0.2}},\"type\":\"histogram\"}],\"histogram2d\":[{\"colorbar\":{\"outlinewidth\":0,\"ticks\":\"\"},\"colorscale\":[[0.0,\"#0d0887\"],[0.1111111111111111,\"#46039f\"],[0.2222222222222222,\"#7201a8\"],[0.3333333333333333,\"#9c179e\"],[0.4444444444444444,\"#bd3786\"],[0.5555555555555556,\"#d8576b\"],[0.6666666666666666,\"#ed7953\"],[0.7777777777777778,\"#fb9f3a\"],[0.8888888888888888,\"#fdca26\"],[1.0,\"#f0f921\"]],\"type\":\"histogram2d\"}],\"histogram2dcontour\":[{\"colorbar\":{\"outlinewidth\":0,\"ticks\":\"\"},\"colorscale\":[[0.0,\"#0d0887\"],[0.1111111111111111,\"#46039f\"],[0.2222222222222222,\"#7201a8\"],[0.3333333333333333,\"#9c179e\"],[0.4444444444444444,\"#bd3786\"],[0.5555555555555556,\"#d8576b\"],[0.6666666666666666,\"#ed7953\"],[0.7777777777777778,\"#fb9f3a\"],[0.8888888888888888,\"#fdca26\"],[1.0,\"#f0f921\"]],\"type\":\"histogram2dcontour\"}],\"mesh3d\":[{\"colorbar\":{\"outlinewidth\":0,\"ticks\":\"\"},\"type\":\"mesh3d\"}],\"parcoords\":[{\"line\":{\"colorbar\":{\"outlinewidth\":0,\"ticks\":\"\"}},\"type\":\"parcoords\"}],\"pie\":[{\"automargin\":true,\"type\":\"pie\"}],\"scatter\":[{\"marker\":{\"colorbar\":{\"outlinewidth\":0,\"ticks\":\"\"}},\"type\":\"scatter\"}],\"scatter3d\":[{\"line\":{\"colorbar\":{\"outlinewidth\":0,\"ticks\":\"\"}},\"marker\":{\"colorbar\":{\"outlinewidth\":0,\"ticks\":\"\"}},\"type\":\"scatter3d\"}],\"scattercarpet\":[{\"marker\":{\"colorbar\":{\"outlinewidth\":0,\"ticks\":\"\"}},\"type\":\"scattercarpet\"}],\"scattergeo\":[{\"marker\":{\"colorbar\":{\"outlinewidth\":0,\"ticks\":\"\"}},\"type\":\"scattergeo\"}],\"scattergl\":[{\"marker\":{\"colorbar\":{\"outlinewidth\":0,\"ticks\":\"\"}},\"type\":\"scattergl\"}],\"scattermapbox\":[{\"marker\":{\"colorbar\":{\"outlinewidth\":0,\"ticks\":\"\"}},\"type\":\"scattermapbox\"}],\"scatterpolar\":[{\"marker\":{\"colorbar\":{\"outlinewidth\":0,\"ticks\":\"\"}},\"type\":\"scatterpolar\"}],\"scatterpolargl\":[{\"marker\":{\"colorbar\":{\"outlinewidth\":0,\"ticks\":\"\"}},\"type\":\"scatterpolargl\"}],\"scatterternary\":[{\"marker\":{\"colorbar\":{\"outlinewidth\":0,\"ticks\":\"\"}},\"type\":\"scatterternary\"}],\"surface\":[{\"colorbar\":{\"outlinewidth\":0,\"ticks\":\"\"},\"colorscale\":[[0.0,\"#0d0887\"],[0.1111111111111111,\"#46039f\"],[0.2222222222222222,\"#7201a8\"],[0.3333333333333333,\"#9c179e\"],[0.4444444444444444,\"#bd3786\"],[0.5555555555555556,\"#d8576b\"],[0.6666666666666666,\"#ed7953\"],[0.7777777777777778,\"#fb9f3a\"],[0.8888888888888888,\"#fdca26\"],[1.0,\"#f0f921\"]],\"type\":\"surface\"}],\"table\":[{\"cells\":{\"fill\":{\"color\":\"#EBF0F8\"},\"line\":{\"color\":\"white\"}},\"header\":{\"fill\":{\"color\":\"#C8D4E3\"},\"line\":{\"color\":\"white\"}},\"type\":\"table\"}]},\"layout\":{\"annotationdefaults\":{\"arrowcolor\":\"#2a3f5f\",\"arrowhead\":0,\"arrowwidth\":1},\"autotypenumbers\":\"strict\",\"coloraxis\":{\"colorbar\":{\"outlinewidth\":0,\"ticks\":\"\"}},\"colorscale\":{\"diverging\":[[0,\"#8e0152\"],[0.1,\"#c51b7d\"],[0.2,\"#de77ae\"],[0.3,\"#f1b6da\"],[0.4,\"#fde0ef\"],[0.5,\"#f7f7f7\"],[0.6,\"#e6f5d0\"],[0.7,\"#b8e186\"],[0.8,\"#7fbc41\"],[0.9,\"#4d9221\"],[1,\"#276419\"]],\"sequential\":[[0.0,\"#0d0887\"],[0.1111111111111111,\"#46039f\"],[0.2222222222222222,\"#7201a8\"],[0.3333333333333333,\"#9c179e\"],[0.4444444444444444,\"#bd3786\"],[0.5555555555555556,\"#d8576b\"],[0.6666666666666666,\"#ed7953\"],[0.7777777777777778,\"#fb9f3a\"],[0.8888888888888888,\"#fdca26\"],[1.0,\"#f0f921\"]],\"sequentialminus\":[[0.0,\"#0d0887\"],[0.1111111111111111,\"#46039f\"],[0.2222222222222222,\"#7201a8\"],[0.3333333333333333,\"#9c179e\"],[0.4444444444444444,\"#bd3786\"],[0.5555555555555556,\"#d8576b\"],[0.6666666666666666,\"#ed7953\"],[0.7777777777777778,\"#fb9f3a\"],[0.8888888888888888,\"#fdca26\"],[1.0,\"#f0f921\"]]},\"colorway\":[\"#636efa\",\"#EF553B\",\"#00cc96\",\"#ab63fa\",\"#FFA15A\",\"#19d3f3\",\"#FF6692\",\"#B6E880\",\"#FF97FF\",\"#FECB52\"],\"font\":{\"color\":\"#2a3f5f\"},\"geo\":{\"bgcolor\":\"white\",\"lakecolor\":\"white\",\"landcolor\":\"#E5ECF6\",\"showlakes\":true,\"showland\":true,\"subunitcolor\":\"white\"},\"hoverlabel\":{\"align\":\"left\"},\"hovermode\":\"closest\",\"mapbox\":{\"style\":\"light\"},\"paper_bgcolor\":\"white\",\"plot_bgcolor\":\"#E5ECF6\",\"polar\":{\"angularaxis\":{\"gridcolor\":\"white\",\"linecolor\":\"white\",\"ticks\":\"\"},\"bgcolor\":\"#E5ECF6\",\"radialaxis\":{\"gridcolor\":\"white\",\"linecolor\":\"white\",\"ticks\":\"\"}},\"scene\":{\"xaxis\":{\"backgroundcolor\":\"#E5ECF6\",\"gridcolor\":\"white\",\"gridwidth\":2,\"linecolor\":\"white\",\"showbackground\":true,\"ticks\":\"\",\"zerolinecolor\":\"white\"},\"yaxis\":{\"backgroundcolor\":\"#E5ECF6\",\"gridcolor\":\"white\",\"gridwidth\":2,\"linecolor\":\"white\",\"showbackground\":true,\"ticks\":\"\",\"zerolinecolor\":\"white\"},\"zaxis\":{\"backgroundcolor\":\"#E5ECF6\",\"gridcolor\":\"white\",\"gridwidth\":2,\"linecolor\":\"white\",\"showbackground\":true,\"ticks\":\"\",\"zerolinecolor\":\"white\"}},\"shapedefaults\":{\"line\":{\"color\":\"#2a3f5f\"}},\"ternary\":{\"aaxis\":{\"gridcolor\":\"white\",\"linecolor\":\"white\",\"ticks\":\"\"},\"baxis\":{\"gridcolor\":\"white\",\"linecolor\":\"white\",\"ticks\":\"\"},\"bgcolor\":\"#E5ECF6\",\"caxis\":{\"gridcolor\":\"white\",\"linecolor\":\"white\",\"ticks\":\"\"}},\"title\":{\"x\":0.05},\"xaxis\":{\"automargin\":true,\"gridcolor\":\"white\",\"linecolor\":\"white\",\"ticks\":\"\",\"title\":{\"standoff\":15},\"zerolinecolor\":\"white\",\"zerolinewidth\":2},\"yaxis\":{\"automargin\":true,\"gridcolor\":\"white\",\"linecolor\":\"white\",\"ticks\":\"\",\"title\":{\"standoff\":15},\"zerolinecolor\":\"white\",\"zerolinewidth\":2}}},\"treemapcolorway\":[\"#154360\",\"#1b4f72\",\"#1a5276\",\"#21618c\",\"#1f618d\",\"#2874a6\",\"#2471a3\",\"#2e86c1\",\"#2980b9\",\"#3498db\",\"#5499c7\",\"#5dade2\",\"#7fb3d5\",\"#85c1e9\",\"#a9cce3\"],\"width\":800},                        {\"responsive\": true}                    ).then(function(){\n",
       "                            \n",
       "var gd = document.getElementById('2673844e-1dd0-43c5-bda2-4f1a092de448');\n",
       "var x = new MutationObserver(function (mutations, observer) {{\n",
       "        var display = window.getComputedStyle(gd).display;\n",
       "        if (!display || display === 'none') {{\n",
       "            console.log([gd, 'removed!']);\n",
       "            Plotly.purge(gd);\n",
       "            observer.disconnect();\n",
       "        }}\n",
       "}});\n",
       "\n",
       "// Listen for the removal of the full notebook cells\n",
       "var notebookContainer = gd.closest('#notebook-container');\n",
       "if (notebookContainer) {{\n",
       "    x.observe(notebookContainer, {childList: true});\n",
       "}}\n",
       "\n",
       "// Listen for the clearing of the current output cell\n",
       "var outputEl = gd.closest('.output');\n",
       "if (outputEl) {{\n",
       "    x.observe(outputEl, {childList: true});\n",
       "}}\n",
       "\n",
       "                        })                };                });            </script>        </div>"
      ]
     },
     "metadata": {},
     "output_type": "display_data"
    }
   ],
   "source": [
    "dddf = pd.DataFrame(list(zip(labels, values)), \n",
    "                    columns=[\"labels\", \"values\"])\n",
    "fig = px.treemap(dddf, path=['labels'],values='values', width=800, height=500)\n",
    "colors = [\"#154360\", \"#1b4f72\", \"#1a5276\", \"#21618c\", \"#1f618d\",\n",
    "         \"#2874a6\", \"#2471a3\", \"#2e86c1\", \"#2980b9\", \"#3498db\",\n",
    "         \"#5499c7\", \"#5dade2\", \"#7fb3d5\", \"#85c1e9\", \"#a9cce3\"]\n",
    "fig.update_layout(\n",
    "    treemapcolorway = colors, #defines the colors in the treemap\n",
    "    margin = dict(t=50, l=25, r=25, b=25))\n",
    "fig.show()"
   ]
  },
  {
   "cell_type": "markdown",
   "metadata": {},
   "source": [
    "### Youtube Domain\n",
    "<a id=\"yt\"/>"
   ]
  },
  {
   "cell_type": "markdown",
   "metadata": {},
   "source": [
    "#### Good\n",
    "<a id=\"good_yt\"/>"
   ]
  },
  {
   "cell_type": "code",
   "execution_count": 21,
   "metadata": {},
   "outputs": [],
   "source": [
    "# df_urls = df_good_activity.loc[df_good_activity['urls'] != '[]']\n",
    "# val = [x.split()[3].translate({ord(\"'\"): None}).replace(\",\",\"\") for x in df_urls[\"urls\"]]\n",
    "# val = [x if (\"https://youtu.be\" in x) or (\"https://www.youtube.com\" in x) else np.nan for x in val]\n",
    "# df_urls[\"urls\"] = val\n",
    "# df_urls = df_urls[[\"user_screen_name\", \"urls\"]]\n",
    "# df_urls = df_urls[df_urls[\"urls\"].notna()]\n",
    "# df_urls.rename(columns={'urls': 'URL', \"user_screen_name\": \"NAME\"}, inplace=True)\n",
    "# df_urls.to_csv(path_csv[0] + \"good_dozen_yt_urls.csv\", line_terminator=\"\\n\", \n",
    "#               encoding=\"utf-8\", index=False)"
   ]
  },
  {
   "cell_type": "code",
   "execution_count": 6,
   "metadata": {
    "scrolled": true
   },
   "outputs": [
    {
     "data": {
      "text/html": [
       "<div>\n",
       "<style scoped>\n",
       "    .dataframe tbody tr th:only-of-type {\n",
       "        vertical-align: middle;\n",
       "    }\n",
       "\n",
       "    .dataframe tbody tr th {\n",
       "        vertical-align: top;\n",
       "    }\n",
       "\n",
       "    .dataframe thead th {\n",
       "        text-align: right;\n",
       "    }\n",
       "</style>\n",
       "<table border=\"1\" class=\"dataframe\">\n",
       "  <thead>\n",
       "    <tr style=\"text-align: right;\">\n",
       "      <th></th>\n",
       "      <th>user_name</th>\n",
       "      <th>title</th>\n",
       "      <th>description</th>\n",
       "      <th>url</th>\n",
       "      <th>type</th>\n",
       "      <th>available</th>\n",
       "      <th>reason</th>\n",
       "      <th>retweet_count</th>\n",
       "      <th>urls</th>\n",
       "    </tr>\n",
       "  </thead>\n",
       "  <tbody>\n",
       "    <tr>\n",
       "      <th>813</th>\n",
       "      <td>Ryan_Mac_Phd</td>\n",
       "      <td>How to person woman man camera tv</td>\n",
       "      <td>NaN</td>\n",
       "      <td>https://youtu.be/j8oaaP68i4s</td>\n",
       "      <td>compressed</td>\n",
       "      <td>True</td>\n",
       "      <td>Parsed</td>\n",
       "      <td>35309.0</td>\n",
       "      <td>https://youtu.be/j8oaaP68i4s</td>\n",
       "    </tr>\n",
       "    <tr>\n",
       "      <th>272</th>\n",
       "      <td>DrJayVarma</td>\n",
       "      <td>Hasan Hears Hot Takes From The Audience | Deep...</td>\n",
       "      <td>On the latest Deep Cuts, Hasan hears some hot ...</td>\n",
       "      <td>https://youtu.be/sYShB-DzYO8</td>\n",
       "      <td>compressed</td>\n",
       "      <td>True</td>\n",
       "      <td>Parsed</td>\n",
       "      <td>25286.0</td>\n",
       "      <td>https://youtu.be/sYShB-DzYO8</td>\n",
       "    </tr>\n",
       "    <tr>\n",
       "      <th>861</th>\n",
       "      <td>VirusesImmunity</td>\n",
       "      <td>mRNA ワクチンの有効性と安全性</td>\n",
       "      <td>mRNAワクチンとは何でしょうか？新型コロナに有効なのでしょうか？安全でしょうか？どのような...</td>\n",
       "      <td>https://youtu.be/uv9lVaxA8NY</td>\n",
       "      <td>compressed</td>\n",
       "      <td>True</td>\n",
       "      <td>Parsed</td>\n",
       "      <td>7406.0</td>\n",
       "      <td>https://youtu.be/uv9lVaxA8NY</td>\n",
       "    </tr>\n",
       "    <tr>\n",
       "      <th>565</th>\n",
       "      <td>ChristoPhraser</td>\n",
       "      <td>This Tortoise Could Save a Life - Ft. Alan Ric...</td>\n",
       "      <td>By watching this, you have donated to Save the...</td>\n",
       "      <td>https://www.youtube.com/watch?v=HkiMz-e2ZcE&amp;fe...</td>\n",
       "      <td>decompressed</td>\n",
       "      <td>True</td>\n",
       "      <td>Parsed</td>\n",
       "      <td>2742.0</td>\n",
       "      <td>https://www.youtube.com/watch?v=HkiMz-e2ZcE&amp;fe...</td>\n",
       "    </tr>\n",
       "    <tr>\n",
       "      <th>187</th>\n",
       "      <td>Bob_Wachter</td>\n",
       "      <td>Homer Simpson Conducts Conan’s TBS Exit Interv...</td>\n",
       "      <td>Conan has one last order of business before he...</td>\n",
       "      <td>https://youtu.be/gFfgrPm7-KY</td>\n",
       "      <td>compressed</td>\n",
       "      <td>True</td>\n",
       "      <td>Parsed</td>\n",
       "      <td>1892.0</td>\n",
       "      <td>https://youtu.be/gFfgrPm7-KY</td>\n",
       "    </tr>\n",
       "    <tr>\n",
       "      <th>...</th>\n",
       "      <td>...</td>\n",
       "      <td>...</td>\n",
       "      <td>...</td>\n",
       "      <td>...</td>\n",
       "      <td>...</td>\n",
       "      <td>...</td>\n",
       "      <td>...</td>\n",
       "      <td>...</td>\n",
       "      <td>...</td>\n",
       "    </tr>\n",
       "    <tr>\n",
       "      <th>958</th>\n",
       "      <td>CarlosdelRio7</td>\n",
       "      <td>VACUNATE POR TODOS - vacunas contra el COVID-1...</td>\n",
       "      <td>HITN presenta “Vacúnate por Todos”; un program...</td>\n",
       "      <td>https://youtu.be/z6pmWYk2CcA</td>\n",
       "      <td>compressed</td>\n",
       "      <td>True</td>\n",
       "      <td>Parsed</td>\n",
       "      <td>0.0</td>\n",
       "      <td>https://youtu.be/z6pmWYk2CcA</td>\n",
       "    </tr>\n",
       "    <tr>\n",
       "      <th>514</th>\n",
       "      <td>RELenski</td>\n",
       "      <td>Dean Martin - That's Amore</td>\n",
       "      <td>Dean Martin on Google Play: https://play.googl...</td>\n",
       "      <td>https://www.youtube.com/watch?v=OnFlx2Lnr9Q</td>\n",
       "      <td>decompressed</td>\n",
       "      <td>True</td>\n",
       "      <td>Parsed</td>\n",
       "      <td>0.0</td>\n",
       "      <td>https://www.youtube.com/watch?v=OnFlx2Lnr9Q</td>\n",
       "    </tr>\n",
       "    <tr>\n",
       "      <th>517</th>\n",
       "      <td>RELenski</td>\n",
       "      <td>What's Up, Doc? (1972) - Howard's Send-Off Sce...</td>\n",
       "      <td>What's Up, Doc? movie clips: http://j.mp/1zhof...</td>\n",
       "      <td>https://www.youtube.com/watch?v=dR0_tMYKwXE</td>\n",
       "      <td>decompressed</td>\n",
       "      <td>True</td>\n",
       "      <td>Parsed</td>\n",
       "      <td>0.0</td>\n",
       "      <td>https://www.youtube.com/watch?v=dR0_tMYKwXE</td>\n",
       "    </tr>\n",
       "    <tr>\n",
       "      <th>518</th>\n",
       "      <td>RELenski</td>\n",
       "      <td>Graham: Trump a 'race-baiting, xenophobic reli...</td>\n",
       "      <td>Sen. Lindsey Graham had harsh words for fellow...</td>\n",
       "      <td>https://www.youtube.com/watch?v=2bkDykGhM8c</td>\n",
       "      <td>decompressed</td>\n",
       "      <td>True</td>\n",
       "      <td>Parsed</td>\n",
       "      <td>0.0</td>\n",
       "      <td>https://www.youtube.com/watch?v=2bkDykGhM8c</td>\n",
       "    </tr>\n",
       "    <tr>\n",
       "      <th>625</th>\n",
       "      <td>helleringer143</td>\n",
       "      <td>but basile boli om-psg 1993</td>\n",
       "      <td>but basile boli om-psg 1993</td>\n",
       "      <td>https://www.youtube.com/watch?v=N6lxpFSw8iw</td>\n",
       "      <td>decompressed</td>\n",
       "      <td>True</td>\n",
       "      <td>Parsed</td>\n",
       "      <td>0.0</td>\n",
       "      <td>https://www.youtube.com/watch?v=N6lxpFSw8iw</td>\n",
       "    </tr>\n",
       "  </tbody>\n",
       "</table>\n",
       "<p>1250 rows × 9 columns</p>\n",
       "</div>"
      ],
      "text/plain": [
       "           user_name                                              title  \\\n",
       "813     Ryan_Mac_Phd                  How to person woman man camera tv   \n",
       "272       DrJayVarma  Hasan Hears Hot Takes From The Audience | Deep...   \n",
       "861  VirusesImmunity                                  mRNA ワクチンの有効性と安全性   \n",
       "565   ChristoPhraser  This Tortoise Could Save a Life - Ft. Alan Ric...   \n",
       "187      Bob_Wachter  Homer Simpson Conducts Conan’s TBS Exit Interv...   \n",
       "..               ...                                                ...   \n",
       "958    CarlosdelRio7  VACUNATE POR TODOS - vacunas contra el COVID-1...   \n",
       "514         RELenski                         Dean Martin - That's Amore   \n",
       "517         RELenski  What's Up, Doc? (1972) - Howard's Send-Off Sce...   \n",
       "518         RELenski  Graham: Trump a 'race-baiting, xenophobic reli...   \n",
       "625   helleringer143                        but basile boli om-psg 1993   \n",
       "\n",
       "                                           description  \\\n",
       "813                                                NaN   \n",
       "272  On the latest Deep Cuts, Hasan hears some hot ...   \n",
       "861  mRNAワクチンとは何でしょうか？新型コロナに有効なのでしょうか？安全でしょうか？どのような...   \n",
       "565  By watching this, you have donated to Save the...   \n",
       "187  Conan has one last order of business before he...   \n",
       "..                                                 ...   \n",
       "958  HITN presenta “Vacúnate por Todos”; un program...   \n",
       "514  Dean Martin on Google Play: https://play.googl...   \n",
       "517  What's Up, Doc? movie clips: http://j.mp/1zhof...   \n",
       "518  Sen. Lindsey Graham had harsh words for fellow...   \n",
       "625                        but basile boli om-psg 1993   \n",
       "\n",
       "                                                   url          type  \\\n",
       "813                       https://youtu.be/j8oaaP68i4s    compressed   \n",
       "272                       https://youtu.be/sYShB-DzYO8    compressed   \n",
       "861                       https://youtu.be/uv9lVaxA8NY    compressed   \n",
       "565  https://www.youtube.com/watch?v=HkiMz-e2ZcE&fe...  decompressed   \n",
       "187                       https://youtu.be/gFfgrPm7-KY    compressed   \n",
       "..                                                 ...           ...   \n",
       "958                       https://youtu.be/z6pmWYk2CcA    compressed   \n",
       "514        https://www.youtube.com/watch?v=OnFlx2Lnr9Q  decompressed   \n",
       "517        https://www.youtube.com/watch?v=dR0_tMYKwXE  decompressed   \n",
       "518        https://www.youtube.com/watch?v=2bkDykGhM8c  decompressed   \n",
       "625        https://www.youtube.com/watch?v=N6lxpFSw8iw  decompressed   \n",
       "\n",
       "     available  reason  retweet_count  \\\n",
       "813       True  Parsed        35309.0   \n",
       "272       True  Parsed        25286.0   \n",
       "861       True  Parsed         7406.0   \n",
       "565       True  Parsed         2742.0   \n",
       "187       True  Parsed         1892.0   \n",
       "..         ...     ...            ...   \n",
       "958       True  Parsed            0.0   \n",
       "514       True  Parsed            0.0   \n",
       "517       True  Parsed            0.0   \n",
       "518       True  Parsed            0.0   \n",
       "625       True  Parsed            0.0   \n",
       "\n",
       "                                                  urls  \n",
       "813                       https://youtu.be/j8oaaP68i4s  \n",
       "272                       https://youtu.be/sYShB-DzYO8  \n",
       "861                       https://youtu.be/uv9lVaxA8NY  \n",
       "565  https://www.youtube.com/watch?v=HkiMz-e2ZcE&fe...  \n",
       "187                       https://youtu.be/gFfgrPm7-KY  \n",
       "..                                                 ...  \n",
       "958                       https://youtu.be/z6pmWYk2CcA  \n",
       "514        https://www.youtube.com/watch?v=OnFlx2Lnr9Q  \n",
       "517        https://www.youtube.com/watch?v=dR0_tMYKwXE  \n",
       "518        https://www.youtube.com/watch?v=2bkDykGhM8c  \n",
       "625        https://www.youtube.com/watch?v=N6lxpFSw8iw  \n",
       "\n",
       "[1250 rows x 9 columns]"
      ]
     },
     "execution_count": 6,
     "metadata": {},
     "output_type": "execute_result"
    }
   ],
   "source": [
    "path_urls = glob.glob(\"F:/Supsi/COVID-19-Tweets/large_files/urls/\")\n",
    "yt_df = pd.read_csv(path_urls[0] + \"yt_good_parsed.csv\", lineterminator=\"\\n\")\n",
    "df_urls = df_good_activity.loc[df_good_activity['urls'] != '[]']\n",
    "val = [x.split()[3].translate({ord(\"'\"): None}).replace(\",\",\"\") for x in df_urls[\"urls\"]]\n",
    "val = [x if (\"https://youtu.be\" in x) or (\"https://www.youtube.com\" in x) else np.nan for x in val]\n",
    "df_urls[\"urls\"] = val\n",
    "df_urls = df_urls[[\"retweet_count\", \"urls\"]]\n",
    "df_urls = df_urls[df_urls[\"urls\"].notna()]\n",
    "merge = yt_df.merge(df_urls, left_on=\"url\", right_on=\"urls\", how=\"left\")\n",
    "merge.sort_values(by=[\"retweet_count\"], ascending=False)"
   ]
  },
  {
   "cell_type": "code",
   "execution_count": 8,
   "metadata": {},
   "outputs": [
    {
     "data": {
      "text/plain": [
       "101613.0"
      ]
     },
     "execution_count": 8,
     "metadata": {},
     "output_type": "execute_result"
    }
   ],
   "source": [
    "merge[\"retweet_count\"].sum()"
   ]
  },
  {
   "cell_type": "code",
   "execution_count": 24,
   "metadata": {},
   "outputs": [
    {
     "data": {
      "image/png": "[encoded data removed]",
      "text/plain": [
       "<Figure size 432x288 with 1 Axes>"
      ]
     },
     "metadata": {},
     "output_type": "display_data"
    }
   ],
   "source": [
    "av = len(yt_df[yt_df[\"reason\"]==\"Unavailable\"])\n",
    "unav = len(yt_df[yt_df[\"reason\"]==\"Parsed\"])\n",
    "labels = 'Unavailable', 'Available'\n",
    "sizes = [av, unav]\n",
    "explode = (0, 0.1)  \n",
    "fig1, ax1 = plt.subplots()\n",
    "ax1.pie(sizes, explode=explode, labels=labels, autopct='%1.1f%%',\n",
    "        shadow=True, startangle=90)\n",
    "ax1.axis('equal')\n",
    "plt.show()"
   ]
  },
  {
   "cell_type": "code",
   "execution_count": 25,
   "metadata": {},
   "outputs": [
    {
     "data": {
      "image/png": "[encoded data removed]",
      "text/plain": [
       "<Figure size 432x288 with 1 Axes>"
      ]
     },
     "metadata": {},
     "output_type": "display_data"
    }
   ],
   "source": [
    "comp = len(yt_df[yt_df[\"type\"]==\"compressed\"])\n",
    "decomp = len(yt_df[yt_df[\"type\"]==\"decompressed\"])\n",
    "\n",
    "labels = 'Compressed url', 'Decompressed url'\n",
    "sizes = [comp, decomp]\n",
    "explode = (0, 0.1)  \n",
    "fig1, ax1 = plt.subplots()\n",
    "ax1.pie(sizes, explode=explode, labels=labels, autopct='%1.1f%%',\n",
    "        shadow=True, startangle=90)\n",
    "ax1.axis('equal')\n",
    "plt.show()"
   ]
  },
  {
   "cell_type": "markdown",
   "metadata": {},
   "source": [
    "#### Rt Bad"
   ]
  },
  {
   "cell_type": "code",
   "execution_count": 47,
   "metadata": {},
   "outputs": [
    {
     "data": {
      "image/png": "[encoded data removed]",
      "text/plain": [
       "<Figure size 432x288 with 1 Axes>"
      ]
     },
     "metadata": {},
     "output_type": "display_data"
    },
    {
     "data": {
      "image/png": "[encoded data removed]",
      "text/plain": [
       "<Figure size 432x288 with 1 Axes>"
      ]
     },
     "metadata": {},
     "output_type": "display_data"
    }
   ],
   "source": [
    "path_urls = glob.glob(\"F:/Supsi/COVID-19-Tweets/large_files/urls/\")\n",
    "yt_df = pd.read_csv(path_urls[0] + \"yt_bad_rt_parsed.csv\", lineterminator=\"\\n\")\n",
    "av = len(yt_df[yt_df[\"reason\"]==\"Unavailable\"])\n",
    "unav = len(yt_df[yt_df[\"reason\"]==\"Parsed\"])\n",
    "labels = 'Unavailable', 'Available'\n",
    "sizes = [av, unav]\n",
    "explode = (0, 0.1)  \n",
    "fig1, ax1 = plt.subplots()\n",
    "ax1.pie(sizes, explode=explode, labels=labels, autopct='%1.1f%%',\n",
    "        shadow=True, startangle=90)\n",
    "ax1.axis('equal')\n",
    "plt.show()\n",
    "comp = len(yt_df[yt_df[\"type\"]==\"compressed\"])\n",
    "decomp = len(yt_df[yt_df[\"type\"]==\"decompressed\"])\n",
    "\n",
    "labels = 'Compressed url', 'Decompressed url'\n",
    "sizes = [comp, decomp]\n",
    "explode = (0, 0.1)  \n",
    "fig1, ax1 = plt.subplots()\n",
    "ax1.pie(sizes, explode=explode, labels=labels, autopct='%1.1f%%',\n",
    "        shadow=True, startangle=90)\n",
    "ax1.axis('equal')\n",
    "plt.show()"
   ]
  },
  {
   "cell_type": "markdown",
   "metadata": {},
   "source": [
    "#### SAGE on YouTube\n",
    "<a id=\"sage_yt\"/>"
   ]
  },
  {
   "cell_type": "code",
   "execution_count": 31,
   "metadata": {},
   "outputs": [
    {
     "data": {
      "text/html": [
       "<div>\n",
       "<style scoped>\n",
       "    .dataframe tbody tr th:only-of-type {\n",
       "        vertical-align: middle;\n",
       "    }\n",
       "\n",
       "    .dataframe tbody tr th {\n",
       "        vertical-align: top;\n",
       "    }\n",
       "\n",
       "    .dataframe thead th {\n",
       "        text-align: right;\n",
       "    }\n",
       "</style>\n",
       "<table border=\"1\" class=\"dataframe\">\n",
       "  <thead>\n",
       "    <tr style=\"text-align: right;\">\n",
       "      <th></th>\n",
       "      <th>source</th>\n",
       "      <th>word</th>\n",
       "      <th>sage</th>\n",
       "      <th>file_count</th>\n",
       "      <th>file_rate</th>\n",
       "      <th>base_count</th>\n",
       "      <th>base_rate</th>\n",
       "    </tr>\n",
       "  </thead>\n",
       "  <tbody>\n",
       "    <tr>\n",
       "      <th>0</th>\n",
       "      <td>.\\data\\bad_yt_descriptions.txt</td>\n",
       "      <td>amend</td>\n",
       "      <td>1.952158</td>\n",
       "      <td>27</td>\n",
       "      <td>0.001510</td>\n",
       "      <td>27</td>\n",
       "      <td>0.000323</td>\n",
       "    </tr>\n",
       "    <tr>\n",
       "      <th>1</th>\n",
       "      <td>.\\data\\bad_yt_descriptions.txt</td>\n",
       "      <td>dore</td>\n",
       "      <td>1.947712</td>\n",
       "      <td>25</td>\n",
       "      <td>0.001398</td>\n",
       "      <td>25</td>\n",
       "      <td>0.000299</td>\n",
       "    </tr>\n",
       "    <tr>\n",
       "      <th>2</th>\n",
       "      <td>.\\data\\bad_yt_descriptions.txt</td>\n",
       "      <td>fox</td>\n",
       "      <td>1.912785</td>\n",
       "      <td>56</td>\n",
       "      <td>0.003131</td>\n",
       "      <td>60</td>\n",
       "      <td>0.000718</td>\n",
       "    </tr>\n",
       "    <tr>\n",
       "      <th>3</th>\n",
       "      <td>.\\data\\bad_yt_descriptions.txt</td>\n",
       "      <td>cable</td>\n",
       "      <td>1.907644</td>\n",
       "      <td>15</td>\n",
       "      <td>0.000839</td>\n",
       "      <td>15</td>\n",
       "      <td>0.000180</td>\n",
       "    </tr>\n",
       "    <tr>\n",
       "      <th>4</th>\n",
       "      <td>.\\data\\bad_yt_descriptions.txt</td>\n",
       "      <td>fnc</td>\n",
       "      <td>1.907644</td>\n",
       "      <td>15</td>\n",
       "      <td>0.000839</td>\n",
       "      <td>15</td>\n",
       "      <td>0.000180</td>\n",
       "    </tr>\n",
       "    <tr>\n",
       "      <th>5</th>\n",
       "      <td>.\\data\\bad_yt_descriptions.txt</td>\n",
       "      <td>valuetainment</td>\n",
       "      <td>1.882488</td>\n",
       "      <td>12</td>\n",
       "      <td>0.000671</td>\n",
       "      <td>12</td>\n",
       "      <td>0.000144</td>\n",
       "    </tr>\n",
       "    <tr>\n",
       "      <th>6</th>\n",
       "      <td>.\\data\\bad_yt_descriptions.txt</td>\n",
       "      <td>awakening</td>\n",
       "      <td>1.882488</td>\n",
       "      <td>12</td>\n",
       "      <td>0.000671</td>\n",
       "      <td>12</td>\n",
       "      <td>0.000144</td>\n",
       "    </tr>\n",
       "    <tr>\n",
       "      <th>7</th>\n",
       "      <td>.\\data\\bad_yt_descriptions.txt</td>\n",
       "      <td>sears</td>\n",
       "      <td>1.882488</td>\n",
       "      <td>12</td>\n",
       "      <td>0.000671</td>\n",
       "      <td>12</td>\n",
       "      <td>0.000144</td>\n",
       "    </tr>\n",
       "    <tr>\n",
       "      <th>8</th>\n",
       "      <td>.\\data\\bad_yt_descriptions.txt</td>\n",
       "      <td>nrule</td>\n",
       "      <td>1.882488</td>\n",
       "      <td>12</td>\n",
       "      <td>0.000671</td>\n",
       "      <td>12</td>\n",
       "      <td>0.000144</td>\n",
       "    </tr>\n",
       "    <tr>\n",
       "      <th>9</th>\n",
       "      <td>.\\data\\bad_yt_descriptions.txt</td>\n",
       "      <td>censorship</td>\n",
       "      <td>1.882488</td>\n",
       "      <td>12</td>\n",
       "      <td>0.000671</td>\n",
       "      <td>12</td>\n",
       "      <td>0.000144</td>\n",
       "    </tr>\n",
       "    <tr>\n",
       "      <th>10</th>\n",
       "      <td>.\\data\\bad_yt_descriptions.txt</td>\n",
       "      <td>pixie</td>\n",
       "      <td>1.882488</td>\n",
       "      <td>12</td>\n",
       "      <td>0.000671</td>\n",
       "      <td>12</td>\n",
       "      <td>0.000144</td>\n",
       "    </tr>\n",
       "    <tr>\n",
       "      <th>11</th>\n",
       "      <td>.\\data\\bad_yt_descriptions.txt</td>\n",
       "      <td>awakened</td>\n",
       "      <td>1.882488</td>\n",
       "      <td>12</td>\n",
       "      <td>0.000671</td>\n",
       "      <td>12</td>\n",
       "      <td>0.000144</td>\n",
       "    </tr>\n",
       "    <tr>\n",
       "      <th>12</th>\n",
       "      <td>.\\data\\bad_yt_descriptions.txt</td>\n",
       "      <td>awaken</td>\n",
       "      <td>1.882488</td>\n",
       "      <td>12</td>\n",
       "      <td>0.000671</td>\n",
       "      <td>12</td>\n",
       "      <td>0.000144</td>\n",
       "    </tr>\n",
       "    <tr>\n",
       "      <th>13</th>\n",
       "      <td>.\\data\\bad_yt_descriptions.txt</td>\n",
       "      <td>npbd</td>\n",
       "      <td>1.882488</td>\n",
       "      <td>12</td>\n",
       "      <td>0.000671</td>\n",
       "      <td>12</td>\n",
       "      <td>0.000144</td>\n",
       "    </tr>\n",
       "    <tr>\n",
       "      <th>14</th>\n",
       "      <td>.\\data\\bad_yt_descriptions.txt</td>\n",
       "      <td>meditation</td>\n",
       "      <td>1.872238</td>\n",
       "      <td>18</td>\n",
       "      <td>0.001007</td>\n",
       "      <td>19</td>\n",
       "      <td>0.000227</td>\n",
       "    </tr>\n",
       "    <tr>\n",
       "      <th>15</th>\n",
       "      <td>.\\data\\bad_yt_descriptions.txt</td>\n",
       "      <td>constitution</td>\n",
       "      <td>1.871013</td>\n",
       "      <td>11</td>\n",
       "      <td>0.000615</td>\n",
       "      <td>11</td>\n",
       "      <td>0.000132</td>\n",
       "    </tr>\n",
       "    <tr>\n",
       "      <th>16</th>\n",
       "      <td>.\\data\\bad_yt_descriptions.txt</td>\n",
       "      <td>pam</td>\n",
       "      <td>1.871013</td>\n",
       "      <td>11</td>\n",
       "      <td>0.000615</td>\n",
       "      <td>11</td>\n",
       "      <td>0.000132</td>\n",
       "    </tr>\n",
       "    <tr>\n",
       "      <th>17</th>\n",
       "      <td>.\\data\\bad_yt_descriptions.txt</td>\n",
       "      <td>jp</td>\n",
       "      <td>1.864447</td>\n",
       "      <td>17</td>\n",
       "      <td>0.000951</td>\n",
       "      <td>18</td>\n",
       "      <td>0.000215</td>\n",
       "    </tr>\n",
       "    <tr>\n",
       "      <th>18</th>\n",
       "      <td>.\\data\\bad_yt_descriptions.txt</td>\n",
       "      <td>keys</td>\n",
       "      <td>1.857205</td>\n",
       "      <td>10</td>\n",
       "      <td>0.000559</td>\n",
       "      <td>10</td>\n",
       "      <td>0.000120</td>\n",
       "    </tr>\n",
       "    <tr>\n",
       "      <th>19</th>\n",
       "      <td>.\\data\\bad_yt_descriptions.txt</td>\n",
       "      <td>nchapter</td>\n",
       "      <td>1.857205</td>\n",
       "      <td>10</td>\n",
       "      <td>0.000559</td>\n",
       "      <td>10</td>\n",
       "      <td>0.000120</td>\n",
       "    </tr>\n",
       "    <tr>\n",
       "      <th>20</th>\n",
       "      <td>.\\data\\good_yt_descriptions.txt</td>\n",
       "      <td>la</td>\n",
       "      <td>0.406291</td>\n",
       "      <td>98</td>\n",
       "      <td>0.001492</td>\n",
       "      <td>99</td>\n",
       "      <td>0.001185</td>\n",
       "    </tr>\n",
       "    <tr>\n",
       "      <th>21</th>\n",
       "      <td>.\\data\\good_yt_descriptions.txt</td>\n",
       "      <td>virology</td>\n",
       "      <td>0.405924</td>\n",
       "      <td>76</td>\n",
       "      <td>0.001157</td>\n",
       "      <td>76</td>\n",
       "      <td>0.000909</td>\n",
       "    </tr>\n",
       "    <tr>\n",
       "      <th>22</th>\n",
       "      <td>.\\data\\good_yt_descriptions.txt</td>\n",
       "      <td>covid</td>\n",
       "      <td>0.401909</td>\n",
       "      <td>402</td>\n",
       "      <td>0.006120</td>\n",
       "      <td>419</td>\n",
       "      <td>0.005014</td>\n",
       "    </tr>\n",
       "    <tr>\n",
       "      <th>23</th>\n",
       "      <td>.\\data\\good_yt_descriptions.txt</td>\n",
       "      <td>infectious</td>\n",
       "      <td>0.396228</td>\n",
       "      <td>64</td>\n",
       "      <td>0.000974</td>\n",
       "      <td>64</td>\n",
       "      <td>0.000766</td>\n",
       "    </tr>\n",
       "    <tr>\n",
       "      <th>24</th>\n",
       "      <td>.\\data\\good_yt_descriptions.txt</td>\n",
       "      <td>19</td>\n",
       "      <td>0.393077</td>\n",
       "      <td>358</td>\n",
       "      <td>0.005451</td>\n",
       "      <td>376</td>\n",
       "      <td>0.004499</td>\n",
       "    </tr>\n",
       "    <tr>\n",
       "      <th>25</th>\n",
       "      <td>.\\data\\good_yt_descriptions.txt</td>\n",
       "      <td>director</td>\n",
       "      <td>0.392084</td>\n",
       "      <td>125</td>\n",
       "      <td>0.001903</td>\n",
       "      <td>129</td>\n",
       "      <td>0.001544</td>\n",
       "    </tr>\n",
       "    <tr>\n",
       "      <th>26</th>\n",
       "      <td>.\\data\\good_yt_descriptions.txt</td>\n",
       "      <td>viruses</td>\n",
       "      <td>0.390832</td>\n",
       "      <td>59</td>\n",
       "      <td>0.000898</td>\n",
       "      <td>59</td>\n",
       "      <td>0.000706</td>\n",
       "    </tr>\n",
       "    <tr>\n",
       "      <th>27</th>\n",
       "      <td>.\\data\\good_yt_descriptions.txt</td>\n",
       "      <td>coronavirus</td>\n",
       "      <td>0.381979</td>\n",
       "      <td>163</td>\n",
       "      <td>0.002482</td>\n",
       "      <td>171</td>\n",
       "      <td>0.002046</td>\n",
       "    </tr>\n",
       "    <tr>\n",
       "      <th>28</th>\n",
       "      <td>.\\data\\good_yt_descriptions.txt</td>\n",
       "      <td>outbreaks</td>\n",
       "      <td>0.372073</td>\n",
       "      <td>47</td>\n",
       "      <td>0.000716</td>\n",
       "      <td>47</td>\n",
       "      <td>0.000562</td>\n",
       "    </tr>\n",
       "    <tr>\n",
       "      <th>29</th>\n",
       "      <td>.\\data\\good_yt_descriptions.txt</td>\n",
       "      <td>development</td>\n",
       "      <td>0.368752</td>\n",
       "      <td>57</td>\n",
       "      <td>0.000868</td>\n",
       "      <td>58</td>\n",
       "      <td>0.000694</td>\n",
       "    </tr>\n",
       "    <tr>\n",
       "      <th>30</th>\n",
       "      <td>.\\data\\good_yt_descriptions.txt</td>\n",
       "      <td>vaccines</td>\n",
       "      <td>0.366214</td>\n",
       "      <td>145</td>\n",
       "      <td>0.002208</td>\n",
       "      <td>154</td>\n",
       "      <td>0.001843</td>\n",
       "    </tr>\n",
       "    <tr>\n",
       "      <th>31</th>\n",
       "      <td>.\\data\\good_yt_descriptions.txt</td>\n",
       "      <td>virus</td>\n",
       "      <td>0.365665</td>\n",
       "      <td>133</td>\n",
       "      <td>0.002025</td>\n",
       "      <td>141</td>\n",
       "      <td>0.001687</td>\n",
       "    </tr>\n",
       "    <tr>\n",
       "      <th>32</th>\n",
       "      <td>.\\data\\good_yt_descriptions.txt</td>\n",
       "      <td>nand</td>\n",
       "      <td>0.362163</td>\n",
       "      <td>128</td>\n",
       "      <td>0.001949</td>\n",
       "      <td>136</td>\n",
       "      <td>0.001627</td>\n",
       "    </tr>\n",
       "    <tr>\n",
       "      <th>33</th>\n",
       "      <td>.\\data\\good_yt_descriptions.txt</td>\n",
       "      <td>cases</td>\n",
       "      <td>0.360412</td>\n",
       "      <td>63</td>\n",
       "      <td>0.000959</td>\n",
       "      <td>65</td>\n",
       "      <td>0.000778</td>\n",
       "    </tr>\n",
       "    <tr>\n",
       "      <th>34</th>\n",
       "      <td>.\\data\\good_yt_descriptions.txt</td>\n",
       "      <td>diseases</td>\n",
       "      <td>0.358717</td>\n",
       "      <td>62</td>\n",
       "      <td>0.000944</td>\n",
       "      <td>64</td>\n",
       "      <td>0.000766</td>\n",
       "    </tr>\n",
       "    <tr>\n",
       "      <th>35</th>\n",
       "      <td>.\\data\\good_yt_descriptions.txt</td>\n",
       "      <td>know</td>\n",
       "      <td>0.356805</td>\n",
       "      <td>91</td>\n",
       "      <td>0.001385</td>\n",
       "      <td>96</td>\n",
       "      <td>0.001149</td>\n",
       "    </tr>\n",
       "    <tr>\n",
       "      <th>36</th>\n",
       "      <td>.\\data\\good_yt_descriptions.txt</td>\n",
       "      <td>science</td>\n",
       "      <td>0.355967</td>\n",
       "      <td>130</td>\n",
       "      <td>0.001979</td>\n",
       "      <td>139</td>\n",
       "      <td>0.001663</td>\n",
       "    </tr>\n",
       "    <tr>\n",
       "      <th>37</th>\n",
       "      <td>.\\data\\good_yt_descriptions.txt</td>\n",
       "      <td>data</td>\n",
       "      <td>0.355361</td>\n",
       "      <td>70</td>\n",
       "      <td>0.001066</td>\n",
       "      <td>73</td>\n",
       "      <td>0.000874</td>\n",
       "    </tr>\n",
       "    <tr>\n",
       "      <th>38</th>\n",
       "      <td>.\\data\\good_yt_descriptions.txt</td>\n",
       "      <td>variant</td>\n",
       "      <td>0.354148</td>\n",
       "      <td>40</td>\n",
       "      <td>0.000609</td>\n",
       "      <td>40</td>\n",
       "      <td>0.000479</td>\n",
       "    </tr>\n",
       "    <tr>\n",
       "      <th>39</th>\n",
       "      <td>.\\data\\good_yt_descriptions.txt</td>\n",
       "      <td>university</td>\n",
       "      <td>0.350275</td>\n",
       "      <td>123</td>\n",
       "      <td>0.001873</td>\n",
       "      <td>132</td>\n",
       "      <td>0.001580</td>\n",
       "    </tr>\n",
       "  </tbody>\n",
       "</table>\n",
       "</div>"
      ],
      "text/plain": [
       "                             source           word      sage  file_count  \\\n",
       "0    .\\data\\bad_yt_descriptions.txt          amend  1.952158          27   \n",
       "1    .\\data\\bad_yt_descriptions.txt           dore  1.947712          25   \n",
       "2    .\\data\\bad_yt_descriptions.txt            fox  1.912785          56   \n",
       "3    .\\data\\bad_yt_descriptions.txt          cable  1.907644          15   \n",
       "4    .\\data\\bad_yt_descriptions.txt            fnc  1.907644          15   \n",
       "5    .\\data\\bad_yt_descriptions.txt  valuetainment  1.882488          12   \n",
       "6    .\\data\\bad_yt_descriptions.txt      awakening  1.882488          12   \n",
       "7    .\\data\\bad_yt_descriptions.txt          sears  1.882488          12   \n",
       "8    .\\data\\bad_yt_descriptions.txt          nrule  1.882488          12   \n",
       "9    .\\data\\bad_yt_descriptions.txt     censorship  1.882488          12   \n",
       "10   .\\data\\bad_yt_descriptions.txt          pixie  1.882488          12   \n",
       "11   .\\data\\bad_yt_descriptions.txt       awakened  1.882488          12   \n",
       "12   .\\data\\bad_yt_descriptions.txt         awaken  1.882488          12   \n",
       "13   .\\data\\bad_yt_descriptions.txt           npbd  1.882488          12   \n",
       "14   .\\data\\bad_yt_descriptions.txt     meditation  1.872238          18   \n",
       "15   .\\data\\bad_yt_descriptions.txt   constitution  1.871013          11   \n",
       "16   .\\data\\bad_yt_descriptions.txt            pam  1.871013          11   \n",
       "17   .\\data\\bad_yt_descriptions.txt             jp  1.864447          17   \n",
       "18   .\\data\\bad_yt_descriptions.txt           keys  1.857205          10   \n",
       "19   .\\data\\bad_yt_descriptions.txt       nchapter  1.857205          10   \n",
       "20  .\\data\\good_yt_descriptions.txt             la  0.406291          98   \n",
       "21  .\\data\\good_yt_descriptions.txt       virology  0.405924          76   \n",
       "22  .\\data\\good_yt_descriptions.txt          covid  0.401909         402   \n",
       "23  .\\data\\good_yt_descriptions.txt     infectious  0.396228          64   \n",
       "24  .\\data\\good_yt_descriptions.txt             19  0.393077         358   \n",
       "25  .\\data\\good_yt_descriptions.txt       director  0.392084         125   \n",
       "26  .\\data\\good_yt_descriptions.txt        viruses  0.390832          59   \n",
       "27  .\\data\\good_yt_descriptions.txt    coronavirus  0.381979         163   \n",
       "28  .\\data\\good_yt_descriptions.txt      outbreaks  0.372073          47   \n",
       "29  .\\data\\good_yt_descriptions.txt    development  0.368752          57   \n",
       "30  .\\data\\good_yt_descriptions.txt       vaccines  0.366214         145   \n",
       "31  .\\data\\good_yt_descriptions.txt          virus  0.365665         133   \n",
       "32  .\\data\\good_yt_descriptions.txt           nand  0.362163         128   \n",
       "33  .\\data\\good_yt_descriptions.txt          cases  0.360412          63   \n",
       "34  .\\data\\good_yt_descriptions.txt       diseases  0.358717          62   \n",
       "35  .\\data\\good_yt_descriptions.txt           know  0.356805          91   \n",
       "36  .\\data\\good_yt_descriptions.txt        science  0.355967         130   \n",
       "37  .\\data\\good_yt_descriptions.txt           data  0.355361          70   \n",
       "38  .\\data\\good_yt_descriptions.txt        variant  0.354148          40   \n",
       "39  .\\data\\good_yt_descriptions.txt     university  0.350275         123   \n",
       "\n",
       "    file_rate  base_count  base_rate  \n",
       "0    0.001510          27   0.000323  \n",
       "1    0.001398          25   0.000299  \n",
       "2    0.003131          60   0.000718  \n",
       "3    0.000839          15   0.000180  \n",
       "4    0.000839          15   0.000180  \n",
       "5    0.000671          12   0.000144  \n",
       "6    0.000671          12   0.000144  \n",
       "7    0.000671          12   0.000144  \n",
       "8    0.000671          12   0.000144  \n",
       "9    0.000671          12   0.000144  \n",
       "10   0.000671          12   0.000144  \n",
       "11   0.000671          12   0.000144  \n",
       "12   0.000671          12   0.000144  \n",
       "13   0.000671          12   0.000144  \n",
       "14   0.001007          19   0.000227  \n",
       "15   0.000615          11   0.000132  \n",
       "16   0.000615          11   0.000132  \n",
       "17   0.000951          18   0.000215  \n",
       "18   0.000559          10   0.000120  \n",
       "19   0.000559          10   0.000120  \n",
       "20   0.001492          99   0.001185  \n",
       "21   0.001157          76   0.000909  \n",
       "22   0.006120         419   0.005014  \n",
       "23   0.000974          64   0.000766  \n",
       "24   0.005451         376   0.004499  \n",
       "25   0.001903         129   0.001544  \n",
       "26   0.000898          59   0.000706  \n",
       "27   0.002482         171   0.002046  \n",
       "28   0.000716          47   0.000562  \n",
       "29   0.000868          58   0.000694  \n",
       "30   0.002208         154   0.001843  \n",
       "31   0.002025         141   0.001687  \n",
       "32   0.001949         136   0.001627  \n",
       "33   0.000959          65   0.000778  \n",
       "34   0.000944          64   0.000766  \n",
       "35   0.001385          96   0.001149  \n",
       "36   0.001979         139   0.001663  \n",
       "37   0.001066          73   0.000874  \n",
       "38   0.000609          40   0.000479  \n",
       "39   0.001873         132   0.001580  "
      ]
     },
     "execution_count": 31,
     "metadata": {},
     "output_type": "execute_result"
    }
   ],
   "source": [
    "sage_description = pd.read_csv(\"F:/Supsi/COVID-19-Tweets/large_files/sage_data/yt_description_sage.csv\",\n",
    "                              lineterminator=\"\\n\", low_memory=False)\n",
    "sage_description"
   ]
  },
  {
   "cell_type": "code",
   "execution_count": 32,
   "metadata": {},
   "outputs": [
    {
     "data": {
      "text/html": [
       "<div>\n",
       "<style scoped>\n",
       "    .dataframe tbody tr th:only-of-type {\n",
       "        vertical-align: middle;\n",
       "    }\n",
       "\n",
       "    .dataframe tbody tr th {\n",
       "        vertical-align: top;\n",
       "    }\n",
       "\n",
       "    .dataframe thead th {\n",
       "        text-align: right;\n",
       "    }\n",
       "</style>\n",
       "<table border=\"1\" class=\"dataframe\">\n",
       "  <thead>\n",
       "    <tr style=\"text-align: right;\">\n",
       "      <th></th>\n",
       "      <th>source</th>\n",
       "      <th>word</th>\n",
       "      <th>sage</th>\n",
       "      <th>file_count</th>\n",
       "      <th>file_rate</th>\n",
       "      <th>base_count</th>\n",
       "      <th>base_rate</th>\n",
       "    </tr>\n",
       "  </thead>\n",
       "  <tbody>\n",
       "    <tr>\n",
       "      <th>0</th>\n",
       "      <td>.\\data\\bad_yt_titles.txt</td>\n",
       "      <td>right</td>\n",
       "      <td>1.910087</td>\n",
       "      <td>7</td>\n",
       "      <td>0.005132</td>\n",
       "      <td>8</td>\n",
       "      <td>0.001056</td>\n",
       "    </tr>\n",
       "    <tr>\n",
       "      <th>1</th>\n",
       "      <td>.\\data\\bad_yt_titles.txt</td>\n",
       "      <td>told</td>\n",
       "      <td>1.872861</td>\n",
       "      <td>4</td>\n",
       "      <td>0.002933</td>\n",
       "      <td>4</td>\n",
       "      <td>0.000528</td>\n",
       "    </tr>\n",
       "    <tr>\n",
       "      <th>2</th>\n",
       "      <td>.\\data\\bad_yt_titles.txt</td>\n",
       "      <td>byron</td>\n",
       "      <td>1.872861</td>\n",
       "      <td>4</td>\n",
       "      <td>0.002933</td>\n",
       "      <td>4</td>\n",
       "      <td>0.000528</td>\n",
       "    </tr>\n",
       "    <tr>\n",
       "      <th>3</th>\n",
       "      <td>.\\data\\bad_yt_titles.txt</td>\n",
       "      <td>reparations</td>\n",
       "      <td>1.872861</td>\n",
       "      <td>4</td>\n",
       "      <td>0.002933</td>\n",
       "      <td>4</td>\n",
       "      <td>0.000528</td>\n",
       "    </tr>\n",
       "    <tr>\n",
       "      <th>4</th>\n",
       "      <td>.\\data\\bad_yt_titles.txt</td>\n",
       "      <td>truth</td>\n",
       "      <td>1.857430</td>\n",
       "      <td>6</td>\n",
       "      <td>0.004399</td>\n",
       "      <td>7</td>\n",
       "      <td>0.000924</td>\n",
       "    </tr>\n",
       "    <tr>\n",
       "      <th>5</th>\n",
       "      <td>.\\data\\bad_yt_titles.txt</td>\n",
       "      <td>agenda</td>\n",
       "      <td>1.783770</td>\n",
       "      <td>5</td>\n",
       "      <td>0.003666</td>\n",
       "      <td>6</td>\n",
       "      <td>0.000792</td>\n",
       "    </tr>\n",
       "    <tr>\n",
       "      <th>6</th>\n",
       "      <td>.\\data\\bad_yt_titles.txt</td>\n",
       "      <td>election</td>\n",
       "      <td>1.739247</td>\n",
       "      <td>3</td>\n",
       "      <td>0.002199</td>\n",
       "      <td>3</td>\n",
       "      <td>0.000396</td>\n",
       "    </tr>\n",
       "    <tr>\n",
       "      <th>7</th>\n",
       "      <td>.\\data\\bad_yt_titles.txt</td>\n",
       "      <td>americans</td>\n",
       "      <td>1.739247</td>\n",
       "      <td>3</td>\n",
       "      <td>0.002199</td>\n",
       "      <td>3</td>\n",
       "      <td>0.000396</td>\n",
       "    </tr>\n",
       "    <tr>\n",
       "      <th>8</th>\n",
       "      <td>.\\data\\bad_yt_titles.txt</td>\n",
       "      <td>pleiadian</td>\n",
       "      <td>1.739247</td>\n",
       "      <td>3</td>\n",
       "      <td>0.002199</td>\n",
       "      <td>3</td>\n",
       "      <td>0.000396</td>\n",
       "    </tr>\n",
       "    <tr>\n",
       "      <th>9</th>\n",
       "      <td>.\\data\\bad_yt_titles.txt</td>\n",
       "      <td>heated</td>\n",
       "      <td>1.739247</td>\n",
       "      <td>3</td>\n",
       "      <td>0.002199</td>\n",
       "      <td>3</td>\n",
       "      <td>0.000396</td>\n",
       "    </tr>\n",
       "    <tr>\n",
       "      <th>10</th>\n",
       "      <td>.\\data\\bad_yt_titles.txt</td>\n",
       "      <td>robert</td>\n",
       "      <td>1.639047</td>\n",
       "      <td>5</td>\n",
       "      <td>0.003666</td>\n",
       "      <td>7</td>\n",
       "      <td>0.000924</td>\n",
       "    </tr>\n",
       "    <tr>\n",
       "      <th>11</th>\n",
       "      <td>.\\data\\bad_yt_titles.txt</td>\n",
       "      <td>trump</td>\n",
       "      <td>1.586230</td>\n",
       "      <td>10</td>\n",
       "      <td>0.007331</td>\n",
       "      <td>17</td>\n",
       "      <td>0.002244</td>\n",
       "    </tr>\n",
       "    <tr>\n",
       "      <th>12</th>\n",
       "      <td>.\\data\\bad_yt_titles.txt</td>\n",
       "      <td>doctor</td>\n",
       "      <td>1.509266</td>\n",
       "      <td>5</td>\n",
       "      <td>0.003666</td>\n",
       "      <td>8</td>\n",
       "      <td>0.001056</td>\n",
       "    </tr>\n",
       "    <tr>\n",
       "      <th>13</th>\n",
       "      <td>.\\data\\bad_yt_titles.txt</td>\n",
       "      <td>documentary</td>\n",
       "      <td>1.509266</td>\n",
       "      <td>5</td>\n",
       "      <td>0.003666</td>\n",
       "      <td>8</td>\n",
       "      <td>0.001056</td>\n",
       "    </tr>\n",
       "    <tr>\n",
       "      <th>14</th>\n",
       "      <td>.\\data\\bad_yt_titles.txt</td>\n",
       "      <td>debate</td>\n",
       "      <td>1.472384</td>\n",
       "      <td>3</td>\n",
       "      <td>0.002199</td>\n",
       "      <td>4</td>\n",
       "      <td>0.000528</td>\n",
       "    </tr>\n",
       "    <tr>\n",
       "      <th>15</th>\n",
       "      <td>.\\data\\bad_yt_titles.txt</td>\n",
       "      <td>rights</td>\n",
       "      <td>1.472384</td>\n",
       "      <td>3</td>\n",
       "      <td>0.002199</td>\n",
       "      <td>4</td>\n",
       "      <td>0.000528</td>\n",
       "    </tr>\n",
       "    <tr>\n",
       "      <th>16</th>\n",
       "      <td>.\\data\\bad_yt_titles.txt</td>\n",
       "      <td>west</td>\n",
       "      <td>1.472384</td>\n",
       "      <td>3</td>\n",
       "      <td>0.002199</td>\n",
       "      <td>4</td>\n",
       "      <td>0.000528</td>\n",
       "    </tr>\n",
       "    <tr>\n",
       "      <th>17</th>\n",
       "      <td>.\\data\\bad_yt_titles.txt</td>\n",
       "      <td>kennedy</td>\n",
       "      <td>1.472384</td>\n",
       "      <td>3</td>\n",
       "      <td>0.002199</td>\n",
       "      <td>4</td>\n",
       "      <td>0.000528</td>\n",
       "    </tr>\n",
       "    <tr>\n",
       "      <th>18</th>\n",
       "      <td>.\\data\\bad_yt_titles.txt</td>\n",
       "      <td>exposing</td>\n",
       "      <td>1.472384</td>\n",
       "      <td>3</td>\n",
       "      <td>0.002199</td>\n",
       "      <td>4</td>\n",
       "      <td>0.000528</td>\n",
       "    </tr>\n",
       "    <tr>\n",
       "      <th>19</th>\n",
       "      <td>.\\data\\bad_yt_titles.txt</td>\n",
       "      <td>big</td>\n",
       "      <td>1.390847</td>\n",
       "      <td>5</td>\n",
       "      <td>0.003666</td>\n",
       "      <td>9</td>\n",
       "      <td>0.001188</td>\n",
       "    </tr>\n",
       "    <tr>\n",
       "      <th>20</th>\n",
       "      <td>.\\data\\good_yt_titles.txt</td>\n",
       "      <td>covid</td>\n",
       "      <td>0.526127</td>\n",
       "      <td>140</td>\n",
       "      <td>0.022537</td>\n",
       "      <td>153</td>\n",
       "      <td>0.020195</td>\n",
       "    </tr>\n",
       "    <tr>\n",
       "      <th>21</th>\n",
       "      <td>.\\data\\good_yt_titles.txt</td>\n",
       "      <td>19</td>\n",
       "      <td>0.509431</td>\n",
       "      <td>99</td>\n",
       "      <td>0.015937</td>\n",
       "      <td>109</td>\n",
       "      <td>0.014388</td>\n",
       "    </tr>\n",
       "    <tr>\n",
       "      <th>22</th>\n",
       "      <td>.\\data\\good_yt_titles.txt</td>\n",
       "      <td>coronavirus</td>\n",
       "      <td>0.504223</td>\n",
       "      <td>52</td>\n",
       "      <td>0.008371</td>\n",
       "      <td>56</td>\n",
       "      <td>0.007392</td>\n",
       "    </tr>\n",
       "    <tr>\n",
       "      <th>23</th>\n",
       "      <td>.\\data\\good_yt_titles.txt</td>\n",
       "      <td>health</td>\n",
       "      <td>0.501547</td>\n",
       "      <td>44</td>\n",
       "      <td>0.007083</td>\n",
       "      <td>47</td>\n",
       "      <td>0.006204</td>\n",
       "    </tr>\n",
       "    <tr>\n",
       "      <th>24</th>\n",
       "      <td>.\\data\\good_yt_titles.txt</td>\n",
       "      <td>live</td>\n",
       "      <td>0.494589</td>\n",
       "      <td>42</td>\n",
       "      <td>0.006761</td>\n",
       "      <td>45</td>\n",
       "      <td>0.005940</td>\n",
       "    </tr>\n",
       "    <tr>\n",
       "      <th>25</th>\n",
       "      <td>.\\data\\good_yt_titles.txt</td>\n",
       "      <td>2021</td>\n",
       "      <td>0.486879</td>\n",
       "      <td>40</td>\n",
       "      <td>0.006439</td>\n",
       "      <td>43</td>\n",
       "      <td>0.005676</td>\n",
       "    </tr>\n",
       "    <tr>\n",
       "      <th>26</th>\n",
       "      <td>.\\data\\good_yt_titles.txt</td>\n",
       "      <td>science</td>\n",
       "      <td>0.476824</td>\n",
       "      <td>26</td>\n",
       "      <td>0.004185</td>\n",
       "      <td>27</td>\n",
       "      <td>0.003564</td>\n",
       "    </tr>\n",
       "    <tr>\n",
       "      <th>27</th>\n",
       "      <td>.\\data\\good_yt_titles.txt</td>\n",
       "      <td>de</td>\n",
       "      <td>0.448815</td>\n",
       "      <td>18</td>\n",
       "      <td>0.002898</td>\n",
       "      <td>18</td>\n",
       "      <td>0.002376</td>\n",
       "    </tr>\n",
       "    <tr>\n",
       "      <th>28</th>\n",
       "      <td>.\\data\\good_yt_titles.txt</td>\n",
       "      <td>vaccines</td>\n",
       "      <td>0.444309</td>\n",
       "      <td>32</td>\n",
       "      <td>0.005151</td>\n",
       "      <td>35</td>\n",
       "      <td>0.004620</td>\n",
       "    </tr>\n",
       "    <tr>\n",
       "      <th>29</th>\n",
       "      <td>.\\data\\good_yt_titles.txt</td>\n",
       "      <td>watch</td>\n",
       "      <td>0.431193</td>\n",
       "      <td>17</td>\n",
       "      <td>0.002737</td>\n",
       "      <td>17</td>\n",
       "      <td>0.002244</td>\n",
       "    </tr>\n",
       "    <tr>\n",
       "      <th>30</th>\n",
       "      <td>.\\data\\good_yt_titles.txt</td>\n",
       "      <td>virus</td>\n",
       "      <td>0.425314</td>\n",
       "      <td>21</td>\n",
       "      <td>0.003381</td>\n",
       "      <td>22</td>\n",
       "      <td>0.002904</td>\n",
       "    </tr>\n",
       "    <tr>\n",
       "      <th>31</th>\n",
       "      <td>.\\data\\good_yt_titles.txt</td>\n",
       "      <td>john</td>\n",
       "      <td>0.425314</td>\n",
       "      <td>21</td>\n",
       "      <td>0.003381</td>\n",
       "      <td>22</td>\n",
       "      <td>0.002904</td>\n",
       "    </tr>\n",
       "    <tr>\n",
       "      <th>32</th>\n",
       "      <td>.\\data\\good_yt_titles.txt</td>\n",
       "      <td>public</td>\n",
       "      <td>0.409487</td>\n",
       "      <td>20</td>\n",
       "      <td>0.003220</td>\n",
       "      <td>21</td>\n",
       "      <td>0.002772</td>\n",
       "    </tr>\n",
       "    <tr>\n",
       "      <th>33</th>\n",
       "      <td>.\\data\\good_yt_titles.txt</td>\n",
       "      <td>amp</td>\n",
       "      <td>0.401490</td>\n",
       "      <td>50</td>\n",
       "      <td>0.008049</td>\n",
       "      <td>59</td>\n",
       "      <td>0.007788</td>\n",
       "    </tr>\n",
       "    <tr>\n",
       "      <th>34</th>\n",
       "      <td>.\\data\\good_yt_titles.txt</td>\n",
       "      <td>new</td>\n",
       "      <td>0.399194</td>\n",
       "      <td>42</td>\n",
       "      <td>0.006761</td>\n",
       "      <td>49</td>\n",
       "      <td>0.006468</td>\n",
       "    </tr>\n",
       "    <tr>\n",
       "      <th>35</th>\n",
       "      <td>.\\data\\good_yt_titles.txt</td>\n",
       "      <td>vaccine</td>\n",
       "      <td>0.381137</td>\n",
       "      <td>29</td>\n",
       "      <td>0.004668</td>\n",
       "      <td>33</td>\n",
       "      <td>0.004356</td>\n",
       "    </tr>\n",
       "    <tr>\n",
       "      <th>36</th>\n",
       "      <td>.\\data\\good_yt_titles.txt</td>\n",
       "      <td>variant</td>\n",
       "      <td>0.374350</td>\n",
       "      <td>15</td>\n",
       "      <td>0.002415</td>\n",
       "      <td>15</td>\n",
       "      <td>0.001980</td>\n",
       "    </tr>\n",
       "    <tr>\n",
       "      <th>37</th>\n",
       "      <td>.\\data\\good_yt_titles.txt</td>\n",
       "      <td>day</td>\n",
       "      <td>0.374350</td>\n",
       "      <td>15</td>\n",
       "      <td>0.002415</td>\n",
       "      <td>15</td>\n",
       "      <td>0.001980</td>\n",
       "    </tr>\n",
       "    <tr>\n",
       "      <th>38</th>\n",
       "      <td>.\\data\\good_yt_titles.txt</td>\n",
       "      <td>week</td>\n",
       "      <td>0.322199</td>\n",
       "      <td>17</td>\n",
       "      <td>0.002737</td>\n",
       "      <td>18</td>\n",
       "      <td>0.002376</td>\n",
       "    </tr>\n",
       "    <tr>\n",
       "      <th>39</th>\n",
       "      <td>.\\data\\good_yt_titles.txt</td>\n",
       "      <td>video</td>\n",
       "      <td>0.294083</td>\n",
       "      <td>29</td>\n",
       "      <td>0.004668</td>\n",
       "      <td>35</td>\n",
       "      <td>0.004620</td>\n",
       "    </tr>\n",
       "  </tbody>\n",
       "</table>\n",
       "</div>"
      ],
      "text/plain": [
       "                       source         word      sage  file_count  file_rate  \\\n",
       "0    .\\data\\bad_yt_titles.txt        right  1.910087           7   0.005132   \n",
       "1    .\\data\\bad_yt_titles.txt         told  1.872861           4   0.002933   \n",
       "2    .\\data\\bad_yt_titles.txt        byron  1.872861           4   0.002933   \n",
       "3    .\\data\\bad_yt_titles.txt  reparations  1.872861           4   0.002933   \n",
       "4    .\\data\\bad_yt_titles.txt        truth  1.857430           6   0.004399   \n",
       "5    .\\data\\bad_yt_titles.txt       agenda  1.783770           5   0.003666   \n",
       "6    .\\data\\bad_yt_titles.txt     election  1.739247           3   0.002199   \n",
       "7    .\\data\\bad_yt_titles.txt    americans  1.739247           3   0.002199   \n",
       "8    .\\data\\bad_yt_titles.txt    pleiadian  1.739247           3   0.002199   \n",
       "9    .\\data\\bad_yt_titles.txt       heated  1.739247           3   0.002199   \n",
       "10   .\\data\\bad_yt_titles.txt       robert  1.639047           5   0.003666   \n",
       "11   .\\data\\bad_yt_titles.txt        trump  1.586230          10   0.007331   \n",
       "12   .\\data\\bad_yt_titles.txt       doctor  1.509266           5   0.003666   \n",
       "13   .\\data\\bad_yt_titles.txt  documentary  1.509266           5   0.003666   \n",
       "14   .\\data\\bad_yt_titles.txt       debate  1.472384           3   0.002199   \n",
       "15   .\\data\\bad_yt_titles.txt       rights  1.472384           3   0.002199   \n",
       "16   .\\data\\bad_yt_titles.txt         west  1.472384           3   0.002199   \n",
       "17   .\\data\\bad_yt_titles.txt      kennedy  1.472384           3   0.002199   \n",
       "18   .\\data\\bad_yt_titles.txt     exposing  1.472384           3   0.002199   \n",
       "19   .\\data\\bad_yt_titles.txt          big  1.390847           5   0.003666   \n",
       "20  .\\data\\good_yt_titles.txt        covid  0.526127         140   0.022537   \n",
       "21  .\\data\\good_yt_titles.txt           19  0.509431          99   0.015937   \n",
       "22  .\\data\\good_yt_titles.txt  coronavirus  0.504223          52   0.008371   \n",
       "23  .\\data\\good_yt_titles.txt       health  0.501547          44   0.007083   \n",
       "24  .\\data\\good_yt_titles.txt         live  0.494589          42   0.006761   \n",
       "25  .\\data\\good_yt_titles.txt         2021  0.486879          40   0.006439   \n",
       "26  .\\data\\good_yt_titles.txt      science  0.476824          26   0.004185   \n",
       "27  .\\data\\good_yt_titles.txt           de  0.448815          18   0.002898   \n",
       "28  .\\data\\good_yt_titles.txt     vaccines  0.444309          32   0.005151   \n",
       "29  .\\data\\good_yt_titles.txt        watch  0.431193          17   0.002737   \n",
       "30  .\\data\\good_yt_titles.txt        virus  0.425314          21   0.003381   \n",
       "31  .\\data\\good_yt_titles.txt         john  0.425314          21   0.003381   \n",
       "32  .\\data\\good_yt_titles.txt       public  0.409487          20   0.003220   \n",
       "33  .\\data\\good_yt_titles.txt          amp  0.401490          50   0.008049   \n",
       "34  .\\data\\good_yt_titles.txt          new  0.399194          42   0.006761   \n",
       "35  .\\data\\good_yt_titles.txt      vaccine  0.381137          29   0.004668   \n",
       "36  .\\data\\good_yt_titles.txt      variant  0.374350          15   0.002415   \n",
       "37  .\\data\\good_yt_titles.txt          day  0.374350          15   0.002415   \n",
       "38  .\\data\\good_yt_titles.txt         week  0.322199          17   0.002737   \n",
       "39  .\\data\\good_yt_titles.txt        video  0.294083          29   0.004668   \n",
       "\n",
       "    base_count  base_rate  \n",
       "0            8   0.001056  \n",
       "1            4   0.000528  \n",
       "2            4   0.000528  \n",
       "3            4   0.000528  \n",
       "4            7   0.000924  \n",
       "5            6   0.000792  \n",
       "6            3   0.000396  \n",
       "7            3   0.000396  \n",
       "8            3   0.000396  \n",
       "9            3   0.000396  \n",
       "10           7   0.000924  \n",
       "11          17   0.002244  \n",
       "12           8   0.001056  \n",
       "13           8   0.001056  \n",
       "14           4   0.000528  \n",
       "15           4   0.000528  \n",
       "16           4   0.000528  \n",
       "17           4   0.000528  \n",
       "18           4   0.000528  \n",
       "19           9   0.001188  \n",
       "20         153   0.020195  \n",
       "21         109   0.014388  \n",
       "22          56   0.007392  \n",
       "23          47   0.006204  \n",
       "24          45   0.005940  \n",
       "25          43   0.005676  \n",
       "26          27   0.003564  \n",
       "27          18   0.002376  \n",
       "28          35   0.004620  \n",
       "29          17   0.002244  \n",
       "30          22   0.002904  \n",
       "31          22   0.002904  \n",
       "32          21   0.002772  \n",
       "33          59   0.007788  \n",
       "34          49   0.006468  \n",
       "35          33   0.004356  \n",
       "36          15   0.001980  \n",
       "37          15   0.001980  \n",
       "38          18   0.002376  \n",
       "39          35   0.004620  "
      ]
     },
     "execution_count": 32,
     "metadata": {},
     "output_type": "execute_result"
    }
   ],
   "source": [
    "sage_title = pd.read_csv(\"F:/Supsi/COVID-19-Tweets/large_files/sage_data/yt_title_sage.csv\",\n",
    "                              lineterminator=\"\\n\", low_memory=False)\n",
    "sage_title"
   ]
  },
  {
   "cell_type": "markdown",
   "metadata": {},
   "source": [
    "# Hashtags\n",
    "<a id=\"comp_hashtag\"/>"
   ]
  },
  {
   "cell_type": "code",
   "execution_count": 34,
   "metadata": {},
   "outputs": [],
   "source": [
    "from datetime import date\n",
    "def get_series(hash_date, name):\n",
    "    d = hash_date[hash_date[\"hashtag\"]==name][\"date\"]\n",
    "    dates_list = []\n",
    "    for i in list(d):\n",
    "        x = i.split()[0]\n",
    "        if not \"2\" in x:\n",
    "            x = tweets_utils.process_datetime(i)        \n",
    "        dates_list.append(datetime.strptime(x, '%Y-%m-%d'))\n",
    "    serie = pd.Series(dates_list, name=name).value_counts().sort_index()\n",
    "    return serie"
   ]
  },
  {
   "cell_type": "code",
   "execution_count": 35,
   "metadata": {},
   "outputs": [],
   "source": [
    "def plot_lines(hashtags, hash_date):\n",
    "    df = pd.DataFrame()\n",
    "    x = []\n",
    "    for i in range(len(hashtags)):\n",
    "        x.append(get_series(hash_date, hashtags[i]))\n",
    "    df = pd.concat([i for i in x], axis=1)\n",
    "    df = df.fillna(0)\n",
    "    df.sort_index(ascending=True, inplace=True)\n",
    "    lines = df.plot.line(figsize=(14,6))\n",
    "    lines.set_xlim([df.first_valid_index(), df.last_valid_index()])"
   ]
  },
  {
   "cell_type": "code",
   "execution_count": 37,
   "metadata": {},
   "outputs": [
    {
     "data": {
      "image/png": "[encoded data removed]",
      "text/plain": [
       "<Figure size 432x288 with 1 Axes>"
      ]
     },
     "metadata": {
      "needs_background": "light"
     },
     "output_type": "display_data"
    }
   ],
   "source": [
    "val = pd.Series(tweets_utils.hashtag_process(new_good_activity))\n",
    "val = val.value_counts().sort_values(ascending=False)\n",
    "fig = plt.figure()\n",
    "ax = val[:10].plot(kind='barh', color='steelblue') #red #darkturquoise\n",
    "ax.set_title('Hashtag used by GOOD DOZEN', fontsize=15)\n",
    "ax.invert_yaxis()\n",
    "plt.show()"
   ]
  },
  {
   "cell_type": "code",
   "execution_count": 55,
   "metadata": {},
   "outputs": [],
   "source": [
    "labels = list(val[:17].keys())\n",
    "values = list(val[:17].values)\n",
    "# print(labels)\n",
    "# print(values)\n",
    "# for i in range(len(values)):\n",
    "#     print(str(labels[i]) + \" - \" + str(values[i]))\n",
    "labels = [\"COVID19\", \"Ebola\", \"DRC\", \"COVAX\", \"TWiV\",\n",
    "          \"vaccine\", \"shoutout\", \"Africa\", \"womenInSTEM\", \"science\"]\n",
    "covid = 13787 + 2163 + 1321 + 1040 + 505 + 465 + 450\n",
    "vaccines = 360 + 628\n",
    "values = [covid, 1923, 956, 720, 637, vaccines, 451, 448, 419, 357]"
   ]
  },
  {
   "cell_type": "code",
   "execution_count": 56,
   "metadata": {
    "scrolled": false
   },
   "outputs": [
    {
     "data": {
      "application/vnd.plotly.v1+json": {
       "config": {
        "plotlyServerURL": "https://plot.ly"
       },
       "data": [
        {
         "branchvalues": "total",
         "domain": {
          "x": [
           0,
           1
          ],
          "y": [
           0,
           1
          ]
         },
         "hovertemplate": "labels=%{label}<br>value=%{value}<br>parent=%{parent}<br>id=%{id}<extra></extra>",
         "ids": [
          "Africa",
          "COVAX",
          "COVID19",
          "DRC",
          "Ebola",
          "TWiV",
          "science",
          "shoutout",
          "vaccine",
          "womenInSTEM"
         ],
         "labels": [
          "Africa",
          "COVAX",
          "COVID19",
          "DRC",
          "Ebola",
          "TWiV",
          "science",
          "shoutout",
          "vaccine",
          "womenInSTEM"
         ],
         "name": "",
         "parents": [
          "",
          "",
          "",
          "",
          "",
          "",
          "",
          "",
          "",
          ""
         ],
         "type": "treemap",
         "values": [
          448,
          720,
          19731,
          956,
          1923,
          637,
          357,
          451,
          988,
          419
         ]
        }
       ],
       "layout": {
        "height": 500,
        "legend": {
         "tracegroupgap": 0
        },
        "margin": {
         "b": 25,
         "l": 25,
         "r": 25,
         "t": 50
        },
        "template": {
         "data": {
          "bar": [
           {
            "error_x": {
             "color": "#2a3f5f"
            },
            "error_y": {
             "color": "#2a3f5f"
            },
            "marker": {
             "line": {
              "color": "#E5ECF6",
              "width": 0.5
             },
             "pattern": {
              "fillmode": "overlay",
              "size": 10,
              "solidity": 0.2
             }
            },
            "type": "bar"
           }
          ],
          "barpolar": [
           {
            "marker": {
             "line": {
              "color": "#E5ECF6",
              "width": 0.5
             },
             "pattern": {
              "fillmode": "overlay",
              "size": 10,
              "solidity": 0.2
             }
            },
            "type": "barpolar"
           }
          ],
          "carpet": [
           {
            "aaxis": {
             "endlinecolor": "#2a3f5f",
             "gridcolor": "white",
             "linecolor": "white",
             "minorgridcolor": "white",
             "startlinecolor": "#2a3f5f"
            },
            "baxis": {
             "endlinecolor": "#2a3f5f",
             "gridcolor": "white",
             "linecolor": "white",
             "minorgridcolor": "white",
             "startlinecolor": "#2a3f5f"
            },
            "type": "carpet"
           }
          ],
          "choropleth": [
           {
            "colorbar": {
             "outlinewidth": 0,
             "ticks": ""
            },
            "type": "choropleth"
           }
          ],
          "contour": [
           {
            "colorbar": {
             "outlinewidth": 0,
             "ticks": ""
            },
            "colorscale": [
             [
              0,
              "#0d0887"
             ],
             [
              0.1111111111111111,
              "#46039f"
             ],
             [
              0.2222222222222222,
              "#7201a8"
             ],
             [
              0.3333333333333333,
              "#9c179e"
             ],
             [
              0.4444444444444444,
              "#bd3786"
             ],
             [
              0.5555555555555556,
              "#d8576b"
             ],
             [
              0.6666666666666666,
              "#ed7953"
             ],
             [
              0.7777777777777778,
              "#fb9f3a"
             ],
             [
              0.8888888888888888,
              "#fdca26"
             ],
             [
              1,
              "#f0f921"
             ]
            ],
            "type": "contour"
           }
          ],
          "contourcarpet": [
           {
            "colorbar": {
             "outlinewidth": 0,
             "ticks": ""
            },
            "type": "contourcarpet"
           }
          ],
          "heatmap": [
           {
            "colorbar": {
             "outlinewidth": 0,
             "ticks": ""
            },
            "colorscale": [
             [
              0,
              "#0d0887"
             ],
             [
              0.1111111111111111,
              "#46039f"
             ],
             [
              0.2222222222222222,
              "#7201a8"
             ],
             [
              0.3333333333333333,
              "#9c179e"
             ],
             [
              0.4444444444444444,
              "#bd3786"
             ],
             [
              0.5555555555555556,
              "#d8576b"
             ],
             [
              0.6666666666666666,
              "#ed7953"
             ],
             [
              0.7777777777777778,
              "#fb9f3a"
             ],
             [
              0.8888888888888888,
              "#fdca26"
             ],
             [
              1,
              "#f0f921"
             ]
            ],
            "type": "heatmap"
           }
          ],
          "heatmapgl": [
           {
            "colorbar": {
             "outlinewidth": 0,
             "ticks": ""
            },
            "colorscale": [
             [
              0,
              "#0d0887"
             ],
             [
              0.1111111111111111,
              "#46039f"
             ],
             [
              0.2222222222222222,
              "#7201a8"
             ],
             [
              0.3333333333333333,
              "#9c179e"
             ],
             [
              0.4444444444444444,
              "#bd3786"
             ],
             [
              0.5555555555555556,
              "#d8576b"
             ],
             [
              0.6666666666666666,
              "#ed7953"
             ],
             [
              0.7777777777777778,
              "#fb9f3a"
             ],
             [
              0.8888888888888888,
              "#fdca26"
             ],
             [
              1,
              "#f0f921"
             ]
            ],
            "type": "heatmapgl"
           }
          ],
          "histogram": [
           {
            "marker": {
             "pattern": {
              "fillmode": "overlay",
              "size": 10,
              "solidity": 0.2
             }
            },
            "type": "histogram"
           }
          ],
          "histogram2d": [
           {
            "colorbar": {
             "outlinewidth": 0,
             "ticks": ""
            },
            "colorscale": [
             [
              0,
              "#0d0887"
             ],
             [
              0.1111111111111111,
              "#46039f"
             ],
             [
              0.2222222222222222,
              "#7201a8"
             ],
             [
              0.3333333333333333,
              "#9c179e"
             ],
             [
              0.4444444444444444,
              "#bd3786"
             ],
             [
              0.5555555555555556,
              "#d8576b"
             ],
             [
              0.6666666666666666,
              "#ed7953"
             ],
             [
              0.7777777777777778,
              "#fb9f3a"
             ],
             [
              0.8888888888888888,
              "#fdca26"
             ],
             [
              1,
              "#f0f921"
             ]
            ],
            "type": "histogram2d"
           }
          ],
          "histogram2dcontour": [
           {
            "colorbar": {
             "outlinewidth": 0,
             "ticks": ""
            },
            "colorscale": [
             [
              0,
              "#0d0887"
             ],
             [
              0.1111111111111111,
              "#46039f"
             ],
             [
              0.2222222222222222,
              "#7201a8"
             ],
             [
              0.3333333333333333,
              "#9c179e"
             ],
             [
              0.4444444444444444,
              "#bd3786"
             ],
             [
              0.5555555555555556,
              "#d8576b"
             ],
             [
              0.6666666666666666,
              "#ed7953"
             ],
             [
              0.7777777777777778,
              "#fb9f3a"
             ],
             [
              0.8888888888888888,
              "#fdca26"
             ],
             [
              1,
              "#f0f921"
             ]
            ],
            "type": "histogram2dcontour"
           }
          ],
          "mesh3d": [
           {
            "colorbar": {
             "outlinewidth": 0,
             "ticks": ""
            },
            "type": "mesh3d"
           }
          ],
          "parcoords": [
           {
            "line": {
             "colorbar": {
              "outlinewidth": 0,
              "ticks": ""
             }
            },
            "type": "parcoords"
           }
          ],
          "pie": [
           {
            "automargin": true,
            "type": "pie"
           }
          ],
          "scatter": [
           {
            "marker": {
             "colorbar": {
              "outlinewidth": 0,
              "ticks": ""
             }
            },
            "type": "scatter"
           }
          ],
          "scatter3d": [
           {
            "line": {
             "colorbar": {
              "outlinewidth": 0,
              "ticks": ""
             }
            },
            "marker": {
             "colorbar": {
              "outlinewidth": 0,
              "ticks": ""
             }
            },
            "type": "scatter3d"
           }
          ],
          "scattercarpet": [
           {
            "marker": {
             "colorbar": {
              "outlinewidth": 0,
              "ticks": ""
             }
            },
            "type": "scattercarpet"
           }
          ],
          "scattergeo": [
           {
            "marker": {
             "colorbar": {
              "outlinewidth": 0,
              "ticks": ""
             }
            },
            "type": "scattergeo"
           }
          ],
          "scattergl": [
           {
            "marker": {
             "colorbar": {
              "outlinewidth": 0,
              "ticks": ""
             }
            },
            "type": "scattergl"
           }
          ],
          "scattermapbox": [
           {
            "marker": {
             "colorbar": {
              "outlinewidth": 0,
              "ticks": ""
             }
            },
            "type": "scattermapbox"
           }
          ],
          "scatterpolar": [
           {
            "marker": {
             "colorbar": {
              "outlinewidth": 0,
              "ticks": ""
             }
            },
            "type": "scatterpolar"
           }
          ],
          "scatterpolargl": [
           {
            "marker": {
             "colorbar": {
              "outlinewidth": 0,
              "ticks": ""
             }
            },
            "type": "scatterpolargl"
           }
          ],
          "scatterternary": [
           {
            "marker": {
             "colorbar": {
              "outlinewidth": 0,
              "ticks": ""
             }
            },
            "type": "scatterternary"
           }
          ],
          "surface": [
           {
            "colorbar": {
             "outlinewidth": 0,
             "ticks": ""
            },
            "colorscale": [
             [
              0,
              "#0d0887"
             ],
             [
              0.1111111111111111,
              "#46039f"
             ],
             [
              0.2222222222222222,
              "#7201a8"
             ],
             [
              0.3333333333333333,
              "#9c179e"
             ],
             [
              0.4444444444444444,
              "#bd3786"
             ],
             [
              0.5555555555555556,
              "#d8576b"
             ],
             [
              0.6666666666666666,
              "#ed7953"
             ],
             [
              0.7777777777777778,
              "#fb9f3a"
             ],
             [
              0.8888888888888888,
              "#fdca26"
             ],
             [
              1,
              "#f0f921"
             ]
            ],
            "type": "surface"
           }
          ],
          "table": [
           {
            "cells": {
             "fill": {
              "color": "#EBF0F8"
             },
             "line": {
              "color": "white"
             }
            },
            "header": {
             "fill": {
              "color": "#C8D4E3"
             },
             "line": {
              "color": "white"
             }
            },
            "type": "table"
           }
          ]
         },
         "layout": {
          "annotationdefaults": {
           "arrowcolor": "#2a3f5f",
           "arrowhead": 0,
           "arrowwidth": 1
          },
          "autotypenumbers": "strict",
          "coloraxis": {
           "colorbar": {
            "outlinewidth": 0,
            "ticks": ""
           }
          },
          "colorscale": {
           "diverging": [
            [
             0,
             "#8e0152"
            ],
            [
             0.1,
             "#c51b7d"
            ],
            [
             0.2,
             "#de77ae"
            ],
            [
             0.3,
             "#f1b6da"
            ],
            [
             0.4,
             "#fde0ef"
            ],
            [
             0.5,
             "#f7f7f7"
            ],
            [
             0.6,
             "#e6f5d0"
            ],
            [
             0.7,
             "#b8e186"
            ],
            [
             0.8,
             "#7fbc41"
            ],
            [
             0.9,
             "#4d9221"
            ],
            [
             1,
             "#276419"
            ]
           ],
           "sequential": [
            [
             0,
             "#0d0887"
            ],
            [
             0.1111111111111111,
             "#46039f"
            ],
            [
             0.2222222222222222,
             "#7201a8"
            ],
            [
             0.3333333333333333,
             "#9c179e"
            ],
            [
             0.4444444444444444,
             "#bd3786"
            ],
            [
             0.5555555555555556,
             "#d8576b"
            ],
            [
             0.6666666666666666,
             "#ed7953"
            ],
            [
             0.7777777777777778,
             "#fb9f3a"
            ],
            [
             0.8888888888888888,
             "#fdca26"
            ],
            [
             1,
             "#f0f921"
            ]
           ],
           "sequentialminus": [
            [
             0,
             "#0d0887"
            ],
            [
             0.1111111111111111,
             "#46039f"
            ],
            [
             0.2222222222222222,
             "#7201a8"
            ],
            [
             0.3333333333333333,
             "#9c179e"
            ],
            [
             0.4444444444444444,
             "#bd3786"
            ],
            [
             0.5555555555555556,
             "#d8576b"
            ],
            [
             0.6666666666666666,
             "#ed7953"
            ],
            [
             0.7777777777777778,
             "#fb9f3a"
            ],
            [
             0.8888888888888888,
             "#fdca26"
            ],
            [
             1,
             "#f0f921"
            ]
           ]
          },
          "colorway": [
           "#636efa",
           "#EF553B",
           "#00cc96",
           "#ab63fa",
           "#FFA15A",
           "#19d3f3",
           "#FF6692",
           "#B6E880",
           "#FF97FF",
           "#FECB52"
          ],
          "font": {
           "color": "#2a3f5f"
          },
          "geo": {
           "bgcolor": "white",
           "lakecolor": "white",
           "landcolor": "#E5ECF6",
           "showlakes": true,
           "showland": true,
           "subunitcolor": "white"
          },
          "hoverlabel": {
           "align": "left"
          },
          "hovermode": "closest",
          "mapbox": {
           "style": "light"
          },
          "paper_bgcolor": "white",
          "plot_bgcolor": "#E5ECF6",
          "polar": {
           "angularaxis": {
            "gridcolor": "white",
            "linecolor": "white",
            "ticks": ""
           },
           "bgcolor": "#E5ECF6",
           "radialaxis": {
            "gridcolor": "white",
            "linecolor": "white",
            "ticks": ""
           }
          },
          "scene": {
           "xaxis": {
            "backgroundcolor": "#E5ECF6",
            "gridcolor": "white",
            "gridwidth": 2,
            "linecolor": "white",
            "showbackground": true,
            "ticks": "",
            "zerolinecolor": "white"
           },
           "yaxis": {
            "backgroundcolor": "#E5ECF6",
            "gridcolor": "white",
            "gridwidth": 2,
            "linecolor": "white",
            "showbackground": true,
            "ticks": "",
            "zerolinecolor": "white"
           },
           "zaxis": {
            "backgroundcolor": "#E5ECF6",
            "gridcolor": "white",
            "gridwidth": 2,
            "linecolor": "white",
            "showbackground": true,
            "ticks": "",
            "zerolinecolor": "white"
           }
          },
          "shapedefaults": {
           "line": {
            "color": "#2a3f5f"
           }
          },
          "ternary": {
           "aaxis": {
            "gridcolor": "white",
            "linecolor": "white",
            "ticks": ""
           },
           "baxis": {
            "gridcolor": "white",
            "linecolor": "white",
            "ticks": ""
           },
           "bgcolor": "#E5ECF6",
           "caxis": {
            "gridcolor": "white",
            "linecolor": "white",
            "ticks": ""
           }
          },
          "title": {
           "x": 0.05
          },
          "xaxis": {
           "automargin": true,
           "gridcolor": "white",
           "linecolor": "white",
           "ticks": "",
           "title": {
            "standoff": 15
           },
           "zerolinecolor": "white",
           "zerolinewidth": 2
          },
          "yaxis": {
           "automargin": true,
           "gridcolor": "white",
           "linecolor": "white",
           "ticks": "",
           "title": {
            "standoff": 15
           },
           "zerolinecolor": "white",
           "zerolinewidth": 2
          }
         }
        },
        "treemapcolorway": [
         "#154360",
         "#1b4f72",
         "#1a5276",
         "#21618c",
         "#1f618d",
         "#2874a6",
         "#2471a3",
         "#2e86c1",
         "#2980b9",
         "#3498db",
         "#5499c7",
         "#5dade2",
         "#7fb3d5",
         "#85c1e9",
         "#a9cce3"
        ],
        "width": 800
       }
      },
      "text/html": [
       "<div>                            <div id=\"f1d0823a-e303-4db1-9a3c-2bd86ed2ba11\" class=\"plotly-graph-div\" style=\"height:500px; width:800px;\"></div>            <script type=\"text/javascript\">                require([\"plotly\"], function(Plotly) {                    window.PLOTLYENV=window.PLOTLYENV || {};                                    if (document.getElementById(\"f1d0823a-e303-4db1-9a3c-2bd86ed2ba11\")) {                    Plotly.newPlot(                        \"f1d0823a-e303-4db1-9a3c-2bd86ed2ba11\",                        [{\"branchvalues\":\"total\",\"domain\":{\"x\":[0.0,1.0],\"y\":[0.0,1.0]},\"hovertemplate\":\"labels=%{label}<br>value=%{value}<br>parent=%{parent}<br>id=%{id}<extra></extra>\",\"ids\":[\"Africa\",\"COVAX\",\"COVID19\",\"DRC\",\"Ebola\",\"TWiV\",\"science\",\"shoutout\",\"vaccine\",\"womenInSTEM\"],\"labels\":[\"Africa\",\"COVAX\",\"COVID19\",\"DRC\",\"Ebola\",\"TWiV\",\"science\",\"shoutout\",\"vaccine\",\"womenInSTEM\"],\"name\":\"\",\"parents\":[\"\",\"\",\"\",\"\",\"\",\"\",\"\",\"\",\"\",\"\"],\"type\":\"treemap\",\"values\":[448,720,19731,956,1923,637,357,451,988,419]}],                        {\"height\":500,\"legend\":{\"tracegroupgap\":0},\"margin\":{\"b\":25,\"l\":25,\"r\":25,\"t\":50},\"template\":{\"data\":{\"bar\":[{\"error_x\":{\"color\":\"#2a3f5f\"},\"error_y\":{\"color\":\"#2a3f5f\"},\"marker\":{\"line\":{\"color\":\"#E5ECF6\",\"width\":0.5},\"pattern\":{\"fillmode\":\"overlay\",\"size\":10,\"solidity\":0.2}},\"type\":\"bar\"}],\"barpolar\":[{\"marker\":{\"line\":{\"color\":\"#E5ECF6\",\"width\":0.5},\"pattern\":{\"fillmode\":\"overlay\",\"size\":10,\"solidity\":0.2}},\"type\":\"barpolar\"}],\"carpet\":[{\"aaxis\":{\"endlinecolor\":\"#2a3f5f\",\"gridcolor\":\"white\",\"linecolor\":\"white\",\"minorgridcolor\":\"white\",\"startlinecolor\":\"#2a3f5f\"},\"baxis\":{\"endlinecolor\":\"#2a3f5f\",\"gridcolor\":\"white\",\"linecolor\":\"white\",\"minorgridcolor\":\"white\",\"startlinecolor\":\"#2a3f5f\"},\"type\":\"carpet\"}],\"choropleth\":[{\"colorbar\":{\"outlinewidth\":0,\"ticks\":\"\"},\"type\":\"choropleth\"}],\"contour\":[{\"colorbar\":{\"outlinewidth\":0,\"ticks\":\"\"},\"colorscale\":[[0.0,\"#0d0887\"],[0.1111111111111111,\"#46039f\"],[0.2222222222222222,\"#7201a8\"],[0.3333333333333333,\"#9c179e\"],[0.4444444444444444,\"#bd3786\"],[0.5555555555555556,\"#d8576b\"],[0.6666666666666666,\"#ed7953\"],[0.7777777777777778,\"#fb9f3a\"],[0.8888888888888888,\"#fdca26\"],[1.0,\"#f0f921\"]],\"type\":\"contour\"}],\"contourcarpet\":[{\"colorbar\":{\"outlinewidth\":0,\"ticks\":\"\"},\"type\":\"contourcarpet\"}],\"heatmap\":[{\"colorbar\":{\"outlinewidth\":0,\"ticks\":\"\"},\"colorscale\":[[0.0,\"#0d0887\"],[0.1111111111111111,\"#46039f\"],[0.2222222222222222,\"#7201a8\"],[0.3333333333333333,\"#9c179e\"],[0.4444444444444444,\"#bd3786\"],[0.5555555555555556,\"#d8576b\"],[0.6666666666666666,\"#ed7953\"],[0.7777777777777778,\"#fb9f3a\"],[0.8888888888888888,\"#fdca26\"],[1.0,\"#f0f921\"]],\"type\":\"heatmap\"}],\"heatmapgl\":[{\"colorbar\":{\"outlinewidth\":0,\"ticks\":\"\"},\"colorscale\":[[0.0,\"#0d0887\"],[0.1111111111111111,\"#46039f\"],[0.2222222222222222,\"#7201a8\"],[0.3333333333333333,\"#9c179e\"],[0.4444444444444444,\"#bd3786\"],[0.5555555555555556,\"#d8576b\"],[0.6666666666666666,\"#ed7953\"],[0.7777777777777778,\"#fb9f3a\"],[0.8888888888888888,\"#fdca26\"],[1.0,\"#f0f921\"]],\"type\":\"heatmapgl\"}],\"histogram\":[{\"marker\":{\"pattern\":{\"fillmode\":\"overlay\",\"size\":10,\"solidity\":0.2}},\"type\":\"histogram\"}],\"histogram2d\":[{\"colorbar\":{\"outlinewidth\":0,\"ticks\":\"\"},\"colorscale\":[[0.0,\"#0d0887\"],[0.1111111111111111,\"#46039f\"],[0.2222222222222222,\"#7201a8\"],[0.3333333333333333,\"#9c179e\"],[0.4444444444444444,\"#bd3786\"],[0.5555555555555556,\"#d8576b\"],[0.6666666666666666,\"#ed7953\"],[0.7777777777777778,\"#fb9f3a\"],[0.8888888888888888,\"#fdca26\"],[1.0,\"#f0f921\"]],\"type\":\"histogram2d\"}],\"histogram2dcontour\":[{\"colorbar\":{\"outlinewidth\":0,\"ticks\":\"\"},\"colorscale\":[[0.0,\"#0d0887\"],[0.1111111111111111,\"#46039f\"],[0.2222222222222222,\"#7201a8\"],[0.3333333333333333,\"#9c179e\"],[0.4444444444444444,\"#bd3786\"],[0.5555555555555556,\"#d8576b\"],[0.6666666666666666,\"#ed7953\"],[0.7777777777777778,\"#fb9f3a\"],[0.8888888888888888,\"#fdca26\"],[1.0,\"#f0f921\"]],\"type\":\"histogram2dcontour\"}],\"mesh3d\":[{\"colorbar\":{\"outlinewidth\":0,\"ticks\":\"\"},\"type\":\"mesh3d\"}],\"parcoords\":[{\"line\":{\"colorbar\":{\"outlinewidth\":0,\"ticks\":\"\"}},\"type\":\"parcoords\"}],\"pie\":[{\"automargin\":true,\"type\":\"pie\"}],\"scatter\":[{\"marker\":{\"colorbar\":{\"outlinewidth\":0,\"ticks\":\"\"}},\"type\":\"scatter\"}],\"scatter3d\":[{\"line\":{\"colorbar\":{\"outlinewidth\":0,\"ticks\":\"\"}},\"marker\":{\"colorbar\":{\"outlinewidth\":0,\"ticks\":\"\"}},\"type\":\"scatter3d\"}],\"scattercarpet\":[{\"marker\":{\"colorbar\":{\"outlinewidth\":0,\"ticks\":\"\"}},\"type\":\"scattercarpet\"}],\"scattergeo\":[{\"marker\":{\"colorbar\":{\"outlinewidth\":0,\"ticks\":\"\"}},\"type\":\"scattergeo\"}],\"scattergl\":[{\"marker\":{\"colorbar\":{\"outlinewidth\":0,\"ticks\":\"\"}},\"type\":\"scattergl\"}],\"scattermapbox\":[{\"marker\":{\"colorbar\":{\"outlinewidth\":0,\"ticks\":\"\"}},\"type\":\"scattermapbox\"}],\"scatterpolar\":[{\"marker\":{\"colorbar\":{\"outlinewidth\":0,\"ticks\":\"\"}},\"type\":\"scatterpolar\"}],\"scatterpolargl\":[{\"marker\":{\"colorbar\":{\"outlinewidth\":0,\"ticks\":\"\"}},\"type\":\"scatterpolargl\"}],\"scatterternary\":[{\"marker\":{\"colorbar\":{\"outlinewidth\":0,\"ticks\":\"\"}},\"type\":\"scatterternary\"}],\"surface\":[{\"colorbar\":{\"outlinewidth\":0,\"ticks\":\"\"},\"colorscale\":[[0.0,\"#0d0887\"],[0.1111111111111111,\"#46039f\"],[0.2222222222222222,\"#7201a8\"],[0.3333333333333333,\"#9c179e\"],[0.4444444444444444,\"#bd3786\"],[0.5555555555555556,\"#d8576b\"],[0.6666666666666666,\"#ed7953\"],[0.7777777777777778,\"#fb9f3a\"],[0.8888888888888888,\"#fdca26\"],[1.0,\"#f0f921\"]],\"type\":\"surface\"}],\"table\":[{\"cells\":{\"fill\":{\"color\":\"#EBF0F8\"},\"line\":{\"color\":\"white\"}},\"header\":{\"fill\":{\"color\":\"#C8D4E3\"},\"line\":{\"color\":\"white\"}},\"type\":\"table\"}]},\"layout\":{\"annotationdefaults\":{\"arrowcolor\":\"#2a3f5f\",\"arrowhead\":0,\"arrowwidth\":1},\"autotypenumbers\":\"strict\",\"coloraxis\":{\"colorbar\":{\"outlinewidth\":0,\"ticks\":\"\"}},\"colorscale\":{\"diverging\":[[0,\"#8e0152\"],[0.1,\"#c51b7d\"],[0.2,\"#de77ae\"],[0.3,\"#f1b6da\"],[0.4,\"#fde0ef\"],[0.5,\"#f7f7f7\"],[0.6,\"#e6f5d0\"],[0.7,\"#b8e186\"],[0.8,\"#7fbc41\"],[0.9,\"#4d9221\"],[1,\"#276419\"]],\"sequential\":[[0.0,\"#0d0887\"],[0.1111111111111111,\"#46039f\"],[0.2222222222222222,\"#7201a8\"],[0.3333333333333333,\"#9c179e\"],[0.4444444444444444,\"#bd3786\"],[0.5555555555555556,\"#d8576b\"],[0.6666666666666666,\"#ed7953\"],[0.7777777777777778,\"#fb9f3a\"],[0.8888888888888888,\"#fdca26\"],[1.0,\"#f0f921\"]],\"sequentialminus\":[[0.0,\"#0d0887\"],[0.1111111111111111,\"#46039f\"],[0.2222222222222222,\"#7201a8\"],[0.3333333333333333,\"#9c179e\"],[0.4444444444444444,\"#bd3786\"],[0.5555555555555556,\"#d8576b\"],[0.6666666666666666,\"#ed7953\"],[0.7777777777777778,\"#fb9f3a\"],[0.8888888888888888,\"#fdca26\"],[1.0,\"#f0f921\"]]},\"colorway\":[\"#636efa\",\"#EF553B\",\"#00cc96\",\"#ab63fa\",\"#FFA15A\",\"#19d3f3\",\"#FF6692\",\"#B6E880\",\"#FF97FF\",\"#FECB52\"],\"font\":{\"color\":\"#2a3f5f\"},\"geo\":{\"bgcolor\":\"white\",\"lakecolor\":\"white\",\"landcolor\":\"#E5ECF6\",\"showlakes\":true,\"showland\":true,\"subunitcolor\":\"white\"},\"hoverlabel\":{\"align\":\"left\"},\"hovermode\":\"closest\",\"mapbox\":{\"style\":\"light\"},\"paper_bgcolor\":\"white\",\"plot_bgcolor\":\"#E5ECF6\",\"polar\":{\"angularaxis\":{\"gridcolor\":\"white\",\"linecolor\":\"white\",\"ticks\":\"\"},\"bgcolor\":\"#E5ECF6\",\"radialaxis\":{\"gridcolor\":\"white\",\"linecolor\":\"white\",\"ticks\":\"\"}},\"scene\":{\"xaxis\":{\"backgroundcolor\":\"#E5ECF6\",\"gridcolor\":\"white\",\"gridwidth\":2,\"linecolor\":\"white\",\"showbackground\":true,\"ticks\":\"\",\"zerolinecolor\":\"white\"},\"yaxis\":{\"backgroundcolor\":\"#E5ECF6\",\"gridcolor\":\"white\",\"gridwidth\":2,\"linecolor\":\"white\",\"showbackground\":true,\"ticks\":\"\",\"zerolinecolor\":\"white\"},\"zaxis\":{\"backgroundcolor\":\"#E5ECF6\",\"gridcolor\":\"white\",\"gridwidth\":2,\"linecolor\":\"white\",\"showbackground\":true,\"ticks\":\"\",\"zerolinecolor\":\"white\"}},\"shapedefaults\":{\"line\":{\"color\":\"#2a3f5f\"}},\"ternary\":{\"aaxis\":{\"gridcolor\":\"white\",\"linecolor\":\"white\",\"ticks\":\"\"},\"baxis\":{\"gridcolor\":\"white\",\"linecolor\":\"white\",\"ticks\":\"\"},\"bgcolor\":\"#E5ECF6\",\"caxis\":{\"gridcolor\":\"white\",\"linecolor\":\"white\",\"ticks\":\"\"}},\"title\":{\"x\":0.05},\"xaxis\":{\"automargin\":true,\"gridcolor\":\"white\",\"linecolor\":\"white\",\"ticks\":\"\",\"title\":{\"standoff\":15},\"zerolinecolor\":\"white\",\"zerolinewidth\":2},\"yaxis\":{\"automargin\":true,\"gridcolor\":\"white\",\"linecolor\":\"white\",\"ticks\":\"\",\"title\":{\"standoff\":15},\"zerolinecolor\":\"white\",\"zerolinewidth\":2}}},\"treemapcolorway\":[\"#154360\",\"#1b4f72\",\"#1a5276\",\"#21618c\",\"#1f618d\",\"#2874a6\",\"#2471a3\",\"#2e86c1\",\"#2980b9\",\"#3498db\",\"#5499c7\",\"#5dade2\",\"#7fb3d5\",\"#85c1e9\",\"#a9cce3\"],\"width\":800},                        {\"responsive\": true}                    ).then(function(){\n",
       "                            \n",
       "var gd = document.getElementById('f1d0823a-e303-4db1-9a3c-2bd86ed2ba11');\n",
       "var x = new MutationObserver(function (mutations, observer) {{\n",
       "        var display = window.getComputedStyle(gd).display;\n",
       "        if (!display || display === 'none') {{\n",
       "            console.log([gd, 'removed!']);\n",
       "            Plotly.purge(gd);\n",
       "            observer.disconnect();\n",
       "        }}\n",
       "}});\n",
       "\n",
       "// Listen for the removal of the full notebook cells\n",
       "var notebookContainer = gd.closest('#notebook-container');\n",
       "if (notebookContainer) {{\n",
       "    x.observe(notebookContainer, {childList: true});\n",
       "}}\n",
       "\n",
       "// Listen for the clearing of the current output cell\n",
       "var outputEl = gd.closest('.output');\n",
       "if (outputEl) {{\n",
       "    x.observe(outputEl, {childList: true});\n",
       "}}\n",
       "\n",
       "                        })                };                });            </script>        </div>"
      ]
     },
     "metadata": {},
     "output_type": "display_data"
    }
   ],
   "source": [
    "\n",
    "dddf = pd.DataFrame(list(zip(labels, values)), \n",
    "                    columns=[\"labels\", \"values\"])\n",
    "fig = px.treemap(dddf, path=['labels'],values='values', width=800, height=500)\n",
    "colors = [\"#154360\", \"#1b4f72\", \"#1a5276\", \"#21618c\", \"#1f618d\",\n",
    "         \"#2874a6\", \"#2471a3\", \"#2e86c1\", \"#2980b9\", \"#3498db\",\n",
    "         \"#5499c7\", \"#5dade2\", \"#7fb3d5\", \"#85c1e9\", \"#a9cce3\"]\n",
    "fig.update_layout(\n",
    "    treemapcolorway = colors, #defines the colors in the treemap\n",
    "    margin = dict(t=50, l=25, r=25, b=25))\n",
    "fig.show()\n"
   ]
  },
  {
   "cell_type": "markdown",
   "metadata": {},
   "source": [
    "# Sage"
   ]
  },
  {
   "cell_type": "code",
   "execution_count": 8,
   "metadata": {
    "scrolled": false
   },
   "outputs": [
    {
     "data": {
      "text/html": [
       "<div>\n",
       "<style scoped>\n",
       "    .dataframe tbody tr th:only-of-type {\n",
       "        vertical-align: middle;\n",
       "    }\n",
       "\n",
       "    .dataframe tbody tr th {\n",
       "        vertical-align: top;\n",
       "    }\n",
       "\n",
       "    .dataframe thead th {\n",
       "        text-align: right;\n",
       "    }\n",
       "</style>\n",
       "<table border=\"1\" class=\"dataframe\">\n",
       "  <thead>\n",
       "    <tr style=\"text-align: right;\">\n",
       "      <th></th>\n",
       "      <th>source</th>\n",
       "      <th>word</th>\n",
       "      <th>sage</th>\n",
       "      <th>file_count</th>\n",
       "      <th>file_rate</th>\n",
       "      <th>base_count</th>\n",
       "      <th>base_rate</th>\n",
       "    </tr>\n",
       "  </thead>\n",
       "  <tbody>\n",
       "    <tr>\n",
       "      <th>0</th>\n",
       "      <td>C:\\Users\\gianl\\Desktop\\Gi\\Supsi\\BachelorProjec...</td>\n",
       "      <td>amp</td>\n",
       "      <td>0.050307</td>\n",
       "      <td>20315</td>\n",
       "      <td>0.009135</td>\n",
       "      <td>20315</td>\n",
       "      <td>0.009135</td>\n",
       "    </tr>\n",
       "    <tr>\n",
       "      <th>1</th>\n",
       "      <td>C:\\Users\\gianl\\Desktop\\Gi\\Supsi\\BachelorProjec...</td>\n",
       "      <td>covid</td>\n",
       "      <td>0.050191</td>\n",
       "      <td>18270</td>\n",
       "      <td>0.008215</td>\n",
       "      <td>18270</td>\n",
       "      <td>0.008215</td>\n",
       "    </tr>\n",
       "    <tr>\n",
       "      <th>2</th>\n",
       "      <td>C:\\Users\\gianl\\Desktop\\Gi\\Supsi\\BachelorProjec...</td>\n",
       "      <td>covid19</td>\n",
       "      <td>0.050068</td>\n",
       "      <td>16529</td>\n",
       "      <td>0.007432</td>\n",
       "      <td>16529</td>\n",
       "      <td>0.007432</td>\n",
       "    </tr>\n",
       "    <tr>\n",
       "      <th>3</th>\n",
       "      <td>C:\\Users\\gianl\\Desktop\\Gi\\Supsi\\BachelorProjec...</td>\n",
       "      <td>vaccine</td>\n",
       "      <td>0.049882</td>\n",
       "      <td>14451</td>\n",
       "      <td>0.006498</td>\n",
       "      <td>14451</td>\n",
       "      <td>0.006498</td>\n",
       "    </tr>\n",
       "    <tr>\n",
       "      <th>4</th>\n",
       "      <td>C:\\Users\\gianl\\Desktop\\Gi\\Supsi\\BachelorProjec...</td>\n",
       "      <td>new</td>\n",
       "      <td>0.049794</td>\n",
       "      <td>13646</td>\n",
       "      <td>0.006136</td>\n",
       "      <td>13646</td>\n",
       "      <td>0.006136</td>\n",
       "    </tr>\n",
       "    <tr>\n",
       "      <th>5</th>\n",
       "      <td>C:\\Users\\gianl\\Desktop\\Gi\\Supsi\\BachelorProjec...</td>\n",
       "      <td>health</td>\n",
       "      <td>0.049730</td>\n",
       "      <td>13110</td>\n",
       "      <td>0.005895</td>\n",
       "      <td>13110</td>\n",
       "      <td>0.005895</td>\n",
       "    </tr>\n",
       "    <tr>\n",
       "      <th>6</th>\n",
       "      <td>C:\\Users\\gianl\\Desktop\\Gi\\Supsi\\BachelorProjec...</td>\n",
       "      <td>people</td>\n",
       "      <td>0.049497</td>\n",
       "      <td>11490</td>\n",
       "      <td>0.005167</td>\n",
       "      <td>11490</td>\n",
       "      <td>0.005167</td>\n",
       "    </tr>\n",
       "    <tr>\n",
       "      <th>7</th>\n",
       "      <td>C:\\Users\\gianl\\Desktop\\Gi\\Supsi\\BachelorProjec...</td>\n",
       "      <td>us</td>\n",
       "      <td>0.049398</td>\n",
       "      <td>10921</td>\n",
       "      <td>0.004911</td>\n",
       "      <td>10921</td>\n",
       "      <td>0.004911</td>\n",
       "    </tr>\n",
       "    <tr>\n",
       "      <th>8</th>\n",
       "      <td>C:\\Users\\gianl\\Desktop\\Gi\\Supsi\\BachelorProjec...</td>\n",
       "      <td>19</td>\n",
       "      <td>0.048904</td>\n",
       "      <td>8778</td>\n",
       "      <td>0.003947</td>\n",
       "      <td>8778</td>\n",
       "      <td>0.003947</td>\n",
       "    </tr>\n",
       "    <tr>\n",
       "      <th>9</th>\n",
       "      <td>C:\\Users\\gianl\\Desktop\\Gi\\Supsi\\BachelorProjec...</td>\n",
       "      <td>one</td>\n",
       "      <td>0.048837</td>\n",
       "      <td>8555</td>\n",
       "      <td>0.003847</td>\n",
       "      <td>8555</td>\n",
       "      <td>0.003847</td>\n",
       "    </tr>\n",
       "  </tbody>\n",
       "</table>\n",
       "</div>"
      ],
      "text/plain": [
       "                                              source     word      sage  \\\n",
       "0  C:\\Users\\gianl\\Desktop\\Gi\\Supsi\\BachelorProjec...      amp  0.050307   \n",
       "1  C:\\Users\\gianl\\Desktop\\Gi\\Supsi\\BachelorProjec...    covid  0.050191   \n",
       "2  C:\\Users\\gianl\\Desktop\\Gi\\Supsi\\BachelorProjec...  covid19  0.050068   \n",
       "3  C:\\Users\\gianl\\Desktop\\Gi\\Supsi\\BachelorProjec...  vaccine  0.049882   \n",
       "4  C:\\Users\\gianl\\Desktop\\Gi\\Supsi\\BachelorProjec...      new  0.049794   \n",
       "5  C:\\Users\\gianl\\Desktop\\Gi\\Supsi\\BachelorProjec...   health  0.049730   \n",
       "6  C:\\Users\\gianl\\Desktop\\Gi\\Supsi\\BachelorProjec...   people  0.049497   \n",
       "7  C:\\Users\\gianl\\Desktop\\Gi\\Supsi\\BachelorProjec...       us  0.049398   \n",
       "8  C:\\Users\\gianl\\Desktop\\Gi\\Supsi\\BachelorProjec...       19  0.048904   \n",
       "9  C:\\Users\\gianl\\Desktop\\Gi\\Supsi\\BachelorProjec...      one  0.048837   \n",
       "\n",
       "   file_count  file_rate  base_count  base_rate  \n",
       "0       20315   0.009135       20315   0.009135  \n",
       "1       18270   0.008215       18270   0.008215  \n",
       "2       16529   0.007432       16529   0.007432  \n",
       "3       14451   0.006498       14451   0.006498  \n",
       "4       13646   0.006136       13646   0.006136  \n",
       "5       13110   0.005895       13110   0.005895  \n",
       "6       11490   0.005167       11490   0.005167  \n",
       "7       10921   0.004911       10921   0.004911  \n",
       "8        8778   0.003947        8778   0.003947  \n",
       "9        8555   0.003847        8555   0.003847  "
      ]
     },
     "execution_count": 8,
     "metadata": {},
     "output_type": "execute_result"
    }
   ],
   "source": [
    "sage_text = pd.read_csv(\"C:/Users/gianl/Desktop/Gi/Supsi/BachelorProject/sage/data/sage_text_new_good.csv\",\n",
    "                       lineterminator=\"\\n\", low_memory=False)\n",
    "sage_text"
   ]
  },
  {
   "cell_type": "code",
   "execution_count": null,
   "metadata": {},
   "outputs": [],
   "source": []
  }
 ],
 "metadata": {
  "kernelspec": {
   "display_name": "Python 3",
   "language": "python",
   "name": "python3"
  },
  "language_info": {
   "codemirror_mode": {
    "name": "ipython",
    "version": 3
   },
   "file_extension": ".py",
   "mimetype": "text/x-python",
   "name": "python",
   "nbconvert_exporter": "python",
   "pygments_lexer": "ipython3",
   "version": "3.8.11"
  }
 },
 "nbformat": 4,
 "nbformat_minor": 4
}
