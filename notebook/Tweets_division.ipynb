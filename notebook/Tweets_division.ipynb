{
 "cells": [
  {
   "cell_type": "code",
   "execution_count": 36,
   "id": "9e296df0",
   "metadata": {},
   "outputs": [
    {
     "data": {
      "application/javascript": [
       "IPython.notebook.set_autosave_interval(3600000)"
      ]
     },
     "metadata": {},
     "output_type": "display_data"
    },
    {
     "name": "stdout",
     "output_type": "stream",
     "text": [
      "Autosaving every 3600 seconds\n"
     ]
    }
   ],
   "source": [
    "import pandas as pd\n",
    "import numpy as np\n",
    "import datetime\n",
    "import warnings\n",
    "import time\n",
    "from time import perf_counter\n",
    "import glob\n",
    "import tweets_utils\n",
    "import csv\n",
    "import importlib\n",
    "warnings.filterwarnings('ignore')\n",
    "pd.set_option('display.max_columns', None)\n",
    "%autosave 3600"
   ]
  },
  {
   "cell_type": "markdown",
   "id": "d73deb48",
   "metadata": {},
   "source": [
    "- [Original tweets](#original)\n",
    "    - [Mentions](#original_mention)\n",
    "    \n",
    "    \n",
    "- [Replies](#replies)\n",
    "    - [Fake reply (other mentions)](#reply_mention)\n",
    "    - [Reply to status (original, reply or quote)](#reply_status)\n",
    "    \n",
    "    \n",
    "- [Retweets](#retweets)\n",
    "    - [Retweet of original](#rt_original)\n",
    "    - [Retweet in repliy](#rt_reply)\n",
    "    - [Retweet of  mention](#rt_mention)\n",
    "    - [Retweet of quote](#rt_quote)\n",
    "    \n",
    "    \n",
    "- [Quotes](#quotes)\n",
    "    - [Quote of status (original or quote)](#quote_status)\n",
    "    - [Quote in reply](#quote_reply)\n",
    "    \n",
    "    \n",
    "- [Split check](#split_check)"
   ]
  },
  {
   "cell_type": "code",
   "execution_count": 8,
   "id": "3a1143d0",
   "metadata": {},
   "outputs": [],
   "source": [
    "cols = [\"id\", \"id_str\", \"user_id\", \"user_screen_name\", \"text\",\"in_reply_to_status_id\",\n",
    "        \"in_reply_to_status_id_str\" ,\"in_reply_to_user_id\" ,\"in_reply_to_user_id_str\" ,\"in_reply_to_screen_name\",\n",
    "        \"rt_created_at\", \"rt_in_reply_to_status_id\", \"rt_in_reply_to_user_id\", \"rt_id\", \"rt_user_id\", \"rt_created_at\",\n",
    "        \"rt_user_screen_name\", \"quoted_status_id\" ,\"quoted_status_text\" ,\"quoted_status_created_at\", \"quoted_user_id\",\n",
    "        \"quoted_user_created_at\", \"hashtags\", \"user_mentions\", \"urls\"]"
   ]
  },
  {
   "cell_type": "code",
   "execution_count": 9,
   "id": "e4c7d867",
   "metadata": {},
   "outputs": [],
   "source": [
    "path = glob.glob(\"C:/Users/gianl/Desktop/Gi/Supsi/Laura/data/\")[0]\n",
    "df = pd.read_csv(path + \"tweets.csv\", lineterminator=\"\\n\", low_memory=False, usecols=cols)"
   ]
  },
  {
   "cell_type": "markdown",
   "id": "65ef83c5",
   "metadata": {},
   "source": [
    "# Original\n",
    "<a id=\"original\"/>"
   ]
  },
  {
   "cell_type": "code",
   "execution_count": 164,
   "id": "8fe6e93d",
   "metadata": {},
   "outputs": [],
   "source": [
    "original = df[df[\"in_reply_to_screen_name\"].isna() & df[\"rt_created_at\"].isna() & df[\"quoted_status_id\"].isna()]\n",
    "# original.info()"
   ]
  },
  {
   "cell_type": "markdown",
   "id": "0e0c5695",
   "metadata": {},
   "source": [
    "## Original - Mentions\n",
    "<a id=\"original_mention\"/>"
   ]
  },
  {
   "cell_type": "code",
   "execution_count": 118,
   "id": "d34396cd",
   "metadata": {},
   "outputs": [],
   "source": [
    "nan_value = float(\"NaN\")\n",
    "original_w_mentions = original.replace(\"[]\", nan_value)\n",
    "original_w_mentions = original_w_mentions[original_w_mentions[\"user_mentions\"].notna()]\n",
    "# original_w_mentions.info()\n",
    "# original_w_mentions"
   ]
  },
  {
   "cell_type": "markdown",
   "id": "7b193e41",
   "metadata": {},
   "source": [
    "# Replies\n",
    "<a id=\"replies\"/>"
   ]
  },
  {
   "cell_type": "code",
   "execution_count": 141,
   "id": "907e9b40",
   "metadata": {},
   "outputs": [],
   "source": [
    "reply = df[df[\"in_reply_to_user_id\"].notna() & df[\"quoted_status_id\"].isna()]\n",
    "# reply.info()"
   ]
  },
  {
   "cell_type": "markdown",
   "id": "4749716e",
   "metadata": {},
   "source": [
    "## Fake reply: Mention\n",
    "<a id=\"reply_mention\"/>"
   ]
  },
  {
   "cell_type": "code",
   "execution_count": 142,
   "id": "093fef40",
   "metadata": {
    "scrolled": false
   },
   "outputs": [],
   "source": [
    "# menzione (@username) ad inizio tweet (sospeso se df[\"quoted_status_id\"].notna())\n",
    "mentions = reply[reply[\"in_reply_to_status_id\"].isna()]\n",
    "# mentions.info()\n",
    "# mentions"
   ]
  },
  {
   "cell_type": "markdown",
   "id": "0a7c65bc",
   "metadata": {},
   "source": [
    "## Reply to status\n",
    "<a id=\"reply_status\"/>"
   ]
  },
  {
   "cell_type": "code",
   "execution_count": 143,
   "id": "0c432ec1",
   "metadata": {
    "scrolled": false
   },
   "outputs": [],
   "source": [
    "# risposte:\n",
    "# 1281589414838362113 --> risposta A UN POST ORIGINALE, non individuabile\n",
    "# 1281586483544170496 --> risposta A UNA QUOTE, non individuabile\n",
    "# 1394609476263718913 --> risposta A UNA RISPOSTA, non individuabile\n",
    "reply_to_status = reply[reply[\"in_reply_to_status_id\"].notna()]\n",
    "# reply_to_status.info()\n",
    "# reply_to_status"
   ]
  },
  {
   "cell_type": "markdown",
   "id": "52180c26",
   "metadata": {},
   "source": [
    "### Check rp"
   ]
  },
  {
   "cell_type": "code",
   "execution_count": 125,
   "id": "ff42b7f5",
   "metadata": {},
   "outputs": [
    {
     "data": {
      "text/plain": [
       "True"
      ]
     },
     "execution_count": 125,
     "metadata": {},
     "output_type": "execute_result"
    }
   ],
   "source": [
    "len(mentions) + len(reply_to_status) == len(reply)"
   ]
  },
  {
   "cell_type": "markdown",
   "id": "1576f669",
   "metadata": {},
   "source": [
    "# Retweets\n",
    "<a id=\"retweets\"/>"
   ]
  },
  {
   "cell_type": "code",
   "execution_count": 101,
   "id": "0f03835f",
   "metadata": {},
   "outputs": [],
   "source": [
    "retweet = df[df[\"rt_created_at\"].notna()]\n",
    "# retweet.info(verbose=True, null_counts=True)\n",
    "# retweet"
   ]
  },
  {
   "cell_type": "markdown",
   "id": "b08673fb",
   "metadata": {},
   "source": [
    "## Retweet of original\n",
    "<a id=\"rt_original\"/>"
   ]
  },
  {
   "cell_type": "code",
   "execution_count": 98,
   "id": "337baed0",
   "metadata": {},
   "outputs": [],
   "source": [
    "retweet_original = retweet[retweet[\"rt_in_reply_to_user_id\"].isna() & retweet[\"quoted_status_id\"].isna()]\n",
    "# retweet_original.info(verbose=True, null_counts=True)\n",
    "# retweet_original"
   ]
  },
  {
   "cell_type": "markdown",
   "id": "f9ad072c",
   "metadata": {},
   "source": [
    "## Retweet of reply\n",
    "<a id=\"rt_reply\"/>"
   ]
  },
  {
   "cell_type": "code",
   "execution_count": 99,
   "id": "7d2246a5",
   "metadata": {},
   "outputs": [],
   "source": [
    "retweet_in_reply = retweet[retweet[\"rt_in_reply_to_status_id\"].notna()]\n",
    "# retweet_in_reply.info()\n",
    "# retweet_in_reply"
   ]
  },
  {
   "cell_type": "markdown",
   "id": "37137630",
   "metadata": {},
   "source": [
    "## Retweet of mention\n",
    "<a id=\"rt_mention\"/>"
   ]
  },
  {
   "cell_type": "code",
   "execution_count": 163,
   "id": "1444d9d4",
   "metadata": {},
   "outputs": [],
   "source": [
    "retweet_of_mentions = retweet[retweet[\"rt_in_reply_to_status_id\"].isna() & retweet[\"rt_in_reply_to_user_id\"].notna()]\n",
    "# retweet_of_mentions.info()\n",
    "# retweet_of_mentions"
   ]
  },
  {
   "cell_type": "markdown",
   "id": "7ce96ad5",
   "metadata": {},
   "source": [
    "## Retweet of quote\n",
    "<a id=\"rt_quote\"/>"
   ]
  },
  {
   "cell_type": "code",
   "execution_count": 152,
   "id": "1a7fabf6",
   "metadata": {},
   "outputs": [],
   "source": [
    "retweet_quote = retweet[retweet[\"quoted_status_id\"].notna() & retweet[\"rt_in_reply_to_user_id\"].isna()]\n",
    "# retweet_quote.info()\n",
    "# retweet_quote"
   ]
  },
  {
   "cell_type": "markdown",
   "id": "9281b872",
   "metadata": {},
   "source": [
    "### Check rt"
   ]
  },
  {
   "cell_type": "code",
   "execution_count": 105,
   "id": "78394de4",
   "metadata": {},
   "outputs": [
    {
     "data": {
      "text/plain": [
       "True"
      ]
     },
     "execution_count": 105,
     "metadata": {},
     "output_type": "execute_result"
    }
   ],
   "source": [
    "len(retweet_quote) + len(retweet_of_mentions) + len(retweet_in_reply) + len(retweet_original) == len(retweet)"
   ]
  },
  {
   "cell_type": "markdown",
   "id": "f1af0c71",
   "metadata": {},
   "source": [
    "# Quotes\n",
    "<a id=\"quotes\"/>"
   ]
  },
  {
   "cell_type": "code",
   "execution_count": 162,
   "id": "6c1cb2b0",
   "metadata": {
    "scrolled": false
   },
   "outputs": [],
   "source": [
    "quote = df[df[\"quoted_status_id\"].notna() & df[\"rt_created_at\"].isna()]\n",
    "# quote.info()"
   ]
  },
  {
   "cell_type": "markdown",
   "id": "b0a38c74",
   "metadata": {},
   "source": [
    "## Quotes of status\n",
    "<a id=\"quote_status\"/>"
   ]
  },
  {
   "cell_type": "code",
   "execution_count": 146,
   "id": "eafb8a34",
   "metadata": {},
   "outputs": [],
   "source": [
    "#  quote[\"quoted_user_created_at\"].isna() per le quotes dei post rimossi\n",
    "quote_original = quote[quote[\"in_reply_to_screen_name\"].isna()]\n",
    "# quote_original.info()\n",
    "# quote_original"
   ]
  },
  {
   "cell_type": "markdown",
   "id": "64c27a11",
   "metadata": {},
   "source": [
    "## Quotes in reply\n",
    "<a id=\"quote_reply\"/>"
   ]
  },
  {
   "cell_type": "code",
   "execution_count": 155,
   "id": "5fe5db68",
   "metadata": {},
   "outputs": [],
   "source": [
    "quote_reply = quote[quote[\"in_reply_to_screen_name\"].notna() & quote[\"in_reply_to_status_id_str\"].notna()]\n",
    "# quote_reply.info()\n",
    "# quote_reply"
   ]
  },
  {
   "cell_type": "markdown",
   "id": "af488022",
   "metadata": {},
   "source": [
    "### Check quote"
   ]
  },
  {
   "cell_type": "code",
   "execution_count": 151,
   "id": "c39a6e78",
   "metadata": {},
   "outputs": [
    {
     "data": {
      "text/plain": [
       "True"
      ]
     },
     "execution_count": 151,
     "metadata": {},
     "output_type": "execute_result"
    }
   ],
   "source": [
    "len(quote) == len(quote_original) + len(quote_reply)"
   ]
  },
  {
   "cell_type": "markdown",
   "id": "04d23786",
   "metadata": {},
   "source": [
    "# Split check\n",
    "<a id=\"split_check\"/>"
   ]
  },
  {
   "cell_type": "code",
   "execution_count": 145,
   "id": "8f04ea04",
   "metadata": {},
   "outputs": [
    {
     "data": {
      "text/plain": [
       "True"
      ]
     },
     "execution_count": 145,
     "metadata": {},
     "output_type": "execute_result"
    }
   ],
   "source": [
    "len(df) == len(reply) + len(retweet) + len(original) + len(quote)"
   ]
  }
 ],
 "metadata": {
  "kernelspec": {
   "display_name": "Python 3 (ipykernel)",
   "language": "python",
   "name": "python3"
  },
  "language_info": {
   "codemirror_mode": {
    "name": "ipython",
    "version": 3
   },
   "file_extension": ".py",
   "mimetype": "text/x-python",
   "name": "python",
   "nbconvert_exporter": "python",
   "pygments_lexer": "ipython3",
   "version": "3.8.11"
  }
 },
 "nbformat": 4,
 "nbformat_minor": 5
}
