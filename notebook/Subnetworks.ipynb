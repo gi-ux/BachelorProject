{
 "cells": [
  {
   "cell_type": "code",
   "execution_count": 1,
   "metadata": {},
   "outputs": [
    {
     "data": {
      "application/javascript": [
       "IPython.notebook.set_autosave_interval(3600000)"
      ]
     },
     "metadata": {},
     "output_type": "display_data"
    },
    {
     "name": "stdout",
     "output_type": "stream",
     "text": [
      "Autosaving every 3600 seconds\n"
     ]
    }
   ],
   "source": [
    "import pandas as pd\n",
    "import numpy as np\n",
    "import plotly.express as px\n",
    "import matplotlib.pyplot as plt\n",
    "from time import strptime\n",
    "import datetime\n",
    "from datetime import datetime\n",
    "import warnings\n",
    "import time\n",
    "import csv\n",
    "import glob\n",
    "import logging\n",
    "import importlib\n",
    "import json\n",
    "import networkx as nx\n",
    "import seaborn as sns\n",
    "import re\n",
    "from operator import itemgetter\n",
    "import matplotlib as mpl \n",
    "import matplotlib.cm as mcm\n",
    "import community\n",
    "from community import community_louvain as cm\n",
    "import leidenalg as la\n",
    "import igraph as ig\n",
    "from cdlib import algorithms\n",
    "warnings.filterwarnings('ignore')\n",
    "path = \"C:/Users/gianl/Desktop/Gi/Supsi/BachelorProject/network/\"\n",
    "%autosave 3600"
   ]
  },
  {
   "cell_type": "markdown",
   "metadata": {},
   "source": [
    "# Indice\n",
    "\n",
    "- [Functions](#func)\n",
    "\n",
    "- [Network Community 1](#comm_1)\n",
    "\n",
    "    - [Info](#info_1)\n",
    "    - [Louvain](#louvain_1)    \n",
    "\n",
    "\n",
    "- [Network Community 2](#comm_2)\n",
    "\n",
    "    - [Info](#info_2)\n",
    "    - [Louvain](#louvain_2)  \n",
    "\n",
    "\n",
    "- [Network Community 19](#comm_19)\n",
    "\n",
    "    - [Info](#info_19)\n",
    "    - [Louvain](#louvain_19)    \n",
    "    \n",
    "    \n",
    "- [Subnetworks Df](#subnet_df)"
   ]
  },
  {
   "cell_type": "markdown",
   "metadata": {},
   "source": [
    "### Functions\n",
    "<a id =\"func\"/>"
   ]
  },
  {
   "cell_type": "code",
   "execution_count": 2,
   "metadata": {},
   "outputs": [],
   "source": [
    "def clean_data_format(df: pd.DataFrame, broken_col='name', fix_encoding=False):\n",
    "    col = df.columns[-1]\n",
    "\n",
    "    def clean(target):\n",
    "        return str(target).replace(\"\\r\", \"\")\n",
    "\n",
    "    if \"\\r\" in col:\n",
    "        clean_col = clean(col)\n",
    "        df = df.rename(columns={col: clean_col})\n",
    "        if df[clean_col].dtype.name == 'object':\n",
    "            df[clean_col] = df[clean_col].apply(clean)\n",
    "    if fix_encoding:\n",
    "        df[broken_col] = df[broken_col].apply(util.fix_encoding)\n",
    "    return df"
   ]
  },
  {
   "cell_type": "code",
   "execution_count": 3,
   "metadata": {},
   "outputs": [],
   "source": [
    "def network_general(df, col_1=\"name\", col_2=\"rt_name\"):\n",
    "    retweets_graph = nx.from_pandas_edgelist(df, col_1 ,col_2 , create_using=nx.DiGraph())\n",
    "    info = nx.info(retweets_graph)\n",
    "    \n",
    "    degree_dict = dict(retweets_graph.degree(retweets_graph.nodes()))\n",
    "    sorted_degree = sorted(degree_dict.items(), key=itemgetter(1), reverse=True)\n",
    "    \n",
    "    in_degree_dict = dict(retweets_graph.in_degree(retweets_graph.nodes()))\n",
    "    sorted_in_degree = sorted(in_degree_dict.items(), key=itemgetter(1), reverse=True)\n",
    "    \n",
    "    out_degree_dict = dict(retweets_graph.out_degree(retweets_graph.nodes()))\n",
    "    sorted_out_degree = sorted(out_degree_dict.items(), key=itemgetter(1), reverse=True)\n",
    "    \n",
    "    return {\"info\": info, \"degree\": sorted_degree, \"in_degree\": sorted_in_degree,  \n",
    "            \"out_degree\": sorted_out_degree}"
   ]
  },
  {
   "cell_type": "code",
   "execution_count": 4,
   "metadata": {},
   "outputs": [],
   "source": [
    "def network_louvain(df, col_1=\"name\", col_2=\"rt_name\"):\n",
    "    retweets_graph_und = nx.from_pandas_edgelist(df, col_1, col_2)\n",
    "    info = nx.info(retweets_graph_und)\n",
    "    \n",
    "    best_part = cm.best_partition(retweets_graph_und, random_state=42)\n",
    "    \n",
    "    return {\"info\": info, \"best_part\": best_part}"
   ]
  },
  {
   "cell_type": "code",
   "execution_count": 5,
   "metadata": {},
   "outputs": [],
   "source": [
    "def rt_community(df, louvain, col=\"user_screen_name\"):\n",
    "    community = []\n",
    "    name = []\n",
    "    rt = []\n",
    "    for i in df[col]:\n",
    "        if i in louvain:\n",
    "            rt.append((i, louvain.get(i)))\n",
    "    for i in range(len(rt)):\n",
    "        community.append(rt[i][1])\n",
    "    val = pd.Series(community)\n",
    "    val = val.value_counts().sort_values(ascending=False)\n",
    "    return val"
   ]
  },
  {
   "cell_type": "code",
   "execution_count": 6,
   "metadata": {},
   "outputs": [],
   "source": [
    "def plot_hist(val, title, col=\"lightseagreen\"):\n",
    "    fig = plt.figure(figsize=(14, 8))\n",
    "    ax = val[:10].plot(kind='barh', color=col, fig=(14,14)) #orange #lightseagreen\n",
    "    ax.set_title(title, fontsize=15)\n",
    "    ax.invert_yaxis()\n",
    "    plt.show()"
   ]
  },
  {
   "cell_type": "code",
   "execution_count": 36,
   "metadata": {},
   "outputs": [],
   "source": [
    "def df_from_degree(degree, lst_subcomm, community, subcomm):\n",
    "    lst_name = []\n",
    "    lst_deg = []\n",
    "    lst_comm = []\n",
    "    lst_descr = []\n",
    "    lst_sub = []\n",
    "    cont = 0\n",
    "    for i in degree: #primi 50 8\n",
    "        if cont == 5:\n",
    "            break\n",
    "        if i[0] in lst_subcomm:\n",
    "            cont = cont + 1\n",
    "            lst_name.append(i[0])\n",
    "            lst_deg.append(i[1])\n",
    "            lst_comm.append(community)\n",
    "            lst_sub.append(subcomm)\n",
    "    df = pd.DataFrame(list(zip(lst_name, lst_deg, lst_comm, lst_sub)),\n",
    "                   columns =['name', 'degree', 'community', \"subcommunity\"])\n",
    "    return df"
   ]
  },
  {
   "cell_type": "markdown",
   "metadata": {},
   "source": [
    "### Load Files"
   ]
  },
  {
   "cell_type": "code",
   "execution_count": 1,
   "metadata": {},
   "outputs": [],
   "source": [
    "def read_from_json(path):\n",
    "    start_time = time.perf_counter()\n",
    "    file = open (path,)\n",
    "    obj = json.loads(file.read())\n",
    "    file.close()\n",
    "    stop_time = time.perf_counter()\n",
    "    print(\"Time: \",stop_time-start_time)\n",
    "    return obj"
   ]
  },
  {
   "cell_type": "code",
   "execution_count": 2,
   "metadata": {},
   "outputs": [
    {
     "ename": "NameError",
     "evalue": "name 'glob' is not defined",
     "output_type": "error",
     "traceback": [
      "\u001b[1;31m---------------------------------------------------------------------------\u001b[0m",
      "\u001b[1;31mNameError\u001b[0m                                 Traceback (most recent call last)",
      "\u001b[1;32m~\\AppData\\Local\\Temp/ipykernel_9820/3418675801.py\u001b[0m in \u001b[0;36m<module>\u001b[1;34m\u001b[0m\n\u001b[1;32m----> 1\u001b[1;33m \u001b[0mpath_ccdh_rt\u001b[0m \u001b[1;33m=\u001b[0m \u001b[0mglob\u001b[0m\u001b[1;33m.\u001b[0m\u001b[0mglob\u001b[0m\u001b[1;33m(\u001b[0m\u001b[1;34m\"C:/Users/gianl/Desktop/Gi/Supsi/BachelorProject/large_files/ccdh/\"\u001b[0m\u001b[1;33m)\u001b[0m\u001b[1;33m\u001b[0m\u001b[1;33m\u001b[0m\u001b[0m\n\u001b[0m\u001b[0;32m      2\u001b[0m \u001b[0mccdh_rt\u001b[0m \u001b[1;33m=\u001b[0m \u001b[0mpd\u001b[0m\u001b[1;33m.\u001b[0m\u001b[0mread_csv\u001b[0m\u001b[1;33m(\u001b[0m\u001b[0mpath_ccdh_rt\u001b[0m\u001b[1;33m[\u001b[0m\u001b[1;36m0\u001b[0m\u001b[1;33m]\u001b[0m \u001b[1;33m+\u001b[0m \u001b[1;34m\"rt_bad.csv\"\u001b[0m\u001b[1;33m)\u001b[0m\u001b[1;33m\u001b[0m\u001b[1;33m\u001b[0m\u001b[0m\n\u001b[0;32m      3\u001b[0m \u001b[0mgood_rt\u001b[0m \u001b[1;33m=\u001b[0m \u001b[0mpd\u001b[0m\u001b[1;33m.\u001b[0m\u001b[0mread_csv\u001b[0m\u001b[1;33m(\u001b[0m\u001b[0mpath_ccdh_rt\u001b[0m\u001b[1;33m[\u001b[0m\u001b[1;36m0\u001b[0m\u001b[1;33m]\u001b[0m \u001b[1;33m+\u001b[0m \u001b[1;34m\"rt_good.csv\"\u001b[0m\u001b[1;33m)\u001b[0m\u001b[1;33m\u001b[0m\u001b[1;33m\u001b[0m\u001b[0m\n\u001b[0;32m      4\u001b[0m \u001b[0mpath_dozen\u001b[0m \u001b[1;33m=\u001b[0m \u001b[0mglob\u001b[0m\u001b[1;33m.\u001b[0m\u001b[0mglob\u001b[0m\u001b[1;33m(\u001b[0m\u001b[1;34m\"C:/Users/gianl/Desktop/Gi/Supsi/BachelorProject/csv/\"\u001b[0m\u001b[1;33m)\u001b[0m\u001b[1;33m\u001b[0m\u001b[1;33m\u001b[0m\u001b[0m\n\u001b[0;32m      5\u001b[0m \u001b[0mbad_dozen\u001b[0m \u001b[1;33m=\u001b[0m \u001b[0mpd\u001b[0m\u001b[1;33m.\u001b[0m\u001b[0mread_csv\u001b[0m\u001b[1;33m(\u001b[0m\u001b[0mpath_dozen\u001b[0m\u001b[1;33m[\u001b[0m\u001b[1;36m0\u001b[0m\u001b[1;33m]\u001b[0m \u001b[1;33m+\u001b[0m \u001b[1;34m\"disinformation_users.csv\"\u001b[0m\u001b[1;33m)\u001b[0m\u001b[1;33m\u001b[0m\u001b[1;33m\u001b[0m\u001b[0m\n",
      "\u001b[1;31mNameError\u001b[0m: name 'glob' is not defined"
     ]
    }
   ],
   "source": [
    "path_ccdh_rt = glob.glob(\"C:/Users/gianl/Desktop/Gi/Supsi/BachelorProject/large_files/ccdh/\")\n",
    "ccdh_rt = pd.read_csv(path_ccdh_rt[0] + \"rt_bad.csv\")\n",
    "good_rt = pd.read_csv(path_ccdh_rt[0] + \"rt_good.csv\")\n",
    "path_dozen = glob.glob(\"C:/Users/gianl/Desktop/Gi/Supsi/BachelorProject/csv/\")\n",
    "bad_dozen = pd.read_csv(path_dozen[0] + \"disinformation_users.csv\")\n",
    "good_dozen = pd.read_csv(path_dozen[0] + \"good_dozen.csv\")"
   ]
  },
  {
   "cell_type": "code",
   "execution_count": 9,
   "metadata": {},
   "outputs": [],
   "source": [
    "# df_1 = pd.read_csv(path + \"prova_1.csv\", lineterminator=\"\\n\", low_memory=False)\n",
    "# df_1\n",
    "# df_2 = pd.read_csv(path + \"prova_2.csv\", lineterminator=\"\\n\", low_memory=False)\n",
    "# df_2\n",
    "# df_5 = pd.read_csv(path + \"prova_5.csv\", lineterminator=\"\\n\", low_memory=False)\n",
    "# df_5 \n",
    "# df_19 = pd.read_csv(path + \"prova_19.csv\", lineterminator=\"\\n\", low_memory=False)\n",
    "# df_19 "
   ]
  },
  {
   "cell_type": "code",
   "execution_count": 10,
   "metadata": {},
   "outputs": [],
   "source": [
    "# nt = pd.DataFrame()\n",
    "# print(f\"Process 19\")\n",
    "# for chunk in pd.read_csv(path + \"user_rtuser.csv\", lineterminator=\"\\n\", \n",
    "#                          low_memory=False, chunksize=int(1e6)):\n",
    "#     chunk = clean_data_format(chunk, \"rt_name\")\n",
    "#     nt = nt.append(chunk[chunk[\"name\"].isin(df_19[\"name\"]) | chunk[\"rt_name\"].isin(df_19[\"name\"])])\n",
    "# nt = nt.reset_index(drop=True)\n",
    "# nt.to_csv(path + f\"prova_nt_19.csv\", line_terminator='\\n', encoding='utf-8', index=False)"
   ]
  },
  {
   "cell_type": "markdown",
   "metadata": {},
   "source": [
    "### Network Community 1\n",
    "<p>\n",
    "\n",
    "    Community Americana con tendenza politica / giornalistica\n",
    "    - contiene 4 Good Dozen (DrDenaGrayson, ashishkjha, edyong209, HelenBranswell)\n",
    "    - contiene utenti che retwettano i Good Dozen\n",
    "\n",
    "</p>\n",
    "<a id=\"comm_1\"/>"
   ]
  },
  {
   "cell_type": "code",
   "execution_count": 19,
   "metadata": {},
   "outputs": [
    {
     "name": "stdout",
     "output_type": "stream",
     "text": [
      "Time:  2.3848919000000137\n",
      "Time:  1.4386784000000148\n"
     ]
    }
   ],
   "source": [
    "path_inside = path + \"/network_1/\"\n",
    "louvain_path = glob.glob(path_inside + \"louvain*.json\")[0]\n",
    "deg_path = glob.glob(path_inside + \"degree.json\")[0]\n",
    "degree_1 = read_from_json(deg_path)\n",
    "louvain_1 = read_from_json(louvain_path)\n",
    "ccdh_rt_flt_1 = ccdh_rt[ccdh_rt.user_screen_name.isin([x for x in louvain_1])]\n",
    "good_rt_flt_1 = good_rt[good_rt.user_screen_name.isin([x for x in louvain_1])]"
   ]
  },
  {
   "cell_type": "markdown",
   "metadata": {},
   "source": [
    "#### Info\n",
    "<a id=\"info_1\"/>"
   ]
  },
  {
   "cell_type": "markdown",
   "metadata": {},
   "source": [
    "<p>\n",
    "    \n",
    "    Graph with 1142470 nodes and 6309017 edges\n",
    "\n",
    "</p>"
   ]
  },
  {
   "cell_type": "markdown",
   "metadata": {},
   "source": [
    "#### Louvain\n",
    "<a id=\"louvain_1\"/>"
   ]
  },
  {
   "cell_type": "code",
   "execution_count": 12,
   "metadata": {},
   "outputs": [
    {
     "data": {
      "image/png": "[encoded data removed]",
      "text/plain": [
       "<Figure size 1008x576 with 1 Axes>"
      ]
     },
     "metadata": {
      "needs_background": "light"
     },
     "output_type": "display_data"
    },
    {
     "name": "stdout",
     "output_type": "stream",
     "text": [
      "le prime 5 subcommunities sono il 71.32% del totale nella network_1\n",
      "il numero di utenti è 1142470\n"
     ]
    }
   ],
   "source": [
    "communities = []\n",
    "for i in louvain_1:\n",
    "    communities.append(louvain_1.get(i))\n",
    "comm = pd.Series(communities).value_counts().sort_values(ascending=False)\n",
    "fig = plt.figure(figsize=(14, 8))\n",
    "ax = comm[:10].plot(kind='barh', color='plum') #orange #lightseagreen\n",
    "ax.set_title('Number of nodes per community - Network 1 (top 10)', fontsize=15)\n",
    "ax.invert_yaxis()\n",
    "plt.show()\n",
    "s = 0\n",
    "for i in comm[:5]:\n",
    "    s = s + i \n",
    "print(f\"le prime 5 subcommunities sono il {round(s/comm.sum()*100,2)}% del totale nella network_1\")\n",
    "print(f\"il numero di utenti è {comm.sum()}\")"
   ]
  },
  {
   "cell_type": "markdown",
   "metadata": {},
   "source": [
    "### Dozen inside community 1"
   ]
  },
  {
   "cell_type": "code",
   "execution_count": 13,
   "metadata": {},
   "outputs": [
    {
     "name": "stdout",
     "output_type": "stream",
     "text": [
      "Good dozen: \n",
      "DrDenaGrayson\n",
      "3\n",
      "ashishkjha\n",
      "0\n",
      "edyong209\n",
      "0\n",
      "HelenBranswell\n",
      "0\n"
     ]
    }
   ],
   "source": [
    "print(\"Good dozen: \")\n",
    "for i in louvain_1:\n",
    "    if i in list(good_dozen[\"screen_name\"]) or i in list(bad_dozen[\"screen_name\"]):\n",
    "        print(i)\n",
    "        print(louvain_1.get(i))"
   ]
  },
  {
   "cell_type": "markdown",
   "metadata": {},
   "source": [
    "### Subcommunities"
   ]
  },
  {
   "cell_type": "code",
   "execution_count": 81,
   "metadata": {},
   "outputs": [],
   "source": [
    "lst_3 = []\n",
    "lst_0 = []\n",
    "lst_2 = []\n",
    "lst_4 = []\n",
    "lst_15 = []\n",
    "for i in louvain_1:\n",
    "    if louvain_1.get(i) == 3:\n",
    "        lst_3.append(i)\n",
    "    if louvain_1.get(i) == 0:\n",
    "        lst_0.append(i)\n",
    "    if louvain_1.get(i) == 2:\n",
    "        lst_2.append(i)\n",
    "    if louvain_1.get(i) == 4:\n",
    "        lst_4.append(i)\n",
    "    if louvain_1.get(i) == 15:\n",
    "        lst_15.append(i)\n",
    "                "
   ]
  },
  {
   "cell_type": "code",
   "execution_count": 82,
   "metadata": {},
   "outputs": [
    {
     "data": {
      "text/html": [
       "<div>\n",
       "<style scoped>\n",
       "    .dataframe tbody tr th:only-of-type {\n",
       "        vertical-align: middle;\n",
       "    }\n",
       "\n",
       "    .dataframe tbody tr th {\n",
       "        vertical-align: top;\n",
       "    }\n",
       "\n",
       "    .dataframe thead th {\n",
       "        text-align: right;\n",
       "    }\n",
       "</style>\n",
       "<table border=\"1\" class=\"dataframe\">\n",
       "  <thead>\n",
       "    <tr style=\"text-align: right;\">\n",
       "      <th></th>\n",
       "      <th>name</th>\n",
       "      <th>degree</th>\n",
       "      <th>community</th>\n",
       "      <th>subcommunity</th>\n",
       "    </tr>\n",
       "  </thead>\n",
       "  <tbody>\n",
       "    <tr>\n",
       "      <th>0</th>\n",
       "      <td>tedlieu</td>\n",
       "      <td>60191</td>\n",
       "      <td>1</td>\n",
       "      <td>3</td>\n",
       "    </tr>\n",
       "    <tr>\n",
       "      <th>1</th>\n",
       "      <td>funder</td>\n",
       "      <td>51566</td>\n",
       "      <td>1</td>\n",
       "      <td>3</td>\n",
       "    </tr>\n",
       "    <tr>\n",
       "      <th>2</th>\n",
       "      <td>maddow</td>\n",
       "      <td>44509</td>\n",
       "      <td>1</td>\n",
       "      <td>3</td>\n",
       "    </tr>\n",
       "    <tr>\n",
       "      <th>3</th>\n",
       "      <td>kylegriffin1</td>\n",
       "      <td>39583</td>\n",
       "      <td>1</td>\n",
       "      <td>3</td>\n",
       "    </tr>\n",
       "    <tr>\n",
       "      <th>4</th>\n",
       "      <td>RepAdamSchiff</td>\n",
       "      <td>30451</td>\n",
       "      <td>1</td>\n",
       "      <td>3</td>\n",
       "    </tr>\n",
       "    <tr>\n",
       "      <th>5</th>\n",
       "      <td>JuddLegum</td>\n",
       "      <td>32246</td>\n",
       "      <td>1</td>\n",
       "      <td>0</td>\n",
       "    </tr>\n",
       "    <tr>\n",
       "      <th>6</th>\n",
       "      <td>chrislhayes</td>\n",
       "      <td>30997</td>\n",
       "      <td>1</td>\n",
       "      <td>0</td>\n",
       "    </tr>\n",
       "    <tr>\n",
       "      <th>7</th>\n",
       "      <td>ewarren</td>\n",
       "      <td>26499</td>\n",
       "      <td>1</td>\n",
       "      <td>0</td>\n",
       "    </tr>\n",
       "    <tr>\n",
       "      <th>8</th>\n",
       "      <td>ASlavitt</td>\n",
       "      <td>19939</td>\n",
       "      <td>1</td>\n",
       "      <td>0</td>\n",
       "    </tr>\n",
       "    <tr>\n",
       "      <th>9</th>\n",
       "      <td>brianschatz</td>\n",
       "      <td>16925</td>\n",
       "      <td>1</td>\n",
       "      <td>0</td>\n",
       "    </tr>\n",
       "    <tr>\n",
       "      <th>10</th>\n",
       "      <td>CNN</td>\n",
       "      <td>48193</td>\n",
       "      <td>1</td>\n",
       "      <td>2</td>\n",
       "    </tr>\n",
       "    <tr>\n",
       "      <th>11</th>\n",
       "      <td>nytimes</td>\n",
       "      <td>31924</td>\n",
       "      <td>1</td>\n",
       "      <td>2</td>\n",
       "    </tr>\n",
       "    <tr>\n",
       "      <th>12</th>\n",
       "      <td>NPR</td>\n",
       "      <td>20376</td>\n",
       "      <td>1</td>\n",
       "      <td>2</td>\n",
       "    </tr>\n",
       "    <tr>\n",
       "      <th>13</th>\n",
       "      <td>washingtonpost</td>\n",
       "      <td>19579</td>\n",
       "      <td>1</td>\n",
       "      <td>2</td>\n",
       "    </tr>\n",
       "    <tr>\n",
       "      <th>14</th>\n",
       "      <td>ABC</td>\n",
       "      <td>19097</td>\n",
       "      <td>1</td>\n",
       "      <td>2</td>\n",
       "    </tr>\n",
       "    <tr>\n",
       "      <th>15</th>\n",
       "      <td>RBReich</td>\n",
       "      <td>26108</td>\n",
       "      <td>1</td>\n",
       "      <td>4</td>\n",
       "    </tr>\n",
       "    <tr>\n",
       "      <th>16</th>\n",
       "      <td>AOC</td>\n",
       "      <td>25564</td>\n",
       "      <td>1</td>\n",
       "      <td>4</td>\n",
       "    </tr>\n",
       "    <tr>\n",
       "      <th>17</th>\n",
       "      <td>BernieSanders</td>\n",
       "      <td>16462</td>\n",
       "      <td>1</td>\n",
       "      <td>4</td>\n",
       "    </tr>\n",
       "    <tr>\n",
       "      <th>18</th>\n",
       "      <td>SenSanders</td>\n",
       "      <td>13310</td>\n",
       "      <td>1</td>\n",
       "      <td>4</td>\n",
       "    </tr>\n",
       "    <tr>\n",
       "      <th>19</th>\n",
       "      <td>Public_Citizen</td>\n",
       "      <td>10989</td>\n",
       "      <td>1</td>\n",
       "      <td>4</td>\n",
       "    </tr>\n",
       "    <tr>\n",
       "      <th>20</th>\n",
       "      <td>JoeBiden</td>\n",
       "      <td>49803</td>\n",
       "      <td>1</td>\n",
       "      <td>15</td>\n",
       "    </tr>\n",
       "    <tr>\n",
       "      <th>21</th>\n",
       "      <td>HillaryClinton</td>\n",
       "      <td>17974</td>\n",
       "      <td>1</td>\n",
       "      <td>15</td>\n",
       "    </tr>\n",
       "    <tr>\n",
       "      <th>22</th>\n",
       "      <td>Yamiche</td>\n",
       "      <td>17377</td>\n",
       "      <td>1</td>\n",
       "      <td>15</td>\n",
       "    </tr>\n",
       "    <tr>\n",
       "      <th>23</th>\n",
       "      <td>soledadobrien</td>\n",
       "      <td>12275</td>\n",
       "      <td>1</td>\n",
       "      <td>15</td>\n",
       "    </tr>\n",
       "    <tr>\n",
       "      <th>24</th>\n",
       "      <td>GeorgeTakei</td>\n",
       "      <td>8560</td>\n",
       "      <td>1</td>\n",
       "      <td>15</td>\n",
       "    </tr>\n",
       "  </tbody>\n",
       "</table>\n",
       "</div>"
      ],
      "text/plain": [
       "              name  degree  community  subcommunity\n",
       "0          tedlieu   60191          1             3\n",
       "1           funder   51566          1             3\n",
       "2           maddow   44509          1             3\n",
       "3     kylegriffin1   39583          1             3\n",
       "4    RepAdamSchiff   30451          1             3\n",
       "5        JuddLegum   32246          1             0\n",
       "6      chrislhayes   30997          1             0\n",
       "7          ewarren   26499          1             0\n",
       "8         ASlavitt   19939          1             0\n",
       "9      brianschatz   16925          1             0\n",
       "10             CNN   48193          1             2\n",
       "11         nytimes   31924          1             2\n",
       "12             NPR   20376          1             2\n",
       "13  washingtonpost   19579          1             2\n",
       "14             ABC   19097          1             2\n",
       "15         RBReich   26108          1             4\n",
       "16             AOC   25564          1             4\n",
       "17   BernieSanders   16462          1             4\n",
       "18      SenSanders   13310          1             4\n",
       "19  Public_Citizen   10989          1             4\n",
       "20        JoeBiden   49803          1            15\n",
       "21  HillaryClinton   17974          1            15\n",
       "22         Yamiche   17377          1            15\n",
       "23   soledadobrien   12275          1            15\n",
       "24     GeorgeTakei    8560          1            15"
      ]
     },
     "execution_count": 82,
     "metadata": {},
     "output_type": "execute_result"
    }
   ],
   "source": [
    "df_info = df_from_degree(degree=degree_1, lst_subcomm=lst_3, community=1, subcomm=3)\n",
    "df_info = df_info.append(df_from_degree(degree=degree_1, lst_subcomm=lst_0, community=1, subcomm=0))\n",
    "df_info = df_info.append(df_from_degree(degree=degree_1, lst_subcomm=lst_2, community=1, subcomm=2))\n",
    "df_info = df_info.append(df_from_degree(degree=degree_1, lst_subcomm=lst_4, community=1, subcomm=4))\n",
    "df_info = df_info.append(df_from_degree(degree=degree_1, lst_subcomm=lst_15, community=1, subcomm=15))\n",
    "df_info = df_info.reset_index(drop=True)\n",
    "df_info"
   ]
  },
  {
   "cell_type": "markdown",
   "metadata": {},
   "source": [
    "tedlieu -> politician (dem)\n",
    "funder -> politician (dem)\n",
    "maddow -> MSNBC (dem)\n",
    "kylegriffin1 -> MSNBC (dem)\n",
    "RepAdamSchiff -> dem politician\n",
    "\n",
    "JuddLegum -> journalist (dem)\n",
    "chrislhayes -> MSNBC (dem)\n",
    "ewarren -> politician (dem)\n",
    "ASlavitt -> involved in politics (dem)\n",
    "brianschatz -> politician (dem)\n",
    "\n",
    "CNN -> newspaper\n",
    "nytimes -> newspaper\n",
    "NPR -> newspaper\n",
    "washingtonpost -> newspaper\n",
    "ABC -> newspaper\n",
    "\n",
    "RBReich -> politician (dem)\n",
    "AOC -> politician (dem)\n",
    "BernieSanders -> politician (dem)\n",
    "SenSanders -> involved in politics (dem)\n",
    "Public_Citizen -> progressive consumer rights advocacy group\n",
    "\n",
    "JoeBiden -> politician (dem)\n",
    "HillaryClinton -> politician (dem)\n",
    "Yamiche -> MSNBC\n",
    "soledadobrien -> journalist\n",
    "GeorgeTakei -> involved in politics (dem)"
   ]
  },
  {
   "cell_type": "code",
   "execution_count": 14,
   "metadata": {},
   "outputs": [
    {
     "name": "stdout",
     "output_type": "stream",
     "text": [
      "Totale degli utenti che retweettano i Bad Dozen in questa network: 7156, il 0.63%\n",
      "4.66% su chi retweetta i Bad Dozen\n"
     ]
    },
    {
     "data": {
      "image/png": "[encoded data removed]",
      "text/plain": [
       "<Figure size 1008x576 with 1 Axes>"
      ]
     },
     "metadata": {
      "needs_background": "light"
     },
     "output_type": "display_data"
    }
   ],
   "source": [
    "val = rt_community(ccdh_rt_flt_1, louvain_1)\n",
    "print(f\"Totale degli utenti che retweettano i Bad Dozen in questa network: {val.sum()}, il {round(val.sum()/comm.sum()*100,2)}%\")\n",
    "print(f\"{round(val.sum()/len(ccdh_rt)*100,2)}% su chi retweetta i Bad Dozen\")\n",
    "plot_hist(val, \"Number of community for user who retweet BAD DOZEN (inside network 1)\")\n",
    "\n",
    "# print(f\"Lunghezza della community più grande: {val[0]} nodi su {comm[3]} della network ({round(val[0]/comm[3],4)*100}%)\")\n",
    "# print(f\"La community 1-0 contiene il {round(val[0] / sum(val),4)*100}% degli utenti presenti nella network\")\n",
    "# print(f\"La network contiene {sum(val)} utenti che retwettano i BAD DOZEN su un totale di {len(ccdh_rt)} ({round(sum(val)/len(ccdh_rt),2)*100}%)\")\n"
   ]
  },
  {
   "cell_type": "code",
   "execution_count": 15,
   "metadata": {
    "scrolled": false
   },
   "outputs": [
    {
     "name": "stdout",
     "output_type": "stream",
     "text": [
      "Utenti che retweettano i Good Dozen : 24427, il 2.14% sulla network\n",
      "41.11% sul totale degli utenti che retweettano i Good Dozen\n"
     ]
    },
    {
     "data": {
      "image/png": "[encoded data removed]",
      "text/plain": [
       "<Figure size 1008x576 with 1 Axes>"
      ]
     },
     "metadata": {
      "needs_background": "light"
     },
     "output_type": "display_data"
    }
   ],
   "source": [
    "val = rt_community(good_rt_flt_1, louvain_1)\n",
    "print(f\"Utenti che retweettano i Good Dozen : {val.sum()}, il {round(val.sum()/comm.sum()*100,2)}% sulla network\")\n",
    "print(f\"{round(val.sum()/len(good_rt)*100,2)}% sul totale degli utenti che retweettano i Good Dozen\")\n",
    "plot_hist(val, \"Number of community for user who retweet GOOD DOZEN (inside network 1)\", \"steelblue\")"
   ]
  },
  {
   "cell_type": "markdown",
   "metadata": {},
   "source": [
    "### Network Community 2\n",
    "<p>\n",
    "    \n",
    "    News meno politiche, più concentrato sulle notizie (maggiori testate al mondo come CNN international,\n",
    "    BBC world, Time ecc)\n",
    "    \n",
    "</p>\n",
    "<a id=\"comm_2\"/>"
   ]
  },
  {
   "cell_type": "code",
   "execution_count": 51,
   "metadata": {
    "scrolled": true
   },
   "outputs": [
    {
     "name": "stdout",
     "output_type": "stream",
     "text": [
      "Time:  2.12231520000023\n",
      "Time:  1.3233887999999752\n"
     ]
    }
   ],
   "source": [
    "path_inside = path + \"/network_2/\"\n",
    "louvain_path = glob.glob(path_inside + \"louvain*.json\")[0]\n",
    "deg_path = glob.glob(path_inside + \"degree.json\")[0]\n",
    "degree_2 = read_from_json(deg_path)\n",
    "louvain_2 = read_from_json(louvain_path)\n",
    "ccdh_rt_flt_2 = ccdh_rt[ccdh_rt.user_screen_name.isin([x for x in louvain_2])]\n",
    "good_rt_flt_2 = good_rt[good_rt.user_screen_name.isin([x for x in louvain_2])]\n",
    "# to_remove = ccdh_rt[~ccdh_rt.user_screen_name.isin([x for x in louvain_2])]"
   ]
  },
  {
   "cell_type": "markdown",
   "metadata": {},
   "source": [
    "#### Info\n",
    "<a id=\"info_2\">"
   ]
  },
  {
   "cell_type": "markdown",
   "metadata": {},
   "source": [
    "<p>\n",
    "    \n",
    "    Graph with 1036651 nodes and 4312473 edges\n",
    "    \n",
    "</p>"
   ]
  },
  {
   "cell_type": "markdown",
   "metadata": {},
   "source": [
    "#### Louvain\n",
    "<a id=\"louvain_2\"/>"
   ]
  },
  {
   "cell_type": "code",
   "execution_count": 17,
   "metadata": {},
   "outputs": [
    {
     "data": {
      "image/png": "[encoded data removed]",
      "text/plain": [
       "<Figure size 1008x576 with 1 Axes>"
      ]
     },
     "metadata": {
      "needs_background": "light"
     },
     "output_type": "display_data"
    },
    {
     "name": "stdout",
     "output_type": "stream",
     "text": [
      "le prime 5 subcommunities sono il 71.57% del totale nella network_1\n",
      "il numero di utenti è 1036651\n"
     ]
    }
   ],
   "source": [
    "communities = []\n",
    "for i in louvain_2:\n",
    "    communities.append(louvain_2.get(i))\n",
    "comm = pd.Series(communities).value_counts().sort_values(ascending=False)\n",
    "fig = plt.figure(figsize=(14, 8))\n",
    "ax = comm[:10].plot(kind='barh', color='plum') #orange #lightseagreen\n",
    "ax.set_title('Number of nodes per community - Network 2 (top 10)', fontsize=15)\n",
    "ax.invert_yaxis()\n",
    "plt.show()\n",
    "s = 0\n",
    "for i in comm[:5]:\n",
    "    s = s + i \n",
    "print(f\"le prime 5 subcommunities sono il {round(s/comm.sum()*100,2)}% del totale nella network_1\")\n",
    "print(f\"il numero di utenti è {comm.sum()}\")"
   ]
  },
  {
   "cell_type": "markdown",
   "metadata": {},
   "source": [
    "### Dozen inside community 2"
   ]
  },
  {
   "cell_type": "code",
   "execution_count": 11,
   "metadata": {},
   "outputs": [
    {
     "name": "stdout",
     "output_type": "stream",
     "text": [
      "Bad dozen:\n",
      "unhealthytruth\n",
      "6\n",
      "BusyDrT\n",
      "6\n",
      "RobertKennedyJr\n",
      "6\n",
      "mercola\n",
      "6\n",
      "kevdjenkins1\n",
      "6\n",
      "DrButtar\n",
      "6\n",
      "DrChrisNorthrup\n",
      "6\n",
      "---------------\n",
      "Good dozen:\n",
      "trvrb\n",
      "3\n",
      "CDCDirector\n",
      "3\n",
      "MackayIM\n",
      "3\n",
      "DrEricDing\n",
      "3\n",
      "IlonaKickbusch\n",
      "3\n",
      "kakape\n",
      "3\n",
      "mlipsitch\n",
      "3\n"
     ]
    }
   ],
   "source": [
    "print(\"Bad dozen:\")\n",
    "for i in louvain_2:\n",
    "    if i in list(bad_dozen[\"screen_name\"]):\n",
    "        print(i)\n",
    "        print(louvain_2.get(\n",
    "            i))\n",
    "print(\"---------------\")\n",
    "print(\"Good dozen:\")\n",
    "for i in louvain_2:\n",
    "    if i in list(good_dozen[\"screen_name\"]):\n",
    "        print(i)\n",
    "        print(louvain_2.get(i))"
   ]
  },
  {
   "cell_type": "markdown",
   "metadata": {},
   "source": [
    "### Subcommunities"
   ]
  },
  {
   "cell_type": "code",
   "execution_count": 83,
   "metadata": {},
   "outputs": [],
   "source": [
    "lst_3 = []\n",
    "lst_6 = []\n",
    "lst_0 = []\n",
    "lst_4 = []\n",
    "lst_17 = []\n",
    "\n",
    "for i in louvain_2:\n",
    "    if louvain_2.get(i) == 3:\n",
    "        lst_3.append(i)\n",
    "    if louvain_2.get(i) == 6:\n",
    "        lst_6.append(i)\n",
    "    if louvain_2.get(i) == 0:\n",
    "        lst_0.append(i)\n",
    "    if louvain_2.get(i) == 4:\n",
    "        lst_4.append(i)\n",
    "    if louvain_2.get(i) == 17:\n",
    "        lst_17.append(i)"
   ]
  },
  {
   "cell_type": "code",
   "execution_count": 84,
   "metadata": {},
   "outputs": [],
   "source": [
    "df_info = df_info.append(df_from_degree(degree=degree_2, lst_subcomm=lst_3, community=2, subcomm=3))\n",
    "df_info = df_info.append(df_from_degree(degree=degree_2, lst_subcomm=lst_6, community=2, subcomm=6))\n",
    "df_info = df_info.append(df_from_degree(degree=degree_2, lst_subcomm=lst_0, community=2, subcomm=0))\n",
    "df_info = df_info.append(df_from_degree(degree=degree_2, lst_subcomm=lst_4, community=2, subcomm=4))\n",
    "df_info = df_info.append(df_from_degree(degree=degree_2, lst_subcomm=lst_17, community=2, subcomm=17))\n",
    "df_info = df_info.reset_index(drop=True)"
   ]
  },
  {
   "cell_type": "markdown",
   "metadata": {},
   "source": [
    "Reuters -> business news\n",
    "business -> business news\n",
    "BNODesk -> news\n",
    "Quicktake -> business news\n",
    "AFP -> france news\n",
    "\n",
    "BorisJohnson -> uk prime minister (cons)\n",
    "PeterSweden7 -> swedish journalist\n",
    "Telegraph -> uk newspaper\n",
    "RitaPanahi -> australian journalist (cons)\n",
    "Nigel_Farage -> uk politcian (cons)\n",
    "\n",
    "charliekirk11 -> involved in USA politics (cons)\n",
    "RealJamesWoods -> acotr involved in USA politics (cons)\n",
    "RealCandaceO -> activist involved in USA politics (cons)\n",
    "IngrahamAngle -> journalist involved in USA politics (cons)\n",
    "DonaldJTrumpJr -> politcian (cons)\n",
    "\n",
    "jenniferatntd -> chinese activist\n",
    "SenTomCotton -> politcian (cons)\n",
    "MailOnline -> uk news\n",
    "badiucao -> chinese cartoonist and activist \n",
    "HawleyMO -> politcian (cons)\n",
    "\n",
    "Karl_Lauterbach -> german politician (dem)\n",
    "tagesschau -> german news\n",
    "Tagesspiegel -> german news\n",
    "ZDFheute -> german news\n",
    "derspiegel -> german news"
   ]
  },
  {
   "cell_type": "code",
   "execution_count": 18,
   "metadata": {},
   "outputs": [
    {
     "name": "stdout",
     "output_type": "stream",
     "text": [
      "Totale degli utenti che retweettano i Bad Dozen in questa network: 48402, il 4.67%\n",
      "31.52% su chi retweetta i Bad Dozen\n"
     ]
    },
    {
     "data": {
      "image/png": "[encoded data removed]",
      "text/plain": [
       "<Figure size 1008x576 with 1 Axes>"
      ]
     },
     "metadata": {
      "needs_background": "light"
     },
     "output_type": "display_data"
    }
   ],
   "source": [
    "val = rt_community(ccdh_rt_flt_2, louvain_2)\n",
    "print(f\"Totale degli utenti che retweettano i Bad Dozen in questa network: {val.sum()}, il {round(val.sum()/comm.sum()*100,2)}%\")\n",
    "print(f\"{round(val.sum()/len(ccdh_rt)*100,2)}% su chi retweetta i Bad Dozen\")\n",
    "# print(f\"Lunghezza della community più grande: {val[1]} nodi su {comm[4]} della network ({round(val[1]/comm[4],4)*100}%)\")\n",
    "# print(f\"La community 2-1 contiene il {round(val[1] / sum(val),4)*100}% degli utenti presenti nella network\")\n",
    "# print(f\"La network contiene {sum(val)} utenti che retwettano i BAD DOZEN su un totale di {len(ccdh_rt)} ({round(sum(val)/len(ccdh_rt),2)*100}%)\")\n",
    "plot_hist(val, \"Number of community for user who retweet BAD DOZEN (inside network 2)\")"
   ]
  },
  {
   "cell_type": "code",
   "execution_count": 19,
   "metadata": {},
   "outputs": [
    {
     "name": "stdout",
     "output_type": "stream",
     "text": [
      "Utenti che retweettano i Good Dozen : 8240, il 0.79% sulla network\n",
      "13.87% sul totale degli utenti che retweettano i Good Dozen\n"
     ]
    },
    {
     "data": {
      "image/png": "[encoded data removed]",
      "text/plain": [
       "<Figure size 1008x576 with 1 Axes>"
      ]
     },
     "metadata": {
      "needs_background": "light"
     },
     "output_type": "display_data"
    }
   ],
   "source": [
    "val = rt_community(good_rt_flt_2, louvain_2)\n",
    "print(f\"Utenti che retweettano i Good Dozen : {val.sum()}, il {round(val.sum()/comm.sum()*100,2)}% sulla network\")\n",
    "print(f\"{round(val.sum()/len(good_rt)*100,2)}% sul totale degli utenti che retweettano i Good Dozen\")\n",
    "plot_hist(val, \"Number of community for user who retweet GOOD DOZEN (inside network 2)\", \"steelblue\")"
   ]
  },
  {
   "cell_type": "markdown",
   "metadata": {},
   "source": [
    "### Network Community 19\n",
    "<a id=\"comm_19\"/>\n"
   ]
  },
  {
   "cell_type": "code",
   "execution_count": 78,
   "metadata": {},
   "outputs": [
    {
     "name": "stdout",
     "output_type": "stream",
     "text": [
      "Time:  1.6155723000001672\n",
      "Time:  0.43509069999981875\n"
     ]
    }
   ],
   "source": [
    "path_inside = path + \"/network_19/\"\n",
    "louvain_path = glob.glob(path_inside + \"louvain*.json\")[0]\n",
    "degree_path = glob.glob(path_inside + \"degree*.json\")[0]\n",
    "degree_19 = read_from_json(degree_path)\n",
    "louvain_19 = read_from_json(louvain_path)\n",
    "ccdh_rt_flt_19 = ccdh_rt[ccdh_rt.user_screen_name.isin([x for x in louvain_19])]\n",
    "good_rt_flt_19 = good_rt[good_rt.user_screen_name.isin([x for x in louvain_19])]"
   ]
  },
  {
   "cell_type": "markdown",
   "metadata": {},
   "source": [
    "#### Info\n",
    "<a id=\"info_19\"/>"
   ]
  },
  {
   "cell_type": "markdown",
   "metadata": {},
   "source": [
    "<p>\n",
    "    \n",
    "    Graph with 607295 nodes and 1479294 edges\n",
    "    \n",
    "</p>"
   ]
  },
  {
   "cell_type": "markdown",
   "metadata": {},
   "source": [
    "#### Louvain\n",
    "<a id=\"louvain_19\"/>"
   ]
  },
  {
   "cell_type": "code",
   "execution_count": 14,
   "metadata": {},
   "outputs": [
    {
     "data": {
      "image/png": "[encoded data removed]",
      "text/plain": [
       "<Figure size 1008x576 with 1 Axes>"
      ]
     },
     "metadata": {
      "needs_background": "light"
     },
     "output_type": "display_data"
    },
    {
     "name": "stdout",
     "output_type": "stream",
     "text": [
      "le prime 5 subcommunities sono il 57.73% del totale nella network_1\n",
      "il numero di utenti è 607295\n"
     ]
    }
   ],
   "source": [
    "communities = []\n",
    "for i in louvain_19:\n",
    "    communities.append(louvain_19.get(i))\n",
    "comm = pd.Series(communities).value_counts().sort_values(ascending=False)\n",
    "fig = plt.figure(figsize=(14, 8))\n",
    "ax = comm[:10].plot(kind='barh', color='plum') #orange #lightseagreen\n",
    "ax.set_title('Number of nodes per community - Network 19 (top 10)', fontsize=15)\n",
    "ax.invert_yaxis()\n",
    "plt.show()\n",
    "s = 0\n",
    "for i in comm[:5]:\n",
    "    s = s + i \n",
    "print(f\"le prime 5 subcommunities sono il {round(s/comm.sum()*100,2)}% del totale nella network_1\")\n",
    "print(f\"il numero di utenti è {comm.sum()}\")"
   ]
  },
  {
   "cell_type": "markdown",
   "metadata": {},
   "source": [
    "### Subcommunities"
   ]
  },
  {
   "cell_type": "markdown",
   "metadata": {},
   "source": [
    "### Dozen inside community 19"
   ]
  },
  {
   "cell_type": "code",
   "execution_count": 19,
   "metadata": {},
   "outputs": [
    {
     "name": "stdout",
     "output_type": "stream",
     "text": [
      "DrTedros\n",
      "3\n"
     ]
    }
   ],
   "source": [
    "for i in louvain_19:\n",
    "    if i in list(good_dozen[\"screen_name\"]) or i in list(bad_dozen[\"screen_name\"]):\n",
    "        print(i)\n",
    "        print(louvain_19.get(i))"
   ]
  },
  {
   "cell_type": "code",
   "execution_count": 102,
   "metadata": {},
   "outputs": [],
   "source": [
    "lst_5 = []\n",
    "lst_18 = []\n",
    "lst_1 = []\n",
    "lst_2 = []\n",
    "lst_3 = []\n",
    "for i in louvain_19:\n",
    "    if louvain_19.get(i) == 5:\n",
    "        lst_5.append(i)\n",
    "    if louvain_19.get(i) == 18:\n",
    "        lst_18.append(i)\n",
    "    if louvain_19.get(i) == 1:\n",
    "        lst_1.append(i)\n",
    "    if louvain_19.get(i) == 2:\n",
    "        lst_2.append(i)\n",
    "    if louvain_19.get(i) == 3:\n",
    "        lst_3.append(i) \n",
    "        \n",
    "df_info = df_info.append(df_from_degree(degree=degree_19, lst_subcomm=lst_5, community=19, subcomm=5))\n",
    "df_info = df_info.append(df_from_degree(degree=degree_19, lst_subcomm=lst_18, community=19, subcomm=18))\n",
    "df_info = df_info.append(df_from_degree(degree=degree_19, lst_subcomm=lst_1, community=19, subcomm=1))\n",
    "df_info = df_info.append(df_from_degree(degree=degree_19, lst_subcomm=lst_2, community=19, subcomm=2))\n",
    "df_info = df_info.append(df_from_degree(degree=degree_19, lst_subcomm=lst_3, community=19, subcomm=3))\n",
    "df_info = df_info.reset_index(drop=True)\n",
    "# df_info"
   ]
  },
  {
   "cell_type": "markdown",
   "metadata": {},
   "source": [
    "NCDCgov -> nigerian government\n",
    "DrOlufunmilayo -> nigerian doctor \n",
    "aproko_doctor -> nigerian doctor\n",
    "MobilePunch -> nigerian news\n",
    "segalink -> nigerian activist\n",
    "\n",
    "News24 -> southafrican news \n",
    "AdvoBarryRoux -> southafrican advocate (suspended)\n",
    "DrZweliMkhize -> southafrican health minister\n",
    "eNCA -> african news\n",
    "MbuyiseniNdlozi -> southafrican politician\n",
    "\n",
    "citizentvkenya -> kenya news\n",
    "NationBreaking -> african news\n",
    "samirasawlani -> journalist\n",
    "NationAfrica -> african news\n",
    "RobertAlai -> african politician\n",
    "\n",
    "UN -> organization\n",
    "UNICEF -> organization\n",
    "antonioguterres -> un segretary\n",
    "UN_Women -> organization\n",
    "WorldBank -> organization\n",
    "\n",
    "WHO -> organization\n",
    "DrTedros -> who director\n",
    "WHOAFRO -> organization\n",
    "WebMD -> orgnization\n",
    "WHOEMRO ->organization"
   ]
  },
  {
   "cell_type": "code",
   "execution_count": 15,
   "metadata": {
    "scrolled": false
   },
   "outputs": [
    {
     "name": "stdout",
     "output_type": "stream",
     "text": [
      "Totale degli utenti che retweettano i Bad Dozen in questa network: 1619, il 0.27%\n",
      "1.05% su chi retweetta i Bad Dozen\n"
     ]
    },
    {
     "data": {
      "image/png": "[encoded data removed]",
      "text/plain": [
       "<Figure size 1008x576 with 1 Axes>"
      ]
     },
     "metadata": {
      "needs_background": "light"
     },
     "output_type": "display_data"
    }
   ],
   "source": [
    "val = rt_community(ccdh_rt_flt_19, louvain_19)\n",
    "print(f\"Totale degli utenti che retweettano i Bad Dozen in questa network: {val.sum()}, il {round(val.sum()/comm.sum()*100,2)}%\")\n",
    "print(f\"{round(val.sum()/len(ccdh_rt)*100,2)}% su chi retweetta i Bad Dozen\")\n",
    "# print(f\"Lunghezza della community più grande: {val[1]} nodi su {comm[4]} della network ({round(val[1]/comm[4],4)*100}%)\")\n",
    "# print(f\"La community 2-1 contiene il {round(val[1] / sum(val),4)*100}% degli utenti presenti nella network\")\n",
    "# print(f\"La network contiene {sum(val)} utenti che retwettano i BAD DOZEN su un totale di {len(ccdh_rt)} ({round(sum(val)/len(ccdh_rt),2)*100}%)\")\n",
    "plot_hist(val, \"Number of community for user who retweet BAD DOZEN (inside network 19)\")"
   ]
  },
  {
   "cell_type": "code",
   "execution_count": 16,
   "metadata": {},
   "outputs": [
    {
     "name": "stdout",
     "output_type": "stream",
     "text": [
      "Utenti che retweettano i Good Dozen : 482, il 0.08% sulla network\n",
      "0.81% sul totale degli utenti che retweettano i Good Dozen\n"
     ]
    },
    {
     "data": {
      "image/png": "[encoded data removed]",
      "text/plain": [
       "<Figure size 1008x576 with 1 Axes>"
      ]
     },
     "metadata": {
      "needs_background": "light"
     },
     "output_type": "display_data"
    }
   ],
   "source": [
    "val = rt_community(good_rt_flt_19, louvain_19)\n",
    "print(f\"Utenti che retweettano i Good Dozen : {val.sum()}, il {round(val.sum()/comm.sum()*100,2)}% sulla network\")\n",
    "print(f\"{round(val.sum()/len(good_rt)*100,2)}% sul totale degli utenti che retweettano i Good Dozen\")\n",
    "plot_hist(val, \"Number of community for user who retweet GOOD DOZEN (inside network 19)\", \"steelblue\")"
   ]
  },
  {
   "cell_type": "markdown",
   "metadata": {},
   "source": [
    "### Subnetwork DataFrame\n",
    "<a id=\"subnet_df\"/>"
   ]
  },
  {
   "cell_type": "code",
   "execution_count": 101,
   "metadata": {
    "scrolled": true
   },
   "outputs": [
    {
     "data": {
      "text/html": [
       "<div>\n",
       "<style scoped>\n",
       "    .dataframe tbody tr th:only-of-type {\n",
       "        vertical-align: middle;\n",
       "    }\n",
       "\n",
       "    .dataframe tbody tr th {\n",
       "        vertical-align: top;\n",
       "    }\n",
       "\n",
       "    .dataframe thead th {\n",
       "        text-align: right;\n",
       "    }\n",
       "</style>\n",
       "<table border=\"1\" class=\"dataframe\">\n",
       "  <thead>\n",
       "    <tr style=\"text-align: right;\">\n",
       "      <th></th>\n",
       "      <th>name</th>\n",
       "      <th>degree</th>\n",
       "      <th>community</th>\n",
       "      <th>subcommunity</th>\n",
       "      <th>description</th>\n",
       "    </tr>\n",
       "  </thead>\n",
       "  <tbody>\n",
       "    <tr>\n",
       "      <th>10</th>\n",
       "      <td>CNN</td>\n",
       "      <td>48193</td>\n",
       "      <td>1</td>\n",
       "      <td>2</td>\n",
       "      <td>news</td>\n",
       "    </tr>\n",
       "    <tr>\n",
       "      <th>11</th>\n",
       "      <td>nytimes</td>\n",
       "      <td>31924</td>\n",
       "      <td>1</td>\n",
       "      <td>2</td>\n",
       "      <td>news</td>\n",
       "    </tr>\n",
       "    <tr>\n",
       "      <th>12</th>\n",
       "      <td>NPR</td>\n",
       "      <td>20376</td>\n",
       "      <td>1</td>\n",
       "      <td>2</td>\n",
       "      <td>news</td>\n",
       "    </tr>\n",
       "    <tr>\n",
       "      <th>13</th>\n",
       "      <td>washingtonpost</td>\n",
       "      <td>19579</td>\n",
       "      <td>1</td>\n",
       "      <td>2</td>\n",
       "      <td>news</td>\n",
       "    </tr>\n",
       "    <tr>\n",
       "      <th>14</th>\n",
       "      <td>ABC</td>\n",
       "      <td>19097</td>\n",
       "      <td>1</td>\n",
       "      <td>2</td>\n",
       "      <td>news</td>\n",
       "    </tr>\n",
       "    <tr>\n",
       "      <th>65</th>\n",
       "      <td>UN</td>\n",
       "      <td>4015</td>\n",
       "      <td>19</td>\n",
       "      <td>2</td>\n",
       "      <td>organization</td>\n",
       "    </tr>\n",
       "    <tr>\n",
       "      <th>66</th>\n",
       "      <td>UNICEF</td>\n",
       "      <td>2606</td>\n",
       "      <td>19</td>\n",
       "      <td>2</td>\n",
       "      <td>organization</td>\n",
       "    </tr>\n",
       "    <tr>\n",
       "      <th>67</th>\n",
       "      <td>antonioguterres</td>\n",
       "      <td>2535</td>\n",
       "      <td>19</td>\n",
       "      <td>2</td>\n",
       "      <td>un segretary</td>\n",
       "    </tr>\n",
       "    <tr>\n",
       "      <th>68</th>\n",
       "      <td>UN_Women</td>\n",
       "      <td>1369</td>\n",
       "      <td>19</td>\n",
       "      <td>2</td>\n",
       "      <td>organization</td>\n",
       "    </tr>\n",
       "    <tr>\n",
       "      <th>69</th>\n",
       "      <td>WorldBank</td>\n",
       "      <td>699</td>\n",
       "      <td>19</td>\n",
       "      <td>2</td>\n",
       "      <td>organization</td>\n",
       "    </tr>\n",
       "  </tbody>\n",
       "</table>\n",
       "</div>"
      ],
      "text/plain": [
       "               name  degree  community  subcommunity   description\n",
       "10              CNN   48193          1             2          news\n",
       "11          nytimes   31924          1             2          news\n",
       "12              NPR   20376          1             2          news\n",
       "13   washingtonpost   19579          1             2          news\n",
       "14              ABC   19097          1             2          news\n",
       "65               UN    4015         19             2  organization\n",
       "66           UNICEF    2606         19             2  organization\n",
       "67  antonioguterres    2535         19             2  un segretary\n",
       "68         UN_Women    1369         19             2  organization\n",
       "69        WorldBank     699         19             2  organization"
      ]
     },
     "execution_count": 101,
     "metadata": {},
     "output_type": "execute_result"
    }
   ],
   "source": [
    "df = pd.read_csv(\"C:/Users/gianl/Desktop/Gi/Supsi/BachelorProject/csv/subcommunities_w_desc.csv\", lineterminator=\"\\n\", low_memory=False)\n",
    "df[df[\"subcommunity\"]==2]"
   ]
  },
  {
   "cell_type": "code",
   "execution_count": null,
   "metadata": {},
   "outputs": [],
   "source": []
  }
 ],
 "metadata": {
  "kernelspec": {
   "display_name": "Python 3 (ipykernel)",
   "language": "python",
   "name": "python3"
  },
  "language_info": {
   "codemirror_mode": {
    "name": "ipython",
    "version": 3
   },
   "file_extension": ".py",
   "mimetype": "text/x-python",
   "name": "python",
   "nbconvert_exporter": "python",
   "pygments_lexer": "ipython3",
   "version": "3.8.11"
  }
 },
 "nbformat": 4,
 "nbformat_minor": 4
}
