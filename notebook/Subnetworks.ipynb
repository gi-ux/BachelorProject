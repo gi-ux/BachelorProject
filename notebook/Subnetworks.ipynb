{
 "cells": [
  {
   "cell_type": "code",
   "execution_count": 2,
   "metadata": {},
   "outputs": [
    {
     "data": {
      "application/javascript": [
       "IPython.notebook.set_autosave_interval(3600000)"
      ]
     },
     "metadata": {},
     "output_type": "display_data"
    },
    {
     "name": "stdout",
     "output_type": "stream",
     "text": [
      "Autosaving every 3600 seconds\n"
     ]
    }
   ],
   "source": [
    "import pandas as pd\n",
    "import numpy as np\n",
    "import plotly.express as px\n",
    "import matplotlib.pyplot as plt\n",
    "from time import strptime\n",
    "import datetime\n",
    "from datetime import datetime\n",
    "import warnings\n",
    "import time\n",
    "import csv\n",
    "import glob\n",
    "import logging\n",
    "import importlib\n",
    "import json\n",
    "from tabulate import tabulate\n",
    "import networkx as nx\n",
    "import seaborn as sns\n",
    "import re\n",
    "from operator import itemgetter\n",
    "import matplotlib.cm as mcm\n",
    "import community\n",
    "from community import community_louvain as cm\n",
    "import leidenalg as la\n",
    "import igraph as ig\n",
    "from cdlib import algorithms\n",
    "warnings.filterwarnings('ignore')\n",
    "path = \"C:/Users/Gianluca/Desktop/Supsi/Git/BachelorProject/network/\"\n",
    "%autosave 3600"
   ]
  },
  {
   "cell_type": "markdown",
   "metadata": {},
   "source": [
    "# Indice\n",
    "\n",
    "- [Functions](#func)\n",
    "\n",
    "- [Network Community 1](#comm_1)\n",
    "\n",
    "- [Network Community 2](#comm_2)\n",
    "\n",
    "- [Network Community 5](#comm_5)\n",
    "\n",
    "- [Network Community 19](#comm_19)\n"
   ]
  },
  {
   "cell_type": "markdown",
   "metadata": {},
   "source": [
    "### Functions\n",
    "<a id =\"func\"/>"
   ]
  },
  {
   "cell_type": "code",
   "execution_count": 25,
   "metadata": {},
   "outputs": [],
   "source": [
    "def clean_data_format(df: pd.DataFrame, broken_col='name', fix_encoding=False):\n",
    "    col = df.columns[-1]\n",
    "\n",
    "    def clean(target):\n",
    "        return str(target).replace(\"\\r\", \"\")\n",
    "\n",
    "    if \"\\r\" in col:\n",
    "        clean_col = clean(col)\n",
    "        df = df.rename(columns={col: clean_col})\n",
    "        if df[clean_col].dtype.name == 'object':\n",
    "            df[clean_col] = df[clean_col].apply(clean)\n",
    "    if fix_encoding:\n",
    "        df[broken_col] = df[broken_col].apply(util.fix_encoding)\n",
    "    return df"
   ]
  },
  {
   "cell_type": "code",
   "execution_count": 15,
   "metadata": {},
   "outputs": [],
   "source": [
    "def network_general(df, col_1=\"name\", col_2=\"rt_name\"):\n",
    "    retweets_graph = nx.from_pandas_edgelist(df, col_1 ,col_2 , create_using=nx.DiGraph())\n",
    "    info = nx.info(retweets_graph)\n",
    "    \n",
    "    degree_dict = dict(retweets_graph.degree(retweets_graph.nodes()))\n",
    "    sorted_degree = sorted(degree_dict.items(), key=itemgetter(1), reverse=True)\n",
    "    \n",
    "    in_degree_dict = dict(retweets_graph.in_degree(retweets_graph.nodes()))\n",
    "    sorted_in_degree = sorted(in_degree_dict.items(), key=itemgetter(1), reverse=True)\n",
    "    \n",
    "    out_degree_dict = dict(retweets_graph.out_degree(retweets_graph.nodes()))\n",
    "    sorted_out_degree = sorted(out_degree_dict.items(), key=itemgetter(1), reverse=True)\n",
    "    \n",
    "    return {\"info\": info, \"degree\": sorted_degree, \"in_degree\": sorted_in_degree,  \n",
    "            \"out_degree\": sorted_out_degree}"
   ]
  },
  {
   "cell_type": "code",
   "execution_count": 16,
   "metadata": {},
   "outputs": [],
   "source": [
    "def network_louvain(df, col_1=\"name\", col_2=\"rt_name\"):\n",
    "    retweets_graph_und = nx.from_pandas_edgelist(df, col_1, col_2)\n",
    "    info = nx.info(retweets_graph_und)\n",
    "    \n",
    "    best_part = cm.best_partition(retweets_graph_und, random_state=42)\n",
    "    \n",
    "    return {\"info\": info, \"best_part\": best_part}"
   ]
  },
  {
   "cell_type": "code",
   "execution_count": 14,
   "metadata": {},
   "outputs": [],
   "source": [
    "# df_1 = pd.read_csv(path + \"_1.csv\", lineterminator=\"\\n\", low_memory=False)\n",
    "# df_1 = clean_data_format(df_1)\n",
    "# df_2 = pd.read_csv(path + \"_2.csv\", lineterminator=\"\\n\", low_memory=False)\n",
    "# df_2 = clean_data_format(df_2)\n",
    "# df_5 = pd.read_csv(path + \"_5.csv\", lineterminator=\"\\n\", low_memory=False)\n",
    "# df_5 = clean_data_format(df_5)\n",
    "# df_19 = pd.read_csv(path + \"_19.csv\", lineterminator=\"\\n\", low_memory=False)\n",
    "# df_19 = clean_data_format(df_19)"
   ]
  },
  {
   "cell_type": "code",
   "execution_count": 5,
   "metadata": {},
   "outputs": [],
   "source": [
    "# n = 0\n",
    "# value = [\"1\", \"2\", \"5\", \"19\"]\n",
    "# dfs = [df_1, df_2, df_5, df_19]\n",
    "# for i in range(len(value)):\n",
    "#     nt = pd.DataFrame()\n",
    "#     print(f\"Process {value[i]}\")\n",
    "#     for chunk in pd.read_csv(path + \"user_rtuser.csv\", lineterminator=\"\\n\", \n",
    "#                              low_memory=False, chunksize=int(1e6)):\n",
    "#         chunk = clean_data_format(chunk, \"rt_name\")\n",
    "#         nt = nt.append(chunk[chunk[\"name\"].isin(dfs[i][\"name\"]) | chunk[\"rt_name\"].isin(dfs[i][\"name\"])])\n",
    "#     nt = nt.reset_index(drop=True)\n",
    "#     nt.to_csv(path + f\"nt_{value[i]}.csv\", line_terminator='\\n', encoding='utf-8', index=False)"
   ]
  },
  {
   "cell_type": "markdown",
   "metadata": {},
   "source": [
    "### Network Community 1\n",
    "<a id=\"comm_1\"/>\n",
    "<p>\n",
    "\n",
    "    Community Americana con tendenza politica / giornalistica\n",
    "    - contiene 4 Good Dozen (DrDenaGrayson, ashishkjha, edyong209, HelenBranswell)\n",
    "    - contiene utenti che retwettano i Good Dozen\n",
    "\n",
    "</p>"
   ]
  },
  {
   "cell_type": "code",
   "execution_count": null,
   "metadata": {},
   "outputs": [],
   "source": [
    "nt_1 = pd.read_csv(path + \"nt_1.csv\", low_memory=False, lineterminator='\\n')"
   ]
  },
  {
   "cell_type": "markdown",
   "metadata": {},
   "source": [
    "#### Info"
   ]
  },
  {
   "cell_type": "code",
   "execution_count": null,
   "metadata": {},
   "outputs": [],
   "source": []
  },
  {
   "cell_type": "markdown",
   "metadata": {},
   "source": [
    "#### Louvain"
   ]
  },
  {
   "cell_type": "code",
   "execution_count": null,
   "metadata": {},
   "outputs": [],
   "source": []
  },
  {
   "cell_type": "markdown",
   "metadata": {},
   "source": [
    "#### Communities"
   ]
  },
  {
   "cell_type": "code",
   "execution_count": null,
   "metadata": {},
   "outputs": [],
   "source": []
  },
  {
   "cell_type": "markdown",
   "metadata": {},
   "source": [
    "### Network Community 2"
   ]
  },
  {
   "cell_type": "code",
   "execution_count": 17,
   "metadata": {},
   "outputs": [],
   "source": [
    "nt_2 = pd.read_csv(path + \"nt_2.csv\", low_memory=False, lineterminator='\\n')\n",
    "out_2 = network_general(nt_2)\n",
    "out_2_louvain = network_louvain(nt_2)"
   ]
  },
  {
   "cell_type": "markdown",
   "metadata": {},
   "source": [
    "#### Info"
   ]
  },
  {
   "cell_type": "code",
   "execution_count": 53,
   "metadata": {},
   "outputs": [
    {
     "name": "stdout",
     "output_type": "stream",
     "text": [
      "Name: \n",
      "Type: DiGraph\n",
      "Number of nodes: 307720\n",
      "Number of edges: 698176\n",
      "Average in degree:   2.2689\n",
      "Average out degree:   2.2689\n"
     ]
    }
   ],
   "source": [
    "print(out_2['info'])"
   ]
  },
  {
   "cell_type": "markdown",
   "metadata": {},
   "source": [
    "#### Louvain"
   ]
  },
  {
   "cell_type": "code",
   "execution_count": 50,
   "metadata": {},
   "outputs": [
    {
     "name": "stdout",
     "output_type": "stream",
     "text": [
      "Name: \n",
      "Type: Graph\n",
      "Number of nodes: 307720\n",
      "Number of edges: 697677\n",
      "Average degree:   4.5345\n"
     ]
    }
   ],
   "source": [
    "print(out_2_louvain[\"info\"])"
   ]
  },
  {
   "cell_type": "markdown",
   "metadata": {},
   "source": [
    "#### Communities"
   ]
  },
  {
   "cell_type": "code",
   "execution_count": 61,
   "metadata": {},
   "outputs": [
    {
     "data": {
      "image/png": "[encoded data removed]",
      "text/plain": [
       "<Figure size 1008x576 with 1 Axes>"
      ]
     },
     "metadata": {
      "needs_background": "light"
     },
     "output_type": "display_data"
    }
   ],
   "source": [
    "communities = []\n",
    "for i in out_2_louvain[\"best_part\"]:\n",
    "    communities.append(out_2_louvain[\"best_part\"].get(i))\n",
    "val = pd.Series(communities).value_counts().sort_values(ascending=False)\n",
    "fig = plt.figure(figsize=(14, 8))\n",
    "ax = val[:30].plot(kind='barh', color='plum', fig=(14,14)) #orange #lightseagreen\n",
    "ax.set_title('Number of nodes per community (top 30)', fontsize=15)\n",
    "ax.invert_yaxis()\n",
    "plt.show()"
   ]
  },
  {
   "cell_type": "markdown",
   "metadata": {},
   "source": [
    "### Network Community 5"
   ]
  },
  {
   "cell_type": "code",
   "execution_count": null,
   "metadata": {},
   "outputs": [],
   "source": [
    "nt_5 = pd.read_csv(path + \"nt_5.csv\", low_memory=False, lineterminator='\\n')"
   ]
  },
  {
   "cell_type": "markdown",
   "metadata": {},
   "source": [
    "#### Info"
   ]
  },
  {
   "cell_type": "code",
   "execution_count": null,
   "metadata": {},
   "outputs": [],
   "source": []
  },
  {
   "cell_type": "markdown",
   "metadata": {},
   "source": [
    "#### Louvain"
   ]
  },
  {
   "cell_type": "code",
   "execution_count": null,
   "metadata": {},
   "outputs": [],
   "source": []
  },
  {
   "cell_type": "markdown",
   "metadata": {},
   "source": [
    "#### Communities"
   ]
  },
  {
   "cell_type": "code",
   "execution_count": null,
   "metadata": {},
   "outputs": [],
   "source": []
  },
  {
   "cell_type": "markdown",
   "metadata": {},
   "source": [
    "### Network Community 19"
   ]
  },
  {
   "cell_type": "code",
   "execution_count": 54,
   "metadata": {},
   "outputs": [],
   "source": [
    "nt_19 = pd.read_csv(path + \"nt_19.csv\", low_memory=False, lineterminator='\\n')\n",
    "out_19 = network_general(nt_19)\n",
    "out_19_louvain = network_louvain(nt_19)"
   ]
  },
  {
   "cell_type": "markdown",
   "metadata": {},
   "source": [
    "#### Info"
   ]
  },
  {
   "cell_type": "code",
   "execution_count": 56,
   "metadata": {},
   "outputs": [
    {
     "name": "stdout",
     "output_type": "stream",
     "text": [
      "Name: \n",
      "Type: DiGraph\n",
      "Number of nodes: 75977\n",
      "Number of edges: 102045\n",
      "Average in degree:   1.3431\n",
      "Average out degree:   1.3431\n"
     ]
    }
   ],
   "source": [
    "print(out_19[\"info\"])"
   ]
  },
  {
   "cell_type": "markdown",
   "metadata": {},
   "source": [
    "#### Louvain"
   ]
  },
  {
   "cell_type": "code",
   "execution_count": 57,
   "metadata": {},
   "outputs": [
    {
     "name": "stdout",
     "output_type": "stream",
     "text": [
      "Community with users\n",
      "IAmTonyaNash\n",
      "0\n",
      "CDCgov\n",
      "1\n",
      "JamieNeill12\n",
      "1\n",
      "Kennybestnz\n",
      "2\n",
      "WHO\n",
      "3\n"
     ]
    }
   ],
   "source": [
    "print(\"Community with users\")\n",
    "z = 0\n",
    "for i in out_19_louvain[\"best_part\"]:\n",
    "    if(z == 5):\n",
    "        break\n",
    "    z = z + 1\n",
    "    print(i)\n",
    "    print(out_19_louvain[\"best_part\"].get(i))"
   ]
  },
  {
   "cell_type": "markdown",
   "metadata": {},
   "source": [
    "#### Communities"
   ]
  },
  {
   "cell_type": "code",
   "execution_count": 60,
   "metadata": {},
   "outputs": [
    {
     "data": {
      "image/png": "[encoded data removed]",
      "text/plain": [
       "<Figure size 1008x576 with 1 Axes>"
      ]
     },
     "metadata": {
      "needs_background": "light"
     },
     "output_type": "display_data"
    }
   ],
   "source": [
    "communities = []\n",
    "for i in out_19_louvain[\"best_part\"]:\n",
    "    communities.append(out_19_louvain[\"best_part\"].get(i))\n",
    "val = pd.Series(communities).value_counts().sort_values(ascending=False)\n",
    "fig = plt.figure(figsize=(14, 8))\n",
    "ax = val[:30].plot(kind='barh', color='plum', fig=(14,14)) #orange #lightseagreen\n",
    "ax.set_title('Number of nodes per community (top 30)', fontsize=15)\n",
    "ax.invert_yaxis()\n",
    "plt.show()"
   ]
  }
 ],
 "metadata": {
  "kernelspec": {
   "display_name": "Python 3",
   "language": "python",
   "name": "python3"
  },
  "language_info": {
   "codemirror_mode": {
    "name": "ipython",
    "version": 3
   },
   "file_extension": ".py",
   "mimetype": "text/x-python",
   "name": "python",
   "nbconvert_exporter": "python",
   "pygments_lexer": "ipython3",
   "version": "3.8.5"
  }
 },
 "nbformat": 4,
 "nbformat_minor": 4
}
