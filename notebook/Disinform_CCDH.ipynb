{
 "cells": [
  {
   "cell_type": "markdown",
   "metadata": {},
   "source": [
    "## Import"
   ]
  },
  {
   "cell_type": "code",
   "execution_count": 1,
   "metadata": {},
   "outputs": [
    {
     "data": {
      "application/javascript": [
       "IPython.notebook.set_autosave_interval(3600000)"
      ]
     },
     "metadata": {},
     "output_type": "display_data"
    },
    {
     "name": "stdout",
     "output_type": "stream",
     "text": [
      "Autosaving every 3600 seconds\n"
     ]
    }
   ],
   "source": [
    "import pandas as pd\n",
    "# from collections import Counter\n",
    "import numpy as np\n",
    "# import matplotlib.pyplot as plt\n",
    "# from matplotlib.pyplot import figure\n",
    "from time import strptime\n",
    "import datetime\n",
    "from datetime import datetime\n",
    "# import plotly.express as px\n",
    "# import matplotlib.mlab as mlab\n",
    "# from statistics import mean\n",
    "# import pylab\n",
    "import math\n",
    "import warnings\n",
    "warnings.filterwarnings('ignore')\n",
    "import time\n",
    "import csv\n",
    "import glob\n",
    "import logging\n",
    "import importlib\n",
    "import tweets_utils\n",
    "import json\n",
    "%autosave 3600"
   ]
  },
  {
   "cell_type": "markdown",
   "metadata": {},
   "source": [
    "## Indice\n",
    "- [Profiles](#profiles)\n",
    "- [CCDH and tweets process](#ccdh)"
   ]
  },
  {
   "cell_type": "markdown",
   "metadata": {},
   "source": [
    "## Profiles\n",
    "<a id=\"profiles\"/>"
   ]
  },
  {
   "cell_type": "code",
   "execution_count": 2,
   "metadata": {},
   "outputs": [],
   "source": [
    "# from platform import python_version\n",
    "# print(python_version())"
   ]
  },
  {
   "cell_type": "code",
   "execution_count": 3,
   "metadata": {},
   "outputs": [
    {
     "data": {
      "text/plain": [
       "['F:/COVID-19-Tweets\\\\2020-01\\\\users.csv',\n",
       " 'F:/COVID-19-Tweets\\\\2020-02\\\\users.csv',\n",
       " 'F:/COVID-19-Tweets\\\\2020-03\\\\users.csv',\n",
       " 'F:/COVID-19-Tweets\\\\2020-04\\\\users.csv',\n",
       " 'F:/COVID-19-Tweets\\\\2020-05\\\\users.csv']"
      ]
     },
     "execution_count": 3,
     "metadata": {},
     "output_type": "execute_result"
    }
   ],
   "source": [
    "files = glob.glob(\"F:/COVID-19-Tweets/*/users.csv\")\n",
    "files"
   ]
  },
  {
   "cell_type": "code",
   "execution_count": 4,
   "metadata": {
    "scrolled": false
   },
   "outputs": [],
   "source": [
    "for chunk in pd.read_csv(files[0], chunksize=10, lineterminator = '\\n'):\n",
    "    break\n",
    "# chunk.head()"
   ]
  },
  {
   "cell_type": "code",
   "execution_count": 5,
   "metadata": {},
   "outputs": [],
   "source": [
    "chunksize = int(1e6)\n",
    "flag = False\n",
    "profile_n = 0\n",
    "i = 0\n",
    "profile_id = []\n",
    "profile_name = []\n",
    "# profile_loc = []\n",
    "# profile_verified = []\n",
    "# profile_creation = []\n",
    "# default_profile_image = []\n",
    "# statuses_count = []\n",
    "\n",
    "users = []\n",
    "\n",
    "# workers = 2\n",
    "cols = [u'id', u'screen_name', u'location', u'created_at', u'verified', u'statuses_count', u'default_profile_image'] \n",
    "cont = 1"
   ]
  },
  {
   "cell_type": "code",
   "execution_count": 6,
   "metadata": {},
   "outputs": [
    {
     "name": "stdout",
     "output_type": "stream",
     "text": [
      "Reading file: F:/COVID-19-Tweets\\2020-01\\users.csv\n",
      "Processing chunk 1\n",
      "Processing chunk 2\n",
      "Mese numero 1\n",
      "Reading file: F:/COVID-19-Tweets\\2020-02\\users.csv\n",
      "Processing chunk 1\n",
      "Processing chunk 2\n",
      "Processing chunk 3\n",
      "Processing chunk 4\n",
      "Processing chunk 5\n",
      "Mese numero 2\n",
      "Reading file: F:/COVID-19-Tweets\\2020-03\\users.csv\n",
      "Processing chunk 1\n",
      "Processing chunk 2\n",
      "Processing chunk 3\n",
      "Processing chunk 4\n",
      "Processing chunk 5\n",
      "Processing chunk 6\n",
      "Mese numero 3\n",
      "Reading file: F:/COVID-19-Tweets\\2020-04\\users.csv\n",
      "Processing chunk 1\n",
      "Processing chunk 2\n",
      "Processing chunk 3\n",
      "Processing chunk 4\n",
      "Processing chunk 5\n",
      "Processing chunk 6\n",
      "Mese numero 4\n",
      "Reading file: F:/COVID-19-Tweets\\2020-05\\users.csv\n",
      "Processing chunk 1\n",
      "Processing chunk 2\n",
      "Processing chunk 3\n",
      "Processing chunk 4\n",
      "Processing chunk 5\n",
      "Processing chunk 6\n",
      "Processing chunk 7\n",
      "Processing chunk 8\n",
      "Processing chunk 9\n",
      "Mese numero 5\n",
      "Time:  175.24603620000002\n"
     ]
    }
   ],
   "source": [
    "result = []\n",
    "importlib.reload(tweets_utils)\n",
    "start_time = time.perf_counter()\n",
    "j = 0\n",
    "for filename in files:\n",
    "    print(f\"Reading file: {filename}\")\n",
    "    result.extend(tweets_utils.process_all_data(filename, cols, flag, None))\n",
    "    lista = result[j]\n",
    "    j = j + 1\n",
    "    print(f\"Mese numero {j}\")\n",
    "    for i in range(len(lista)):\n",
    "        profile_name.extend(lista[i][\"users\"])\n",
    "        profile_id.extend(lista[i][\"ids\"])\n",
    "stop_time = time.perf_counter()\n",
    "print(\"Time: \",stop_time-start_time)"
   ]
  },
  {
   "cell_type": "code",
   "execution_count": 7,
   "metadata": {},
   "outputs": [],
   "source": [
    "del result\n",
    "del lista\n",
    "del chunk\n",
    "profile_name = pd.Series(profile_name)"
   ]
  },
  {
   "cell_type": "markdown",
   "metadata": {},
   "source": [
    "## CCDH Research\n",
    "<a id=\"ccdh\"/>"
   ]
  },
  {
   "cell_type": "code",
   "execution_count": 5,
   "metadata": {},
   "outputs": [
    {
     "data": {
      "text/html": [
       "<div>\n",
       "<style scoped>\n",
       "    .dataframe tbody tr th:only-of-type {\n",
       "        vertical-align: middle;\n",
       "    }\n",
       "\n",
       "    .dataframe tbody tr th {\n",
       "        vertical-align: top;\n",
       "    }\n",
       "\n",
       "    .dataframe thead th {\n",
       "        text-align: right;\n",
       "    }\n",
       "</style>\n",
       "<table border=\"1\" class=\"dataframe\">\n",
       "  <thead>\n",
       "    <tr style=\"text-align: right;\">\n",
       "      <th></th>\n",
       "      <th>screen_name</th>\n",
       "      <th>status</th>\n",
       "    </tr>\n",
       "  </thead>\n",
       "  <tbody>\n",
       "    <tr>\n",
       "      <th>0</th>\n",
       "      <td>mercola</td>\n",
       "      <td>active</td>\n",
       "    </tr>\n",
       "    <tr>\n",
       "      <th>1</th>\n",
       "      <td>RobertKennedyJr</td>\n",
       "      <td>active</td>\n",
       "    </tr>\n",
       "    <tr>\n",
       "      <th>2</th>\n",
       "      <td>TyCharleneB</td>\n",
       "      <td>removed</td>\n",
       "    </tr>\n",
       "    <tr>\n",
       "      <th>3</th>\n",
       "      <td>BusyDrT</td>\n",
       "      <td>suspended</td>\n",
       "    </tr>\n",
       "    <tr>\n",
       "      <th>4</th>\n",
       "      <td>IslamRizza</td>\n",
       "      <td>removed</td>\n",
       "    </tr>\n",
       "    <tr>\n",
       "      <th>5</th>\n",
       "      <td>DrButtar</td>\n",
       "      <td>active</td>\n",
       "    </tr>\n",
       "    <tr>\n",
       "      <th>6</th>\n",
       "      <td>unhealthytruth</td>\n",
       "      <td>active</td>\n",
       "    </tr>\n",
       "    <tr>\n",
       "      <th>7</th>\n",
       "      <td>sayerjigmi</td>\n",
       "      <td>active</td>\n",
       "    </tr>\n",
       "    <tr>\n",
       "      <th>8</th>\n",
       "      <td>KellyBroganMD</td>\n",
       "      <td>active</td>\n",
       "    </tr>\n",
       "    <tr>\n",
       "      <th>9</th>\n",
       "      <td>DrChrisNorthrup</td>\n",
       "      <td>active</td>\n",
       "    </tr>\n",
       "    <tr>\n",
       "      <th>10</th>\n",
       "      <td>DrBenTapper1</td>\n",
       "      <td>suspended</td>\n",
       "    </tr>\n",
       "    <tr>\n",
       "      <th>11</th>\n",
       "      <td>kevdjenkins1</td>\n",
       "      <td>active</td>\n",
       "    </tr>\n",
       "  </tbody>\n",
       "</table>\n",
       "</div>"
      ],
      "text/plain": [
       "        screen_name     status\n",
       "0           mercola     active\n",
       "1   RobertKennedyJr     active\n",
       "2       TyCharleneB    removed\n",
       "3           BusyDrT  suspended\n",
       "4        IslamRizza    removed\n",
       "5          DrButtar     active\n",
       "6    unhealthytruth     active\n",
       "7        sayerjigmi     active\n",
       "8     KellyBroganMD     active\n",
       "9   DrChrisNorthrup     active\n",
       "10     DrBenTapper1  suspended\n",
       "11     kevdjenkins1     active"
      ]
     },
     "execution_count": 5,
     "metadata": {},
     "output_type": "execute_result"
    }
   ],
   "source": [
    "disinform = pd.read_csv(\"C:/Users/Gianluca/Desktop/Supsi/Git/BachelorProject/csv/disinformation_users.csv\")\n",
    "disinform"
   ]
  },
  {
   "cell_type": "code",
   "execution_count": 13,
   "metadata": {},
   "outputs": [
    {
     "name": "stdout",
     "output_type": "stream",
     "text": [
      "mercola\n",
      "RobertKennedyJr\n",
      "TyCharleneB\n",
      "BusyDrT\n",
      "IslamRizza\n",
      "DrButtar\n",
      "unhealthytruth\n",
      "sayerjigmi\n",
      "KellyBroganMD\n",
      "DrChrisNorthrup\n",
      "DrBenTapper1\n",
      "kevdjenkins1\n",
      "['mercola', 'RobertKennedyJr', 'BusyDrT', 'DrButtar', 'unhealthytruth', 'DrChrisNorthrup', 'DrBenTapper1', 'kevdjenkins1']\n",
      "['active', 'active', 'suspended', 'active', 'active', 'active', 'suspended', 'active']\n"
     ]
    }
   ],
   "source": [
    "names = []\n",
    "status = []\n",
    "for i in range(len(disinform[\"screen_name\"])):\n",
    "    print(disinform[\"screen_name\"][i])\n",
    "    if(disinform[\"screen_name\"][i] in profile_name.values):\n",
    "        names.append(disinform[\"screen_name\"][i])\n",
    "        status.append(disinform[\"status\"][i])\n",
    "print(names)\n",
    "print(status)"
   ]
  },
  {
   "cell_type": "code",
   "execution_count": 14,
   "metadata": {},
   "outputs": [],
   "source": [
    "with open(\"C:/Users/Gianluca/Desktop/Supsi/Git/BachelorProject/csv/users_ccdh.csv\", 'w', newline='') as file:\n",
    "    writer = csv.writer(file)\n",
    "    writer.writerow([\"screen_name\",\"status\"])\n",
    "    for i in range(len(names)):\n",
    "        writer.writerow([names[i], status[i]])"
   ]
  },
  {
   "cell_type": "code",
   "execution_count": 6,
   "metadata": {},
   "outputs": [
    {
     "data": {
      "text/html": [
       "<div>\n",
       "<style scoped>\n",
       "    .dataframe tbody tr th:only-of-type {\n",
       "        vertical-align: middle;\n",
       "    }\n",
       "\n",
       "    .dataframe tbody tr th {\n",
       "        vertical-align: top;\n",
       "    }\n",
       "\n",
       "    .dataframe thead th {\n",
       "        text-align: right;\n",
       "    }\n",
       "</style>\n",
       "<table border=\"1\" class=\"dataframe\">\n",
       "  <thead>\n",
       "    <tr style=\"text-align: right;\">\n",
       "      <th></th>\n",
       "      <th>screen_name</th>\n",
       "      <th>status</th>\n",
       "    </tr>\n",
       "  </thead>\n",
       "  <tbody>\n",
       "    <tr>\n",
       "      <th>0</th>\n",
       "      <td>mercola</td>\n",
       "      <td>active</td>\n",
       "    </tr>\n",
       "    <tr>\n",
       "      <th>1</th>\n",
       "      <td>RobertKennedyJr</td>\n",
       "      <td>active</td>\n",
       "    </tr>\n",
       "    <tr>\n",
       "      <th>2</th>\n",
       "      <td>BusyDrT</td>\n",
       "      <td>suspended</td>\n",
       "    </tr>\n",
       "    <tr>\n",
       "      <th>3</th>\n",
       "      <td>DrButtar</td>\n",
       "      <td>active</td>\n",
       "    </tr>\n",
       "    <tr>\n",
       "      <th>4</th>\n",
       "      <td>unhealthytruth</td>\n",
       "      <td>active</td>\n",
       "    </tr>\n",
       "    <tr>\n",
       "      <th>5</th>\n",
       "      <td>DrChrisNorthrup</td>\n",
       "      <td>active</td>\n",
       "    </tr>\n",
       "    <tr>\n",
       "      <th>6</th>\n",
       "      <td>DrBenTapper1</td>\n",
       "      <td>suspended</td>\n",
       "    </tr>\n",
       "    <tr>\n",
       "      <th>7</th>\n",
       "      <td>kevdjenkins1</td>\n",
       "      <td>active</td>\n",
       "    </tr>\n",
       "  </tbody>\n",
       "</table>\n",
       "</div>"
      ],
      "text/plain": [
       "       screen_name     status\n",
       "0          mercola     active\n",
       "1  RobertKennedyJr     active\n",
       "2          BusyDrT  suspended\n",
       "3         DrButtar     active\n",
       "4   unhealthytruth     active\n",
       "5  DrChrisNorthrup     active\n",
       "6     DrBenTapper1  suspended\n",
       "7     kevdjenkins1     active"
      ]
     },
     "execution_count": 6,
     "metadata": {},
     "output_type": "execute_result"
    }
   ],
   "source": [
    "users_link = glob.glob(\"C:/Users/Gianluca/Desktop/Supsi/Git/BachelorProject/csv/users_ccdh.csv\")\n",
    "users_disinform = pd.read_csv(users_link[0])\n",
    "users_disinform"
   ]
  },
  {
   "cell_type": "code",
   "execution_count": 7,
   "metadata": {},
   "outputs": [
    {
     "data": {
      "text/plain": [
       "['F:/COVID-19-Tweets\\\\2020-01\\\\tweets.csv',\n",
       " 'F:/COVID-19-Tweets\\\\2020-02\\\\tweets.csv',\n",
       " 'F:/COVID-19-Tweets\\\\2020-03\\\\tweets.csv',\n",
       " 'F:/COVID-19-Tweets\\\\2020-04\\\\tweets.csv',\n",
       " 'F:/COVID-19-Tweets\\\\2020-05\\\\tweets.csv']"
      ]
     },
     "execution_count": 7,
     "metadata": {},
     "output_type": "execute_result"
    }
   ],
   "source": [
    "files_tweets = glob.glob(\"F:/COVID-19-Tweets/*/tweets.csv\")\n",
    "files_tweets"
   ]
  },
  {
   "cell_type": "code",
   "execution_count": 8,
   "metadata": {
    "scrolled": true
   },
   "outputs": [],
   "source": [
    "for chunk in pd.read_csv(files_tweets[0], chunksize=1000, lineterminator = '\\n'):\n",
    "    break\n",
    "# chunk.info()"
   ]
  },
  {
   "cell_type": "code",
   "execution_count": 48,
   "metadata": {},
   "outputs": [],
   "source": [
    "def found(name, list_name=users_disinform[\"screen_name\"]):\n",
    "    for i in list_name:\n",
    "        if(name == i):\n",
    "            return True\n",
    "    return False"
   ]
  },
  {
   "cell_type": "code",
   "execution_count": 49,
   "metadata": {},
   "outputs": [],
   "source": [
    "retweet_name = []\n",
    "retweet_id = []\n",
    "retweeted_name = []\n",
    "retweeted_id = []\n",
    "rt_link = []\n",
    "\n",
    "tweet_name = []\n",
    "tweet_id = []\n",
    "\n",
    "reply_id = []\n",
    "reply_name = []\n",
    "replied_id = []\n",
    "replied_name = []\n",
    "\n",
    "link = []\n",
    "result = []\n",
    "\n",
    "total_len = 0\n",
    "original_len = 0\n",
    "retweet_len = 0\n",
    "reply_len = 0\n",
    "\n",
    "\n",
    "cols_tweets = [u'user_screen_name',u'user_id', u'created_at', \n",
    "               u'urls', u\"rt_created_at\", u\"rt_user_id\", \n",
    "               u\"rt_user_screen_name\", u'in_reply_to_user_id', \n",
    "               u'in_reply_to_screen_name', u'in_reply_to_status_id']\n",
    "\n",
    "files_tweets = glob.glob(\"F:/COVID-19-Tweets/*/tweets.csv\")"
   ]
  },
  {
   "cell_type": "code",
   "execution_count": 50,
   "metadata": {
    "scrolled": true
   },
   "outputs": [
    {
     "name": "stdout",
     "output_type": "stream",
     "text": [
      "Reading file: F:/COVID-19-Tweets\\2020-01\\tweets.csv\n",
      "Processing chunk 1\n",
      "Processing chunk 2\n",
      "Processing chunk 3\n",
      "Processing chunk 4\n",
      "Processing chunk 5\n",
      "Mese numero 1\n",
      "Time:  66.55623350000042\n"
     ]
    }
   ],
   "source": [
    "importlib.reload(tweets_utils)\n",
    "start_time = time.perf_counter()\n",
    "j = 0\n",
    "for filename in files_tweets:\n",
    "    print(f\"Reading file: {filename}\")\n",
    "    result.extend(tweets_utils.process_all_data(filename, cols_tweets, True, users_disinform[\"screen_name\"]))\n",
    "    lista = result[j]\n",
    "    j = j + 1\n",
    "    print(f\"Mese numero {j}\")\n",
    "#     x = 0\n",
    "#     y = 0\n",
    "    for i in range(len(lista)):\n",
    "        #user who retweet         \n",
    "        retweet_name.extend(lista[i][\"retweet_users\"])\n",
    "        retweet_id.extend(lista[i][\"retweet_ids\"])\n",
    "        #user retweeted\n",
    "        retweeted_name.extend(lista[i][\"retweeted_users\"])\n",
    "        retweeted_id.extend(lista[i][\"retweeted_ids\"])\n",
    "        rt_link.extend(lista[i][\"rt_link\"])\n",
    "        #user who reply\n",
    "        reply_id.extend(lista[i][\"reply_ids\"])\n",
    "        reply_name.extend(lista[i][\"reply_users\"])\n",
    "        #use who get reply\n",
    "        replied_id.extend(lista[i][\"replied_ids\"])\n",
    "        replied_name.extend(lista[i][\"replied_users\"])\n",
    "        #original tweet\n",
    "        tweet_name.extend(lista[i][\"users\"])\n",
    "        tweet_id.extend(lista[i][\"ids\"])\n",
    "        link.extend(lista[i][\"link\"])\n",
    "        #len\n",
    "        total_len = total_len + lista[i][\"total_len\"]\n",
    "        original_len = original_len + lista[i][\"original_len\"]\n",
    "        retweet_len = retweet_len + lista[i][\"retweet_len\"]\n",
    "        reply_len = reply_len + lista[i][\"reply_len\"]\n",
    "#         data.append(lista[i][\"data\"])\n",
    "#         print(i)\n",
    "#         print(\"-\")\n",
    "#         if(i == 0):\n",
    "#             x = 0\n",
    "#         else:\n",
    "#             x = y\n",
    "#         y = x + len(lista[i][\"users\"])\n",
    "#         for q in range(x,y):\n",
    "#             if(found(lista[i][\"users\"][q])):          \n",
    "    break\n",
    "stop_time = time.perf_counter()\n",
    "print(\"Time: \",stop_time-start_time)"
   ]
  },
  {
   "cell_type": "code",
   "execution_count": 51,
   "metadata": {},
   "outputs": [],
   "source": [
    "del result\n",
    "del lista"
   ]
  },
  {
   "cell_type": "code",
   "execution_count": 52,
   "metadata": {},
   "outputs": [],
   "source": [
    "def stats(total_len, original_len, retweet_len, reply_len):\n",
    "    print(f'Number of total tweets: {total_len}')\n",
    "    print(f'Number of original tweets: {original_len}')\n",
    "    print(f'Number of retweet: {retweet_len}')\n",
    "    print(f'Number of reply: {reply_len}')\n",
    "\n",
    "    perc_original = np.around(original_len*100/total_len,2)\n",
    "    perc_retweet = np.around(retweet_len*100/total_len,2)\n",
    "    perc_reply = np.around(reply_len*100/total_len,2)\n",
    "    print(f'Number of original_tweets: {perc_original}% of total tweets')\n",
    "    print(f'Number of retweets: {perc_retweet}% of total tweets')\n",
    "    print(f'Number of replies: {perc_reply}% of total tweets')\n",
    "\n",
    "    print('Check sum == len(tweets): ',original_len + retweet_len + reply_len == total_len)"
   ]
  },
  {
   "cell_type": "code",
   "execution_count": 53,
   "metadata": {},
   "outputs": [
    {
     "name": "stdout",
     "output_type": "stream",
     "text": [
      "Number of total tweets: 4082898\n",
      "Number of original tweets: 704706\n",
      "Number of retweet: 3175177\n",
      "Number of reply: 203015\n",
      "Number of original_tweets: 17.26% of total tweets\n",
      "Number of retweets: 77.77% of total tweets\n",
      "Number of replies: 4.97% of total tweets\n",
      "Check sum == len(tweets):  True\n"
     ]
    }
   ],
   "source": [
    "stats(total_len, original_len, retweet_len, reply_len)"
   ]
  },
  {
   "cell_type": "code",
   "execution_count": 54,
   "metadata": {},
   "outputs": [],
   "source": [
    "disinform_rt_name = []\n",
    "disinform_rt_id = []\n",
    "rt_name = []\n",
    "rt_id = []\n",
    "link_rt = []\n",
    "\n",
    "disinform_replied_name = []\n",
    "disinform_replied_id = []\n",
    "rp_name = []\n",
    "rp_id = []\n",
    "\n",
    "disinform_name = []\n",
    "disinform_id = []\n",
    "link_original = []\n",
    "\n",
    "d_total_len = 0\n",
    "d_original_len = 0\n",
    "d_retweet_len = 0\n",
    "d_reply_len = 0"
   ]
  },
  {
   "cell_type": "code",
   "execution_count": 55,
   "metadata": {
    "scrolled": false
   },
   "outputs": [
    {
     "name": "stdout",
     "output_type": "stream",
     "text": [
      "process retweet\n",
      "process reply\n",
      "process original\n"
     ]
    }
   ],
   "source": [
    "print(\"process retweet\")\n",
    "#retweet\n",
    "for i in range(len(retweeted_name)):\n",
    "    if(found(retweeted_name[i])):\n",
    "        d_total_len = d_total_len + 1\n",
    "        d_retweet_len = d_retweet_len + 1\n",
    "        \n",
    "        disinform_rt_name.append(retweeted_name[i])\n",
    "        disinform_rt_id.append(retweeted_id[i])\n",
    "        \n",
    "        rt_name.append(retweet_name[i])\n",
    "        rt_id.append(retweet_id[i])\n",
    "        \n",
    "        link_tweet.append(rt_link[i])\n",
    "    \n",
    "del retweet_name\n",
    "del retweet_id\n",
    "del retweeted_name\n",
    "del retweeted_id\n",
    "del rt_link\n",
    "\n",
    "print(\"process reply\")\n",
    "#reply\n",
    "for i in range(len(replied_name)):\n",
    "    if(found(replied_name[i])):\n",
    "        d_total_len = d_total_len + 1\n",
    "        d_reply_len = d_reply_len + 1\n",
    "        \n",
    "        disinform_replied_name.append(replied_name[i])\n",
    "        disinform_replied_id.append(replied_id[i])\n",
    "        \n",
    "        rp_name.append(reply_name[i])\n",
    "        rp_id.append(reply_id[i])\n",
    "        \n",
    "del reply_id\n",
    "del reply_name\n",
    "del replied_id\n",
    "del replied_name\n",
    "\n",
    "print(\"process original\")\n",
    "#original\n",
    "for i in range(len(tweet_name)):\n",
    "    if(found(tweet_name[i])):\n",
    "        d_total_len = d_total_len + 1\n",
    "        d_original_len = d_original_len + 1\n",
    "        \n",
    "        disinform_name.append(tweet_name[i])\n",
    "        disinform_id.append(tweet_id[i])\n",
    "        \n",
    "        link.append(link[i])\n",
    "\n",
    "del link\n",
    "del tweet_name\n",
    "del tweet_id"
   ]
  },
  {
   "cell_type": "code",
   "execution_count": 56,
   "metadata": {},
   "outputs": [
    {
     "name": "stdout",
     "output_type": "stream",
     "text": [
      "Number of total tweets: 263\n",
      "Number of original tweets: 13\n",
      "Number of retweet: 240\n",
      "Number of reply: 10\n",
      "Number of original_tweets: 4.94% of total tweets\n",
      "Number of retweets: 91.25% of total tweets\n",
      "Number of replies: 3.8% of total tweets\n",
      "Check sum == len(tweets):  True\n"
     ]
    }
   ],
   "source": [
    "stats(d_total_len, d_original_len, d_retweet_len, d_reply_len)"
   ]
  },
  {
   "cell_type": "code",
   "execution_count": 102,
   "metadata": {
    "scrolled": true
   },
   "outputs": [],
   "source": [
    "urls = [tweets_utils.url_decompress(v) if v != \"[]\" else \"0\" for v in link]\n",
    "date = [tweets_utils.process_datetime(v) for v in data]"
   ]
  },
  {
   "cell_type": "code",
   "execution_count": null,
   "metadata": {},
   "outputs": [],
   "source": []
  }
 ],
 "metadata": {
  "kernelspec": {
   "display_name": "Python 3",
   "language": "python",
   "name": "python3"
  },
  "language_info": {
   "codemirror_mode": {
    "name": "ipython",
    "version": 3
   },
   "file_extension": ".py",
   "mimetype": "text/x-python",
   "name": "python",
   "nbconvert_exporter": "python",
   "pygments_lexer": "ipython3",
   "version": "3.8.5"
  }
 },
 "nbformat": 4,
 "nbformat_minor": 4
}
