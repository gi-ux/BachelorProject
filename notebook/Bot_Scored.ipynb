{
 "cells": [
  {
   "cell_type": "code",
   "execution_count": 1,
   "metadata": {},
   "outputs": [
    {
     "data": {
      "application/javascript": [
       "IPython.notebook.set_autosave_interval(3600000)"
      ]
     },
     "metadata": {},
     "output_type": "display_data"
    },
    {
     "name": "stdout",
     "output_type": "stream",
     "text": [
      "Autosaving every 3600 seconds\n"
     ]
    }
   ],
   "source": [
    "import pandas as pd\n",
    "import numpy as np\n",
    "import warnings\n",
    "warnings.filterwarnings('ignore')\n",
    "import time\n",
    "from time import perf_counter\n",
    "import glob\n",
    "import json\n",
    "import matplotlib.pyplot as plt\n",
    "import plotly.express as px\n",
    "import tweets_utils\n",
    "import importlib\n",
    "from collections import Counter\n",
    "%autosave 3600"
   ]
  },
  {
   "cell_type": "markdown",
   "metadata": {},
   "source": [
    "# Indice\n",
    "- [Bot - Conspiracy score - Community](#bcc)\n",
    "- [Collecting data](#collecting)\n",
    "- [Data studies](#dates)\n",
    "- [Hashtags](#hashtags)\n",
    "- [Process domain](#domain)"
   ]
  },
  {
   "cell_type": "markdown",
   "metadata": {},
   "source": [
    "### Bot - Conspiracy score - Community\n",
    "<a id=\"bcc\" />"
   ]
  },
  {
   "cell_type": "markdown",
   "metadata": {},
   "source": [
    "#### Bot - Community"
   ]
  },
  {
   "cell_type": "code",
   "execution_count": 41,
   "metadata": {},
   "outputs": [
    {
     "name": "stdout",
     "output_type": "stream",
     "text": [
      "Time:  24.89344869999968\n",
      "Time:  25.85161220000009\n"
     ]
    }
   ],
   "source": [
    "path_degrees = glob.glob(\"C:/Users/gianl/Desktop/Gi/Supsi/BachelorProject/large_files/rt_network/degree.json\")[0]\n",
    "path_louvain = glob.glob(\"C:/Users/gianl/Desktop/Gi/Supsi/BachelorProject/large_files/rt_network/*louvain*.json\")[0]\n",
    "start_time = time.perf_counter()\n",
    "file = open (path_degrees)\n",
    "degree = json.loads(file.read())\n",
    "file.close()\n",
    "stop_time = time.perf_counter()\n",
    "print(\"Time: \",stop_time-start_time)\n",
    "start_time = time.perf_counter()\n",
    "file = open (path_louvain)\n",
    "louvain = json.loads(file.read())\n",
    "file.close()\n",
    "stop_time = time.perf_counter()\n",
    "print(\"Time: \",stop_time-start_time)"
   ]
  },
  {
   "cell_type": "code",
   "execution_count": 45,
   "metadata": {},
   "outputs": [],
   "source": [
    "path_nt = glob.glob(\"C:/Users/gianl/Desktop/Gi/Supsi/BachelorProject/large_files/rt_network/\")[0]\n",
    "# df_degree.to_csv(path_nt + \"df_degree.csv\", line_terminator=\"\\n\", index=False, encoding=\"utf-8\")\n",
    "# df_louvain.to_csv(path_nt + \"df_louvian.csv\", line_terminator=\"\\n\", index=False, encoding=\"utf-8\")\n",
    "df_degree = pd.read_csv(path_nt + \"df_degree.csv\", lineterminator=\"\\n\", low_memory=False)\n",
    "df_louvian = pd.read_csv(path_nt + \"df_louvian.csv\", lineterminator=\"\\n\", low_memory=False)"
   ]
  },
  {
   "cell_type": "code",
   "execution_count": null,
   "metadata": {},
   "outputs": [],
   "source": []
  },
  {
   "cell_type": "markdown",
   "metadata": {},
   "source": [
    "#### Bot - Conspiracy score"
   ]
  },
  {
   "cell_type": "code",
   "execution_count": 2,
   "metadata": {},
   "outputs": [
    {
     "data": {
      "text/html": [
       "<div>\n",
       "<style scoped>\n",
       "    .dataframe tbody tr th:only-of-type {\n",
       "        vertical-align: middle;\n",
       "    }\n",
       "\n",
       "    .dataframe tbody tr th {\n",
       "        vertical-align: top;\n",
       "    }\n",
       "\n",
       "    .dataframe thead th {\n",
       "        text-align: right;\n",
       "    }\n",
       "</style>\n",
       "<table border=\"1\" class=\"dataframe\">\n",
       "  <thead>\n",
       "    <tr style=\"text-align: right;\">\n",
       "      <th></th>\n",
       "      <th>id</th>\n",
       "      <th>user_screen_name</th>\n",
       "    </tr>\n",
       "  </thead>\n",
       "  <tbody>\n",
       "    <tr>\n",
       "      <th>0</th>\n",
       "      <td>1252818873578975232</td>\n",
       "      <td>matomecorona</td>\n",
       "    </tr>\n",
       "    <tr>\n",
       "      <th>1</th>\n",
       "      <td>1239490346691760128</td>\n",
       "      <td>Host24Space</td>\n",
       "    </tr>\n",
       "    <tr>\n",
       "      <th>2</th>\n",
       "      <td>1238684966063501313</td>\n",
       "      <td>CoronaVirusNFO</td>\n",
       "    </tr>\n",
       "    <tr>\n",
       "      <th>3</th>\n",
       "      <td>1203462567861084160</td>\n",
       "      <td>naija_reports</td>\n",
       "    </tr>\n",
       "    <tr>\n",
       "      <th>4</th>\n",
       "      <td>1245483551749005312</td>\n",
       "      <td>FR24NewsFrance</td>\n",
       "    </tr>\n",
       "    <tr>\n",
       "      <th>...</th>\n",
       "      <td>...</td>\n",
       "      <td>...</td>\n",
       "    </tr>\n",
       "    <tr>\n",
       "      <th>3867</th>\n",
       "      <td>1102793344785178625</td>\n",
       "      <td>MightyMousebb</td>\n",
       "    </tr>\n",
       "    <tr>\n",
       "      <th>3868</th>\n",
       "      <td>142018519</td>\n",
       "      <td>alej1477</td>\n",
       "    </tr>\n",
       "    <tr>\n",
       "      <th>3869</th>\n",
       "      <td>196110680</td>\n",
       "      <td>phen0480</td>\n",
       "    </tr>\n",
       "    <tr>\n",
       "      <th>3870</th>\n",
       "      <td>1175694002080886785</td>\n",
       "      <td>RemusJLupin2017</td>\n",
       "    </tr>\n",
       "    <tr>\n",
       "      <th>3871</th>\n",
       "      <td>487035253</td>\n",
       "      <td>hartingtonb</td>\n",
       "    </tr>\n",
       "  </tbody>\n",
       "</table>\n",
       "<p>3872 rows × 2 columns</p>\n",
       "</div>"
      ],
      "text/plain": [
       "                       id user_screen_name\n",
       "0     1252818873578975232     matomecorona\n",
       "1     1239490346691760128      Host24Space\n",
       "2     1238684966063501313   CoronaVirusNFO\n",
       "3     1203462567861084160    naija_reports\n",
       "4     1245483551749005312   FR24NewsFrance\n",
       "...                   ...              ...\n",
       "3867  1102793344785178625    MightyMousebb\n",
       "3868            142018519         alej1477\n",
       "3869            196110680         phen0480\n",
       "3870  1175694002080886785  RemusJLupin2017\n",
       "3871            487035253      hartingtonb\n",
       "\n",
       "[3872 rows x 2 columns]"
      ]
     },
     "execution_count": 2,
     "metadata": {},
     "output_type": "execute_result"
    }
   ],
   "source": [
    "path = glob.glob(\"C:/Users/gianl/Desktop/Gi/Supsi/BachelorProject/csv/\")[0]\n",
    "bots = pd.read_csv(path + \"bot_score.csv\")\n",
    "bots = bots.rename(columns={'user': 'user_screen_name'})\n",
    "bots"
   ]
  },
  {
   "cell_type": "code",
   "execution_count": null,
   "metadata": {},
   "outputs": [],
   "source": [
    "path = glob.glob(\"C:/Users/gianl/Desktop/Gi/Supsi/BachelorProject/large_files/\")[0]\n",
    "credibility_url = pd.read_csv(path + \"sum_of_urls_df_all_months_with_score.csv\")\n",
    "bots_w_credibility = bots[[\"user_screen_name\"]].merge(\n",
    "    credibility_url[[\"number_of_urls\", \"conspiracy_score\", \"user_screen_name\"]], on=\"user_screen_name\", how=\"left\")"
   ]
  },
  {
   "cell_type": "code",
   "execution_count": null,
   "metadata": {},
   "outputs": [],
   "source": []
  },
  {
   "cell_type": "code",
   "execution_count": 3,
   "metadata": {},
   "outputs": [],
   "source": [
    "path = glob.glob(\"C:/Users/gianl/Desktop/Gi/Supsi/BachelorProject/large_files/\")[0]\n",
    "credibility_url = pd.read_csv(path + \"sum_of_urls_df_all_months_with_score.csv\")\n",
    "bots_w_credibility = bots[[\"user_screen_name\"]].merge(\n",
    "    credibility_url[[\"number_of_urls\", \"conspiracy_score\", \"user_screen_name\"]], on=\"user_screen_name\", how=\"left\")"
   ]
  },
  {
   "cell_type": "code",
   "execution_count": 36,
   "metadata": {},
   "outputs": [
    {
     "data": {
      "text/html": [
       "<div>\n",
       "<style scoped>\n",
       "    .dataframe tbody tr th:only-of-type {\n",
       "        vertical-align: middle;\n",
       "    }\n",
       "\n",
       "    .dataframe tbody tr th {\n",
       "        vertical-align: top;\n",
       "    }\n",
       "\n",
       "    .dataframe thead th {\n",
       "        text-align: right;\n",
       "    }\n",
       "</style>\n",
       "<table border=\"1\" class=\"dataframe\">\n",
       "  <thead>\n",
       "    <tr style=\"text-align: right;\">\n",
       "      <th></th>\n",
       "      <th>user_screen_name</th>\n",
       "      <th>number_of_urls</th>\n",
       "      <th>conspiracy_score</th>\n",
       "    </tr>\n",
       "  </thead>\n",
       "  <tbody>\n",
       "    <tr>\n",
       "      <th>0</th>\n",
       "      <td>naija_reports</td>\n",
       "      <td>3249.0</td>\n",
       "      <td>0.50</td>\n",
       "    </tr>\n",
       "    <tr>\n",
       "      <th>1</th>\n",
       "      <td>RadioQuo</td>\n",
       "      <td>600.0</td>\n",
       "      <td>0.00</td>\n",
       "    </tr>\n",
       "    <tr>\n",
       "      <th>2</th>\n",
       "      <td>lehimesa</td>\n",
       "      <td>60.0</td>\n",
       "      <td>0.06</td>\n",
       "    </tr>\n",
       "    <tr>\n",
       "      <th>3</th>\n",
       "      <td>JavelinaBlue</td>\n",
       "      <td>35.0</td>\n",
       "      <td>0.08</td>\n",
       "    </tr>\n",
       "    <tr>\n",
       "      <th>4</th>\n",
       "      <td>uhiiman</td>\n",
       "      <td>585.0</td>\n",
       "      <td>0.00</td>\n",
       "    </tr>\n",
       "    <tr>\n",
       "      <th>...</th>\n",
       "      <td>...</td>\n",
       "      <td>...</td>\n",
       "      <td>...</td>\n",
       "    </tr>\n",
       "    <tr>\n",
       "      <th>1438</th>\n",
       "      <td>BelaBenanua</td>\n",
       "      <td>41.0</td>\n",
       "      <td>0.00</td>\n",
       "    </tr>\n",
       "    <tr>\n",
       "      <th>1439</th>\n",
       "      <td>u3Y4BDE</td>\n",
       "      <td>39.0</td>\n",
       "      <td>0.00</td>\n",
       "    </tr>\n",
       "    <tr>\n",
       "      <th>1440</th>\n",
       "      <td>cmerfy</td>\n",
       "      <td>42.0</td>\n",
       "      <td>0.07</td>\n",
       "    </tr>\n",
       "    <tr>\n",
       "      <th>1441</th>\n",
       "      <td>teachertwit2</td>\n",
       "      <td>24.0</td>\n",
       "      <td>0.20</td>\n",
       "    </tr>\n",
       "    <tr>\n",
       "      <th>1442</th>\n",
       "      <td>Nofearnofavors4</td>\n",
       "      <td>39.0</td>\n",
       "      <td>0.00</td>\n",
       "    </tr>\n",
       "  </tbody>\n",
       "</table>\n",
       "<p>1443 rows × 3 columns</p>\n",
       "</div>"
      ],
      "text/plain": [
       "     user_screen_name  number_of_urls  conspiracy_score\n",
       "0       naija_reports          3249.0              0.50\n",
       "1            RadioQuo           600.0              0.00\n",
       "2            lehimesa            60.0              0.06\n",
       "3        JavelinaBlue            35.0              0.08\n",
       "4             uhiiman           585.0              0.00\n",
       "...               ...             ...               ...\n",
       "1438      BelaBenanua            41.0              0.00\n",
       "1439          u3Y4BDE            39.0              0.00\n",
       "1440           cmerfy            42.0              0.07\n",
       "1441     teachertwit2            24.0              0.20\n",
       "1442  Nofearnofavors4            39.0              0.00\n",
       "\n",
       "[1443 rows x 3 columns]"
      ]
     },
     "execution_count": 36,
     "metadata": {},
     "output_type": "execute_result"
    }
   ],
   "source": [
    "bots_w_credibility = bots_w_credibility[bots_w_credibility[\"conspiracy_score\"].notna()]\n",
    "bots_w_credibility = bots_w_credibility[bots_w_credibility[\"number_of_urls\"]>=10] \n",
    "bots_w_credibility = bots_w_credibility.reset_index(drop=True)\n",
    "bots_w_credibility"
   ]
  },
  {
   "cell_type": "code",
   "execution_count": 40,
   "metadata": {},
   "outputs": [
    {
     "data": {
      "image/png": "[encoded data removed]",
      "text/plain": [
       "<Figure size 432x288 with 1 Axes>"
      ]
     },
     "metadata": {
      "needs_background": "light"
     },
     "output_type": "display_data"
    }
   ],
   "source": [
    "# # Plotting\n",
    "plt.hist(bots_w_credibility[\"conspiracy_score\"], 50)\n",
    "plt.title(\"Distribution of conspiracy score\")\n",
    "plt.yscale('log', nonposy='clip')\n",
    "plt.show()"
   ]
  },
  {
   "cell_type": "markdown",
   "metadata": {},
   "source": [
    "### Collecting data\n",
    "<a id=\"collecting\"/>"
   ]
  },
  {
   "cell_type": "code",
   "execution_count": 14,
   "metadata": {},
   "outputs": [],
   "source": [
    "cols_tweets = [\"id\", \"created_at\", \"user_id\", \"user_screen_name\", \"text\", \"in_reply_to_status_id\", \n",
    "               \"in_reply_to_screen_name\", \"rt_created_at\", \"rt_in_reply_to_status_id\", \"rt_user_screen_name\", \n",
    "               \"quoted_status_id\", \"quoted_status_text\", \"quoted_status_created_at\", \"quoted_user_id\", \"hashtags\",\n",
    "               \"urls\", \"media\"]\n",
    "df = pd.DataFrame()\n",
    "result = []\n",
    "# cols_tweets = [u'user_screen_name',u'user_id', u'created_at', \n",
    "#                u'urls', u\"rt_created_at\", u\"rt_user_id\", \n",
    "#                u\"rt_user_screen_name\", u'in_reply_to_user_id', \n",
    "#                u'in_reply_to_screen_name', u'in_reply_to_status_id']\n",
    "\n",
    "files_tweets = glob.glob(\"F:/Supsi/COVID-19-Tweets/*/tweets.csv\")"
   ]
  },
  {
   "cell_type": "code",
   "execution_count": 15,
   "metadata": {},
   "outputs": [
    {
     "data": {
      "text/plain": [
       "'F:/Supsi/COVID-19-Tweets\\\\2020-05\\\\tweets.csv'"
      ]
     },
     "execution_count": 15,
     "metadata": {},
     "output_type": "execute_result"
    }
   ],
   "source": [
    "filename = files_tweets[4]\n",
    "filename"
   ]
  },
  {
   "cell_type": "code",
   "execution_count": 12,
   "metadata": {},
   "outputs": [],
   "source": [
    "# for chunk in pd.read_csv(files_tweets[0], chunksize = 10, lineterminator=\"\\n\", low_memory=False):\n",
    "#     break\n",
    "# chunk.info()\n"
   ]
  },
  {
   "cell_type": "code",
   "execution_count": 16,
   "metadata": {
    "scrolled": false
   },
   "outputs": [
    {
     "name": "stdout",
     "output_type": "stream",
     "text": [
      "Reading file: F:/Supsi/COVID-19-Tweets\\2020-05\\tweets.csv\n",
      "Processing chunk 1\n",
      "Processing chunk 2\n",
      "Processing chunk 3\n",
      "Processing chunk 4\n",
      "Processing chunk 5\n",
      "Processing chunk 6\n",
      "Processing chunk 7\n",
      "Processing chunk 8\n",
      "Processing chunk 9\n",
      "Processing chunk 10\n",
      "Processing chunk 11\n",
      "Processing chunk 12\n",
      "Processing chunk 13\n",
      "Processing chunk 14\n",
      "Processing chunk 15\n",
      "Processing chunk 16\n",
      "Processing chunk 17\n",
      "Processing chunk 18\n",
      "Processing chunk 19\n",
      "Processing chunk 20\n",
      "Processing chunk 21\n",
      "Processing chunk 22\n",
      "Processing chunk 23\n",
      "Processing chunk 24\n",
      "Mese numero 1\n",
      "278602\n",
      "Time:  901.7043087\n"
     ]
    }
   ],
   "source": [
    "importlib.reload(tweets_utils)\n",
    "start_time = time.perf_counter()\n",
    "j = 0\n",
    "# for filename in files_tweets:\n",
    "print(f\"Reading file: {filename}\")\n",
    "result.extend(tweets_utils.process_all_data(filename, cols_tweets, True, bots[\"user_screen_name\"]))\n",
    "lista = result[j]\n",
    "j = j + 1\n",
    "print(f\"Mese numero {j}\")\n",
    "for i in range(len(lista)):\n",
    "    df = df.append(lista[i][\"df\"])\n",
    "print(len(df))\n",
    "stop_time = time.perf_counter()\n",
    "print(\"Time: \",stop_time-start_time)"
   ]
  },
  {
   "cell_type": "code",
   "execution_count": 24,
   "metadata": {},
   "outputs": [],
   "source": [
    "df.to_csv(path[0] + \"bots_tweets.csv\", line_terminator=\"\\n\", index=False, encoding=\"utf-8\")"
   ]
  },
  {
   "cell_type": "markdown",
   "metadata": {},
   "source": [
    "### Data studies\n",
    "<a id=\"dates\"/>"
   ]
  },
  {
   "cell_type": "code",
   "execution_count": 15,
   "metadata": {},
   "outputs": [],
   "source": [
    "# fig = px.histogram(df, x=\"date\")\n",
    "# fig.update_layout(\n",
    "#     title_text='Daily tweets', # title of plot\n",
    "#     xaxis_title_text='Tweet', # xaxis label\n",
    "#     yaxis_title_text='Count', # yaxis label\n",
    "#     bargap=0.1, # gap between bars of adjacent location coordinates\n",
    "#     bargroupgap=0.1 # gap between bars of the same location coordinates\n",
    "# )\n",
    "# fig.show()\n"
   ]
  },
  {
   "cell_type": "markdown",
   "metadata": {},
   "source": [
    "### Hashtags\n",
    "<a id=\"hashtags\"/>"
   ]
  },
  {
   "cell_type": "code",
   "execution_count": 30,
   "metadata": {},
   "outputs": [],
   "source": [
    "hashtag = tweets_utils.hashtag_process_list(list(df[\"hashtags\"]))"
   ]
  },
  {
   "cell_type": "code",
   "execution_count": 31,
   "metadata": {},
   "outputs": [
    {
     "data": {
      "image/png": "[encoded data removed]",
      "text/plain": [
       "<Figure size 1008x576 with 1 Axes>"
      ]
     },
     "metadata": {
      "needs_background": "light"
     },
     "output_type": "display_data"
    }
   ],
   "source": [
    "val = pd.Series(hashtag).value_counts().sort_values(ascending=False)\n",
    "fig = plt.figure(figsize=(14, 8))\n",
    "ax = val[:30].plot(kind='barh', color='orange', fig=(14,14)) #orange #lightseagreen\n",
    "ax.set_title('Number of HASHTAGS per bot (top 30)', fontsize=15)\n",
    "ax.invert_yaxis()\n",
    "plt.show()"
   ]
  },
  {
   "cell_type": "markdown",
   "metadata": {},
   "source": [
    "### Process domain\n",
    "<a id=\"domain\"/>"
   ]
  },
  {
   "cell_type": "code",
   "execution_count": 33,
   "metadata": {},
   "outputs": [],
   "source": [
    "urls = [tweets_utils.url_decompress(v) if v != \"[]\" else \"0\" for v in df[\"urls\"]]\n",
    "urls = list(filter(lambda num: num != \"0\", urls))\n",
    "urls = tweets_utils.remove_www(urls)\n",
    "# urls"
   ]
  },
  {
   "cell_type": "code",
   "execution_count": 34,
   "metadata": {
    "scrolled": false
   },
   "outputs": [
    {
     "data": {
      "image/png": "[encoded data removed]",
      "text/plain": [
       "<Figure size 1008x576 with 1 Axes>"
      ]
     },
     "metadata": {
      "needs_background": "light"
     },
     "output_type": "display_data"
    }
   ],
   "source": [
    "val = pd.Series(urls).value_counts().sort_values(ascending=False)\n",
    "fig = plt.figure(figsize=(14, 8))\n",
    "ax = val[:30].plot(kind='barh', color='steelblue', fig=(14,14)) #orange #lightseagreen\n",
    "ax.set_title('Number of URLS per bot (top 30)', fontsize=15)\n",
    "ax.invert_yaxis()\n",
    "plt.show()"
   ]
  }
 ],
 "metadata": {
  "kernelspec": {
   "display_name": "Python 3 (ipykernel)",
   "language": "python",
   "name": "python3"
  },
  "language_info": {
   "codemirror_mode": {
    "name": "ipython",
    "version": 3
   },
   "file_extension": ".py",
   "mimetype": "text/x-python",
   "name": "python",
   "nbconvert_exporter": "python",
   "pygments_lexer": "ipython3",
   "version": "3.8.11"
  }
 },
 "nbformat": 4,
 "nbformat_minor": 4
}
