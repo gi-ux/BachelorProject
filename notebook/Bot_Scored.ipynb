{
 "cells": [
  {
   "cell_type": "code",
   "execution_count": 1,
   "metadata": {},
   "outputs": [
    {
     "data": {
      "application/javascript": [
       "IPython.notebook.set_autosave_interval(3600000)"
      ]
     },
     "metadata": {},
     "output_type": "display_data"
    },
    {
     "name": "stdout",
     "output_type": "stream",
     "text": [
      "Autosaving every 3600 seconds\n"
     ]
    }
   ],
   "source": [
    "import pandas as pd\n",
    "import numpy as np\n",
    "import warnings\n",
    "warnings.filterwarnings('ignore')\n",
    "import time\n",
    "from time import perf_counter\n",
    "import glob\n",
    "import json\n",
    "import matplotlib.pyplot as plt\n",
    "import plotly.express as px\n",
    "import tweets_utils\n",
    "import importlib\n",
    "from collections import Counter\n",
    "%autosave 3600"
   ]
  },
  {
   "cell_type": "markdown",
   "metadata": {},
   "source": [
    "# Indice\n",
    "- [Utils](#utils)\n",
    "- [Collecting data](#collecting)\n",
    "- [Stats](#stats)\n",
    "- [Process domain](#domain)\n",
    "- [Classify credibility](#credibility)"
   ]
  },
  {
   "cell_type": "markdown",
   "metadata": {},
   "source": [
    "### Utils\n",
    "<a id=\"utils\" />"
   ]
  },
  {
   "cell_type": "code",
   "execution_count": 2,
   "metadata": {},
   "outputs": [
    {
     "data": {
      "text/html": [
       "<div>\n",
       "<style scoped>\n",
       "    .dataframe tbody tr th:only-of-type {\n",
       "        vertical-align: middle;\n",
       "    }\n",
       "\n",
       "    .dataframe tbody tr th {\n",
       "        vertical-align: top;\n",
       "    }\n",
       "\n",
       "    .dataframe thead th {\n",
       "        text-align: right;\n",
       "    }\n",
       "</style>\n",
       "<table border=\"1\" class=\"dataframe\">\n",
       "  <thead>\n",
       "    <tr style=\"text-align: right;\">\n",
       "      <th></th>\n",
       "      <th>id</th>\n",
       "      <th>user</th>\n",
       "    </tr>\n",
       "  </thead>\n",
       "  <tbody>\n",
       "    <tr>\n",
       "      <th>0</th>\n",
       "      <td>1252818873578975232</td>\n",
       "      <td>matomecorona</td>\n",
       "    </tr>\n",
       "    <tr>\n",
       "      <th>1</th>\n",
       "      <td>1239490346691760128</td>\n",
       "      <td>Host24Space</td>\n",
       "    </tr>\n",
       "    <tr>\n",
       "      <th>2</th>\n",
       "      <td>1238684966063501313</td>\n",
       "      <td>CoronaVirusNFO</td>\n",
       "    </tr>\n",
       "    <tr>\n",
       "      <th>3</th>\n",
       "      <td>1203462567861084160</td>\n",
       "      <td>naija_reports</td>\n",
       "    </tr>\n",
       "    <tr>\n",
       "      <th>4</th>\n",
       "      <td>1245483551749005312</td>\n",
       "      <td>FR24NewsFrance</td>\n",
       "    </tr>\n",
       "    <tr>\n",
       "      <th>...</th>\n",
       "      <td>...</td>\n",
       "      <td>...</td>\n",
       "    </tr>\n",
       "    <tr>\n",
       "      <th>3146</th>\n",
       "      <td>2937491779</td>\n",
       "      <td>MARIASILVIAARM2</td>\n",
       "    </tr>\n",
       "    <tr>\n",
       "      <th>3147</th>\n",
       "      <td>2459302512</td>\n",
       "      <td>mickivoss</td>\n",
       "    </tr>\n",
       "    <tr>\n",
       "      <th>3148</th>\n",
       "      <td>1088122630471847937</td>\n",
       "      <td>Diana_Chumley</td>\n",
       "    </tr>\n",
       "    <tr>\n",
       "      <th>3149</th>\n",
       "      <td>1021753060585078789</td>\n",
       "      <td>hushnowlilbaby</td>\n",
       "    </tr>\n",
       "    <tr>\n",
       "      <th>3150</th>\n",
       "      <td>421229385</td>\n",
       "      <td>claudiapoindex2</td>\n",
       "    </tr>\n",
       "  </tbody>\n",
       "</table>\n",
       "<p>3151 rows × 2 columns</p>\n",
       "</div>"
      ],
      "text/plain": [
       "                       id             user\n",
       "0     1252818873578975232     matomecorona\n",
       "1     1239490346691760128      Host24Space\n",
       "2     1238684966063501313   CoronaVirusNFO\n",
       "3     1203462567861084160    naija_reports\n",
       "4     1245483551749005312   FR24NewsFrance\n",
       "...                   ...              ...\n",
       "3146           2937491779  MARIASILVIAARM2\n",
       "3147           2459302512        mickivoss\n",
       "3148  1088122630471847937    Diana_Chumley\n",
       "3149  1021753060585078789   hushnowlilbaby\n",
       "3150            421229385  claudiapoindex2\n",
       "\n",
       "[3151 rows x 2 columns]"
      ]
     },
     "execution_count": 2,
     "metadata": {},
     "output_type": "execute_result"
    }
   ],
   "source": [
    "path = \"C:/Users/Gianluca/Desktop/Supsi/Git/BachelorProject/csv/\"\n",
    "bots = pd.read_csv(path + \"bot_score.csv\")\n",
    "bots"
   ]
  },
  {
   "cell_type": "code",
   "execution_count": 3,
   "metadata": {},
   "outputs": [
    {
     "data": {
      "text/html": [
       "<div>\n",
       "<style scoped>\n",
       "    .dataframe tbody tr th:only-of-type {\n",
       "        vertical-align: middle;\n",
       "    }\n",
       "\n",
       "    .dataframe tbody tr th {\n",
       "        vertical-align: top;\n",
       "    }\n",
       "\n",
       "    .dataframe thead th {\n",
       "        text-align: right;\n",
       "    }\n",
       "</style>\n",
       "<table border=\"1\" class=\"dataframe\">\n",
       "  <thead>\n",
       "    <tr style=\"text-align: right;\">\n",
       "      <th></th>\n",
       "      <th>Domain</th>\n",
       "      <th>Class</th>\n",
       "    </tr>\n",
       "  </thead>\n",
       "  <tbody>\n",
       "    <tr>\n",
       "      <th>0</th>\n",
       "      <td>100percentfedup.com</td>\n",
       "      <td>low</td>\n",
       "    </tr>\n",
       "    <tr>\n",
       "      <th>1</th>\n",
       "      <td>100percentfedup.com</td>\n",
       "      <td>high</td>\n",
       "    </tr>\n",
       "    <tr>\n",
       "      <th>2</th>\n",
       "      <td>10news.one</td>\n",
       "      <td>low</td>\n",
       "    </tr>\n",
       "    <tr>\n",
       "      <th>3</th>\n",
       "      <td>12minutos.com</td>\n",
       "      <td>low</td>\n",
       "    </tr>\n",
       "    <tr>\n",
       "      <th>4</th>\n",
       "      <td>12news.com</td>\n",
       "      <td>high</td>\n",
       "    </tr>\n",
       "    <tr>\n",
       "      <th>...</th>\n",
       "      <td>...</td>\n",
       "      <td>...</td>\n",
       "    </tr>\n",
       "    <tr>\n",
       "      <th>820</th>\n",
       "      <td>childrenshealthdefense.org</td>\n",
       "      <td>low</td>\n",
       "    </tr>\n",
       "    <tr>\n",
       "      <th>821</th>\n",
       "      <td>AdvancedMedicineConference.com</td>\n",
       "      <td>low</td>\n",
       "    </tr>\n",
       "    <tr>\n",
       "      <th>822</th>\n",
       "      <td>aol.com</td>\n",
       "      <td>high</td>\n",
       "    </tr>\n",
       "    <tr>\n",
       "      <th>823</th>\n",
       "      <td>trendingpolitics.com</td>\n",
       "      <td>low</td>\n",
       "    </tr>\n",
       "    <tr>\n",
       "      <th>824</th>\n",
       "      <td>charityauctionstoday.com</td>\n",
       "      <td>low</td>\n",
       "    </tr>\n",
       "  </tbody>\n",
       "</table>\n",
       "<p>825 rows × 2 columns</p>\n",
       "</div>"
      ],
      "text/plain": [
       "                             Domain Class\n",
       "0               100percentfedup.com   low\n",
       "1               100percentfedup.com  high\n",
       "2                        10news.one   low\n",
       "3                     12minutos.com   low\n",
       "4                        12news.com  high\n",
       "..                              ...   ...\n",
       "820      childrenshealthdefense.org   low\n",
       "821  AdvancedMedicineConference.com   low\n",
       "822                         aol.com  high\n",
       "823            trendingpolitics.com   low\n",
       "824        charityauctionstoday.com   low\n",
       "\n",
       "[825 rows x 2 columns]"
      ]
     },
     "execution_count": 3,
     "metadata": {},
     "output_type": "execute_result"
    }
   ],
   "source": [
    "credibility_url = pd.read_csv(\"C:/Users/Gianluca/Desktop/Supsi/Git/BachelorProject/csv/domain_credibility.csv\")\n",
    "credibility_url"
   ]
  },
  {
   "cell_type": "markdown",
   "metadata": {},
   "source": [
    "### Collecting data\n",
    "<a id=\"collecting\"/>"
   ]
  },
  {
   "cell_type": "code",
   "execution_count": 11,
   "metadata": {},
   "outputs": [],
   "source": [
    "cols_tweets = [u'user_screen_name', u'created_at', u'lang',\n",
    "               u'rt_user_screen_name', u'rt_created_at', u'in_reply_to_status_id',\n",
    "               u'hashtags', u'urls', u'rt_lang']\n",
    "df_user = pd.DataFrame()\n",
    "\n",
    "# cols_tweets = [u'user_screen_name',u'user_id', u'created_at', \n",
    "#                u'urls', u\"rt_created_at\", u\"rt_user_id\", \n",
    "#                u\"rt_user_screen_name\", u'in_reply_to_user_id', \n",
    "#                u'in_reply_to_screen_name', u'in_reply_to_status_id']\n",
    "\n",
    "files_tweets = glob.glob(\"F:/COVID-19-Tweets/*/tweets.csv\")"
   ]
  },
  {
   "cell_type": "code",
   "execution_count": 12,
   "metadata": {
    "scrolled": false
   },
   "outputs": [
    {
     "name": "stdout",
     "output_type": "stream",
     "text": [
      "Reading file: F:/COVID-19-Tweets\\2020-01\\tweets.csv\n",
      "Processing chunk 1\n",
      "Processing chunk 2\n",
      "Processing chunk 3\n",
      "Processing chunk 4\n",
      "Processing chunk 5\n",
      "Mese numero 1\n",
      "Reading file: F:/COVID-19-Tweets\\2020-02\\tweets.csv\n",
      "Processing chunk 1\n",
      "Processing chunk 2\n",
      "Processing chunk 3\n",
      "Processing chunk 4\n",
      "Processing chunk 5\n",
      "Processing chunk 6\n",
      "Processing chunk 7\n",
      "Processing chunk 8\n",
      "Processing chunk 9\n",
      "Processing chunk 10\n",
      "Processing chunk 11\n",
      "Processing chunk 12\n",
      "Mese numero 2\n",
      "Reading file: F:/COVID-19-Tweets\\2020-03\\tweets.csv\n",
      "Processing chunk 1\n",
      "Processing chunk 2\n",
      "Processing chunk 3\n",
      "Processing chunk 4\n",
      "Processing chunk 5\n",
      "Processing chunk 6\n",
      "Processing chunk 7\n",
      "Processing chunk 8\n",
      "Processing chunk 9\n",
      "Processing chunk 10\n",
      "Processing chunk 11\n",
      "Processing chunk 12\n",
      "Processing chunk 13\n",
      "Processing chunk 14\n",
      "Processing chunk 15\n",
      "Mese numero 3\n",
      "Reading file: F:/COVID-19-Tweets\\2020-04\\tweets.csv\n",
      "Processing chunk 1\n",
      "Processing chunk 2\n",
      "Processing chunk 3\n",
      "Processing chunk 4\n",
      "Processing chunk 5\n",
      "Processing chunk 6\n",
      "Processing chunk 7\n",
      "Processing chunk 8\n",
      "Processing chunk 9\n",
      "Processing chunk 10\n",
      "Processing chunk 11\n",
      "Processing chunk 12\n",
      "Processing chunk 13\n",
      "Mese numero 4\n",
      "Reading file: F:/COVID-19-Tweets\\2020-05\\tweets.csv\n",
      "Processing chunk 1\n",
      "Processing chunk 2\n",
      "Processing chunk 3\n",
      "Processing chunk 4\n",
      "Processing chunk 5\n",
      "Processing chunk 6\n",
      "Processing chunk 7\n",
      "Processing chunk 8\n",
      "Processing chunk 9\n",
      "Processing chunk 10\n",
      "Processing chunk 11\n",
      "Processing chunk 12\n",
      "Processing chunk 13\n",
      "Processing chunk 14\n",
      "Processing chunk 15\n",
      "Processing chunk 16\n",
      "Processing chunk 17\n",
      "Processing chunk 18\n",
      "Processing chunk 19\n",
      "Processing chunk 20\n",
      "Processing chunk 21\n",
      "Processing chunk 22\n",
      "Processing chunk 23\n",
      "Processing chunk 24\n",
      "Mese numero 5\n",
      "Time:  2257.5363807999997\n"
     ]
    }
   ],
   "source": [
    "importlib.reload(tweets_utils)\n",
    "start_time = time.perf_counter()\n",
    "j = 0\n",
    "for filename in files_tweets:\n",
    "    print(f\"Reading file: {filename}\")\n",
    "    result.extend(tweets_utils.process_all_data(filename, cols_tweets, True, bots[\"user\"]))\n",
    "    lista = result[j]\n",
    "    j = j + 1\n",
    "    print(f\"Mese numero {j}\")\n",
    "    for i in range(len(lista)):\n",
    "        df_user = df_user.append(lista[i][\"df\"])\n",
    "        df_user = df_user.append(lista[i][\"df_rt\"])\n",
    "\n",
    "\n",
    "stop_time = time.perf_counter()\n",
    "print(\"Time: \",stop_time-start_time)"
   ]
  },
  {
   "cell_type": "code",
   "execution_count": 14,
   "metadata": {},
   "outputs": [
    {
     "data": {
      "text/html": [
       "<div>\n",
       "<style scoped>\n",
       "    .dataframe tbody tr th:only-of-type {\n",
       "        vertical-align: middle;\n",
       "    }\n",
       "\n",
       "    .dataframe tbody tr th {\n",
       "        vertical-align: top;\n",
       "    }\n",
       "\n",
       "    .dataframe thead th {\n",
       "        text-align: right;\n",
       "    }\n",
       "</style>\n",
       "<table border=\"1\" class=\"dataframe\">\n",
       "  <thead>\n",
       "    <tr style=\"text-align: right;\">\n",
       "      <th></th>\n",
       "      <th>created_at</th>\n",
       "      <th>user_screen_name</th>\n",
       "      <th>lang</th>\n",
       "      <th>in_reply_to_status_id</th>\n",
       "      <th>rt_created_at</th>\n",
       "      <th>rt_lang</th>\n",
       "      <th>rt_user_screen_name</th>\n",
       "      <th>hashtags</th>\n",
       "      <th>urls</th>\n",
       "    </tr>\n",
       "  </thead>\n",
       "  <tbody>\n",
       "    <tr>\n",
       "      <th>0</th>\n",
       "      <td>Tue Jan 21 22:56:08 +0000 2020</td>\n",
       "      <td>Norberta36</td>\n",
       "      <td>en</td>\n",
       "      <td>NaN</td>\n",
       "      <td>Tue Jan 21 18:15:11 +0000 2020</td>\n",
       "      <td>en</td>\n",
       "      <td>MatthewHilk</td>\n",
       "      <td>[]</td>\n",
       "      <td>[]</td>\n",
       "    </tr>\n",
       "    <tr>\n",
       "      <th>1</th>\n",
       "      <td>Tue Jan 21 23:24:17 +0000 2020</td>\n",
       "      <td>Pissed_Woman</td>\n",
       "      <td>en</td>\n",
       "      <td>NaN</td>\n",
       "      <td>Tue Jan 21 18:15:11 +0000 2020</td>\n",
       "      <td>en</td>\n",
       "      <td>MatthewHilk</td>\n",
       "      <td>[]</td>\n",
       "      <td>[]</td>\n",
       "    </tr>\n",
       "    <tr>\n",
       "      <th>2</th>\n",
       "      <td>Wed Jan 22 01:00:14 +0000 2020</td>\n",
       "      <td>FortuneMagazine</td>\n",
       "      <td>en</td>\n",
       "      <td>NaN</td>\n",
       "      <td>NaN</td>\n",
       "      <td>NaN</td>\n",
       "      <td>NaN</td>\n",
       "      <td>[]</td>\n",
       "      <td>[{'url': 'https://t.co/2FVgxuZqSw', 'expanded_...</td>\n",
       "    </tr>\n",
       "    <tr>\n",
       "      <th>3</th>\n",
       "      <td>Wed Jan 22 04:47:03 +0000 2020</td>\n",
       "      <td>VirginiaLoughn1</td>\n",
       "      <td>en</td>\n",
       "      <td>NaN</td>\n",
       "      <td>Wed Jan 22 02:39:28 +0000 2020</td>\n",
       "      <td>en</td>\n",
       "      <td>MichaelWRader</td>\n",
       "      <td>[{'text': 'coronavirus', 'indices': [64, 76]}]</td>\n",
       "      <td>[]</td>\n",
       "    </tr>\n",
       "    <tr>\n",
       "      <th>4</th>\n",
       "      <td>Wed Jan 22 04:46:13 +0000 2020</td>\n",
       "      <td>VirginiaLoughn1</td>\n",
       "      <td>en</td>\n",
       "      <td>NaN</td>\n",
       "      <td>Tue Jan 21 22:52:32 +0000 2020</td>\n",
       "      <td>en</td>\n",
       "      <td>EthanObama</td>\n",
       "      <td>[]</td>\n",
       "      <td>[]</td>\n",
       "    </tr>\n",
       "    <tr>\n",
       "      <th>...</th>\n",
       "      <td>...</td>\n",
       "      <td>...</td>\n",
       "      <td>...</td>\n",
       "      <td>...</td>\n",
       "      <td>...</td>\n",
       "      <td>...</td>\n",
       "      <td>...</td>\n",
       "      <td>...</td>\n",
       "      <td>...</td>\n",
       "    </tr>\n",
       "    <tr>\n",
       "      <th>1452601</th>\n",
       "      <td>Thu May 21 20:55:02 +0000 2020</td>\n",
       "      <td>Nohranran</td>\n",
       "      <td>ja</td>\n",
       "      <td>NaN</td>\n",
       "      <td>Thu May 21 20:50:01 +0000 2020</td>\n",
       "      <td>ja</td>\n",
       "      <td>ReutersJapan</td>\n",
       "      <td>[]</td>\n",
       "      <td>[{'url': 'https://t.co/maP4wEOHZ6', 'expanded_...</td>\n",
       "    </tr>\n",
       "    <tr>\n",
       "      <th>1452602</th>\n",
       "      <td>Sun May 17 20:08:36 +0000 2020</td>\n",
       "      <td>explicamelotu</td>\n",
       "      <td>es</td>\n",
       "      <td>NaN</td>\n",
       "      <td>Sun May 17 16:55:00 +0000 2020</td>\n",
       "      <td>es</td>\n",
       "      <td>eldiarioes</td>\n",
       "      <td>[]</td>\n",
       "      <td>[]</td>\n",
       "    </tr>\n",
       "    <tr>\n",
       "      <th>1452603</th>\n",
       "      <td>Fri May 29 03:24:24 +0000 2020</td>\n",
       "      <td>libertadsosnic</td>\n",
       "      <td>es</td>\n",
       "      <td>NaN</td>\n",
       "      <td>Thu May 28 18:55:23 +0000 2020</td>\n",
       "      <td>es</td>\n",
       "      <td>canal12nica</td>\n",
       "      <td>[{'text': 'UltimaHora', 'indices': [17, 28]}, ...</td>\n",
       "      <td>[]</td>\n",
       "    </tr>\n",
       "    <tr>\n",
       "      <th>1452604</th>\n",
       "      <td>Sat May 30 04:23:16 +0000 2020</td>\n",
       "      <td>farukgu14964428</td>\n",
       "      <td>tr</td>\n",
       "      <td>NaN</td>\n",
       "      <td>Fri May 29 20:59:24 +0000 2020</td>\n",
       "      <td>tr</td>\n",
       "      <td>drfahrettinkoca</td>\n",
       "      <td>[]</td>\n",
       "      <td>[]</td>\n",
       "    </tr>\n",
       "    <tr>\n",
       "      <th>1452605</th>\n",
       "      <td>Sat May 30 06:47:32 +0000 2020</td>\n",
       "      <td>verrianto_m</td>\n",
       "      <td>in</td>\n",
       "      <td>NaN</td>\n",
       "      <td>Sat May 30 06:39:32 +0000 2020</td>\n",
       "      <td>in</td>\n",
       "      <td>kompascom</td>\n",
       "      <td>[]</td>\n",
       "      <td>[]</td>\n",
       "    </tr>\n",
       "  </tbody>\n",
       "</table>\n",
       "<p>1452606 rows × 9 columns</p>\n",
       "</div>"
      ],
      "text/plain": [
       "                             created_at user_screen_name lang  \\\n",
       "0        Tue Jan 21 22:56:08 +0000 2020       Norberta36   en   \n",
       "1        Tue Jan 21 23:24:17 +0000 2020     Pissed_Woman   en   \n",
       "2        Wed Jan 22 01:00:14 +0000 2020  FortuneMagazine   en   \n",
       "3        Wed Jan 22 04:47:03 +0000 2020  VirginiaLoughn1   en   \n",
       "4        Wed Jan 22 04:46:13 +0000 2020  VirginiaLoughn1   en   \n",
       "...                                 ...              ...  ...   \n",
       "1452601  Thu May 21 20:55:02 +0000 2020        Nohranran   ja   \n",
       "1452602  Sun May 17 20:08:36 +0000 2020    explicamelotu   es   \n",
       "1452603  Fri May 29 03:24:24 +0000 2020   libertadsosnic   es   \n",
       "1452604  Sat May 30 04:23:16 +0000 2020  farukgu14964428   tr   \n",
       "1452605  Sat May 30 06:47:32 +0000 2020      verrianto_m   in   \n",
       "\n",
       "         in_reply_to_status_id                   rt_created_at rt_lang  \\\n",
       "0                          NaN  Tue Jan 21 18:15:11 +0000 2020      en   \n",
       "1                          NaN  Tue Jan 21 18:15:11 +0000 2020      en   \n",
       "2                          NaN                             NaN     NaN   \n",
       "3                          NaN  Wed Jan 22 02:39:28 +0000 2020      en   \n",
       "4                          NaN  Tue Jan 21 22:52:32 +0000 2020      en   \n",
       "...                        ...                             ...     ...   \n",
       "1452601                    NaN  Thu May 21 20:50:01 +0000 2020      ja   \n",
       "1452602                    NaN  Sun May 17 16:55:00 +0000 2020      es   \n",
       "1452603                    NaN  Thu May 28 18:55:23 +0000 2020      es   \n",
       "1452604                    NaN  Fri May 29 20:59:24 +0000 2020      tr   \n",
       "1452605                    NaN  Sat May 30 06:39:32 +0000 2020      in   \n",
       "\n",
       "        rt_user_screen_name  \\\n",
       "0               MatthewHilk   \n",
       "1               MatthewHilk   \n",
       "2                       NaN   \n",
       "3             MichaelWRader   \n",
       "4                EthanObama   \n",
       "...                     ...   \n",
       "1452601        ReutersJapan   \n",
       "1452602          eldiarioes   \n",
       "1452603         canal12nica   \n",
       "1452604     drfahrettinkoca   \n",
       "1452605           kompascom   \n",
       "\n",
       "                                                  hashtags  \\\n",
       "0                                                       []   \n",
       "1                                                       []   \n",
       "2                                                       []   \n",
       "3           [{'text': 'coronavirus', 'indices': [64, 76]}]   \n",
       "4                                                       []   \n",
       "...                                                    ...   \n",
       "1452601                                                 []   \n",
       "1452602                                                 []   \n",
       "1452603  [{'text': 'UltimaHora', 'indices': [17, 28]}, ...   \n",
       "1452604                                                 []   \n",
       "1452605                                                 []   \n",
       "\n",
       "                                                      urls  \n",
       "0                                                       []  \n",
       "1                                                       []  \n",
       "2        [{'url': 'https://t.co/2FVgxuZqSw', 'expanded_...  \n",
       "3                                                       []  \n",
       "4                                                       []  \n",
       "...                                                    ...  \n",
       "1452601  [{'url': 'https://t.co/maP4wEOHZ6', 'expanded_...  \n",
       "1452602                                                 []  \n",
       "1452603                                                 []  \n",
       "1452604                                                 []  \n",
       "1452605                                                 []  \n",
       "\n",
       "[1452606 rows x 9 columns]"
      ]
     },
     "execution_count": 14,
     "metadata": {},
     "output_type": "execute_result"
    }
   ],
   "source": [
    "df_user = df_user.reset_index(drop=True)\n",
    "df_user"
   ]
  },
  {
   "cell_type": "code",
   "execution_count": 17,
   "metadata": {},
   "outputs": [],
   "source": [
    "original = df_user[df_user['rt_created_at'].isna() & df_user['in_reply_to_status_id'].isna()]\n",
    "retweet = df_user[df_user['rt_created_at'].notna()]\n",
    "reply = df_user[df_user['in_reply_to_status_id'].notna()]"
   ]
  },
  {
   "cell_type": "code",
   "execution_count": 19,
   "metadata": {},
   "outputs": [],
   "source": [
    "d_total_len = len(df_user)\n",
    "d_original_len = len(original)\n",
    "d_retweet_len = len(retweet)\n",
    "d_reply_len = len(reply)"
   ]
  },
  {
   "cell_type": "code",
   "execution_count": 83,
   "metadata": {},
   "outputs": [],
   "source": [
    "date = []\n",
    "for i in data:\n",
    "    date.append(tweets_utils.process_datetime(i))"
   ]
  },
  {
   "cell_type": "code",
   "execution_count": 87,
   "metadata": {},
   "outputs": [],
   "source": [
    "to_pop = []\n",
    "for i in range(len(date)):\n",
    "    if(\"2018\" in date[i]):\n",
    "        print(i)\n",
    "        to_pop.append(i)\n",
    "to_pop\n",
    "for i in to_pop:\n",
    "    date.pop(i)\n"
   ]
  },
  {
   "cell_type": "code",
   "execution_count": 88,
   "metadata": {},
   "outputs": [],
   "source": [
    "df = pd.DataFrame(date, columns=['date'])\n",
    "days_count = df['date'].value_counts()"
   ]
  },
  {
   "cell_type": "code",
   "execution_count": 91,
   "metadata": {},
   "outputs": [],
   "source": [
    "fig = px.histogram(df, x=\"date\")\n",
    "fig.update_layout(\n",
    "    title_text='Daily tweets', # title of plot\n",
    "    xaxis_title_text='Tweet', # xaxis label\n",
    "    yaxis_title_text='Count', # yaxis label\n",
    "    bargap=0.1, # gap between bars of adjacent location coordinates\n",
    "    bargroupgap=0.1 # gap between bars of the same location coordinates\n",
    ")\n",
    "fig.show()\n"
   ]
  },
  {
   "cell_type": "code",
   "execution_count": 90,
   "metadata": {},
   "outputs": [
    {
     "data": {
      "text/plain": [
       "97361"
      ]
     },
     "execution_count": 90,
     "metadata": {},
     "output_type": "execute_result"
    }
   ],
   "source": [
    "len(date)"
   ]
  },
  {
   "cell_type": "markdown",
   "metadata": {},
   "source": [
    "### Stats\n",
    "<a id=\"stats\"/>"
   ]
  },
  {
   "cell_type": "code",
   "execution_count": 6,
   "metadata": {},
   "outputs": [
    {
     "name": "stdout",
     "output_type": "stream",
     "text": [
      "Number of total tweets: 66412411\n",
      "Number of original tweets: 13999715\n",
      "Number of retweet: 48312504\n",
      "Number of reply: 4100192\n",
      "Number of original_tweets: 21.08% of total tweets\n",
      "Number of retweets: 72.75% of total tweets\n",
      "Number of replies: 6.17% of total tweets\n",
      "Check sum == len(tweets):  True\n"
     ]
    }
   ],
   "source": [
    "tweets_utils.stats(total_len, original_len, retweet_len, reply_len)"
   ]
  },
  {
   "cell_type": "code",
   "execution_count": 7,
   "metadata": {},
   "outputs": [
    {
     "data": {
      "image/png": "[encoded data removed]",
      "text/plain": [
       "<Figure size 720x504 with 1 Axes>"
      ]
     },
     "metadata": {},
     "output_type": "display_data"
    }
   ],
   "source": [
    "tweets_utils.print_pie_chart3(\"Total tweets stats\",\"Original\",\"Retweet\", \"Reply\", original_len, retweet_len, reply_len)"
   ]
  },
  {
   "cell_type": "code",
   "execution_count": 20,
   "metadata": {},
   "outputs": [
    {
     "name": "stdout",
     "output_type": "stream",
     "text": [
      "Number of total tweets: 1452606\n",
      "Number of original tweets: 290015\n",
      "Number of retweet: 1145272\n",
      "Number of reply: 17319\n",
      "Number of original_tweets: 19.97% of total tweets\n",
      "Number of retweets: 78.84% of total tweets\n",
      "Number of replies: 1.19% of total tweets\n",
      "Check sum == len(tweets):  True\n"
     ]
    }
   ],
   "source": [
    "tweets_utils.stats(d_total_len, d_original_len, d_retweet_len, d_reply_len)"
   ]
  },
  {
   "cell_type": "code",
   "execution_count": 21,
   "metadata": {
    "scrolled": false
   },
   "outputs": [
    {
     "data": {
      "image/png": "[encoded data removed]",
      "text/plain": [
       "<Figure size 720x504 with 1 Axes>"
      ]
     },
     "metadata": {},
     "output_type": "display_data"
    }
   ],
   "source": [
    "tweets_utils.print_pie_chart3(\"Bot tweets stats\",\"Original\",\"Retweet\", \"Reply\", d_original_len, d_retweet_len, d_reply_len)"
   ]
  },
  {
   "cell_type": "markdown",
   "metadata": {},
   "source": [
    "### Process domain\n",
    "<a id=\"domain\"/>"
   ]
  },
  {
   "cell_type": "code",
   "execution_count": 16,
   "metadata": {},
   "outputs": [],
   "source": [
    "df_user.to_csv(\"C:/Users/Gianluca/Desktop/Supsi/Git/BachelorProject/large_files/bots_study.csv\", index=False)"
   ]
  },
  {
   "cell_type": "code",
   "execution_count": 34,
   "metadata": {},
   "outputs": [],
   "source": [
    "# def remove_www(url_list):\n",
    "#     urls_rt_beauty = []\n",
    "#     for i in url_list:\n",
    "#         value = i\n",
    "#         if \"www\" in i:\n",
    "#             splitted = i.split(\".\")\n",
    "#             if(len(splitted) > 2):\n",
    "#                 value = splitted[1] + \".\" + splitted[2]\n",
    "#             else:\n",
    "#                 value = splitted[1]\n",
    "#         urls_rt_beauty.append(value)\n",
    "#     return urls_rt_beauty"
   ]
  },
  {
   "cell_type": "code",
   "execution_count": 2,
   "metadata": {},
   "outputs": [],
   "source": [
    "urls = [tweets_utils.url_decompress(v) if v != \"[]\" else \"0\" for v in link]\n",
    "urls = list(filter(lambda num: num != \"0\", urls))\n",
    "urls = tweets_utils.remove_www(urls)\n",
    "# urls"
   ]
  },
  {
   "cell_type": "code",
   "execution_count": 97,
   "metadata": {
    "scrolled": true
   },
   "outputs": [
    {
     "name": "stdout",
     "output_type": "stream",
     "text": [
      "Time:  94.36749400000008\n"
     ]
    }
   ],
   "source": [
    "list_credibility = []\n",
    "start_time = time.perf_counter()\n",
    "for i in urls:\n",
    "    if(i in credibility_url[\"Domain\"].unique()):\n",
    "        class_domain = credibility_url.loc[credibility_url[\"Domain\"] == i, \"Class\"]\n",
    "        list_credibility.append((i,class_domain.values[0]))\n",
    "stop_time = time.perf_counter()\n",
    "print(\"Time: \",stop_time-start_time)"
   ]
  },
  {
   "cell_type": "markdown",
   "metadata": {},
   "source": [
    "### Classify credibility\n",
    "<a id=\"credibility\"/>"
   ]
  },
  {
   "cell_type": "code",
   "execution_count": 1,
   "metadata": {
    "scrolled": true
   },
   "outputs": [],
   "source": [
    "list_credibility"
   ]
  },
  {
   "cell_type": "code",
   "execution_count": 101,
   "metadata": {},
   "outputs": [
    {
     "data": {
      "text/plain": [
       "list"
      ]
     },
     "execution_count": 101,
     "metadata": {},
     "output_type": "execute_result"
    }
   ],
   "source": [
    "type(list_credibility)"
   ]
  },
  {
   "cell_type": "code",
   "execution_count": 105,
   "metadata": {},
   "outputs": [
    {
     "data": {
      "image/png": "[encoded data removed]",
      "text/plain": [
       "<Figure size 432x288 with 1 Axes>"
      ]
     },
     "metadata": {},
     "output_type": "display_data"
    }
   ],
   "source": [
    "class_domain = []\n",
    "for i in range(len(list_credibility)):\n",
    "    class_domain.append(list_credibility[i][1])\n",
    "class_domain = pd.Series(class_domain).value_counts().sort_values()\n",
    "labels = [\"high\", \"low\"]\n",
    "values = [class_domain.high, class_domain.low]\n",
    "fig1, ax1 = plt.subplots()\n",
    "ax1.pie(values, labels=labels, autopct='%1.1f%%',\n",
    "        shadow=True, startangle=90)\n",
    "ax1.axis('equal')\n",
    "plt.show()"
   ]
  }
 ],
 "metadata": {
  "kernelspec": {
   "display_name": "Python 3",
   "language": "python",
   "name": "python3"
  },
  "language_info": {
   "codemirror_mode": {
    "name": "ipython",
    "version": 3
   },
   "file_extension": ".py",
   "mimetype": "text/x-python",
   "name": "python",
   "nbconvert_exporter": "python",
   "pygments_lexer": "ipython3",
   "version": "3.8.5"
  }
 },
 "nbformat": 4,
 "nbformat_minor": 4
}
