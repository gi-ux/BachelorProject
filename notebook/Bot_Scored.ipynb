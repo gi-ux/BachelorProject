{
 "cells": [
  {
   "cell_type": "code",
   "execution_count": 21,
   "metadata": {},
   "outputs": [
    {
     "data": {
      "application/javascript": [
       "IPython.notebook.set_autosave_interval(3600000)"
      ]
     },
     "metadata": {},
     "output_type": "display_data"
    },
    {
     "name": "stdout",
     "output_type": "stream",
     "text": [
      "Autosaving every 3600 seconds\n"
     ]
    }
   ],
   "source": [
    "import pandas as pd\n",
    "import numpy as np\n",
    "import warnings\n",
    "warnings.filterwarnings('ignore')\n",
    "import time\n",
    "from time import perf_counter\n",
    "import glob\n",
    "import json\n",
    "import matplotlib.pyplot as plt\n",
    "import plotly.express as px\n",
    "import tweets_utils\n",
    "import importlib\n",
    "\n",
    "%autosave 3600"
   ]
  },
  {
   "cell_type": "code",
   "execution_count": 15,
   "metadata": {},
   "outputs": [
    {
     "data": {
      "text/html": [
       "<div>\n",
       "<style scoped>\n",
       "    .dataframe tbody tr th:only-of-type {\n",
       "        vertical-align: middle;\n",
       "    }\n",
       "\n",
       "    .dataframe tbody tr th {\n",
       "        vertical-align: top;\n",
       "    }\n",
       "\n",
       "    .dataframe thead th {\n",
       "        text-align: right;\n",
       "    }\n",
       "</style>\n",
       "<table border=\"1\" class=\"dataframe\">\n",
       "  <thead>\n",
       "    <tr style=\"text-align: right;\">\n",
       "      <th></th>\n",
       "      <th>id</th>\n",
       "      <th>user</th>\n",
       "    </tr>\n",
       "  </thead>\n",
       "  <tbody>\n",
       "    <tr>\n",
       "      <th>0</th>\n",
       "      <td>1252818873578975232</td>\n",
       "      <td>matomecorona</td>\n",
       "    </tr>\n",
       "    <tr>\n",
       "      <th>1</th>\n",
       "      <td>1239490346691760128</td>\n",
       "      <td>Host24Space</td>\n",
       "    </tr>\n",
       "    <tr>\n",
       "      <th>2</th>\n",
       "      <td>1203462567861084160</td>\n",
       "      <td>naija_reports</td>\n",
       "    </tr>\n",
       "    <tr>\n",
       "      <th>3</th>\n",
       "      <td>1238121032067801088</td>\n",
       "      <td>shopfle</td>\n",
       "    </tr>\n",
       "    <tr>\n",
       "      <th>4</th>\n",
       "      <td>1257388917369667584</td>\n",
       "      <td>NbknewsC</td>\n",
       "    </tr>\n",
       "    <tr>\n",
       "      <th>...</th>\n",
       "      <td>...</td>\n",
       "      <td>...</td>\n",
       "    </tr>\n",
       "    <tr>\n",
       "      <th>609</th>\n",
       "      <td>1180444353577144320</td>\n",
       "      <td>edunewsid</td>\n",
       "    </tr>\n",
       "    <tr>\n",
       "      <th>610</th>\n",
       "      <td>91430932</td>\n",
       "      <td>PascalRtl</td>\n",
       "    </tr>\n",
       "    <tr>\n",
       "      <th>611</th>\n",
       "      <td>734775583842914304</td>\n",
       "      <td>news_naira</td>\n",
       "    </tr>\n",
       "    <tr>\n",
       "      <th>612</th>\n",
       "      <td>3231019148</td>\n",
       "      <td>JayaKatwang15</td>\n",
       "    </tr>\n",
       "    <tr>\n",
       "      <th>613</th>\n",
       "      <td>179142856</td>\n",
       "      <td>AmiconeDigital</td>\n",
       "    </tr>\n",
       "  </tbody>\n",
       "</table>\n",
       "<p>614 rows × 2 columns</p>\n",
       "</div>"
      ],
      "text/plain": [
       "                      id            user\n",
       "0    1252818873578975232    matomecorona\n",
       "1    1239490346691760128     Host24Space\n",
       "2    1203462567861084160   naija_reports\n",
       "3    1238121032067801088         shopfle\n",
       "4    1257388917369667584        NbknewsC\n",
       "..                   ...             ...\n",
       "609  1180444353577144320       edunewsid\n",
       "610             91430932       PascalRtl\n",
       "611   734775583842914304      news_naira\n",
       "612           3231019148   JayaKatwang15\n",
       "613            179142856  AmiconeDigital\n",
       "\n",
       "[614 rows x 2 columns]"
      ]
     },
     "execution_count": 15,
     "metadata": {},
     "output_type": "execute_result"
    }
   ],
   "source": [
    "bots = pd.read_csv(\"C:/Users/Gianluca/Desktop/Supsi/Git/BachelorProject/csv/bot_score.csv\")\n",
    "bots"
   ]
  },
  {
   "cell_type": "code",
   "execution_count": 16,
   "metadata": {},
   "outputs": [
    {
     "data": {
      "text/html": [
       "<div>\n",
       "<style scoped>\n",
       "    .dataframe tbody tr th:only-of-type {\n",
       "        vertical-align: middle;\n",
       "    }\n",
       "\n",
       "    .dataframe tbody tr th {\n",
       "        vertical-align: top;\n",
       "    }\n",
       "\n",
       "    .dataframe thead th {\n",
       "        text-align: right;\n",
       "    }\n",
       "</style>\n",
       "<table border=\"1\" class=\"dataframe\">\n",
       "  <thead>\n",
       "    <tr style=\"text-align: right;\">\n",
       "      <th></th>\n",
       "      <th>Domain</th>\n",
       "      <th>Class</th>\n",
       "    </tr>\n",
       "  </thead>\n",
       "  <tbody>\n",
       "    <tr>\n",
       "      <th>0</th>\n",
       "      <td>100percentfedup.com</td>\n",
       "      <td>low</td>\n",
       "    </tr>\n",
       "    <tr>\n",
       "      <th>1</th>\n",
       "      <td>100percentfedup.com</td>\n",
       "      <td>high</td>\n",
       "    </tr>\n",
       "    <tr>\n",
       "      <th>2</th>\n",
       "      <td>10news.one</td>\n",
       "      <td>low</td>\n",
       "    </tr>\n",
       "    <tr>\n",
       "      <th>3</th>\n",
       "      <td>12minutos.com</td>\n",
       "      <td>low</td>\n",
       "    </tr>\n",
       "    <tr>\n",
       "      <th>4</th>\n",
       "      <td>12news.com</td>\n",
       "      <td>high</td>\n",
       "    </tr>\n",
       "    <tr>\n",
       "      <th>...</th>\n",
       "      <td>...</td>\n",
       "      <td>...</td>\n",
       "    </tr>\n",
       "    <tr>\n",
       "      <th>820</th>\n",
       "      <td>childrenshealthdefense.org</td>\n",
       "      <td>low</td>\n",
       "    </tr>\n",
       "    <tr>\n",
       "      <th>821</th>\n",
       "      <td>AdvancedMedicineConference.com,</td>\n",
       "      <td>low</td>\n",
       "    </tr>\n",
       "    <tr>\n",
       "      <th>822</th>\n",
       "      <td>aol.com</td>\n",
       "      <td>high</td>\n",
       "    </tr>\n",
       "    <tr>\n",
       "      <th>823</th>\n",
       "      <td>trendingpolitics.com</td>\n",
       "      <td>low</td>\n",
       "    </tr>\n",
       "    <tr>\n",
       "      <th>824</th>\n",
       "      <td>charityauctionstoday.com</td>\n",
       "      <td>low</td>\n",
       "    </tr>\n",
       "  </tbody>\n",
       "</table>\n",
       "<p>825 rows × 2 columns</p>\n",
       "</div>"
      ],
      "text/plain": [
       "                              Domain Class\n",
       "0                100percentfedup.com   low\n",
       "1                100percentfedup.com  high\n",
       "2                         10news.one   low\n",
       "3                      12minutos.com   low\n",
       "4                         12news.com  high\n",
       "..                               ...   ...\n",
       "820       childrenshealthdefense.org   low\n",
       "821  AdvancedMedicineConference.com,   low\n",
       "822                          aol.com  high\n",
       "823             trendingpolitics.com   low\n",
       "824         charityauctionstoday.com   low\n",
       "\n",
       "[825 rows x 2 columns]"
      ]
     },
     "execution_count": 16,
     "metadata": {},
     "output_type": "execute_result"
    }
   ],
   "source": [
    "credibility_url = pd.read_csv(\"C:/Users/Gianluca/Desktop/Supsi/Git/BachelorProject/csv/domain_credibility.csv\")\n",
    "credibility_url"
   ]
  },
  {
   "cell_type": "code",
   "execution_count": 17,
   "metadata": {},
   "outputs": [],
   "source": [
    "retweet_name = []\n",
    "retweet_id = []\n",
    "retweeted_name = []\n",
    "retweeted_id = []\n",
    "rt_link = []\n",
    "tweet_name = []\n",
    "tweet_id = []\n",
    "link = []\n",
    "\n",
    "result = []\n",
    "\n",
    "total_len = 0\n",
    "original_len = 0\n",
    "retweet_len = 0\n",
    "reply_len = 0\n",
    "d_total_len = 0\n",
    "d_original_len = 0\n",
    "d_retweet_len = 0\n",
    "d_reply_len = 0\n",
    "\n",
    "cols_tweets = [u'user_screen_name',u'user_id', u'created_at', \n",
    "               u'urls', u\"rt_created_at\", u\"rt_user_id\", \n",
    "               u\"rt_user_screen_name\", u'in_reply_to_user_id', \n",
    "               u'in_reply_to_screen_name', u'in_reply_to_status_id']\n",
    "\n",
    "files_tweets = glob.glob(\"F:/COVID-19-Tweets/*/tweets.csv\")"
   ]
  },
  {
   "cell_type": "code",
   "execution_count": 24,
   "metadata": {
    "scrolled": false
   },
   "outputs": [],
   "source": [
    "importlib.reload(tweets_utils)\n",
    "start_time = time.perf_counter()\n",
    "j = 0\n",
    "for filename in files_tweets:\n",
    "    print(f\"Reading file: {filename}\")\n",
    "    result.extend(tweets_utils.process_all_data(filename, cols_tweets, True, bots[\"user\"]))\n",
    "    lista = result[j]\n",
    "    j = j + 1\n",
    "    print(f\"Mese numero {j}\")\n",
    "    for i in range(len(lista)):\n",
    "        #original post\n",
    "        tweet_name.extend(lista[i][\"original_names\"])\n",
    "        tweet_id.extend(lista[i][\"original_ids\"])\n",
    "        link.extend(lista[i][\"links\"])\n",
    "#         #user who retweet\n",
    "        retweet_name.extend(lista[i][\"retweet_users\"])\n",
    "        retweet_id.extend(lista[i][\"retweet_ids\"])\n",
    "#         #user retweeted\n",
    "        retweeted_name.extend(lista[i][\"retweeted_users\"])\n",
    "        retweeted_id.extend(lista[i][\"retweeted_ids\"])\n",
    "        rt_link.extend(lista[i][\"rt_link\"])\n",
    "\n",
    "        #len\n",
    "        total_len = total_len + lista[i][\"total_len\"]\n",
    "        original_len = original_len + lista[i][\"original_len\"]\n",
    "        retweet_len = retweet_len + lista[i][\"retweet_len\"]\n",
    "        reply_len = reply_len + lista[i][\"reply_len\"]\n",
    "        d_total_len = d_total_len + lista[i][\"d_total_len\"]\n",
    "        d_original_len = d_original_len + lista[i][\"d_original_len\"]\n",
    "        d_retweet_len = d_retweet_len + lista[i][\"d_retweet_len\"]\n",
    "        d_reply_len = d_reply_len + lista[i][\"d_reply_len\"]\n",
    "\n",
    "stop_time = time.perf_counter()\n",
    "print(\"Time: \",stop_time-start_time)"
   ]
  },
  {
   "cell_type": "code",
   "execution_count": null,
   "metadata": {},
   "outputs": [],
   "source": [
    "tweets_utils.stats(total_len, original_len, retweet_len, reply_len)"
   ]
  },
  {
   "cell_type": "code",
   "execution_count": null,
   "metadata": {},
   "outputs": [],
   "source": [
    "tweets_utils.print_pie_chart3(\"Total tweets stats\",\"Original\",\"Retweet\", \"Reply\", original_len, retweet_len, reply_len)"
   ]
  },
  {
   "cell_type": "code",
   "execution_count": null,
   "metadata": {},
   "outputs": [],
   "source": [
    "tweets_utils.stats(d_total_len, d_original_len, d_retweet_len, d_reply_len)"
   ]
  },
  {
   "cell_type": "code",
   "execution_count": null,
   "metadata": {},
   "outputs": [],
   "source": [
    "tweets_utils.print_pie_chart3(\"Bot tweets stats\",\"Original\",\"Retweet\", \"Reply\", d_original_len, d_retweet_len, d_reply_len)"
   ]
  }
 ],
 "metadata": {
  "kernelspec": {
   "display_name": "Python 3",
   "language": "python",
   "name": "python3"
  },
  "language_info": {
   "codemirror_mode": {
    "name": "ipython",
    "version": 3
   },
   "file_extension": ".py",
   "mimetype": "text/x-python",
   "name": "python",
   "nbconvert_exporter": "python",
   "pygments_lexer": "ipython3",
   "version": "3.8.5"
  }
 },
 "nbformat": 4,
 "nbformat_minor": 4
}
