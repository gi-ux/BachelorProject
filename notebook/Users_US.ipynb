{
 "cells": [
  {
   "cell_type": "markdown",
   "metadata": {},
   "source": [
    "## Import"
   ]
  },
  {
   "cell_type": "code",
   "execution_count": 1,
   "metadata": {},
   "outputs": [
    {
     "data": {
      "application/javascript": [
       "IPython.notebook.set_autosave_interval(3600000)"
      ]
     },
     "metadata": {},
     "output_type": "display_data"
    },
    {
     "name": "stdout",
     "output_type": "stream",
     "text": [
      "Autosaving every 3600 seconds\n"
     ]
    }
   ],
   "source": [
    "import pandas as pd\n",
    "# from collections import Counter\n",
    "import numpy as np\n",
    "# import matplotlib.pyplot as plt\n",
    "# from matplotlib.pyplot import figure\n",
    "from time import strptime\n",
    "import datetime\n",
    "from datetime import datetime\n",
    "# import plotly.express as px\n",
    "# import matplotlib.mlab as mlab\n",
    "# from statistics import mean\n",
    "# import pylab\n",
    "import math\n",
    "import warnings\n",
    "warnings.filterwarnings('ignore')\n",
    "import time\n",
    "import csv\n",
    "import glob\n",
    "import logging\n",
    "import importlib\n",
    "import tweets_utils\n",
    "import json\n",
    "%autosave 3600"
   ]
  },
  {
   "cell_type": "markdown",
   "metadata": {},
   "source": [
    "## Indice\n",
    "- [Profiles](#profiles)\n",
    "- [CCDH and tweets process](#ccdh)\n",
    "- [Filtering data](#filter)"
   ]
  },
  {
   "cell_type": "markdown",
   "metadata": {},
   "source": [
    "## Profiles\n",
    "<a id=\"profiles\"/>"
   ]
  },
  {
   "cell_type": "code",
   "execution_count": 17,
   "metadata": {},
   "outputs": [],
   "source": [
    "# from platform import python_version\n",
    "# print(python_version())"
   ]
  },
  {
   "cell_type": "code",
   "execution_count": 18,
   "metadata": {},
   "outputs": [
    {
     "data": {
      "text/plain": [
       "['F:/COVID-19-Tweets\\\\2020-01\\\\users.csv',\n",
       " 'F:/COVID-19-Tweets\\\\2020-02\\\\users.csv',\n",
       " 'F:/COVID-19-Tweets\\\\2020-03\\\\users.csv',\n",
       " 'F:/COVID-19-Tweets\\\\2020-04\\\\users.csv',\n",
       " 'F:/COVID-19-Tweets\\\\2020-05\\\\users.csv']"
      ]
     },
     "execution_count": 18,
     "metadata": {},
     "output_type": "execute_result"
    }
   ],
   "source": [
    "files = glob.glob(\"F:/COVID-19-Tweets/*/users.csv\")\n",
    "files"
   ]
  },
  {
   "cell_type": "code",
   "execution_count": 19,
   "metadata": {
    "scrolled": false
   },
   "outputs": [
    {
     "data": {
      "text/html": [
       "<div>\n",
       "<style scoped>\n",
       "    .dataframe tbody tr th:only-of-type {\n",
       "        vertical-align: middle;\n",
       "    }\n",
       "\n",
       "    .dataframe tbody tr th {\n",
       "        vertical-align: top;\n",
       "    }\n",
       "\n",
       "    .dataframe thead th {\n",
       "        text-align: right;\n",
       "    }\n",
       "</style>\n",
       "<table border=\"1\" class=\"dataframe\">\n",
       "  <thead>\n",
       "    <tr style=\"text-align: right;\">\n",
       "      <th></th>\n",
       "      <th>id</th>\n",
       "      <th>id_str</th>\n",
       "      <th>name</th>\n",
       "      <th>screen_name</th>\n",
       "      <th>location</th>\n",
       "      <th>description</th>\n",
       "      <th>url</th>\n",
       "      <th>protected</th>\n",
       "      <th>followers_count</th>\n",
       "      <th>friends_count</th>\n",
       "      <th>listed_count</th>\n",
       "      <th>created_at</th>\n",
       "      <th>favourites_count</th>\n",
       "      <th>geo_enabled</th>\n",
       "      <th>verified</th>\n",
       "      <th>statuses_count</th>\n",
       "      <th>contributors_enabled</th>\n",
       "      <th>default_profile</th>\n",
       "      <th>default_profile_image</th>\n",
       "    </tr>\n",
       "  </thead>\n",
       "  <tbody>\n",
       "    <tr>\n",
       "      <th>0</th>\n",
       "      <td>624585646</td>\n",
       "      <td>624585646</td>\n",
       "      <td>Anissa Primafidyanti</td>\n",
       "      <td>prmfdynt</td>\n",
       "      <td>INA</td>\n",
       "      <td>NaN</td>\n",
       "      <td>NaN</td>\n",
       "      <td>False</td>\n",
       "      <td>615</td>\n",
       "      <td>341</td>\n",
       "      <td>0</td>\n",
       "      <td>Mon Jul 02 11:16:32 +0000 2012</td>\n",
       "      <td>345</td>\n",
       "      <td>True</td>\n",
       "      <td>False</td>\n",
       "      <td>18072</td>\n",
       "      <td>False</td>\n",
       "      <td>False</td>\n",
       "      <td>False</td>\n",
       "    </tr>\n",
       "    <tr>\n",
       "      <th>1</th>\n",
       "      <td>1134643848444096512</td>\n",
       "      <td>1134643848444096512</td>\n",
       "      <td>𝑨𝒍𝒎𝒂</td>\n",
       "      <td>allmitaquino</td>\n",
       "      <td>NaN</td>\n",
       "      <td>adicta a las series y la fotografía</td>\n",
       "      <td>NaN</td>\n",
       "      <td>False</td>\n",
       "      <td>39</td>\n",
       "      <td>89</td>\n",
       "      <td>0</td>\n",
       "      <td>Sat Jun 01 02:12:28 +0000 2019</td>\n",
       "      <td>1495</td>\n",
       "      <td>True</td>\n",
       "      <td>False</td>\n",
       "      <td>1661</td>\n",
       "      <td>False</td>\n",
       "      <td>True</td>\n",
       "      <td>False</td>\n",
       "    </tr>\n",
       "    <tr>\n",
       "      <th>2</th>\n",
       "      <td>1169267342208946183</td>\n",
       "      <td>1169267342208946183</td>\n",
       "      <td>Gregory Tribiani</td>\n",
       "      <td>GregoryTribiani</td>\n",
       "      <td>NaN</td>\n",
       "      <td>Don’t kill our kids 😷</td>\n",
       "      <td>NaN</td>\n",
       "      <td>False</td>\n",
       "      <td>84</td>\n",
       "      <td>102</td>\n",
       "      <td>0</td>\n",
       "      <td>Wed Sep 04 15:14:13 +0000 2019</td>\n",
       "      <td>4108</td>\n",
       "      <td>False</td>\n",
       "      <td>False</td>\n",
       "      <td>4456</td>\n",
       "      <td>False</td>\n",
       "      <td>True</td>\n",
       "      <td>False</td>\n",
       "    </tr>\n",
       "    <tr>\n",
       "      <th>3</th>\n",
       "      <td>495615946</td>\n",
       "      <td>495615946</td>\n",
       "      <td>Nicole ✨✨</td>\n",
       "      <td>DenisseeNLB</td>\n",
       "      <td>NaN</td>\n",
       "      <td>Sin limites, sin miedo, pasion y amor♥ Sagitar...</td>\n",
       "      <td>NaN</td>\n",
       "      <td>False</td>\n",
       "      <td>669</td>\n",
       "      <td>295</td>\n",
       "      <td>0</td>\n",
       "      <td>Sat Feb 18 04:31:41 +0000 2012</td>\n",
       "      <td>18868</td>\n",
       "      <td>True</td>\n",
       "      <td>False</td>\n",
       "      <td>79400</td>\n",
       "      <td>False</td>\n",
       "      <td>False</td>\n",
       "      <td>False</td>\n",
       "    </tr>\n",
       "    <tr>\n",
       "      <th>4</th>\n",
       "      <td>978397877939654656</td>\n",
       "      <td>978397877939654656</td>\n",
       "      <td>Alex Scott Samuel</td>\n",
       "      <td>ASAMUELFEATURE</td>\n",
       "      <td>North Carolina, USA</td>\n",
       "      <td>COMING: My Collection of 13 Southern Horror St...</td>\n",
       "      <td>https://t.co/ZeyuFWIQ5r</td>\n",
       "      <td>False</td>\n",
       "      <td>211</td>\n",
       "      <td>1294</td>\n",
       "      <td>0</td>\n",
       "      <td>Mon Mar 26 22:26:46 +0000 2018</td>\n",
       "      <td>2259</td>\n",
       "      <td>False</td>\n",
       "      <td>False</td>\n",
       "      <td>5617</td>\n",
       "      <td>False</td>\n",
       "      <td>False</td>\n",
       "      <td>False</td>\n",
       "    </tr>\n",
       "  </tbody>\n",
       "</table>\n",
       "</div>"
      ],
      "text/plain": [
       "                    id               id_str                  name  \\\n",
       "0            624585646            624585646  Anissa Primafidyanti   \n",
       "1  1134643848444096512  1134643848444096512                  𝑨𝒍𝒎𝒂   \n",
       "2  1169267342208946183  1169267342208946183      Gregory Tribiani   \n",
       "3            495615946            495615946             Nicole ✨✨   \n",
       "4   978397877939654656   978397877939654656     Alex Scott Samuel   \n",
       "\n",
       "       screen_name             location  \\\n",
       "0         prmfdynt                  INA   \n",
       "1     allmitaquino                  NaN   \n",
       "2  GregoryTribiani                  NaN   \n",
       "3      DenisseeNLB                  NaN   \n",
       "4   ASAMUELFEATURE  North Carolina, USA   \n",
       "\n",
       "                                         description                      url  \\\n",
       "0                                                NaN                      NaN   \n",
       "1                adicta a las series y la fotografía                      NaN   \n",
       "2                              Don’t kill our kids 😷                      NaN   \n",
       "3  Sin limites, sin miedo, pasion y amor♥ Sagitar...                      NaN   \n",
       "4  COMING: My Collection of 13 Southern Horror St...  https://t.co/ZeyuFWIQ5r   \n",
       "\n",
       "   protected  followers_count  friends_count  listed_count  \\\n",
       "0      False              615            341             0   \n",
       "1      False               39             89             0   \n",
       "2      False               84            102             0   \n",
       "3      False              669            295             0   \n",
       "4      False              211           1294             0   \n",
       "\n",
       "                       created_at  favourites_count  geo_enabled  verified  \\\n",
       "0  Mon Jul 02 11:16:32 +0000 2012               345         True     False   \n",
       "1  Sat Jun 01 02:12:28 +0000 2019              1495         True     False   \n",
       "2  Wed Sep 04 15:14:13 +0000 2019              4108        False     False   \n",
       "3  Sat Feb 18 04:31:41 +0000 2012             18868         True     False   \n",
       "4  Mon Mar 26 22:26:46 +0000 2018              2259        False     False   \n",
       "\n",
       "   statuses_count  contributors_enabled  default_profile  \\\n",
       "0           18072                 False            False   \n",
       "1            1661                 False             True   \n",
       "2            4456                 False             True   \n",
       "3           79400                 False            False   \n",
       "4            5617                 False            False   \n",
       "\n",
       "   default_profile_image  \n",
       "0                  False  \n",
       "1                  False  \n",
       "2                  False  \n",
       "3                  False  \n",
       "4                  False  "
      ]
     },
     "execution_count": 19,
     "metadata": {},
     "output_type": "execute_result"
    }
   ],
   "source": [
    "for chunk in pd.read_csv(files[0], chunksize=10, lineterminator = '\\n'):\n",
    "    break\n",
    "chunk.head()"
   ]
  },
  {
   "cell_type": "code",
   "execution_count": 20,
   "metadata": {},
   "outputs": [],
   "source": [
    "chunksize = int(1e6)\n",
    "flag = False\n",
    "profile_n = 0\n",
    "i = 0\n",
    "profile_id = []\n",
    "profile_name = []\n",
    "# profile_loc = []\n",
    "# profile_verified = []\n",
    "# profile_creation = []\n",
    "# default_profile_image = []\n",
    "# statuses_count = []\n",
    "\n",
    "users = []\n",
    "\n",
    "# workers = 2\n",
    "cols = [u'id', u'screen_name', u'location', u'created_at', u'verified', u'statuses_count', u'default_profile_image'] \n",
    "cont = 1"
   ]
  },
  {
   "cell_type": "code",
   "execution_count": 22,
   "metadata": {},
   "outputs": [
    {
     "name": "stdout",
     "output_type": "stream",
     "text": [
      "Reading file: F:/COVID-19-Tweets\\2020-01\\users.csv\n",
      "Processing chunk 1\n",
      "Processing chunk 2\n",
      "Mese numero 1\n",
      "Reading file: F:/COVID-19-Tweets\\2020-02\\users.csv\n",
      "Processing chunk 1\n",
      "Processing chunk 2\n",
      "Processing chunk 3\n",
      "Processing chunk 4\n",
      "Processing chunk 5\n",
      "Mese numero 2\n",
      "Reading file: F:/COVID-19-Tweets\\2020-03\\users.csv\n",
      "Processing chunk 1\n",
      "Processing chunk 2\n",
      "Processing chunk 3\n",
      "Processing chunk 4\n",
      "Processing chunk 5\n",
      "Processing chunk 6\n",
      "Mese numero 3\n",
      "Reading file: F:/COVID-19-Tweets\\2020-04\\users.csv\n",
      "Processing chunk 1\n",
      "Processing chunk 2\n",
      "Processing chunk 3\n",
      "Processing chunk 4\n",
      "Processing chunk 5\n",
      "Processing chunk 6\n",
      "Mese numero 4\n",
      "Reading file: F:/COVID-19-Tweets\\2020-05\\users.csv\n",
      "Processing chunk 1\n",
      "Processing chunk 2\n",
      "Processing chunk 3\n",
      "Processing chunk 4\n",
      "Processing chunk 5\n",
      "Processing chunk 6\n",
      "Processing chunk 7\n",
      "Processing chunk 8\n",
      "Processing chunk 9\n",
      "Mese numero 5\n",
      "Time:  181.42706299999918\n"
     ]
    }
   ],
   "source": [
    "result = []\n",
    "importlib.reload(tweets_utils)\n",
    "start_time = time.perf_counter()\n",
    "j = 0\n",
    "for filename in files:\n",
    "    print(f\"Reading file: {filename}\")\n",
    "    result.extend(tweets_utils.process_all_data(filename, cols, flag, None))\n",
    "    lista = result[j]\n",
    "    j = j + 1\n",
    "    print(f\"Mese numero {j}\")\n",
    "    for i in range(len(lista)):\n",
    "        profile_name.extend(lista[i][\"users\"])\n",
    "        profile_id.extend(lista[i][\"ids\"])\n",
    "stop_time = time.perf_counter()\n",
    "print(\"Time: \",stop_time-start_time)"
   ]
  },
  {
   "cell_type": "code",
   "execution_count": 23,
   "metadata": {},
   "outputs": [],
   "source": [
    "del result\n",
    "del lista\n",
    "del chunk"
   ]
  },
  {
   "cell_type": "markdown",
   "metadata": {},
   "source": [
    "## CCDH Research\n",
    "<a id=\"ccdh\"/>"
   ]
  },
  {
   "cell_type": "code",
   "execution_count": 24,
   "metadata": {},
   "outputs": [
    {
     "data": {
      "text/html": [
       "<div>\n",
       "<style scoped>\n",
       "    .dataframe tbody tr th:only-of-type {\n",
       "        vertical-align: middle;\n",
       "    }\n",
       "\n",
       "    .dataframe tbody tr th {\n",
       "        vertical-align: top;\n",
       "    }\n",
       "\n",
       "    .dataframe thead th {\n",
       "        text-align: right;\n",
       "    }\n",
       "</style>\n",
       "<table border=\"1\" class=\"dataframe\">\n",
       "  <thead>\n",
       "    <tr style=\"text-align: right;\">\n",
       "      <th></th>\n",
       "      <th>user</th>\n",
       "      <th>status</th>\n",
       "    </tr>\n",
       "  </thead>\n",
       "  <tbody>\n",
       "    <tr>\n",
       "      <th>0</th>\n",
       "      <td>mercola</td>\n",
       "      <td>active</td>\n",
       "    </tr>\n",
       "    <tr>\n",
       "      <th>1</th>\n",
       "      <td>RobertKennedyJr</td>\n",
       "      <td>active</td>\n",
       "    </tr>\n",
       "    <tr>\n",
       "      <th>2</th>\n",
       "      <td>TyCharleneB</td>\n",
       "      <td>removed</td>\n",
       "    </tr>\n",
       "    <tr>\n",
       "      <th>3</th>\n",
       "      <td>BusyDrT</td>\n",
       "      <td>suspended</td>\n",
       "    </tr>\n",
       "    <tr>\n",
       "      <th>4</th>\n",
       "      <td>IslamRizza</td>\n",
       "      <td>removed</td>\n",
       "    </tr>\n",
       "    <tr>\n",
       "      <th>5</th>\n",
       "      <td>DrButtar</td>\n",
       "      <td>active</td>\n",
       "    </tr>\n",
       "    <tr>\n",
       "      <th>6</th>\n",
       "      <td>unhealthytruth</td>\n",
       "      <td>active</td>\n",
       "    </tr>\n",
       "    <tr>\n",
       "      <th>7</th>\n",
       "      <td>sayerjigmi</td>\n",
       "      <td>active</td>\n",
       "    </tr>\n",
       "    <tr>\n",
       "      <th>8</th>\n",
       "      <td>KellyBroganMD</td>\n",
       "      <td>active</td>\n",
       "    </tr>\n",
       "    <tr>\n",
       "      <th>9</th>\n",
       "      <td>DrChrisNorthrup</td>\n",
       "      <td>active</td>\n",
       "    </tr>\n",
       "    <tr>\n",
       "      <th>10</th>\n",
       "      <td>DrBenTapper1</td>\n",
       "      <td>suspended</td>\n",
       "    </tr>\n",
       "    <tr>\n",
       "      <th>11</th>\n",
       "      <td>kevdjenkins1</td>\n",
       "      <td>active</td>\n",
       "    </tr>\n",
       "  </tbody>\n",
       "</table>\n",
       "</div>"
      ],
      "text/plain": [
       "               user     status\n",
       "0           mercola     active\n",
       "1   RobertKennedyJr     active\n",
       "2       TyCharleneB    removed\n",
       "3           BusyDrT  suspended\n",
       "4        IslamRizza    removed\n",
       "5          DrButtar     active\n",
       "6    unhealthytruth     active\n",
       "7        sayerjigmi     active\n",
       "8     KellyBroganMD     active\n",
       "9   DrChrisNorthrup     active\n",
       "10     DrBenTapper1  suspended\n",
       "11     kevdjenkins1     active"
      ]
     },
     "execution_count": 24,
     "metadata": {},
     "output_type": "execute_result"
    }
   ],
   "source": [
    "disinform = pd.read_csv(\"C:/Users/Gianluca/Desktop/Supsi/Git/BachelorProject/csv/disinformation_users.csv\")\n",
    "disinform"
   ]
  },
  {
   "cell_type": "code",
   "execution_count": 25,
   "metadata": {},
   "outputs": [],
   "source": [
    "def found(name, list_name=disinform[\"user\"]):\n",
    "    for i in list_name:\n",
    "        if(name == i):\n",
    "            return True\n",
    "    return False"
   ]
  },
  {
   "cell_type": "code",
   "execution_count": 26,
   "metadata": {},
   "outputs": [],
   "source": [
    "names = []\n",
    "for i in profile_name:\n",
    "       if(found(i)):\n",
    "            names.append(i)"
   ]
  },
  {
   "cell_type": "code",
   "execution_count": 27,
   "metadata": {},
   "outputs": [],
   "source": [
    "names = set(names)\n",
    "with open(\"C:/Users/Gianluca/Desktop/Supsi/Git/BachelorProject/csv/users_ccdh.csv\", 'w', newline='') as file:\n",
    "    writer = csv.writer(file)\n",
    "    writer.writerow([\"screen_name\"])\n",
    "    for i in names:\n",
    "        writer.writerow([i])"
   ]
  },
  {
   "cell_type": "code",
   "execution_count": 28,
   "metadata": {},
   "outputs": [
    {
     "data": {
      "text/html": [
       "<div>\n",
       "<style scoped>\n",
       "    .dataframe tbody tr th:only-of-type {\n",
       "        vertical-align: middle;\n",
       "    }\n",
       "\n",
       "    .dataframe tbody tr th {\n",
       "        vertical-align: top;\n",
       "    }\n",
       "\n",
       "    .dataframe thead th {\n",
       "        text-align: right;\n",
       "    }\n",
       "</style>\n",
       "<table border=\"1\" class=\"dataframe\">\n",
       "  <thead>\n",
       "    <tr style=\"text-align: right;\">\n",
       "      <th></th>\n",
       "      <th>screen_name</th>\n",
       "    </tr>\n",
       "  </thead>\n",
       "  <tbody>\n",
       "    <tr>\n",
       "      <th>0</th>\n",
       "      <td>unhealthytruth</td>\n",
       "    </tr>\n",
       "    <tr>\n",
       "      <th>1</th>\n",
       "      <td>mercola</td>\n",
       "    </tr>\n",
       "    <tr>\n",
       "      <th>2</th>\n",
       "      <td>DrButtar</td>\n",
       "    </tr>\n",
       "    <tr>\n",
       "      <th>3</th>\n",
       "      <td>BusyDrT</td>\n",
       "    </tr>\n",
       "    <tr>\n",
       "      <th>4</th>\n",
       "      <td>DrBenTapper1</td>\n",
       "    </tr>\n",
       "    <tr>\n",
       "      <th>5</th>\n",
       "      <td>RobertKennedyJr</td>\n",
       "    </tr>\n",
       "    <tr>\n",
       "      <th>6</th>\n",
       "      <td>kevdjenkins1</td>\n",
       "    </tr>\n",
       "    <tr>\n",
       "      <th>7</th>\n",
       "      <td>DrChrisNorthrup</td>\n",
       "    </tr>\n",
       "  </tbody>\n",
       "</table>\n",
       "</div>"
      ],
      "text/plain": [
       "       screen_name\n",
       "0   unhealthytruth\n",
       "1          mercola\n",
       "2         DrButtar\n",
       "3          BusyDrT\n",
       "4     DrBenTapper1\n",
       "5  RobertKennedyJr\n",
       "6     kevdjenkins1\n",
       "7  DrChrisNorthrup"
      ]
     },
     "execution_count": 28,
     "metadata": {},
     "output_type": "execute_result"
    }
   ],
   "source": [
    "users_link = glob.glob(\"C:/Users/Gianluca/Desktop/Supsi/Git/BachelorProject/csv/users_ccdh.csv\")\n",
    "users_disinform = pd.read_csv(users_link[0])\n",
    "users_disinform"
   ]
  },
  {
   "cell_type": "code",
   "execution_count": 29,
   "metadata": {},
   "outputs": [
    {
     "data": {
      "text/plain": [
       "['F:/COVID-19-Tweets\\\\2020-01\\\\tweets.csv',\n",
       " 'F:/COVID-19-Tweets\\\\2020-02\\\\tweets.csv',\n",
       " 'F:/COVID-19-Tweets\\\\2020-03\\\\tweets.csv',\n",
       " 'F:/COVID-19-Tweets\\\\2020-04\\\\tweets.csv',\n",
       " 'F:/COVID-19-Tweets\\\\2020-05\\\\tweets.csv']"
      ]
     },
     "execution_count": 29,
     "metadata": {},
     "output_type": "execute_result"
    }
   ],
   "source": [
    "files_tweets = glob.glob(\"F:/COVID-19-Tweets/*/tweets.csv\")\n",
    "files_tweets"
   ]
  },
  {
   "cell_type": "code",
   "execution_count": 49,
   "metadata": {
    "scrolled": true
   },
   "outputs": [
    {
     "name": "stdout",
     "output_type": "stream",
     "text": [
      "<class 'pandas.core.frame.DataFrame'>\n",
      "RangeIndex: 1000 entries, 0 to 999\n",
      "Data columns (total 46 columns):\n",
      " #   Column                     Non-Null Count  Dtype  \n",
      "---  ------                     --------------  -----  \n",
      " 0   id                         1000 non-null   int64  \n",
      " 1   id_str                     1000 non-null   int64  \n",
      " 2   created_at                 1000 non-null   object \n",
      " 3   user_id                    1000 non-null   int64  \n",
      " 4   user_screen_name           1000 non-null   object \n",
      " 5   user_verified              1000 non-null   bool   \n",
      " 6   user_created_at            1000 non-null   object \n",
      " 7   text                       1000 non-null   object \n",
      " 8   source                     1000 non-null   object \n",
      " 9   coordinates                0 non-null      float64\n",
      " 10  is_quote_status            1000 non-null   bool   \n",
      " 11  retweet_count              1000 non-null   int64  \n",
      " 12  favorite_count             1000 non-null   int64  \n",
      " 13  favorited                  1000 non-null   bool   \n",
      " 14  retweeted                  1000 non-null   bool   \n",
      " 15  lang                       1000 non-null   object \n",
      " 16  in_reply_to_status_id      61 non-null     float64\n",
      " 17  in_reply_to_status_id_str  61 non-null     float64\n",
      " 18  in_reply_to_user_id        67 non-null     float64\n",
      " 19  in_reply_to_user_id_str    67 non-null     float64\n",
      " 20  in_reply_to_screen_name    67 non-null     object \n",
      " 21  rt_coordinates             0 non-null      float64\n",
      " 22  rt_created_at              729 non-null    object \n",
      " 23  rt_in_reply_to_status_id   50 non-null     float64\n",
      " 24  rt_in_reply_to_user_id     66 non-null     float64\n",
      " 25  rt_lang                    729 non-null    object \n",
      " 26  rt_favourite_count         729 non-null    float64\n",
      " 27  rt_id                      729 non-null    float64\n",
      " 28  rt_user_id                 729 non-null    float64\n",
      " 29  rt_user_screen_name        729 non-null    object \n",
      " 30  rt_user_created_at         729 non-null    object \n",
      " 31  rt_user_verified           729 non-null    object \n",
      " 32  rt_user_followers_count    729 non-null    float64\n",
      " 33  rt_user_friends_count      729 non-null    float64\n",
      " 34  rt_user_favourites_count   729 non-null    float64\n",
      " 35  quoted_status_id           64 non-null     float64\n",
      " 36  quoted_status_text         16 non-null     object \n",
      " 37  quoted_status_created_at   16 non-null     object \n",
      " 38  quoted_user_id             16 non-null     float64\n",
      " 39  quoted_user_created_at     16 non-null     object \n",
      " 40  hashtags                   1000 non-null   object \n",
      " 41  symbols                    1000 non-null   object \n",
      " 42  user_mentions              1000 non-null   object \n",
      " 43  urls                       1000 non-null   object \n",
      " 44  polls                      1000 non-null   object \n",
      " 45  media                      1000 non-null   object \n",
      "dtypes: bool(4), float64(16), int64(5), object(21)\n",
      "memory usage: 332.2+ KB\n"
     ]
    }
   ],
   "source": [
    "for chunk in pd.read_csv(files_tweets[0], chunksize=1000, lineterminator = '\\n'):\n",
    "    break\n",
    "chunk.info()"
   ]
  },
  {
   "cell_type": "code",
   "execution_count": 70,
   "metadata": {
    "scrolled": true
   },
   "outputs": [
    {
     "name": "stdout",
     "output_type": "stream",
     "text": [
      "Reading file: F:/COVID-19-Tweets\\2020-01\\tweets.csv\n",
      "Processing chunk 1\n",
      "Processing chunk 2\n",
      "Processing chunk 3\n",
      "Processing chunk 4\n",
      "Processing chunk 5\n",
      "Mese numero 1\n",
      "Time:  93.80396939999991\n"
     ]
    }
   ],
   "source": [
    "profile_name = []\n",
    "profile_id = []\n",
    "link = []\n",
    "data = []\n",
    "result = []\n",
    "cols_tweets = [u'user_screen_name',u'id', u'created_at', u'urls']\n",
    "files_tweets = glob.glob(\"F:/COVID-19-Tweets/*/tweets.csv\")\n",
    "importlib.reload(tweets_utils)\n",
    "start_time = time.perf_counter()\n",
    "j = 0\n",
    "for filename in files_tweets:\n",
    "    print(f\"Reading file: {filename}\")\n",
    "    result.extend(tweets_utils.process_all_data(filename, cols_tweets, True, users_disinform[\"screen_name\"]))\n",
    "    lista = result[j]\n",
    "    j = j + 1\n",
    "    print(f\"Mese numero {j}\")\n",
    "    x = 0\n",
    "    y = 0\n",
    "    for i in range(len(lista)):\n",
    "#         print(i)\n",
    "#         print(\"-\")\n",
    "        if(i == 0):\n",
    "            x = 0\n",
    "        else:\n",
    "            x = y\n",
    "        y = x + len(lista[i][\"users\"])\n",
    "        for q in range(x,y):\n",
    "            if(found(lista[i][\"users\"][q])):          \n",
    "                profile_name.append(lista[i][\"users\"][q])\n",
    "                profile_id.append(lista[i][\"ids\"][q])\n",
    "                link.append(lista[i][\"link\"][q])\n",
    "                data.append(lista[i][\"data\"][q])\n",
    "    break\n",
    "stop_time = time.perf_counter()\n",
    "print(\"Time: \",stop_time-start_time)"
   ]
  },
  {
   "cell_type": "code",
   "execution_count": 73,
   "metadata": {
    "scrolled": true
   },
   "outputs": [],
   "source": [
    "urls = [tweets_utils.url_decompress(v) if v != \"[]\" else \"0\" for v in link]"
   ]
  },
  {
   "cell_type": "markdown",
   "metadata": {},
   "source": [
    "## Filtering profiles\n",
    "<a id=\"filter\"/>"
   ]
  },
  {
   "cell_type": "markdown",
   "metadata": {},
   "source": [
    "- no profile pic\n",
    "- numero nei tweet\n",
    "- data di creazione del profilo"
   ]
  },
  {
   "cell_type": "code",
   "execution_count": null,
   "metadata": {},
   "outputs": [],
   "source": [
    "# del result\n",
    "# print(len(profile_creation))\n",
    "# print(len(profile_id))\n",
    "# print(len(default_profile_image))\n",
    "# print(len(profile_verified))\n",
    "# print(len(statuses_count))"
   ]
  },
  {
   "cell_type": "code",
   "execution_count": null,
   "metadata": {
    "scrolled": true
   },
   "outputs": [],
   "source": [
    "from datetime import datetime\n",
    "d = datetime(2020,1,1)\n",
    "could_be_bots = []\n",
    "coord = []\n",
    "count = 0\n",
    "for i in range(len(profile_id)):\n",
    "    if((profile_creation[i] >= d) & (profile_verified[i] == False) & \n",
    "       (statuses_count[i] >= 100) & (default_profile_image[i] == True)):  \n",
    "        could_be_bots.append((profile_id[i], profile_name[i]))\n",
    "        coord.append(profile_loc[i])\n"
   ]
  },
  {
   "cell_type": "code",
   "execution_count": null,
   "metadata": {},
   "outputs": [],
   "source": [
    "len(could_be_bots)"
   ]
  },
  {
   "cell_type": "code",
   "execution_count": null,
   "metadata": {},
   "outputs": [],
   "source": [
    "with open('users.csv', 'w', newline='') as file:\n",
    "    writer = csv.writer(file)\n",
    "    writer.writerow([\"id\", \"screen_name\"])\n",
    "    for i in range(len(could_be_bots)):\n",
    "        writer.writerow([could_be_bots[i][0], could_be_bots[i][1]])"
   ]
  },
  {
   "cell_type": "code",
   "execution_count": null,
   "metadata": {
    "scrolled": false
   },
   "outputs": [],
   "source": [
    "df = pd.read_csv('users.csv')\n",
    "df = df[:10]"
   ]
  },
  {
   "cell_type": "code",
   "execution_count": null,
   "metadata": {},
   "outputs": [],
   "source": [
    "df.to_csv(\"prova.csv\", index=False)"
   ]
  },
  {
   "cell_type": "code",
   "execution_count": null,
   "metadata": {},
   "outputs": [],
   "source": [
    "f = open(\"score_results.json\",)\n",
    "score = json.load(f)"
   ]
  },
  {
   "cell_type": "code",
   "execution_count": null,
   "metadata": {
    "scrolled": false
   },
   "outputs": [],
   "source": [
    "for i in score:\n",
    "    print(score[i][\"scores\"])\n",
    "    print(\"\")"
   ]
  }
 ],
 "metadata": {
  "kernelspec": {
   "display_name": "Python 3",
   "language": "python",
   "name": "python3"
  },
  "language_info": {
   "codemirror_mode": {
    "name": "ipython",
    "version": 3
   },
   "file_extension": ".py",
   "mimetype": "text/x-python",
   "name": "python",
   "nbconvert_exporter": "python",
   "pygments_lexer": "ipython3",
   "version": "3.8.5"
  }
 },
 "nbformat": 4,
 "nbformat_minor": 4
}
