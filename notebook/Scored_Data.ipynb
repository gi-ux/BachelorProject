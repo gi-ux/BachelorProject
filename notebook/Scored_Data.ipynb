{
 "cells": [
  {
   "cell_type": "code",
   "execution_count": 1,
   "metadata": {},
   "outputs": [
    {
     "data": {
      "application/javascript": [
       "IPython.notebook.set_autosave_interval(3600000)"
      ]
     },
     "metadata": {},
     "output_type": "display_data"
    },
    {
     "name": "stdout",
     "output_type": "stream",
     "text": [
      "Autosaving every 3600 seconds\n"
     ]
    }
   ],
   "source": [
    "import pandas as pd\n",
    "import numpy as np\n",
    "import warnings\n",
    "warnings.filterwarnings('ignore')\n",
    "import time\n",
    "from time import perf_counter\n",
    "import glob\n",
    "import json\n",
    "import matplotlib.pyplot as plt\n",
    "%autosave 3600"
   ]
  },
  {
   "cell_type": "code",
   "execution_count": 3,
   "metadata": {},
   "outputs": [
    {
     "data": {
      "text/plain": [
       "['C:/Users/Gianluca/Desktop/provascript\\\\score_results_prova.json']"
      ]
     },
     "execution_count": 3,
     "metadata": {},
     "output_type": "execute_result"
    }
   ],
   "source": [
    "path = glob.glob('C:/Users/Gianluca/Desktop/provascript/*.json')\n",
    "path"
   ]
  },
  {
   "cell_type": "markdown",
   "metadata": {},
   "source": [
    "# Todo\n",
    " - leggi i file in base al tipo di tweet\n",
    " - dividi in tipologia di bot (tira fuori le stats)\n",
    " - prendi gli id e usali nel dataframe totale"
   ]
  },
  {
   "cell_type": "code",
   "execution_count": 3,
   "metadata": {},
   "outputs": [],
   "source": [
    "threshold = 0.5\n",
    "id_issue = dict()\n",
    "list_raws = []\n",
    "total_users = 0\n",
    "total_bots = 0\n",
    "total_person = 0\n",
    "bots = []"
   ]
  },
  {
   "cell_type": "code",
   "execution_count": 4,
   "metadata": {},
   "outputs": [],
   "source": [
    "def convert(list):\n",
    "    return tuple(list)"
   ]
  },
  {
   "cell_type": "code",
   "execution_count": 5,
   "metadata": {},
   "outputs": [],
   "source": [
    "import json\n",
    "  \n",
    "f = open(path[0],)\n",
    "data = json.load(f)\n",
    "\n",
    "for i in data:\n",
    "    obj = data[i]\n",
    "    id_user = obj[\"id\"]\n",
    "    screen_name = obj[\"screen_name\"]\n",
    "    score = obj[\"scores\"]\n",
    "    raw = score[\"raw_scores\"]\n",
    "    raw_universal = raw[\"universal\"]\n",
    "    list_tuple = []\n",
    "    list_raws = list(raw_universal.keys())\n",
    "    list_raws.pop(4) # remove overall in process\n",
    "    for j in list_raws:\n",
    "        if raw_universal[j] >= threshold:\n",
    "            list_tuple.append(j)\n",
    "            bots.append((id_user, screen_name))\n",
    "    id_issue[str(i)] = convert(list_tuple)\n",
    "f.close()\n",
    "bots = list(set(bots))"
   ]
  },
  {
   "cell_type": "code",
   "execution_count": 6,
   "metadata": {},
   "outputs": [],
   "source": [
    "for i in id_issue.keys():\n",
    "    total_users = total_users + 1 \n",
    "    if len(id_issue[i]) > 0:\n",
    "        total_bots = total_bots + 1\n",
    "    else:\n",
    "        total_person = total_person + 1"
   ]
  },
  {
   "cell_type": "code",
   "execution_count": 7,
   "metadata": {},
   "outputs": [
    {
     "name": "stdout",
     "output_type": "stream",
     "text": [
      "Number of total users: 10\n",
      "Number of bots: 6\n",
      "Number of person: 4\n",
      "Perc of bots: 60.0% of total users\n",
      "Perc of person: 40.0% of total users\n"
     ]
    }
   ],
   "source": [
    "print(f'Number of total users: {total_users}')\n",
    "print(f'Number of bots: {total_bots}')\n",
    "print(f'Number of person: {total_person}')\n",
    "\n",
    "perc_bot = np.around(total_bots*100/total_users,2)\n",
    "perc_person = np.around(total_person*100/total_users,2)\n",
    "print(f'Perc of bots: {perc_bot}% of total users')\n",
    "print(f'Perc of person: {perc_person}% of total users')"
   ]
  },
  {
   "cell_type": "code",
   "execution_count": 8,
   "metadata": {},
   "outputs": [
    {
     "data": {
      "image/png": "[encoded data removed]",
      "text/plain": [
       "<Figure size 720x360 with 1 Axes>"
      ]
     },
     "metadata": {
      "needs_background": "light"
     },
     "output_type": "display_data"
    }
   ],
   "source": [
    "fig = plt.figure(figsize=(10, 5))\n",
    "ax = fig.add_subplot(111)\n",
    "ax.bar(np.arange(2), np.asarray([total_person, total_bots])*(100/total_users))\n",
    "ax.set_xticks(np.arange(2))\n",
    "ax.set_xticklabels(['person', 'bots'])\n",
    "ax.set_ylabel('%')\n",
    "ax.yaxis.grid(True)\n",
    "ax.set_ylim([0,100])\n",
    "ax.set_title('Distribution of Bots')\n",
    "#plt.savefig('files/plots/tweets_division')\n",
    "plt.show()"
   ]
  },
  {
   "cell_type": "markdown",
   "metadata": {},
   "source": [
    "#### Categorie:\n",
    "- cap: probabilità condizionale che un utente con un punteggio maggiore o uguale a questo sia automatizzato (sia nella lingua dell'utente che in inglese)\n",
    "- display scores: come raw score ma con un range che va da [0,5]\n",
    "- raw scores: bot score con range che va da [0,1], sia in inglese che nella lingua dell'utente, contiene sottocategorie\n",
    "- user: Utente Twitter con informazioni sull'id, nome e lingua dedotta dalla maggioranza dei tweet\n",
    "\n",
    "#### Sottocategorie:\n",
    "- fake_follower: bot acquistati per aumentare il numero di follower\n",
    "- self_declared: bot da botwiki.org\n",
    "- astroturf: bot politici etichettati manualmente e account coinvolti in follow trains che cancellano sistematicamente i propri contenuti\n",
    "- spammer: account etichettati come spambot\n",
    "- financial: bot che usando i cashtag\n",
    "- other: vari altri bot ottenuti da annotazioni manuali, feedback degli utenti, ecc.\n",
    "\n"
   ]
  },
  {
   "cell_type": "code",
   "execution_count": 9,
   "metadata": {
    "scrolled": false
   },
   "outputs": [
    {
     "data": {
      "image/png": "[encoded data removed]",
      "text/plain": [
       "<Figure size 504x504 with 1 Axes>"
      ]
     },
     "metadata": {},
     "output_type": "display_data"
    }
   ],
   "source": [
    "a = []\n",
    "for k,v in id_issue.items():\n",
    "    for i in v:\n",
    "        a.append(i)\n",
    "a = pd.Series(a).value_counts().sort_values(ascending=False)\n",
    "plot = a.plot.pie(autopct='%1.0f%%', pctdistance=1.1, labeldistance=1.4, label=\"\", figsize=(7, 7))"
   ]
  },
  {
   "cell_type": "markdown",
   "metadata": {},
   "source": [
    "# Split csv into small subfiles"
   ]
  },
  {
   "cell_type": "code",
   "execution_count": 10,
   "metadata": {},
   "outputs": [],
   "source": [
    "def split_csv(name, dim, outputname):\n",
    "    path_split = glob.glob(\"C:/Users/Gianluca/Desktop/Supsi/Git/BachelorProject/to_be_scored/*.csv\")\n",
    "    for i in range(len(path_split)):\n",
    "        if name in path_split[i]:\n",
    "            df = pd.read_csv(path_split[i])\n",
    "    file_len = len(df)\n",
    "    filename = 'C:/Users/Gianluca/Desktop/provascript/' + str(outputname)\n",
    "    n = 1\n",
    "    for i in range(file_len):\n",
    "        if i % dim == 0:\n",
    "            sf = (df[i:i+dim])\n",
    "            sf.to_csv(f'{filename}_{n}.csv', index=False)\n",
    "            n += 1"
   ]
  }
 ],
 "metadata": {
  "kernelspec": {
   "display_name": "Python 3",
   "language": "python",
   "name": "python3"
  },
  "language_info": {
   "codemirror_mode": {
    "name": "ipython",
    "version": 3
   },
   "file_extension": ".py",
   "mimetype": "text/x-python",
   "name": "python",
   "nbconvert_exporter": "python",
   "pygments_lexer": "ipython3",
   "version": "3.8.5"
  }
 },
 "nbformat": 4,
 "nbformat_minor": 4
}
