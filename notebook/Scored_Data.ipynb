{
 "cells": [
  {
   "cell_type": "markdown",
   "metadata": {},
   "source": [
    "## Import"
   ]
  },
  {
   "cell_type": "code",
   "execution_count": 1,
   "metadata": {},
   "outputs": [
    {
     "data": {
      "application/javascript": [
       "IPython.notebook.set_autosave_interval(3600000)"
      ]
     },
     "metadata": {},
     "output_type": "display_data"
    },
    {
     "name": "stdout",
     "output_type": "stream",
     "text": [
      "Autosaving every 3600 seconds\n"
     ]
    }
   ],
   "source": [
    "import pandas as pd\n",
    "import numpy as np\n",
    "import warnings\n",
    "warnings.filterwarnings('ignore')\n",
    "import time\n",
    "from time import perf_counter\n",
    "import glob\n",
    "import json\n",
    "import matplotlib.pyplot as plt\n",
    "%autosave 3600"
   ]
  },
  {
   "cell_type": "markdown",
   "metadata": {},
   "source": [
    "# Indice\n",
    "\n",
    "- [Score study](#score_s)\n",
    "- [Score distribution](#score_d)\n",
    "- [Bot distribution](#bot_d)\n",
    "- [Bot category](#bot_c)\n",
    "- [Utils](#utils)"
   ]
  },
  {
   "cell_type": "code",
   "execution_count": 2,
   "metadata": {},
   "outputs": [
    {
     "data": {
      "text/plain": [
       "['C:/Users/Gianluca/Desktop/provascript\\\\score_results_Original_1_2500.json',\n",
       " 'C:/Users/Gianluca/Desktop/provascript\\\\score_results_prova.json']"
      ]
     },
     "execution_count": 2,
     "metadata": {},
     "output_type": "execute_result"
    }
   ],
   "source": [
    "path = glob.glob('C:/Users/Gianluca/Desktop/provascript/*.json')\n",
    "path"
   ]
  },
  {
   "cell_type": "markdown",
   "metadata": {},
   "source": [
    "## Score study\n",
    "<a id='score_s'></a>"
   ]
  },
  {
   "cell_type": "code",
   "execution_count": 60,
   "metadata": {},
   "outputs": [],
   "source": [
    "threshold = 0.3\n",
    "id_issue = dict()\n",
    "list_raws = []\n",
    "total_users = 0\n",
    "total_bots = 0\n",
    "total_person = 0\n",
    "bots = []\n",
    "num_err = 0\n",
    "score_distribution = []"
   ]
  },
  {
   "cell_type": "code",
   "execution_count": 61,
   "metadata": {},
   "outputs": [],
   "source": [
    "def convert(list):\n",
    "    return tuple(list)"
   ]
  },
  {
   "cell_type": "code",
   "execution_count": 62,
   "metadata": {
    "scrolled": true
   },
   "outputs": [],
   "source": [
    "import json\n",
    "  \n",
    "f = open(path[0],)\n",
    "data = json.load(f)\n",
    "\n",
    "for i in data:\n",
    "    obj = data[i]\n",
    "    id_user = obj[\"id\"]\n",
    "    screen_name = obj[\"screen_name\"]\n",
    "    score = obj[\"scores\"]\n",
    "#     print(type(score))\n",
    "    if((score is None) or (\"error\" in score)):\n",
    "        num_err = num_err + 1\n",
    "    else:\n",
    "        raw = score[\"raw_scores\"]\n",
    "        raw_universal = raw[\"universal\"]\n",
    "        list_tuple = []\n",
    "        list_raws = list(raw_universal.keys())\n",
    "        list_raws.pop(4) # remove overall in process\n",
    "        for j in list_raws:\n",
    "            score_distribution.append(raw_universal[j])\n",
    "            if raw_universal[j] >= threshold:\n",
    "                list_tuple.append(j)\n",
    "                bots.append((id_user, screen_name))\n",
    "        id_issue[str(i)] = convert(list_tuple)\n",
    "f.close()\n",
    "bots = list(set(bots))"
   ]
  },
  {
   "cell_type": "markdown",
   "metadata": {},
   "source": [
    "## Score distribution\n",
    "<a id='score_d'></a>"
   ]
  },
  {
   "cell_type": "code",
   "execution_count": 63,
   "metadata": {},
   "outputs": [
    {
     "data": {
      "text/plain": [
       "Text(0, 0.5, 'Number of score')"
      ]
     },
     "execution_count": 63,
     "metadata": {},
     "output_type": "execute_result"
    },
    {
     "data": {
      "image/png": "[encoded data removed]",
      "text/plain": [
       "<Figure size 432x288 with 1 Axes>"
      ]
     },
     "metadata": {
      "needs_background": "light"
     },
     "output_type": "display_data"
    }
   ],
   "source": [
    "import matplotlib.pyplot as plt\n",
    "import seaborn as sns\n",
    "\n",
    "# matplotlib histogram\n",
    "plt.hist(score_distribution, color = 'blue', edgecolor = 'black',\n",
    "         bins = int(180/5))\n",
    "\n",
    "# seaborn histogram\n",
    "sns.distplot(score_distribution, hist=True, kde=False, \n",
    "             bins=int(180/5), color = 'blue',\n",
    "             hist_kws={'edgecolor':'black'})\n",
    "# Add labels\n",
    "plt.title('Score Distribution')\n",
    "plt.xlabel('Score')\n",
    "plt.ylabel('Number of score')"
   ]
  },
  {
   "cell_type": "markdown",
   "metadata": {},
   "source": [
    "## Bot distribution\n",
    "<a id='bot_d'></a>"
   ]
  },
  {
   "cell_type": "code",
   "execution_count": 64,
   "metadata": {},
   "outputs": [],
   "source": [
    "for i in id_issue.keys():\n",
    "    total_users = total_users + 1 \n",
    "    if len(id_issue[i]) > 0:\n",
    "        total_bots = total_bots + 1\n",
    "    else:\n",
    "        total_person = total_person + 1"
   ]
  },
  {
   "cell_type": "code",
   "execution_count": 65,
   "metadata": {
    "scrolled": true
   },
   "outputs": [
    {
     "name": "stdout",
     "output_type": "stream",
     "text": [
      "Number of total users: 2423\n",
      "Number of bots: 2383\n",
      "Number of person: 40\n",
      "Perc of bots: 98.35% of total users\n",
      "Perc of person: 1.65% of total users\n"
     ]
    }
   ],
   "source": [
    "print(f'Number of total users: {total_users}')\n",
    "print(f'Number of bots: {total_bots}')\n",
    "print(f'Number of person: {total_person}')\n",
    "\n",
    "perc_bot = np.around(total_bots*100/total_users,2)\n",
    "perc_person = np.around(total_person*100/total_users,2)\n",
    "print(f'Perc of bots: {perc_bot}% of total users')\n",
    "print(f'Perc of person: {perc_person}% of total users')"
   ]
  },
  {
   "cell_type": "code",
   "execution_count": 66,
   "metadata": {},
   "outputs": [
    {
     "data": {
      "image/png": "[encoded data removed]",
      "text/plain": [
       "<Figure size 720x360 with 1 Axes>"
      ]
     },
     "metadata": {
      "needs_background": "light"
     },
     "output_type": "display_data"
    }
   ],
   "source": [
    "fig = plt.figure(figsize=(10, 5))\n",
    "ax = fig.add_subplot(111)\n",
    "ax.bar(np.arange(2), np.asarray([total_person, total_bots])*(100/total_users))\n",
    "ax.set_xticks(np.arange(2))\n",
    "ax.set_xticklabels(['person', 'bots'])\n",
    "ax.set_ylabel('%')\n",
    "ax.yaxis.grid(True)\n",
    "ax.set_ylim([0,100])\n",
    "ax.set_title('Distribution of Bots')\n",
    "#plt.savefig('files/plots/tweets_division')\n",
    "plt.show()"
   ]
  },
  {
   "cell_type": "markdown",
   "metadata": {},
   "source": [
    "## Bot category\n",
    "<a id='bot_c'></a>"
   ]
  },
  {
   "cell_type": "markdown",
   "metadata": {},
   "source": [
    "#### Categorie:\n",
    "- cap: probabilità condizionale che un utente con un punteggio maggiore o uguale a questo sia automatizzato (sia nella lingua dell'utente che in inglese)\n",
    "- display scores: come raw score ma con un range che va da [0,5]\n",
    "- raw scores: bot score con range che va da [0,1], sia in inglese che nella lingua dell'utente, contiene sottocategorie\n",
    "- user: Utente Twitter con informazioni sull'id, nome e lingua dedotta dalla maggioranza dei tweet\n",
    "\n",
    "#### Sottocategorie:\n",
    "- fake_follower: bot acquistati per aumentare il numero di follower\n",
    "- self_declared: bot da botwiki.org\n",
    "- astroturf: bot politici etichettati manualmente e account coinvolti in follow trains che cancellano sistematicamente i propri contenuti\n",
    "- spammer: account etichettati come spambot\n",
    "- financial: bot che usando i cashtag\n",
    "- other: vari altri bot ottenuti da annotazioni manuali, feedback degli utenti, ecc.\n",
    "\n"
   ]
  },
  {
   "cell_type": "code",
   "execution_count": 67,
   "metadata": {
    "scrolled": false
   },
   "outputs": [
    {
     "data": {
      "image/png": "[encoded data removed]",
      "text/plain": [
       "<Figure size 504x504 with 1 Axes>"
      ]
     },
     "metadata": {},
     "output_type": "display_data"
    }
   ],
   "source": [
    "a = []\n",
    "for k,v in id_issue.items():\n",
    "    for i in v:\n",
    "        a.append(i)\n",
    "a = pd.Series(a).value_counts().sort_values(ascending=False)\n",
    "plot = a.plot.pie(autopct='%1.0f%%', pctdistance=1.1, labeldistance=1.4, label=\"\", figsize=(7, 7))"
   ]
  },
  {
   "cell_type": "markdown",
   "metadata": {},
   "source": [
    "# Utils\n",
    "<a id='utils'></a>"
   ]
  },
  {
   "cell_type": "markdown",
   "metadata": {},
   "source": [
    "# Split csv into small subfiles"
   ]
  },
  {
   "cell_type": "code",
   "execution_count": 10,
   "metadata": {},
   "outputs": [],
   "source": [
    "def split_csv(name, dim, outputname):\n",
    "    path_split = glob.glob(\"C:/Users/Gianluca/Desktop/Supsi/Git/BachelorProject/to_be_scored/*.csv\")\n",
    "    for i in range(len(path_split)):\n",
    "        if name in path_split[i]:\n",
    "            df = pd.read_csv(path_split[i])\n",
    "    file_len = len(df)\n",
    "    filename = 'C:/Users/Gianluca/Desktop/provascript/' + str(outputname)\n",
    "    n = 1\n",
    "    for i in range(file_len):\n",
    "        if i % dim == 0:\n",
    "            sf = (df[i:i+dim])\n",
    "            sf.to_csv(f'{filename}_{n}.csv', index=False)\n",
    "            n += 1"
   ]
  }
 ],
 "metadata": {
  "kernelspec": {
   "display_name": "Python 3",
   "language": "python",
   "name": "python3"
  },
  "language_info": {
   "codemirror_mode": {
    "name": "ipython",
    "version": 3
   },
   "file_extension": ".py",
   "mimetype": "text/x-python",
   "name": "python",
   "nbconvert_exporter": "python",
   "pygments_lexer": "ipython3",
   "version": "3.8.5"
  }
 },
 "nbformat": 4,
 "nbformat_minor": 4
}
