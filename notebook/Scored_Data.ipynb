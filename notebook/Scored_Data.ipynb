{
 "cells": [
  {
   "cell_type": "markdown",
   "metadata": {},
   "source": [
    "## Import"
   ]
  },
  {
   "cell_type": "code",
   "execution_count": 1,
   "metadata": {},
   "outputs": [
    {
     "data": {
      "application/javascript": [
       "IPython.notebook.set_autosave_interval(3600000)"
      ]
     },
     "metadata": {},
     "output_type": "display_data"
    },
    {
     "name": "stdout",
     "output_type": "stream",
     "text": [
      "Autosaving every 3600 seconds\n"
     ]
    }
   ],
   "source": [
    "import pandas as pd\n",
    "import numpy as np\n",
    "import warnings\n",
    "warnings.filterwarnings('ignore')\n",
    "import time\n",
    "from time import perf_counter\n",
    "import glob\n",
    "import json\n",
    "import matplotlib.pyplot as plt\n",
    "import plotly.express as px\n",
    "from matplotlib.pyplot import figure\n",
    "%autosave 3600"
   ]
  },
  {
   "cell_type": "markdown",
   "metadata": {},
   "source": [
    "# Indice\n",
    "\n",
    "- [Score study](#score_s)\n",
    "- [Distribution of CAP score](#cap_score)\n",
    "- [Bot study](#bot_study)\n",
    "- [Bot distribution](#bot_d)\n",
    "- [Bot category](#bot_c)\n",
    "- [Utils](#utils)"
   ]
  },
  {
   "cell_type": "code",
   "execution_count": 2,
   "metadata": {},
   "outputs": [
    {
     "data": {
      "text/plain": [
       "['C:/Users/Gianluca/Desktop/Supsi/Git/BachelorProject/json_scored\\\\score_results_original_1.json',\n",
       " 'C:/Users/Gianluca/Desktop/Supsi/Git/BachelorProject/json_scored\\\\score_results_original_2.json',\n",
       " 'C:/Users/Gianluca/Desktop/Supsi/Git/BachelorProject/json_scored\\\\score_results_replied_1.json',\n",
       " 'C:/Users/Gianluca/Desktop/Supsi/Git/BachelorProject/json_scored\\\\score_results_replied_2.json',\n",
       " 'C:/Users/Gianluca/Desktop/Supsi/Git/BachelorProject/json_scored\\\\score_results_reply_1.json',\n",
       " 'C:/Users/Gianluca/Desktop/Supsi/Git/BachelorProject/json_scored\\\\score_results_reply_2.json',\n",
       " 'C:/Users/Gianluca/Desktop/Supsi/Git/BachelorProject/json_scored\\\\score_results_retweeted_1.json',\n",
       " 'C:/Users/Gianluca/Desktop/Supsi/Git/BachelorProject/json_scored\\\\score_results_retweet_1.json']"
      ]
     },
     "execution_count": 2,
     "metadata": {},
     "output_type": "execute_result"
    }
   ],
   "source": [
    "path = glob.glob('C:/Users/Gianluca/Desktop/Supsi/Git/BachelorProject/json_scored/*.json')\n",
    "path"
   ]
  },
  {
   "cell_type": "markdown",
   "metadata": {},
   "source": [
    "## Score study\n",
    "<a id='score_s'></a>"
   ]
  },
  {
   "cell_type": "code",
   "execution_count": 3,
   "metadata": {},
   "outputs": [],
   "source": [
    "def convert(list):\n",
    "    return tuple(list)"
   ]
  },
  {
   "cell_type": "code",
   "execution_count": 4,
   "metadata": {},
   "outputs": [],
   "source": [
    "def calculate_scores(data):\n",
    "    list_score = []\n",
    "    value_error = 0\n",
    "    for i in data:\n",
    "        obj = data[i]\n",
    "        scores = obj[\"scores\"]\n",
    "        if((scores is None) or (\"error\" in scores)):\n",
    "            value_error = value_error + 1\n",
    "        else:\n",
    "            cap = scores[\"cap\"]\n",
    "            eng_score = cap[\"english\"]\n",
    "            list_score.append(eng_score)\n",
    "    print(f\"Errors: {value_error}\")\n",
    "    return list_score"
   ]
  },
  {
   "cell_type": "code",
   "execution_count": 5,
   "metadata": {},
   "outputs": [],
   "source": [
    "def type_of_bot(merged_json, i):\n",
    "    x = merged_json[i]['scores']['raw_scores']['english']\n",
    "    x.pop('overall')\n",
    "    list_raws = list(x.keys())\n",
    "    value = 0\n",
    "    index = \"\"\n",
    "    for j in list_raws:\n",
    "        if x[j] >= value:\n",
    "            value = x[j]\n",
    "            index = j\n",
    "    return (merged_json[i][\"screen_name\"], index)"
   ]
  },
  {
   "cell_type": "code",
   "execution_count": 6,
   "metadata": {},
   "outputs": [],
   "source": [
    "num_err = 0\n",
    "list_human = []\n",
    "list_bot = []\n",
    "bot_type = []\n",
    "error_list = []\n",
    "file_score = []"
   ]
  },
  {
   "cell_type": "code",
   "execution_count": 7,
   "metadata": {},
   "outputs": [
    {
     "name": "stdout",
     "output_type": "stream",
     "text": [
      "Errors: 35026\n"
     ]
    }
   ],
   "source": [
    "for i in range(len(path)):\n",
    "    value = open(path[i],)\n",
    "    data = json.load(value)\n",
    "    value.close()\n",
    "    if i == 0:\n",
    "        merged_json = data\n",
    "    else:\n",
    "        merged_json.update(data)\n",
    "        \n",
    "box = calculate_scores(merged_json)"
   ]
  },
  {
   "cell_type": "markdown",
   "metadata": {},
   "source": [
    "### Distribution of CAP score\n",
    "<a id=\"cap_score\"/>"
   ]
  },
  {
   "cell_type": "code",
   "execution_count": 8,
   "metadata": {},
   "outputs": [
    {
     "data": {
      "text/html": [
       "\n",
       "<style>\n",
       ".output_png {\n",
       "    display: table-cell;\n",
       "    text-align: center;\n",
       "    vertical-align: middle;\n",
       "}\n",
       "</style>\n"
      ],
      "text/plain": [
       "<IPython.core.display.HTML object>"
      ]
     },
     "execution_count": 8,
     "metadata": {},
     "output_type": "execute_result"
    }
   ],
   "source": [
    "from IPython.core.display import HTML\n",
    "HTML(\"\"\"\n",
    "<style>\n",
    ".output_png {\n",
    "    display: table-cell;\n",
    "    text-align: center;\n",
    "    vertical-align: middle;\n",
    "}\n",
    "</style>\n",
    "\"\"\")"
   ]
  },
  {
   "cell_type": "code",
   "execution_count": 9,
   "metadata": {},
   "outputs": [
    {
     "name": "stdout",
     "output_type": "stream",
     "text": [
      "[0.3912159239072283, 0.6414184221423734, 0.7920317685697057, 0.8076035454448582, 0.8670116134145492]\n"
     ]
    },
    {
     "data": {
      "image/png": "[encoded data removed]",
      "text/plain": [
       "<Figure size 432x288 with 1 Axes>"
      ]
     },
     "metadata": {
      "needs_background": "light"
     },
     "output_type": "display_data"
    }
   ],
   "source": [
    "index = [10, 25, 50, 75, 90]\n",
    "perc_numpy = [np.percentile(box, i, interpolation='nearest') for i in index]\n",
    "print(perc_numpy)\n",
    "treshold_human = perc_numpy[0] \n",
    "treshold_bot = perc_numpy[4]\n",
    "# # Plotting\n",
    "plt.hist(box, 50)\n",
    "for i in range(len(index)):\n",
    "    plt.axvline(perc_numpy[i], color='r')\n",
    "plt.show()"
   ]
  },
  {
   "cell_type": "code",
   "execution_count": 16,
   "metadata": {},
   "outputs": [],
   "source": [
    "# fig = px.histogram(box, title=\"Distribution of CAP score\")\n",
    "# fig.show()"
   ]
  },
  {
   "cell_type": "code",
   "execution_count": 17,
   "metadata": {},
   "outputs": [],
   "source": [
    "# fig = px.box(box, title=\"Boxplt CAP score\")\n",
    "# fig.show()"
   ]
  },
  {
   "cell_type": "markdown",
   "metadata": {},
   "source": [
    "### Bot study\n",
    "<a id=\"bot_study\"/>"
   ]
  },
  {
   "cell_type": "code",
   "execution_count": 12,
   "metadata": {
    "scrolled": true
   },
   "outputs": [],
   "source": [
    "for i in merged_json:\n",
    "    obj = merged_json[i]\n",
    "    id_user = obj[\"id\"]\n",
    "    screen_name = obj[\"screen_name\"]\n",
    "    scores = obj[\"scores\"]\n",
    "    if((scores is None) or (\"error\" in scores)):\n",
    "        error_list.append((scores, i))\n",
    "    else:\n",
    "        cap = scores[\"cap\"]\n",
    "        eng_score = cap[\"english\"]\n",
    "        file_score.append((screen_name, eng_score))\n",
    "        if(eng_score <= treshold_human):\n",
    "            list_human.append((id_user, screen_name))\n",
    "        elif(eng_score >= treshold_bot):\n",
    "            list_bot.append((id_user, screen_name))\n",
    "            bot_type.append(type_of_bot(merged_json, i))"
   ]
  },
  {
   "cell_type": "code",
   "execution_count": 13,
   "metadata": {},
   "outputs": [
    {
     "data": {
      "text/plain": [
       "30616"
      ]
     },
     "execution_count": 13,
     "metadata": {},
     "output_type": "execute_result"
    }
   ],
   "source": [
    "len(file_score)"
   ]
  },
  {
   "cell_type": "markdown",
   "metadata": {},
   "source": [
    "### Bot distribution\n",
    "<a id='bot_d'></a>"
   ]
  },
  {
   "cell_type": "code",
   "execution_count": 14,
   "metadata": {
    "scrolled": true
   },
   "outputs": [
    {
     "name": "stdout",
     "output_type": "stream",
     "text": [
      "Number of total users: 65642\n",
      "Number of bots: 3151\n",
      "Number of person: 3274\n",
      "Perc of bots: 4.8% of total users\n",
      "Perc of person: 4.99% of total users\n"
     ]
    }
   ],
   "source": [
    "total_users = len(merged_json)\n",
    "total_bots = len(list_bot)\n",
    "total_human = len(list_human)\n",
    "print(f'Number of total users: {total_users}')\n",
    "print(f'Number of bots: {total_bots}')\n",
    "print(f'Number of person: {total_human}')\n",
    "\n",
    "perc_bot = np.around(total_bots*100/total_users,2)\n",
    "perc_person = np.around(total_human*100/total_users,2)\n",
    "print(f'Perc of bots: {perc_bot}% of total users')\n",
    "print(f'Perc of person: {perc_person}% of total users')"
   ]
  },
  {
   "cell_type": "markdown",
   "metadata": {},
   "source": [
    "### Bot category\n",
    "<a id='bot_c'></a>"
   ]
  },
  {
   "cell_type": "markdown",
   "metadata": {},
   "source": [
    "#### Categorie:\n",
    "- cap: probabilità condizionale che un utente con un punteggio maggiore o uguale a questo sia automatizzato (sia nella lingua dell'utente che in inglese)\n",
    "- display scores: come raw score ma con un range che va da [0,5]\n",
    "- raw scores: bot score con range che va da [0,1], sia in inglese che nella lingua dell'utente, contiene sottocategorie\n",
    "- user: Utente Twitter con informazioni sull'id, nome e lingua dedotta dalla maggioranza dei tweet\n",
    "\n",
    "#### Sottocategorie:\n",
    "- fake_follower: bot acquistati per aumentare il numero di follower\n",
    "- self_declared: bot da botwiki.org\n",
    "- astroturf: bot politici etichettati manualmente e account coinvolti in follow trains che cancellano sistematicamente i propri contenuti\n",
    "- spammer: account etichettati come spambot\n",
    "- financial: bot che usando i cashtag\n",
    "- other: vari altri bot ottenuti da annotazioni manuali, feedback degli utenti, ecc.\n",
    "\n"
   ]
  },
  {
   "cell_type": "code",
   "execution_count": 15,
   "metadata": {},
   "outputs": [
    {
     "data": {
      "image/png": "[encoded data removed]",
      "text/plain": [
       "<Figure size 504x504 with 1 Axes>"
      ]
     },
     "metadata": {},
     "output_type": "display_data"
    }
   ],
   "source": [
    "plot = []\n",
    "for i in range(len(bot_type)):\n",
    "    plot.append(bot_type[i][1])\n",
    "a = pd.Series(plot).value_counts().sort_values(ascending=False)\n",
    "plot = a.plot.pie(autopct='%1.0f%%', pctdistance=1.1, labeldistance=1.4, label=\"\", figsize=(7, 7))"
   ]
  },
  {
   "cell_type": "code",
   "execution_count": 54,
   "metadata": {},
   "outputs": [
    {
     "data": {
      "text/html": [
       "<div>\n",
       "<style scoped>\n",
       "    .dataframe tbody tr th:only-of-type {\n",
       "        vertical-align: middle;\n",
       "    }\n",
       "\n",
       "    .dataframe tbody tr th {\n",
       "        vertical-align: top;\n",
       "    }\n",
       "\n",
       "    .dataframe thead th {\n",
       "        text-align: right;\n",
       "    }\n",
       "</style>\n",
       "<table border=\"1\" class=\"dataframe\">\n",
       "  <thead>\n",
       "    <tr style=\"text-align: right;\">\n",
       "      <th></th>\n",
       "      <th>id</th>\n",
       "      <th>user</th>\n",
       "    </tr>\n",
       "  </thead>\n",
       "  <tbody>\n",
       "    <tr>\n",
       "      <th>0</th>\n",
       "      <td>1252818873578975232</td>\n",
       "      <td>matomecorona</td>\n",
       "    </tr>\n",
       "    <tr>\n",
       "      <th>1</th>\n",
       "      <td>1239490346691760128</td>\n",
       "      <td>Host24Space</td>\n",
       "    </tr>\n",
       "    <tr>\n",
       "      <th>2</th>\n",
       "      <td>1238684966063501313</td>\n",
       "      <td>CoronaVirusNFO</td>\n",
       "    </tr>\n",
       "    <tr>\n",
       "      <th>3</th>\n",
       "      <td>1203462567861084160</td>\n",
       "      <td>naija_reports</td>\n",
       "    </tr>\n",
       "    <tr>\n",
       "      <th>4</th>\n",
       "      <td>1245483551749005312</td>\n",
       "      <td>FR24NewsFrance</td>\n",
       "    </tr>\n",
       "    <tr>\n",
       "      <th>...</th>\n",
       "      <td>...</td>\n",
       "      <td>...</td>\n",
       "    </tr>\n",
       "    <tr>\n",
       "      <th>3146</th>\n",
       "      <td>2937491779</td>\n",
       "      <td>MARIASILVIAARM2</td>\n",
       "    </tr>\n",
       "    <tr>\n",
       "      <th>3147</th>\n",
       "      <td>2459302512</td>\n",
       "      <td>mickivoss</td>\n",
       "    </tr>\n",
       "    <tr>\n",
       "      <th>3148</th>\n",
       "      <td>1088122630471847937</td>\n",
       "      <td>Diana_Chumley</td>\n",
       "    </tr>\n",
       "    <tr>\n",
       "      <th>3149</th>\n",
       "      <td>1021753060585078789</td>\n",
       "      <td>hushnowlilbaby</td>\n",
       "    </tr>\n",
       "    <tr>\n",
       "      <th>3150</th>\n",
       "      <td>421229385</td>\n",
       "      <td>claudiapoindex2</td>\n",
       "    </tr>\n",
       "  </tbody>\n",
       "</table>\n",
       "<p>3151 rows × 2 columns</p>\n",
       "</div>"
      ],
      "text/plain": [
       "                       id             user\n",
       "0     1252818873578975232     matomecorona\n",
       "1     1239490346691760128      Host24Space\n",
       "2     1238684966063501313   CoronaVirusNFO\n",
       "3     1203462567861084160    naija_reports\n",
       "4     1245483551749005312   FR24NewsFrance\n",
       "...                   ...              ...\n",
       "3146           2937491779  MARIASILVIAARM2\n",
       "3147           2459302512        mickivoss\n",
       "3148  1088122630471847937    Diana_Chumley\n",
       "3149  1021753060585078789   hushnowlilbaby\n",
       "3150            421229385  claudiapoindex2\n",
       "\n",
       "[3151 rows x 2 columns]"
      ]
     },
     "execution_count": 54,
     "metadata": {},
     "output_type": "execute_result"
    }
   ],
   "source": [
    "df_bot = pd.DataFrame(list_bot, columns =['id','user'])\n",
    "df_bot"
   ]
  },
  {
   "cell_type": "code",
   "execution_count": 55,
   "metadata": {},
   "outputs": [
    {
     "data": {
      "text/html": [
       "<div>\n",
       "<style scoped>\n",
       "    .dataframe tbody tr th:only-of-type {\n",
       "        vertical-align: middle;\n",
       "    }\n",
       "\n",
       "    .dataframe tbody tr th {\n",
       "        vertical-align: top;\n",
       "    }\n",
       "\n",
       "    .dataframe thead th {\n",
       "        text-align: right;\n",
       "    }\n",
       "</style>\n",
       "<table border=\"1\" class=\"dataframe\">\n",
       "  <thead>\n",
       "    <tr style=\"text-align: right;\">\n",
       "      <th></th>\n",
       "      <th>user</th>\n",
       "      <th>score</th>\n",
       "    </tr>\n",
       "  </thead>\n",
       "  <tbody>\n",
       "    <tr>\n",
       "      <th>0</th>\n",
       "      <td>matomecorona</td>\n",
       "      <td>0.930754</td>\n",
       "    </tr>\n",
       "    <tr>\n",
       "      <th>1</th>\n",
       "      <td>TomthunkitsMind</td>\n",
       "      <td>0.796637</td>\n",
       "    </tr>\n",
       "    <tr>\n",
       "      <th>2</th>\n",
       "      <td>Host24Space</td>\n",
       "      <td>0.937364</td>\n",
       "    </tr>\n",
       "    <tr>\n",
       "      <th>3</th>\n",
       "      <td>CoronaVirusNFO</td>\n",
       "      <td>0.899551</td>\n",
       "    </tr>\n",
       "    <tr>\n",
       "      <th>4</th>\n",
       "      <td>Dooiz1</td>\n",
       "      <td>0.799836</td>\n",
       "    </tr>\n",
       "    <tr>\n",
       "      <th>...</th>\n",
       "      <td>...</td>\n",
       "      <td>...</td>\n",
       "    </tr>\n",
       "    <tr>\n",
       "      <th>30611</th>\n",
       "      <td>claudiapoindex2</td>\n",
       "      <td>0.937364</td>\n",
       "    </tr>\n",
       "    <tr>\n",
       "      <th>30612</th>\n",
       "      <td>kitty201718</td>\n",
       "      <td>0.775989</td>\n",
       "    </tr>\n",
       "    <tr>\n",
       "      <th>30613</th>\n",
       "      <td>hauntedpixie1</td>\n",
       "      <td>0.785221</td>\n",
       "    </tr>\n",
       "    <tr>\n",
       "      <th>30614</th>\n",
       "      <td>foxylad95283351</td>\n",
       "      <td>0.705338</td>\n",
       "    </tr>\n",
       "    <tr>\n",
       "      <th>30615</th>\n",
       "      <td>WhighamPhoto</td>\n",
       "      <td>0.754622</td>\n",
       "    </tr>\n",
       "  </tbody>\n",
       "</table>\n",
       "<p>30616 rows × 2 columns</p>\n",
       "</div>"
      ],
      "text/plain": [
       "                  user     score\n",
       "0         matomecorona  0.930754\n",
       "1      TomthunkitsMind  0.796637\n",
       "2          Host24Space  0.937364\n",
       "3       CoronaVirusNFO  0.899551\n",
       "4               Dooiz1  0.799836\n",
       "...                ...       ...\n",
       "30611  claudiapoindex2  0.937364\n",
       "30612      kitty201718  0.775989\n",
       "30613    hauntedpixie1  0.785221\n",
       "30614  foxylad95283351  0.705338\n",
       "30615     WhighamPhoto  0.754622\n",
       "\n",
       "[30616 rows x 2 columns]"
      ]
     },
     "execution_count": 55,
     "metadata": {},
     "output_type": "execute_result"
    }
   ],
   "source": [
    "df_score = pd.DataFrame(file_score, columns =['user','score'])\n",
    "df_score"
   ]
  },
  {
   "cell_type": "code",
   "execution_count": 56,
   "metadata": {},
   "outputs": [],
   "source": [
    "path = glob.glob(\"C:/Users/Gianluca/Desktop/Supsi/Git/BachelorProject/\")\n",
    "df_bot.to_csv(path[0] + \"csv/bot_score.csv\", index=False)\n",
    "df_score.to_csv(path[0] + \"large_files/user_score.csv\", index=False)"
   ]
  },
  {
   "cell_type": "markdown",
   "metadata": {},
   "source": [
    "# Utils\n",
    "<a id='utils'></a>"
   ]
  },
  {
   "cell_type": "markdown",
   "metadata": {},
   "source": [
    "### Split csv into small subfiles"
   ]
  },
  {
   "cell_type": "code",
   "execution_count": null,
   "metadata": {},
   "outputs": [],
   "source": [
    "path_split = glob.glob(\"C:/Users/Gianluca/Desktop/Supsi/Git/BachelorProject/to_be_scored/*.csv\")\n",
    "\n",
    "df = pd.read_csv(path_split[3])\n",
    "file_len = len(df)\n",
    "outputname = \"retweet\" \n",
    "filename = 'C:/Users/Gianluca/Desktop/provascript/' + str(outputname)\n",
    "n = 1\n",
    "dim = 2500\n",
    "for i in range(file_len):\n",
    "    if i % dim == 0:\n",
    "        sf = (df[i:i+dim])\n",
    "        sf.to_csv(f'{filename}_{n}.csv', index=False)\n",
    "        n += 1"
   ]
  },
  {
   "cell_type": "code",
   "execution_count": null,
   "metadata": {},
   "outputs": [],
   "source": [
    "def split_csv(name, dim, outputname):\n",
    "    path_split = glob.glob(\"C:/Users/Gianluca/Desktop/Supsi/Git/BachelorProject/to_be_scored/*.csv\")\n",
    "    for i in range(len(path_split)):\n",
    "        if name in path_split[i]:\n",
    "            df = pd.read_csv(path_split[i])\n",
    "    file_len = len(df)\n",
    "    filename = 'C:/Users/Gianluca/Desktop/provascript/' + str(outputname)\n",
    "    n = 1\n",
    "    for i in range(file_len):\n",
    "        if i % dim == 0:\n",
    "            sf = (df[i:i+dim])\n",
    "            sf.to_csv(f'{filename}_{n}.csv', index=False)\n",
    "            n += 1"
   ]
  }
 ],
 "metadata": {
  "kernelspec": {
   "display_name": "Python 3",
   "language": "python",
   "name": "python3"
  },
  "language_info": {
   "codemirror_mode": {
    "name": "ipython",
    "version": 3
   },
   "file_extension": ".py",
   "mimetype": "text/x-python",
   "name": "python",
   "nbconvert_exporter": "python",
   "pygments_lexer": "ipython3",
   "version": "3.8.5"
  }
 },
 "nbformat": 4,
 "nbformat_minor": 4
}
