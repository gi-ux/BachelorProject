{
 "cells": [
  {
   "cell_type": "code",
   "execution_count": 1,
   "metadata": {},
   "outputs": [
    {
     "data": {
      "application/javascript": [
       "IPython.notebook.set_autosave_interval(3600000)"
      ]
     },
     "metadata": {},
     "output_type": "display_data"
    },
    {
     "name": "stdout",
     "output_type": "stream",
     "text": [
      "Autosaving every 3600 seconds\n"
     ]
    }
   ],
   "source": [
    "import pandas as pd\n",
    "# from collections import Counter\n",
    "import numpy as np\n",
    "import matplotlib.pyplot as plt\n",
    "from matplotlib.pyplot import figure\n",
    "import datetime\n",
    "import plotly.express as px\n",
    "# import matplotlib.mlab as mlab\n",
    "# from statistics import mean\n",
    "# import pylab\n",
    "import math\n",
    "# import tweepy\n",
    "# from botometer import Botometer\n",
    "# from geopy.geocoders import Nominatim\n",
    "# geolocator = Nominatim(user_agent=\"gianluca.nogara@gmail.com\")\n",
    "import warnings\n",
    "warnings.filterwarnings('ignore')\n",
    "import time\n",
    "from time import perf_counter\n",
    "import glob\n",
    "import tweets_utils\n",
    "import csv\n",
    "import importlib\n",
    "%autosave 3600"
   ]
  },
  {
   "cell_type": "markdown",
   "metadata": {},
   "source": [
    "### Motivazioni\n",
    "<p>\n",
    "    \n",
    "    Le motivazioni per la scelta di questi 12 nuovi utenti si basa su uno studio analogo a quanto fatto per i dozen dalla CCDH.\n",
    "    \n",
    "    Dal momento che non viene specificato di quale tipo di attività sono responsabili (tweet/retweet generati) si è scelto di estrarre le gli utenti che fanno \"good information\" e sono attivi sia tra i retweettati che post originali\n",
    "    https://www.ucl.ac.uk/oppenheim/Covid-19_tweeps.shtml\n",
    "</p>"
   ]
  },
  {
   "cell_type": "markdown",
   "metadata": {},
   "source": [
    "#### Attività "
   ]
  },
  {
   "cell_type": "code",
   "execution_count": 50,
   "metadata": {},
   "outputs": [],
   "source": [
    "path = glob.glob(\"C:/Users/Gianluca/Desktop/Supsi/Git/BachelorProject/to_be_scored/\")\n",
    "path_disinform = glob.glob(\"C:/Users/Gianluca/Desktop/Supsi/Git/BachelorProject/csv/\")\n",
    "path_large_files = glob.glob(\"C:/Users/Gianluca/Desktop/Supsi/Git/BachelorProject/large_files/\")"
   ]
  },
  {
   "cell_type": "code",
   "execution_count": 68,
   "metadata": {},
   "outputs": [],
   "source": [
    "file_verified = [\"DrDenaGrayson\", \"MackayIM\", \"DrEricDing\", \"IlonaKickbusch\", \"ashishkjha\", \n",
    "                 \"HelenBranswell\", \"mlipsitch\", \"trvrb\", \"kakape\", \"edyong209\", \"CDCDirector\",\n",
    "                \"DrTedros\"]\n",
    "df = pd.read_csv(path_large_files[0] + \"ccdh/ccdh_merged_tweets_w_dates.csv\")\n",
    "df_v = pd.read_csv(path_large_files[0] + \"verified_tweets.csv\")"
   ]
  },
  {
   "cell_type": "code",
   "execution_count": 36,
   "metadata": {},
   "outputs": [
    {
     "data": {
      "text/html": [
       "<div>\n",
       "<style scoped>\n",
       "    .dataframe tbody tr th:only-of-type {\n",
       "        vertical-align: middle;\n",
       "    }\n",
       "\n",
       "    .dataframe tbody tr th {\n",
       "        vertical-align: top;\n",
       "    }\n",
       "\n",
       "    .dataframe thead th {\n",
       "        text-align: right;\n",
       "    }\n",
       "</style>\n",
       "<table border=\"1\" class=\"dataframe\">\n",
       "  <thead>\n",
       "    <tr style=\"text-align: right;\">\n",
       "      <th></th>\n",
       "      <th>id</th>\n",
       "      <th>screen_name</th>\n",
       "    </tr>\n",
       "  </thead>\n",
       "  <tbody>\n",
       "    <tr>\n",
       "      <th>3649</th>\n",
       "      <td>1124015363866484737</td>\n",
       "      <td>DrEricDing</td>\n",
       "    </tr>\n",
       "    <tr>\n",
       "      <th>7783</th>\n",
       "      <td>235332308</td>\n",
       "      <td>IlonaKickbusch</td>\n",
       "    </tr>\n",
       "    <tr>\n",
       "      <th>10928</th>\n",
       "      <td>376392888</td>\n",
       "      <td>DrTedros</td>\n",
       "    </tr>\n",
       "    <tr>\n",
       "      <th>10996</th>\n",
       "      <td>1276368350</td>\n",
       "      <td>DrDenaGrayson</td>\n",
       "    </tr>\n",
       "    <tr>\n",
       "      <th>19761</th>\n",
       "      <td>2449703372</td>\n",
       "      <td>MackayIM</td>\n",
       "    </tr>\n",
       "  </tbody>\n",
       "</table>\n",
       "</div>"
      ],
      "text/plain": [
       "                        id     screen_name\n",
       "3649   1124015363866484737      DrEricDing\n",
       "7783             235332308  IlonaKickbusch\n",
       "10928            376392888        DrTedros\n",
       "10996           1276368350   DrDenaGrayson\n",
       "19761           2449703372        MackayIM"
      ]
     },
     "execution_count": 36,
     "metadata": {},
     "output_type": "execute_result"
    }
   ],
   "source": [
    "original = pd.read_csv(path[0] + \"users_original.csv\")\n",
    "x = original[original[\"screen_name\"].isin(file_verified)]\n",
    "x"
   ]
  },
  {
   "cell_type": "code",
   "execution_count": 37,
   "metadata": {},
   "outputs": [
    {
     "data": {
      "text/html": [
       "<div>\n",
       "<style scoped>\n",
       "    .dataframe tbody tr th:only-of-type {\n",
       "        vertical-align: middle;\n",
       "    }\n",
       "\n",
       "    .dataframe tbody tr th {\n",
       "        vertical-align: top;\n",
       "    }\n",
       "\n",
       "    .dataframe thead th {\n",
       "        text-align: right;\n",
       "    }\n",
       "</style>\n",
       "<table border=\"1\" class=\"dataframe\">\n",
       "  <thead>\n",
       "    <tr style=\"text-align: right;\">\n",
       "      <th></th>\n",
       "      <th>id</th>\n",
       "      <th>screen_name</th>\n",
       "    </tr>\n",
       "  </thead>\n",
       "  <tbody>\n",
       "    <tr>\n",
       "      <th>16</th>\n",
       "      <td>1651522832</td>\n",
       "      <td>DrDenaGrayson</td>\n",
       "    </tr>\n",
       "    <tr>\n",
       "      <th>28</th>\n",
       "      <td>18831926</td>\n",
       "      <td>DrEricDing</td>\n",
       "    </tr>\n",
       "    <tr>\n",
       "      <th>53</th>\n",
       "      <td>189868631</td>\n",
       "      <td>DrTedros</td>\n",
       "    </tr>\n",
       "    <tr>\n",
       "      <th>509</th>\n",
       "      <td>224896427</td>\n",
       "      <td>trvrb</td>\n",
       "    </tr>\n",
       "    <tr>\n",
       "      <th>546</th>\n",
       "      <td>1352962327</td>\n",
       "      <td>MackayIM</td>\n",
       "    </tr>\n",
       "    <tr>\n",
       "      <th>1043</th>\n",
       "      <td>45586617</td>\n",
       "      <td>kakape</td>\n",
       "    </tr>\n",
       "    <tr>\n",
       "      <th>1590</th>\n",
       "      <td>270839361</td>\n",
       "      <td>CDCDirector</td>\n",
       "    </tr>\n",
       "    <tr>\n",
       "      <th>1825</th>\n",
       "      <td>19767193</td>\n",
       "      <td>edyong209</td>\n",
       "    </tr>\n",
       "    <tr>\n",
       "      <th>2457</th>\n",
       "      <td>2382227424</td>\n",
       "      <td>AdamJKucharski</td>\n",
       "    </tr>\n",
       "    <tr>\n",
       "      <th>2640</th>\n",
       "      <td>132349970</td>\n",
       "      <td>mlipsitch</td>\n",
       "    </tr>\n",
       "    <tr>\n",
       "      <th>5374</th>\n",
       "      <td>28838219</td>\n",
       "      <td>HelenBranswell</td>\n",
       "    </tr>\n",
       "    <tr>\n",
       "      <th>9064</th>\n",
       "      <td>1168968080690749440</td>\n",
       "      <td>ashishkjha</td>\n",
       "    </tr>\n",
       "    <tr>\n",
       "      <th>12824</th>\n",
       "      <td>2856703787</td>\n",
       "      <td>IlonaKickbusch</td>\n",
       "    </tr>\n",
       "  </tbody>\n",
       "</table>\n",
       "</div>"
      ],
      "text/plain": [
       "                        id     screen_name\n",
       "16              1651522832   DrDenaGrayson\n",
       "28                18831926      DrEricDing\n",
       "53               189868631        DrTedros\n",
       "509              224896427           trvrb\n",
       "546             1352962327        MackayIM\n",
       "1043              45586617          kakape\n",
       "1590             270839361     CDCDirector\n",
       "1825              19767193       edyong209\n",
       "2457            2382227424  AdamJKucharski\n",
       "2640             132349970       mlipsitch\n",
       "5374              28838219  HelenBranswell\n",
       "9064   1168968080690749440      ashishkjha\n",
       "12824           2856703787  IlonaKickbusch"
      ]
     },
     "execution_count": 37,
     "metadata": {},
     "output_type": "execute_result"
    }
   ],
   "source": [
    "retweet = pd.read_csv(path[0] + \"users_retweeted.csv\")\n",
    "x = retweet[retweet[\"screen_name\"].isin(file_verified)]\n",
    "x"
   ]
  },
  {
   "cell_type": "code",
   "execution_count": 47,
   "metadata": {},
   "outputs": [],
   "source": [
    "disinform = pd.read_csv(path_disinform[0] + \"disinformation_users.csv\")"
   ]
  },
  {
   "cell_type": "code",
   "execution_count": 45,
   "metadata": {},
   "outputs": [
    {
     "data": {
      "text/html": [
       "<div>\n",
       "<style scoped>\n",
       "    .dataframe tbody tr th:only-of-type {\n",
       "        vertical-align: middle;\n",
       "    }\n",
       "\n",
       "    .dataframe tbody tr th {\n",
       "        vertical-align: top;\n",
       "    }\n",
       "\n",
       "    .dataframe thead th {\n",
       "        text-align: right;\n",
       "    }\n",
       "</style>\n",
       "<table border=\"1\" class=\"dataframe\">\n",
       "  <thead>\n",
       "    <tr style=\"text-align: right;\">\n",
       "      <th></th>\n",
       "      <th>id</th>\n",
       "      <th>screen_name</th>\n",
       "    </tr>\n",
       "  </thead>\n",
       "  <tbody>\n",
       "  </tbody>\n",
       "</table>\n",
       "</div>"
      ],
      "text/plain": [
       "Empty DataFrame\n",
       "Columns: [id, screen_name]\n",
       "Index: []"
      ]
     },
     "execution_count": 45,
     "metadata": {},
     "output_type": "execute_result"
    }
   ],
   "source": [
    "x = original[original[\"screen_name\"].isin(list(disinform[\"screen_name\"]))]\n",
    "x"
   ]
  },
  {
   "cell_type": "code",
   "execution_count": 46,
   "metadata": {
    "scrolled": true
   },
   "outputs": [
    {
     "data": {
      "text/html": [
       "<div>\n",
       "<style scoped>\n",
       "    .dataframe tbody tr th:only-of-type {\n",
       "        vertical-align: middle;\n",
       "    }\n",
       "\n",
       "    .dataframe tbody tr th {\n",
       "        vertical-align: top;\n",
       "    }\n",
       "\n",
       "    .dataframe thead th {\n",
       "        text-align: right;\n",
       "    }\n",
       "</style>\n",
       "<table border=\"1\" class=\"dataframe\">\n",
       "  <thead>\n",
       "    <tr style=\"text-align: right;\">\n",
       "      <th></th>\n",
       "      <th>id</th>\n",
       "      <th>screen_name</th>\n",
       "    </tr>\n",
       "  </thead>\n",
       "  <tbody>\n",
       "    <tr>\n",
       "      <th>3264</th>\n",
       "      <td>82788234</td>\n",
       "      <td>BusyDrT</td>\n",
       "    </tr>\n",
       "    <tr>\n",
       "      <th>10170</th>\n",
       "      <td>1668298164</td>\n",
       "      <td>RobertKennedyJr</td>\n",
       "    </tr>\n",
       "    <tr>\n",
       "      <th>13229</th>\n",
       "      <td>258677084</td>\n",
       "      <td>DrButtar</td>\n",
       "    </tr>\n",
       "    <tr>\n",
       "      <th>17425</th>\n",
       "      <td>3255274460</td>\n",
       "      <td>mercola</td>\n",
       "    </tr>\n",
       "  </tbody>\n",
       "</table>\n",
       "</div>"
      ],
      "text/plain": [
       "               id      screen_name\n",
       "3264     82788234          BusyDrT\n",
       "10170  1668298164  RobertKennedyJr\n",
       "13229   258677084         DrButtar\n",
       "17425  3255274460          mercola"
      ]
     },
     "execution_count": 46,
     "metadata": {},
     "output_type": "execute_result"
    }
   ],
   "source": [
    "retweet = pd.read_csv(path[0] + \"users_retweeted.csv\")\n",
    "x = retweet[retweet[\"screen_name\"].isin(list(disinform[\"screen_name\"]))]\n",
    "x"
   ]
  },
  {
   "cell_type": "markdown",
   "metadata": {},
   "source": [
    "#### Timeline"
   ]
  },
  {
   "cell_type": "code",
   "execution_count": 69,
   "metadata": {},
   "outputs": [],
   "source": [
    "df_users_verified_info = df_v[df_v[\"user_screen_name\"].isin(file_verified)]\n",
    "df_users_verified_info[\"created_at\"]"
   ]
  },
  {
   "cell_type": "code",
   "execution_count": 65,
   "metadata": {},
   "outputs": [],
   "source": [
    "dates = df_users_verified_info[\"created_at\"].dropna()\n",
    "dates_formatted = []\n",
    "for i in dates:\n",
    "    x = i.split()[0]\n",
    "    if(\"2\" in x):\n",
    "        dates_formatted.append(x)\n",
    "    else:\n",
    "        y = tweets_utils.process_datetime(i)\n",
    "        dates_formatted.append(y)"
   ]
  },
  {
   "cell_type": "code",
   "execution_count": 1,
   "metadata": {},
   "outputs": [],
   "source": [
    "fig = px.histogram(dates_formatted)\n",
    "fig.update_layout(\n",
    "    title_text='Daily tweets from 12 \"good users\"', # title of plot\n",
    "    xaxis_title_text='Tweet', # xaxis label\n",
    "    yaxis_title_text='Count', # yaxis label\n",
    "    bargap=0.1, # gap between bars of adjacent location coordinates\n",
    "    bargroupgap=0.1 # gap between bars of the same location coordinates\n",
    ")\n",
    "fig.show()"
   ]
  },
  {
   "cell_type": "code",
   "execution_count": 70,
   "metadata": {},
   "outputs": [],
   "source": [
    "dates = df[\"created_at\"].dropna()\n",
    "dates_formatted = []\n",
    "for i in dates:\n",
    "    x = i.split()[0]\n",
    "    if(\"2\" in x):\n",
    "        dates_formatted.append(x)\n",
    "    else:\n",
    "        y = tweets_utils.process_datetime(i)\n",
    "        dates_formatted.append(y)"
   ]
  },
  {
   "cell_type": "code",
   "execution_count": 76,
   "metadata": {},
   "outputs": [],
   "source": [
    "val = []\n",
    "list_data = [\"2020-01\", \"2020-02\", \"2020-03\", \"2020-04\", \"2020-05\"]\n",
    "for i in dates_formatted:\n",
    "    z1 = i.split(\"-\")[0]\n",
    "    z2 = i.split(\"-\")[1]\n",
    "    z = z1 + \"-\" + z2\n",
    "    if (z in list_data):\n",
    "        val.append(i)"
   ]
  },
  {
   "cell_type": "code",
   "execution_count": 2,
   "metadata": {
    "scrolled": false
   },
   "outputs": [],
   "source": [
    "fig = px.histogram(val)\n",
    "fig.update_layout(\n",
    "    title_text='Daily tweets from Dozen', # title of plot\n",
    "    xaxis_title_text='Tweet', # xaxis label\n",
    "    yaxis_title_text='Count', # yaxis label\n",
    "    bargap=0.1, # gap between bars of adjacent location coordinates\n",
    "    bargroupgap=0.1 # gap between bars of the same location coordinates\n",
    ")\n",
    "fig.show()"
   ]
  }
 ],
 "metadata": {
  "kernelspec": {
   "display_name": "Python 3",
   "language": "python",
   "name": "python3"
  },
  "language_info": {
   "codemirror_mode": {
    "name": "ipython",
    "version": 3
   },
   "file_extension": ".py",
   "mimetype": "text/x-python",
   "name": "python",
   "nbconvert_exporter": "python",
   "pygments_lexer": "ipython3",
   "version": "3.8.5"
  }
 },
 "nbformat": 4,
 "nbformat_minor": 4
}
