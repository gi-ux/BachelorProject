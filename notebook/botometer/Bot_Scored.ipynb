{
 "cells": [
  {
   "cell_type": "code",
   "execution_count": 6,
   "metadata": {},
   "outputs": [
    {
     "data": {
      "application/javascript": [
       "IPython.notebook.set_autosave_interval(3600000)"
      ]
     },
     "metadata": {},
     "output_type": "display_data"
    },
    {
     "name": "stdout",
     "output_type": "stream",
     "text": [
      "Autosaving every 3600 seconds\n"
     ]
    }
   ],
   "source": [
    "import pandas as pd\n",
    "import numpy as np\n",
    "import warnings\n",
    "warnings.filterwarnings('ignore')\n",
    "import time\n",
    "from time import perf_counter\n",
    "import glob\n",
    "import json\n",
    "import matplotlib.pyplot as plt\n",
    "import plotly.express as px\n",
    "import sys\n",
    "sys.path.append('C:/Users/gianl/Desktop/Gi/Supsi/BachelorProject/notebook/tweet_utils')\n",
    "import tweets_utils\n",
    "import importlib\n",
    "from collections import Counter\n",
    "import plotly.graph_objects as go\n",
    "from tqdm.notebook import tqdm\n",
    "%autosave 3600"
   ]
  },
  {
   "cell_type": "markdown",
   "metadata": {},
   "source": [
    "# Indice\n",
    "- [Bot activity](#activity)\n",
    "- [Bot - Conspiracy score - Community](#bcc)\n",
    "- [Collecting data](#collecting)\n",
    "- [Hashtags](#hashtags)\n",
    "- [Process domain](#domain)"
   ]
  },
  {
   "cell_type": "code",
   "execution_count": 7,
   "metadata": {},
   "outputs": [],
   "source": [
    "path = glob.glob(\"F:/Supsi/COVID-19-Tweets/large_files/\")\n",
    "df = pd.read_csv(path[0] + \"bots_tweets.csv\", lineterminator=\"\\n\", low_memory=False)"
   ]
  },
  {
   "cell_type": "code",
   "execution_count": 8,
   "metadata": {},
   "outputs": [
    {
     "data": {
      "text/html": [
       "<div>\n",
       "<style scoped>\n",
       "    .dataframe tbody tr th:only-of-type {\n",
       "        vertical-align: middle;\n",
       "    }\n",
       "\n",
       "    .dataframe tbody tr th {\n",
       "        vertical-align: top;\n",
       "    }\n",
       "\n",
       "    .dataframe thead th {\n",
       "        text-align: right;\n",
       "    }\n",
       "</style>\n",
       "<table border=\"1\" class=\"dataframe\">\n",
       "  <thead>\n",
       "    <tr style=\"text-align: right;\">\n",
       "      <th></th>\n",
       "      <th>id</th>\n",
       "      <th>id_str</th>\n",
       "      <th>user_id</th>\n",
       "      <th>user_screen_name</th>\n",
       "      <th>text</th>\n",
       "      <th>in_reply_to_status_id</th>\n",
       "      <th>in_reply_to_status_id_str</th>\n",
       "      <th>in_reply_to_user_id</th>\n",
       "      <th>in_reply_to_user_id_str</th>\n",
       "      <th>in_reply_to_screen_name</th>\n",
       "      <th>...</th>\n",
       "      <th>rt_user_id</th>\n",
       "      <th>rt_user_screen_name</th>\n",
       "      <th>quoted_status_id</th>\n",
       "      <th>quoted_status_text</th>\n",
       "      <th>quoted_status_created_at</th>\n",
       "      <th>quoted_user_id</th>\n",
       "      <th>quoted_user_created_at</th>\n",
       "      <th>hashtags</th>\n",
       "      <th>user_mentions</th>\n",
       "      <th>urls</th>\n",
       "    </tr>\n",
       "  </thead>\n",
       "  <tbody>\n",
       "    <tr>\n",
       "      <th>0</th>\n",
       "      <td>1219755586272813057</td>\n",
       "      <td>1.219756e+18</td>\n",
       "      <td>8.765581e+17</td>\n",
       "      <td>Norberta36</td>\n",
       "      <td>BREAKING from @CNN - CDC expected to announce ...</td>\n",
       "      <td>NaN</td>\n",
       "      <td>NaN</td>\n",
       "      <td>NaN</td>\n",
       "      <td>NaN</td>\n",
       "      <td>NaN</td>\n",
       "      <td>...</td>\n",
       "      <td>5.820859e+07</td>\n",
       "      <td>MatthewHilk</td>\n",
       "      <td>NaN</td>\n",
       "      <td>NaN</td>\n",
       "      <td>NaN</td>\n",
       "      <td>NaN</td>\n",
       "      <td>NaN</td>\n",
       "      <td>[]</td>\n",
       "      <td>[{'screen_name': 'MatthewHilk', 'name': 'Matth...</td>\n",
       "      <td>[]</td>\n",
       "    </tr>\n",
       "    <tr>\n",
       "      <th>1</th>\n",
       "      <td>1219762670733127680</td>\n",
       "      <td>1.219763e+18</td>\n",
       "      <td>9.970908e+17</td>\n",
       "      <td>Pissed_Woman</td>\n",
       "      <td>BREAKING from @CNN - CDC expected to announce ...</td>\n",
       "      <td>NaN</td>\n",
       "      <td>NaN</td>\n",
       "      <td>NaN</td>\n",
       "      <td>NaN</td>\n",
       "      <td>NaN</td>\n",
       "      <td>...</td>\n",
       "      <td>5.820859e+07</td>\n",
       "      <td>MatthewHilk</td>\n",
       "      <td>NaN</td>\n",
       "      <td>NaN</td>\n",
       "      <td>NaN</td>\n",
       "      <td>NaN</td>\n",
       "      <td>NaN</td>\n",
       "      <td>[]</td>\n",
       "      <td>[{'screen_name': 'MatthewHilk', 'name': 'Matth...</td>\n",
       "      <td>[]</td>\n",
       "    </tr>\n",
       "    <tr>\n",
       "      <th>2</th>\n",
       "      <td>1219786815445635072</td>\n",
       "      <td>1.219787e+18</td>\n",
       "      <td>2.505330e+07</td>\n",
       "      <td>FortuneMagazine</td>\n",
       "      <td>The CDC says the deadly coronavirus from China...</td>\n",
       "      <td>NaN</td>\n",
       "      <td>NaN</td>\n",
       "      <td>NaN</td>\n",
       "      <td>NaN</td>\n",
       "      <td>NaN</td>\n",
       "      <td>...</td>\n",
       "      <td>NaN</td>\n",
       "      <td>NaN</td>\n",
       "      <td>NaN</td>\n",
       "      <td>NaN</td>\n",
       "      <td>NaN</td>\n",
       "      <td>NaN</td>\n",
       "      <td>NaN</td>\n",
       "      <td>[]</td>\n",
       "      <td>[]</td>\n",
       "      <td>[{'url': 'https://t.co/2FVgxuZqSw', 'expanded_...</td>\n",
       "    </tr>\n",
       "    <tr>\n",
       "      <th>3</th>\n",
       "      <td>1219815455759597569</td>\n",
       "      <td>1.219815e+18</td>\n",
       "      <td>4.255807e+08</td>\n",
       "      <td>jurylady5</td>\n",
       "      <td>Ahhh... the manufactured CORONAVIRUS is on its...</td>\n",
       "      <td>NaN</td>\n",
       "      <td>NaN</td>\n",
       "      <td>NaN</td>\n",
       "      <td>NaN</td>\n",
       "      <td>NaN</td>\n",
       "      <td>...</td>\n",
       "      <td>3.331666e+09</td>\n",
       "      <td>talialikeitis</td>\n",
       "      <td>NaN</td>\n",
       "      <td>NaN</td>\n",
       "      <td>NaN</td>\n",
       "      <td>NaN</td>\n",
       "      <td>NaN</td>\n",
       "      <td>[]</td>\n",
       "      <td>[{'screen_name': 'talialikeitis', 'name': 'Tal...</td>\n",
       "      <td>[]</td>\n",
       "    </tr>\n",
       "    <tr>\n",
       "      <th>4</th>\n",
       "      <td>1219843899507793920</td>\n",
       "      <td>1.219844e+18</td>\n",
       "      <td>1.009598e+18</td>\n",
       "      <td>VirginiaLoughn1</td>\n",
       "      <td>@hughhewitt While @hughhewitt celebrates the #...</td>\n",
       "      <td>NaN</td>\n",
       "      <td>NaN</td>\n",
       "      <td>NaN</td>\n",
       "      <td>NaN</td>\n",
       "      <td>NaN</td>\n",
       "      <td>...</td>\n",
       "      <td>1.468188e+09</td>\n",
       "      <td>MichaelWRader</td>\n",
       "      <td>NaN</td>\n",
       "      <td>NaN</td>\n",
       "      <td>NaN</td>\n",
       "      <td>NaN</td>\n",
       "      <td>NaN</td>\n",
       "      <td>[{'text': 'coronavirus', 'indices': [64, 76]}]</td>\n",
       "      <td>[{'screen_name': 'MichaelWRader', 'name': 'Mic...</td>\n",
       "      <td>[]</td>\n",
       "    </tr>\n",
       "    <tr>\n",
       "      <th>...</th>\n",
       "      <td>...</td>\n",
       "      <td>...</td>\n",
       "      <td>...</td>\n",
       "      <td>...</td>\n",
       "      <td>...</td>\n",
       "      <td>...</td>\n",
       "      <td>...</td>\n",
       "      <td>...</td>\n",
       "      <td>...</td>\n",
       "      <td>...</td>\n",
       "      <td>...</td>\n",
       "      <td>...</td>\n",
       "      <td>...</td>\n",
       "      <td>...</td>\n",
       "      <td>...</td>\n",
       "      <td>...</td>\n",
       "      <td>...</td>\n",
       "      <td>...</td>\n",
       "      <td>...</td>\n",
       "      <td>...</td>\n",
       "      <td>...</td>\n",
       "    </tr>\n",
       "    <tr>\n",
       "      <th>730478</th>\n",
       "      <td>1264052827548082176</td>\n",
       "      <td>1.264053e+18</td>\n",
       "      <td>1.924774e+08</td>\n",
       "      <td>Jeannie_Hartley</td>\n",
       "      <td>A deadly lesson in failed leadership: Texas le...</td>\n",
       "      <td>NaN</td>\n",
       "      <td>NaN</td>\n",
       "      <td>NaN</td>\n",
       "      <td>NaN</td>\n",
       "      <td>NaN</td>\n",
       "      <td>...</td>\n",
       "      <td>3.428633e+08</td>\n",
       "      <td>BetoORourke</td>\n",
       "      <td>NaN</td>\n",
       "      <td>NaN</td>\n",
       "      <td>NaN</td>\n",
       "      <td>NaN</td>\n",
       "      <td>NaN</td>\n",
       "      <td>[]</td>\n",
       "      <td>[{'screen_name': 'BetoORourke', 'name': \"Beto ...</td>\n",
       "      <td>[]</td>\n",
       "    </tr>\n",
       "    <tr>\n",
       "      <th>730479</th>\n",
       "      <td>1261967030674231296</td>\n",
       "      <td>1.261967e+18</td>\n",
       "      <td>2.526684e+08</td>\n",
       "      <td>jeromethegnome</td>\n",
       "      <td>Marr didn't show the People front page on the ...</td>\n",
       "      <td>NaN</td>\n",
       "      <td>NaN</td>\n",
       "      <td>NaN</td>\n",
       "      <td>NaN</td>\n",
       "      <td>NaN</td>\n",
       "      <td>...</td>\n",
       "      <td>5.864205e+08</td>\n",
       "      <td>BriefcaseMike</td>\n",
       "      <td>NaN</td>\n",
       "      <td>NaN</td>\n",
       "      <td>NaN</td>\n",
       "      <td>NaN</td>\n",
       "      <td>NaN</td>\n",
       "      <td>[]</td>\n",
       "      <td>[{'screen_name': 'BriefcaseMike', 'name': 'Bri...</td>\n",
       "      <td>[]</td>\n",
       "    </tr>\n",
       "    <tr>\n",
       "      <th>730480</th>\n",
       "      <td>1256362361595801601</td>\n",
       "      <td>1.256362e+18</td>\n",
       "      <td>7.604784e+17</td>\n",
       "      <td>McnellisWilliam</td>\n",
       "      <td>This key detail is why Trump is failing at usi...</td>\n",
       "      <td>NaN</td>\n",
       "      <td>NaN</td>\n",
       "      <td>NaN</td>\n",
       "      <td>NaN</td>\n",
       "      <td>NaN</td>\n",
       "      <td>...</td>\n",
       "      <td>NaN</td>\n",
       "      <td>NaN</td>\n",
       "      <td>NaN</td>\n",
       "      <td>NaN</td>\n",
       "      <td>NaN</td>\n",
       "      <td>NaN</td>\n",
       "      <td>NaN</td>\n",
       "      <td>[]</td>\n",
       "      <td>[]</td>\n",
       "      <td>[{'url': 'https://t.co/rVJgPQI6oq', 'expanded_...</td>\n",
       "    </tr>\n",
       "    <tr>\n",
       "      <th>730481</th>\n",
       "      <td>1262561736739237888</td>\n",
       "      <td>1.262562e+18</td>\n",
       "      <td>2.712489e+09</td>\n",
       "      <td>dancindoti</td>\n",
       "      <td>At least 18,873 new coronavirus cases and 808 ...</td>\n",
       "      <td>NaN</td>\n",
       "      <td>NaN</td>\n",
       "      <td>NaN</td>\n",
       "      <td>NaN</td>\n",
       "      <td>NaN</td>\n",
       "      <td>...</td>\n",
       "      <td>7.592510e+05</td>\n",
       "      <td>CNN</td>\n",
       "      <td>NaN</td>\n",
       "      <td>NaN</td>\n",
       "      <td>NaN</td>\n",
       "      <td>NaN</td>\n",
       "      <td>NaN</td>\n",
       "      <td>[]</td>\n",
       "      <td>[{'screen_name': 'CNN', 'name': 'CNN', 'id': 7...</td>\n",
       "      <td>[]</td>\n",
       "    </tr>\n",
       "    <tr>\n",
       "      <th>730482</th>\n",
       "      <td>1264579616007569408</td>\n",
       "      <td>1.264580e+18</td>\n",
       "      <td>3.142162e+08</td>\n",
       "      <td>karen3678</td>\n",
       "      <td>This enrages me, ENRAGES. The nerve of these p...</td>\n",
       "      <td>NaN</td>\n",
       "      <td>NaN</td>\n",
       "      <td>NaN</td>\n",
       "      <td>NaN</td>\n",
       "      <td>NaN</td>\n",
       "      <td>...</td>\n",
       "      <td>NaN</td>\n",
       "      <td>NaN</td>\n",
       "      <td>1.264519e+18</td>\n",
       "      <td>We’d like to think of Americans s in those who...</td>\n",
       "      <td>Sun May 24 11:30:02 +0000 2020</td>\n",
       "      <td>32399655.0</td>\n",
       "      <td>Fri Apr 17 13:17:11 +0000 2009</td>\n",
       "      <td>[]</td>\n",
       "      <td>[]</td>\n",
       "      <td>[{'url': 'https://t.co/hTShG8v2YF', 'expanded_...</td>\n",
       "    </tr>\n",
       "  </tbody>\n",
       "</table>\n",
       "<p>730483 rows × 24 columns</p>\n",
       "</div>"
      ],
      "text/plain": [
       "                         id        id_str       user_id user_screen_name  \\\n",
       "0       1219755586272813057  1.219756e+18  8.765581e+17       Norberta36   \n",
       "1       1219762670733127680  1.219763e+18  9.970908e+17     Pissed_Woman   \n",
       "2       1219786815445635072  1.219787e+18  2.505330e+07  FortuneMagazine   \n",
       "3       1219815455759597569  1.219815e+18  4.255807e+08        jurylady5   \n",
       "4       1219843899507793920  1.219844e+18  1.009598e+18  VirginiaLoughn1   \n",
       "...                     ...           ...           ...              ...   \n",
       "730478  1264052827548082176  1.264053e+18  1.924774e+08  Jeannie_Hartley   \n",
       "730479  1261967030674231296  1.261967e+18  2.526684e+08   jeromethegnome   \n",
       "730480  1256362361595801601  1.256362e+18  7.604784e+17  McnellisWilliam   \n",
       "730481  1262561736739237888  1.262562e+18  2.712489e+09       dancindoti   \n",
       "730482  1264579616007569408  1.264580e+18  3.142162e+08        karen3678   \n",
       "\n",
       "                                                     text  \\\n",
       "0       BREAKING from @CNN - CDC expected to announce ...   \n",
       "1       BREAKING from @CNN - CDC expected to announce ...   \n",
       "2       The CDC says the deadly coronavirus from China...   \n",
       "3       Ahhh... the manufactured CORONAVIRUS is on its...   \n",
       "4       @hughhewitt While @hughhewitt celebrates the #...   \n",
       "...                                                   ...   \n",
       "730478  A deadly lesson in failed leadership: Texas le...   \n",
       "730479  Marr didn't show the People front page on the ...   \n",
       "730480  This key detail is why Trump is failing at usi...   \n",
       "730481  At least 18,873 new coronavirus cases and 808 ...   \n",
       "730482  This enrages me, ENRAGES. The nerve of these p...   \n",
       "\n",
       "        in_reply_to_status_id  in_reply_to_status_id_str  in_reply_to_user_id  \\\n",
       "0                         NaN                        NaN                  NaN   \n",
       "1                         NaN                        NaN                  NaN   \n",
       "2                         NaN                        NaN                  NaN   \n",
       "3                         NaN                        NaN                  NaN   \n",
       "4                         NaN                        NaN                  NaN   \n",
       "...                       ...                        ...                  ...   \n",
       "730478                    NaN                        NaN                  NaN   \n",
       "730479                    NaN                        NaN                  NaN   \n",
       "730480                    NaN                        NaN                  NaN   \n",
       "730481                    NaN                        NaN                  NaN   \n",
       "730482                    NaN                        NaN                  NaN   \n",
       "\n",
       "        in_reply_to_user_id_str in_reply_to_screen_name  ...    rt_user_id  \\\n",
       "0                           NaN                     NaN  ...  5.820859e+07   \n",
       "1                           NaN                     NaN  ...  5.820859e+07   \n",
       "2                           NaN                     NaN  ...           NaN   \n",
       "3                           NaN                     NaN  ...  3.331666e+09   \n",
       "4                           NaN                     NaN  ...  1.468188e+09   \n",
       "...                         ...                     ...  ...           ...   \n",
       "730478                      NaN                     NaN  ...  3.428633e+08   \n",
       "730479                      NaN                     NaN  ...  5.864205e+08   \n",
       "730480                      NaN                     NaN  ...           NaN   \n",
       "730481                      NaN                     NaN  ...  7.592510e+05   \n",
       "730482                      NaN                     NaN  ...           NaN   \n",
       "\n",
       "        rt_user_screen_name  quoted_status_id  \\\n",
       "0               MatthewHilk               NaN   \n",
       "1               MatthewHilk               NaN   \n",
       "2                       NaN               NaN   \n",
       "3             talialikeitis               NaN   \n",
       "4             MichaelWRader               NaN   \n",
       "...                     ...               ...   \n",
       "730478          BetoORourke               NaN   \n",
       "730479        BriefcaseMike               NaN   \n",
       "730480                  NaN               NaN   \n",
       "730481                  CNN               NaN   \n",
       "730482                  NaN      1.264519e+18   \n",
       "\n",
       "                                       quoted_status_text  \\\n",
       "0                                                     NaN   \n",
       "1                                                     NaN   \n",
       "2                                                     NaN   \n",
       "3                                                     NaN   \n",
       "4                                                     NaN   \n",
       "...                                                   ...   \n",
       "730478                                                NaN   \n",
       "730479                                                NaN   \n",
       "730480                                                NaN   \n",
       "730481                                                NaN   \n",
       "730482  We’d like to think of Americans s in those who...   \n",
       "\n",
       "              quoted_status_created_at quoted_user_id  \\\n",
       "0                                  NaN            NaN   \n",
       "1                                  NaN            NaN   \n",
       "2                                  NaN            NaN   \n",
       "3                                  NaN            NaN   \n",
       "4                                  NaN            NaN   \n",
       "...                                ...            ...   \n",
       "730478                             NaN            NaN   \n",
       "730479                             NaN            NaN   \n",
       "730480                             NaN            NaN   \n",
       "730481                             NaN            NaN   \n",
       "730482  Sun May 24 11:30:02 +0000 2020     32399655.0   \n",
       "\n",
       "                quoted_user_created_at  \\\n",
       "0                                  NaN   \n",
       "1                                  NaN   \n",
       "2                                  NaN   \n",
       "3                                  NaN   \n",
       "4                                  NaN   \n",
       "...                                ...   \n",
       "730478                             NaN   \n",
       "730479                             NaN   \n",
       "730480                             NaN   \n",
       "730481                             NaN   \n",
       "730482  Fri Apr 17 13:17:11 +0000 2009   \n",
       "\n",
       "                                              hashtags  \\\n",
       "0                                                   []   \n",
       "1                                                   []   \n",
       "2                                                   []   \n",
       "3                                                   []   \n",
       "4       [{'text': 'coronavirus', 'indices': [64, 76]}]   \n",
       "...                                                ...   \n",
       "730478                                              []   \n",
       "730479                                              []   \n",
       "730480                                              []   \n",
       "730481                                              []   \n",
       "730482                                              []   \n",
       "\n",
       "                                            user_mentions  \\\n",
       "0       [{'screen_name': 'MatthewHilk', 'name': 'Matth...   \n",
       "1       [{'screen_name': 'MatthewHilk', 'name': 'Matth...   \n",
       "2                                                      []   \n",
       "3       [{'screen_name': 'talialikeitis', 'name': 'Tal...   \n",
       "4       [{'screen_name': 'MichaelWRader', 'name': 'Mic...   \n",
       "...                                                   ...   \n",
       "730478  [{'screen_name': 'BetoORourke', 'name': \"Beto ...   \n",
       "730479  [{'screen_name': 'BriefcaseMike', 'name': 'Bri...   \n",
       "730480                                                 []   \n",
       "730481  [{'screen_name': 'CNN', 'name': 'CNN', 'id': 7...   \n",
       "730482                                                 []   \n",
       "\n",
       "                                                     urls  \n",
       "0                                                      []  \n",
       "1                                                      []  \n",
       "2       [{'url': 'https://t.co/2FVgxuZqSw', 'expanded_...  \n",
       "3                                                      []  \n",
       "4                                                      []  \n",
       "...                                                   ...  \n",
       "730478                                                 []  \n",
       "730479                                                 []  \n",
       "730480  [{'url': 'https://t.co/rVJgPQI6oq', 'expanded_...  \n",
       "730481                                                 []  \n",
       "730482  [{'url': 'https://t.co/hTShG8v2YF', 'expanded_...  \n",
       "\n",
       "[730483 rows x 24 columns]"
      ]
     },
     "execution_count": 8,
     "metadata": {},
     "output_type": "execute_result"
    }
   ],
   "source": [
    "df"
   ]
  },
  {
   "cell_type": "markdown",
   "metadata": {},
   "source": [
    "### Bot activity\n",
    "<a id=\"activity\"/>"
   ]
  },
  {
   "cell_type": "code",
   "execution_count": 9,
   "metadata": {},
   "outputs": [],
   "source": [
    "df_split = tweets_utils.split_df(df)"
   ]
  },
  {
   "cell_type": "code",
   "execution_count": 12,
   "metadata": {},
   "outputs": [
    {
     "name": "stdout",
     "output_type": "stream",
     "text": [
      "Number of total tweets: 730483\n",
      "Number of original tweets: 310406\n",
      "Number of retweets: 384562\n",
      "Number of replies: 21153\n",
      "Number of quotes: 15133\n",
      "Number of original_tweets: 42.49% of total tweets\n",
      "Number of retweets: 52.64% of total tweets\n",
      "Number of replies: 2.9% of total tweets\n",
      "Number of quotes: 2.07% of total tweets\n",
      "Check sum == len(tweets):  False\n"
     ]
    },
    {
     "data": {
      "image/png": "[encoded data removed]",
      "text/plain": [
       "<Figure size 720x504 with 1 Axes>"
      ]
     },
     "metadata": {},
     "output_type": "display_data"
    }
   ],
   "source": [
    "original = df_split[\"original\"]\n",
    "quote = df_split[\"quote\"]\n",
    "retweet = df_split[\"retweet\"]\n",
    "reply = df_split[\"reply\"]\n",
    "mentions = df_split[\"original_mention\"]\n",
    "reply_status = df_split['reply_to_status']\n",
    "retweet_original = df_split['rt_original']\n",
    "retweet_reply = df_split['rt_in_reply']\n",
    "retweet_mention = df_split['rt_mention']\n",
    "quote_original = df_split['quote_original']\n",
    "quote_reply = df_split['quote_reply']\n",
    "quote_mention = df_split['quote_mention']\n",
    "total_len = len(df) \n",
    "len_quote = len(quote)\n",
    "len_original = len(original)\n",
    "len_rt = len(retweet)\n",
    "len_rp = len(reply)\n",
    "len_mentions = len(mentions)\n",
    "len_reply_status = len(reply_status)\n",
    "len_retweet_original = len(retweet_original)\n",
    "len_retweet_reply = len(retweet_reply)\n",
    "len_retweet_mention = len(retweet_mention)\n",
    "len_quote_original = len(quote_original)\n",
    "len_quote_reply = len(quote_reply)\n",
    "len_quote_mention = len(quote_mention)\n",
    "tweets_utils.stats(total_len, len_original, len_rt, len_rp, len_quote)\n",
    "tweets_utils.print_pie_chart4(\"Bot tweets\", \"Original\", \"Retweet\", \"Reply\", \"Quote\", len_original, len_rt, len_rp, len_quote)"
   ]
  },
  {
   "cell_type": "code",
   "execution_count": 4,
   "metadata": {},
   "outputs": [],
   "source": [
    "# values = [len_original/total_len, len_rt/total_len, len_rp/total_len, len_quote/total_len]\n",
    "# labels = [\"Original\", \"Retweet\", \"Reply\", \"Quote\"]\n",
    "# fig = go.Figure()\n",
    "# fig.add_trace(go.Histogram(histfunc=\"sum\", y=values, x=labels, name=\"Bots\"))\n",
    "# fig.update_layout(\n",
    "#     title=\"Differences between Bot activities\",\n",
    "#     xaxis_title=\"Kind of activity\",\n",
    "#     yaxis_title=\"Percentage of activity\",\n",
    "#     legend_title=\"Legend\")\n",
    "# fig.show()"
   ]
  },
  {
   "cell_type": "markdown",
   "metadata": {},
   "source": [
    "### Bot - Conspiracy score - Community\n",
    "<a id=\"bcc\" />"
   ]
  },
  {
   "cell_type": "markdown",
   "metadata": {},
   "source": [
    "#### Bot - Community"
   ]
  },
  {
   "cell_type": "code",
   "execution_count": 11,
   "metadata": {},
   "outputs": [],
   "source": [
    "path_nt = glob.glob(\"F:/Supsi/COVID-19-Tweets/large_files/rt_network/louvain/big_network/\")[0]\n",
    "df_degree = pd.read_csv(path_nt + \"df_degree.csv\", lineterminator=\"\\n\", low_memory=False)\n",
    "df_louvain = pd.read_csv(path_nt + \"df_louvain.csv\", lineterminator=\"\\n\", low_memory=False)\n",
    "path_nt = glob.glob(\"F:/Supsi/COVID-19-Tweets/large_files/rt_network/leiden/big/\")[0]\n",
    "df_leiden = = pd.read_csv(path_nt + \"df_leiden.csv\", lineterminator=\"\\n\", low_memory=False)"
   ]
  },
  {
   "cell_type": "code",
   "execution_count": 18,
   "metadata": {},
   "outputs": [],
   "source": [
    "df_nt_bot = df_leiden.merge(df, how=\"left\", left_on=\"name\", right_on=\"user_screen_name\")\n",
    "x = df_nt_bot[df_nt_bot[\"user_screen_name\"].notna()]"
   ]
  },
  {
   "cell_type": "code",
   "execution_count": 19,
   "metadata": {},
   "outputs": [],
   "source": [
    "# x.columns\n",
    "x = x.drop([ 'id', 'id_str', 'user_id', 'user_screen_name',\n",
    "       'text', 'in_reply_to_status_id', 'in_reply_to_status_id_str',\n",
    "       'in_reply_to_user_id', 'in_reply_to_user_id_str',\n",
    "       'in_reply_to_screen_name', 'rt_created_at', 'rt_in_reply_to_status_id',\n",
    "       'rt_in_reply_to_user_id', 'rt_id', 'rt_user_id', 'rt_user_screen_name',\n",
    "       'quoted_status_id', 'quoted_status_text', 'quoted_status_created_at',\n",
    "       'quoted_user_id', 'quoted_user_created_at', 'hashtags', 'user_mentions',\n",
    "       'urls'], axis=1)\n",
    "x = x.drop_duplicates(subset=['name'])"
   ]
  },
  {
   "cell_type": "code",
   "execution_count": 38,
   "metadata": {},
   "outputs": [
    {
     "data": {
      "image/png": "[encoded data removed]",
      "text/plain": [
       "<Figure size 432x288 with 1 Axes>"
      ]
     },
     "metadata": {
      "needs_background": "light"
     },
     "output_type": "display_data"
    },
    {
     "name": "stdout",
     "output_type": "stream",
     "text": [
      "le prime 5 subcommunities sono il 73.94% del totale nella network\n",
      "il numero di utenti è 3031\n"
     ]
    }
   ],
   "source": [
    "value = x[\"community\"]\n",
    "comm = pd.Series(value).value_counts().sort_values(ascending=False)\n",
    "ax = comm[:10].plot(kind='barh', color='orange') \n",
    "ax.set_title('Number of nodes per community - Bots (top 10)', fontsize=15)\n",
    "ax.invert_yaxis()\n",
    "plt.show()\n",
    "s = 0\n",
    "for i in comm[:5]:\n",
    "    s = s + i \n",
    "print(f\"le prime 5 subcommunities sono il {round(s/comm.sum()*100,2)}% del totale nella network\")\n",
    "print(f\"il numero di utenti è {comm.sum()}\")"
   ]
  },
  {
   "cell_type": "code",
   "execution_count": 20,
   "metadata": {},
   "outputs": [
    {
     "data": {
      "image/png": "[encoded data removed]",
      "text/plain": [
       "<Figure size 432x288 with 1 Axes>"
      ]
     },
     "metadata": {
      "needs_background": "light"
     },
     "output_type": "display_data"
    },
    {
     "name": "stdout",
     "output_type": "stream",
     "text": [
      "le prime 5 subcommunities sono il 56.35% del totale nella network\n",
      "il numero di utenti è 3031\n"
     ]
    }
   ],
   "source": [
    "value = x[\"community\"]\n",
    "comm = pd.Series(value).value_counts().sort_values(ascending=False)\n",
    "ax = comm[:10].plot(kind='barh', color='orange') \n",
    "ax.set_title('Number of nodes per community (Leiden) - Bots (top 10)', fontsize=15)\n",
    "ax.invert_yaxis()\n",
    "plt.show()\n",
    "s = 0\n",
    "for i in comm[:5]:\n",
    "    s = s + i \n",
    "print(f\"le prime 5 subcommunities sono il {round(s/comm.sum()*100,2)}% del totale nella network\")\n",
    "print(f\"il numero di utenti è {comm.sum()}\")"
   ]
  },
  {
   "cell_type": "markdown",
   "metadata": {},
   "source": [
    "#### Bot - Conspiracy score"
   ]
  },
  {
   "cell_type": "code",
   "execution_count": 6,
   "metadata": {},
   "outputs": [
    {
     "data": {
      "text/html": [
       "<div>\n",
       "<style scoped>\n",
       "    .dataframe tbody tr th:only-of-type {\n",
       "        vertical-align: middle;\n",
       "    }\n",
       "\n",
       "    .dataframe tbody tr th {\n",
       "        vertical-align: top;\n",
       "    }\n",
       "\n",
       "    .dataframe thead th {\n",
       "        text-align: right;\n",
       "    }\n",
       "</style>\n",
       "<table border=\"1\" class=\"dataframe\">\n",
       "  <thead>\n",
       "    <tr style=\"text-align: right;\">\n",
       "      <th></th>\n",
       "      <th>id</th>\n",
       "      <th>user_screen_name</th>\n",
       "    </tr>\n",
       "  </thead>\n",
       "  <tbody>\n",
       "    <tr>\n",
       "      <th>0</th>\n",
       "      <td>1252818873578975232</td>\n",
       "      <td>matomecorona</td>\n",
       "    </tr>\n",
       "    <tr>\n",
       "      <th>1</th>\n",
       "      <td>1239490346691760128</td>\n",
       "      <td>Host24Space</td>\n",
       "    </tr>\n",
       "    <tr>\n",
       "      <th>2</th>\n",
       "      <td>1238684966063501313</td>\n",
       "      <td>CoronaVirusNFO</td>\n",
       "    </tr>\n",
       "    <tr>\n",
       "      <th>3</th>\n",
       "      <td>1203462567861084160</td>\n",
       "      <td>naija_reports</td>\n",
       "    </tr>\n",
       "    <tr>\n",
       "      <th>4</th>\n",
       "      <td>1245483551749005312</td>\n",
       "      <td>FR24NewsFrance</td>\n",
       "    </tr>\n",
       "    <tr>\n",
       "      <th>...</th>\n",
       "      <td>...</td>\n",
       "      <td>...</td>\n",
       "    </tr>\n",
       "    <tr>\n",
       "      <th>3867</th>\n",
       "      <td>1102793344785178625</td>\n",
       "      <td>MightyMousebb</td>\n",
       "    </tr>\n",
       "    <tr>\n",
       "      <th>3868</th>\n",
       "      <td>142018519</td>\n",
       "      <td>alej1477</td>\n",
       "    </tr>\n",
       "    <tr>\n",
       "      <th>3869</th>\n",
       "      <td>196110680</td>\n",
       "      <td>phen0480</td>\n",
       "    </tr>\n",
       "    <tr>\n",
       "      <th>3870</th>\n",
       "      <td>1175694002080886785</td>\n",
       "      <td>RemusJLupin2017</td>\n",
       "    </tr>\n",
       "    <tr>\n",
       "      <th>3871</th>\n",
       "      <td>487035253</td>\n",
       "      <td>hartingtonb</td>\n",
       "    </tr>\n",
       "  </tbody>\n",
       "</table>\n",
       "<p>3872 rows × 2 columns</p>\n",
       "</div>"
      ],
      "text/plain": [
       "                       id user_screen_name\n",
       "0     1252818873578975232     matomecorona\n",
       "1     1239490346691760128      Host24Space\n",
       "2     1238684966063501313   CoronaVirusNFO\n",
       "3     1203462567861084160    naija_reports\n",
       "4     1245483551749005312   FR24NewsFrance\n",
       "...                   ...              ...\n",
       "3867  1102793344785178625    MightyMousebb\n",
       "3868            142018519         alej1477\n",
       "3869            196110680         phen0480\n",
       "3870  1175694002080886785  RemusJLupin2017\n",
       "3871            487035253      hartingtonb\n",
       "\n",
       "[3872 rows x 2 columns]"
      ]
     },
     "execution_count": 6,
     "metadata": {},
     "output_type": "execute_result"
    }
   ],
   "source": [
    "path = glob.glob(\"C:/Users/gianl/Desktop/Gi/Supsi/BachelorProject/csv/\")[0]\n",
    "bots = pd.read_csv(path + \"bot_score.csv\")\n",
    "bots = bots.rename(columns={'user': 'user_screen_name'})\n",
    "bots"
   ]
  },
  {
   "cell_type": "code",
   "execution_count": 3,
   "metadata": {},
   "outputs": [],
   "source": [
    "path = glob.glob(\"F:/Supsi/COVID-19-Tweets/large_files/urls/\")[0]\n",
    "credibility_url = pd.read_csv(path + \"sum_of_urls_df_all_months_with_score.csv\")\n",
    "bots_w_credibility = bots[[\"user_screen_name\"]].merge(\n",
    "    credibility_url[[\"number_of_urls\", \"conspiracy_score\", \"user_screen_name\"]], on=\"user_screen_name\", how=\"left\")"
   ]
  },
  {
   "cell_type": "code",
   "execution_count": 36,
   "metadata": {},
   "outputs": [
    {
     "data": {
      "text/html": [
       "<div>\n",
       "<style scoped>\n",
       "    .dataframe tbody tr th:only-of-type {\n",
       "        vertical-align: middle;\n",
       "    }\n",
       "\n",
       "    .dataframe tbody tr th {\n",
       "        vertical-align: top;\n",
       "    }\n",
       "\n",
       "    .dataframe thead th {\n",
       "        text-align: right;\n",
       "    }\n",
       "</style>\n",
       "<table border=\"1\" class=\"dataframe\">\n",
       "  <thead>\n",
       "    <tr style=\"text-align: right;\">\n",
       "      <th></th>\n",
       "      <th>user_screen_name</th>\n",
       "      <th>number_of_urls</th>\n",
       "      <th>conspiracy_score</th>\n",
       "    </tr>\n",
       "  </thead>\n",
       "  <tbody>\n",
       "    <tr>\n",
       "      <th>0</th>\n",
       "      <td>naija_reports</td>\n",
       "      <td>3249.0</td>\n",
       "      <td>0.50</td>\n",
       "    </tr>\n",
       "    <tr>\n",
       "      <th>1</th>\n",
       "      <td>RadioQuo</td>\n",
       "      <td>600.0</td>\n",
       "      <td>0.00</td>\n",
       "    </tr>\n",
       "    <tr>\n",
       "      <th>2</th>\n",
       "      <td>lehimesa</td>\n",
       "      <td>60.0</td>\n",
       "      <td>0.06</td>\n",
       "    </tr>\n",
       "    <tr>\n",
       "      <th>3</th>\n",
       "      <td>JavelinaBlue</td>\n",
       "      <td>35.0</td>\n",
       "      <td>0.08</td>\n",
       "    </tr>\n",
       "    <tr>\n",
       "      <th>4</th>\n",
       "      <td>uhiiman</td>\n",
       "      <td>585.0</td>\n",
       "      <td>0.00</td>\n",
       "    </tr>\n",
       "    <tr>\n",
       "      <th>...</th>\n",
       "      <td>...</td>\n",
       "      <td>...</td>\n",
       "      <td>...</td>\n",
       "    </tr>\n",
       "    <tr>\n",
       "      <th>1438</th>\n",
       "      <td>BelaBenanua</td>\n",
       "      <td>41.0</td>\n",
       "      <td>0.00</td>\n",
       "    </tr>\n",
       "    <tr>\n",
       "      <th>1439</th>\n",
       "      <td>u3Y4BDE</td>\n",
       "      <td>39.0</td>\n",
       "      <td>0.00</td>\n",
       "    </tr>\n",
       "    <tr>\n",
       "      <th>1440</th>\n",
       "      <td>cmerfy</td>\n",
       "      <td>42.0</td>\n",
       "      <td>0.07</td>\n",
       "    </tr>\n",
       "    <tr>\n",
       "      <th>1441</th>\n",
       "      <td>teachertwit2</td>\n",
       "      <td>24.0</td>\n",
       "      <td>0.20</td>\n",
       "    </tr>\n",
       "    <tr>\n",
       "      <th>1442</th>\n",
       "      <td>Nofearnofavors4</td>\n",
       "      <td>39.0</td>\n",
       "      <td>0.00</td>\n",
       "    </tr>\n",
       "  </tbody>\n",
       "</table>\n",
       "<p>1443 rows × 3 columns</p>\n",
       "</div>"
      ],
      "text/plain": [
       "     user_screen_name  number_of_urls  conspiracy_score\n",
       "0       naija_reports          3249.0              0.50\n",
       "1            RadioQuo           600.0              0.00\n",
       "2            lehimesa            60.0              0.06\n",
       "3        JavelinaBlue            35.0              0.08\n",
       "4             uhiiman           585.0              0.00\n",
       "...               ...             ...               ...\n",
       "1438      BelaBenanua            41.0              0.00\n",
       "1439          u3Y4BDE            39.0              0.00\n",
       "1440           cmerfy            42.0              0.07\n",
       "1441     teachertwit2            24.0              0.20\n",
       "1442  Nofearnofavors4            39.0              0.00\n",
       "\n",
       "[1443 rows x 3 columns]"
      ]
     },
     "execution_count": 36,
     "metadata": {},
     "output_type": "execute_result"
    }
   ],
   "source": [
    "bots_w_credibility = bots_w_credibility[bots_w_credibility[\"conspiracy_score\"].notna()]\n",
    "bots_w_credibility = bots_w_credibility[bots_w_credibility[\"number_of_urls\"]>=10] \n",
    "bots_w_credibility = bots_w_credibility.reset_index(drop=True)\n",
    "bots_w_credibility"
   ]
  },
  {
   "cell_type": "code",
   "execution_count": 40,
   "metadata": {},
   "outputs": [
    {
     "data": {
      "image/png": "[encoded data removed]",
      "text/plain": [
       "<Figure size 432x288 with 1 Axes>"
      ]
     },
     "metadata": {
      "needs_background": "light"
     },
     "output_type": "display_data"
    }
   ],
   "source": [
    "# # Plotting\n",
    "plt.hist(bots_w_credibility[\"conspiracy_score\"], 50)\n",
    "plt.title(\"Distribution of conspiracy score\")\n",
    "plt.yscale('log', nonposy='clip')\n",
    "plt.show()"
   ]
  },
  {
   "cell_type": "markdown",
   "metadata": {},
   "source": [
    "### Collecting data\n",
    "<a id=\"collecting\"/>"
   ]
  },
  {
   "cell_type": "code",
   "execution_count": 7,
   "metadata": {},
   "outputs": [],
   "source": [
    "cols = [\"id\", \"id_str\", \"user_id\", \"user_screen_name\", \"text\",\"in_reply_to_status_id\",\n",
    "        \"in_reply_to_status_id_str\" ,\"in_reply_to_user_id\" ,\"in_reply_to_user_id_str\" ,\"in_reply_to_screen_name\",\n",
    "        \"rt_created_at\", \"rt_in_reply_to_status_id\", \"rt_in_reply_to_user_id\", \"rt_id\", \"rt_user_id\", \"rt_created_at\",\n",
    "        \"rt_user_screen_name\", \"quoted_status_id\" ,\"quoted_status_text\" ,\"quoted_status_created_at\", \"quoted_user_id\",\n",
    "        \"quoted_user_created_at\", \"hashtags\", \"user_mentions\", \"urls\"]\n",
    "df = pd.DataFrame()\n",
    "result = []\n",
    "files_tweets = glob.glob(\"F:/Supsi/COVID-19-Tweets/*/tweets.csv\")"
   ]
  },
  {
   "cell_type": "code",
   "execution_count": 1,
   "metadata": {
    "scrolled": false
   },
   "outputs": [],
   "source": [
    "importlib.reload(tweets_utils)\n",
    "start_time = time.perf_counter()\n",
    "j = 0\n",
    "for filename in files_tweets:\n",
    "    print(f\"Reading file: {filename}\")\n",
    "    result.extend(tweets_utils.process_all_data(filename, cols, True, bots[\"user_screen_name\"]))\n",
    "    lista = result[j]\n",
    "    j = j + 1\n",
    "    print(f\"Mese numero {j}\")\n",
    "    for i in range(len(lista)):\n",
    "        df = df.append(lista[i][\"df\"])\n",
    "    print(len(df))\n",
    "    stop_time = time.perf_counter()\n",
    "print(\"Time: \",stop_time-start_time)"
   ]
  },
  {
   "cell_type": "code",
   "execution_count": 13,
   "metadata": {},
   "outputs": [],
   "source": [
    "df.to_csv(\"C:/Users/gianl/Desktop/Gi/Supsi/bots_tweets.csv\", line_terminator=\"\\n\", index=False, encoding=\"utf-8\")"
   ]
  },
  {
   "cell_type": "markdown",
   "metadata": {},
   "source": [
    "### Hashtags\n",
    "<a id=\"hashtags\"/>"
   ]
  },
  {
   "cell_type": "code",
   "execution_count": 30,
   "metadata": {},
   "outputs": [],
   "source": [
    "hashtag = tweets_utils.hashtag_process_list(list(df[\"hashtags\"]))"
   ]
  },
  {
   "cell_type": "code",
   "execution_count": 31,
   "metadata": {},
   "outputs": [
    {
     "data": {
      "image/png": "[encoded data removed]",
      "text/plain": [
       "<Figure size 1008x576 with 1 Axes>"
      ]
     },
     "metadata": {
      "needs_background": "light"
     },
     "output_type": "display_data"
    }
   ],
   "source": [
    "val = pd.Series(hashtag).value_counts().sort_values(ascending=False)\n",
    "fig = plt.figure(figsize=(14, 8))\n",
    "ax = val[:30].plot(kind='barh', color='orange', fig=(14,14)) #orange #lightseagreen\n",
    "ax.set_title('Number of HASHTAGS per bot (top 30)', fontsize=15)\n",
    "ax.invert_yaxis()\n",
    "plt.show()"
   ]
  },
  {
   "cell_type": "markdown",
   "metadata": {},
   "source": [
    "### Process domain\n",
    "<a id=\"domain\"/>"
   ]
  },
  {
   "cell_type": "code",
   "execution_count": 33,
   "metadata": {},
   "outputs": [],
   "source": [
    "# urls = [tweets_utils.url_decompress(v) if v != \"[]\" else \"0\" for v in df[\"urls\"]]\n",
    "# urls = list(filter(lambda num: num != \"0\", urls))\n",
    "# urls = tweets_utils.remove_www(urls)\n",
    "# urls"
   ]
  },
  {
   "cell_type": "code",
   "execution_count": 34,
   "metadata": {
    "scrolled": false
   },
   "outputs": [
    {
     "data": {
      "image/png": "[encoded data removed]",
      "text/plain": [
       "<Figure size 1008x576 with 1 Axes>"
      ]
     },
     "metadata": {
      "needs_background": "light"
     },
     "output_type": "display_data"
    }
   ],
   "source": [
    "val = pd.Series(urls).value_counts().sort_values(ascending=False)\n",
    "fig = plt.figure(figsize=(14, 8))\n",
    "ax = val[:30].plot(kind='barh', color='steelblue', fig=(14,14)) #orange #lightseagreen\n",
    "ax.set_title('Number of URLS per bot (top 30)', fontsize=15)\n",
    "ax.invert_yaxis()\n",
    "plt.show()"
   ]
  }
 ],
 "metadata": {
  "kernelspec": {
   "display_name": "Python 3",
   "language": "python",
   "name": "python3"
  },
  "language_info": {
   "codemirror_mode": {
    "name": "ipython",
    "version": 3
   },
   "file_extension": ".py",
   "mimetype": "text/x-python",
   "name": "python",
   "nbconvert_exporter": "python",
   "pygments_lexer": "ipython3",
   "version": "3.8.11"
  }
 },
 "nbformat": 4,
 "nbformat_minor": 4
}
