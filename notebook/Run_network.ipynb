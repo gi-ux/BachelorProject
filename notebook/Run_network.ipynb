{
 "cells": [
  {
   "cell_type": "code",
   "execution_count": 1,
   "id": "2377bc68",
   "metadata": {},
   "outputs": [],
   "source": [
    "import pandas as pd\n",
    "import numpy as np\n",
    "import plotly.express as px\n",
    "import matplotlib.pyplot as plt\n",
    "from time import strptime\n",
    "import datetime\n",
    "from datetime import datetime\n",
    "import warnings\n",
    "import time\n",
    "import csv\n",
    "import glob\n",
    "import logging\n",
    "import importlib\n",
    "import json\n",
    "import networkx as nx\n",
    "import seaborn as sns\n",
    "import re\n",
    "from operator import itemgetter\n",
    "import matplotlib.cm as mcm\n",
    "import community\n",
    "from community import community_louvain as cm\n",
    "import leidenalg as la\n",
    "import igraph as ig\n",
    "from cdlib import algorithms"
   ]
  },
  {
   "cell_type": "code",
   "execution_count": 2,
   "id": "13266f3a",
   "metadata": {},
   "outputs": [
    {
     "data": {
      "text/html": [
       "<div>\n",
       "<style scoped>\n",
       "    .dataframe tbody tr th:only-of-type {\n",
       "        vertical-align: middle;\n",
       "    }\n",
       "\n",
       "    .dataframe tbody tr th {\n",
       "        vertical-align: top;\n",
       "    }\n",
       "\n",
       "    .dataframe thead th {\n",
       "        text-align: right;\n",
       "    }\n",
       "</style>\n",
       "<table border=\"1\" class=\"dataframe\">\n",
       "  <thead>\n",
       "    <tr style=\"text-align: right;\">\n",
       "      <th></th>\n",
       "      <th>name</th>\n",
       "      <th>rt_name</th>\n",
       "    </tr>\n",
       "  </thead>\n",
       "  <tbody>\n",
       "    <tr>\n",
       "      <th>0</th>\n",
       "      <td>EyobMBekele1</td>\n",
       "      <td>DrSenait</td>\n",
       "    </tr>\n",
       "    <tr>\n",
       "      <th>1</th>\n",
       "      <td>KenyaCoin</td>\n",
       "      <td>TechMoran</td>\n",
       "    </tr>\n",
       "    <tr>\n",
       "      <th>2</th>\n",
       "      <td>kennekai</td>\n",
       "      <td>kennekai</td>\n",
       "    </tr>\n",
       "    <tr>\n",
       "      <th>3</th>\n",
       "      <td>UMEAeo</td>\n",
       "      <td>WHO</td>\n",
       "    </tr>\n",
       "    <tr>\n",
       "      <th>4</th>\n",
       "      <td>SahapunB</td>\n",
       "      <td>WHO</td>\n",
       "    </tr>\n",
       "    <tr>\n",
       "      <th>...</th>\n",
       "      <td>...</td>\n",
       "      <td>...</td>\n",
       "    </tr>\n",
       "    <tr>\n",
       "      <th>1774466</th>\n",
       "      <td>marianatrobosky</td>\n",
       "      <td>UNESCAP</td>\n",
       "    </tr>\n",
       "    <tr>\n",
       "      <th>1774467</th>\n",
       "      <td>wbawwwiiillll</td>\n",
       "      <td>WBADyl</td>\n",
       "    </tr>\n",
       "    <tr>\n",
       "      <th>1774468</th>\n",
       "      <td>tshwari_dee</td>\n",
       "      <td>News24</td>\n",
       "    </tr>\n",
       "    <tr>\n",
       "      <th>1774469</th>\n",
       "      <td>leticiacano</td>\n",
       "      <td>Pontifex</td>\n",
       "    </tr>\n",
       "    <tr>\n",
       "      <th>1774470</th>\n",
       "      <td>aprocyphal</td>\n",
       "      <td>BMA22528200</td>\n",
       "    </tr>\n",
       "  </tbody>\n",
       "</table>\n",
       "<p>1774471 rows × 2 columns</p>\n",
       "</div>"
      ],
      "text/plain": [
       "                    name      rt_name\n",
       "0           EyobMBekele1     DrSenait\n",
       "1              KenyaCoin    TechMoran\n",
       "2               kennekai     kennekai\n",
       "3                 UMEAeo          WHO\n",
       "4               SahapunB          WHO\n",
       "...                  ...          ...\n",
       "1774466  marianatrobosky      UNESCAP\n",
       "1774467    wbawwwiiillll       WBADyl\n",
       "1774468      tshwari_dee       News24\n",
       "1774469      leticiacano     Pontifex\n",
       "1774470       aprocyphal  BMA22528200\n",
       "\n",
       "[1774471 rows x 2 columns]"
      ]
     },
     "execution_count": 2,
     "metadata": {},
     "output_type": "execute_result"
    }
   ],
   "source": [
    "path_nt = glob.glob(\"C:/Users/gianl/Desktop/Gi/Supsi/BachelorProject/network/names/\")\n",
    "df = pd.read_csv(path_nt[0] + \"rt_nt_19.csv\", lineterminator=\"\\n\", low_memory=False)\n",
    "df"
   ]
  },
  {
   "cell_type": "code",
   "execution_count": 3,
   "id": "1187ee8b",
   "metadata": {},
   "outputs": [
    {
     "name": "stdout",
     "output_type": "stream",
     "text": [
      "DiGraph with 607295 nodes and 1485565 edges\n"
     ]
    }
   ],
   "source": [
    "retweets_graph = nx.from_pandas_edgelist(df,'name','rt_name', create_using=nx.DiGraph())\n",
    "print(nx.info(retweets_graph)) #da ritornare le info"
   ]
  },
  {
   "cell_type": "code",
   "execution_count": 4,
   "id": "193660a6",
   "metadata": {},
   "outputs": [],
   "source": [
    "degree_dict = dict(retweets_graph.degree(retweets_graph.nodes()))\n",
    "sorted_degree = sorted(degree_dict.items(), key=itemgetter(1), reverse=True)"
   ]
  },
  {
   "cell_type": "code",
   "execution_count": 5,
   "id": "c8d43794",
   "metadata": {},
   "outputs": [],
   "source": [
    "in_degree_dict = dict(retweets_graph.in_degree(retweets_graph.nodes()))\n",
    "sorted_in_degree = sorted(in_degree_dict.items(), key=itemgetter(1), reverse=True)"
   ]
  },
  {
   "cell_type": "code",
   "execution_count": 6,
   "id": "6c05599e",
   "metadata": {},
   "outputs": [],
   "source": [
    "out_degree_dict = dict(retweets_graph.out_degree(retweets_graph.nodes()))\n",
    "sorted_out_degree = sorted(out_degree_dict.items(), key=itemgetter(1), reverse=True)"
   ]
  },
  {
   "cell_type": "markdown",
   "id": "9240f531",
   "metadata": {},
   "source": [
    "## Louvain"
   ]
  },
  {
   "cell_type": "code",
   "execution_count": 4,
   "id": "553024e5",
   "metadata": {},
   "outputs": [
    {
     "name": "stdout",
     "output_type": "stream",
     "text": [
      "Graph with 607295 nodes and 1479294 edges\n"
     ]
    }
   ],
   "source": [
    "retweets_graph_und = nx.from_pandas_edgelist(df,'name','rt_name')\n",
    "print(nx.info(retweets_graph_und)) "
   ]
  },
  {
   "cell_type": "code",
   "execution_count": 6,
   "id": "0918ee2d",
   "metadata": {},
   "outputs": [],
   "source": [
    "best_part = cm.best_partition(retweets_graph_und, random_state=42)"
   ]
  },
  {
   "cell_type": "code",
   "execution_count": null,
   "id": "be6509a1",
   "metadata": {},
   "outputs": [],
   "source": [
    "best_part"
   ]
  },
  {
   "cell_type": "code",
   "execution_count": null,
   "id": "2e2883c9",
   "metadata": {},
   "outputs": [],
   "source": [
    "with open(\"C:/Users/gianl/Desktop/Gi/Supsi/BachelorProject/network/louvain_comm/louvain_communities.json\", 'w') as f:\n",
    "    json.dump(best_part, f)"
   ]
  }
 ],
 "metadata": {
  "kernelspec": {
   "display_name": "Python 3 (ipykernel)",
   "language": "python",
   "name": "python3"
  },
  "language_info": {
   "codemirror_mode": {
    "name": "ipython",
    "version": 3
   },
   "file_extension": ".py",
   "mimetype": "text/x-python",
   "name": "python",
   "nbconvert_exporter": "python",
   "pygments_lexer": "ipython3",
   "version": "3.8.11"
  }
 },
 "nbformat": 4,
 "nbformat_minor": 5
}
