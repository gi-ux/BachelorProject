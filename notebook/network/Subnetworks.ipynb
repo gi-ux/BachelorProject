{
 "cells": [
  {
   "cell_type": "code",
   "execution_count": 16,
   "metadata": {},
   "outputs": [
    {
     "data": {
      "application/javascript": [
       "IPython.notebook.set_autosave_interval(3600000)"
      ]
     },
     "metadata": {},
     "output_type": "display_data"
    },
    {
     "name": "stdout",
     "output_type": "stream",
     "text": [
      "Autosaving every 3600 seconds\n"
     ]
    }
   ],
   "source": [
    "import pandas as pd\n",
    "import numpy as np\n",
    "import plotly.express as px\n",
    "import matplotlib.pyplot as plt\n",
    "from time import strptime\n",
    "import datetime\n",
    "from datetime import datetime\n",
    "import warnings\n",
    "import time\n",
    "import csv\n",
    "import glob\n",
    "import logging\n",
    "import importlib\n",
    "from tqdm import tqdm\n",
    "import json\n",
    "import networkx as nx\n",
    "import seaborn as sns\n",
    "import re\n",
    "from operator import itemgetter\n",
    "import matplotlib as mpl \n",
    "import matplotlib.cm as mcm\n",
    "import community\n",
    "from community import community_louvain as cm\n",
    "import leidenalg as la\n",
    "import igraph as ig\n",
    "from cdlib import algorithms\n",
    "import sys\n",
    "sys.path.append('C:/Users/gianl/Desktop/Gi/Supsi/BachelorProject/notebook/tweet_utils')\n",
    "import tweets_utils\n",
    "warnings.filterwarnings('ignore')\n",
    "path = \"C:/Users/gianl/Desktop/Gi/Supsi/BachelorProject/network/\"\n",
    "%autosave 3600"
   ]
  },
  {
   "cell_type": "markdown",
   "metadata": {},
   "source": [
    "# Indice\n",
    "\n",
    "- [Functions](#func)\n",
    "\n",
    "- [Network Community 1](#comm_1)\n",
    "\n",
    "    - [Info](#info_1)\n",
    "    - [Louvain](#louvain_1)    \n",
    "\n",
    "\n",
    "- [Network Community 2](#comm_2)\n",
    "\n",
    "    - [Info](#info_2)\n",
    "    - [Louvain](#louvain_2)  \n",
    "\n",
    "\n",
    "- [Network Community 19](#comm_19)\n",
    "\n",
    "    - [Info](#info_19)\n",
    "    - [Louvain](#louvain_19)    \n",
    "    \n",
    "- [Network Community 15](#comm_15)\n",
    "\n",
    "    - [Info](#info_15)\n",
    "    - [Louvain](#louvain_15)    \n",
    "\n",
    "- [Network Community 14](#comm_14)\n",
    "\n",
    "    - [Info](#info_14)\n",
    "    - [Louvain](#louvain_14)\n",
    "\n",
    "\n",
    "- [Network Community 5](#comm_5)\n",
    "\n",
    "    - [Info](#info_5)\n",
    "    - [Louvain](#louvain_5)\n",
    "    \n",
    "- [Subnetworks Df](#subnet_df)\n",
    "\n",
    "- [SAGE](#sage)"
   ]
  },
  {
   "cell_type": "markdown",
   "metadata": {},
   "source": [
    "### Functions\n",
    "<a id =\"func\"/>"
   ]
  },
  {
   "cell_type": "code",
   "execution_count": 17,
   "metadata": {},
   "outputs": [],
   "source": [
    "def network_general(df, col_1=\"name\", col_2=\"rt_name\"):\n",
    "    retweets_graph = nx.from_pandas_edgelist(df, col_1 ,col_2 , create_using=nx.DiGraph())\n",
    "    info = nx.info(retweets_graph)\n",
    "    \n",
    "    degree_dict = dict(retweets_graph.degree(retweets_graph.nodes()))\n",
    "    sorted_degree = sorted(degree_dict.items(), key=itemgetter(1), reverse=True)\n",
    "    \n",
    "    in_degree_dict = dict(retweets_graph.in_degree(retweets_graph.nodes()))\n",
    "    sorted_in_degree = sorted(in_degree_dict.items(), key=itemgetter(1), reverse=True)\n",
    "    \n",
    "    out_degree_dict = dict(retweets_graph.out_degree(retweets_graph.nodes()))\n",
    "    sorted_out_degree = sorted(out_degree_dict.items(), key=itemgetter(1), reverse=True)\n",
    "    \n",
    "    return {\"info\": info, \"degree\": sorted_degree, \"in_degree\": sorted_in_degree,  \n",
    "            \"out_degree\": sorted_out_degree}"
   ]
  },
  {
   "cell_type": "code",
   "execution_count": 18,
   "metadata": {},
   "outputs": [],
   "source": [
    "def network_louvain(df, col_1=\"name\", col_2=\"rt_name\"):\n",
    "    retweets_graph_und = nx.from_pandas_edgelist(df, col_1, col_2)\n",
    "    info = nx.info(retweets_graph_und)\n",
    "    \n",
    "    best_part = cm.best_partition(retweets_graph_und, random_state=42)\n",
    "    \n",
    "    return {\"info\": info, \"best_part\": best_part}"
   ]
  },
  {
   "cell_type": "code",
   "execution_count": 19,
   "metadata": {},
   "outputs": [],
   "source": [
    "def rt_community(df, louvain, col=\"user_screen_name\"):\n",
    "    community = []\n",
    "    name = []\n",
    "    rt = []\n",
    "    for i in df[col]:\n",
    "        if i in louvain:\n",
    "            rt.append((i, louvain.get(i)))\n",
    "    for i in range(len(rt)):\n",
    "        community.append(rt[i][1])\n",
    "    val = pd.Series(community)\n",
    "    val = val.value_counts().sort_values(ascending=False)\n",
    "    return val"
   ]
  },
  {
   "cell_type": "code",
   "execution_count": 25,
   "metadata": {},
   "outputs": [],
   "source": [
    "def plot_hist(val, title, col=\"lightseagreen\"):\n",
    "    fig = plt.figure()\n",
    "    ax = val[:10].plot(kind='barh', color=col) #orange #lightseagreen\n",
    "    ax.set_title(title, fontsize=15)\n",
    "    ax.invert_yaxis()\n",
    "    plt.show()"
   ]
  },
  {
   "cell_type": "code",
   "execution_count": 21,
   "metadata": {},
   "outputs": [],
   "source": [
    "def df_from_degree(degree, lst_subcomm, community, subcomm):\n",
    "    lst_name = []\n",
    "    lst_deg = []\n",
    "    lst_comm = []\n",
    "    lst_descr = []\n",
    "    lst_sub = []\n",
    "    cont = 0\n",
    "    for i in degree: #primi 50 8\n",
    "        if cont == 5:\n",
    "            break\n",
    "        if i[0] in lst_subcomm:\n",
    "            cont = cont + 1\n",
    "            lst_name.append(i[0])\n",
    "            lst_deg.append(i[1])\n",
    "            lst_comm.append(community)\n",
    "            lst_sub.append(subcomm)\n",
    "    df = pd.DataFrame(list(zip(lst_name, lst_deg, lst_comm, lst_sub)),\n",
    "                   columns =['name', 'degree', 'community', \"subcommunity\"])\n",
    "    return df"
   ]
  },
  {
   "cell_type": "markdown",
   "metadata": {},
   "source": [
    "### Load Files"
   ]
  },
  {
   "cell_type": "code",
   "execution_count": 22,
   "metadata": {},
   "outputs": [],
   "source": [
    "def read_from_json(path):\n",
    "    start_time = time.perf_counter()\n",
    "    file = open (path,)\n",
    "    obj = json.loads(file.read())\n",
    "    file.close()\n",
    "    stop_time = time.perf_counter()\n",
    "    print(\"Time: \",stop_time-start_time)\n",
    "    return obj"
   ]
  },
  {
   "cell_type": "code",
   "execution_count": 23,
   "metadata": {},
   "outputs": [],
   "source": [
    "path_ccdh_rt = glob.glob(\"F:/Supsi/COVID-19-Tweets/large_files/ccdh/\")\n",
    "ccdh_rt = pd.read_csv(path_ccdh_rt[0] + \"rt_bad.csv\")\n",
    "good_rt = pd.read_csv(path_ccdh_rt[0] + \"rt_good.csv\")\n",
    "path_dozen = glob.glob(\"C:/Users/gianl/Desktop/Gi/Supsi/BachelorProject/csv/\")\n",
    "bad_dozen = pd.read_csv(path_dozen[0] + \"disinformation_users.csv\")\n",
    "good_dozen = pd.read_csv(path_dozen[0] + \"all_good_users.csv\")\n",
    "files_tweets = glob.glob(\"F:/Supsi/COVID-19-Tweets/*/tweets.csv\")\n",
    "sage_path = glob.glob(\"C:/Users/gianl/Desktop/Gi/Supsi/BachelorProject/sage/data/\")\n",
    "df_sage = pd.read_csv(sage_path[0] + \"networks_50.csv\", low_memory=False, \n",
    "                      lineterminator=\"\\n\")"
   ]
  },
  {
   "cell_type": "markdown",
   "metadata": {},
   "source": [
    "### Network Community 1\n",
    "<a id=\"comm_1\"/>"
   ]
  },
  {
   "cell_type": "code",
   "execution_count": 32,
   "metadata": {},
   "outputs": [
    {
     "name": "stdout",
     "output_type": "stream",
     "text": [
      "Time:  2.1570019999999204\n",
      "Time:  1.4840671000001748\n"
     ]
    }
   ],
   "source": [
    "path_inside = path + \"/network_1/\"\n",
    "louvain_path = glob.glob(path_inside + \"louvain*.json\")[0]\n",
    "deg_path = glob.glob(path_inside + \"degree.json\")[0]\n",
    "degree_1 = read_from_json(deg_path)\n",
    "louvain_1 = read_from_json(louvain_path)\n",
    "ccdh_rt_flt_1 = ccdh_rt[ccdh_rt.user_screen_name.isin([x for x in louvain_1])]\n",
    "good_rt_flt_1 = good_rt[good_rt.screen_name.isin([x for x in louvain_1])]"
   ]
  },
  {
   "cell_type": "code",
   "execution_count": 13,
   "metadata": {},
   "outputs": [],
   "source": [
    "nt_1_users = list(louvain_1.keys())"
   ]
  },
  {
   "cell_type": "markdown",
   "metadata": {},
   "source": [
    "### Nt1 data collection"
   ]
  },
  {
   "cell_type": "code",
   "execution_count": 34,
   "metadata": {},
   "outputs": [],
   "source": [
    "# result = []\n",
    "# importlib.reload(tweets_utils)\n",
    "# start_time = time.perf_counter()\n",
    "# j = 0\n",
    "# df_nt1 = pd.DataFrame()\n",
    "# cols_tweets = [\"user_screen_name\", \"text\", \"hashtags\"]\n",
    "# for filename in tqdm(files_tweets):\n",
    "#     print(f\"Reading file: {filename}\")\n",
    "#     result.extend(tweets_utils.process_all_data(filename, cols_tweets, True, nt_1_users))\n",
    "#     lista = result[j]\n",
    "#     j = j + 1\n",
    "#     print(f\"Mese numero {j}\")\n",
    "#     for i in range(len(lista)):\n",
    "#         df_nt1 = df_nt1.append(lista[i][\"df\"])\n",
    "# stop_time = time.perf_counter()\n",
    "# print(\"Time: \",stop_time-start_time)"
   ]
  },
  {
   "cell_type": "code",
   "execution_count": 12,
   "metadata": {},
   "outputs": [],
   "source": [
    "# df_nt1 = df_nt1.reset_index(drop=True)\n",
    "# df_nt1\n",
    "# df_nt1.to_csv(\"C:/Users/gianl/Desktop/Gi/Supsi/BachelorProject/sage/data/nt_1_txt.csv\", line_terminator=\"\\n\",\n",
    "#                   encoding=\"utf-8\", index=False)"
   ]
  },
  {
   "cell_type": "markdown",
   "metadata": {},
   "source": [
    "#### Louvain\n",
    "<a id=\"louvain_1\"/>"
   ]
  },
  {
   "cell_type": "code",
   "execution_count": 13,
   "metadata": {},
   "outputs": [
    {
     "data": {
      "image/png": "[encoded data removed]",
      "text/plain": [
       "<Figure size 432x288 with 1 Axes>"
      ]
     },
     "metadata": {
      "needs_background": "light"
     },
     "output_type": "display_data"
    },
    {
     "name": "stdout",
     "output_type": "stream",
     "text": [
      "le prime 5 subcommunities sono il 71.32% del totale nella network_1\n",
      "il numero di utenti è 1142470\n"
     ]
    }
   ],
   "source": [
    "communities = []\n",
    "for i in louvain_1:\n",
    "    communities.append(louvain_1.get(i))\n",
    "comm = pd.Series(communities).value_counts().sort_values(ascending=False)\n",
    "ax = comm[:10].plot(kind='barh', color='plum') #orange #lightseagreen\n",
    "ax.set_title('Number of nodes per community - Network 1 (top 10)', fontsize=15)\n",
    "ax.invert_yaxis()\n",
    "plt.show()\n",
    "s = 0\n",
    "for i in comm[:5]:\n",
    "    s = s + i \n",
    "print(f\"le prime 5 subcommunities sono il {round(s/comm.sum()*100,2)}% del totale nella network_1\")\n",
    "print(f\"il numero di utenti è {comm.sum()}\")"
   ]
  },
  {
   "cell_type": "markdown",
   "metadata": {},
   "source": [
    "### Subcommunities"
   ]
  },
  {
   "cell_type": "code",
   "execution_count": 81,
   "metadata": {},
   "outputs": [],
   "source": [
    "lst_3 = []\n",
    "lst_0 = []\n",
    "lst_2 = []\n",
    "lst_4 = []\n",
    "lst_15 = []\n",
    "for i in louvain_1:\n",
    "    if louvain_1.get(i) == 3:\n",
    "        lst_3.append(i)\n",
    "    if louvain_1.get(i) == 0:\n",
    "        lst_0.append(i)\n",
    "    if louvain_1.get(i) == 2:\n",
    "        lst_2.append(i)\n",
    "    if louvain_1.get(i) == 4:\n",
    "        lst_4.append(i)\n",
    "    if louvain_1.get(i) == 15:\n",
    "        lst_15.append(i)\n",
    "                "
   ]
  },
  {
   "cell_type": "code",
   "execution_count": 82,
   "metadata": {},
   "outputs": [
    {
     "data": {
      "text/html": [
       "<div>\n",
       "<style scoped>\n",
       "    .dataframe tbody tr th:only-of-type {\n",
       "        vertical-align: middle;\n",
       "    }\n",
       "\n",
       "    .dataframe tbody tr th {\n",
       "        vertical-align: top;\n",
       "    }\n",
       "\n",
       "    .dataframe thead th {\n",
       "        text-align: right;\n",
       "    }\n",
       "</style>\n",
       "<table border=\"1\" class=\"dataframe\">\n",
       "  <thead>\n",
       "    <tr style=\"text-align: right;\">\n",
       "      <th></th>\n",
       "      <th>name</th>\n",
       "      <th>degree</th>\n",
       "      <th>community</th>\n",
       "      <th>subcommunity</th>\n",
       "    </tr>\n",
       "  </thead>\n",
       "  <tbody>\n",
       "    <tr>\n",
       "      <th>0</th>\n",
       "      <td>tedlieu</td>\n",
       "      <td>60191</td>\n",
       "      <td>1</td>\n",
       "      <td>3</td>\n",
       "    </tr>\n",
       "    <tr>\n",
       "      <th>1</th>\n",
       "      <td>funder</td>\n",
       "      <td>51566</td>\n",
       "      <td>1</td>\n",
       "      <td>3</td>\n",
       "    </tr>\n",
       "    <tr>\n",
       "      <th>2</th>\n",
       "      <td>maddow</td>\n",
       "      <td>44509</td>\n",
       "      <td>1</td>\n",
       "      <td>3</td>\n",
       "    </tr>\n",
       "    <tr>\n",
       "      <th>3</th>\n",
       "      <td>kylegriffin1</td>\n",
       "      <td>39583</td>\n",
       "      <td>1</td>\n",
       "      <td>3</td>\n",
       "    </tr>\n",
       "    <tr>\n",
       "      <th>4</th>\n",
       "      <td>RepAdamSchiff</td>\n",
       "      <td>30451</td>\n",
       "      <td>1</td>\n",
       "      <td>3</td>\n",
       "    </tr>\n",
       "    <tr>\n",
       "      <th>5</th>\n",
       "      <td>JuddLegum</td>\n",
       "      <td>32246</td>\n",
       "      <td>1</td>\n",
       "      <td>0</td>\n",
       "    </tr>\n",
       "    <tr>\n",
       "      <th>6</th>\n",
       "      <td>chrislhayes</td>\n",
       "      <td>30997</td>\n",
       "      <td>1</td>\n",
       "      <td>0</td>\n",
       "    </tr>\n",
       "    <tr>\n",
       "      <th>7</th>\n",
       "      <td>ewarren</td>\n",
       "      <td>26499</td>\n",
       "      <td>1</td>\n",
       "      <td>0</td>\n",
       "    </tr>\n",
       "    <tr>\n",
       "      <th>8</th>\n",
       "      <td>ASlavitt</td>\n",
       "      <td>19939</td>\n",
       "      <td>1</td>\n",
       "      <td>0</td>\n",
       "    </tr>\n",
       "    <tr>\n",
       "      <th>9</th>\n",
       "      <td>brianschatz</td>\n",
       "      <td>16925</td>\n",
       "      <td>1</td>\n",
       "      <td>0</td>\n",
       "    </tr>\n",
       "    <tr>\n",
       "      <th>10</th>\n",
       "      <td>CNN</td>\n",
       "      <td>48193</td>\n",
       "      <td>1</td>\n",
       "      <td>2</td>\n",
       "    </tr>\n",
       "    <tr>\n",
       "      <th>11</th>\n",
       "      <td>nytimes</td>\n",
       "      <td>31924</td>\n",
       "      <td>1</td>\n",
       "      <td>2</td>\n",
       "    </tr>\n",
       "    <tr>\n",
       "      <th>12</th>\n",
       "      <td>NPR</td>\n",
       "      <td>20376</td>\n",
       "      <td>1</td>\n",
       "      <td>2</td>\n",
       "    </tr>\n",
       "    <tr>\n",
       "      <th>13</th>\n",
       "      <td>washingtonpost</td>\n",
       "      <td>19579</td>\n",
       "      <td>1</td>\n",
       "      <td>2</td>\n",
       "    </tr>\n",
       "    <tr>\n",
       "      <th>14</th>\n",
       "      <td>ABC</td>\n",
       "      <td>19097</td>\n",
       "      <td>1</td>\n",
       "      <td>2</td>\n",
       "    </tr>\n",
       "    <tr>\n",
       "      <th>15</th>\n",
       "      <td>RBReich</td>\n",
       "      <td>26108</td>\n",
       "      <td>1</td>\n",
       "      <td>4</td>\n",
       "    </tr>\n",
       "    <tr>\n",
       "      <th>16</th>\n",
       "      <td>AOC</td>\n",
       "      <td>25564</td>\n",
       "      <td>1</td>\n",
       "      <td>4</td>\n",
       "    </tr>\n",
       "    <tr>\n",
       "      <th>17</th>\n",
       "      <td>BernieSanders</td>\n",
       "      <td>16462</td>\n",
       "      <td>1</td>\n",
       "      <td>4</td>\n",
       "    </tr>\n",
       "    <tr>\n",
       "      <th>18</th>\n",
       "      <td>SenSanders</td>\n",
       "      <td>13310</td>\n",
       "      <td>1</td>\n",
       "      <td>4</td>\n",
       "    </tr>\n",
       "    <tr>\n",
       "      <th>19</th>\n",
       "      <td>Public_Citizen</td>\n",
       "      <td>10989</td>\n",
       "      <td>1</td>\n",
       "      <td>4</td>\n",
       "    </tr>\n",
       "    <tr>\n",
       "      <th>20</th>\n",
       "      <td>JoeBiden</td>\n",
       "      <td>49803</td>\n",
       "      <td>1</td>\n",
       "      <td>15</td>\n",
       "    </tr>\n",
       "    <tr>\n",
       "      <th>21</th>\n",
       "      <td>HillaryClinton</td>\n",
       "      <td>17974</td>\n",
       "      <td>1</td>\n",
       "      <td>15</td>\n",
       "    </tr>\n",
       "    <tr>\n",
       "      <th>22</th>\n",
       "      <td>Yamiche</td>\n",
       "      <td>17377</td>\n",
       "      <td>1</td>\n",
       "      <td>15</td>\n",
       "    </tr>\n",
       "    <tr>\n",
       "      <th>23</th>\n",
       "      <td>soledadobrien</td>\n",
       "      <td>12275</td>\n",
       "      <td>1</td>\n",
       "      <td>15</td>\n",
       "    </tr>\n",
       "    <tr>\n",
       "      <th>24</th>\n",
       "      <td>GeorgeTakei</td>\n",
       "      <td>8560</td>\n",
       "      <td>1</td>\n",
       "      <td>15</td>\n",
       "    </tr>\n",
       "  </tbody>\n",
       "</table>\n",
       "</div>"
      ],
      "text/plain": [
       "              name  degree  community  subcommunity\n",
       "0          tedlieu   60191          1             3\n",
       "1           funder   51566          1             3\n",
       "2           maddow   44509          1             3\n",
       "3     kylegriffin1   39583          1             3\n",
       "4    RepAdamSchiff   30451          1             3\n",
       "5        JuddLegum   32246          1             0\n",
       "6      chrislhayes   30997          1             0\n",
       "7          ewarren   26499          1             0\n",
       "8         ASlavitt   19939          1             0\n",
       "9      brianschatz   16925          1             0\n",
       "10             CNN   48193          1             2\n",
       "11         nytimes   31924          1             2\n",
       "12             NPR   20376          1             2\n",
       "13  washingtonpost   19579          1             2\n",
       "14             ABC   19097          1             2\n",
       "15         RBReich   26108          1             4\n",
       "16             AOC   25564          1             4\n",
       "17   BernieSanders   16462          1             4\n",
       "18      SenSanders   13310          1             4\n",
       "19  Public_Citizen   10989          1             4\n",
       "20        JoeBiden   49803          1            15\n",
       "21  HillaryClinton   17974          1            15\n",
       "22         Yamiche   17377          1            15\n",
       "23   soledadobrien   12275          1            15\n",
       "24     GeorgeTakei    8560          1            15"
      ]
     },
     "execution_count": 82,
     "metadata": {},
     "output_type": "execute_result"
    }
   ],
   "source": [
    "df_info = df_from_degree(degree=degree_1, lst_subcomm=lst_3, community=1, subcomm=3)\n",
    "df_info = df_info.append(df_from_degree(degree=degree_1, lst_subcomm=lst_0, community=1, subcomm=0))\n",
    "df_info = df_info.append(df_from_degree(degree=degree_1, lst_subcomm=lst_2, community=1, subcomm=2))\n",
    "df_info = df_info.append(df_from_degree(degree=degree_1, lst_subcomm=lst_4, community=1, subcomm=4))\n",
    "df_info = df_info.append(df_from_degree(degree=degree_1, lst_subcomm=lst_15, community=1, subcomm=15))\n",
    "df_info = df_info.reset_index(drop=True)\n",
    "df_info"
   ]
  },
  {
   "cell_type": "markdown",
   "metadata": {},
   "source": [
    "tedlieu -> politician (dem)\n",
    "funder -> politician (dem)\n",
    "maddow -> MSNBC (dem)\n",
    "kylegriffin1 -> MSNBC (dem)\n",
    "RepAdamSchiff -> dem politician\n",
    "\n",
    "JuddLegum -> journalist (dem)\n",
    "chrislhayes -> MSNBC (dem)\n",
    "ewarren -> politician (dem)\n",
    "ASlavitt -> involved in politics (dem)\n",
    "brianschatz -> politician (dem)\n",
    "\n",
    "CNN -> newspaper\n",
    "nytimes -> newspaper\n",
    "NPR -> newspaper\n",
    "washingtonpost -> newspaper\n",
    "ABC -> newspaper\n",
    "\n",
    "RBReich -> politician (dem)\n",
    "AOC -> politician (dem)\n",
    "BernieSanders -> politician (dem)\n",
    "SenSanders -> involved in politics (dem)\n",
    "Public_Citizen -> progressive consumer rights advocacy group\n",
    "\n",
    "JoeBiden -> politician (dem)\n",
    "HillaryClinton -> politician (dem)\n",
    "Yamiche -> MSNBC\n",
    "soledadobrien -> journalist\n",
    "GeorgeTakei -> involved in politics (dem)"
   ]
  },
  {
   "cell_type": "code",
   "execution_count": 33,
   "metadata": {},
   "outputs": [
    {
     "name": "stdout",
     "output_type": "stream",
     "text": [
      "Totale degli utenti che retweettano i Bad Dozen in questa network: 7156, il 0.63%\n",
      "4.66% su chi retweetta i Bad Dozen\n"
     ]
    },
    {
     "data": {
      "image/png": "[encoded data removed]",
      "text/plain": [
       "<Figure size 432x288 with 1 Axes>"
      ]
     },
     "metadata": {
      "needs_background": "light"
     },
     "output_type": "display_data"
    }
   ],
   "source": [
    "val = rt_community(ccdh_rt_flt_1, louvain_1)\n",
    "print(f\"Totale degli utenti che retweettano i Bad Dozen in questa network: {val.sum()}, il {round(val.sum()/comm.sum()*100,2)}%\")\n",
    "print(f\"{round(val.sum()/len(ccdh_rt)*100,2)}% su chi retweetta i Bad Dozen\")\n",
    "plot_hist(val, \"Number of community for user who retweet BAD DOZEN (inside network 1)\")\n",
    "\n",
    "# print(f\"Lunghezza della community più grande: {val[0]} nodi su {comm[3]} della network ({round(val[0]/comm[3],4)*100}%)\")\n",
    "# print(f\"La community 1-0 contiene il {round(val[0] / sum(val),4)*100}% degli utenti presenti nella network\")\n",
    "# print(f\"La network contiene {sum(val)} utenti che retwettano i BAD DOZEN su un totale di {len(ccdh_rt)} ({round(sum(val)/len(ccdh_rt),2)*100}%)\")\n"
   ]
  },
  {
   "cell_type": "code",
   "execution_count": 35,
   "metadata": {
    "scrolled": false
   },
   "outputs": [
    {
     "name": "stdout",
     "output_type": "stream",
     "text": [
      "Utenti che retweettano i Good Dozen : 113490, il 9.93% sulla network\n",
      "55.8% sul totale degli utenti che retweettano i Good Dozen\n"
     ]
    },
    {
     "data": {
      "image/png": "[encoded data removed]",
      "text/plain": [
       "<Figure size 432x288 with 1 Axes>"
      ]
     },
     "metadata": {
      "needs_background": "light"
     },
     "output_type": "display_data"
    }
   ],
   "source": [
    "val = rt_community(good_rt_flt_1, louvain_1, \"screen_name\")\n",
    "print(f\"Utenti che retweettano i Good Dozen : {val.sum()}, il {round(val.sum()/comm.sum()*100,2)}% sulla network\")\n",
    "print(f\"{round(val.sum()/len(good_rt)*100,2)}% sul totale degli utenti che retweettano i Good Dozen\")\n",
    "plot_hist(val, \"Number of community for user who retweet GOOD DOZEN (inside network 1)\", \"steelblue\")"
   ]
  },
  {
   "cell_type": "markdown",
   "metadata": {},
   "source": [
    "### Network Community 2\n",
    "<a id=\"comm_2\"/>"
   ]
  },
  {
   "cell_type": "code",
   "execution_count": 38,
   "metadata": {
    "scrolled": true
   },
   "outputs": [
    {
     "name": "stdout",
     "output_type": "stream",
     "text": [
      "Time:  1.6896566000004896\n",
      "Time:  1.3864363000002413\n"
     ]
    }
   ],
   "source": [
    "path_inside = path + \"/network_2/\"\n",
    "louvain_path = glob.glob(path_inside + \"louvain*.json\")[0]\n",
    "deg_path = glob.glob(path_inside + \"degree.json\")[0]\n",
    "degree_2 = read_from_json(deg_path)\n",
    "louvain_2 = read_from_json(louvain_path)\n",
    "ccdh_rt_flt_2 = ccdh_rt[ccdh_rt.user_screen_name.isin([x for x in louvain_2])]\n",
    "good_rt_flt_2 = good_rt[good_rt.screen_name.isin([x for x in louvain_2])]\n",
    "# to_remove = ccdh_rt[~ccdh_rt.user_screen_name.isin([x for x in louvain_2])]"
   ]
  },
  {
   "cell_type": "markdown",
   "metadata": {},
   "source": [
    "#### Louvain\n",
    "<a id=\"louvain_2\"/>"
   ]
  },
  {
   "cell_type": "code",
   "execution_count": 39,
   "metadata": {},
   "outputs": [
    {
     "data": {
      "image/png": "[encoded data removed]",
      "text/plain": [
       "<Figure size 432x288 with 1 Axes>"
      ]
     },
     "metadata": {
      "needs_background": "light"
     },
     "output_type": "display_data"
    },
    {
     "name": "stdout",
     "output_type": "stream",
     "text": [
      "le prime 5 subcommunities sono il 71.57% del totale nella network_1\n",
      "il numero di utenti è 1036651\n"
     ]
    }
   ],
   "source": [
    "communities = []\n",
    "for i in louvain_2:\n",
    "    communities.append(louvain_2.get(i))\n",
    "comm = pd.Series(communities).value_counts().sort_values(ascending=False)\n",
    "ax = comm[:10].plot(kind='barh', color='plum') #orange #lightseagreen\n",
    "ax.set_title('Number of nodes per community - Network 2 (top 10)', fontsize=15)\n",
    "ax.invert_yaxis()\n",
    "plt.show()\n",
    "s = 0\n",
    "for i in comm[:5]:\n",
    "    s = s + i \n",
    "print(f\"le prime 5 subcommunities sono il {round(s/comm.sum()*100,2)}% del totale nella network_1\")\n",
    "print(f\"il numero di utenti è {comm.sum()}\")"
   ]
  },
  {
   "cell_type": "markdown",
   "metadata": {},
   "source": [
    "### Subcommunities"
   ]
  },
  {
   "cell_type": "code",
   "execution_count": null,
   "metadata": {},
   "outputs": [],
   "source": [
    "lst_3 = []\n",
    "lst_6 = []\n",
    "lst_0 = []\n",
    "lst_4 = []\n",
    "lst_17 = []\n",
    "\n",
    "for i in louvain_2:\n",
    "    if louvain_2.get(i) == 3:\n",
    "        lst_3.append(i)\n",
    "    if louvain_2.get(i) == 6:\n",
    "        lst_6.append(i)\n",
    "    if louvain_2.get(i) == 0:\n",
    "        lst_0.append(i)\n",
    "    if louvain_2.get(i) == 4:\n",
    "        lst_4.append(i)\n",
    "    if louvain_2.get(i) == 17:\n",
    "        lst_17.append(i)"
   ]
  },
  {
   "cell_type": "code",
   "execution_count": 84,
   "metadata": {},
   "outputs": [],
   "source": [
    "df_info = df_info.append(df_from_degree(degree=degree_2, lst_subcomm=lst_3, community=2, subcomm=3))\n",
    "df_info = df_info.append(df_from_degree(degree=degree_2, lst_subcomm=lst_6, community=2, subcomm=6))\n",
    "df_info = df_info.append(df_from_degree(degree=degree_2, lst_subcomm=lst_0, community=2, subcomm=0))\n",
    "df_info = df_info.append(df_from_degree(degree=degree_2, lst_subcomm=lst_4, community=2, subcomm=4))\n",
    "df_info = df_info.append(df_from_degree(degree=degree_2, lst_subcomm=lst_17, community=2, subcomm=17))\n",
    "df_info = df_info.reset_index(drop=True)"
   ]
  },
  {
   "cell_type": "markdown",
   "metadata": {},
   "source": [
    "Reuters -> business news\n",
    "business -> business news\n",
    "BNODesk -> news\n",
    "Quicktake -> business news\n",
    "AFP -> france news\n",
    "\n",
    "BorisJohnson -> uk prime minister (cons)\n",
    "PeterSweden7 -> swedish journalist\n",
    "Telegraph -> uk newspaper\n",
    "RitaPanahi -> australian journalist (cons)\n",
    "Nigel_Farage -> uk politcian (cons)\n",
    "\n",
    "charliekirk11 -> involved in USA politics (cons)\n",
    "RealJamesWoods -> acotr involved in USA politics (cons)\n",
    "RealCandaceO -> activist involved in USA politics (cons)\n",
    "IngrahamAngle -> journalist involved in USA politics (cons)\n",
    "DonaldJTrumpJr -> politcian (cons)\n",
    "\n",
    "jenniferatntd -> chinese activist\n",
    "SenTomCotton -> politcian (cons)\n",
    "MailOnline -> uk news\n",
    "badiucao -> chinese cartoonist and activist \n",
    "HawleyMO -> politcian (cons)\n",
    "\n",
    "Karl_Lauterbach -> german politician (dem)\n",
    "tagesschau -> german news\n",
    "Tagesspiegel -> german news\n",
    "ZDFheute -> german news\n",
    "derspiegel -> german news"
   ]
  },
  {
   "cell_type": "code",
   "execution_count": 42,
   "metadata": {},
   "outputs": [
    {
     "name": "stdout",
     "output_type": "stream",
     "text": [
      "Totale degli utenti che retweettano i Bad Dozen in questa network: 48402, il 4.67%\n",
      "31.52% su chi retweetta i Bad Dozen\n"
     ]
    },
    {
     "data": {
      "image/png": "[encoded data removed]",
      "text/plain": [
       "<Figure size 432x288 with 1 Axes>"
      ]
     },
     "metadata": {
      "needs_background": "light"
     },
     "output_type": "display_data"
    }
   ],
   "source": [
    "val = rt_community(ccdh_rt_flt_2, louvain_2)\n",
    "print(f\"Totale degli utenti che retweettano i Bad Dozen in questa network: {val.sum()}, il {round(val.sum()/comm.sum()*100,2)}%\")\n",
    "print(f\"{round(val.sum()/len(ccdh_rt)*100,2)}% su chi retweetta i Bad Dozen\")\n",
    "plot_hist(val, \"Number of community for user who retweet BAD DOZEN (inside network 2)\")"
   ]
  },
  {
   "cell_type": "code",
   "execution_count": 43,
   "metadata": {},
   "outputs": [
    {
     "name": "stdout",
     "output_type": "stream",
     "text": [
      "Utenti che retweettano i Good Dozen : 34942, il 3.37% sulla network\n",
      "17.18% sul totale degli utenti che retweettano i Good Dozen\n"
     ]
    },
    {
     "data": {
      "image/png": "[encoded data removed]",
      "text/plain": [
       "<Figure size 432x288 with 1 Axes>"
      ]
     },
     "metadata": {
      "needs_background": "light"
     },
     "output_type": "display_data"
    }
   ],
   "source": [
    "val = rt_community(good_rt_flt_2, louvain_2, \"screen_name\")\n",
    "print(f\"Utenti che retweettano i Good Dozen : {val.sum()}, il {round(val.sum()/comm.sum()*100,2)}% sulla network\")\n",
    "print(f\"{round(val.sum()/len(good_rt)*100,2)}% sul totale degli utenti che retweettano i Good Dozen\")\n",
    "plot_hist(val, \"Number of community for user who retweet GOOD DOZEN (inside network 2)\", \"steelblue\")"
   ]
  },
  {
   "cell_type": "markdown",
   "metadata": {},
   "source": [
    "### Network Community 19\n",
    "<a id=\"comm_19\"/>\n"
   ]
  },
  {
   "cell_type": "code",
   "execution_count": 46,
   "metadata": {},
   "outputs": [
    {
     "name": "stdout",
     "output_type": "stream",
     "text": [
      "Time:  1.191097500000069\n",
      "Time:  0.8384313999995356\n"
     ]
    }
   ],
   "source": [
    "path_inside = path + \"/network_19/\"\n",
    "louvain_path = glob.glob(path_inside + \"louvain*.json\")[0]\n",
    "degree_path = glob.glob(path_inside + \"degree*.json\")[0]\n",
    "degree_19 = read_from_json(degree_path)\n",
    "louvain_19 = read_from_json(louvain_path)\n",
    "ccdh_rt_flt_19 = ccdh_rt[ccdh_rt.user_screen_name.isin([x for x in louvain_19])]\n",
    "good_rt_flt_19 = good_rt[good_rt.screen_name.isin([x for x in louvain_19])]"
   ]
  },
  {
   "cell_type": "markdown",
   "metadata": {},
   "source": [
    "#### Louvain\n",
    "<a id=\"louvain_19\"/>"
   ]
  },
  {
   "cell_type": "code",
   "execution_count": 15,
   "metadata": {},
   "outputs": [
    {
     "data": {
      "image/png": "[encoded data removed]",
      "text/plain": [
       "<Figure size 432x288 with 1 Axes>"
      ]
     },
     "metadata": {
      "needs_background": "light"
     },
     "output_type": "display_data"
    },
    {
     "name": "stdout",
     "output_type": "stream",
     "text": [
      "le prime 5 subcommunities sono il 57.73% del totale nella network_1\n",
      "il numero di utenti è 607295\n"
     ]
    }
   ],
   "source": [
    "communities = []\n",
    "for i in louvain_19:\n",
    "    communities.append(louvain_19.get(i))\n",
    "comm = pd.Series(communities).value_counts().sort_values(ascending=False)\n",
    "ax = comm[:10].plot(kind='barh', color='plum') #orange #lightseagreen\n",
    "ax.set_title('Number of nodes per community - Network 19 (top 10)', fontsize=15)\n",
    "ax.invert_yaxis()\n",
    "plt.show()\n",
    "s = 0\n",
    "for i in comm[:5]:\n",
    "    s = s + i \n",
    "print(f\"le prime 5 subcommunities sono il {round(s/comm.sum()*100,2)}% del totale nella network_1\")\n",
    "print(f\"il numero di utenti è {comm.sum()}\")"
   ]
  },
  {
   "cell_type": "markdown",
   "metadata": {},
   "source": [
    "### Dozen inside community 19"
   ]
  },
  {
   "cell_type": "code",
   "execution_count": 102,
   "metadata": {},
   "outputs": [],
   "source": [
    "lst_5 = []\n",
    "lst_18 = []\n",
    "lst_1 = []\n",
    "lst_2 = []\n",
    "lst_3 = []\n",
    "for i in louvain_19:\n",
    "    if louvain_19.get(i) == 5:\n",
    "        lst_5.append(i)\n",
    "    if louvain_19.get(i) == 18:\n",
    "        lst_18.append(i)\n",
    "    if louvain_19.get(i) == 1:\n",
    "        lst_1.append(i)\n",
    "    if louvain_19.get(i) == 2:\n",
    "        lst_2.append(i)\n",
    "    if louvain_19.get(i) == 3:\n",
    "        lst_3.append(i) \n",
    "        \n",
    "df_info = df_info.append(df_from_degree(degree=degree_19, lst_subcomm=lst_5, community=19, subcomm=5))\n",
    "df_info = df_info.append(df_from_degree(degree=degree_19, lst_subcomm=lst_18, community=19, subcomm=18))\n",
    "df_info = df_info.append(df_from_degree(degree=degree_19, lst_subcomm=lst_1, community=19, subcomm=1))\n",
    "df_info = df_info.append(df_from_degree(degree=degree_19, lst_subcomm=lst_2, community=19, subcomm=2))\n",
    "df_info = df_info.append(df_from_degree(degree=degree_19, lst_subcomm=lst_3, community=19, subcomm=3))\n",
    "df_info = df_info.reset_index(drop=True)\n",
    "# df_info"
   ]
  },
  {
   "cell_type": "markdown",
   "metadata": {},
   "source": [
    "NCDCgov -> nigerian government\n",
    "DrOlufunmilayo -> nigerian doctor \n",
    "aproko_doctor -> nigerian doctor\n",
    "MobilePunch -> nigerian news\n",
    "segalink -> nigerian activist\n",
    "\n",
    "News24 -> southafrican news \n",
    "AdvoBarryRoux -> southafrican advocate (suspended)\n",
    "DrZweliMkhize -> southafrican health minister\n",
    "eNCA -> african news\n",
    "MbuyiseniNdlozi -> southafrican politician\n",
    "\n",
    "citizentvkenya -> kenya news\n",
    "NationBreaking -> african news\n",
    "samirasawlani -> journalist\n",
    "NationAfrica -> african news\n",
    "RobertAlai -> african politician\n",
    "\n",
    "UN -> organization\n",
    "UNICEF -> organization\n",
    "antonioguterres -> un segretary\n",
    "UN_Women -> organization\n",
    "WorldBank -> organization\n",
    "\n",
    "WHO -> organization\n",
    "DrTedros -> who director\n",
    "WHOAFRO -> organization\n",
    "WebMD -> orgnization\n",
    "WHOEMRO ->organization"
   ]
  },
  {
   "cell_type": "code",
   "execution_count": 47,
   "metadata": {
    "scrolled": false
   },
   "outputs": [
    {
     "name": "stdout",
     "output_type": "stream",
     "text": [
      "Totale degli utenti che retweettano i Bad Dozen in questa network: 1619, il 0.16%\n",
      "1.05% su chi retweetta i Bad Dozen\n"
     ]
    },
    {
     "data": {
      "image/png": "[encoded data removed]",
      "text/plain": [
       "<Figure size 432x288 with 1 Axes>"
      ]
     },
     "metadata": {
      "needs_background": "light"
     },
     "output_type": "display_data"
    }
   ],
   "source": [
    "val = rt_community(ccdh_rt_flt_19, louvain_19)\n",
    "print(f\"Totale degli utenti che retweettano i Bad Dozen in questa network: {val.sum()}, il {round(val.sum()/comm.sum()*100,2)}%\")\n",
    "print(f\"{round(val.sum()/len(ccdh_rt)*100,2)}% su chi retweetta i Bad Dozen\")\n",
    "# print(f\"Lunghezza della community più grande: {val[1]} nodi su {comm[4]} della network ({round(val[1]/comm[4],4)*100}%)\")\n",
    "# print(f\"La community 2-1 contiene il {round(val[1] / sum(val),4)*100}% degli utenti presenti nella network\")\n",
    "# print(f\"La network contiene {sum(val)} utenti che retwettano i BAD DOZEN su un totale di {len(ccdh_rt)} ({round(sum(val)/len(ccdh_rt),2)*100}%)\")\n",
    "plot_hist(val, \"Number of community for user who retweet BAD DOZEN (inside network 19)\")"
   ]
  },
  {
   "cell_type": "code",
   "execution_count": 48,
   "metadata": {},
   "outputs": [
    {
     "name": "stdout",
     "output_type": "stream",
     "text": [
      "Utenti che retweettano i Good Dozen : 5203, il 0.5% sulla network\n",
      "2.56% sul totale degli utenti che retweettano i Good Dozen\n"
     ]
    },
    {
     "data": {
      "image/png": "[encoded data removed]",
      "text/plain": [
       "<Figure size 432x288 with 1 Axes>"
      ]
     },
     "metadata": {
      "needs_background": "light"
     },
     "output_type": "display_data"
    }
   ],
   "source": [
    "val = rt_community(good_rt_flt_19, louvain_19, \"screen_name\")\n",
    "print(f\"Utenti che retweettano i Good Dozen : {val.sum()}, il {round(val.sum()/comm.sum()*100,2)}% sulla network\")\n",
    "print(f\"{round(val.sum()/len(good_rt)*100,2)}% sul totale degli utenti che retweettano i Good Dozen\")\n",
    "plot_hist(val, \"Number of community for user who retweet GOOD DOZEN (inside network 19)\", \"steelblue\")"
   ]
  },
  {
   "cell_type": "markdown",
   "metadata": {},
   "source": [
    "### Network Community 15\n",
    "<a id=\"comm_15\"/>"
   ]
  },
  {
   "cell_type": "code",
   "execution_count": 49,
   "metadata": {},
   "outputs": [
    {
     "name": "stdout",
     "output_type": "stream",
     "text": [
      "Time:  0.5702926999992997\n"
     ]
    }
   ],
   "source": [
    "path_inside = path + \"/network_15/\"\n",
    "louvain_path = glob.glob(path_inside + \"louvain*.json\")[0]\n",
    "# deg_path = glob.glob(path_inside + \"degree.json\")[0]\n",
    "# degree_1 = read_from_json(deg_path)\n",
    "louvain_15 = read_from_json(louvain_path)\n",
    "# ccdh_rt_flt_1 = ccdh_rt[ccdh_rt.user_screen_name.isin([x for x in louvain_1])]\n",
    "# good_rt_flt_1 = good_rt[good_rt.user_screen_name.isin([x for x in louvain_1])]"
   ]
  },
  {
   "cell_type": "code",
   "execution_count": 50,
   "metadata": {},
   "outputs": [
    {
     "data": {
      "image/png": "[encoded data removed]",
      "text/plain": [
       "<Figure size 432x288 with 1 Axes>"
      ]
     },
     "metadata": {
      "needs_background": "light"
     },
     "output_type": "display_data"
    },
    {
     "name": "stdout",
     "output_type": "stream",
     "text": [
      "le prime 50 subcommunities sono il 58.63% del totale nella network_15\n",
      "il numero di utenti è 417021\n"
     ]
    }
   ],
   "source": [
    "communities = []\n",
    "for i in louvain_15:\n",
    "    communities.append(louvain_15.get(i))\n",
    "comm = pd.Series(communities).value_counts().sort_values(ascending=False)\n",
    "ax = comm[:10].plot(kind='barh', color='plum') #orange #lightseagreen\n",
    "ax.set_title('Number of nodes per community - Network 15 (top 10)', fontsize=15)\n",
    "ax.invert_yaxis()\n",
    "plt.show()\n",
    "s = 0\n",
    "for i in comm[:50]:\n",
    "    s = s + i \n",
    "print(f\"le prime 50 subcommunities sono il {round(s/comm.sum()*100,2)}% del totale nella network_15\")\n",
    "print(f\"il numero di utenti è {comm.sum()}\")"
   ]
  },
  {
   "cell_type": "markdown",
   "metadata": {},
   "source": [
    "### Network Community 14\n",
    "<a id=\"comm_19\"/>"
   ]
  },
  {
   "cell_type": "code",
   "execution_count": 12,
   "metadata": {},
   "outputs": [
    {
     "name": "stdout",
     "output_type": "stream",
     "text": [
      "Time:  0.7293124999998781\n"
     ]
    }
   ],
   "source": [
    "path_inside = path + \"/network_14/\"\n",
    "louvain_path = glob.glob(path_inside + \"louvain*.json\")[0]\n",
    "louvain_14 = read_from_json(louvain_path)"
   ]
  },
  {
   "cell_type": "code",
   "execution_count": 13,
   "metadata": {},
   "outputs": [
    {
     "data": {
      "image/png": "[encoded data removed]",
      "text/plain": [
       "<Figure size 432x288 with 1 Axes>"
      ]
     },
     "metadata": {
      "needs_background": "light"
     },
     "output_type": "display_data"
    },
    {
     "name": "stdout",
     "output_type": "stream",
     "text": [
      "le prime 5 subcommunities sono il 65.53% del totale nella network_1\n",
      "il numero di utenti è 612418\n"
     ]
    }
   ],
   "source": [
    "communities = []\n",
    "for i in louvain_14:\n",
    "    communities.append(louvain_14.get(i))\n",
    "comm = pd.Series(communities).value_counts().sort_values(ascending=False)\n",
    "ax = comm[:10].plot(kind='barh', color='plum') #orange #lightseagreen\n",
    "ax.set_title('Number of nodes per community - Network 14 (top 10)', fontsize=15)\n",
    "ax.invert_yaxis()\n",
    "plt.show()\n",
    "s = 0\n",
    "for i in comm[:5]:\n",
    "    s = s + i \n",
    "print(f\"le prime 5 subcommunities sono il {round(s/comm.sum()*100,2)}% del totale nella network_14\")\n",
    "print(f\"il numero di utenti è {comm.sum()}\")"
   ]
  },
  {
   "cell_type": "markdown",
   "metadata": {},
   "source": [
    "### Network Community 5\n",
    "<a id=\"comm5\"/>"
   ]
  },
  {
   "cell_type": "code",
   "execution_count": 18,
   "metadata": {},
   "outputs": [
    {
     "name": "stdout",
     "output_type": "stream",
     "text": [
      "Time:  2.8819001000001663\n",
      "Time:  2.267900599999848\n"
     ]
    }
   ],
   "source": [
    "path_inside = path + \"/network_5/\"\n",
    "louvain_path = glob.glob(path_inside + \"louvain*.json\")[0]\n",
    "deg_path = glob.glob(path_inside + \"degree.json\")[0]\n",
    "degree_5 = read_from_json(deg_path)\n",
    "louvain_5 = read_from_json(louvain_path)"
   ]
  },
  {
   "cell_type": "code",
   "execution_count": 21,
   "metadata": {},
   "outputs": [
    {
     "data": {
      "image/png": "[encoded data removed]",
      "text/plain": [
       "<Figure size 432x288 with 1 Axes>"
      ]
     },
     "metadata": {
      "needs_background": "light"
     },
     "output_type": "display_data"
    },
    {
     "name": "stdout",
     "output_type": "stream",
     "text": [
      "le prime 5 subcommunities sono il 30.1% del totale nella network_5\n",
      "il numero di utenti è 1687953\n"
     ]
    }
   ],
   "source": [
    "communities = []\n",
    "for i in louvain_5:\n",
    "    communities.append(louvain_5.get(i))\n",
    "comm = pd.Series(communities).value_counts().sort_values(ascending=False)\n",
    "ax = comm[:10].plot(kind='barh', color='plum') #orange #lightseagreen\n",
    "ax.set_title('Number of nodes per community - Network 5 (top 10)', fontsize=15)\n",
    "ax.invert_yaxis()\n",
    "plt.show()\n",
    "s = 0\n",
    "for i in comm[:5]:\n",
    "    s = s + i \n",
    "print(f\"le prime 5 subcommunities sono il {round(s/comm.sum()*100,2)}% del totale nella network_5\")\n",
    "print(f\"il numero di utenti è {comm.sum()}\")"
   ]
  },
  {
   "cell_type": "markdown",
   "metadata": {},
   "source": [
    "### Subnetwork DataFrame\n",
    "<a id=\"subnet_df\"/>"
   ]
  },
  {
   "cell_type": "code",
   "execution_count": 5,
   "metadata": {
    "scrolled": false
   },
   "outputs": [
    {
     "data": {
      "text/html": [
       "<div>\n",
       "<style scoped>\n",
       "    .dataframe tbody tr th:only-of-type {\n",
       "        vertical-align: middle;\n",
       "    }\n",
       "\n",
       "    .dataframe tbody tr th {\n",
       "        vertical-align: top;\n",
       "    }\n",
       "\n",
       "    .dataframe thead th {\n",
       "        text-align: right;\n",
       "    }\n",
       "</style>\n",
       "<table border=\"1\" class=\"dataframe\">\n",
       "  <thead>\n",
       "    <tr style=\"text-align: right;\">\n",
       "      <th></th>\n",
       "      <th>name</th>\n",
       "      <th>degree</th>\n",
       "      <th>community</th>\n",
       "      <th>subcommunity</th>\n",
       "      <th>description</th>\n",
       "    </tr>\n",
       "  </thead>\n",
       "  <tbody>\n",
       "    <tr>\n",
       "      <th>50</th>\n",
       "      <td>NCDCgov</td>\n",
       "      <td>21397</td>\n",
       "      <td>19</td>\n",
       "      <td>5</td>\n",
       "      <td>nigerian government</td>\n",
       "    </tr>\n",
       "    <tr>\n",
       "      <th>51</th>\n",
       "      <td>DrOlufunmilayo</td>\n",
       "      <td>14401</td>\n",
       "      <td>19</td>\n",
       "      <td>5</td>\n",
       "      <td>nigerian doctor</td>\n",
       "    </tr>\n",
       "    <tr>\n",
       "      <th>52</th>\n",
       "      <td>aproko_doctor</td>\n",
       "      <td>7662</td>\n",
       "      <td>19</td>\n",
       "      <td>5</td>\n",
       "      <td>nigerian doctor</td>\n",
       "    </tr>\n",
       "    <tr>\n",
       "      <th>53</th>\n",
       "      <td>MobilePunch</td>\n",
       "      <td>6605</td>\n",
       "      <td>19</td>\n",
       "      <td>5</td>\n",
       "      <td>nigerian news</td>\n",
       "    </tr>\n",
       "    <tr>\n",
       "      <th>54</th>\n",
       "      <td>segalink</td>\n",
       "      <td>6536</td>\n",
       "      <td>19</td>\n",
       "      <td>5</td>\n",
       "      <td>nigerian activist</td>\n",
       "    </tr>\n",
       "    <tr>\n",
       "      <th>55</th>\n",
       "      <td>News24</td>\n",
       "      <td>7078</td>\n",
       "      <td>19</td>\n",
       "      <td>18</td>\n",
       "      <td>southafrican news</td>\n",
       "    </tr>\n",
       "    <tr>\n",
       "      <th>56</th>\n",
       "      <td>AdvoBarryRoux</td>\n",
       "      <td>5702</td>\n",
       "      <td>19</td>\n",
       "      <td>18</td>\n",
       "      <td>southafrican advocate (suspended)</td>\n",
       "    </tr>\n",
       "    <tr>\n",
       "      <th>57</th>\n",
       "      <td>DrZweliMkhize</td>\n",
       "      <td>5498</td>\n",
       "      <td>19</td>\n",
       "      <td>18</td>\n",
       "      <td>southafrican health minister</td>\n",
       "    </tr>\n",
       "    <tr>\n",
       "      <th>58</th>\n",
       "      <td>eNCA</td>\n",
       "      <td>3132</td>\n",
       "      <td>19</td>\n",
       "      <td>18</td>\n",
       "      <td>african news</td>\n",
       "    </tr>\n",
       "    <tr>\n",
       "      <th>59</th>\n",
       "      <td>MbuyiseniNdlozi</td>\n",
       "      <td>2974</td>\n",
       "      <td>19</td>\n",
       "      <td>18</td>\n",
       "      <td>southafrican politician</td>\n",
       "    </tr>\n",
       "    <tr>\n",
       "      <th>60</th>\n",
       "      <td>citizentvkenya</td>\n",
       "      <td>3085</td>\n",
       "      <td>19</td>\n",
       "      <td>1</td>\n",
       "      <td>kenya news</td>\n",
       "    </tr>\n",
       "    <tr>\n",
       "      <th>61</th>\n",
       "      <td>NationBreaking</td>\n",
       "      <td>3063</td>\n",
       "      <td>19</td>\n",
       "      <td>1</td>\n",
       "      <td>african news</td>\n",
       "    </tr>\n",
       "    <tr>\n",
       "      <th>62</th>\n",
       "      <td>samirasawlani</td>\n",
       "      <td>2252</td>\n",
       "      <td>19</td>\n",
       "      <td>1</td>\n",
       "      <td>journalist</td>\n",
       "    </tr>\n",
       "    <tr>\n",
       "      <th>63</th>\n",
       "      <td>NationAfrica</td>\n",
       "      <td>1925</td>\n",
       "      <td>19</td>\n",
       "      <td>1</td>\n",
       "      <td>african news</td>\n",
       "    </tr>\n",
       "    <tr>\n",
       "      <th>64</th>\n",
       "      <td>RobertAlai</td>\n",
       "      <td>1908</td>\n",
       "      <td>19</td>\n",
       "      <td>1</td>\n",
       "      <td>african politician</td>\n",
       "    </tr>\n",
       "    <tr>\n",
       "      <th>65</th>\n",
       "      <td>UN</td>\n",
       "      <td>4015</td>\n",
       "      <td>19</td>\n",
       "      <td>2</td>\n",
       "      <td>organization</td>\n",
       "    </tr>\n",
       "    <tr>\n",
       "      <th>66</th>\n",
       "      <td>UNICEF</td>\n",
       "      <td>2606</td>\n",
       "      <td>19</td>\n",
       "      <td>2</td>\n",
       "      <td>organization</td>\n",
       "    </tr>\n",
       "    <tr>\n",
       "      <th>67</th>\n",
       "      <td>antonioguterres</td>\n",
       "      <td>2535</td>\n",
       "      <td>19</td>\n",
       "      <td>2</td>\n",
       "      <td>un segretary</td>\n",
       "    </tr>\n",
       "    <tr>\n",
       "      <th>68</th>\n",
       "      <td>UN_Women</td>\n",
       "      <td>1369</td>\n",
       "      <td>19</td>\n",
       "      <td>2</td>\n",
       "      <td>organization</td>\n",
       "    </tr>\n",
       "    <tr>\n",
       "      <th>69</th>\n",
       "      <td>WorldBank</td>\n",
       "      <td>699</td>\n",
       "      <td>19</td>\n",
       "      <td>2</td>\n",
       "      <td>organization</td>\n",
       "    </tr>\n",
       "    <tr>\n",
       "      <th>70</th>\n",
       "      <td>WHO</td>\n",
       "      <td>22220</td>\n",
       "      <td>19</td>\n",
       "      <td>3</td>\n",
       "      <td>organization</td>\n",
       "    </tr>\n",
       "    <tr>\n",
       "      <th>71</th>\n",
       "      <td>DrTedros</td>\n",
       "      <td>10231</td>\n",
       "      <td>19</td>\n",
       "      <td>3</td>\n",
       "      <td>who director</td>\n",
       "    </tr>\n",
       "    <tr>\n",
       "      <th>72</th>\n",
       "      <td>WHOAFRO</td>\n",
       "      <td>1093</td>\n",
       "      <td>19</td>\n",
       "      <td>3</td>\n",
       "      <td>organization</td>\n",
       "    </tr>\n",
       "    <tr>\n",
       "      <th>73</th>\n",
       "      <td>WebMD</td>\n",
       "      <td>926</td>\n",
       "      <td>19</td>\n",
       "      <td>3</td>\n",
       "      <td>orgnization</td>\n",
       "    </tr>\n",
       "    <tr>\n",
       "      <th>74</th>\n",
       "      <td>WHOEMRO</td>\n",
       "      <td>862</td>\n",
       "      <td>19</td>\n",
       "      <td>3</td>\n",
       "      <td>organization</td>\n",
       "    </tr>\n",
       "  </tbody>\n",
       "</table>\n",
       "</div>"
      ],
      "text/plain": [
       "               name  degree  community  subcommunity  \\\n",
       "50          NCDCgov   21397         19             5   \n",
       "51   DrOlufunmilayo   14401         19             5   \n",
       "52    aproko_doctor    7662         19             5   \n",
       "53      MobilePunch    6605         19             5   \n",
       "54         segalink    6536         19             5   \n",
       "55           News24    7078         19            18   \n",
       "56    AdvoBarryRoux    5702         19            18   \n",
       "57    DrZweliMkhize    5498         19            18   \n",
       "58             eNCA    3132         19            18   \n",
       "59  MbuyiseniNdlozi    2974         19            18   \n",
       "60   citizentvkenya    3085         19             1   \n",
       "61   NationBreaking    3063         19             1   \n",
       "62    samirasawlani    2252         19             1   \n",
       "63     NationAfrica    1925         19             1   \n",
       "64       RobertAlai    1908         19             1   \n",
       "65               UN    4015         19             2   \n",
       "66           UNICEF    2606         19             2   \n",
       "67  antonioguterres    2535         19             2   \n",
       "68         UN_Women    1369         19             2   \n",
       "69        WorldBank     699         19             2   \n",
       "70              WHO   22220         19             3   \n",
       "71         DrTedros   10231         19             3   \n",
       "72          WHOAFRO    1093         19             3   \n",
       "73            WebMD     926         19             3   \n",
       "74          WHOEMRO     862         19             3   \n",
       "\n",
       "                          description  \n",
       "50                nigerian government  \n",
       "51                    nigerian doctor  \n",
       "52                    nigerian doctor  \n",
       "53                      nigerian news  \n",
       "54                  nigerian activist  \n",
       "55                  southafrican news  \n",
       "56  southafrican advocate (suspended)  \n",
       "57       southafrican health minister  \n",
       "58                       african news  \n",
       "59            southafrican politician  \n",
       "60                         kenya news  \n",
       "61                       african news  \n",
       "62                         journalist  \n",
       "63                       african news  \n",
       "64                 african politician  \n",
       "65                       organization  \n",
       "66                       organization  \n",
       "67                       un segretary  \n",
       "68                       organization  \n",
       "69                       organization  \n",
       "70                       organization  \n",
       "71                       who director  \n",
       "72                       organization  \n",
       "73                        orgnization  \n",
       "74                       organization  "
      ]
     },
     "execution_count": 5,
     "metadata": {},
     "output_type": "execute_result"
    }
   ],
   "source": [
    "# df = pd.read_csv(\"C:/Users/gianl/Desktop/Gi/Supsi/BachelorProject/csv/subcommunities_w_desc.csv\", lineterminator=\"\\n\", low_memory=False)\n",
    "df[df[\"community\"]==19]\n",
    "# df"
   ]
  },
  {
   "cell_type": "markdown",
   "metadata": {},
   "source": [
    "### SAGE\n",
    "<a id=\"sage\"/>"
   ]
  },
  {
   "cell_type": "code",
   "execution_count": 12,
   "metadata": {},
   "outputs": [
    {
     "data": {
      "text/html": [
       "<div>\n",
       "<style scoped>\n",
       "    .dataframe tbody tr th:only-of-type {\n",
       "        vertical-align: middle;\n",
       "    }\n",
       "\n",
       "    .dataframe tbody tr th {\n",
       "        vertical-align: top;\n",
       "    }\n",
       "\n",
       "    .dataframe thead th {\n",
       "        text-align: right;\n",
       "    }\n",
       "</style>\n",
       "<table border=\"1\" class=\"dataframe\">\n",
       "  <thead>\n",
       "    <tr style=\"text-align: right;\">\n",
       "      <th></th>\n",
       "      <th>source</th>\n",
       "      <th>word</th>\n",
       "      <th>sage</th>\n",
       "      <th>file_count</th>\n",
       "      <th>file_rate</th>\n",
       "      <th>base_count</th>\n",
       "      <th>base_rate</th>\n",
       "    </tr>\n",
       "  </thead>\n",
       "  <tbody>\n",
       "    <tr>\n",
       "      <th>0</th>\n",
       "      <td>19</td>\n",
       "      <td>katika</td>\n",
       "      <td>2.657505</td>\n",
       "      <td>4600</td>\n",
       "      <td>0.000127</td>\n",
       "      <td>4632</td>\n",
       "      <td>0.000014</td>\n",
       "    </tr>\n",
       "    <tr>\n",
       "      <th>1</th>\n",
       "      <td>19</td>\n",
       "      <td>ugonjwa</td>\n",
       "      <td>2.654325</td>\n",
       "      <td>3470</td>\n",
       "      <td>0.000096</td>\n",
       "      <td>3505</td>\n",
       "      <td>0.000010</td>\n",
       "    </tr>\n",
       "    <tr>\n",
       "      <th>2</th>\n",
       "      <td>19</td>\n",
       "      <td>kebbi</td>\n",
       "      <td>2.654263</td>\n",
       "      <td>6029</td>\n",
       "      <td>0.000167</td>\n",
       "      <td>6091</td>\n",
       "      <td>0.000018</td>\n",
       "    </tr>\n",
       "    <tr>\n",
       "      <th>3</th>\n",
       "      <td>19</td>\n",
       "      <td>luth</td>\n",
       "      <td>2.653919</td>\n",
       "      <td>4448</td>\n",
       "      <td>0.000123</td>\n",
       "      <td>4495</td>\n",
       "      <td>0.000013</td>\n",
       "    </tr>\n",
       "    <tr>\n",
       "      <th>4</th>\n",
       "      <td>19</td>\n",
       "      <td>kwara</td>\n",
       "      <td>2.653864</td>\n",
       "      <td>13534</td>\n",
       "      <td>0.000374</td>\n",
       "      <td>13680</td>\n",
       "      <td>0.000040</td>\n",
       "    </tr>\n",
       "    <tr>\n",
       "      <th>...</th>\n",
       "      <td>...</td>\n",
       "      <td>...</td>\n",
       "      <td>...</td>\n",
       "      <td>...</td>\n",
       "      <td>...</td>\n",
       "      <td>...</td>\n",
       "      <td>...</td>\n",
       "    </tr>\n",
       "    <tr>\n",
       "      <th>145</th>\n",
       "      <td>2</td>\n",
       "      <td>quarant</td>\n",
       "      <td>0.984149</td>\n",
       "      <td>8626</td>\n",
       "      <td>0.000064</td>\n",
       "      <td>8717</td>\n",
       "      <td>0.000025</td>\n",
       "    </tr>\n",
       "    <tr>\n",
       "      <th>146</th>\n",
       "      <td>2</td>\n",
       "      <td>nahmen</td>\n",
       "      <td>0.984142</td>\n",
       "      <td>15227</td>\n",
       "      <td>0.000113</td>\n",
       "      <td>15389</td>\n",
       "      <td>0.000045</td>\n",
       "    </tr>\n",
       "    <tr>\n",
       "      <th>147</th>\n",
       "      <td>2</td>\n",
       "      <td>abstand</td>\n",
       "      <td>0.984104</td>\n",
       "      <td>4145</td>\n",
       "      <td>0.000031</td>\n",
       "      <td>4188</td>\n",
       "      <td>0.000012</td>\n",
       "    </tr>\n",
       "    <tr>\n",
       "      <th>148</th>\n",
       "      <td>2</td>\n",
       "      <td>jemand</td>\n",
       "      <td>0.984078</td>\n",
       "      <td>3304</td>\n",
       "      <td>0.000024</td>\n",
       "      <td>3338</td>\n",
       "      <td>0.000010</td>\n",
       "    </tr>\n",
       "    <tr>\n",
       "      <th>149</th>\n",
       "      <td>2</td>\n",
       "      <td>deutschland</td>\n",
       "      <td>0.984041</td>\n",
       "      <td>27989</td>\n",
       "      <td>0.000207</td>\n",
       "      <td>28291</td>\n",
       "      <td>0.000083</td>\n",
       "    </tr>\n",
       "  </tbody>\n",
       "</table>\n",
       "<p>150 rows × 7 columns</p>\n",
       "</div>"
      ],
      "text/plain": [
       "    source         word      sage  file_count  file_rate  base_count  \\\n",
       "0       19       katika  2.657505        4600   0.000127        4632   \n",
       "1       19      ugonjwa  2.654325        3470   0.000096        3505   \n",
       "2       19        kebbi  2.654263        6029   0.000167        6091   \n",
       "3       19         luth  2.653919        4448   0.000123        4495   \n",
       "4       19        kwara  2.653864       13534   0.000374       13680   \n",
       "..     ...          ...       ...         ...        ...         ...   \n",
       "145      2      quarant  0.984149        8626   0.000064        8717   \n",
       "146      2       nahmen  0.984142       15227   0.000113       15389   \n",
       "147      2      abstand  0.984104        4145   0.000031        4188   \n",
       "148      2       jemand  0.984078        3304   0.000024        3338   \n",
       "149      2  deutschland  0.984041       27989   0.000207       28291   \n",
       "\n",
       "     base_rate  \n",
       "0     0.000014  \n",
       "1     0.000010  \n",
       "2     0.000018  \n",
       "3     0.000013  \n",
       "4     0.000040  \n",
       "..         ...  \n",
       "145   0.000025  \n",
       "146   0.000045  \n",
       "147   0.000012  \n",
       "148   0.000010  \n",
       "149   0.000083  \n",
       "\n",
       "[150 rows x 7 columns]"
      ]
     },
     "execution_count": 12,
     "metadata": {},
     "output_type": "execute_result"
    }
   ],
   "source": [
    "df_sage = tweets_utils.clean_data_format(df_sage) \n",
    "source = [(lambda x: x.split(\"\\\\\")[5].split(\"_\")[1])(x) for x in df_sage[\"source\"]]\n",
    "df_sage[\"source\"] = source\n",
    "df_sage"
   ]
  },
  {
   "cell_type": "code",
   "execution_count": 13,
   "metadata": {},
   "outputs": [
    {
     "data": {
      "text/html": [
       "<div>\n",
       "<style scoped>\n",
       "    .dataframe tbody tr th:only-of-type {\n",
       "        vertical-align: middle;\n",
       "    }\n",
       "\n",
       "    .dataframe tbody tr th {\n",
       "        vertical-align: top;\n",
       "    }\n",
       "\n",
       "    .dataframe thead th {\n",
       "        text-align: right;\n",
       "    }\n",
       "</style>\n",
       "<table border=\"1\" class=\"dataframe\">\n",
       "  <thead>\n",
       "    <tr style=\"text-align: right;\">\n",
       "      <th></th>\n",
       "      <th>source</th>\n",
       "      <th>word</th>\n",
       "      <th>sage</th>\n",
       "      <th>file_count</th>\n",
       "      <th>file_rate</th>\n",
       "      <th>base_count</th>\n",
       "      <th>base_rate</th>\n",
       "    </tr>\n",
       "  </thead>\n",
       "  <tbody>\n",
       "    <tr>\n",
       "      <th>50</th>\n",
       "      <td>1</td>\n",
       "      <td>wtpteam</td>\n",
       "      <td>0.997636</td>\n",
       "      <td>9932</td>\n",
       "      <td>0.000058</td>\n",
       "      <td>9959</td>\n",
       "      <td>0.000029</td>\n",
       "    </tr>\n",
       "    <tr>\n",
       "      <th>51</th>\n",
       "      <td>1</td>\n",
       "      <td>wtp2020</td>\n",
       "      <td>0.996970</td>\n",
       "      <td>7208</td>\n",
       "      <td>0.000042</td>\n",
       "      <td>7232</td>\n",
       "      <td>0.000021</td>\n",
       "    </tr>\n",
       "    <tr>\n",
       "      <th>52</th>\n",
       "      <td>1</td>\n",
       "      <td>onevoice1</td>\n",
       "      <td>0.996847</td>\n",
       "      <td>24178</td>\n",
       "      <td>0.000141</td>\n",
       "      <td>24265</td>\n",
       "      <td>0.000071</td>\n",
       "    </tr>\n",
       "    <tr>\n",
       "      <th>53</th>\n",
       "      <td>1</td>\n",
       "      <td>loaners</td>\n",
       "      <td>0.994614</td>\n",
       "      <td>3983</td>\n",
       "      <td>0.000023</td>\n",
       "      <td>4005</td>\n",
       "      <td>0.000012</td>\n",
       "    </tr>\n",
       "    <tr>\n",
       "      <th>54</th>\n",
       "      <td>1</td>\n",
       "      <td>presidementia</td>\n",
       "      <td>0.994493</td>\n",
       "      <td>4234</td>\n",
       "      <td>0.000025</td>\n",
       "      <td>4258</td>\n",
       "      <td>0.000012</td>\n",
       "    </tr>\n",
       "    <tr>\n",
       "      <th>55</th>\n",
       "      <td>1</td>\n",
       "      <td>demcast</td>\n",
       "      <td>0.994133</td>\n",
       "      <td>3838</td>\n",
       "      <td>0.000022</td>\n",
       "      <td>3861</td>\n",
       "      <td>0.000011</td>\n",
       "    </tr>\n",
       "    <tr>\n",
       "      <th>56</th>\n",
       "      <td>1</td>\n",
       "      <td>gojoe</td>\n",
       "      <td>0.994089</td>\n",
       "      <td>4277</td>\n",
       "      <td>0.000025</td>\n",
       "      <td>4303</td>\n",
       "      <td>0.000013</td>\n",
       "    </tr>\n",
       "    <tr>\n",
       "      <th>57</th>\n",
       "      <td>1</td>\n",
       "      <td>commutations</td>\n",
       "      <td>0.993232</td>\n",
       "      <td>3636</td>\n",
       "      <td>0.000021</td>\n",
       "      <td>3661</td>\n",
       "      <td>0.000011</td>\n",
       "    </tr>\n",
       "    <tr>\n",
       "      <th>58</th>\n",
       "      <td>1</td>\n",
       "      <td>subtraction</td>\n",
       "      <td>0.992858</td>\n",
       "      <td>7234</td>\n",
       "      <td>0.000042</td>\n",
       "      <td>7288</td>\n",
       "      <td>0.000021</td>\n",
       "    </tr>\n",
       "    <tr>\n",
       "      <th>59</th>\n",
       "      <td>1</td>\n",
       "      <td>theresistance</td>\n",
       "      <td>0.992322</td>\n",
       "      <td>7976</td>\n",
       "      <td>0.000047</td>\n",
       "      <td>8040</td>\n",
       "      <td>0.000023</td>\n",
       "    </tr>\n",
       "  </tbody>\n",
       "</table>\n",
       "</div>"
      ],
      "text/plain": [
       "   source           word      sage  file_count  file_rate  base_count  \\\n",
       "50      1        wtpteam  0.997636        9932   0.000058        9959   \n",
       "51      1        wtp2020  0.996970        7208   0.000042        7232   \n",
       "52      1      onevoice1  0.996847       24178   0.000141       24265   \n",
       "53      1        loaners  0.994614        3983   0.000023        4005   \n",
       "54      1  presidementia  0.994493        4234   0.000025        4258   \n",
       "55      1        demcast  0.994133        3838   0.000022        3861   \n",
       "56      1          gojoe  0.994089        4277   0.000025        4303   \n",
       "57      1   commutations  0.993232        3636   0.000021        3661   \n",
       "58      1    subtraction  0.992858        7234   0.000042        7288   \n",
       "59      1  theresistance  0.992322        7976   0.000047        8040   \n",
       "\n",
       "    base_rate  \n",
       "50   0.000029  \n",
       "51   0.000021  \n",
       "52   0.000071  \n",
       "53   0.000012  \n",
       "54   0.000012  \n",
       "55   0.000011  \n",
       "56   0.000013  \n",
       "57   0.000011  \n",
       "58   0.000021  \n",
       "59   0.000023  "
      ]
     },
     "execution_count": 13,
     "metadata": {},
     "output_type": "execute_result"
    }
   ],
   "source": [
    "df_sage[df_sage[\"source\"]==\"1\"][:10]"
   ]
  },
  {
   "cell_type": "code",
   "execution_count": 14,
   "metadata": {
    "scrolled": true
   },
   "outputs": [
    {
     "data": {
      "text/html": [
       "<div>\n",
       "<style scoped>\n",
       "    .dataframe tbody tr th:only-of-type {\n",
       "        vertical-align: middle;\n",
       "    }\n",
       "\n",
       "    .dataframe tbody tr th {\n",
       "        vertical-align: top;\n",
       "    }\n",
       "\n",
       "    .dataframe thead th {\n",
       "        text-align: right;\n",
       "    }\n",
       "</style>\n",
       "<table border=\"1\" class=\"dataframe\">\n",
       "  <thead>\n",
       "    <tr style=\"text-align: right;\">\n",
       "      <th></th>\n",
       "      <th>source</th>\n",
       "      <th>word</th>\n",
       "      <th>sage</th>\n",
       "      <th>file_count</th>\n",
       "      <th>file_rate</th>\n",
       "      <th>base_count</th>\n",
       "      <th>base_rate</th>\n",
       "    </tr>\n",
       "  </thead>\n",
       "  <tbody>\n",
       "    <tr>\n",
       "      <th>100</th>\n",
       "      <td>2</td>\n",
       "      <td>freeiran2020</td>\n",
       "      <td>0.991799</td>\n",
       "      <td>4179</td>\n",
       "      <td>0.000031</td>\n",
       "      <td>4190</td>\n",
       "      <td>0.000012</td>\n",
       "    </tr>\n",
       "    <tr>\n",
       "      <th>101</th>\n",
       "      <td>2</td>\n",
       "      <td>hkpolice</td>\n",
       "      <td>0.991432</td>\n",
       "      <td>6941</td>\n",
       "      <td>0.000051</td>\n",
       "      <td>6963</td>\n",
       "      <td>0.000020</td>\n",
       "    </tr>\n",
       "    <tr>\n",
       "      <th>102</th>\n",
       "      <td>2</td>\n",
       "      <td>killercuomo</td>\n",
       "      <td>0.991132</td>\n",
       "      <td>4769</td>\n",
       "      <td>0.000035</td>\n",
       "      <td>4785</td>\n",
       "      <td>0.000014</td>\n",
       "    </tr>\n",
       "    <tr>\n",
       "      <th>103</th>\n",
       "      <td>2</td>\n",
       "      <td>hongkongpolice</td>\n",
       "      <td>0.990977</td>\n",
       "      <td>3549</td>\n",
       "      <td>0.000026</td>\n",
       "      <td>3561</td>\n",
       "      <td>0.000010</td>\n",
       "    </tr>\n",
       "    <tr>\n",
       "      <th>104</th>\n",
       "      <td>2</td>\n",
       "      <td>hkpoliceterrorists</td>\n",
       "      <td>0.989699</td>\n",
       "      <td>3248</td>\n",
       "      <td>0.000024</td>\n",
       "      <td>3263</td>\n",
       "      <td>0.000010</td>\n",
       "    </tr>\n",
       "    <tr>\n",
       "      <th>105</th>\n",
       "      <td>2</td>\n",
       "      <td>standwithhk</td>\n",
       "      <td>0.989540</td>\n",
       "      <td>8789</td>\n",
       "      <td>0.000065</td>\n",
       "      <td>8834</td>\n",
       "      <td>0.000026</td>\n",
       "    </tr>\n",
       "    <tr>\n",
       "      <th>106</th>\n",
       "      <td>2</td>\n",
       "      <td>antifaterrorists</td>\n",
       "      <td>0.988956</td>\n",
       "      <td>3684</td>\n",
       "      <td>0.000027</td>\n",
       "      <td>3704</td>\n",
       "      <td>0.000011</td>\n",
       "    </tr>\n",
       "    <tr>\n",
       "      <th>107</th>\n",
       "      <td>2</td>\n",
       "      <td>hkgov</td>\n",
       "      <td>0.988902</td>\n",
       "      <td>8177</td>\n",
       "      <td>0.000060</td>\n",
       "      <td>8224</td>\n",
       "      <td>0.000024</td>\n",
       "    </tr>\n",
       "    <tr>\n",
       "      <th>108</th>\n",
       "      <td>2</td>\n",
       "      <td>carrielam</td>\n",
       "      <td>0.988854</td>\n",
       "      <td>14616</td>\n",
       "      <td>0.000108</td>\n",
       "      <td>14702</td>\n",
       "      <td>0.000043</td>\n",
       "    </tr>\n",
       "    <tr>\n",
       "      <th>109</th>\n",
       "      <td>2</td>\n",
       "      <td>standwithhongkong</td>\n",
       "      <td>0.988609</td>\n",
       "      <td>9874</td>\n",
       "      <td>0.000073</td>\n",
       "      <td>9934</td>\n",
       "      <td>0.000029</td>\n",
       "    </tr>\n",
       "  </tbody>\n",
       "</table>\n",
       "</div>"
      ],
      "text/plain": [
       "    source                word      sage  file_count  file_rate  base_count  \\\n",
       "100      2        freeiran2020  0.991799        4179   0.000031        4190   \n",
       "101      2            hkpolice  0.991432        6941   0.000051        6963   \n",
       "102      2         killercuomo  0.991132        4769   0.000035        4785   \n",
       "103      2      hongkongpolice  0.990977        3549   0.000026        3561   \n",
       "104      2  hkpoliceterrorists  0.989699        3248   0.000024        3263   \n",
       "105      2         standwithhk  0.989540        8789   0.000065        8834   \n",
       "106      2    antifaterrorists  0.988956        3684   0.000027        3704   \n",
       "107      2               hkgov  0.988902        8177   0.000060        8224   \n",
       "108      2           carrielam  0.988854       14616   0.000108       14702   \n",
       "109      2   standwithhongkong  0.988609        9874   0.000073        9934   \n",
       "\n",
       "     base_rate  \n",
       "100   0.000012  \n",
       "101   0.000020  \n",
       "102   0.000014  \n",
       "103   0.000010  \n",
       "104   0.000010  \n",
       "105   0.000026  \n",
       "106   0.000011  \n",
       "107   0.000024  \n",
       "108   0.000043  \n",
       "109   0.000029  "
      ]
     },
     "execution_count": 14,
     "metadata": {},
     "output_type": "execute_result"
    }
   ],
   "source": [
    "df_sage[df_sage[\"source\"]==\"2\"][:10]"
   ]
  },
  {
   "cell_type": "code",
   "execution_count": 15,
   "metadata": {
    "scrolled": true
   },
   "outputs": [
    {
     "data": {
      "text/html": [
       "<div>\n",
       "<style scoped>\n",
       "    .dataframe tbody tr th:only-of-type {\n",
       "        vertical-align: middle;\n",
       "    }\n",
       "\n",
       "    .dataframe tbody tr th {\n",
       "        vertical-align: top;\n",
       "    }\n",
       "\n",
       "    .dataframe thead th {\n",
       "        text-align: right;\n",
       "    }\n",
       "</style>\n",
       "<table border=\"1\" class=\"dataframe\">\n",
       "  <thead>\n",
       "    <tr style=\"text-align: right;\">\n",
       "      <th></th>\n",
       "      <th>source</th>\n",
       "      <th>word</th>\n",
       "      <th>sage</th>\n",
       "      <th>file_count</th>\n",
       "      <th>file_rate</th>\n",
       "      <th>base_count</th>\n",
       "      <th>base_rate</th>\n",
       "    </tr>\n",
       "  </thead>\n",
       "  <tbody>\n",
       "    <tr>\n",
       "      <th>0</th>\n",
       "      <td>19</td>\n",
       "      <td>katika</td>\n",
       "      <td>2.657505</td>\n",
       "      <td>4600</td>\n",
       "      <td>0.000127</td>\n",
       "      <td>4632</td>\n",
       "      <td>0.000014</td>\n",
       "    </tr>\n",
       "    <tr>\n",
       "      <th>1</th>\n",
       "      <td>19</td>\n",
       "      <td>ugonjwa</td>\n",
       "      <td>2.654325</td>\n",
       "      <td>3470</td>\n",
       "      <td>0.000096</td>\n",
       "      <td>3505</td>\n",
       "      <td>0.000010</td>\n",
       "    </tr>\n",
       "    <tr>\n",
       "      <th>2</th>\n",
       "      <td>19</td>\n",
       "      <td>kebbi</td>\n",
       "      <td>2.654263</td>\n",
       "      <td>6029</td>\n",
       "      <td>0.000167</td>\n",
       "      <td>6091</td>\n",
       "      <td>0.000018</td>\n",
       "    </tr>\n",
       "    <tr>\n",
       "      <th>3</th>\n",
       "      <td>19</td>\n",
       "      <td>luth</td>\n",
       "      <td>2.653919</td>\n",
       "      <td>4448</td>\n",
       "      <td>0.000123</td>\n",
       "      <td>4495</td>\n",
       "      <td>0.000013</td>\n",
       "    </tr>\n",
       "    <tr>\n",
       "      <th>4</th>\n",
       "      <td>19</td>\n",
       "      <td>kwara</td>\n",
       "      <td>2.653864</td>\n",
       "      <td>13534</td>\n",
       "      <td>0.000374</td>\n",
       "      <td>13680</td>\n",
       "      <td>0.000040</td>\n",
       "    </tr>\n",
       "    <tr>\n",
       "      <th>5</th>\n",
       "      <td>19</td>\n",
       "      <td>sasa</td>\n",
       "      <td>2.653782</td>\n",
       "      <td>4483</td>\n",
       "      <td>0.000124</td>\n",
       "      <td>4531</td>\n",
       "      <td>0.000013</td>\n",
       "    </tr>\n",
       "    <tr>\n",
       "      <th>6</th>\n",
       "      <td>19</td>\n",
       "      <td>vya</td>\n",
       "      <td>2.653497</td>\n",
       "      <td>6592</td>\n",
       "      <td>0.000182</td>\n",
       "      <td>6665</td>\n",
       "      <td>0.000019</td>\n",
       "    </tr>\n",
       "    <tr>\n",
       "      <th>7</th>\n",
       "      <td>19</td>\n",
       "      <td>kuwa</td>\n",
       "      <td>2.653471</td>\n",
       "      <td>4713</td>\n",
       "      <td>0.000130</td>\n",
       "      <td>4765</td>\n",
       "      <td>0.000014</td>\n",
       "    </tr>\n",
       "    <tr>\n",
       "      <th>8</th>\n",
       "      <td>19</td>\n",
       "      <td>watu</td>\n",
       "      <td>2.653208</td>\n",
       "      <td>6425</td>\n",
       "      <td>0.000178</td>\n",
       "      <td>6498</td>\n",
       "      <td>0.000019</td>\n",
       "    </tr>\n",
       "    <tr>\n",
       "      <th>9</th>\n",
       "      <td>19</td>\n",
       "      <td>kwa</td>\n",
       "      <td>2.653196</td>\n",
       "      <td>18719</td>\n",
       "      <td>0.000518</td>\n",
       "      <td>18934</td>\n",
       "      <td>0.000055</td>\n",
       "    </tr>\n",
       "  </tbody>\n",
       "</table>\n",
       "</div>"
      ],
      "text/plain": [
       "  source     word      sage  file_count  file_rate  base_count  base_rate\n",
       "0     19   katika  2.657505        4600   0.000127        4632   0.000014\n",
       "1     19  ugonjwa  2.654325        3470   0.000096        3505   0.000010\n",
       "2     19    kebbi  2.654263        6029   0.000167        6091   0.000018\n",
       "3     19     luth  2.653919        4448   0.000123        4495   0.000013\n",
       "4     19    kwara  2.653864       13534   0.000374       13680   0.000040\n",
       "5     19     sasa  2.653782        4483   0.000124        4531   0.000013\n",
       "6     19      vya  2.653497        6592   0.000182        6665   0.000019\n",
       "7     19     kuwa  2.653471        4713   0.000130        4765   0.000014\n",
       "8     19     watu  2.653208        6425   0.000178        6498   0.000019\n",
       "9     19      kwa  2.653196       18719   0.000518       18934   0.000055"
      ]
     },
     "execution_count": 15,
     "metadata": {},
     "output_type": "execute_result"
    }
   ],
   "source": [
    "df_sage[df_sage[\"source\"]==\"19\"][:10]"
   ]
  },
  {
   "cell_type": "code",
   "execution_count": null,
   "metadata": {},
   "outputs": [],
   "source": []
  }
 ],
 "metadata": {
  "kernelspec": {
   "display_name": "Python 3 (ipykernel)",
   "language": "python",
   "name": "python3"
  },
  "language_info": {
   "codemirror_mode": {
    "name": "ipython",
    "version": 3
   },
   "file_extension": ".py",
   "mimetype": "text/x-python",
   "name": "python",
   "nbconvert_exporter": "python",
   "pygments_lexer": "ipython3",
   "version": "3.8.11"
  }
 },
 "nbformat": 4,
 "nbformat_minor": 4
}
