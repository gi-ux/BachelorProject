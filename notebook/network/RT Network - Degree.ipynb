{
 "cells": [
  {
   "cell_type": "code",
   "execution_count": null,
   "id": "unknown-stake",
   "metadata": {},
   "outputs": [],
   "source": [
    "import pandas as pd\n",
    "import igraph as ig\n",
    "import leidenalg as la\n",
    "import networkx as nx\n",
    "import os\n",
    "import json"
   ]
  },
  {
   "cell_type": "code",
   "execution_count": null,
   "id": "approved-horse",
   "metadata": {},
   "outputs": [],
   "source": [
    "# Change data path and file names accordingly\n",
    "data_path = \"/support/data/COVID/Gianluca/rt_network/big_net/\"\n",
    "network_path = os.path.join(data_path, \"network.csv\")\n",
    "degree_path = os.path.join(data_path, \"degree.json\")\n",
    "in_degree_path = os.path.join(data_path, \"in_degree.json\")\n",
    "out_degree_path = os.path.join(data_path, \"out_degree.json\")"
   ]
  },
  {
   "cell_type": "code",
   "execution_count": null,
   "id": "noted-postcard",
   "metadata": {},
   "outputs": [],
   "source": [
    "network_df = pd.read_csv(network_path)"
   ]
  },
  {
   "cell_type": "code",
   "execution_count": null,
   "id": "2e19750f",
   "metadata": {},
   "outputs": [],
   "source": [
    "# Generate graph\n",
    "retweets_graph = nx.from_pandas_edgelist(network_df,'name','rt_name', create_using=nx.DiGraph())\n",
    "print(nx.info(retweets_graph))"
   ]
  },
  {
   "cell_type": "code",
   "execution_count": null,
   "id": "b0804e45",
   "metadata": {},
   "outputs": [],
   "source": [
    "# Get degree\n",
    "degree_dict = dict(retweets_graph.degree(retweets_graph.nodes()))\n",
    "sorted_degree = sorted(degree_dict.items(), key=itemgetter(1), reverse=True)"
   ]
  },
  {
   "cell_type": "code",
   "execution_count": null,
   "id": "e8ee4dca",
   "metadata": {},
   "outputs": [],
   "source": [
    "# Write degree\n",
    "with open(degree_path, 'w') as f:\n",
    "    json.dump(sorted_degree, f)"
   ]
  },
  {
   "cell_type": "code",
   "execution_count": null,
   "id": "0e3c20ed",
   "metadata": {},
   "outputs": [],
   "source": [
    "# Get in degree\n",
    "in_degree_dict = dict(retweets_graph.in_degree(retweets_graph.nodes()))\n",
    "sorted_in_degree = sorted(in_degree_dict.items(), key=itemgetter(1), reverse=True)"
   ]
  },
  {
   "cell_type": "code",
   "execution_count": null,
   "id": "e574116c",
   "metadata": {},
   "outputs": [],
   "source": [
    "# Write in degree\n",
    "with open(in_degree_path, 'w') as f:\n",
    "    json.dump(sorted_in_degree, f)"
   ]
  },
  {
   "cell_type": "code",
   "execution_count": null,
   "id": "13bcf845",
   "metadata": {},
   "outputs": [],
   "source": [
    "# Get out degree\n",
    "out_degree_dict = dict(retweets_graph.out_degree(retweets_graph.nodes()))\n",
    "sorted_out_degree = sorted(out_degree_dict.items(), key=itemgetter(1), reverse=True)"
   ]
  },
  {
   "cell_type": "code",
   "execution_count": null,
   "id": "40040fcd",
   "metadata": {},
   "outputs": [],
   "source": [
    "# Write out degree\n",
    "with open(out_degree_path, 'w') as f:\n",
    "    json.dump(sorted_out_degree, f)"
   ]
  }
 ],
 "metadata": {
  "kernelspec": {
   "display_name": "Python 3",
   "language": "python",
   "name": "python3"
  },
  "language_info": {
   "codemirror_mode": {
    "name": "ipython",
    "version": 3
   },
   "file_extension": ".py",
   "mimetype": "text/x-python",
   "name": "python",
   "nbconvert_exporter": "python",
   "pygments_lexer": "ipython3",
   "version": "3.8.11"
  }
 },
 "nbformat": 4,
 "nbformat_minor": 5
}
