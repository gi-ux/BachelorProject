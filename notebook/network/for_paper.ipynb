{
 "cells": [
  {
   "cell_type": "code",
   "execution_count": 1,
   "id": "c3f77dca",
   "metadata": {},
   "outputs": [],
   "source": [
    "import pandas as pd\n",
    "import numpy as np\n",
    "import plotly.express as px\n",
    "import matplotlib.pyplot as plt\n",
    "from time import strptime\n",
    "import datetime\n",
    "from datetime import datetime\n",
    "# from statistics import mean\n",
    "import warnings\n",
    "import time\n",
    "import csv\n",
    "import glob\n",
    "import logging\n",
    "import importlib\n",
    "import json\n",
    "from tqdm.notebook import tqdm\n",
    "import sys\n",
    "sys.path.append('C:/Users/gianl/Desktop/Gi/Supsi/BachelorProject/notebook/tweet_utils')\n",
    "import tweets_utils\n",
    "# import networkx as nx\n",
    "# import seaborn as sns\n",
    "# import re\n",
    "# from operator import itemgetter\n",
    "# import matplotlib.cm as mcm\n",
    "# import community\n",
    "# from community import community_louvain as cm\n",
    "# import leidenalg as la\n",
    "# import igraph as ig\n",
    "# from cdlib import algorithms\n",
    "import os\n",
    "warnings.filterwarnings('ignore')\n",
    "# %autosave 3600"
   ]
  },
  {
   "cell_type": "code",
   "execution_count": 2,
   "id": "b3bab933",
   "metadata": {},
   "outputs": [],
   "source": [
    "# Change data path and file names accordingly\n",
    "data_path = \"F:/Supsi/COVID-19-Tweets/large_files/rt_network/names/\"\n",
    "network_path = os.path.join(data_path, \"user_rtuser.csv\")\n",
    "disinform_path = \"C:/Users/gianl/Desktop/Gi/Supsi/BachelorProject/csv/disinformation_users.csv\"\n",
    "good_path = \"C:/Users/gianl/Desktop/Gi/Supsi/BachelorProject/csv/all_good_users.csv\"\n",
    "disinform = pd.read_csv(disinform_path)\n",
    "good = pd.read_csv(good_path)"
   ]
  },
  {
   "cell_type": "code",
   "execution_count": 3,
   "id": "725e475d",
   "metadata": {},
   "outputs": [],
   "source": [
    "good_lst = list(good[\"screen_name\"])\n",
    "disinform_lst = list(disinform[\"screen_name\"])"
   ]
  },
  {
   "cell_type": "code",
   "execution_count": 4,
   "id": "09730029",
   "metadata": {},
   "outputs": [],
   "source": [
    "disinform = disinform[[\"screen_name\"]]\n"
   ]
  },
  {
   "cell_type": "code",
   "execution_count": 3,
   "id": "c27dfdf9",
   "metadata": {},
   "outputs": [
    {
     "data": {
      "text/html": [
       "<div>\n",
       "<style scoped>\n",
       "    .dataframe tbody tr th:only-of-type {\n",
       "        vertical-align: middle;\n",
       "    }\n",
       "\n",
       "    .dataframe tbody tr th {\n",
       "        vertical-align: top;\n",
       "    }\n",
       "\n",
       "    .dataframe thead th {\n",
       "        text-align: right;\n",
       "    }\n",
       "</style>\n",
       "<table border=\"1\" class=\"dataframe\">\n",
       "  <thead>\n",
       "    <tr style=\"text-align: right;\">\n",
       "      <th></th>\n",
       "      <th>name</th>\n",
       "      <th>rt_name</th>\n",
       "    </tr>\n",
       "  </thead>\n",
       "  <tbody>\n",
       "    <tr>\n",
       "      <th>0</th>\n",
       "      <td>Huerconetzin</td>\n",
       "      <td>AnneKPIX</td>\n",
       "    </tr>\n",
       "    <tr>\n",
       "      <th>1</th>\n",
       "      <td>JustAnotherAme4</td>\n",
       "      <td>cnni</td>\n",
       "    </tr>\n",
       "    <tr>\n",
       "      <th>2</th>\n",
       "      <td>HHSRegion8</td>\n",
       "      <td>CDCgov</td>\n",
       "    </tr>\n",
       "    <tr>\n",
       "      <th>3</th>\n",
       "      <td>Paxman42</td>\n",
       "      <td>OurWarOnCancer</td>\n",
       "    </tr>\n",
       "    <tr>\n",
       "      <th>4</th>\n",
       "      <td>beerhowell</td>\n",
       "      <td>nytimes</td>\n",
       "    </tr>\n",
       "    <tr>\n",
       "      <th>...</th>\n",
       "      <td>...</td>\n",
       "      <td>...</td>\n",
       "    </tr>\n",
       "    <tr>\n",
       "      <th>48312499</th>\n",
       "      <td>Dinora21971394</td>\n",
       "      <td>saludhn</td>\n",
       "    </tr>\n",
       "    <tr>\n",
       "      <th>48312500</th>\n",
       "      <td>EllyJonkerVliet</td>\n",
       "      <td>StopEcocideNL</td>\n",
       "    </tr>\n",
       "    <tr>\n",
       "      <th>48312501</th>\n",
       "      <td>anna76746180</td>\n",
       "      <td>Haggis_UK</td>\n",
       "    </tr>\n",
       "    <tr>\n",
       "      <th>48312502</th>\n",
       "      <td>SueHealy16</td>\n",
       "      <td>Auchindrain</td>\n",
       "    </tr>\n",
       "    <tr>\n",
       "      <th>48312503</th>\n",
       "      <td>inquisitor111</td>\n",
       "      <td>StagecoachBBird</td>\n",
       "    </tr>\n",
       "  </tbody>\n",
       "</table>\n",
       "<p>48312504 rows × 2 columns</p>\n",
       "</div>"
      ],
      "text/plain": [
       "                     name          rt_name\n",
       "0            Huerconetzin         AnneKPIX\n",
       "1         JustAnotherAme4             cnni\n",
       "2              HHSRegion8           CDCgov\n",
       "3                Paxman42   OurWarOnCancer\n",
       "4              beerhowell          nytimes\n",
       "...                   ...              ...\n",
       "48312499   Dinora21971394          saludhn\n",
       "48312500  EllyJonkerVliet    StopEcocideNL\n",
       "48312501     anna76746180        Haggis_UK\n",
       "48312502       SueHealy16      Auchindrain\n",
       "48312503    inquisitor111  StagecoachBBird\n",
       "\n",
       "[48312504 rows x 2 columns]"
      ]
     },
     "execution_count": 3,
     "metadata": {},
     "output_type": "execute_result"
    }
   ],
   "source": [
    "# network_df = pd.DataFrame()\n",
    "# for chunk in pd.read_csv(network_path, chunksize=100000):\n",
    "#         network_df = chunk\n",
    "#         break\n",
    "network_df = pd.read_csv(network_path)\n",
    "network_df"
   ]
  },
  {
   "cell_type": "code",
   "execution_count": 56,
   "id": "fd07dcb2",
   "metadata": {},
   "outputs": [
    {
     "name": "stdout",
     "output_type": "stream",
     "text": [
      "DiGraph with 68949 nodes and 90606 edges\n"
     ]
    }
   ],
   "source": [
    "retweets_graph = nx.from_pandas_edgelist(network_df,'name','rt_name', create_using=nx.DiGraph())\n",
    "print(nx.info(retweets_graph))"
   ]
  },
  {
   "cell_type": "code",
   "execution_count": 57,
   "id": "9997d38f",
   "metadata": {},
   "outputs": [],
   "source": [
    "in_deg_centrality = nx.in_degree_centrality(retweets_graph)\n",
    "out_deg_centrality = nx.out_degree_centrality(retweets_graph)"
   ]
  },
  {
   "cell_type": "code",
   "execution_count": 59,
   "id": "ffc13560",
   "metadata": {},
   "outputs": [
    {
     "data": {
      "application/vnd.jupyter.widget-view+json": {
       "model_id": "57441769abc045d193339f6f2781942c",
       "version_major": 2,
       "version_minor": 0
      },
      "text/plain": [
       "HBox(children=(HTML(value=''), FloatProgress(value=0.0, max=68949.0), HTML(value='')))"
      ]
     },
     "metadata": {},
     "output_type": "display_data"
    },
    {
     "name": "stdout",
     "output_type": "stream",
     "text": [
      "\n"
     ]
    },
    {
     "data": {
      "application/vnd.jupyter.widget-view+json": {
       "model_id": "4854a5c3353947319018825dbabbd9d0",
       "version_major": 2,
       "version_minor": 0
      },
      "text/plain": [
       "HBox(children=(HTML(value=''), FloatProgress(value=0.0, max=68949.0), HTML(value='')))"
      ]
     },
     "metadata": {},
     "output_type": "display_data"
    },
    {
     "name": "stdout",
     "output_type": "stream",
     "text": [
      "\n",
      "Good in: 0.00016906202572399955\n",
      "Bad in: 7.251841967859836e-05\n",
      "Good out: 3.520741596609814e-05\n",
      "Bad out: 1.4503683935719673e-05\n"
     ]
    }
   ],
   "source": [
    "out_good = []\n",
    "out_bad = []\n",
    "in_good = []\n",
    "in_bad = []\n",
    "for i in tqdm(out_deg_centrality):\n",
    "    if i in good_lst: \n",
    "        out_good.append(out_deg_centrality.get(i))\n",
    "    elif i in disinform_lst:\n",
    "        out_bad.append(out_deg_centrality.get(i))\n",
    "        \n",
    "for i in tqdm(in_deg_centrality):\n",
    "    if i in good_lst: \n",
    "        in_good.append(in_deg_centrality.get(i))\n",
    "    elif i in disinform_lst:\n",
    "        in_bad.append(in_deg_centrality.get(i))\n",
    "        \n",
    "print(f\"Good in: {mean(in_good)}\")\n",
    "print(f\"Bad in: {mean(in_bad)}\")\n",
    "print(f\"Good out: {mean(out_good)}\")\n",
    "print(f\"Bad out: {mean(out_bad)}\")"
   ]
  },
  {
   "cell_type": "code",
   "execution_count": 64,
   "id": "59f2fa5d",
   "metadata": {},
   "outputs": [],
   "source": [
    "retweets_graph.remove_edges_from(nx.selfloop_edges(retweets_graph))\n",
    "k_core = nx.algorithms.k_core(retweets_graph)\n",
    "cores = nx.algorithms.core.core_number(k_core)\n",
    "cores"
   ]
  },
  {
   "cell_type": "code",
   "execution_count": 16,
   "id": "138ecc77",
   "metadata": {},
   "outputs": [
    {
     "data": {
      "text/html": [
       "<div>\n",
       "<style scoped>\n",
       "    .dataframe tbody tr th:only-of-type {\n",
       "        vertical-align: middle;\n",
       "    }\n",
       "\n",
       "    .dataframe tbody tr th {\n",
       "        vertical-align: top;\n",
       "    }\n",
       "\n",
       "    .dataframe thead th {\n",
       "        text-align: right;\n",
       "    }\n",
       "</style>\n",
       "<table border=\"1\" class=\"dataframe\">\n",
       "  <thead>\n",
       "    <tr style=\"text-align: right;\">\n",
       "      <th></th>\n",
       "      <th>name</th>\n",
       "      <th>rt_name</th>\n",
       "      <th>screen_name</th>\n",
       "    </tr>\n",
       "  </thead>\n",
       "  <tbody>\n",
       "    <tr>\n",
       "      <th>59</th>\n",
       "      <td>billm9</td>\n",
       "      <td>ezraklein</td>\n",
       "      <td>ezraklein</td>\n",
       "    </tr>\n",
       "    <tr>\n",
       "      <th>133</th>\n",
       "      <td>codename_karla</td>\n",
       "      <td>ezraklein</td>\n",
       "      <td>ezraklein</td>\n",
       "    </tr>\n",
       "    <tr>\n",
       "      <th>268</th>\n",
       "      <td>OhioDistrict12</td>\n",
       "      <td>ezraklein</td>\n",
       "      <td>ezraklein</td>\n",
       "    </tr>\n",
       "    <tr>\n",
       "      <th>309</th>\n",
       "      <td>MCUfeld</td>\n",
       "      <td>ezraklein</td>\n",
       "      <td>ezraklein</td>\n",
       "    </tr>\n",
       "    <tr>\n",
       "      <th>370</th>\n",
       "      <td>jasr9203</td>\n",
       "      <td>ezraklein</td>\n",
       "      <td>ezraklein</td>\n",
       "    </tr>\n",
       "    <tr>\n",
       "      <th>...</th>\n",
       "      <td>...</td>\n",
       "      <td>...</td>\n",
       "      <td>...</td>\n",
       "    </tr>\n",
       "    <tr>\n",
       "      <th>999339</th>\n",
       "      <td>herrheath</td>\n",
       "      <td>maggieNYT</td>\n",
       "      <td>maggieNYT</td>\n",
       "    </tr>\n",
       "    <tr>\n",
       "      <th>999366</th>\n",
       "      <td>MoreBooks4All</td>\n",
       "      <td>maggieNYT</td>\n",
       "      <td>maggieNYT</td>\n",
       "    </tr>\n",
       "    <tr>\n",
       "      <th>999700</th>\n",
       "      <td>NancyBonita7</td>\n",
       "      <td>maggieNYT</td>\n",
       "      <td>maggieNYT</td>\n",
       "    </tr>\n",
       "    <tr>\n",
       "      <th>999891</th>\n",
       "      <td>coffeytawk2</td>\n",
       "      <td>maggieNYT</td>\n",
       "      <td>maggieNYT</td>\n",
       "    </tr>\n",
       "    <tr>\n",
       "      <th>999980</th>\n",
       "      <td>finetimetoleave</td>\n",
       "      <td>maggieNYT</td>\n",
       "      <td>maggieNYT</td>\n",
       "    </tr>\n",
       "  </tbody>\n",
       "</table>\n",
       "<p>7065 rows × 3 columns</p>\n",
       "</div>"
      ],
      "text/plain": [
       "                   name    rt_name screen_name\n",
       "59               billm9  ezraklein   ezraklein\n",
       "133      codename_karla  ezraklein   ezraklein\n",
       "268      OhioDistrict12  ezraklein   ezraklein\n",
       "309             MCUfeld  ezraklein   ezraklein\n",
       "370            jasr9203  ezraklein   ezraklein\n",
       "...                 ...        ...         ...\n",
       "999339        herrheath  maggieNYT   maggieNYT\n",
       "999366    MoreBooks4All  maggieNYT   maggieNYT\n",
       "999700     NancyBonita7  maggieNYT   maggieNYT\n",
       "999891      coffeytawk2  maggieNYT   maggieNYT\n",
       "999980  finetimetoleave  maggieNYT   maggieNYT\n",
       "\n",
       "[7065 rows x 3 columns]"
      ]
     },
     "execution_count": 16,
     "metadata": {},
     "output_type": "execute_result"
    }
   ],
   "source": [
    "rt = chunk.merge(good, left_on=\"rt_name\", right_on=\"screen_name\", how=\"left\")\n",
    "rt[rt[\"screen_name\"].notna()]"
   ]
  },
  {
   "cell_type": "code",
   "execution_count": 19,
   "id": "8763690d",
   "metadata": {
    "scrolled": true
   },
   "outputs": [
    {
     "data": {
      "application/vnd.jupyter.widget-view+json": {
       "model_id": "473a5d7664e6452fbfaec70f3cd9481c",
       "version_major": 2,
       "version_minor": 0
      },
      "text/plain": [
       "HBox(children=(HTML(value=''), FloatProgress(value=1.0, bar_style='info', layout=Layout(width='20px'), max=1.0…"
      ]
     },
     "metadata": {},
     "output_type": "display_data"
    },
    {
     "name": "stdout",
     "output_type": "stream",
     "text": [
      "chunk processing... \n",
      "Done!\n",
      "chunk processing... \n",
      "Done!\n",
      "chunk processing... \n",
      "Done!\n",
      "chunk processing... \n",
      "Done!\n",
      "chunk processing... \n",
      "Done!\n",
      "chunk processing... \n",
      "Done!\n",
      "chunk processing... \n",
      "Done!\n",
      "chunk processing... \n",
      "Done!\n",
      "chunk processing... \n",
      "Done!\n",
      "chunk processing... \n",
      "Done!\n",
      "chunk processing... \n",
      "Done!\n",
      "chunk processing... \n",
      "Done!\n",
      "chunk processing... \n",
      "Done!\n",
      "chunk processing... \n",
      "Done!\n",
      "chunk processing... \n",
      "Done!\n",
      "chunk processing... \n",
      "Done!\n",
      "chunk processing... \n",
      "Done!\n",
      "chunk processing... \n",
      "Done!\n",
      "chunk processing... \n",
      "Done!\n",
      "chunk processing... \n",
      "Done!\n",
      "chunk processing... \n",
      "Done!\n",
      "chunk processing... \n",
      "Done!\n",
      "chunk processing... \n",
      "Done!\n",
      "chunk processing... \n",
      "Done!\n",
      "chunk processing... \n",
      "Done!\n",
      "chunk processing... \n",
      "Done!\n",
      "chunk processing... \n",
      "Done!\n",
      "chunk processing... \n",
      "Done!\n",
      "chunk processing... \n",
      "Done!\n",
      "chunk processing... \n",
      "Done!\n",
      "chunk processing... \n",
      "Done!\n",
      "chunk processing... \n",
      "Done!\n",
      "chunk processing... \n",
      "Done!\n",
      "chunk processing... \n",
      "Done!\n",
      "chunk processing... \n",
      "Done!\n",
      "chunk processing... \n",
      "Done!\n",
      "chunk processing... \n",
      "Done!\n",
      "chunk processing... \n",
      "Done!\n",
      "chunk processing... \n",
      "Done!\n",
      "chunk processing... \n",
      "Done!\n",
      "chunk processing... \n",
      "Done!\n",
      "chunk processing... \n",
      "Done!\n",
      "chunk processing... \n",
      "Done!\n",
      "chunk processing... \n",
      "Done!\n",
      "chunk processing... \n",
      "Done!\n",
      "chunk processing... \n",
      "Done!\n",
      "chunk processing... \n",
      "Done!\n",
      "chunk processing... \n",
      "Done!\n",
      "chunk processing... \n",
      "Done!\n",
      "\n"
     ]
    }
   ],
   "source": [
    "network_df = pd.DataFrame()\n",
    "rt_good_lst = [] \n",
    "rt_bad_lst = [] \n",
    "for chunk in tqdm(pd.read_csv(network_path, chunksize=1000000, lineterminator=\"\\n\", low_memory=False)):\n",
    "        print(\"chunk processing... \")\n",
    "        rt = chunk.merge(good, left_on=\"rt_name\", right_on=\"screen_name\", how=\"left\")\n",
    "        rt_good_lst.extend(list(pd.Series(rt[rt[\"screen_name\"].notna()][\"name\"]).unique()))\n",
    "        rt = chunk.merge(disinform, left_on=\"rt_name\", right_on=\"screen_name\", how=\"left\")\n",
    "        rt_bad_lst.extend(list(pd.Series(rt[rt[\"screen_name\"].notna()][\"name\"]).unique()))\n",
    "        print(\"Done!\")"
   ]
  },
  {
   "cell_type": "code",
   "execution_count": 23,
   "id": "74156345",
   "metadata": {},
   "outputs": [],
   "source": [
    "good_rt = list(set(rt_good_lst))\n",
    "bad_rt = list(set(rt_bad_lst))\n",
    "pd.DataFrame(good_rt, columns=[\"screen_name\"]).to_csv(\"C:/Users/gianl/Desktop/Gi/good_rt.csv\", line_terminator=\"\\n\",\n",
    "                                                     encoding=\"utf-8\", index=False)\n",
    "pd.DataFrame(bad_rt, columns=[\"screen_name\"]).to_csv(\"C:/Users/gianl/Desktop/Gi/bad_rt.csv\", line_terminator=\"\\n\",\n",
    "                                                     encoding=\"utf-8\", index=False)\n"
   ]
  },
  {
   "cell_type": "code",
   "execution_count": null,
   "id": "69cb9179",
   "metadata": {},
   "outputs": [],
   "source": [
    "rt_bad = network_df.merge(disinform, left_on=\"name\", right_on=\"screen_name\", how=\"left\")\n",
    "rt_bad[rt_bad[\"rt_name\"].notna()]"
   ]
  },
  {
   "cell_type": "code",
   "execution_count": 75,
   "id": "ac284e9a",
   "metadata": {},
   "outputs": [],
   "source": [
    "# network_df"
   ]
  },
  {
   "cell_type": "code",
   "execution_count": 74,
   "id": "8c284362",
   "metadata": {},
   "outputs": [],
   "source": [
    "# nt_1 = list(pd.read_csv(\"F:/Supsi/COVID-19-Tweets/large_files/rt_network/names/rt_nt_1.csv\")[\"name\"])\n",
    "# nt_2 = list(pd.read_csv(\"F:/Supsi/COVID-19-Tweets/large_files/rt_network/names/rt_nt_2.csv\")[\"name\"])\n"
   ]
  },
  {
   "cell_type": "code",
   "execution_count": 73,
   "id": "ff143366",
   "metadata": {},
   "outputs": [],
   "source": [
    "# for k,v in tqdm(network_df.iterrows()):\n",
    "#     if (v[\"name\"] in nt_1) & (v[\"rt_name\"] in nt_2):\n",
    "#         print(v)"
   ]
  },
  {
   "cell_type": "code",
   "execution_count": null,
   "id": "7efbbf7d",
   "metadata": {},
   "outputs": [],
   "source": []
  }
 ],
 "metadata": {
  "kernelspec": {
   "display_name": "Python 3",
   "language": "python",
   "name": "python3"
  },
  "language_info": {
   "codemirror_mode": {
    "name": "ipython",
    "version": 3
   },
   "file_extension": ".py",
   "mimetype": "text/x-python",
   "name": "python",
   "nbconvert_exporter": "python",
   "pygments_lexer": "ipython3",
   "version": "3.8.11"
  }
 },
 "nbformat": 4,
 "nbformat_minor": 5
}
