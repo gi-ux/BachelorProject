{
 "cells": [
  {
   "cell_type": "code",
   "execution_count": 2,
   "id": "d3d7b7a2",
   "metadata": {},
   "outputs": [],
   "source": [
    "import pandas as pd\n",
    "from tqdm.notebook import tqdm\n",
    "import glob\n",
    "import warnings\n",
    "warnings.filterwarnings('ignore')\n",
    "path_ccdh =  glob.glob(\"F:/Supsi/COVID-19-Tweets/large_files/ccdh/\")"
   ]
  },
  {
   "cell_type": "code",
   "execution_count": 9,
   "id": "cefe7ecf",
   "metadata": {},
   "outputs": [],
   "source": [
    "def write_ids(df, file_path, chunk_number):\n",
    "    lines = df[\"id\"]\n",
    "    with open(f'{file_path}.txt', 'w') as f:\n",
    "        for line in tqdm(lines):\n",
    "            f.write(str(line))\n",
    "            f.write('\\n')"
   ]
  },
  {
   "cell_type": "markdown",
   "id": "5bdbf3af",
   "metadata": {},
   "source": [
    "# Good"
   ]
  },
  {
   "cell_type": "code",
   "execution_count": 7,
   "id": "b5b5374c",
   "metadata": {},
   "outputs": [],
   "source": [
    "good_rt_in = pd.DataFrame()\n",
    "for chunk in tqdm(pd.read_csv(path_ccdh[0] + \"good_dozen_rt.csv\", lineterminator='\\n', \n",
    "                         low_memory=False, usecols=[\"id\",\"id_str\"], chunksize=int(1e6))):\n",
    "    good_rt_in = good_rt_in.append(chunk)"
   ]
  },
  {
   "cell_type": "code",
   "execution_count": 10,
   "id": "149d3e9d",
   "metadata": {},
   "outputs": [],
   "source": [
    "write_ids(good_rt_in, \"C:/Users/gianl/Desktop/Gi/Supsi/good_rt_in_ids.txt\")"
   ]
  },
  {
   "cell_type": "code",
   "execution_count": null,
   "id": "8cff2988",
   "metadata": {},
   "outputs": [],
   "source": [
    "    \n",
    "df_good_users_interactions = pd.read_csv(path_ccdh[0] + \"all_good.csv\", low_memory=False, lineterminator=\"\\n\")\n",
    "df_good_activity = df_good_users_interactions[df_good_users_interactions[\"user_screen_name\"].isin(list(good_users_list[\"screen_name\"]))]\n"
   ]
  },
  {
   "cell_type": "markdown",
   "id": "e71fb139",
   "metadata": {},
   "source": [
    "# Bad"
   ]
  },
  {
   "cell_type": "code",
   "execution_count": null,
   "id": "cf230fbb",
   "metadata": {},
   "outputs": [],
   "source": [
    "bad_rt_in = pd.DataFrame()\n",
    "for chunk in tqdm(pd.read_csv(path_ccdh[0] + \"bad_dozen_rt_ricevuti.csv\", lineterminator='\\n', \n",
    "                         low_memory=False, usecols=usecols=[\"id\",\"id_str\"], chunksize=int(1e6))):\n",
    "    bad_rt_in = bad_rt_in.append(chunk)\n",
    "\n",
    "df_bad_dozen_interactions = pd.read_csv(path_ccdh[0] + \"bad_dozen.csv\", low_memory=False, lineterminator=\"\\n\")\n",
    "df_bad_activity = df_bad_dozen_interactions[df_bad_dozen_interactions[\"user_screen_name\"].isin(list(bad_dozen_list[\"screen_name\"]))]\n"
   ]
  },
  {
   "cell_type": "markdown",
   "id": "c92df5fe",
   "metadata": {},
   "source": [
    "# Covid-19"
   ]
  },
  {
   "cell_type": "code",
   "execution_count": null,
   "id": "c2b87445",
   "metadata": {},
   "outputs": [],
   "source": []
  }
 ],
 "metadata": {
  "kernelspec": {
   "display_name": "Python 3",
   "language": "python",
   "name": "python3"
  },
  "language_info": {
   "codemirror_mode": {
    "name": "ipython",
    "version": 3
   },
   "file_extension": ".py",
   "mimetype": "text/x-python",
   "name": "python",
   "nbconvert_exporter": "python",
   "pygments_lexer": "ipython3",
   "version": "3.8.11"
  }
 },
 "nbformat": 4,
 "nbformat_minor": 5
}
