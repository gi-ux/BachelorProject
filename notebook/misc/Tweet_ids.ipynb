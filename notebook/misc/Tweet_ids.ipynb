{
 "cells": [
  {
   "cell_type": "code",
   "execution_count": 1,
   "id": "d3d7b7a2",
   "metadata": {},
   "outputs": [],
   "source": [
    "import pandas as pd\n",
    "from tqdm.notebook import tqdm\n",
    "import glob\n",
    "import warnings\n",
    "warnings.filterwarnings('ignore')\n",
    "path_ccdh =  glob.glob(\"F:/Supsi/COVID-19-Tweets/large_files/ccdh/\")"
   ]
  },
  {
   "cell_type": "code",
   "execution_count": 2,
   "id": "0b86abab",
   "metadata": {},
   "outputs": [],
   "source": [
    "good_users_list = pd.read_csv(\"C:/Users/gianl/Desktop/Gi/Supsi/BachelorProject/csv/all_good_users.csv\")\n",
    "bad_dozen_list = pd.read_csv(\"C:/Users/gianl/Desktop/Gi/Supsi/BachelorProject/csv/disinformation_users.csv\")"
   ]
  },
  {
   "cell_type": "code",
   "execution_count": 3,
   "id": "ebd36197",
   "metadata": {},
   "outputs": [
    {
     "data": {
      "text/plain": [
       "['F:/Supsi/COVID-19-Tweets/large_files/ccdh/']"
      ]
     },
     "execution_count": 3,
     "metadata": {},
     "output_type": "execute_result"
    }
   ],
   "source": [
    "path_ccdh"
   ]
  },
  {
   "cell_type": "code",
   "execution_count": 6,
   "id": "4ac7d027",
   "metadata": {},
   "outputs": [
    {
     "data": {
      "text/plain": [
       "3217581.0"
      ]
     },
     "execution_count": 6,
     "metadata": {},
     "output_type": "execute_result"
    }
   ],
   "source": [
    "6435162/2"
   ]
  },
  {
   "cell_type": "code",
   "execution_count": 8,
   "id": "cae409a2",
   "metadata": {},
   "outputs": [],
   "source": [
    "def split_list(a_list):\n",
    "    half = len(a_list)//2\n",
    "    return a_list[:half], a_list[half:]"
   ]
  },
  {
   "cell_type": "code",
   "execution_count": 10,
   "id": "b6f7826d",
   "metadata": {},
   "outputs": [],
   "source": [
    "lines_1,lines_2 = split_list(list(good_rt_in[\"id\"]))"
   ]
  },
  {
   "cell_type": "code",
   "execution_count": 14,
   "id": "82cf401b",
   "metadata": {},
   "outputs": [
    {
     "data": {
      "text/plain": [
       "True"
      ]
     },
     "execution_count": 14,
     "metadata": {},
     "output_type": "execute_result"
    }
   ],
   "source": [
    "len(lines_1) + len(lines_2) == len(good_rt_in)"
   ]
  },
  {
   "cell_type": "code",
   "execution_count": 15,
   "id": "1ad20fc7",
   "metadata": {},
   "outputs": [
    {
     "data": {
      "application/vnd.jupyter.widget-view+json": {
       "model_id": "539feb88fdd4459286b0acd9be79a5b2",
       "version_major": 2,
       "version_minor": 0
      },
      "text/plain": [
       "HBox(children=(HTML(value=''), FloatProgress(value=0.0, max=3217581.0), HTML(value='')))"
      ]
     },
     "metadata": {},
     "output_type": "display_data"
    },
    {
     "name": "stdout",
     "output_type": "stream",
     "text": [
      "\n"
     ]
    }
   ],
   "source": [
    "with open(f'C:/Users/gianl/Desktop/good_rt_1.txt', 'w') as f:\n",
    "    for line in tqdm(lines_1):\n",
    "        f.write(str(line))\n",
    "        f.write('\\n')"
   ]
  },
  {
   "cell_type": "code",
   "execution_count": 16,
   "id": "54872acf",
   "metadata": {},
   "outputs": [
    {
     "data": {
      "application/vnd.jupyter.widget-view+json": {
       "model_id": "222814d52bc6479fa05e13142a736cf6",
       "version_major": 2,
       "version_minor": 0
      },
      "text/plain": [
       "HBox(children=(HTML(value=''), FloatProgress(value=0.0, max=3217582.0), HTML(value='')))"
      ]
     },
     "metadata": {},
     "output_type": "display_data"
    },
    {
     "name": "stdout",
     "output_type": "stream",
     "text": [
      "\n"
     ]
    }
   ],
   "source": [
    "with open(f'C:/Users/gianl/Desktop/good_rt_2.txt', 'w') as f:\n",
    "    for line in tqdm(lines_2):\n",
    "        f.write(str(line))\n",
    "        f.write('\\n')"
   ]
  },
  {
   "cell_type": "code",
   "execution_count": 6,
   "id": "cefe7ecf",
   "metadata": {},
   "outputs": [],
   "source": [
    "def write_ids(df, file_path):\n",
    "    count = 0\n",
    "    lines = df[\"id\"]\n",
    "    with open(f'{file_path}.txt', 'w') as f:\n",
    "        for line in tqdm(lines):\n",
    "            f.write(str(line))\n",
    "            f.write('\\n')"
   ]
  },
  {
   "cell_type": "markdown",
   "id": "5bdbf3af",
   "metadata": {},
   "source": [
    "# Good"
   ]
  },
  {
   "cell_type": "code",
   "execution_count": 4,
   "id": "b5b5374c",
   "metadata": {},
   "outputs": [
    {
     "data": {
      "application/vnd.jupyter.widget-view+json": {
       "model_id": "752cd2d1cfe0453ca24d28eb468fb8b7",
       "version_major": 2,
       "version_minor": 0
      },
      "text/plain": [
       "HBox(children=(HTML(value=''), FloatProgress(value=1.0, bar_style='info', layout=Layout(width='20px'), max=1.0…"
      ]
     },
     "metadata": {},
     "output_type": "display_data"
    },
    {
     "name": "stdout",
     "output_type": "stream",
     "text": [
      "\n"
     ]
    }
   ],
   "source": [
    "good_rt_in = pd.DataFrame()\n",
    "for chunk in tqdm(pd.read_csv(path_ccdh[0] + \"good_dozen_rt.csv\", lineterminator='\\n', \n",
    "                         low_memory=False, usecols=[\"id\",\"id_str\"], chunksize=int(1e6))):\n",
    "    good_rt_in = good_rt_in.append(chunk)"
   ]
  },
  {
   "cell_type": "code",
   "execution_count": 20,
   "id": "b6fecc4a",
   "metadata": {},
   "outputs": [
    {
     "data": {
      "text/plain": [
       "769979"
      ]
     },
     "execution_count": 20,
     "metadata": {},
     "output_type": "execute_result"
    }
   ],
   "source": [
    "len(df_good_activity) + len(df_bad_activity)"
   ]
  },
  {
   "cell_type": "code",
   "execution_count": 17,
   "id": "149d3e9d",
   "metadata": {},
   "outputs": [
    {
     "data": {
      "application/vnd.jupyter.widget-view+json": {
       "model_id": "0c6a0ad61331416c9433f98b92b84b71",
       "version_major": 2,
       "version_minor": 0
      },
      "text/plain": [
       "HBox(children=(HTML(value=''), FloatProgress(value=0.0, max=1011468.0), HTML(value='')))"
      ]
     },
     "metadata": {},
     "output_type": "display_data"
    },
    {
     "name": "stdout",
     "output_type": "stream",
     "text": [
      "\n"
     ]
    }
   ],
   "source": [
    "write_ids(bad_rt_in, \"C:/Users/gianl/Desktop/Gi/Supsi/bad_rt_in_ids.txt\")"
   ]
  },
  {
   "cell_type": "code",
   "execution_count": 16,
   "id": "8cff2988",
   "metadata": {},
   "outputs": [],
   "source": [
    "df_good_users_interactions = pd.read_csv(path_ccdh[0] + \"all_good.csv\", low_memory=False, lineterminator=\"\\n\")\n",
    "df_good_activity = df_good_users_interactions[df_good_users_interactions[\"user_screen_name\"].isin(list(good_users_list[\"screen_name\"]))]\n"
   ]
  },
  {
   "cell_type": "markdown",
   "id": "e71fb139",
   "metadata": {},
   "source": [
    "# Bad"
   ]
  },
  {
   "cell_type": "code",
   "execution_count": 9,
   "id": "274671c2",
   "metadata": {},
   "outputs": [
    {
     "data": {
      "application/vnd.jupyter.widget-view+json": {
       "model_id": "6db31de8a9d44ab09579752b5f39e8aa",
       "version_major": 2,
       "version_minor": 0
      },
      "text/plain": [
       "HBox(children=(HTML(value=''), FloatProgress(value=1.0, bar_style='info', layout=Layout(width='20px'), max=1.0…"
      ]
     },
     "metadata": {},
     "output_type": "display_data"
    },
    {
     "name": "stdout",
     "output_type": "stream",
     "text": [
      "\n"
     ]
    }
   ],
   "source": [
    "bad_rt_in = pd.DataFrame()\n",
    "for chunk in tqdm(pd.read_csv(path_ccdh[0] + \"bad_dozen_rt_ricevuti.csv\", lineterminator='\\n', \n",
    "                         low_memory=False, usecols=[\"id\",\"id_str\"], chunksize=int(1e6))):\n",
    "    bad_rt_in = bad_rt_in.append(chunk)"
   ]
  },
  {
   "cell_type": "code",
   "execution_count": 11,
   "id": "bc8a0109",
   "metadata": {},
   "outputs": [
    {
     "data": {
      "text/plain": [
       "1011468"
      ]
     },
     "execution_count": 11,
     "metadata": {},
     "output_type": "execute_result"
    }
   ],
   "source": [
    "len(bad_rt_in)"
   ]
  },
  {
   "cell_type": "code",
   "execution_count": 19,
   "id": "cf230fbb",
   "metadata": {},
   "outputs": [],
   "source": [
    "# bad_rt_in = pd.DataFrame()\n",
    "# for chunk in tqdm(pd.read_csv(path_ccdh[0] + \"bad_dozen_rt_ricevuti.csv\", lineterminator='\\n', \n",
    "#                          low_memory=False, usecols=usecols=[\"id\",\"id_str\"], chunksize=int(1e6))):\n",
    "#     bad_rt_in = bad_rt_in.append(chunk)\n",
    "df_bad_dozen_interactions = pd.read_csv(path_ccdh[0] + \"bad_dozen.csv\", low_memory=False, lineterminator=\"\\n\")\n",
    "df_bad_activity = df_bad_dozen_interactions[df_bad_dozen_interactions[\"user_screen_name\"].isin(list(bad_dozen_list[\"screen_name\"]))]\n"
   ]
  },
  {
   "cell_type": "markdown",
   "id": "c92df5fe",
   "metadata": {},
   "source": [
    "# Covid-19"
   ]
  },
  {
   "cell_type": "code",
   "execution_count": null,
   "id": "c2b87445",
   "metadata": {},
   "outputs": [],
   "source": []
  }
 ],
 "metadata": {
  "kernelspec": {
   "display_name": "Python 3",
   "language": "python",
   "name": "python3"
  },
  "language_info": {
   "codemirror_mode": {
    "name": "ipython",
    "version": 3
   },
   "file_extension": ".py",
   "mimetype": "text/x-python",
   "name": "python",
   "nbconvert_exporter": "python",
   "pygments_lexer": "ipython3",
   "version": "3.8.11"
  }
 },
 "nbformat": 4,
 "nbformat_minor": 5
}
