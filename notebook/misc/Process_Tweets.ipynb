{
 "cells": [
  {
   "cell_type": "code",
   "execution_count": 1,
   "metadata": {},
   "outputs": [
    {
     "data": {
      "application/javascript": [
       "IPython.notebook.set_autosave_interval(3600000)"
      ]
     },
     "metadata": {},
     "output_type": "display_data"
    },
    {
     "name": "stdout",
     "output_type": "stream",
     "text": [
      "Autosaving every 3600 seconds\n"
     ]
    }
   ],
   "source": [
    "import pandas as pd\n",
    "# from collections import Counter\n",
    "import numpy as np\n",
    "import matplotlib.pyplot as plt\n",
    "from matplotlib.pyplot import figure\n",
    "import plotly.graph_objects as go\n",
    "\n",
    "import datetime\n",
    "import plotly.express as px\n",
    "# import matplotlib.mlab as mlab\n",
    "# from statistics import mean\n",
    "# import pylab\n",
    "import math\n",
    "# import tweepy\n",
    "# from botometer import Botometer\n",
    "# from geopy.geocoders import Nominatim\n",
    "# geolocator = Nominatim(user_agent=\"gianluca.nogara@gmail.com\")\n",
    "import warnings\n",
    "warnings.filterwarnings('ignore')\n",
    "import time\n",
    "from time import perf_counter\n",
    "import glob\n",
    "import sys\n",
    "sys.path.append('C:/Users/gianl/Desktop/Gi/Supsi/BachelorProject/notebook/tweet_utils')\n",
    "import tweets_utils\n",
    "import csv\n",
    "import importlib\n",
    "%autosave 3600"
   ]
  },
  {
   "cell_type": "code",
   "execution_count": 14,
   "metadata": {},
   "outputs": [],
   "source": [
    "bot_tweets =  730483\n",
    "bot_original = 310406\n",
    "bot_retweets = 384562\n",
    "bot_replies = 21153\n",
    "bot_quotes = 15133\n",
    "bot_values = [(bot_original/bot_tweets), (bot_retweets/bot_tweets), \n",
    "              (bot_replies/bot_tweets), (bot_quotes/bot_tweets)]\n",
    "\n",
    "human_tweets = 312673\n",
    "human_original = 35514\n",
    "human_retweets = 198042\n",
    "human_replies = 41230\n",
    "human_quotes = 37887\n",
    "human_values = [(human_original/human_tweets), (human_retweets/human_tweets), \n",
    "              (human_replies/human_tweets), (human_quotes/human_tweets)]\n",
    "\n",
    "bad_tweets = 19159\n",
    "bad_original = 13535\n",
    "bad_retweets = 2834\n",
    "bad_replies = 1622\n",
    "bad_quotes = 1168\n",
    "bad_values = [(bad_original/bad_tweets), (bad_retweets/bad_tweets), \n",
    "              (bad_replies/bad_tweets), (bad_quotes/bad_tweets)]\n",
    "\n",
    "\n",
    "good_tweets = 750820\n",
    "good_original = 146304\n",
    "good_retweets = 287203\n",
    "good_replies = 233374\n",
    "good_quotes = 83939\n",
    "good_values = [(good_original/good_tweets), (good_retweets/good_tweets), \n",
    "              (good_replies/good_tweets), (good_quotes/good_tweets)]\n",
    "\n",
    "susp_tweets = 97562\n",
    "susp_original = 24482\n",
    "susp_retweets = 56138\n",
    "susp_replies = 9272\n",
    "susp_quotes = 7670\n",
    "susp_values = [(susp_original/susp_tweets), (susp_retweets/susp_tweets), \n",
    "              (susp_replies/susp_tweets), (susp_quotes/susp_tweets)]"
   ]
  },
  {
   "cell_type": "code",
   "execution_count": 23,
   "metadata": {},
   "outputs": [
    {
     "data": {
      "application/vnd.plotly.v1+json": {
       "config": {
        "plotlyServerURL": "https://plot.ly"
       },
       "data": [
        {
         "histfunc": "sum",
         "name": "Bad",
         "type": "histogram",
         "x": [
          "Original",
          "Retweet",
          "Reply",
          "Quote"
         ],
         "y": [
          0.706456495641735,
          0.1479200375802495,
          0.0846599509368965,
          0.06096351584111906
         ]
        },
        {
         "histfunc": "sum",
         "name": "Good",
         "type": "histogram",
         "x": [
          "Original",
          "Retweet",
          "Reply",
          "Quote"
         ],
         "y": [
          0.19485895421006366,
          0.3825191124370688,
          0.31082549745611465,
          0.11179643589675288
         ]
        },
        {
         "histfunc": "sum",
         "name": "Human",
         "type": "histogram",
         "x": [
          "Original",
          "Retweet",
          "Reply",
          "Quote"
         ],
         "y": [
          0.11358192104850755,
          0.6333837587511554,
          0.13186300064284412,
          0.12117131955749297
         ]
        },
        {
         "histfunc": "sum",
         "name": "Bot",
         "type": "histogram",
         "x": [
          "Original",
          "Retweet",
          "Reply",
          "Quote"
         ],
         "y": [
          0.4249325446314288,
          0.526448938578995,
          0.02895755274250051,
          0.02071643008803764
         ]
        },
        {
         "histfunc": "sum",
         "name": "Suspended",
         "type": "histogram",
         "x": [
          "Original",
          "Retweet",
          "Reply",
          "Quote"
         ],
         "y": [
          0.2509378651524159,
          0.5754084582111888,
          0.09503700211147784,
          0.07861667452491748
         ]
        }
       ],
       "layout": {
        "legend": {
         "title": {
          "text": "Legend"
         }
        },
        "template": {
         "data": {
          "bar": [
           {
            "error_x": {
             "color": "#2a3f5f"
            },
            "error_y": {
             "color": "#2a3f5f"
            },
            "marker": {
             "line": {
              "color": "#E5ECF6",
              "width": 0.5
             },
             "pattern": {
              "fillmode": "overlay",
              "size": 10,
              "solidity": 0.2
             }
            },
            "type": "bar"
           }
          ],
          "barpolar": [
           {
            "marker": {
             "line": {
              "color": "#E5ECF6",
              "width": 0.5
             },
             "pattern": {
              "fillmode": "overlay",
              "size": 10,
              "solidity": 0.2
             }
            },
            "type": "barpolar"
           }
          ],
          "carpet": [
           {
            "aaxis": {
             "endlinecolor": "#2a3f5f",
             "gridcolor": "white",
             "linecolor": "white",
             "minorgridcolor": "white",
             "startlinecolor": "#2a3f5f"
            },
            "baxis": {
             "endlinecolor": "#2a3f5f",
             "gridcolor": "white",
             "linecolor": "white",
             "minorgridcolor": "white",
             "startlinecolor": "#2a3f5f"
            },
            "type": "carpet"
           }
          ],
          "choropleth": [
           {
            "colorbar": {
             "outlinewidth": 0,
             "ticks": ""
            },
            "type": "choropleth"
           }
          ],
          "contour": [
           {
            "colorbar": {
             "outlinewidth": 0,
             "ticks": ""
            },
            "colorscale": [
             [
              0,
              "#0d0887"
             ],
             [
              0.1111111111111111,
              "#46039f"
             ],
             [
              0.2222222222222222,
              "#7201a8"
             ],
             [
              0.3333333333333333,
              "#9c179e"
             ],
             [
              0.4444444444444444,
              "#bd3786"
             ],
             [
              0.5555555555555556,
              "#d8576b"
             ],
             [
              0.6666666666666666,
              "#ed7953"
             ],
             [
              0.7777777777777778,
              "#fb9f3a"
             ],
             [
              0.8888888888888888,
              "#fdca26"
             ],
             [
              1,
              "#f0f921"
             ]
            ],
            "type": "contour"
           }
          ],
          "contourcarpet": [
           {
            "colorbar": {
             "outlinewidth": 0,
             "ticks": ""
            },
            "type": "contourcarpet"
           }
          ],
          "heatmap": [
           {
            "colorbar": {
             "outlinewidth": 0,
             "ticks": ""
            },
            "colorscale": [
             [
              0,
              "#0d0887"
             ],
             [
              0.1111111111111111,
              "#46039f"
             ],
             [
              0.2222222222222222,
              "#7201a8"
             ],
             [
              0.3333333333333333,
              "#9c179e"
             ],
             [
              0.4444444444444444,
              "#bd3786"
             ],
             [
              0.5555555555555556,
              "#d8576b"
             ],
             [
              0.6666666666666666,
              "#ed7953"
             ],
             [
              0.7777777777777778,
              "#fb9f3a"
             ],
             [
              0.8888888888888888,
              "#fdca26"
             ],
             [
              1,
              "#f0f921"
             ]
            ],
            "type": "heatmap"
           }
          ],
          "heatmapgl": [
           {
            "colorbar": {
             "outlinewidth": 0,
             "ticks": ""
            },
            "colorscale": [
             [
              0,
              "#0d0887"
             ],
             [
              0.1111111111111111,
              "#46039f"
             ],
             [
              0.2222222222222222,
              "#7201a8"
             ],
             [
              0.3333333333333333,
              "#9c179e"
             ],
             [
              0.4444444444444444,
              "#bd3786"
             ],
             [
              0.5555555555555556,
              "#d8576b"
             ],
             [
              0.6666666666666666,
              "#ed7953"
             ],
             [
              0.7777777777777778,
              "#fb9f3a"
             ],
             [
              0.8888888888888888,
              "#fdca26"
             ],
             [
              1,
              "#f0f921"
             ]
            ],
            "type": "heatmapgl"
           }
          ],
          "histogram": [
           {
            "marker": {
             "pattern": {
              "fillmode": "overlay",
              "size": 10,
              "solidity": 0.2
             }
            },
            "type": "histogram"
           }
          ],
          "histogram2d": [
           {
            "colorbar": {
             "outlinewidth": 0,
             "ticks": ""
            },
            "colorscale": [
             [
              0,
              "#0d0887"
             ],
             [
              0.1111111111111111,
              "#46039f"
             ],
             [
              0.2222222222222222,
              "#7201a8"
             ],
             [
              0.3333333333333333,
              "#9c179e"
             ],
             [
              0.4444444444444444,
              "#bd3786"
             ],
             [
              0.5555555555555556,
              "#d8576b"
             ],
             [
              0.6666666666666666,
              "#ed7953"
             ],
             [
              0.7777777777777778,
              "#fb9f3a"
             ],
             [
              0.8888888888888888,
              "#fdca26"
             ],
             [
              1,
              "#f0f921"
             ]
            ],
            "type": "histogram2d"
           }
          ],
          "histogram2dcontour": [
           {
            "colorbar": {
             "outlinewidth": 0,
             "ticks": ""
            },
            "colorscale": [
             [
              0,
              "#0d0887"
             ],
             [
              0.1111111111111111,
              "#46039f"
             ],
             [
              0.2222222222222222,
              "#7201a8"
             ],
             [
              0.3333333333333333,
              "#9c179e"
             ],
             [
              0.4444444444444444,
              "#bd3786"
             ],
             [
              0.5555555555555556,
              "#d8576b"
             ],
             [
              0.6666666666666666,
              "#ed7953"
             ],
             [
              0.7777777777777778,
              "#fb9f3a"
             ],
             [
              0.8888888888888888,
              "#fdca26"
             ],
             [
              1,
              "#f0f921"
             ]
            ],
            "type": "histogram2dcontour"
           }
          ],
          "mesh3d": [
           {
            "colorbar": {
             "outlinewidth": 0,
             "ticks": ""
            },
            "type": "mesh3d"
           }
          ],
          "parcoords": [
           {
            "line": {
             "colorbar": {
              "outlinewidth": 0,
              "ticks": ""
             }
            },
            "type": "parcoords"
           }
          ],
          "pie": [
           {
            "automargin": true,
            "type": "pie"
           }
          ],
          "scatter": [
           {
            "marker": {
             "colorbar": {
              "outlinewidth": 0,
              "ticks": ""
             }
            },
            "type": "scatter"
           }
          ],
          "scatter3d": [
           {
            "line": {
             "colorbar": {
              "outlinewidth": 0,
              "ticks": ""
             }
            },
            "marker": {
             "colorbar": {
              "outlinewidth": 0,
              "ticks": ""
             }
            },
            "type": "scatter3d"
           }
          ],
          "scattercarpet": [
           {
            "marker": {
             "colorbar": {
              "outlinewidth": 0,
              "ticks": ""
             }
            },
            "type": "scattercarpet"
           }
          ],
          "scattergeo": [
           {
            "marker": {
             "colorbar": {
              "outlinewidth": 0,
              "ticks": ""
             }
            },
            "type": "scattergeo"
           }
          ],
          "scattergl": [
           {
            "marker": {
             "colorbar": {
              "outlinewidth": 0,
              "ticks": ""
             }
            },
            "type": "scattergl"
           }
          ],
          "scattermapbox": [
           {
            "marker": {
             "colorbar": {
              "outlinewidth": 0,
              "ticks": ""
             }
            },
            "type": "scattermapbox"
           }
          ],
          "scatterpolar": [
           {
            "marker": {
             "colorbar": {
              "outlinewidth": 0,
              "ticks": ""
             }
            },
            "type": "scatterpolar"
           }
          ],
          "scatterpolargl": [
           {
            "marker": {
             "colorbar": {
              "outlinewidth": 0,
              "ticks": ""
             }
            },
            "type": "scatterpolargl"
           }
          ],
          "scatterternary": [
           {
            "marker": {
             "colorbar": {
              "outlinewidth": 0,
              "ticks": ""
             }
            },
            "type": "scatterternary"
           }
          ],
          "surface": [
           {
            "colorbar": {
             "outlinewidth": 0,
             "ticks": ""
            },
            "colorscale": [
             [
              0,
              "#0d0887"
             ],
             [
              0.1111111111111111,
              "#46039f"
             ],
             [
              0.2222222222222222,
              "#7201a8"
             ],
             [
              0.3333333333333333,
              "#9c179e"
             ],
             [
              0.4444444444444444,
              "#bd3786"
             ],
             [
              0.5555555555555556,
              "#d8576b"
             ],
             [
              0.6666666666666666,
              "#ed7953"
             ],
             [
              0.7777777777777778,
              "#fb9f3a"
             ],
             [
              0.8888888888888888,
              "#fdca26"
             ],
             [
              1,
              "#f0f921"
             ]
            ],
            "type": "surface"
           }
          ],
          "table": [
           {
            "cells": {
             "fill": {
              "color": "#EBF0F8"
             },
             "line": {
              "color": "white"
             }
            },
            "header": {
             "fill": {
              "color": "#C8D4E3"
             },
             "line": {
              "color": "white"
             }
            },
            "type": "table"
           }
          ]
         },
         "layout": {
          "annotationdefaults": {
           "arrowcolor": "#2a3f5f",
           "arrowhead": 0,
           "arrowwidth": 1
          },
          "autotypenumbers": "strict",
          "coloraxis": {
           "colorbar": {
            "outlinewidth": 0,
            "ticks": ""
           }
          },
          "colorscale": {
           "diverging": [
            [
             0,
             "#8e0152"
            ],
            [
             0.1,
             "#c51b7d"
            ],
            [
             0.2,
             "#de77ae"
            ],
            [
             0.3,
             "#f1b6da"
            ],
            [
             0.4,
             "#fde0ef"
            ],
            [
             0.5,
             "#f7f7f7"
            ],
            [
             0.6,
             "#e6f5d0"
            ],
            [
             0.7,
             "#b8e186"
            ],
            [
             0.8,
             "#7fbc41"
            ],
            [
             0.9,
             "#4d9221"
            ],
            [
             1,
             "#276419"
            ]
           ],
           "sequential": [
            [
             0,
             "#0d0887"
            ],
            [
             0.1111111111111111,
             "#46039f"
            ],
            [
             0.2222222222222222,
             "#7201a8"
            ],
            [
             0.3333333333333333,
             "#9c179e"
            ],
            [
             0.4444444444444444,
             "#bd3786"
            ],
            [
             0.5555555555555556,
             "#d8576b"
            ],
            [
             0.6666666666666666,
             "#ed7953"
            ],
            [
             0.7777777777777778,
             "#fb9f3a"
            ],
            [
             0.8888888888888888,
             "#fdca26"
            ],
            [
             1,
             "#f0f921"
            ]
           ],
           "sequentialminus": [
            [
             0,
             "#0d0887"
            ],
            [
             0.1111111111111111,
             "#46039f"
            ],
            [
             0.2222222222222222,
             "#7201a8"
            ],
            [
             0.3333333333333333,
             "#9c179e"
            ],
            [
             0.4444444444444444,
             "#bd3786"
            ],
            [
             0.5555555555555556,
             "#d8576b"
            ],
            [
             0.6666666666666666,
             "#ed7953"
            ],
            [
             0.7777777777777778,
             "#fb9f3a"
            ],
            [
             0.8888888888888888,
             "#fdca26"
            ],
            [
             1,
             "#f0f921"
            ]
           ]
          },
          "colorway": [
           "#636efa",
           "#EF553B",
           "#00cc96",
           "#ab63fa",
           "#FFA15A",
           "#19d3f3",
           "#FF6692",
           "#B6E880",
           "#FF97FF",
           "#FECB52"
          ],
          "font": {
           "color": "#2a3f5f"
          },
          "geo": {
           "bgcolor": "white",
           "lakecolor": "white",
           "landcolor": "#E5ECF6",
           "showlakes": true,
           "showland": true,
           "subunitcolor": "white"
          },
          "hoverlabel": {
           "align": "left"
          },
          "hovermode": "closest",
          "mapbox": {
           "style": "light"
          },
          "paper_bgcolor": "white",
          "plot_bgcolor": "#E5ECF6",
          "polar": {
           "angularaxis": {
            "gridcolor": "white",
            "linecolor": "white",
            "ticks": ""
           },
           "bgcolor": "#E5ECF6",
           "radialaxis": {
            "gridcolor": "white",
            "linecolor": "white",
            "ticks": ""
           }
          },
          "scene": {
           "xaxis": {
            "backgroundcolor": "#E5ECF6",
            "gridcolor": "white",
            "gridwidth": 2,
            "linecolor": "white",
            "showbackground": true,
            "ticks": "",
            "zerolinecolor": "white"
           },
           "yaxis": {
            "backgroundcolor": "#E5ECF6",
            "gridcolor": "white",
            "gridwidth": 2,
            "linecolor": "white",
            "showbackground": true,
            "ticks": "",
            "zerolinecolor": "white"
           },
           "zaxis": {
            "backgroundcolor": "#E5ECF6",
            "gridcolor": "white",
            "gridwidth": 2,
            "linecolor": "white",
            "showbackground": true,
            "ticks": "",
            "zerolinecolor": "white"
           }
          },
          "shapedefaults": {
           "line": {
            "color": "#2a3f5f"
           }
          },
          "ternary": {
           "aaxis": {
            "gridcolor": "white",
            "linecolor": "white",
            "ticks": ""
           },
           "baxis": {
            "gridcolor": "white",
            "linecolor": "white",
            "ticks": ""
           },
           "bgcolor": "#E5ECF6",
           "caxis": {
            "gridcolor": "white",
            "linecolor": "white",
            "ticks": ""
           }
          },
          "title": {
           "x": 0.05
          },
          "xaxis": {
           "automargin": true,
           "gridcolor": "white",
           "linecolor": "white",
           "ticks": "",
           "title": {
            "standoff": 15
           },
           "zerolinecolor": "white",
           "zerolinewidth": 2
          },
          "yaxis": {
           "automargin": true,
           "gridcolor": "white",
           "linecolor": "white",
           "ticks": "",
           "title": {
            "standoff": 15
           },
           "zerolinecolor": "white",
           "zerolinewidth": 2
          }
         }
        },
        "title": {
         "text": "Differences between Users activity"
        },
        "xaxis": {
         "title": {
          "text": "Kind of activity"
         }
        },
        "yaxis": {
         "title": {
          "text": "Percentage of activity"
         }
        }
       }
      },
      "text/html": [
       "<div>                            <div id=\"83de4aed-7411-4bdc-928f-a2a78f443a96\" class=\"plotly-graph-div\" style=\"height:525px; width:100%;\"></div>            <script type=\"text/javascript\">                require([\"plotly\"], function(Plotly) {                    window.PLOTLYENV=window.PLOTLYENV || {};                                    if (document.getElementById(\"83de4aed-7411-4bdc-928f-a2a78f443a96\")) {                    Plotly.newPlot(                        \"83de4aed-7411-4bdc-928f-a2a78f443a96\",                        [{\"histfunc\":\"sum\",\"name\":\"Bad\",\"type\":\"histogram\",\"x\":[\"Original\",\"Retweet\",\"Reply\",\"Quote\"],\"y\":[0.706456495641735,0.1479200375802495,0.0846599509368965,0.06096351584111906]},{\"histfunc\":\"sum\",\"name\":\"Good\",\"type\":\"histogram\",\"x\":[\"Original\",\"Retweet\",\"Reply\",\"Quote\"],\"y\":[0.19485895421006366,0.3825191124370688,0.31082549745611465,0.11179643589675288]},{\"histfunc\":\"sum\",\"name\":\"Human\",\"type\":\"histogram\",\"x\":[\"Original\",\"Retweet\",\"Reply\",\"Quote\"],\"y\":[0.11358192104850755,0.6333837587511554,0.13186300064284412,0.12117131955749297]},{\"histfunc\":\"sum\",\"name\":\"Bot\",\"type\":\"histogram\",\"x\":[\"Original\",\"Retweet\",\"Reply\",\"Quote\"],\"y\":[0.4249325446314288,0.526448938578995,0.02895755274250051,0.02071643008803764]},{\"histfunc\":\"sum\",\"name\":\"Suspended\",\"type\":\"histogram\",\"x\":[\"Original\",\"Retweet\",\"Reply\",\"Quote\"],\"y\":[0.2509378651524159,0.5754084582111888,0.09503700211147784,0.07861667452491748]}],                        {\"legend\":{\"title\":{\"text\":\"Legend\"}},\"template\":{\"data\":{\"bar\":[{\"error_x\":{\"color\":\"#2a3f5f\"},\"error_y\":{\"color\":\"#2a3f5f\"},\"marker\":{\"line\":{\"color\":\"#E5ECF6\",\"width\":0.5},\"pattern\":{\"fillmode\":\"overlay\",\"size\":10,\"solidity\":0.2}},\"type\":\"bar\"}],\"barpolar\":[{\"marker\":{\"line\":{\"color\":\"#E5ECF6\",\"width\":0.5},\"pattern\":{\"fillmode\":\"overlay\",\"size\":10,\"solidity\":0.2}},\"type\":\"barpolar\"}],\"carpet\":[{\"aaxis\":{\"endlinecolor\":\"#2a3f5f\",\"gridcolor\":\"white\",\"linecolor\":\"white\",\"minorgridcolor\":\"white\",\"startlinecolor\":\"#2a3f5f\"},\"baxis\":{\"endlinecolor\":\"#2a3f5f\",\"gridcolor\":\"white\",\"linecolor\":\"white\",\"minorgridcolor\":\"white\",\"startlinecolor\":\"#2a3f5f\"},\"type\":\"carpet\"}],\"choropleth\":[{\"colorbar\":{\"outlinewidth\":0,\"ticks\":\"\"},\"type\":\"choropleth\"}],\"contour\":[{\"colorbar\":{\"outlinewidth\":0,\"ticks\":\"\"},\"colorscale\":[[0.0,\"#0d0887\"],[0.1111111111111111,\"#46039f\"],[0.2222222222222222,\"#7201a8\"],[0.3333333333333333,\"#9c179e\"],[0.4444444444444444,\"#bd3786\"],[0.5555555555555556,\"#d8576b\"],[0.6666666666666666,\"#ed7953\"],[0.7777777777777778,\"#fb9f3a\"],[0.8888888888888888,\"#fdca26\"],[1.0,\"#f0f921\"]],\"type\":\"contour\"}],\"contourcarpet\":[{\"colorbar\":{\"outlinewidth\":0,\"ticks\":\"\"},\"type\":\"contourcarpet\"}],\"heatmap\":[{\"colorbar\":{\"outlinewidth\":0,\"ticks\":\"\"},\"colorscale\":[[0.0,\"#0d0887\"],[0.1111111111111111,\"#46039f\"],[0.2222222222222222,\"#7201a8\"],[0.3333333333333333,\"#9c179e\"],[0.4444444444444444,\"#bd3786\"],[0.5555555555555556,\"#d8576b\"],[0.6666666666666666,\"#ed7953\"],[0.7777777777777778,\"#fb9f3a\"],[0.8888888888888888,\"#fdca26\"],[1.0,\"#f0f921\"]],\"type\":\"heatmap\"}],\"heatmapgl\":[{\"colorbar\":{\"outlinewidth\":0,\"ticks\":\"\"},\"colorscale\":[[0.0,\"#0d0887\"],[0.1111111111111111,\"#46039f\"],[0.2222222222222222,\"#7201a8\"],[0.3333333333333333,\"#9c179e\"],[0.4444444444444444,\"#bd3786\"],[0.5555555555555556,\"#d8576b\"],[0.6666666666666666,\"#ed7953\"],[0.7777777777777778,\"#fb9f3a\"],[0.8888888888888888,\"#fdca26\"],[1.0,\"#f0f921\"]],\"type\":\"heatmapgl\"}],\"histogram\":[{\"marker\":{\"pattern\":{\"fillmode\":\"overlay\",\"size\":10,\"solidity\":0.2}},\"type\":\"histogram\"}],\"histogram2d\":[{\"colorbar\":{\"outlinewidth\":0,\"ticks\":\"\"},\"colorscale\":[[0.0,\"#0d0887\"],[0.1111111111111111,\"#46039f\"],[0.2222222222222222,\"#7201a8\"],[0.3333333333333333,\"#9c179e\"],[0.4444444444444444,\"#bd3786\"],[0.5555555555555556,\"#d8576b\"],[0.6666666666666666,\"#ed7953\"],[0.7777777777777778,\"#fb9f3a\"],[0.8888888888888888,\"#fdca26\"],[1.0,\"#f0f921\"]],\"type\":\"histogram2d\"}],\"histogram2dcontour\":[{\"colorbar\":{\"outlinewidth\":0,\"ticks\":\"\"},\"colorscale\":[[0.0,\"#0d0887\"],[0.1111111111111111,\"#46039f\"],[0.2222222222222222,\"#7201a8\"],[0.3333333333333333,\"#9c179e\"],[0.4444444444444444,\"#bd3786\"],[0.5555555555555556,\"#d8576b\"],[0.6666666666666666,\"#ed7953\"],[0.7777777777777778,\"#fb9f3a\"],[0.8888888888888888,\"#fdca26\"],[1.0,\"#f0f921\"]],\"type\":\"histogram2dcontour\"}],\"mesh3d\":[{\"colorbar\":{\"outlinewidth\":0,\"ticks\":\"\"},\"type\":\"mesh3d\"}],\"parcoords\":[{\"line\":{\"colorbar\":{\"outlinewidth\":0,\"ticks\":\"\"}},\"type\":\"parcoords\"}],\"pie\":[{\"automargin\":true,\"type\":\"pie\"}],\"scatter\":[{\"marker\":{\"colorbar\":{\"outlinewidth\":0,\"ticks\":\"\"}},\"type\":\"scatter\"}],\"scatter3d\":[{\"line\":{\"colorbar\":{\"outlinewidth\":0,\"ticks\":\"\"}},\"marker\":{\"colorbar\":{\"outlinewidth\":0,\"ticks\":\"\"}},\"type\":\"scatter3d\"}],\"scattercarpet\":[{\"marker\":{\"colorbar\":{\"outlinewidth\":0,\"ticks\":\"\"}},\"type\":\"scattercarpet\"}],\"scattergeo\":[{\"marker\":{\"colorbar\":{\"outlinewidth\":0,\"ticks\":\"\"}},\"type\":\"scattergeo\"}],\"scattergl\":[{\"marker\":{\"colorbar\":{\"outlinewidth\":0,\"ticks\":\"\"}},\"type\":\"scattergl\"}],\"scattermapbox\":[{\"marker\":{\"colorbar\":{\"outlinewidth\":0,\"ticks\":\"\"}},\"type\":\"scattermapbox\"}],\"scatterpolar\":[{\"marker\":{\"colorbar\":{\"outlinewidth\":0,\"ticks\":\"\"}},\"type\":\"scatterpolar\"}],\"scatterpolargl\":[{\"marker\":{\"colorbar\":{\"outlinewidth\":0,\"ticks\":\"\"}},\"type\":\"scatterpolargl\"}],\"scatterternary\":[{\"marker\":{\"colorbar\":{\"outlinewidth\":0,\"ticks\":\"\"}},\"type\":\"scatterternary\"}],\"surface\":[{\"colorbar\":{\"outlinewidth\":0,\"ticks\":\"\"},\"colorscale\":[[0.0,\"#0d0887\"],[0.1111111111111111,\"#46039f\"],[0.2222222222222222,\"#7201a8\"],[0.3333333333333333,\"#9c179e\"],[0.4444444444444444,\"#bd3786\"],[0.5555555555555556,\"#d8576b\"],[0.6666666666666666,\"#ed7953\"],[0.7777777777777778,\"#fb9f3a\"],[0.8888888888888888,\"#fdca26\"],[1.0,\"#f0f921\"]],\"type\":\"surface\"}],\"table\":[{\"cells\":{\"fill\":{\"color\":\"#EBF0F8\"},\"line\":{\"color\":\"white\"}},\"header\":{\"fill\":{\"color\":\"#C8D4E3\"},\"line\":{\"color\":\"white\"}},\"type\":\"table\"}]},\"layout\":{\"annotationdefaults\":{\"arrowcolor\":\"#2a3f5f\",\"arrowhead\":0,\"arrowwidth\":1},\"autotypenumbers\":\"strict\",\"coloraxis\":{\"colorbar\":{\"outlinewidth\":0,\"ticks\":\"\"}},\"colorscale\":{\"diverging\":[[0,\"#8e0152\"],[0.1,\"#c51b7d\"],[0.2,\"#de77ae\"],[0.3,\"#f1b6da\"],[0.4,\"#fde0ef\"],[0.5,\"#f7f7f7\"],[0.6,\"#e6f5d0\"],[0.7,\"#b8e186\"],[0.8,\"#7fbc41\"],[0.9,\"#4d9221\"],[1,\"#276419\"]],\"sequential\":[[0.0,\"#0d0887\"],[0.1111111111111111,\"#46039f\"],[0.2222222222222222,\"#7201a8\"],[0.3333333333333333,\"#9c179e\"],[0.4444444444444444,\"#bd3786\"],[0.5555555555555556,\"#d8576b\"],[0.6666666666666666,\"#ed7953\"],[0.7777777777777778,\"#fb9f3a\"],[0.8888888888888888,\"#fdca26\"],[1.0,\"#f0f921\"]],\"sequentialminus\":[[0.0,\"#0d0887\"],[0.1111111111111111,\"#46039f\"],[0.2222222222222222,\"#7201a8\"],[0.3333333333333333,\"#9c179e\"],[0.4444444444444444,\"#bd3786\"],[0.5555555555555556,\"#d8576b\"],[0.6666666666666666,\"#ed7953\"],[0.7777777777777778,\"#fb9f3a\"],[0.8888888888888888,\"#fdca26\"],[1.0,\"#f0f921\"]]},\"colorway\":[\"#636efa\",\"#EF553B\",\"#00cc96\",\"#ab63fa\",\"#FFA15A\",\"#19d3f3\",\"#FF6692\",\"#B6E880\",\"#FF97FF\",\"#FECB52\"],\"font\":{\"color\":\"#2a3f5f\"},\"geo\":{\"bgcolor\":\"white\",\"lakecolor\":\"white\",\"landcolor\":\"#E5ECF6\",\"showlakes\":true,\"showland\":true,\"subunitcolor\":\"white\"},\"hoverlabel\":{\"align\":\"left\"},\"hovermode\":\"closest\",\"mapbox\":{\"style\":\"light\"},\"paper_bgcolor\":\"white\",\"plot_bgcolor\":\"#E5ECF6\",\"polar\":{\"angularaxis\":{\"gridcolor\":\"white\",\"linecolor\":\"white\",\"ticks\":\"\"},\"bgcolor\":\"#E5ECF6\",\"radialaxis\":{\"gridcolor\":\"white\",\"linecolor\":\"white\",\"ticks\":\"\"}},\"scene\":{\"xaxis\":{\"backgroundcolor\":\"#E5ECF6\",\"gridcolor\":\"white\",\"gridwidth\":2,\"linecolor\":\"white\",\"showbackground\":true,\"ticks\":\"\",\"zerolinecolor\":\"white\"},\"yaxis\":{\"backgroundcolor\":\"#E5ECF6\",\"gridcolor\":\"white\",\"gridwidth\":2,\"linecolor\":\"white\",\"showbackground\":true,\"ticks\":\"\",\"zerolinecolor\":\"white\"},\"zaxis\":{\"backgroundcolor\":\"#E5ECF6\",\"gridcolor\":\"white\",\"gridwidth\":2,\"linecolor\":\"white\",\"showbackground\":true,\"ticks\":\"\",\"zerolinecolor\":\"white\"}},\"shapedefaults\":{\"line\":{\"color\":\"#2a3f5f\"}},\"ternary\":{\"aaxis\":{\"gridcolor\":\"white\",\"linecolor\":\"white\",\"ticks\":\"\"},\"baxis\":{\"gridcolor\":\"white\",\"linecolor\":\"white\",\"ticks\":\"\"},\"bgcolor\":\"#E5ECF6\",\"caxis\":{\"gridcolor\":\"white\",\"linecolor\":\"white\",\"ticks\":\"\"}},\"title\":{\"x\":0.05},\"xaxis\":{\"automargin\":true,\"gridcolor\":\"white\",\"linecolor\":\"white\",\"ticks\":\"\",\"title\":{\"standoff\":15},\"zerolinecolor\":\"white\",\"zerolinewidth\":2},\"yaxis\":{\"automargin\":true,\"gridcolor\":\"white\",\"linecolor\":\"white\",\"ticks\":\"\",\"title\":{\"standoff\":15},\"zerolinecolor\":\"white\",\"zerolinewidth\":2}}},\"title\":{\"text\":\"Differences between Users activity\"},\"xaxis\":{\"title\":{\"text\":\"Kind of activity\"}},\"yaxis\":{\"title\":{\"text\":\"Percentage of activity\"}}},                        {\"responsive\": true}                    ).then(function(){\n",
       "                            \n",
       "var gd = document.getElementById('83de4aed-7411-4bdc-928f-a2a78f443a96');\n",
       "var x = new MutationObserver(function (mutations, observer) {{\n",
       "        var display = window.getComputedStyle(gd).display;\n",
       "        if (!display || display === 'none') {{\n",
       "            console.log([gd, 'removed!']);\n",
       "            Plotly.purge(gd);\n",
       "            observer.disconnect();\n",
       "        }}\n",
       "}});\n",
       "\n",
       "// Listen for the removal of the full notebook cells\n",
       "var notebookContainer = gd.closest('#notebook-container');\n",
       "if (notebookContainer) {{\n",
       "    x.observe(notebookContainer, {childList: true});\n",
       "}}\n",
       "\n",
       "// Listen for the clearing of the current output cell\n",
       "var outputEl = gd.closest('.output');\n",
       "if (outputEl) {{\n",
       "    x.observe(outputEl, {childList: true});\n",
       "}}\n",
       "\n",
       "                        })                };                });            </script>        </div>"
      ]
     },
     "metadata": {},
     "output_type": "display_data"
    }
   ],
   "source": [
    "labels = [\"Original\", \"Retweet\", \"Reply\", \"Quote\"]\n",
    "\n",
    "fig = go.Figure()\n",
    "fig.add_trace(go.Histogram(histfunc=\"sum\", y=bad_values, x=labels, name=\"Bad\"))\n",
    "fig.add_trace(go.Histogram(histfunc=\"sum\", y=good_values, x=labels, name=\"Good\"))\n",
    "fig.add_trace(go.Histogram(histfunc=\"sum\", y=human_values, x=labels, name=\"Human\"))\n",
    "fig.add_trace(go.Histogram(histfunc=\"sum\", y=bot_values, x=labels, name=\"Bot\"))\n",
    "fig.add_trace(go.Histogram(histfunc=\"sum\", y=susp_values, x=labels, name=\"Suspended\"))\n",
    "\n",
    "fig.update_layout(\n",
    "    title=\"Differences between Users activity\",\n",
    "    xaxis_title=\"Kind of activity\",\n",
    "    yaxis_title=\"Percentage of activity\",\n",
    "    legend_title=\"Legend\")\n",
    "fig.show()"
   ]
  },
  {
   "cell_type": "code",
   "execution_count": 2,
   "metadata": {},
   "outputs": [],
   "source": [
    "files_tweets = glob.glob(\"F:/Supsi/COVID-19-Tweets/*/tweets.csv\")\n",
    "files_users = glob.glob(\"F:/Supsi/COVID-19-Tweets/*/users.csv\")"
   ]
  },
  {
   "cell_type": "code",
   "execution_count": 32,
   "metadata": {},
   "outputs": [
    {
     "name": "stdout",
     "output_type": "stream",
     "text": [
      "<class 'pandas.core.frame.DataFrame'>\n",
      "RangeIndex: 69000 entries, 0 to 68999\n",
      "Data columns (total 49 columns):\n",
      " #   Column                     Non-Null Count  Dtype  \n",
      "---  ------                     --------------  -----  \n",
      " 0   id                         69000 non-null  int64  \n",
      " 1   id_str                     68921 non-null  float64\n",
      " 2   created_at                 68921 non-null  object \n",
      " 3   user_id                    68921 non-null  float64\n",
      " 4   user_screen_name           68921 non-null  object \n",
      " 5   user_verified              68921 non-null  object \n",
      " 6   user_created_at            68921 non-null  object \n",
      " 7   text                       68921 non-null  object \n",
      " 8   source                     68921 non-null  object \n",
      " 9   coordinates                35 non-null     object \n",
      " 10  is_quote_status            68921 non-null  object \n",
      " 11  retweet_count              68921 non-null  float64\n",
      " 12  favorite_count             68921 non-null  float64\n",
      " 13  favorited                  68921 non-null  object \n",
      " 14  retweeted                  68921 non-null  object \n",
      " 15  lang                       68921 non-null  object \n",
      " 16  in_reply_to_status_id      4249 non-null   float64\n",
      " 17  in_reply_to_status_id_str  4249 non-null   float64\n",
      " 18  in_reply_to_user_id        4729 non-null   float64\n",
      " 19  in_reply_to_user_id_str    4729 non-null   float64\n",
      " 20  in_reply_to_screen_name    4723 non-null   object \n",
      " 21  rt_coordinates             8 non-null      object \n",
      " 22  rt_created_at              50215 non-null  object \n",
      " 23  rt_in_reply_to_status_id   2515 non-null   float64\n",
      " 24  rt_in_reply_to_user_id     2682 non-null   float64\n",
      " 25  rt_lang                    50215 non-null  object \n",
      " 26  rt_favourite_count         50215 non-null  float64\n",
      " 27  rt_id                      50215 non-null  float64\n",
      " 28  rt_user_id                 50215 non-null  float64\n",
      " 29  rt_user_screen_name        50215 non-null  object \n",
      " 30  rt_user_created_at         50215 non-null  object \n",
      " 31  rt_user_verified           50215 non-null  object \n",
      " 32  rt_user_followers_count    50215 non-null  float64\n",
      " 33  rt_user_friends_count      50215 non-null  float64\n",
      " 34  rt_user_favourites_count   50215 non-null  float64\n",
      " 35  quoted_status_id           14509 non-null  float64\n",
      " 36  quoted_status_text         4295 non-null   object \n",
      " 37  quoted_status_created_at   4295 non-null   object \n",
      " 38  quoted_user_id             4295 non-null   float64\n",
      " 39  quoted_user_created_at     4295 non-null   object \n",
      " 40  hashtags                   68921 non-null  object \n",
      " 41  symbols                    68921 non-null  object \n",
      " 42  user_mentions              68921 non-null  object \n",
      " 43  urls                       68921 non-null  object \n",
      " 44  polls                      68921 non-null  object \n",
      " 45  media                      68921 non-null  object \n",
      " 46  user_tweets_count          23921 non-null  float64\n",
      " 47  user_friends_count         23921 non-null  float64\n",
      " 48  user_followers_count       23921 non-null  float64\n",
      "dtypes: float64(21), int64(1), object(27)\n",
      "memory usage: 25.8+ MB\n"
     ]
    }
   ],
   "source": [
    "x.info()"
   ]
  },
  {
   "cell_type": "markdown",
   "metadata": {},
   "source": [
    "## Manage data"
   ]
  },
  {
   "cell_type": "markdown",
   "metadata": {},
   "source": [
    "## Get info"
   ]
  },
  {
   "cell_type": "code",
   "execution_count": 3,
   "metadata": {},
   "outputs": [],
   "source": [
    "\n",
    "cols_tweets = ['user_screen_name', \"rt_user_screen_name\", \"rt_created_at\"]\n",
    "#     u'user_screen_name', \n",
    "#         u'rt_user_screen_name', u'rt_user_id', \n",
    "#         u'in_reply_to_screen_name', u'in_reply_to_user_id',\n",
    "#         u'rt_created_at', u'in_reply_to_status_id'] \n",
    "\n",
    "cols_users = [u'id'] "
   ]
  },
  {
   "cell_type": "code",
   "execution_count": null,
   "metadata": {},
   "outputs": [],
   "source": [
    "def write_file(filename, serie_id, serie_user):\n",
    "    filename = filename + \".csv\"\n",
    "    with open(filename, 'w', newline='') as file:\n",
    "        writer = csv.writer(file)\n",
    "        writer.writerow([\"id\", \"screen_name\"])\n",
    "        for i in range(len(serie_id)):\n",
    "            writer.writerow([serie_id.keys()[i], serie_user.keys()[i]])"
   ]
  },
  {
   "cell_type": "code",
   "execution_count": null,
   "metadata": {},
   "outputs": [],
   "source": [
    "def list_series(list_id, flag):\n",
    "    if(flag == True):\n",
    "        for i in range(len(list_id)):\n",
    "                list_id[i] = str(int(list_id[i]))\n",
    "    list_id = pd.Series(list_id).value_counts().sort_values(ascending=False)[:int(2e4)]\n",
    "    return list_id"
   ]
  },
  {
   "cell_type": "code",
   "execution_count": null,
   "metadata": {},
   "outputs": [],
   "source": [
    "# def id_user(user, u_id=u_id):\n",
    "#     for i in range(len(u_id)):\n",
    "#         if(user == u_id[i][1]):\n",
    "#             return u_id[i][0]\n",
    "#     return -1"
   ]
  },
  {
   "cell_type": "code",
   "execution_count": null,
   "metadata": {},
   "outputs": [],
   "source": [
    "# def check_verified(user, u_id=u_id):\n",
    "#     for i in range(len(u_id)):\n",
    "#         if(user == u_id[i][1]):\n",
    "#             if(u_id[i][2] == True):\n",
    "#                 return True\n",
    "#     return False"
   ]
  },
  {
   "cell_type": "code",
   "execution_count": 4,
   "metadata": {},
   "outputs": [],
   "source": [
    "# result = []\n",
    "# importlib.reload(tweets_utils)\n",
    "# start_time = time.perf_counter()\n",
    "# j = 0\n",
    "# df = pd.DataFrame()\n",
    "# for filename in files_users:\n",
    "#     print(f\"Reading file: {filename}\")\n",
    "#     result.extend(tweets_utils.process_all_data(filename, cols_users, False))\n",
    "#     lista = result[j]\n",
    "#     j = j + 1\n",
    "#     print(f\"Mese numero {j}\")\n",
    "#     for i in range(len(lista)):\n",
    "#         df = df.append(lista[i][\"df\"])\n",
    "#         df = df.drop_duplicates(subset=[\"id\"])\n",
    "# stop_time = time.perf_counter()\n",
    "# print(\"Time: \",stop_time-start_time)"
   ]
  },
  {
   "cell_type": "code",
   "execution_count": 14,
   "metadata": {},
   "outputs": [],
   "source": [
    "good = pd.read_csv(\"C:/Users/gianl/Desktop/Gi/Supsi/BachelorProject/csv/all_good_users.csv\",\n",
    "                  lineterminator=\"\\n\")\n",
    "lst = list(good[\"screen_name\"])"
   ]
  },
  {
   "cell_type": "code",
   "execution_count": 15,
   "metadata": {
    "scrolled": false
   },
   "outputs": [
    {
     "name": "stdout",
     "output_type": "stream",
     "text": [
      "Reading file: F:/Supsi/COVID-19-Tweets\\2020-01\\tweets.csv\n",
      "Processing chunk 1\n",
      "Processing chunk 2\n",
      "Processing chunk 3\n",
      "Processing chunk 4\n",
      "Processing chunk 5\n",
      "Mese numero 1\n",
      "24393\n",
      "Reading file: F:/Supsi/COVID-19-Tweets\\2020-02\\tweets.csv\n",
      "Processing chunk 1\n",
      "Processing chunk 2\n",
      "Processing chunk 3\n",
      "Processing chunk 4\n",
      "Processing chunk 5\n",
      "Processing chunk 6\n",
      "Processing chunk 7\n",
      "Processing chunk 8\n",
      "Processing chunk 9\n",
      "Processing chunk 10\n",
      "Processing chunk 11\n",
      "Processing chunk 12\n",
      "Mese numero 2\n",
      "90145\n",
      "Reading file: F:/Supsi/COVID-19-Tweets\\2020-03\\tweets.csv\n",
      "Processing chunk 1\n",
      "Processing chunk 2\n",
      "Processing chunk 3\n",
      "Processing chunk 4\n",
      "Processing chunk 5\n",
      "Processing chunk 6\n",
      "Processing chunk 7\n",
      "Processing chunk 8\n",
      "Processing chunk 9\n",
      "Processing chunk 10\n",
      "Processing chunk 11\n",
      "Processing chunk 12\n",
      "Processing chunk 13\n",
      "Processing chunk 14\n",
      "Processing chunk 15\n",
      "Mese numero 3\n",
      "198041\n",
      "Reading file: F:/Supsi/COVID-19-Tweets\\2020-04\\tweets.csv\n",
      "Processing chunk 1\n",
      "Processing chunk 2\n",
      "Processing chunk 3\n",
      "Processing chunk 4\n",
      "Processing chunk 5\n",
      "Processing chunk 6\n",
      "Processing chunk 7\n",
      "Processing chunk 8\n",
      "Processing chunk 9\n",
      "Processing chunk 10\n",
      "Processing chunk 11\n",
      "Processing chunk 12\n",
      "Processing chunk 13\n",
      "Mese numero 4\n",
      "252141\n",
      "Reading file: F:/Supsi/COVID-19-Tweets\\2020-05\\tweets.csv\n",
      "Processing chunk 1\n",
      "Processing chunk 2\n",
      "Processing chunk 3\n",
      "Processing chunk 4\n",
      "Processing chunk 5\n",
      "Processing chunk 6\n",
      "Processing chunk 7\n",
      "Processing chunk 8\n",
      "Processing chunk 9\n",
      "Processing chunk 10\n",
      "Processing chunk 11\n",
      "Processing chunk 12\n",
      "Processing chunk 13\n",
      "Processing chunk 14\n",
      "Processing chunk 15\n",
      "Processing chunk 16\n",
      "Processing chunk 17\n",
      "Processing chunk 18\n",
      "Processing chunk 19\n",
      "Processing chunk 20\n",
      "Processing chunk 21\n",
      "Processing chunk 22\n",
      "Processing chunk 23\n",
      "Processing chunk 24\n",
      "Mese numero 5\n",
      "400495\n",
      "Time:  1813.699485\n"
     ]
    }
   ],
   "source": [
    "result = []\n",
    "importlib.reload(tweets_utils)\n",
    "start_time = time.perf_counter()\n",
    "j = 0\n",
    "users = []\n",
    "for filename in files_tweets:\n",
    "    print(f\"Reading file: {filename}\")\n",
    "    result.extend(tweets_utils.process_all_data(filename, cols_tweets, True, lst))\n",
    "    lista = result[j]\n",
    "    j = j + 1\n",
    "    print(f\"Mese numero {j}\")\n",
    "    for i in range(len(lista)):\n",
    "        users.extend(lista[i][\"user\"])\n",
    "    print(len(users))\n",
    "#         users = list(set(users))\n",
    "stop_time = time.perf_counter()\n",
    "print(\"Time: \",stop_time-start_time)"
   ]
  },
  {
   "cell_type": "code",
   "execution_count": 21,
   "metadata": {},
   "outputs": [],
   "source": [
    "pd.DataFrame(users, columns=[\"screen_name\"]).to_csv(\"C:/Users/gianl/Desktop/Gi/rt_good.csv\", line_terminator=\"\\n\", encoding=\"utf-8\", index=False)"
   ]
  },
  {
   "cell_type": "markdown",
   "metadata": {},
   "source": [
    "### Process distribution"
   ]
  },
  {
   "cell_type": "code",
   "execution_count": 8,
   "metadata": {
    "scrolled": true
   },
   "outputs": [
    {
     "name": "stdout",
     "output_type": "stream",
     "text": [
      "process users_retweet\n",
      "process users_retweeted\n",
      "process users_original\n",
      "process users_reply\n",
      "process users_replied\n"
     ]
    }
   ],
   "source": [
    "print(\"process users_retweet\")\n",
    "users_retweet = pd.Series(users_retweet).value_counts().sort_values(ascending=False)[:int(2e4)]\n",
    "print(\"process users_retweeted\")\n",
    "users_retweeted = pd.Series(users_retweeted).value_counts().sort_values(ascending=False)[:int(2e4)]\n",
    "print(\"process users_original\")\n",
    "users_original = pd.Series(users_original).value_counts().sort_values(ascending=False)[:int(2e4)]\n",
    "print(\"process users_reply\")\n",
    "users_reply = pd.Series(users_reply).value_counts().sort_values(ascending=False)[:int(2e4)]\n",
    "print(\"process users_replied\")\n",
    "users_replied = pd.Series(users_replied).value_counts().sort_values(ascending=False)[:int(2e4)]\n"
   ]
  },
  {
   "cell_type": "code",
   "execution_count": 31,
   "metadata": {},
   "outputs": [],
   "source": [
    "lists = [users_retweet, users_retweeted, users_original, users_reply, users_replied]\n",
    "str_lists = [\"users_retweet\", \"users_retweeted\", \"users_original\", \"users_reply\", \"users_replied\"]"
   ]
  },
  {
   "cell_type": "code",
   "execution_count": 33,
   "metadata": {},
   "outputs": [],
   "source": [
    "for i in range(len(lists)):\n",
    "    names = list(lists[i].keys())\n",
    "    count = list(lists[i])\n",
    "    frame = { 'Name': names, 'Count': count}\n",
    "    df = pd.DataFrame(frame)\n",
    "    path = glob.glob(\"C:/Users/Gianluca/Desktop/Supsi/Git/BachelorProject/large_files/2k_tweets _count/\")\n",
    "    df.to_csv(path[0] + str_lists[i] + \".csv\", index=False)"
   ]
  },
  {
   "cell_type": "code",
   "execution_count": 61,
   "metadata": {},
   "outputs": [],
   "source": [
    "def visualize_distribution(df, string):\n",
    "    index = [10, 25, 50, 75, 90]\n",
    "    perc_numpy = [np.percentile(df[\"Count\"], i, interpolation='nearest') for i in index]\n",
    "    print(perc_numpy)\n",
    "    fig = px.histogram(df[\"Count\"], title=f\"Distribution of {string} tweets\")\n",
    "    fig.show()  "
   ]
  },
  {
   "cell_type": "code",
   "execution_count": 62,
   "metadata": {},
   "outputs": [],
   "source": [
    "def print_all_distributions():\n",
    "    df = pd.read_csv(path[0] + \"users_original.csv\")\n",
    "    visualize_distribution(df, \"original\")\n",
    "    print(\"--------------------------------------------------------------------------------------\")\n",
    "    df = pd.read_csv(path[0] + \"users_reply.csv\")\n",
    "    visualize_distribution(df, \"reply\")\n",
    "    print(\"--------------------------------------------------------------------------------------\")\n",
    "    df = pd.read_csv(path[0] + \"users_replied.csv\")\n",
    "    visualize_distribution(df, \"replied\")\n",
    "    print(\"--------------------------------------------------------------------------------------\")\n",
    "    df = pd.read_csv(path[0] + \"users_retweet.csv\")\n",
    "    visualize_distribution(df, \"retweet\")\n",
    "    print(\"--------------------------------------------------------------------------------------\")\n",
    "    df = pd.read_csv(path[0] + \"users_retweeted.csv\")\n",
    "    visualize_distribution(df, \"retweeted\")"
   ]
  },
  {
   "cell_type": "code",
   "execution_count": 64,
   "metadata": {
    "scrolled": false
   },
   "outputs": [],
   "source": [
    "print_all_distributions()"
   ]
  },
  {
   "cell_type": "markdown",
   "metadata": {},
   "source": [
    "## Writing files"
   ]
  },
  {
   "cell_type": "code",
   "execution_count": null,
   "metadata": {},
   "outputs": [],
   "source": [
    "ids_retweeted = list_series(ids_retweeted, True)\n",
    "users_retweeted = list_series(users_retweeted, False)\n",
    "write_file(\"prova_retweeted\", ids_retweeted, users_retweeted)\n",
    "del ids_retweeted\n",
    "del users_retweeted"
   ]
  },
  {
   "cell_type": "code",
   "execution_count": null,
   "metadata": {},
   "outputs": [],
   "source": [
    "ids_retweet = list_series(ids_retweet, True)\n",
    "users_retweet = list_series(users_retweet, False)\n",
    "write_file(\"prova_retweet\", ids_retweet, users_retweet)\n",
    "del ids_retweet\n",
    "del users_retweet"
   ]
  },
  {
   "cell_type": "code",
   "execution_count": null,
   "metadata": {},
   "outputs": [],
   "source": [
    "hasnan = lambda array: any(filter(math.isnan, ids_original))"
   ]
  },
  {
   "cell_type": "code",
   "execution_count": null,
   "metadata": {},
   "outputs": [],
   "source": [
    "hasnan4(ids_original)"
   ]
  },
  {
   "cell_type": "code",
   "execution_count": null,
   "metadata": {},
   "outputs": [],
   "source": [
    "index = []\n",
    "for i in range(len(ids_original)):\n",
    "    if(math.isnan(ids_original[i])):\n",
    "        index.append(i)\n",
    "del ids_original[index[0]:index[-1]]\n",
    "del users_original[index[0]:index[-1]]"
   ]
  },
  {
   "cell_type": "code",
   "execution_count": null,
   "metadata": {},
   "outputs": [],
   "source": [
    "index = 0\n",
    "for i in range(len(ids_original)):\n",
    "    if(math.isnan(ids_original[i])):\n",
    "        index = i"
   ]
  },
  {
   "cell_type": "code",
   "execution_count": null,
   "metadata": {},
   "outputs": [],
   "source": [
    "del ids_original[index]\n",
    "del users_original[index]"
   ]
  },
  {
   "cell_type": "code",
   "execution_count": null,
   "metadata": {},
   "outputs": [],
   "source": [
    "hasnan4(ids_original)"
   ]
  },
  {
   "cell_type": "code",
   "execution_count": null,
   "metadata": {
    "scrolled": true
   },
   "outputs": [],
   "source": [
    "ids_original = list_series(ids_original, True)\n",
    "users_original = list_series(users_original, False)\n",
    "write_file(\"prova_original\", ids_original, users_original)\n",
    "del ids_original\n",
    "del users_original"
   ]
  },
  {
   "cell_type": "code",
   "execution_count": null,
   "metadata": {},
   "outputs": [],
   "source": [
    "ids_replied = list_series(ids_replied, True)\n",
    "users_replied = list_series(users_replied, False)\n",
    "write_file(\"prova_replied\", ids_replied, users_replied)\n",
    "del ids_replied\n",
    "del users_replied"
   ]
  },
  {
   "cell_type": "code",
   "execution_count": null,
   "metadata": {},
   "outputs": [],
   "source": [
    "ids_reply = list_series(ids_reply, True)\n",
    "users_reply = list_series(users_reply, False)\n",
    "write_file(\"prova_reply\", ids_reply, users_reply)\n",
    "del ids_reply\n",
    "del users_reply"
   ]
  },
  {
   "cell_type": "markdown",
   "metadata": {},
   "source": [
    "## Stats"
   ]
  },
  {
   "cell_type": "code",
   "execution_count": 8,
   "metadata": {},
   "outputs": [
    {
     "name": "stdout",
     "output_type": "stream",
     "text": [
      "Number of total tweets: 66412411\n",
      "Number of original tweets: 13999715\n",
      "Number of retweet: 48312504\n",
      "Number of reply: 4100192\n",
      "Number of original_tweets: 21.08% of total tweets\n",
      "Number of retweets: 72.75% of total tweets\n",
      "Number of replies: 6.17% of total tweets\n",
      "Check sum == len(tweets):  True\n"
     ]
    }
   ],
   "source": [
    "print(f'Number of total tweets: {total_tweets}')\n",
    "print(f'Number of original tweets: {original_n}')\n",
    "print(f'Number of retweet: {retweet_n}')\n",
    "print(f'Number of reply: {reply_n}')\n",
    "\n",
    "perc_original = np.around(original_n*100/total_tweets,2)\n",
    "perc_retweet = np.around(retweet_n*100/total_tweets,2)\n",
    "perc_reply = np.around(reply_n*100/total_tweets,2)\n",
    "print(f'Number of original_tweets: {perc_original}% of total tweets')\n",
    "print(f'Number of retweets: {perc_retweet}% of total tweets')\n",
    "print(f'Number of replies: {perc_reply}% of total tweets')\n",
    "\n",
    "print('Check sum == len(tweets): ',original_n + retweet_n + reply_n == total_tweets)"
   ]
  },
  {
   "cell_type": "code",
   "execution_count": 9,
   "metadata": {},
   "outputs": [
    {
     "data": {
      "image/png": "[encoded data removed]",
      "text/plain": [
       "<Figure size 720x360 with 1 Axes>"
      ]
     },
     "metadata": {
      "needs_background": "light"
     },
     "output_type": "display_data"
    }
   ],
   "source": [
    "fig = plt.figure(figsize=(10, 5))\n",
    "ax = fig.add_subplot(111)\n",
    "ax.bar(np.arange(3), np.asarray([original_n, retweet_n, reply_n])*(100/total_tweets))\n",
    "ax.set_xticks(np.arange(3))\n",
    "ax.set_xticklabels(['tweets', 'retweets', 'replies'])\n",
    "ax.set_ylabel('%')\n",
    "ax.yaxis.grid(True)\n",
    "ax.set_ylim([0,100])\n",
    "ax.set_title('Distribution of Tweets')\n",
    "#plt.savefig('files/plots/tweets_division')\n",
    "plt.show()"
   ]
  },
  {
   "cell_type": "code",
   "execution_count": 11,
   "metadata": {},
   "outputs": [
    {
     "data": {
      "image/png": "[encoded data removed]",
      "text/plain": [
       "<Figure size 720x504 with 1 Axes>"
      ]
     },
     "metadata": {},
     "output_type": "display_data"
    }
   ],
   "source": [
    "original = \"Original Tweets\"\n",
    "retweet = \"Retweets\"\n",
    "reply = \"Replies\"\n",
    "label = [original, retweet, reply]\n",
    "data = [original_n, retweet_n, reply_n]\n",
    "explode = (0.1, 0.1, 0.1)\n",
    "  \n",
    "# Creating color parameters\n",
    "colors = ( \"lightgreen\", \"orange\", \"cyan\")\n",
    "  \n",
    "# Wedge properties\n",
    "wp = { 'linewidth' : 1, 'edgecolor' : \"black\" }\n",
    "          \n",
    "# Creating autocpt arguments\n",
    "def func(pct, allvalues):\n",
    "    absolute = int(pct / 100.*np.sum(allvalues))\n",
    "    return \"{:.1f}%\\n({:d})\".format(pct, absolute)\n",
    "  \n",
    "# Creating plot\n",
    "fig, ax = plt.subplots(figsize =(10, 7))\n",
    "wedges, texts, autotexts = ax.pie(data, \n",
    "                                  autopct = lambda pct: func(pct, data),\n",
    "                                  explode = explode, \n",
    "                                  labels = label,\n",
    "                                  shadow = True,\n",
    "                                  colors = colors,\n",
    "                                  startangle = 90,\n",
    "                                  wedgeprops = wp)\n",
    "  \n",
    "# Adding legend\n",
    "ax.legend(wedges, label,\n",
    "          title =\"Legend\",\n",
    "          loc =\"center left\",\n",
    "          bbox_to_anchor =(1, 0, 0.5, 1))\n",
    "  \n",
    "plt.setp(autotexts, size = 8, weight =\"bold\")\n",
    "ax.set_title(\"Global profile tweets\")\n",
    "plt.show()"
   ]
  },
  {
   "cell_type": "markdown",
   "metadata": {},
   "source": [
    "## Top 30 - Original tweets"
   ]
  },
  {
   "cell_type": "code",
   "execution_count": 10,
   "metadata": {
    "scrolled": false
   },
   "outputs": [
    {
     "data": {
      "image/png": "[encoded data removed]",
      "text/plain": [
       "<Figure size 1008x576 with 1 Axes>"
      ]
     },
     "metadata": {
      "needs_background": "light"
     },
     "output_type": "display_data"
    }
   ],
   "source": [
    "# val = pd.Series(users_original)\n",
    "# val = val.value_counts().sort_values(ascending=False)\n",
    "fig = plt.figure(figsize=(14, 8))\n",
    "ax = val[:10].plot(kind='barh', color='lightseagreen', fig=(14,14)) #orange #lightseagreen\n",
    "ax.set_title('Number of ORIGINAL tweets per user screen name (top 10)', fontsize=15)\n",
    "ax.invert_yaxis()\n",
    "plt.show()"
   ]
  },
  {
   "cell_type": "markdown",
   "metadata": {},
   "source": [
    "## Top 30 - Retweets"
   ]
  },
  {
   "cell_type": "code",
   "execution_count": null,
   "metadata": {
    "scrolled": false
   },
   "outputs": [],
   "source": [
    "val = pd.Series(users_retweet)\n",
    "val = val.value_counts().sort_values(ascending=False)\n",
    "fig = plt.figure(figsize=(14, 8))\n",
    "ax = val[:30].plot(kind='barh', color='steelblue', fig=(14,14))\n",
    "ax.set_title('Number of RETWEETS per user screen name (top 30)', fontsize=15)\n",
    "ax.invert_yaxis()\n",
    "plt.show()"
   ]
  },
  {
   "cell_type": "markdown",
   "metadata": {},
   "source": [
    "## Top 30 - Retweeted"
   ]
  },
  {
   "cell_type": "code",
   "execution_count": null,
   "metadata": {
    "scrolled": false
   },
   "outputs": [],
   "source": [
    "val = pd.Series(users_retweeted)\n",
    "val = val.value_counts().sort_values(ascending=False)\n",
    "fig = plt.figure(figsize=(14, 8))\n",
    "ax = val[:30].plot(kind='barh', color='steelblue', fig=(14,14)) #green #steelblue\n",
    "ax.set_title('Top 30 RETWEETED USERS', fontsize=15)\n",
    "ax.invert_yaxis()\n",
    "plt.show()"
   ]
  },
  {
   "cell_type": "markdown",
   "metadata": {},
   "source": [
    "## Top 30 - Replied"
   ]
  },
  {
   "cell_type": "code",
   "execution_count": null,
   "metadata": {},
   "outputs": [],
   "source": [
    "val = pd.Series(users_replied)\n",
    "val = val.value_counts().sort_values(ascending=False)\n",
    "fig = plt.figure(figsize=(14, 8))\n",
    "ax = val[:30].plot(kind='barh', color='darkturquoise', fig=(14,14)) #red #darkturquoise\n",
    "ax.set_title('Top 30 USERS RECEIVING A REPLY', fontsize=15)\n",
    "ax.invert_yaxis()\n",
    "plt.show()"
   ]
  },
  {
   "cell_type": "markdown",
   "metadata": {},
   "source": [
    "## Top 30 - Responsive"
   ]
  },
  {
   "cell_type": "code",
   "execution_count": null,
   "metadata": {},
   "outputs": [],
   "source": [
    "val = pd.Series(users_reply)\n",
    "val = val.value_counts().sort_values(ascending=False)\n",
    "fig = plt.figure(figsize=(14, 8))\n",
    "ax = val[:30].plot(kind='barh', color='darkturquoise', fig=(14,14))  #red #darkturquoise\n",
    "ax.set_title('Number of REPLIES per user screen name (top 30)', fontsize=15)\n",
    "ax.invert_yaxis()\n",
    "plt.show()"
   ]
  },
  {
   "cell_type": "markdown",
   "metadata": {
    "scrolled": false
   },
   "source": [
    "## Daily Tweets"
   ]
  },
  {
   "cell_type": "code",
   "execution_count": null,
   "metadata": {},
   "outputs": [],
   "source": [
    "val = pd.Series(dates)\n",
    "val = val.value_counts(sort=True) \n",
    "fig = plt.figure(figsize=(14, 8))\n",
    "ax = val[:25].plot(kind='bar', color='green', fig=(14,14))\n",
    "ax.set_title('Number of TWEETS per day', fontsize=15)\n",
    "# ax.invert_yaxis()\n",
    "ax.set_xticklabels(val.index.format(), rotation='vertical')\n",
    "plt.show()"
   ]
  },
  {
   "cell_type": "code",
   "execution_count": 5,
   "metadata": {
    "scrolled": false
   },
   "outputs": [
    {
     "data": {
      "application/vnd.plotly.v1+json": {
       "config": {
        "plotlyServerURL": "https://plot.ly"
       },
       "data": [
        {
         "histfunc": "sum",
         "name": "Disinform Dozen",
         "type": "histogram",
         "x": [
          "Original",
          "Retweet",
          "Reply"
         ],
         "y": [
          0.7936979518343462,
          0.13198289444069322,
          0.07431915372496062
         ]
        },
        {
         "histfunc": "sum",
         "name": "Global",
         "type": "histogram",
         "x": [
          "Original",
          "Retweet",
          "Reply"
         ],
         "y": [
          0.2107996801983292,
          0.727461979960342,
          0.06173833984132875
         ]
        }
       ],
       "layout": {
        "legend": {
         "title": {
          "text": "Legend"
         }
        },
        "template": {
         "data": {
          "bar": [
           {
            "error_x": {
             "color": "#2a3f5f"
            },
            "error_y": {
             "color": "#2a3f5f"
            },
            "marker": {
             "line": {
              "color": "#E5ECF6",
              "width": 0.5
             }
            },
            "type": "bar"
           }
          ],
          "barpolar": [
           {
            "marker": {
             "line": {
              "color": "#E5ECF6",
              "width": 0.5
             }
            },
            "type": "barpolar"
           }
          ],
          "carpet": [
           {
            "aaxis": {
             "endlinecolor": "#2a3f5f",
             "gridcolor": "white",
             "linecolor": "white",
             "minorgridcolor": "white",
             "startlinecolor": "#2a3f5f"
            },
            "baxis": {
             "endlinecolor": "#2a3f5f",
             "gridcolor": "white",
             "linecolor": "white",
             "minorgridcolor": "white",
             "startlinecolor": "#2a3f5f"
            },
            "type": "carpet"
           }
          ],
          "choropleth": [
           {
            "colorbar": {
             "outlinewidth": 0,
             "ticks": ""
            },
            "type": "choropleth"
           }
          ],
          "contour": [
           {
            "colorbar": {
             "outlinewidth": 0,
             "ticks": ""
            },
            "colorscale": [
             [
              0,
              "#0d0887"
             ],
             [
              0.1111111111111111,
              "#46039f"
             ],
             [
              0.2222222222222222,
              "#7201a8"
             ],
             [
              0.3333333333333333,
              "#9c179e"
             ],
             [
              0.4444444444444444,
              "#bd3786"
             ],
             [
              0.5555555555555556,
              "#d8576b"
             ],
             [
              0.6666666666666666,
              "#ed7953"
             ],
             [
              0.7777777777777778,
              "#fb9f3a"
             ],
             [
              0.8888888888888888,
              "#fdca26"
             ],
             [
              1,
              "#f0f921"
             ]
            ],
            "type": "contour"
           }
          ],
          "contourcarpet": [
           {
            "colorbar": {
             "outlinewidth": 0,
             "ticks": ""
            },
            "type": "contourcarpet"
           }
          ],
          "heatmap": [
           {
            "colorbar": {
             "outlinewidth": 0,
             "ticks": ""
            },
            "colorscale": [
             [
              0,
              "#0d0887"
             ],
             [
              0.1111111111111111,
              "#46039f"
             ],
             [
              0.2222222222222222,
              "#7201a8"
             ],
             [
              0.3333333333333333,
              "#9c179e"
             ],
             [
              0.4444444444444444,
              "#bd3786"
             ],
             [
              0.5555555555555556,
              "#d8576b"
             ],
             [
              0.6666666666666666,
              "#ed7953"
             ],
             [
              0.7777777777777778,
              "#fb9f3a"
             ],
             [
              0.8888888888888888,
              "#fdca26"
             ],
             [
              1,
              "#f0f921"
             ]
            ],
            "type": "heatmap"
           }
          ],
          "heatmapgl": [
           {
            "colorbar": {
             "outlinewidth": 0,
             "ticks": ""
            },
            "colorscale": [
             [
              0,
              "#0d0887"
             ],
             [
              0.1111111111111111,
              "#46039f"
             ],
             [
              0.2222222222222222,
              "#7201a8"
             ],
             [
              0.3333333333333333,
              "#9c179e"
             ],
             [
              0.4444444444444444,
              "#bd3786"
             ],
             [
              0.5555555555555556,
              "#d8576b"
             ],
             [
              0.6666666666666666,
              "#ed7953"
             ],
             [
              0.7777777777777778,
              "#fb9f3a"
             ],
             [
              0.8888888888888888,
              "#fdca26"
             ],
             [
              1,
              "#f0f921"
             ]
            ],
            "type": "heatmapgl"
           }
          ],
          "histogram": [
           {
            "marker": {
             "colorbar": {
              "outlinewidth": 0,
              "ticks": ""
             }
            },
            "type": "histogram"
           }
          ],
          "histogram2d": [
           {
            "colorbar": {
             "outlinewidth": 0,
             "ticks": ""
            },
            "colorscale": [
             [
              0,
              "#0d0887"
             ],
             [
              0.1111111111111111,
              "#46039f"
             ],
             [
              0.2222222222222222,
              "#7201a8"
             ],
             [
              0.3333333333333333,
              "#9c179e"
             ],
             [
              0.4444444444444444,
              "#bd3786"
             ],
             [
              0.5555555555555556,
              "#d8576b"
             ],
             [
              0.6666666666666666,
              "#ed7953"
             ],
             [
              0.7777777777777778,
              "#fb9f3a"
             ],
             [
              0.8888888888888888,
              "#fdca26"
             ],
             [
              1,
              "#f0f921"
             ]
            ],
            "type": "histogram2d"
           }
          ],
          "histogram2dcontour": [
           {
            "colorbar": {
             "outlinewidth": 0,
             "ticks": ""
            },
            "colorscale": [
             [
              0,
              "#0d0887"
             ],
             [
              0.1111111111111111,
              "#46039f"
             ],
             [
              0.2222222222222222,
              "#7201a8"
             ],
             [
              0.3333333333333333,
              "#9c179e"
             ],
             [
              0.4444444444444444,
              "#bd3786"
             ],
             [
              0.5555555555555556,
              "#d8576b"
             ],
             [
              0.6666666666666666,
              "#ed7953"
             ],
             [
              0.7777777777777778,
              "#fb9f3a"
             ],
             [
              0.8888888888888888,
              "#fdca26"
             ],
             [
              1,
              "#f0f921"
             ]
            ],
            "type": "histogram2dcontour"
           }
          ],
          "mesh3d": [
           {
            "colorbar": {
             "outlinewidth": 0,
             "ticks": ""
            },
            "type": "mesh3d"
           }
          ],
          "parcoords": [
           {
            "line": {
             "colorbar": {
              "outlinewidth": 0,
              "ticks": ""
             }
            },
            "type": "parcoords"
           }
          ],
          "pie": [
           {
            "automargin": true,
            "type": "pie"
           }
          ],
          "scatter": [
           {
            "marker": {
             "colorbar": {
              "outlinewidth": 0,
              "ticks": ""
             }
            },
            "type": "scatter"
           }
          ],
          "scatter3d": [
           {
            "line": {
             "colorbar": {
              "outlinewidth": 0,
              "ticks": ""
             }
            },
            "marker": {
             "colorbar": {
              "outlinewidth": 0,
              "ticks": ""
             }
            },
            "type": "scatter3d"
           }
          ],
          "scattercarpet": [
           {
            "marker": {
             "colorbar": {
              "outlinewidth": 0,
              "ticks": ""
             }
            },
            "type": "scattercarpet"
           }
          ],
          "scattergeo": [
           {
            "marker": {
             "colorbar": {
              "outlinewidth": 0,
              "ticks": ""
             }
            },
            "type": "scattergeo"
           }
          ],
          "scattergl": [
           {
            "marker": {
             "colorbar": {
              "outlinewidth": 0,
              "ticks": ""
             }
            },
            "type": "scattergl"
           }
          ],
          "scattermapbox": [
           {
            "marker": {
             "colorbar": {
              "outlinewidth": 0,
              "ticks": ""
             }
            },
            "type": "scattermapbox"
           }
          ],
          "scatterpolar": [
           {
            "marker": {
             "colorbar": {
              "outlinewidth": 0,
              "ticks": ""
             }
            },
            "type": "scatterpolar"
           }
          ],
          "scatterpolargl": [
           {
            "marker": {
             "colorbar": {
              "outlinewidth": 0,
              "ticks": ""
             }
            },
            "type": "scatterpolargl"
           }
          ],
          "scatterternary": [
           {
            "marker": {
             "colorbar": {
              "outlinewidth": 0,
              "ticks": ""
             }
            },
            "type": "scatterternary"
           }
          ],
          "surface": [
           {
            "colorbar": {
             "outlinewidth": 0,
             "ticks": ""
            },
            "colorscale": [
             [
              0,
              "#0d0887"
             ],
             [
              0.1111111111111111,
              "#46039f"
             ],
             [
              0.2222222222222222,
              "#7201a8"
             ],
             [
              0.3333333333333333,
              "#9c179e"
             ],
             [
              0.4444444444444444,
              "#bd3786"
             ],
             [
              0.5555555555555556,
              "#d8576b"
             ],
             [
              0.6666666666666666,
              "#ed7953"
             ],
             [
              0.7777777777777778,
              "#fb9f3a"
             ],
             [
              0.8888888888888888,
              "#fdca26"
             ],
             [
              1,
              "#f0f921"
             ]
            ],
            "type": "surface"
           }
          ],
          "table": [
           {
            "cells": {
             "fill": {
              "color": "#EBF0F8"
             },
             "line": {
              "color": "white"
             }
            },
            "header": {
             "fill": {
              "color": "#C8D4E3"
             },
             "line": {
              "color": "white"
             }
            },
            "type": "table"
           }
          ]
         },
         "layout": {
          "annotationdefaults": {
           "arrowcolor": "#2a3f5f",
           "arrowhead": 0,
           "arrowwidth": 1
          },
          "coloraxis": {
           "colorbar": {
            "outlinewidth": 0,
            "ticks": ""
           }
          },
          "colorscale": {
           "diverging": [
            [
             0,
             "#8e0152"
            ],
            [
             0.1,
             "#c51b7d"
            ],
            [
             0.2,
             "#de77ae"
            ],
            [
             0.3,
             "#f1b6da"
            ],
            [
             0.4,
             "#fde0ef"
            ],
            [
             0.5,
             "#f7f7f7"
            ],
            [
             0.6,
             "#e6f5d0"
            ],
            [
             0.7,
             "#b8e186"
            ],
            [
             0.8,
             "#7fbc41"
            ],
            [
             0.9,
             "#4d9221"
            ],
            [
             1,
             "#276419"
            ]
           ],
           "sequential": [
            [
             0,
             "#0d0887"
            ],
            [
             0.1111111111111111,
             "#46039f"
            ],
            [
             0.2222222222222222,
             "#7201a8"
            ],
            [
             0.3333333333333333,
             "#9c179e"
            ],
            [
             0.4444444444444444,
             "#bd3786"
            ],
            [
             0.5555555555555556,
             "#d8576b"
            ],
            [
             0.6666666666666666,
             "#ed7953"
            ],
            [
             0.7777777777777778,
             "#fb9f3a"
            ],
            [
             0.8888888888888888,
             "#fdca26"
            ],
            [
             1,
             "#f0f921"
            ]
           ],
           "sequentialminus": [
            [
             0,
             "#0d0887"
            ],
            [
             0.1111111111111111,
             "#46039f"
            ],
            [
             0.2222222222222222,
             "#7201a8"
            ],
            [
             0.3333333333333333,
             "#9c179e"
            ],
            [
             0.4444444444444444,
             "#bd3786"
            ],
            [
             0.5555555555555556,
             "#d8576b"
            ],
            [
             0.6666666666666666,
             "#ed7953"
            ],
            [
             0.7777777777777778,
             "#fb9f3a"
            ],
            [
             0.8888888888888888,
             "#fdca26"
            ],
            [
             1,
             "#f0f921"
            ]
           ]
          },
          "colorway": [
           "#636efa",
           "#EF553B",
           "#00cc96",
           "#ab63fa",
           "#FFA15A",
           "#19d3f3",
           "#FF6692",
           "#B6E880",
           "#FF97FF",
           "#FECB52"
          ],
          "font": {
           "color": "#2a3f5f"
          },
          "geo": {
           "bgcolor": "white",
           "lakecolor": "white",
           "landcolor": "#E5ECF6",
           "showlakes": true,
           "showland": true,
           "subunitcolor": "white"
          },
          "hoverlabel": {
           "align": "left"
          },
          "hovermode": "closest",
          "mapbox": {
           "style": "light"
          },
          "paper_bgcolor": "white",
          "plot_bgcolor": "#E5ECF6",
          "polar": {
           "angularaxis": {
            "gridcolor": "white",
            "linecolor": "white",
            "ticks": ""
           },
           "bgcolor": "#E5ECF6",
           "radialaxis": {
            "gridcolor": "white",
            "linecolor": "white",
            "ticks": ""
           }
          },
          "scene": {
           "xaxis": {
            "backgroundcolor": "#E5ECF6",
            "gridcolor": "white",
            "gridwidth": 2,
            "linecolor": "white",
            "showbackground": true,
            "ticks": "",
            "zerolinecolor": "white"
           },
           "yaxis": {
            "backgroundcolor": "#E5ECF6",
            "gridcolor": "white",
            "gridwidth": 2,
            "linecolor": "white",
            "showbackground": true,
            "ticks": "",
            "zerolinecolor": "white"
           },
           "zaxis": {
            "backgroundcolor": "#E5ECF6",
            "gridcolor": "white",
            "gridwidth": 2,
            "linecolor": "white",
            "showbackground": true,
            "ticks": "",
            "zerolinecolor": "white"
           }
          },
          "shapedefaults": {
           "line": {
            "color": "#2a3f5f"
           }
          },
          "ternary": {
           "aaxis": {
            "gridcolor": "white",
            "linecolor": "white",
            "ticks": ""
           },
           "baxis": {
            "gridcolor": "white",
            "linecolor": "white",
            "ticks": ""
           },
           "bgcolor": "#E5ECF6",
           "caxis": {
            "gridcolor": "white",
            "linecolor": "white",
            "ticks": ""
           }
          },
          "title": {
           "x": 0.05
          },
          "xaxis": {
           "automargin": true,
           "gridcolor": "white",
           "linecolor": "white",
           "ticks": "",
           "title": {
            "standoff": 15
           },
           "zerolinecolor": "white",
           "zerolinewidth": 2
          },
          "yaxis": {
           "automargin": true,
           "gridcolor": "white",
           "linecolor": "white",
           "ticks": "",
           "title": {
            "standoff": 15
           },
           "zerolinecolor": "white",
           "zerolinewidth": 2
          }
         }
        },
        "title": {
         "text": "Differences between Dozen and global activity"
        },
        "xaxis": {
         "title": {
          "text": "Kind of activity"
         }
        },
        "yaxis": {
         "title": {
          "text": "Percentage of activity"
         }
        }
       }
      },
      "text/html": [
       "<div>                            <div id=\"213056ae-ddaf-4e6a-9d5b-bf96bd0a556b\" class=\"plotly-graph-div\" style=\"height:525px; width:100%;\"></div>            <script type=\"text/javascript\">                require([\"plotly\"], function(Plotly) {                    window.PLOTLYENV=window.PLOTLYENV || {};                                    if (document.getElementById(\"213056ae-ddaf-4e6a-9d5b-bf96bd0a556b\")) {                    Plotly.newPlot(                        \"213056ae-ddaf-4e6a-9d5b-bf96bd0a556b\",                        [{\"histfunc\": \"sum\", \"name\": \"Disinform Dozen\", \"type\": \"histogram\", \"x\": [\"Original\", \"Retweet\", \"Reply\"], \"y\": [0.7936979518343462, 0.13198289444069322, 0.07431915372496062]}, {\"histfunc\": \"sum\", \"name\": \"Global\", \"type\": \"histogram\", \"x\": [\"Original\", \"Retweet\", \"Reply\"], \"y\": [0.2107996801983292, 0.727461979960342, 0.06173833984132875]}],                        {\"legend\": {\"title\": {\"text\": \"Legend\"}}, \"template\": {\"data\": {\"bar\": [{\"error_x\": {\"color\": \"#2a3f5f\"}, \"error_y\": {\"color\": \"#2a3f5f\"}, \"marker\": {\"line\": {\"color\": \"#E5ECF6\", \"width\": 0.5}}, \"type\": \"bar\"}], \"barpolar\": [{\"marker\": {\"line\": {\"color\": \"#E5ECF6\", \"width\": 0.5}}, \"type\": \"barpolar\"}], \"carpet\": [{\"aaxis\": {\"endlinecolor\": \"#2a3f5f\", \"gridcolor\": \"white\", \"linecolor\": \"white\", \"minorgridcolor\": \"white\", \"startlinecolor\": \"#2a3f5f\"}, \"baxis\": {\"endlinecolor\": \"#2a3f5f\", \"gridcolor\": \"white\", \"linecolor\": \"white\", \"minorgridcolor\": \"white\", \"startlinecolor\": \"#2a3f5f\"}, \"type\": \"carpet\"}], \"choropleth\": [{\"colorbar\": {\"outlinewidth\": 0, \"ticks\": \"\"}, \"type\": \"choropleth\"}], \"contour\": [{\"colorbar\": {\"outlinewidth\": 0, \"ticks\": \"\"}, \"colorscale\": [[0.0, \"#0d0887\"], [0.1111111111111111, \"#46039f\"], [0.2222222222222222, \"#7201a8\"], [0.3333333333333333, \"#9c179e\"], [0.4444444444444444, \"#bd3786\"], [0.5555555555555556, \"#d8576b\"], [0.6666666666666666, \"#ed7953\"], [0.7777777777777778, \"#fb9f3a\"], [0.8888888888888888, \"#fdca26\"], [1.0, \"#f0f921\"]], \"type\": \"contour\"}], \"contourcarpet\": [{\"colorbar\": {\"outlinewidth\": 0, \"ticks\": \"\"}, \"type\": \"contourcarpet\"}], \"heatmap\": [{\"colorbar\": {\"outlinewidth\": 0, \"ticks\": \"\"}, \"colorscale\": [[0.0, \"#0d0887\"], [0.1111111111111111, \"#46039f\"], [0.2222222222222222, \"#7201a8\"], [0.3333333333333333, \"#9c179e\"], [0.4444444444444444, \"#bd3786\"], [0.5555555555555556, \"#d8576b\"], [0.6666666666666666, \"#ed7953\"], [0.7777777777777778, \"#fb9f3a\"], [0.8888888888888888, \"#fdca26\"], [1.0, \"#f0f921\"]], \"type\": \"heatmap\"}], \"heatmapgl\": [{\"colorbar\": {\"outlinewidth\": 0, \"ticks\": \"\"}, \"colorscale\": [[0.0, \"#0d0887\"], [0.1111111111111111, \"#46039f\"], [0.2222222222222222, \"#7201a8\"], [0.3333333333333333, \"#9c179e\"], [0.4444444444444444, \"#bd3786\"], [0.5555555555555556, \"#d8576b\"], [0.6666666666666666, \"#ed7953\"], [0.7777777777777778, \"#fb9f3a\"], [0.8888888888888888, \"#fdca26\"], [1.0, \"#f0f921\"]], \"type\": \"heatmapgl\"}], \"histogram\": [{\"marker\": {\"colorbar\": {\"outlinewidth\": 0, \"ticks\": \"\"}}, \"type\": \"histogram\"}], \"histogram2d\": [{\"colorbar\": {\"outlinewidth\": 0, \"ticks\": \"\"}, \"colorscale\": [[0.0, \"#0d0887\"], [0.1111111111111111, \"#46039f\"], [0.2222222222222222, \"#7201a8\"], [0.3333333333333333, \"#9c179e\"], [0.4444444444444444, \"#bd3786\"], [0.5555555555555556, \"#d8576b\"], [0.6666666666666666, \"#ed7953\"], [0.7777777777777778, \"#fb9f3a\"], [0.8888888888888888, \"#fdca26\"], [1.0, \"#f0f921\"]], \"type\": \"histogram2d\"}], \"histogram2dcontour\": [{\"colorbar\": {\"outlinewidth\": 0, \"ticks\": \"\"}, \"colorscale\": [[0.0, \"#0d0887\"], [0.1111111111111111, \"#46039f\"], [0.2222222222222222, \"#7201a8\"], [0.3333333333333333, \"#9c179e\"], [0.4444444444444444, \"#bd3786\"], [0.5555555555555556, \"#d8576b\"], [0.6666666666666666, \"#ed7953\"], [0.7777777777777778, \"#fb9f3a\"], [0.8888888888888888, \"#fdca26\"], [1.0, \"#f0f921\"]], \"type\": \"histogram2dcontour\"}], \"mesh3d\": [{\"colorbar\": {\"outlinewidth\": 0, \"ticks\": \"\"}, \"type\": \"mesh3d\"}], \"parcoords\": [{\"line\": {\"colorbar\": {\"outlinewidth\": 0, \"ticks\": \"\"}}, \"type\": \"parcoords\"}], \"pie\": [{\"automargin\": true, \"type\": \"pie\"}], \"scatter\": [{\"marker\": {\"colorbar\": {\"outlinewidth\": 0, \"ticks\": \"\"}}, \"type\": \"scatter\"}], \"scatter3d\": [{\"line\": {\"colorbar\": {\"outlinewidth\": 0, \"ticks\": \"\"}}, \"marker\": {\"colorbar\": {\"outlinewidth\": 0, \"ticks\": \"\"}}, \"type\": \"scatter3d\"}], \"scattercarpet\": [{\"marker\": {\"colorbar\": {\"outlinewidth\": 0, \"ticks\": \"\"}}, \"type\": \"scattercarpet\"}], \"scattergeo\": [{\"marker\": {\"colorbar\": {\"outlinewidth\": 0, \"ticks\": \"\"}}, \"type\": \"scattergeo\"}], \"scattergl\": [{\"marker\": {\"colorbar\": {\"outlinewidth\": 0, \"ticks\": \"\"}}, \"type\": \"scattergl\"}], \"scattermapbox\": [{\"marker\": {\"colorbar\": {\"outlinewidth\": 0, \"ticks\": \"\"}}, \"type\": \"scattermapbox\"}], \"scatterpolar\": [{\"marker\": {\"colorbar\": {\"outlinewidth\": 0, \"ticks\": \"\"}}, \"type\": \"scatterpolar\"}], \"scatterpolargl\": [{\"marker\": {\"colorbar\": {\"outlinewidth\": 0, \"ticks\": \"\"}}, \"type\": \"scatterpolargl\"}], \"scatterternary\": [{\"marker\": {\"colorbar\": {\"outlinewidth\": 0, \"ticks\": \"\"}}, \"type\": \"scatterternary\"}], \"surface\": [{\"colorbar\": {\"outlinewidth\": 0, \"ticks\": \"\"}, \"colorscale\": [[0.0, \"#0d0887\"], [0.1111111111111111, \"#46039f\"], [0.2222222222222222, \"#7201a8\"], [0.3333333333333333, \"#9c179e\"], [0.4444444444444444, \"#bd3786\"], [0.5555555555555556, \"#d8576b\"], [0.6666666666666666, \"#ed7953\"], [0.7777777777777778, \"#fb9f3a\"], [0.8888888888888888, \"#fdca26\"], [1.0, \"#f0f921\"]], \"type\": \"surface\"}], \"table\": [{\"cells\": {\"fill\": {\"color\": \"#EBF0F8\"}, \"line\": {\"color\": \"white\"}}, \"header\": {\"fill\": {\"color\": \"#C8D4E3\"}, \"line\": {\"color\": \"white\"}}, \"type\": \"table\"}]}, \"layout\": {\"annotationdefaults\": {\"arrowcolor\": \"#2a3f5f\", \"arrowhead\": 0, \"arrowwidth\": 1}, \"coloraxis\": {\"colorbar\": {\"outlinewidth\": 0, \"ticks\": \"\"}}, \"colorscale\": {\"diverging\": [[0, \"#8e0152\"], [0.1, \"#c51b7d\"], [0.2, \"#de77ae\"], [0.3, \"#f1b6da\"], [0.4, \"#fde0ef\"], [0.5, \"#f7f7f7\"], [0.6, \"#e6f5d0\"], [0.7, \"#b8e186\"], [0.8, \"#7fbc41\"], [0.9, \"#4d9221\"], [1, \"#276419\"]], \"sequential\": [[0.0, \"#0d0887\"], [0.1111111111111111, \"#46039f\"], [0.2222222222222222, \"#7201a8\"], [0.3333333333333333, \"#9c179e\"], [0.4444444444444444, \"#bd3786\"], [0.5555555555555556, \"#d8576b\"], [0.6666666666666666, \"#ed7953\"], [0.7777777777777778, \"#fb9f3a\"], [0.8888888888888888, \"#fdca26\"], [1.0, \"#f0f921\"]], \"sequentialminus\": [[0.0, \"#0d0887\"], [0.1111111111111111, \"#46039f\"], [0.2222222222222222, \"#7201a8\"], [0.3333333333333333, \"#9c179e\"], [0.4444444444444444, \"#bd3786\"], [0.5555555555555556, \"#d8576b\"], [0.6666666666666666, \"#ed7953\"], [0.7777777777777778, \"#fb9f3a\"], [0.8888888888888888, \"#fdca26\"], [1.0, \"#f0f921\"]]}, \"colorway\": [\"#636efa\", \"#EF553B\", \"#00cc96\", \"#ab63fa\", \"#FFA15A\", \"#19d3f3\", \"#FF6692\", \"#B6E880\", \"#FF97FF\", \"#FECB52\"], \"font\": {\"color\": \"#2a3f5f\"}, \"geo\": {\"bgcolor\": \"white\", \"lakecolor\": \"white\", \"landcolor\": \"#E5ECF6\", \"showlakes\": true, \"showland\": true, \"subunitcolor\": \"white\"}, \"hoverlabel\": {\"align\": \"left\"}, \"hovermode\": \"closest\", \"mapbox\": {\"style\": \"light\"}, \"paper_bgcolor\": \"white\", \"plot_bgcolor\": \"#E5ECF6\", \"polar\": {\"angularaxis\": {\"gridcolor\": \"white\", \"linecolor\": \"white\", \"ticks\": \"\"}, \"bgcolor\": \"#E5ECF6\", \"radialaxis\": {\"gridcolor\": \"white\", \"linecolor\": \"white\", \"ticks\": \"\"}}, \"scene\": {\"xaxis\": {\"backgroundcolor\": \"#E5ECF6\", \"gridcolor\": \"white\", \"gridwidth\": 2, \"linecolor\": \"white\", \"showbackground\": true, \"ticks\": \"\", \"zerolinecolor\": \"white\"}, \"yaxis\": {\"backgroundcolor\": \"#E5ECF6\", \"gridcolor\": \"white\", \"gridwidth\": 2, \"linecolor\": \"white\", \"showbackground\": true, \"ticks\": \"\", \"zerolinecolor\": \"white\"}, \"zaxis\": {\"backgroundcolor\": \"#E5ECF6\", \"gridcolor\": \"white\", \"gridwidth\": 2, \"linecolor\": \"white\", \"showbackground\": true, \"ticks\": \"\", \"zerolinecolor\": \"white\"}}, \"shapedefaults\": {\"line\": {\"color\": \"#2a3f5f\"}}, \"ternary\": {\"aaxis\": {\"gridcolor\": \"white\", \"linecolor\": \"white\", \"ticks\": \"\"}, \"baxis\": {\"gridcolor\": \"white\", \"linecolor\": \"white\", \"ticks\": \"\"}, \"bgcolor\": \"#E5ECF6\", \"caxis\": {\"gridcolor\": \"white\", \"linecolor\": \"white\", \"ticks\": \"\"}}, \"title\": {\"x\": 0.05}, \"xaxis\": {\"automargin\": true, \"gridcolor\": \"white\", \"linecolor\": \"white\", \"ticks\": \"\", \"title\": {\"standoff\": 15}, \"zerolinecolor\": \"white\", \"zerolinewidth\": 2}, \"yaxis\": {\"automargin\": true, \"gridcolor\": \"white\", \"linecolor\": \"white\", \"ticks\": \"\", \"title\": {\"standoff\": 15}, \"zerolinecolor\": \"white\", \"zerolinewidth\": 2}}}, \"title\": {\"text\": \"Differences between Dozen and global activity\"}, \"xaxis\": {\"title\": {\"text\": \"Kind of activity\"}}, \"yaxis\": {\"title\": {\"text\": \"Percentage of activity\"}}},                        {\"responsive\": true}                    ).then(function(){\n",
       "                            \n",
       "var gd = document.getElementById('213056ae-ddaf-4e6a-9d5b-bf96bd0a556b');\n",
       "var x = new MutationObserver(function (mutations, observer) {{\n",
       "        var display = window.getComputedStyle(gd).display;\n",
       "        if (!display || display === 'none') {{\n",
       "            console.log([gd, 'removed!']);\n",
       "            Plotly.purge(gd);\n",
       "            observer.disconnect();\n",
       "        }}\n",
       "}});\n",
       "\n",
       "// Listen for the removal of the full notebook cells\n",
       "var notebookContainer = gd.closest('#notebook-container');\n",
       "if (notebookContainer) {{\n",
       "    x.observe(notebookContainer, {childList: true});\n",
       "}}\n",
       "\n",
       "// Listen for the clearing of the current output cell\n",
       "var outputEl = gd.closest('.output');\n",
       "if (outputEl) {{\n",
       "    x.observe(outputEl, {childList: true});\n",
       "}}\n",
       "\n",
       "                        })                };                });            </script>        </div>"
      ]
     },
     "metadata": {},
     "output_type": "display_data"
    }
   ],
   "source": [
    "import plotly.graph_objects as go\n",
    "total_ccdh = 22215\n",
    "original_ccdh = 17632\n",
    "rt_ccdh =  2932\n",
    "rp_ccdh = 1651\n",
    "\n",
    "original_n = 13999715 \n",
    "retweet_n = 48312504 \n",
    "reply_n = 4100192 \n",
    "total_tweets = 13999715 + 48312504 + 4100192\n",
    "list_ccdh = [original_ccdh/total_ccdh, rt_ccdh/total_ccdh, rp_ccdh/total_ccdh]\n",
    "label_ccdh = [\"Original\", \"Retweet\", \"Reply\"]\n",
    "list_verified = [original_n/total_tweets, retweet_n/total_tweets, reply_n/total_tweets]\n",
    "\n",
    "fig = go.Figure()\n",
    "fig.add_trace(go.Histogram(histfunc=\"sum\", y=list_ccdh, x=label_ccdh, name=\"Disinform Dozen\"))\n",
    "fig.add_trace(go.Histogram(histfunc=\"sum\", y=list_verified, x=label_ccdh, name=\"Global\"))\n",
    "fig.update_layout(\n",
    "    title=\"Differences between Dozen and global activity\",\n",
    "    xaxis_title=\"Kind of activity\",\n",
    "    yaxis_title=\"Percentage of activity\",\n",
    "    legend_title=\"Legend\")\n",
    "fig.show()"
   ]
  },
  {
   "cell_type": "markdown",
   "metadata": {},
   "source": [
    "# Check quotes"
   ]
  },
  {
   "cell_type": "code",
   "execution_count": 12,
   "metadata": {},
   "outputs": [],
   "source": [
    "cols = [\"id\", \"created_at\", \"user_id\", \"user_screen_name\", \"text\", \"in_reply_to_screen_name\", \"rt_created_at\", \"quoted_status_created_at\", \"quoted_user_id\", \"urls\"] "
   ]
  },
  {
   "cell_type": "code",
   "execution_count": 21,
   "metadata": {
    "scrolled": false
   },
   "outputs": [
    {
     "name": "stdout",
     "output_type": "stream",
     "text": [
      "<class 'pandas.core.frame.DataFrame'>\n",
      "RangeIndex: 10000 entries, 0 to 9999\n",
      "Data columns (total 46 columns):\n",
      " #   Column                     Non-Null Count  Dtype  \n",
      "---  ------                     --------------  -----  \n",
      " 0   id                         10000 non-null  int64  \n",
      " 1   id_str                     10000 non-null  int64  \n",
      " 2   created_at                 10000 non-null  object \n",
      " 3   user_id                    10000 non-null  int64  \n",
      " 4   user_screen_name           10000 non-null  object \n",
      " 5   user_verified              10000 non-null  bool   \n",
      " 6   user_created_at            10000 non-null  object \n",
      " 7   text                       10000 non-null  object \n",
      " 8   source                     10000 non-null  object \n",
      " 9   coordinates                3 non-null      object \n",
      " 10  is_quote_status            10000 non-null  bool   \n",
      " 11  retweet_count              10000 non-null  int64  \n",
      " 12  favorite_count             10000 non-null  int64  \n",
      " 13  favorited                  10000 non-null  bool   \n",
      " 14  retweeted                  10000 non-null  bool   \n",
      " 15  lang                       10000 non-null  object \n",
      " 16  in_reply_to_status_id      602 non-null    float64\n",
      " 17  in_reply_to_status_id_str  602 non-null    float64\n",
      " 18  in_reply_to_user_id        643 non-null    float64\n",
      " 19  in_reply_to_user_id_str    643 non-null    float64\n",
      " 20  in_reply_to_screen_name    643 non-null    object \n",
      " 21  rt_coordinates             0 non-null      float64\n",
      " 22  rt_created_at              7594 non-null   object \n",
      " 23  rt_in_reply_to_status_id   820 non-null    float64\n",
      " 24  rt_in_reply_to_user_id     883 non-null    float64\n",
      " 25  rt_lang                    7594 non-null   object \n",
      " 26  rt_favourite_count         7594 non-null   float64\n",
      " 27  rt_id                      7594 non-null   float64\n",
      " 28  rt_user_id                 7594 non-null   float64\n",
      " 29  rt_user_screen_name        7594 non-null   object \n",
      " 30  rt_user_created_at         7594 non-null   object \n",
      " 31  rt_user_verified           7594 non-null   object \n",
      " 32  rt_user_followers_count    7594 non-null   float64\n",
      " 33  rt_user_friends_count      7594 non-null   float64\n",
      " 34  rt_user_favourites_count   7594 non-null   float64\n",
      " 35  quoted_status_id           770 non-null    float64\n",
      " 36  quoted_status_text         219 non-null    object \n",
      " 37  quoted_status_created_at   219 non-null    object \n",
      " 38  quoted_user_id             219 non-null    float64\n",
      " 39  quoted_user_created_at     219 non-null    object \n",
      " 40  hashtags                   10000 non-null  object \n",
      " 41  symbols                    10000 non-null  object \n",
      " 42  user_mentions              10000 non-null  object \n",
      " 43  urls                       10000 non-null  object \n",
      " 44  polls                      10000 non-null  object \n",
      " 45  media                      10000 non-null  object \n",
      "dtypes: bool(4), float64(15), int64(5), object(22)\n",
      "memory usage: 3.2+ MB\n"
     ]
    }
   ],
   "source": [
    "for chunk in pd.read_csv(files_tweets[0], \n",
    "                         chunksize=10000, \n",
    "                         lineterminator = '\\n',\n",
    "#                          usecols = cols\n",
    "                        ):\n",
    "    df = chunk\n",
    "    break\n",
    "df.info()"
   ]
  },
  {
   "cell_type": "code",
   "execution_count": 15,
   "metadata": {},
   "outputs": [],
   "source": [
    "# df[(df[\"quoted_status_created_at\"].notna()) & (df[\"in_reply_to_screen_name\"].notna())]"
   ]
  },
  {
   "cell_type": "code",
   "execution_count": 29,
   "metadata": {},
   "outputs": [
    {
     "data": {
      "text/html": [
       "<div>\n",
       "<style scoped>\n",
       "    .dataframe tbody tr th:only-of-type {\n",
       "        vertical-align: middle;\n",
       "    }\n",
       "\n",
       "    .dataframe tbody tr th {\n",
       "        vertical-align: top;\n",
       "    }\n",
       "\n",
       "    .dataframe thead th {\n",
       "        text-align: right;\n",
       "    }\n",
       "</style>\n",
       "<table border=\"1\" class=\"dataframe\">\n",
       "  <thead>\n",
       "    <tr style=\"text-align: right;\">\n",
       "      <th></th>\n",
       "      <th>id</th>\n",
       "      <th>id_str</th>\n",
       "      <th>created_at</th>\n",
       "      <th>user_id</th>\n",
       "      <th>user_screen_name</th>\n",
       "      <th>user_verified</th>\n",
       "      <th>user_created_at</th>\n",
       "      <th>text</th>\n",
       "      <th>source</th>\n",
       "      <th>coordinates</th>\n",
       "      <th>...</th>\n",
       "      <th>quoted_status_text</th>\n",
       "      <th>quoted_status_created_at</th>\n",
       "      <th>quoted_user_id</th>\n",
       "      <th>quoted_user_created_at</th>\n",
       "      <th>hashtags</th>\n",
       "      <th>symbols</th>\n",
       "      <th>user_mentions</th>\n",
       "      <th>urls</th>\n",
       "      <th>polls</th>\n",
       "      <th>media</th>\n",
       "    </tr>\n",
       "  </thead>\n",
       "  <tbody>\n",
       "  </tbody>\n",
       "</table>\n",
       "<p>0 rows × 46 columns</p>\n",
       "</div>"
      ],
      "text/plain": [
       "Empty DataFrame\n",
       "Columns: [id, id_str, created_at, user_id, user_screen_name, user_verified, user_created_at, text, source, coordinates, is_quote_status, retweet_count, favorite_count, favorited, retweeted, lang, in_reply_to_status_id, in_reply_to_status_id_str, in_reply_to_user_id, in_reply_to_user_id_str, in_reply_to_screen_name, rt_coordinates, rt_created_at, rt_in_reply_to_status_id, rt_in_reply_to_user_id, rt_lang, rt_favourite_count, rt_id, rt_user_id, rt_user_screen_name, rt_user_created_at, rt_user_verified, rt_user_followers_count, rt_user_friends_count, rt_user_favourites_count, quoted_status_id, quoted_status_text, quoted_status_created_at, quoted_user_id, quoted_user_created_at, hashtags, symbols, user_mentions, urls, polls, media]\n",
       "Index: []\n",
       "\n",
       "[0 rows x 46 columns]"
      ]
     },
     "execution_count": 29,
     "metadata": {},
     "output_type": "execute_result"
    }
   ],
   "source": [
    "x = df[df[\"rt_created_at\"].notna()]\n",
    "y = x[x[\"quoted_status_created_at\"].notna()]\n",
    "y"
   ]
  },
  {
   "cell_type": "code",
   "execution_count": 16,
   "metadata": {
    "scrolled": false
   },
   "outputs": [],
   "source": [
    "result = []\n",
    "len_rt = 0\n",
    "checksum_rt = 0\n",
    "importlib.reload(tweets_utils)\n",
    "start_time = time.perf_counter()\n",
    "j = 0\n",
    "for filename in files_tweets:\n",
    "    print(f\"Reading file: {filename}\")\n",
    "    result.extend(tweets_utils.process_all_data(filename, cols, True))\n",
    "    lista = result[j]\n",
    "    j = j + 1\n",
    "    print(f\"Mese numero {j}\")\n",
    "    for i in range(len(lista)):\n",
    "\n",
    "        len_rt = len_rt + lista[i][\"rt_len\"] \n",
    "        checksum_rt = checksum_rt + lista[i][\"quotes_rt_len\"]\n",
    "\n",
    "stop_time = time.perf_counter()\n",
    "print(\"Time: \",stop_time-start_time)\n",
    "print(checksum_rt)\n",
    "print(len_rt)"
   ]
  },
  {
   "cell_type": "markdown",
   "metadata": {},
   "source": [
    "### Treshold"
   ]
  },
  {
   "cell_type": "code",
   "execution_count": 36,
   "metadata": {},
   "outputs": [],
   "source": [
    "path = glob.glob(\"C:/Users/gianl/Desktop/Gi/Supsi/BachelorProject/csv/score_avaxtar/\")\n",
    "good = pd.read_csv(path[0] + \"good_users.csv\", lineterminator=\"\\n\")\n",
    "good = good.drop(good[good.score == \"Error\"].index)\n",
    "bad = pd.read_csv(path[0] + \"bad_dozen.csv\", lineterminator=\"\\n\") \n",
    "bad2 = pd.read_csv(path[0] + \"novax_manual.csv\", lineterminator=\"\\n\") \n",
    "bad = bad.append(bad2)\n",
    "good[\"score\"] = good[\"score\"].astype(\"float\")\n",
    "good_lst = list(good[\"score\"])\n",
    "good = good.append(bad)\n",
    "good = good.iloc[:120 ,:]\n",
    "total = good.append(bad)"
   ]
  },
  {
   "cell_type": "code",
   "execution_count": 83,
   "metadata": {},
   "outputs": [],
   "source": [
    "def threshold_calculate(threshold):\n",
    "    true_negative = 0\n",
    "    false_negative = 0\n",
    "    false_positive = 0\n",
    "    true_positive = 0\n",
    "    lst_score = list(total[\"score\"])\n",
    "    lst_name = list(total[\"screen_name\"])\n",
    "    \n",
    "    for i in range(len(total[\"score\"])):\n",
    "        if lst_score[i] > threshold:\n",
    "            if lst_name[i] in list(bad[\"screen_name\"]):\n",
    "#                 print(f\"{lst_name[i]}, {lst_score[i]}\")\n",
    "                true_negative = true_negative  + 1\n",
    "            else:\n",
    "                false_negative = false_negative + 1\n",
    "        else:\n",
    "            if lst_name[i] in list(bad[\"screen_name\"]):\n",
    "                false_positive = false_positive + 1\n",
    "            else:\n",
    "                true_positive = true_positive + 1\n",
    "    totali = len(good[\"score\"])\n",
    "    check = (totali == true_negative + false_negative + false_positive + true_positive)\n",
    "    print(f\"Threshold: {threshold}\")\n",
    "    print(f\"TN: {true_negative} + FN: {false_negative} + FP: {false_positive} + TP: {true_positive}\")\n",
    "\n",
    "    precision = round(true_positive/(true_positive + false_positive),2)\n",
    "    print(f\"Precision: {precision}\")\n",
    "    recall = round(true_positive/(true_positive + false_negative),2)\n",
    "    print(f\"Recall: {recall}\")\n",
    "    accuracy = round((true_positive + true_negative) / ( true_negative + false_negative + false_positive + true_positive),2)\n",
    "    print(f\"Accuracy: {accuracy}\")\n",
    "    f1 = round(2* ((precision*recall)/(precision+recall)),2)\n",
    "    print(f\"F1: {f1}\")\n",
    "    print(f\"Sensitivity (TPR): {recall}\")\n",
    "    specificity = round(true_negative/(true_negative+false_positive),2)\n",
    "    print(f\"Specificity: {specificity}\")\n",
    "    fpr = round(1 - specificity,2)\n",
    "    print(f\"FPR: {fpr}\")\n",
    "\n",
    "    print(f\"{(1-fpr)*100}% of negatives are correctly classified\")\n",
    "    print(f\"{recall*100}% of positives are correctly classified\")\n",
    "    print(\"________________________________________________\")\n",
    "    return (specificity, recall)"
   ]
  },
  {
   "cell_type": "code",
   "execution_count": 84,
   "metadata": {},
   "outputs": [
    {
     "name": "stdout",
     "output_type": "stream",
     "text": [
      "Threshold: 0.55\n",
      "TN: 106 + FN: 22 + FP: 15 + TP: 98\n",
      "Precision: 0.87\n",
      "Recall: 0.82\n",
      "Accuracy: 0.85\n",
      "F1: 0.84\n",
      "Sensitivity (TPR): 0.82\n",
      "Specificity: 0.88\n",
      "FPR: 0.12\n",
      "88.0% of negatives are correctly classified\n",
      "82.0% of positives are correctly classified\n",
      "________________________________________________\n",
      "Threshold: 0.6\n",
      "TN: 106 + FN: 17 + FP: 15 + TP: 103\n",
      "Precision: 0.87\n",
      "Recall: 0.86\n",
      "Accuracy: 0.87\n",
      "F1: 0.86\n",
      "Sensitivity (TPR): 0.86\n",
      "Specificity: 0.88\n",
      "FPR: 0.12\n",
      "88.0% of negatives are correctly classified\n",
      "86.0% of positives are correctly classified\n",
      "________________________________________________\n",
      "Threshold: 0.65\n",
      "TN: 104 + FN: 17 + FP: 17 + TP: 103\n",
      "Precision: 0.86\n",
      "Recall: 0.86\n",
      "Accuracy: 0.86\n",
      "F1: 0.86\n",
      "Sensitivity (TPR): 0.86\n",
      "Specificity: 0.86\n",
      "FPR: 0.14\n",
      "86.0% of negatives are correctly classified\n",
      "86.0% of positives are correctly classified\n",
      "________________________________________________\n",
      "Threshold: 0.7\n",
      "TN: 103 + FN: 14 + FP: 18 + TP: 106\n",
      "Precision: 0.85\n",
      "Recall: 0.88\n",
      "Accuracy: 0.87\n",
      "F1: 0.86\n",
      "Sensitivity (TPR): 0.88\n",
      "Specificity: 0.85\n",
      "FPR: 0.15\n",
      "85.0% of negatives are correctly classified\n",
      "88.0% of positives are correctly classified\n",
      "________________________________________________\n",
      "Threshold: 0.75\n",
      "TN: 102 + FN: 13 + FP: 19 + TP: 107\n",
      "Precision: 0.85\n",
      "Recall: 0.89\n",
      "Accuracy: 0.87\n",
      "F1: 0.87\n",
      "Sensitivity (TPR): 0.89\n",
      "Specificity: 0.84\n",
      "FPR: 0.16\n",
      "84.0% of negatives are correctly classified\n",
      "89.0% of positives are correctly classified\n",
      "________________________________________________\n",
      "Threshold: 0.8\n",
      "TN: 97 + FN: 12 + FP: 24 + TP: 108\n",
      "Precision: 0.82\n",
      "Recall: 0.9\n",
      "Accuracy: 0.85\n",
      "F1: 0.86\n",
      "Sensitivity (TPR): 0.9\n",
      "Specificity: 0.8\n",
      "FPR: 0.2\n",
      "80.0% of negatives are correctly classified\n",
      "90.0% of positives are correctly classified\n",
      "________________________________________________\n",
      "Threshold: 0.85\n",
      "TN: 91 + FN: 10 + FP: 30 + TP: 110\n",
      "Precision: 0.79\n",
      "Recall: 0.92\n",
      "Accuracy: 0.83\n",
      "F1: 0.85\n",
      "Sensitivity (TPR): 0.92\n",
      "Specificity: 0.75\n",
      "FPR: 0.25\n",
      "75.0% of negatives are correctly classified\n",
      "92.0% of positives are correctly classified\n",
      "________________________________________________\n",
      "Threshold: 0.9\n",
      "TN: 86 + FN: 7 + FP: 35 + TP: 113\n",
      "Precision: 0.76\n",
      "Recall: 0.94\n",
      "Accuracy: 0.83\n",
      "F1: 0.84\n",
      "Sensitivity (TPR): 0.94\n",
      "Specificity: 0.71\n",
      "FPR: 0.29\n",
      "71.0% of negatives are correctly classified\n",
      "94.0% of positives are correctly classified\n",
      "________________________________________________\n"
     ]
    }
   ],
   "source": [
    "xy = []\n",
    "xy.append(threshold_calculate(0.55))\n",
    "xy.append(threshold_calculate(0.6))\n",
    "xy.append(threshold_calculate(0.65))\n",
    "xy.append(threshold_calculate(0.7))\n",
    "xy.append(threshold_calculate(0.75))\n",
    "xy.append(threshold_calculate(0.8))\n",
    "xy.append(threshold_calculate(0.85))\n",
    "xy.append(threshold_calculate(0.9))"
   ]
  },
  {
   "cell_type": "code",
   "execution_count": 85,
   "metadata": {},
   "outputs": [],
   "source": [
    "x = []\n",
    "y = []\n",
    "for i in xy:\n",
    "    x.append(i[0])\n",
    "    y.append(i[1])"
   ]
  }
 ],
 "metadata": {
  "kernelspec": {
   "display_name": "Python 3 (ipykernel)",
   "language": "python",
   "name": "python3"
  },
  "language_info": {
   "codemirror_mode": {
    "name": "ipython",
    "version": 3
   },
   "file_extension": ".py",
   "mimetype": "text/x-python",
   "name": "python",
   "nbconvert_exporter": "python",
   "pygments_lexer": "ipython3",
   "version": "3.8.11"
  }
 },
 "nbformat": 4,
 "nbformat_minor": 4
}
