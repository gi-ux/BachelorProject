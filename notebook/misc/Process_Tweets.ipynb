{
 "cells": [
  {
   "cell_type": "code",
   "execution_count": 19,
   "metadata": {},
   "outputs": [
    {
     "data": {
      "application/javascript": [
       "IPython.notebook.set_autosave_interval(3600000)"
      ]
     },
     "metadata": {},
     "output_type": "display_data"
    },
    {
     "name": "stdout",
     "output_type": "stream",
     "text": [
      "Autosaving every 3600 seconds\n"
     ]
    }
   ],
   "source": [
    "import pandas as pd\n",
    "# from collections import Counter\n",
    "import numpy as np\n",
    "import matplotlib.pyplot as plt\n",
    "from matplotlib.pyplot import figure\n",
    "import plotly.graph_objects as go\n",
    "\n",
    "import datetime\n",
    "import plotly.express as px\n",
    "# import matplotlib.mlab as mlab\n",
    "# from statistics import mean\n",
    "# import pylab\n",
    "import math\n",
    "# import tweepy\n",
    "# from botometer import Botometer\n",
    "# from geopy.geocoders import Nominatim\n",
    "# geolocator = Nominatim(user_agent=\"gianluca.nogara@gmail.com\")\n",
    "import warnings\n",
    "warnings.filterwarnings('ignore')\n",
    "import time\n",
    "from time import perf_counter\n",
    "import glob\n",
    "import sys\n",
    "sys.path.append('C:/Users/gianl/Desktop/Gi/Supsi/BachelorProject/notebook/tweet_utils')\n",
    "import tweets_utils\n",
    "import csv\n",
    "import importlib\n",
    "from tqdm.notebook import tqdm\n",
    "%autosave 3600"
   ]
  },
  {
   "cell_type": "code",
   "execution_count": 14,
   "metadata": {},
   "outputs": [],
   "source": [
    "bot_tweets =  730483\n",
    "bot_original = 310406\n",
    "bot_retweets = 384562\n",
    "bot_replies = 21153\n",
    "bot_quotes = 15133\n",
    "bot_values = [(bot_original/bot_tweets), (bot_retweets/bot_tweets), \n",
    "              (bot_replies/bot_tweets), (bot_quotes/bot_tweets)]\n",
    "\n",
    "human_tweets = 312673\n",
    "human_original = 35514\n",
    "human_retweets = 198042\n",
    "human_replies = 41230\n",
    "human_quotes = 37887\n",
    "human_values = [(human_original/human_tweets), (human_retweets/human_tweets), \n",
    "              (human_replies/human_tweets), (human_quotes/human_tweets)]\n",
    "\n",
    "bad_tweets = 19159\n",
    "bad_original = 13535\n",
    "bad_retweets = 2834\n",
    "bad_replies = 1622\n",
    "bad_quotes = 1168\n",
    "bad_values = [(bad_original/bad_tweets), (bad_retweets/bad_tweets), \n",
    "              (bad_replies/bad_tweets), (bad_quotes/bad_tweets)]\n",
    "\n",
    "\n",
    "good_tweets = 750820\n",
    "good_original = 146304\n",
    "good_retweets = 287203\n",
    "good_replies = 233374\n",
    "good_quotes = 83939\n",
    "good_values = [(good_original/good_tweets), (good_retweets/good_tweets), \n",
    "              (good_replies/good_tweets), (good_quotes/good_tweets)]\n",
    "\n",
    "susp_tweets = 97562\n",
    "susp_original = 24482\n",
    "susp_retweets = 56138\n",
    "susp_replies = 9272\n",
    "susp_quotes = 7670\n",
    "susp_values = [(susp_original/susp_tweets), (susp_retweets/susp_tweets), \n",
    "              (susp_replies/susp_tweets), (susp_quotes/susp_tweets)]"
   ]
  },
  {
   "cell_type": "code",
   "execution_count": 23,
   "metadata": {},
   "outputs": [
    {
     "data": {
      "application/vnd.plotly.v1+json": {
       "config": {
        "plotlyServerURL": "https://plot.ly"
       },
       "data": [
        {
         "histfunc": "sum",
         "name": "Bad",
         "type": "histogram",
         "x": [
          "Original",
          "Retweet",
          "Reply",
          "Quote"
         ],
         "y": [
          0.706456495641735,
          0.1479200375802495,
          0.0846599509368965,
          0.06096351584111906
         ]
        },
        {
         "histfunc": "sum",
         "name": "Good",
         "type": "histogram",
         "x": [
          "Original",
          "Retweet",
          "Reply",
          "Quote"
         ],
         "y": [
          0.19485895421006366,
          0.3825191124370688,
          0.31082549745611465,
          0.11179643589675288
         ]
        },
        {
         "histfunc": "sum",
         "name": "Human",
         "type": "histogram",
         "x": [
          "Original",
          "Retweet",
          "Reply",
          "Quote"
         ],
         "y": [
          0.11358192104850755,
          0.6333837587511554,
          0.13186300064284412,
          0.12117131955749297
         ]
        },
        {
         "histfunc": "sum",
         "name": "Bot",
         "type": "histogram",
         "x": [
          "Original",
          "Retweet",
          "Reply",
          "Quote"
         ],
         "y": [
          0.4249325446314288,
          0.526448938578995,
          0.02895755274250051,
          0.02071643008803764
         ]
        },
        {
         "histfunc": "sum",
         "name": "Suspended",
         "type": "histogram",
         "x": [
          "Original",
          "Retweet",
          "Reply",
          "Quote"
         ],
         "y": [
          0.2509378651524159,
          0.5754084582111888,
          0.09503700211147784,
          0.07861667452491748
         ]
        }
       ],
       "layout": {
        "legend": {
         "title": {
          "text": "Legend"
         }
        },
        "template": {
         "data": {
          "bar": [
           {
            "error_x": {
             "color": "#2a3f5f"
            },
            "error_y": {
             "color": "#2a3f5f"
            },
            "marker": {
             "line": {
              "color": "#E5ECF6",
              "width": 0.5
             },
             "pattern": {
              "fillmode": "overlay",
              "size": 10,
              "solidity": 0.2
             }
            },
            "type": "bar"
           }
          ],
          "barpolar": [
           {
            "marker": {
             "line": {
              "color": "#E5ECF6",
              "width": 0.5
             },
             "pattern": {
              "fillmode": "overlay",
              "size": 10,
              "solidity": 0.2
             }
            },
            "type": "barpolar"
           }
          ],
          "carpet": [
           {
            "aaxis": {
             "endlinecolor": "#2a3f5f",
             "gridcolor": "white",
             "linecolor": "white",
             "minorgridcolor": "white",
             "startlinecolor": "#2a3f5f"
            },
            "baxis": {
             "endlinecolor": "#2a3f5f",
             "gridcolor": "white",
             "linecolor": "white",
             "minorgridcolor": "white",
             "startlinecolor": "#2a3f5f"
            },
            "type": "carpet"
           }
          ],
          "choropleth": [
           {
            "colorbar": {
             "outlinewidth": 0,
             "ticks": ""
            },
            "type": "choropleth"
           }
          ],
          "contour": [
           {
            "colorbar": {
             "outlinewidth": 0,
             "ticks": ""
            },
            "colorscale": [
             [
              0,
              "#0d0887"
             ],
             [
              0.1111111111111111,
              "#46039f"
             ],
             [
              0.2222222222222222,
              "#7201a8"
             ],
             [
              0.3333333333333333,
              "#9c179e"
             ],
             [
              0.4444444444444444,
              "#bd3786"
             ],
             [
              0.5555555555555556,
              "#d8576b"
             ],
             [
              0.6666666666666666,
              "#ed7953"
             ],
             [
              0.7777777777777778,
              "#fb9f3a"
             ],
             [
              0.8888888888888888,
              "#fdca26"
             ],
             [
              1,
              "#f0f921"
             ]
            ],
            "type": "contour"
           }
          ],
          "contourcarpet": [
           {
            "colorbar": {
             "outlinewidth": 0,
             "ticks": ""
            },
            "type": "contourcarpet"
           }
          ],
          "heatmap": [
           {
            "colorbar": {
             "outlinewidth": 0,
             "ticks": ""
            },
            "colorscale": [
             [
              0,
              "#0d0887"
             ],
             [
              0.1111111111111111,
              "#46039f"
             ],
             [
              0.2222222222222222,
              "#7201a8"
             ],
             [
              0.3333333333333333,
              "#9c179e"
             ],
             [
              0.4444444444444444,
              "#bd3786"
             ],
             [
              0.5555555555555556,
              "#d8576b"
             ],
             [
              0.6666666666666666,
              "#ed7953"
             ],
             [
              0.7777777777777778,
              "#fb9f3a"
             ],
             [
              0.8888888888888888,
              "#fdca26"
             ],
             [
              1,
              "#f0f921"
             ]
            ],
            "type": "heatmap"
           }
          ],
          "heatmapgl": [
           {
            "colorbar": {
             "outlinewidth": 0,
             "ticks": ""
            },
            "colorscale": [
             [
              0,
              "#0d0887"
             ],
             [
              0.1111111111111111,
              "#46039f"
             ],
             [
              0.2222222222222222,
              "#7201a8"
             ],
             [
              0.3333333333333333,
              "#9c179e"
             ],
             [
              0.4444444444444444,
              "#bd3786"
             ],
             [
              0.5555555555555556,
              "#d8576b"
             ],
             [
              0.6666666666666666,
              "#ed7953"
             ],
             [
              0.7777777777777778,
              "#fb9f3a"
             ],
             [
              0.8888888888888888,
              "#fdca26"
             ],
             [
              1,
              "#f0f921"
             ]
            ],
            "type": "heatmapgl"
           }
          ],
          "histogram": [
           {
            "marker": {
             "pattern": {
              "fillmode": "overlay",
              "size": 10,
              "solidity": 0.2
             }
            },
            "type": "histogram"
           }
          ],
          "histogram2d": [
           {
            "colorbar": {
             "outlinewidth": 0,
             "ticks": ""
            },
            "colorscale": [
             [
              0,
              "#0d0887"
             ],
             [
              0.1111111111111111,
              "#46039f"
             ],
             [
              0.2222222222222222,
              "#7201a8"
             ],
             [
              0.3333333333333333,
              "#9c179e"
             ],
             [
              0.4444444444444444,
              "#bd3786"
             ],
             [
              0.5555555555555556,
              "#d8576b"
             ],
             [
              0.6666666666666666,
              "#ed7953"
             ],
             [
              0.7777777777777778,
              "#fb9f3a"
             ],
             [
              0.8888888888888888,
              "#fdca26"
             ],
             [
              1,
              "#f0f921"
             ]
            ],
            "type": "histogram2d"
           }
          ],
          "histogram2dcontour": [
           {
            "colorbar": {
             "outlinewidth": 0,
             "ticks": ""
            },
            "colorscale": [
             [
              0,
              "#0d0887"
             ],
             [
              0.1111111111111111,
              "#46039f"
             ],
             [
              0.2222222222222222,
              "#7201a8"
             ],
             [
              0.3333333333333333,
              "#9c179e"
             ],
             [
              0.4444444444444444,
              "#bd3786"
             ],
             [
              0.5555555555555556,
              "#d8576b"
             ],
             [
              0.6666666666666666,
              "#ed7953"
             ],
             [
              0.7777777777777778,
              "#fb9f3a"
             ],
             [
              0.8888888888888888,
              "#fdca26"
             ],
             [
              1,
              "#f0f921"
             ]
            ],
            "type": "histogram2dcontour"
           }
          ],
          "mesh3d": [
           {
            "colorbar": {
             "outlinewidth": 0,
             "ticks": ""
            },
            "type": "mesh3d"
           }
          ],
          "parcoords": [
           {
            "line": {
             "colorbar": {
              "outlinewidth": 0,
              "ticks": ""
             }
            },
            "type": "parcoords"
           }
          ],
          "pie": [
           {
            "automargin": true,
            "type": "pie"
           }
          ],
          "scatter": [
           {
            "marker": {
             "colorbar": {
              "outlinewidth": 0,
              "ticks": ""
             }
            },
            "type": "scatter"
           }
          ],
          "scatter3d": [
           {
            "line": {
             "colorbar": {
              "outlinewidth": 0,
              "ticks": ""
             }
            },
            "marker": {
             "colorbar": {
              "outlinewidth": 0,
              "ticks": ""
             }
            },
            "type": "scatter3d"
           }
          ],
          "scattercarpet": [
           {
            "marker": {
             "colorbar": {
              "outlinewidth": 0,
              "ticks": ""
             }
            },
            "type": "scattercarpet"
           }
          ],
          "scattergeo": [
           {
            "marker": {
             "colorbar": {
              "outlinewidth": 0,
              "ticks": ""
             }
            },
            "type": "scattergeo"
           }
          ],
          "scattergl": [
           {
            "marker": {
             "colorbar": {
              "outlinewidth": 0,
              "ticks": ""
             }
            },
            "type": "scattergl"
           }
          ],
          "scattermapbox": [
           {
            "marker": {
             "colorbar": {
              "outlinewidth": 0,
              "ticks": ""
             }
            },
            "type": "scattermapbox"
           }
          ],
          "scatterpolar": [
           {
            "marker": {
             "colorbar": {
              "outlinewidth": 0,
              "ticks": ""
             }
            },
            "type": "scatterpolar"
           }
          ],
          "scatterpolargl": [
           {
            "marker": {
             "colorbar": {
              "outlinewidth": 0,
              "ticks": ""
             }
            },
            "type": "scatterpolargl"
           }
          ],
          "scatterternary": [
           {
            "marker": {
             "colorbar": {
              "outlinewidth": 0,
              "ticks": ""
             }
            },
            "type": "scatterternary"
           }
          ],
          "surface": [
           {
            "colorbar": {
             "outlinewidth": 0,
             "ticks": ""
            },
            "colorscale": [
             [
              0,
              "#0d0887"
             ],
             [
              0.1111111111111111,
              "#46039f"
             ],
             [
              0.2222222222222222,
              "#7201a8"
             ],
             [
              0.3333333333333333,
              "#9c179e"
             ],
             [
              0.4444444444444444,
              "#bd3786"
             ],
             [
              0.5555555555555556,
              "#d8576b"
             ],
             [
              0.6666666666666666,
              "#ed7953"
             ],
             [
              0.7777777777777778,
              "#fb9f3a"
             ],
             [
              0.8888888888888888,
              "#fdca26"
             ],
             [
              1,
              "#f0f921"
             ]
            ],
            "type": "surface"
           }
          ],
          "table": [
           {
            "cells": {
             "fill": {
              "color": "#EBF0F8"
             },
             "line": {
              "color": "white"
             }
            },
            "header": {
             "fill": {
              "color": "#C8D4E3"
             },
             "line": {
              "color": "white"
             }
            },
            "type": "table"
           }
          ]
         },
         "layout": {
          "annotationdefaults": {
           "arrowcolor": "#2a3f5f",
           "arrowhead": 0,
           "arrowwidth": 1
          },
          "autotypenumbers": "strict",
          "coloraxis": {
           "colorbar": {
            "outlinewidth": 0,
            "ticks": ""
           }
          },
          "colorscale": {
           "diverging": [
            [
             0,
             "#8e0152"
            ],
            [
             0.1,
             "#c51b7d"
            ],
            [
             0.2,
             "#de77ae"
            ],
            [
             0.3,
             "#f1b6da"
            ],
            [
             0.4,
             "#fde0ef"
            ],
            [
             0.5,
             "#f7f7f7"
            ],
            [
             0.6,
             "#e6f5d0"
            ],
            [
             0.7,
             "#b8e186"
            ],
            [
             0.8,
             "#7fbc41"
            ],
            [
             0.9,
             "#4d9221"
            ],
            [
             1,
             "#276419"
            ]
           ],
           "sequential": [
            [
             0,
             "#0d0887"
            ],
            [
             0.1111111111111111,
             "#46039f"
            ],
            [
             0.2222222222222222,
             "#7201a8"
            ],
            [
             0.3333333333333333,
             "#9c179e"
            ],
            [
             0.4444444444444444,
             "#bd3786"
            ],
            [
             0.5555555555555556,
             "#d8576b"
            ],
            [
             0.6666666666666666,
             "#ed7953"
            ],
            [
             0.7777777777777778,
             "#fb9f3a"
            ],
            [
             0.8888888888888888,
             "#fdca26"
            ],
            [
             1,
             "#f0f921"
            ]
           ],
           "sequentialminus": [
            [
             0,
             "#0d0887"
            ],
            [
             0.1111111111111111,
             "#46039f"
            ],
            [
             0.2222222222222222,
             "#7201a8"
            ],
            [
             0.3333333333333333,
             "#9c179e"
            ],
            [
             0.4444444444444444,
             "#bd3786"
            ],
            [
             0.5555555555555556,
             "#d8576b"
            ],
            [
             0.6666666666666666,
             "#ed7953"
            ],
            [
             0.7777777777777778,
             "#fb9f3a"
            ],
            [
             0.8888888888888888,
             "#fdca26"
            ],
            [
             1,
             "#f0f921"
            ]
           ]
          },
          "colorway": [
           "#636efa",
           "#EF553B",
           "#00cc96",
           "#ab63fa",
           "#FFA15A",
           "#19d3f3",
           "#FF6692",
           "#B6E880",
           "#FF97FF",
           "#FECB52"
          ],
          "font": {
           "color": "#2a3f5f"
          },
          "geo": {
           "bgcolor": "white",
           "lakecolor": "white",
           "landcolor": "#E5ECF6",
           "showlakes": true,
           "showland": true,
           "subunitcolor": "white"
          },
          "hoverlabel": {
           "align": "left"
          },
          "hovermode": "closest",
          "mapbox": {
           "style": "light"
          },
          "paper_bgcolor": "white",
          "plot_bgcolor": "#E5ECF6",
          "polar": {
           "angularaxis": {
            "gridcolor": "white",
            "linecolor": "white",
            "ticks": ""
           },
           "bgcolor": "#E5ECF6",
           "radialaxis": {
            "gridcolor": "white",
            "linecolor": "white",
            "ticks": ""
           }
          },
          "scene": {
           "xaxis": {
            "backgroundcolor": "#E5ECF6",
            "gridcolor": "white",
            "gridwidth": 2,
            "linecolor": "white",
            "showbackground": true,
            "ticks": "",
            "zerolinecolor": "white"
           },
           "yaxis": {
            "backgroundcolor": "#E5ECF6",
            "gridcolor": "white",
            "gridwidth": 2,
            "linecolor": "white",
            "showbackground": true,
            "ticks": "",
            "zerolinecolor": "white"
           },
           "zaxis": {
            "backgroundcolor": "#E5ECF6",
            "gridcolor": "white",
            "gridwidth": 2,
            "linecolor": "white",
            "showbackground": true,
            "ticks": "",
            "zerolinecolor": "white"
           }
          },
          "shapedefaults": {
           "line": {
            "color": "#2a3f5f"
           }
          },
          "ternary": {
           "aaxis": {
            "gridcolor": "white",
            "linecolor": "white",
            "ticks": ""
           },
           "baxis": {
            "gridcolor": "white",
            "linecolor": "white",
            "ticks": ""
           },
           "bgcolor": "#E5ECF6",
           "caxis": {
            "gridcolor": "white",
            "linecolor": "white",
            "ticks": ""
           }
          },
          "title": {
           "x": 0.05
          },
          "xaxis": {
           "automargin": true,
           "gridcolor": "white",
           "linecolor": "white",
           "ticks": "",
           "title": {
            "standoff": 15
           },
           "zerolinecolor": "white",
           "zerolinewidth": 2
          },
          "yaxis": {
           "automargin": true,
           "gridcolor": "white",
           "linecolor": "white",
           "ticks": "",
           "title": {
            "standoff": 15
           },
           "zerolinecolor": "white",
           "zerolinewidth": 2
          }
         }
        },
        "title": {
         "text": "Differences between Users activity"
        },
        "xaxis": {
         "title": {
          "text": "Kind of activity"
         }
        },
        "yaxis": {
         "title": {
          "text": "Percentage of activity"
         }
        }
       }
      },
      "text/html": [
       "<div>                            <div id=\"83de4aed-7411-4bdc-928f-a2a78f443a96\" class=\"plotly-graph-div\" style=\"height:525px; width:100%;\"></div>            <script type=\"text/javascript\">                require([\"plotly\"], function(Plotly) {                    window.PLOTLYENV=window.PLOTLYENV || {};                                    if (document.getElementById(\"83de4aed-7411-4bdc-928f-a2a78f443a96\")) {                    Plotly.newPlot(                        \"83de4aed-7411-4bdc-928f-a2a78f443a96\",                        [{\"histfunc\":\"sum\",\"name\":\"Bad\",\"type\":\"histogram\",\"x\":[\"Original\",\"Retweet\",\"Reply\",\"Quote\"],\"y\":[0.706456495641735,0.1479200375802495,0.0846599509368965,0.06096351584111906]},{\"histfunc\":\"sum\",\"name\":\"Good\",\"type\":\"histogram\",\"x\":[\"Original\",\"Retweet\",\"Reply\",\"Quote\"],\"y\":[0.19485895421006366,0.3825191124370688,0.31082549745611465,0.11179643589675288]},{\"histfunc\":\"sum\",\"name\":\"Human\",\"type\":\"histogram\",\"x\":[\"Original\",\"Retweet\",\"Reply\",\"Quote\"],\"y\":[0.11358192104850755,0.6333837587511554,0.13186300064284412,0.12117131955749297]},{\"histfunc\":\"sum\",\"name\":\"Bot\",\"type\":\"histogram\",\"x\":[\"Original\",\"Retweet\",\"Reply\",\"Quote\"],\"y\":[0.4249325446314288,0.526448938578995,0.02895755274250051,0.02071643008803764]},{\"histfunc\":\"sum\",\"name\":\"Suspended\",\"type\":\"histogram\",\"x\":[\"Original\",\"Retweet\",\"Reply\",\"Quote\"],\"y\":[0.2509378651524159,0.5754084582111888,0.09503700211147784,0.07861667452491748]}],                        {\"legend\":{\"title\":{\"text\":\"Legend\"}},\"template\":{\"data\":{\"bar\":[{\"error_x\":{\"color\":\"#2a3f5f\"},\"error_y\":{\"color\":\"#2a3f5f\"},\"marker\":{\"line\":{\"color\":\"#E5ECF6\",\"width\":0.5},\"pattern\":{\"fillmode\":\"overlay\",\"size\":10,\"solidity\":0.2}},\"type\":\"bar\"}],\"barpolar\":[{\"marker\":{\"line\":{\"color\":\"#E5ECF6\",\"width\":0.5},\"pattern\":{\"fillmode\":\"overlay\",\"size\":10,\"solidity\":0.2}},\"type\":\"barpolar\"}],\"carpet\":[{\"aaxis\":{\"endlinecolor\":\"#2a3f5f\",\"gridcolor\":\"white\",\"linecolor\":\"white\",\"minorgridcolor\":\"white\",\"startlinecolor\":\"#2a3f5f\"},\"baxis\":{\"endlinecolor\":\"#2a3f5f\",\"gridcolor\":\"white\",\"linecolor\":\"white\",\"minorgridcolor\":\"white\",\"startlinecolor\":\"#2a3f5f\"},\"type\":\"carpet\"}],\"choropleth\":[{\"colorbar\":{\"outlinewidth\":0,\"ticks\":\"\"},\"type\":\"choropleth\"}],\"contour\":[{\"colorbar\":{\"outlinewidth\":0,\"ticks\":\"\"},\"colorscale\":[[0.0,\"#0d0887\"],[0.1111111111111111,\"#46039f\"],[0.2222222222222222,\"#7201a8\"],[0.3333333333333333,\"#9c179e\"],[0.4444444444444444,\"#bd3786\"],[0.5555555555555556,\"#d8576b\"],[0.6666666666666666,\"#ed7953\"],[0.7777777777777778,\"#fb9f3a\"],[0.8888888888888888,\"#fdca26\"],[1.0,\"#f0f921\"]],\"type\":\"contour\"}],\"contourcarpet\":[{\"colorbar\":{\"outlinewidth\":0,\"ticks\":\"\"},\"type\":\"contourcarpet\"}],\"heatmap\":[{\"colorbar\":{\"outlinewidth\":0,\"ticks\":\"\"},\"colorscale\":[[0.0,\"#0d0887\"],[0.1111111111111111,\"#46039f\"],[0.2222222222222222,\"#7201a8\"],[0.3333333333333333,\"#9c179e\"],[0.4444444444444444,\"#bd3786\"],[0.5555555555555556,\"#d8576b\"],[0.6666666666666666,\"#ed7953\"],[0.7777777777777778,\"#fb9f3a\"],[0.8888888888888888,\"#fdca26\"],[1.0,\"#f0f921\"]],\"type\":\"heatmap\"}],\"heatmapgl\":[{\"colorbar\":{\"outlinewidth\":0,\"ticks\":\"\"},\"colorscale\":[[0.0,\"#0d0887\"],[0.1111111111111111,\"#46039f\"],[0.2222222222222222,\"#7201a8\"],[0.3333333333333333,\"#9c179e\"],[0.4444444444444444,\"#bd3786\"],[0.5555555555555556,\"#d8576b\"],[0.6666666666666666,\"#ed7953\"],[0.7777777777777778,\"#fb9f3a\"],[0.8888888888888888,\"#fdca26\"],[1.0,\"#f0f921\"]],\"type\":\"heatmapgl\"}],\"histogram\":[{\"marker\":{\"pattern\":{\"fillmode\":\"overlay\",\"size\":10,\"solidity\":0.2}},\"type\":\"histogram\"}],\"histogram2d\":[{\"colorbar\":{\"outlinewidth\":0,\"ticks\":\"\"},\"colorscale\":[[0.0,\"#0d0887\"],[0.1111111111111111,\"#46039f\"],[0.2222222222222222,\"#7201a8\"],[0.3333333333333333,\"#9c179e\"],[0.4444444444444444,\"#bd3786\"],[0.5555555555555556,\"#d8576b\"],[0.6666666666666666,\"#ed7953\"],[0.7777777777777778,\"#fb9f3a\"],[0.8888888888888888,\"#fdca26\"],[1.0,\"#f0f921\"]],\"type\":\"histogram2d\"}],\"histogram2dcontour\":[{\"colorbar\":{\"outlinewidth\":0,\"ticks\":\"\"},\"colorscale\":[[0.0,\"#0d0887\"],[0.1111111111111111,\"#46039f\"],[0.2222222222222222,\"#7201a8\"],[0.3333333333333333,\"#9c179e\"],[0.4444444444444444,\"#bd3786\"],[0.5555555555555556,\"#d8576b\"],[0.6666666666666666,\"#ed7953\"],[0.7777777777777778,\"#fb9f3a\"],[0.8888888888888888,\"#fdca26\"],[1.0,\"#f0f921\"]],\"type\":\"histogram2dcontour\"}],\"mesh3d\":[{\"colorbar\":{\"outlinewidth\":0,\"ticks\":\"\"},\"type\":\"mesh3d\"}],\"parcoords\":[{\"line\":{\"colorbar\":{\"outlinewidth\":0,\"ticks\":\"\"}},\"type\":\"parcoords\"}],\"pie\":[{\"automargin\":true,\"type\":\"pie\"}],\"scatter\":[{\"marker\":{\"colorbar\":{\"outlinewidth\":0,\"ticks\":\"\"}},\"type\":\"scatter\"}],\"scatter3d\":[{\"line\":{\"colorbar\":{\"outlinewidth\":0,\"ticks\":\"\"}},\"marker\":{\"colorbar\":{\"outlinewidth\":0,\"ticks\":\"\"}},\"type\":\"scatter3d\"}],\"scattercarpet\":[{\"marker\":{\"colorbar\":{\"outlinewidth\":0,\"ticks\":\"\"}},\"type\":\"scattercarpet\"}],\"scattergeo\":[{\"marker\":{\"colorbar\":{\"outlinewidth\":0,\"ticks\":\"\"}},\"type\":\"scattergeo\"}],\"scattergl\":[{\"marker\":{\"colorbar\":{\"outlinewidth\":0,\"ticks\":\"\"}},\"type\":\"scattergl\"}],\"scattermapbox\":[{\"marker\":{\"colorbar\":{\"outlinewidth\":0,\"ticks\":\"\"}},\"type\":\"scattermapbox\"}],\"scatterpolar\":[{\"marker\":{\"colorbar\":{\"outlinewidth\":0,\"ticks\":\"\"}},\"type\":\"scatterpolar\"}],\"scatterpolargl\":[{\"marker\":{\"colorbar\":{\"outlinewidth\":0,\"ticks\":\"\"}},\"type\":\"scatterpolargl\"}],\"scatterternary\":[{\"marker\":{\"colorbar\":{\"outlinewidth\":0,\"ticks\":\"\"}},\"type\":\"scatterternary\"}],\"surface\":[{\"colorbar\":{\"outlinewidth\":0,\"ticks\":\"\"},\"colorscale\":[[0.0,\"#0d0887\"],[0.1111111111111111,\"#46039f\"],[0.2222222222222222,\"#7201a8\"],[0.3333333333333333,\"#9c179e\"],[0.4444444444444444,\"#bd3786\"],[0.5555555555555556,\"#d8576b\"],[0.6666666666666666,\"#ed7953\"],[0.7777777777777778,\"#fb9f3a\"],[0.8888888888888888,\"#fdca26\"],[1.0,\"#f0f921\"]],\"type\":\"surface\"}],\"table\":[{\"cells\":{\"fill\":{\"color\":\"#EBF0F8\"},\"line\":{\"color\":\"white\"}},\"header\":{\"fill\":{\"color\":\"#C8D4E3\"},\"line\":{\"color\":\"white\"}},\"type\":\"table\"}]},\"layout\":{\"annotationdefaults\":{\"arrowcolor\":\"#2a3f5f\",\"arrowhead\":0,\"arrowwidth\":1},\"autotypenumbers\":\"strict\",\"coloraxis\":{\"colorbar\":{\"outlinewidth\":0,\"ticks\":\"\"}},\"colorscale\":{\"diverging\":[[0,\"#8e0152\"],[0.1,\"#c51b7d\"],[0.2,\"#de77ae\"],[0.3,\"#f1b6da\"],[0.4,\"#fde0ef\"],[0.5,\"#f7f7f7\"],[0.6,\"#e6f5d0\"],[0.7,\"#b8e186\"],[0.8,\"#7fbc41\"],[0.9,\"#4d9221\"],[1,\"#276419\"]],\"sequential\":[[0.0,\"#0d0887\"],[0.1111111111111111,\"#46039f\"],[0.2222222222222222,\"#7201a8\"],[0.3333333333333333,\"#9c179e\"],[0.4444444444444444,\"#bd3786\"],[0.5555555555555556,\"#d8576b\"],[0.6666666666666666,\"#ed7953\"],[0.7777777777777778,\"#fb9f3a\"],[0.8888888888888888,\"#fdca26\"],[1.0,\"#f0f921\"]],\"sequentialminus\":[[0.0,\"#0d0887\"],[0.1111111111111111,\"#46039f\"],[0.2222222222222222,\"#7201a8\"],[0.3333333333333333,\"#9c179e\"],[0.4444444444444444,\"#bd3786\"],[0.5555555555555556,\"#d8576b\"],[0.6666666666666666,\"#ed7953\"],[0.7777777777777778,\"#fb9f3a\"],[0.8888888888888888,\"#fdca26\"],[1.0,\"#f0f921\"]]},\"colorway\":[\"#636efa\",\"#EF553B\",\"#00cc96\",\"#ab63fa\",\"#FFA15A\",\"#19d3f3\",\"#FF6692\",\"#B6E880\",\"#FF97FF\",\"#FECB52\"],\"font\":{\"color\":\"#2a3f5f\"},\"geo\":{\"bgcolor\":\"white\",\"lakecolor\":\"white\",\"landcolor\":\"#E5ECF6\",\"showlakes\":true,\"showland\":true,\"subunitcolor\":\"white\"},\"hoverlabel\":{\"align\":\"left\"},\"hovermode\":\"closest\",\"mapbox\":{\"style\":\"light\"},\"paper_bgcolor\":\"white\",\"plot_bgcolor\":\"#E5ECF6\",\"polar\":{\"angularaxis\":{\"gridcolor\":\"white\",\"linecolor\":\"white\",\"ticks\":\"\"},\"bgcolor\":\"#E5ECF6\",\"radialaxis\":{\"gridcolor\":\"white\",\"linecolor\":\"white\",\"ticks\":\"\"}},\"scene\":{\"xaxis\":{\"backgroundcolor\":\"#E5ECF6\",\"gridcolor\":\"white\",\"gridwidth\":2,\"linecolor\":\"white\",\"showbackground\":true,\"ticks\":\"\",\"zerolinecolor\":\"white\"},\"yaxis\":{\"backgroundcolor\":\"#E5ECF6\",\"gridcolor\":\"white\",\"gridwidth\":2,\"linecolor\":\"white\",\"showbackground\":true,\"ticks\":\"\",\"zerolinecolor\":\"white\"},\"zaxis\":{\"backgroundcolor\":\"#E5ECF6\",\"gridcolor\":\"white\",\"gridwidth\":2,\"linecolor\":\"white\",\"showbackground\":true,\"ticks\":\"\",\"zerolinecolor\":\"white\"}},\"shapedefaults\":{\"line\":{\"color\":\"#2a3f5f\"}},\"ternary\":{\"aaxis\":{\"gridcolor\":\"white\",\"linecolor\":\"white\",\"ticks\":\"\"},\"baxis\":{\"gridcolor\":\"white\",\"linecolor\":\"white\",\"ticks\":\"\"},\"bgcolor\":\"#E5ECF6\",\"caxis\":{\"gridcolor\":\"white\",\"linecolor\":\"white\",\"ticks\":\"\"}},\"title\":{\"x\":0.05},\"xaxis\":{\"automargin\":true,\"gridcolor\":\"white\",\"linecolor\":\"white\",\"ticks\":\"\",\"title\":{\"standoff\":15},\"zerolinecolor\":\"white\",\"zerolinewidth\":2},\"yaxis\":{\"automargin\":true,\"gridcolor\":\"white\",\"linecolor\":\"white\",\"ticks\":\"\",\"title\":{\"standoff\":15},\"zerolinecolor\":\"white\",\"zerolinewidth\":2}}},\"title\":{\"text\":\"Differences between Users activity\"},\"xaxis\":{\"title\":{\"text\":\"Kind of activity\"}},\"yaxis\":{\"title\":{\"text\":\"Percentage of activity\"}}},                        {\"responsive\": true}                    ).then(function(){\n",
       "                            \n",
       "var gd = document.getElementById('83de4aed-7411-4bdc-928f-a2a78f443a96');\n",
       "var x = new MutationObserver(function (mutations, observer) {{\n",
       "        var display = window.getComputedStyle(gd).display;\n",
       "        if (!display || display === 'none') {{\n",
       "            console.log([gd, 'removed!']);\n",
       "            Plotly.purge(gd);\n",
       "            observer.disconnect();\n",
       "        }}\n",
       "}});\n",
       "\n",
       "// Listen for the removal of the full notebook cells\n",
       "var notebookContainer = gd.closest('#notebook-container');\n",
       "if (notebookContainer) {{\n",
       "    x.observe(notebookContainer, {childList: true});\n",
       "}}\n",
       "\n",
       "// Listen for the clearing of the current output cell\n",
       "var outputEl = gd.closest('.output');\n",
       "if (outputEl) {{\n",
       "    x.observe(outputEl, {childList: true});\n",
       "}}\n",
       "\n",
       "                        })                };                });            </script>        </div>"
      ]
     },
     "metadata": {},
     "output_type": "display_data"
    }
   ],
   "source": [
    "labels = [\"Original\", \"Retweet\", \"Reply\", \"Quote\"]\n",
    "\n",
    "fig = go.Figure()\n",
    "fig.add_trace(go.Histogram(histfunc=\"sum\", y=bad_values, x=labels, name=\"Bad\"))\n",
    "fig.add_trace(go.Histogram(histfunc=\"sum\", y=good_values, x=labels, name=\"Good\"))\n",
    "fig.add_trace(go.Histogram(histfunc=\"sum\", y=human_values, x=labels, name=\"Human\"))\n",
    "fig.add_trace(go.Histogram(histfunc=\"sum\", y=bot_values, x=labels, name=\"Bot\"))\n",
    "fig.add_trace(go.Histogram(histfunc=\"sum\", y=susp_values, x=labels, name=\"Suspended\"))\n",
    "\n",
    "fig.update_layout(\n",
    "    title=\"Differences between Users activity\",\n",
    "    xaxis_title=\"Kind of activity\",\n",
    "    yaxis_title=\"Percentage of activity\",\n",
    "    legend_title=\"Legend\")\n",
    "fig.show()"
   ]
  },
  {
   "cell_type": "code",
   "execution_count": 2,
   "metadata": {},
   "outputs": [],
   "source": [
    "files_tweets = glob.glob(\"F:/Supsi/COVID-19-Tweets/*/tweets.csv\")\n",
    "files_users = glob.glob(\"F:/Supsi/COVID-19-Tweets/*/users.csv\")"
   ]
  },
  {
   "cell_type": "markdown",
   "metadata": {},
   "source": [
    "## Manage data"
   ]
  },
  {
   "cell_type": "markdown",
   "metadata": {},
   "source": [
    "## Get info"
   ]
  },
  {
   "cell_type": "code",
   "execution_count": 3,
   "metadata": {},
   "outputs": [],
   "source": [
    "cols_tweets = ['user_screen_name', \"rt_user_screen_name\", \"rt_created_at\"]\n",
    "#     u'user_screen_name', \n",
    "#         u'rt_user_screen_name', u'rt_user_id', \n",
    "#         u'in_reply_to_screen_name', u'in_reply_to_user_id',\n",
    "#         u'rt_created_at', u'in_reply_to_status_id'] \n",
    "\n",
    "cols_users = [u'id'] "
   ]
  },
  {
   "cell_type": "code",
   "execution_count": null,
   "metadata": {},
   "outputs": [],
   "source": [
    "def write_file(filename, serie_id, serie_user):\n",
    "    filename = filename + \".csv\"\n",
    "    with open(filename, 'w', newline='') as file:\n",
    "        writer = csv.writer(file)\n",
    "        writer.writerow([\"id\", \"screen_name\"])\n",
    "        for i in range(len(serie_id)):\n",
    "            writer.writerow([serie_id.keys()[i], serie_user.keys()[i]])"
   ]
  },
  {
   "cell_type": "code",
   "execution_count": null,
   "metadata": {},
   "outputs": [],
   "source": [
    "def list_series(list_id, flag):\n",
    "    if(flag == True):\n",
    "        for i in range(len(list_id)):\n",
    "                list_id[i] = str(int(list_id[i]))\n",
    "    list_id = pd.Series(list_id).value_counts().sort_values(ascending=False)[:int(2e4)]\n",
    "    return list_id"
   ]
  },
  {
   "cell_type": "code",
   "execution_count": null,
   "metadata": {},
   "outputs": [],
   "source": [
    "# def id_user(user, u_id=u_id):\n",
    "#     for i in range(len(u_id)):\n",
    "#         if(user == u_id[i][1]):\n",
    "#             return u_id[i][0]\n",
    "#     return -1"
   ]
  },
  {
   "cell_type": "code",
   "execution_count": null,
   "metadata": {},
   "outputs": [],
   "source": [
    "# def check_verified(user, u_id=u_id):\n",
    "#     for i in range(len(u_id)):\n",
    "#         if(user == u_id[i][1]):\n",
    "#             if(u_id[i][2] == True):\n",
    "#                 return True\n",
    "#     return False"
   ]
  },
  {
   "cell_type": "code",
   "execution_count": 4,
   "metadata": {},
   "outputs": [],
   "source": [
    "# result = []\n",
    "# importlib.reload(tweets_utils)\n",
    "# start_time = time.perf_counter()\n",
    "# j = 0\n",
    "# df = pd.DataFrame()\n",
    "# for filename in files_users:\n",
    "#     print(f\"Reading file: {filename}\")\n",
    "#     result.extend(tweets_utils.process_all_data(filename, cols_users, False))\n",
    "#     lista = result[j]\n",
    "#     j = j + 1\n",
    "#     print(f\"Mese numero {j}\")\n",
    "#     for i in range(len(lista)):\n",
    "#         df = df.append(lista[i][\"df\"])\n",
    "#         df = df.drop_duplicates(subset=[\"id\"])\n",
    "# stop_time = time.perf_counter()\n",
    "# print(\"Time: \",stop_time-start_time)"
   ]
  },
  {
   "cell_type": "code",
   "execution_count": 14,
   "metadata": {},
   "outputs": [],
   "source": [
    "good = pd.read_csv(\"C:/Users/gianl/Desktop/Gi/Supsi/BachelorProject/csv/all_good_users.csv\",\n",
    "                  lineterminator=\"\\n\")\n",
    "lst = list(good[\"screen_name\"])"
   ]
  },
  {
   "cell_type": "code",
   "execution_count": 15,
   "metadata": {},
   "outputs": [
    {
     "name": "stdout",
     "output_type": "stream",
     "text": [
      "Process  F:/Supsi/COVID-19-Tweets\\2020-01\\tweets.csv\n"
     ]
    },
    {
     "data": {
      "application/vnd.jupyter.widget-view+json": {
       "model_id": "2b4a240371f041fead8bbb08425eda5d",
       "version_major": 2,
       "version_minor": 0
      },
      "text/plain": [
       "0it [00:00, ?it/s]"
      ]
     },
     "metadata": {},
     "output_type": "display_data"
    },
    {
     "name": "stdout",
     "output_type": "stream",
     "text": [
      "Process  F:/Supsi/COVID-19-Tweets\\2020-02\\tweets.csv\n"
     ]
    },
    {
     "data": {
      "application/vnd.jupyter.widget-view+json": {
       "model_id": "1395af63bf48418b80f586136fd857b6",
       "version_major": 2,
       "version_minor": 0
      },
      "text/plain": [
       "0it [00:00, ?it/s]"
      ]
     },
     "metadata": {},
     "output_type": "display_data"
    },
    {
     "name": "stdout",
     "output_type": "stream",
     "text": [
      "Process  F:/Supsi/COVID-19-Tweets\\2020-03\\tweets.csv\n"
     ]
    },
    {
     "data": {
      "application/vnd.jupyter.widget-view+json": {
       "model_id": "dc0f03e469794a03aec07bb541383071",
       "version_major": 2,
       "version_minor": 0
      },
      "text/plain": [
       "0it [00:00, ?it/s]"
      ]
     },
     "metadata": {},
     "output_type": "display_data"
    },
    {
     "name": "stdout",
     "output_type": "stream",
     "text": [
      "Process  F:/Supsi/COVID-19-Tweets\\2020-04\\tweets.csv\n"
     ]
    },
    {
     "data": {
      "application/vnd.jupyter.widget-view+json": {
       "model_id": "25a98914af564522aab81602aed227b8",
       "version_major": 2,
       "version_minor": 0
      },
      "text/plain": [
       "0it [00:00, ?it/s]"
      ]
     },
     "metadata": {},
     "output_type": "display_data"
    },
    {
     "name": "stdout",
     "output_type": "stream",
     "text": [
      "Process  F:/Supsi/COVID-19-Tweets\\2020-05\\tweets.csv\n"
     ]
    },
    {
     "data": {
      "application/vnd.jupyter.widget-view+json": {
       "model_id": "8f6c8b876e6f46038b4a140d06e4ba37",
       "version_major": 2,
       "version_minor": 0
      },
      "text/plain": [
       "0it [00:00, ?it/s]"
      ]
     },
     "metadata": {},
     "output_type": "display_data"
    }
   ],
   "source": [
    "gen = pd.DataFrame()\n",
    "feb = pd.DataFrame()\n",
    "mar = pd.DataFrame()\n",
    "apr = pd.DataFrame()\n",
    "mag = pd.DataFrame()\n",
    "lista_df = [gen, feb, mar, apr, mag]\n",
    "from tqdm.notebook import tqdm\n",
    "cont = 0\n",
    "for filename in files_tweets:\n",
    "    print(\"Process \", filename)\n",
    "    for i in tqdm(pd.read_csv(filename, usecols=[\"created_at\", \"hashtags\"], lineterminator=\"\\n\",\n",
    "                        low_memory=False, chunksize=int(1e6))):\n",
    "        lista_df[cont] = lista_df[cont].append(i[i[\"hashtags\"]!=\"[]\"])\n",
    "    cont = cont + 1"
   ]
  },
  {
   "cell_type": "code",
   "execution_count": 24,
   "metadata": {},
   "outputs": [],
   "source": [
    "# lista_df = [gen, feb, mar, apr, mag]\n",
    "cont = 0\n",
    "lst = [\"gen\", \"feb\", \"mar\", \"apr\", \"mag\"]\n",
    "for i in lista_df:\n",
    "    path = f\"C:/Users/gianl/Desktop/Gi/Supsi/BachelorProject/csv/hashtags/{lst[cont]}.csv\"\n",
    "    cont = cont + 1\n",
    "    i.to_csv(path, line_terminator=\"\\n\", encoding=\"utf-8\", index=False)"
   ]
  },
  {
   "cell_type": "code",
   "execution_count": 25,
   "metadata": {},
   "outputs": [
    {
     "data": {
      "application/vnd.jupyter.widget-view+json": {
       "model_id": "c9f73c80d5764b39ad5c6005e5905136",
       "version_major": 2,
       "version_minor": 0
      },
      "text/plain": [
       "  0%|          | 0/5 [00:00<?, ?it/s]"
      ]
     },
     "metadata": {},
     "output_type": "display_data"
    }
   ],
   "source": [
    "path = glob.glob(\"F:/Supsi/COVID-19-Tweets/large_files/hashtags/*.csv\")\n",
    "lst = []\n",
    "for i in tqdm(path[:5]):\n",
    "    df = pd.read_csv(i, lineterminator=\"\\n\", low_memory=False)\n",
    "    hashtags = tweets_utils.hashtag_process(df)\n",
    "    val = pd.Series(hashtags).value_counts().sort_values(ascending=False)[:30]\n",
    "    lst.append(val)"
   ]
  },
  {
   "cell_type": "code",
   "execution_count": 26,
   "metadata": {},
   "outputs": [
    {
     "name": "stdout",
     "output_type": "stream",
     "text": [
      "Mese 0\n",
      "coronavirus            487888\n",
      "Wuhan                  108571\n",
      "China                   95856\n",
      "Coronavirus             94778\n",
      "WuhanCoronavirus        49314\n",
      "CoronavirusOutbreak     47165\n",
      "CoronaVirus             32198\n",
      "BREAKING                23863\n",
      "coronaravirus           18810\n",
      "CoronaOutbreak          18575\n",
      "2019nCoV                17921\n",
      "HongKong                16428\n",
      "coronarvirus            16333\n",
      "nCoV2019                14702\n",
      "โคโรน่าไวรัส            13954\n",
      "nCoV                    13516\n",
      "WuhanPneumonia          12884\n",
      "coronoavirus            12000\n",
      "wuhan                   11822\n",
      "coronovirus             10063\n",
      "coronarovirus            9494\n",
      "WuhanVirus               9335\n",
      "WuhanCoronovirus         9181\n",
      "china                    6741\n",
      "Taiwan                   5805\n",
      "ไวรัสโคโรนา              5728\n",
      "Chinese                  5050\n",
      "CCP                      4915\n",
      "SARS                     4482\n",
      "WuhanOutbreak            4313\n",
      "dtype: int64\n",
      "Mese 1\n",
      "coronavirus             926882\n",
      "Coronavirus             311606\n",
      "China                   203378\n",
      "COVID19                 192018\n",
      "Wuhan                   110330\n",
      "CoronaVirus              64156\n",
      "CoronavirusOutbreak      63821\n",
      "COVIDー19                 34895\n",
      "2019nCoV                 31598\n",
      "HongKong                 30147\n",
      "โควิด19                  28370\n",
      "WuhanCoronavirus         25980\n",
      "Iran                     25712\n",
      "BREAKING                 24984\n",
      "COVID2019                23732\n",
      "china                    22201\n",
      "Corona                   18639\n",
      "coronaviruschina         17990\n",
      "corona                   16385\n",
      "covid19                  15716\n",
      "CCP                      13958\n",
      "新型コロナウイルス                13379\n",
      "CORONAVIRUS              12729\n",
      "wuhan                    12589\n",
      "Chine                    12238\n",
      "ÚLTIMAHORA               11345\n",
      "Covid_19                 11332\n",
      "nCoV2019                 11254\n",
      "Chinese                  11155\n",
      "NoMeat_NoCoronaVirus     11004\n",
      "dtype: int64\n",
      "Mese 2\n",
      "coronavirus            849245\n",
      "COVID19                544694\n",
      "Coronavirus            284350\n",
      "COVIDー19               202404\n",
      "Covid_19                88586\n",
      "CoronaVirus             78145\n",
      "China                   62864\n",
      "covid19                 45512\n",
      "Covid19                 43967\n",
      "Corona                  38097\n",
      "CoronavirusOutbreak     37179\n",
      "COVID2019               35786\n",
      "COVID                   34720\n",
      "Iran                    32909\n",
      "BREAKING                28352\n",
      "corona                  23947\n",
      "CoronaVirusUpdate       22315\n",
      "CoronaOutbreak          22250\n",
      "โควิด19                 16756\n",
      "StayAtHome              16089\n",
      "Wuhan                   15357\n",
      "StayHome                15119\n",
      "Italy                   15104\n",
      "SocialDistancing        15092\n",
      "CoronaVirusUpdates      14678\n",
      "CoronaAlert             13712\n",
      "CORONAVIRUS             11771\n",
      "lockdown                11261\n",
      "CoronavirusPandemic     11106\n",
      "coronavirusindia        10790\n",
      "dtype: int64\n",
      "Mese 3\n",
      "COVID19                656485\n",
      "coronavirus            306584\n",
      "StayHome               145067\n",
      "Coronavirus            115491\n",
      "China                   97209\n",
      "Covid19                 97198\n",
      "covid19                 70710\n",
      "COVIDー19                70664\n",
      "stayhome                57314\n",
      "lockdown                54254\n",
      "Covid_19                48643\n",
      "StayAtHome              44163\n",
      "COVID                   42754\n",
      "Corona                  36857\n",
      "Lockdown                23158\n",
      "nnevvy                  22905\n",
      "SocialDistancing        22755\n",
      "CoronaVirus             20030\n",
      "COVID2019               19145\n",
      "IndiaFightsCorona       16570\n",
      "おうち時間                   15678\n",
      "corona                  15577\n",
      "うちで過ごそう                 15337\n",
      "STAYHOME                15305\n",
      "StaySafe                14276\n",
      "QuarantineLife          13957\n",
      "QuedateEnCasa           12475\n",
      "Trump                   12259\n",
      "DarkSelfieChallenge     12148\n",
      "covid                   11800\n",
      "dtype: int64\n",
      "Mese 4\n",
      "COVID19              1091623\n",
      "coronavirus           452227\n",
      "StayHome              224673\n",
      "Covid19               185211\n",
      "COVIDー19              168385\n",
      "Coronavirus           164596\n",
      "covid19               139755\n",
      "lockdown              106067\n",
      "stayhome               89824\n",
      "COVID                  89708\n",
      "Covid_19               75975\n",
      "Corona                 65815\n",
      "StayAtHome             45204\n",
      "Lockdown               44342\n",
      "うちで過ごそう                44038\n",
      "おうち時間                  32311\n",
      "China                  30541\n",
      "Covid                  30137\n",
      "CoronaVirus            28168\n",
      "corona                 26713\n",
      "pandemic               26542\n",
      "STAYHOME               25656\n",
      "covid                  25531\n",
      "IndiaFightsCorona      25525\n",
      "SocialDistancing       25477\n",
      "COVID__19              24082\n",
      "BREAKING               23568\n",
      "staysafe               20688\n",
      "StaySafe               19435\n",
      "QuedateEnCasa          18779\n",
      "dtype: int64\n"
     ]
    }
   ],
   "source": [
    "for i in range(len(lst)):\n",
    "    print(f\"Mese {i}\")\n",
    "    print(lst[i])"
   ]
  },
  {
   "cell_type": "code",
   "execution_count": 15,
   "metadata": {
    "scrolled": false
   },
   "outputs": [
    {
     "name": "stdout",
     "output_type": "stream",
     "text": [
      "Reading file: F:/Supsi/COVID-19-Tweets\\2020-01\\tweets.csv\n",
      "Processing chunk 1\n",
      "Processing chunk 2\n",
      "Processing chunk 3\n",
      "Processing chunk 4\n",
      "Processing chunk 5\n",
      "Mese numero 1\n",
      "24393\n",
      "Reading file: F:/Supsi/COVID-19-Tweets\\2020-02\\tweets.csv\n",
      "Processing chunk 1\n",
      "Processing chunk 2\n",
      "Processing chunk 3\n",
      "Processing chunk 4\n",
      "Processing chunk 5\n",
      "Processing chunk 6\n",
      "Processing chunk 7\n",
      "Processing chunk 8\n",
      "Processing chunk 9\n",
      "Processing chunk 10\n",
      "Processing chunk 11\n",
      "Processing chunk 12\n",
      "Mese numero 2\n",
      "90145\n",
      "Reading file: F:/Supsi/COVID-19-Tweets\\2020-03\\tweets.csv\n",
      "Processing chunk 1\n",
      "Processing chunk 2\n",
      "Processing chunk 3\n",
      "Processing chunk 4\n",
      "Processing chunk 5\n",
      "Processing chunk 6\n",
      "Processing chunk 7\n",
      "Processing chunk 8\n",
      "Processing chunk 9\n",
      "Processing chunk 10\n",
      "Processing chunk 11\n",
      "Processing chunk 12\n",
      "Processing chunk 13\n",
      "Processing chunk 14\n",
      "Processing chunk 15\n",
      "Mese numero 3\n",
      "198041\n",
      "Reading file: F:/Supsi/COVID-19-Tweets\\2020-04\\tweets.csv\n",
      "Processing chunk 1\n",
      "Processing chunk 2\n",
      "Processing chunk 3\n",
      "Processing chunk 4\n",
      "Processing chunk 5\n",
      "Processing chunk 6\n",
      "Processing chunk 7\n",
      "Processing chunk 8\n",
      "Processing chunk 9\n",
      "Processing chunk 10\n",
      "Processing chunk 11\n",
      "Processing chunk 12\n",
      "Processing chunk 13\n",
      "Mese numero 4\n",
      "252141\n",
      "Reading file: F:/Supsi/COVID-19-Tweets\\2020-05\\tweets.csv\n",
      "Processing chunk 1\n",
      "Processing chunk 2\n",
      "Processing chunk 3\n",
      "Processing chunk 4\n",
      "Processing chunk 5\n",
      "Processing chunk 6\n",
      "Processing chunk 7\n",
      "Processing chunk 8\n",
      "Processing chunk 9\n",
      "Processing chunk 10\n",
      "Processing chunk 11\n",
      "Processing chunk 12\n",
      "Processing chunk 13\n",
      "Processing chunk 14\n",
      "Processing chunk 15\n",
      "Processing chunk 16\n",
      "Processing chunk 17\n",
      "Processing chunk 18\n",
      "Processing chunk 19\n",
      "Processing chunk 20\n",
      "Processing chunk 21\n",
      "Processing chunk 22\n",
      "Processing chunk 23\n",
      "Processing chunk 24\n",
      "Mese numero 5\n",
      "400495\n",
      "Time:  1813.699485\n"
     ]
    }
   ],
   "source": [
    "result = []\n",
    "importlib.reload(tweets_utils)\n",
    "start_time = time.perf_counter()\n",
    "j = 0\n",
    "users = []\n",
    "for filename in files_tweets:\n",
    "    print(f\"Reading file: {filename}\")\n",
    "    result.extend(tweets_utils.process_all_data(filename, cols_tweets, True, lst))\n",
    "    lista = result[j]\n",
    "    j = j + 1\n",
    "    print(f\"Mese numero {j}\")\n",
    "    for i in range(len(lista)):\n",
    "        users.extend(lista[i][\"user\"])\n",
    "    print(len(users))\n",
    "#         users = list(set(users))\n",
    "stop_time = time.perf_counter()\n",
    "print(\"Time: \",stop_time-start_time)"
   ]
  },
  {
   "cell_type": "code",
   "execution_count": 21,
   "metadata": {},
   "outputs": [],
   "source": [
    "pd.DataFrame(users, columns=[\"screen_name\"]).to_csv(\"C:/Users/gianl/Desktop/Gi/rt_good.csv\", line_terminator=\"\\n\", encoding=\"utf-8\", index=False)"
   ]
  },
  {
   "cell_type": "markdown",
   "metadata": {},
   "source": [
    "### Process distribution"
   ]
  },
  {
   "cell_type": "code",
   "execution_count": 8,
   "metadata": {
    "scrolled": true
   },
   "outputs": [
    {
     "name": "stdout",
     "output_type": "stream",
     "text": [
      "process users_retweet\n",
      "process users_retweeted\n",
      "process users_original\n",
      "process users_reply\n",
      "process users_replied\n"
     ]
    }
   ],
   "source": [
    "print(\"process users_retweet\")\n",
    "users_retweet = pd.Series(users_retweet).value_counts().sort_values(ascending=False)[:int(2e4)]\n",
    "print(\"process users_retweeted\")\n",
    "users_retweeted = pd.Series(users_retweeted).value_counts().sort_values(ascending=False)[:int(2e4)]\n",
    "print(\"process users_original\")\n",
    "users_original = pd.Series(users_original).value_counts().sort_values(ascending=False)[:int(2e4)]\n",
    "print(\"process users_reply\")\n",
    "users_reply = pd.Series(users_reply).value_counts().sort_values(ascending=False)[:int(2e4)]\n",
    "print(\"process users_replied\")\n",
    "users_replied = pd.Series(users_replied).value_counts().sort_values(ascending=False)[:int(2e4)]\n"
   ]
  },
  {
   "cell_type": "code",
   "execution_count": 31,
   "metadata": {},
   "outputs": [],
   "source": [
    "lists = [users_retweet, users_retweeted, users_original, users_reply, users_replied]\n",
    "str_lists = [\"users_retweet\", \"users_retweeted\", \"users_original\", \"users_reply\", \"users_replied\"]"
   ]
  },
  {
   "cell_type": "code",
   "execution_count": 33,
   "metadata": {},
   "outputs": [],
   "source": [
    "for i in range(len(lists)):\n",
    "    names = list(lists[i].keys())\n",
    "    count = list(lists[i])\n",
    "    frame = { 'Name': names, 'Count': count}\n",
    "    df = pd.DataFrame(frame)\n",
    "    path = glob.glob(\"C:/Users/Gianluca/Desktop/Supsi/Git/BachelorProject/large_files/2k_tweets _count/\")\n",
    "    df.to_csv(path[0] + str_lists[i] + \".csv\", index=False)"
   ]
  },
  {
   "cell_type": "code",
   "execution_count": 61,
   "metadata": {},
   "outputs": [],
   "source": [
    "def visualize_distribution(df, string):\n",
    "    index = [10, 25, 50, 75, 90]\n",
    "    perc_numpy = [np.percentile(df[\"Count\"], i, interpolation='nearest') for i in index]\n",
    "    print(perc_numpy)\n",
    "    fig = px.histogram(df[\"Count\"], title=f\"Distribution of {string} tweets\")\n",
    "    fig.show()  "
   ]
  },
  {
   "cell_type": "code",
   "execution_count": 62,
   "metadata": {},
   "outputs": [],
   "source": [
    "def print_all_distributions():\n",
    "    df = pd.read_csv(path[0] + \"users_original.csv\")\n",
    "    visualize_distribution(df, \"original\")\n",
    "    print(\"--------------------------------------------------------------------------------------\")\n",
    "    df = pd.read_csv(path[0] + \"users_reply.csv\")\n",
    "    visualize_distribution(df, \"reply\")\n",
    "    print(\"--------------------------------------------------------------------------------------\")\n",
    "    df = pd.read_csv(path[0] + \"users_replied.csv\")\n",
    "    visualize_distribution(df, \"replied\")\n",
    "    print(\"--------------------------------------------------------------------------------------\")\n",
    "    df = pd.read_csv(path[0] + \"users_retweet.csv\")\n",
    "    visualize_distribution(df, \"retweet\")\n",
    "    print(\"--------------------------------------------------------------------------------------\")\n",
    "    df = pd.read_csv(path[0] + \"users_retweeted.csv\")\n",
    "    visualize_distribution(df, \"retweeted\")"
   ]
  },
  {
   "cell_type": "code",
   "execution_count": 64,
   "metadata": {
    "scrolled": false
   },
   "outputs": [],
   "source": [
    "print_all_distributions()"
   ]
  },
  {
   "cell_type": "markdown",
   "metadata": {},
   "source": [
    "## Writing files"
   ]
  },
  {
   "cell_type": "code",
   "execution_count": null,
   "metadata": {},
   "outputs": [],
   "source": [
    "ids_retweeted = list_series(ids_retweeted, True)\n",
    "users_retweeted = list_series(users_retweeted, False)\n",
    "write_file(\"prova_retweeted\", ids_retweeted, users_retweeted)\n",
    "del ids_retweeted\n",
    "del users_retweeted"
   ]
  },
  {
   "cell_type": "code",
   "execution_count": null,
   "metadata": {},
   "outputs": [],
   "source": [
    "ids_retweet = list_series(ids_retweet, True)\n",
    "users_retweet = list_series(users_retweet, False)\n",
    "write_file(\"prova_retweet\", ids_retweet, users_retweet)\n",
    "del ids_retweet\n",
    "del users_retweet"
   ]
  },
  {
   "cell_type": "code",
   "execution_count": null,
   "metadata": {},
   "outputs": [],
   "source": [
    "hasnan = lambda array: any(filter(math.isnan, ids_original))"
   ]
  },
  {
   "cell_type": "code",
   "execution_count": null,
   "metadata": {},
   "outputs": [],
   "source": [
    "hasnan4(ids_original)"
   ]
  },
  {
   "cell_type": "code",
   "execution_count": null,
   "metadata": {},
   "outputs": [],
   "source": [
    "index = []\n",
    "for i in range(len(ids_original)):\n",
    "    if(math.isnan(ids_original[i])):\n",
    "        index.append(i)\n",
    "del ids_original[index[0]:index[-1]]\n",
    "del users_original[index[0]:index[-1]]"
   ]
  },
  {
   "cell_type": "code",
   "execution_count": null,
   "metadata": {},
   "outputs": [],
   "source": [
    "index = 0\n",
    "for i in range(len(ids_original)):\n",
    "    if(math.isnan(ids_original[i])):\n",
    "        index = i"
   ]
  },
  {
   "cell_type": "code",
   "execution_count": null,
   "metadata": {},
   "outputs": [],
   "source": [
    "del ids_original[index]\n",
    "del users_original[index]"
   ]
  },
  {
   "cell_type": "code",
   "execution_count": null,
   "metadata": {},
   "outputs": [],
   "source": [
    "hasnan4(ids_original)"
   ]
  },
  {
   "cell_type": "code",
   "execution_count": null,
   "metadata": {
    "scrolled": true
   },
   "outputs": [],
   "source": [
    "ids_original = list_series(ids_original, True)\n",
    "users_original = list_series(users_original, False)\n",
    "write_file(\"prova_original\", ids_original, users_original)\n",
    "del ids_original\n",
    "del users_original"
   ]
  },
  {
   "cell_type": "code",
   "execution_count": null,
   "metadata": {},
   "outputs": [],
   "source": [
    "ids_replied = list_series(ids_replied, True)\n",
    "users_replied = list_series(users_replied, False)\n",
    "write_file(\"prova_replied\", ids_replied, users_replied)\n",
    "del ids_replied\n",
    "del users_replied"
   ]
  },
  {
   "cell_type": "code",
   "execution_count": null,
   "metadata": {},
   "outputs": [],
   "source": [
    "ids_reply = list_series(ids_reply, True)\n",
    "users_reply = list_series(users_reply, False)\n",
    "write_file(\"prova_reply\", ids_reply, users_reply)\n",
    "del ids_reply\n",
    "del users_reply"
   ]
  },
  {
   "cell_type": "markdown",
   "metadata": {},
   "source": [
    "## Stats"
   ]
  },
  {
   "cell_type": "code",
   "execution_count": 8,
   "metadata": {},
   "outputs": [
    {
     "name": "stdout",
     "output_type": "stream",
     "text": [
      "Number of total tweets: 66412411\n",
      "Number of original tweets: 13999715\n",
      "Number of retweet: 48312504\n",
      "Number of reply: 4100192\n",
      "Number of original_tweets: 21.08% of total tweets\n",
      "Number of retweets: 72.75% of total tweets\n",
      "Number of replies: 6.17% of total tweets\n",
      "Check sum == len(tweets):  True\n"
     ]
    }
   ],
   "source": [
    "print(f'Number of total tweets: {total_tweets}')\n",
    "print(f'Number of original tweets: {original_n}')\n",
    "print(f'Number of retweet: {retweet_n}')\n",
    "print(f'Number of reply: {reply_n}')\n",
    "\n",
    "perc_original = np.around(original_n*100/total_tweets,2)\n",
    "perc_retweet = np.around(retweet_n*100/total_tweets,2)\n",
    "perc_reply = np.around(reply_n*100/total_tweets,2)\n",
    "print(f'Number of original_tweets: {perc_original}% of total tweets')\n",
    "print(f'Number of retweets: {perc_retweet}% of total tweets')\n",
    "print(f'Number of replies: {perc_reply}% of total tweets')\n",
    "\n",
    "print('Check sum == len(tweets): ',original_n + retweet_n + reply_n == total_tweets)"
   ]
  },
  {
   "cell_type": "markdown",
   "metadata": {
    "scrolled": false
   },
   "source": [
    "## Daily Tweets"
   ]
  },
  {
   "cell_type": "code",
   "execution_count": null,
   "metadata": {},
   "outputs": [],
   "source": [
    "val = pd.Series(dates)\n",
    "val = val.value_counts(sort=True) \n",
    "fig = plt.figure(figsize=(14, 8))\n",
    "ax = val[:25].plot(kind='bar', color='green', fig=(14,14))\n",
    "ax.set_title('Number of TWEETS per day', fontsize=15)\n",
    "# ax.invert_yaxis()\n",
    "ax.set_xticklabels(val.index.format(), rotation='vertical')\n",
    "plt.show()"
   ]
  },
  {
   "cell_type": "code",
   "execution_count": 5,
   "metadata": {
    "scrolled": false
   },
   "outputs": [
    {
     "data": {
      "application/vnd.plotly.v1+json": {
       "config": {
        "plotlyServerURL": "https://plot.ly"
       },
       "data": [
        {
         "histfunc": "sum",
         "name": "Disinform Dozen",
         "type": "histogram",
         "x": [
          "Original",
          "Retweet",
          "Reply"
         ],
         "y": [
          0.7936979518343462,
          0.13198289444069322,
          0.07431915372496062
         ]
        },
        {
         "histfunc": "sum",
         "name": "Global",
         "type": "histogram",
         "x": [
          "Original",
          "Retweet",
          "Reply"
         ],
         "y": [
          0.2107996801983292,
          0.727461979960342,
          0.06173833984132875
         ]
        }
       ],
       "layout": {
        "legend": {
         "title": {
          "text": "Legend"
         }
        },
        "template": {
         "data": {
          "bar": [
           {
            "error_x": {
             "color": "#2a3f5f"
            },
            "error_y": {
             "color": "#2a3f5f"
            },
            "marker": {
             "line": {
              "color": "#E5ECF6",
              "width": 0.5
             }
            },
            "type": "bar"
           }
          ],
          "barpolar": [
           {
            "marker": {
             "line": {
              "color": "#E5ECF6",
              "width": 0.5
             }
            },
            "type": "barpolar"
           }
          ],
          "carpet": [
           {
            "aaxis": {
             "endlinecolor": "#2a3f5f",
             "gridcolor": "white",
             "linecolor": "white",
             "minorgridcolor": "white",
             "startlinecolor": "#2a3f5f"
            },
            "baxis": {
             "endlinecolor": "#2a3f5f",
             "gridcolor": "white",
             "linecolor": "white",
             "minorgridcolor": "white",
             "startlinecolor": "#2a3f5f"
            },
            "type": "carpet"
           }
          ],
          "choropleth": [
           {
            "colorbar": {
             "outlinewidth": 0,
             "ticks": ""
            },
            "type": "choropleth"
           }
          ],
          "contour": [
           {
            "colorbar": {
             "outlinewidth": 0,
             "ticks": ""
            },
            "colorscale": [
             [
              0,
              "#0d0887"
             ],
             [
              0.1111111111111111,
              "#46039f"
             ],
             [
              0.2222222222222222,
              "#7201a8"
             ],
             [
              0.3333333333333333,
              "#9c179e"
             ],
             [
              0.4444444444444444,
              "#bd3786"
             ],
             [
              0.5555555555555556,
              "#d8576b"
             ],
             [
              0.6666666666666666,
              "#ed7953"
             ],
             [
              0.7777777777777778,
              "#fb9f3a"
             ],
             [
              0.8888888888888888,
              "#fdca26"
             ],
             [
              1,
              "#f0f921"
             ]
            ],
            "type": "contour"
           }
          ],
          "contourcarpet": [
           {
            "colorbar": {
             "outlinewidth": 0,
             "ticks": ""
            },
            "type": "contourcarpet"
           }
          ],
          "heatmap": [
           {
            "colorbar": {
             "outlinewidth": 0,
             "ticks": ""
            },
            "colorscale": [
             [
              0,
              "#0d0887"
             ],
             [
              0.1111111111111111,
              "#46039f"
             ],
             [
              0.2222222222222222,
              "#7201a8"
             ],
             [
              0.3333333333333333,
              "#9c179e"
             ],
             [
              0.4444444444444444,
              "#bd3786"
             ],
             [
              0.5555555555555556,
              "#d8576b"
             ],
             [
              0.6666666666666666,
              "#ed7953"
             ],
             [
              0.7777777777777778,
              "#fb9f3a"
             ],
             [
              0.8888888888888888,
              "#fdca26"
             ],
             [
              1,
              "#f0f921"
             ]
            ],
            "type": "heatmap"
           }
          ],
          "heatmapgl": [
           {
            "colorbar": {
             "outlinewidth": 0,
             "ticks": ""
            },
            "colorscale": [
             [
              0,
              "#0d0887"
             ],
             [
              0.1111111111111111,
              "#46039f"
             ],
             [
              0.2222222222222222,
              "#7201a8"
             ],
             [
              0.3333333333333333,
              "#9c179e"
             ],
             [
              0.4444444444444444,
              "#bd3786"
             ],
             [
              0.5555555555555556,
              "#d8576b"
             ],
             [
              0.6666666666666666,
              "#ed7953"
             ],
             [
              0.7777777777777778,
              "#fb9f3a"
             ],
             [
              0.8888888888888888,
              "#fdca26"
             ],
             [
              1,
              "#f0f921"
             ]
            ],
            "type": "heatmapgl"
           }
          ],
          "histogram": [
           {
            "marker": {
             "colorbar": {
              "outlinewidth": 0,
              "ticks": ""
             }
            },
            "type": "histogram"
           }
          ],
          "histogram2d": [
           {
            "colorbar": {
             "outlinewidth": 0,
             "ticks": ""
            },
            "colorscale": [
             [
              0,
              "#0d0887"
             ],
             [
              0.1111111111111111,
              "#46039f"
             ],
             [
              0.2222222222222222,
              "#7201a8"
             ],
             [
              0.3333333333333333,
              "#9c179e"
             ],
             [
              0.4444444444444444,
              "#bd3786"
             ],
             [
              0.5555555555555556,
              "#d8576b"
             ],
             [
              0.6666666666666666,
              "#ed7953"
             ],
             [
              0.7777777777777778,
              "#fb9f3a"
             ],
             [
              0.8888888888888888,
              "#fdca26"
             ],
             [
              1,
              "#f0f921"
             ]
            ],
            "type": "histogram2d"
           }
          ],
          "histogram2dcontour": [
           {
            "colorbar": {
             "outlinewidth": 0,
             "ticks": ""
            },
            "colorscale": [
             [
              0,
              "#0d0887"
             ],
             [
              0.1111111111111111,
              "#46039f"
             ],
             [
              0.2222222222222222,
              "#7201a8"
             ],
             [
              0.3333333333333333,
              "#9c179e"
             ],
             [
              0.4444444444444444,
              "#bd3786"
             ],
             [
              0.5555555555555556,
              "#d8576b"
             ],
             [
              0.6666666666666666,
              "#ed7953"
             ],
             [
              0.7777777777777778,
              "#fb9f3a"
             ],
             [
              0.8888888888888888,
              "#fdca26"
             ],
             [
              1,
              "#f0f921"
             ]
            ],
            "type": "histogram2dcontour"
           }
          ],
          "mesh3d": [
           {
            "colorbar": {
             "outlinewidth": 0,
             "ticks": ""
            },
            "type": "mesh3d"
           }
          ],
          "parcoords": [
           {
            "line": {
             "colorbar": {
              "outlinewidth": 0,
              "ticks": ""
             }
            },
            "type": "parcoords"
           }
          ],
          "pie": [
           {
            "automargin": true,
            "type": "pie"
           }
          ],
          "scatter": [
           {
            "marker": {
             "colorbar": {
              "outlinewidth": 0,
              "ticks": ""
             }
            },
            "type": "scatter"
           }
          ],
          "scatter3d": [
           {
            "line": {
             "colorbar": {
              "outlinewidth": 0,
              "ticks": ""
             }
            },
            "marker": {
             "colorbar": {
              "outlinewidth": 0,
              "ticks": ""
             }
            },
            "type": "scatter3d"
           }
          ],
          "scattercarpet": [
           {
            "marker": {
             "colorbar": {
              "outlinewidth": 0,
              "ticks": ""
             }
            },
            "type": "scattercarpet"
           }
          ],
          "scattergeo": [
           {
            "marker": {
             "colorbar": {
              "outlinewidth": 0,
              "ticks": ""
             }
            },
            "type": "scattergeo"
           }
          ],
          "scattergl": [
           {
            "marker": {
             "colorbar": {
              "outlinewidth": 0,
              "ticks": ""
             }
            },
            "type": "scattergl"
           }
          ],
          "scattermapbox": [
           {
            "marker": {
             "colorbar": {
              "outlinewidth": 0,
              "ticks": ""
             }
            },
            "type": "scattermapbox"
           }
          ],
          "scatterpolar": [
           {
            "marker": {
             "colorbar": {
              "outlinewidth": 0,
              "ticks": ""
             }
            },
            "type": "scatterpolar"
           }
          ],
          "scatterpolargl": [
           {
            "marker": {
             "colorbar": {
              "outlinewidth": 0,
              "ticks": ""
             }
            },
            "type": "scatterpolargl"
           }
          ],
          "scatterternary": [
           {
            "marker": {
             "colorbar": {
              "outlinewidth": 0,
              "ticks": ""
             }
            },
            "type": "scatterternary"
           }
          ],
          "surface": [
           {
            "colorbar": {
             "outlinewidth": 0,
             "ticks": ""
            },
            "colorscale": [
             [
              0,
              "#0d0887"
             ],
             [
              0.1111111111111111,
              "#46039f"
             ],
             [
              0.2222222222222222,
              "#7201a8"
             ],
             [
              0.3333333333333333,
              "#9c179e"
             ],
             [
              0.4444444444444444,
              "#bd3786"
             ],
             [
              0.5555555555555556,
              "#d8576b"
             ],
             [
              0.6666666666666666,
              "#ed7953"
             ],
             [
              0.7777777777777778,
              "#fb9f3a"
             ],
             [
              0.8888888888888888,
              "#fdca26"
             ],
             [
              1,
              "#f0f921"
             ]
            ],
            "type": "surface"
           }
          ],
          "table": [
           {
            "cells": {
             "fill": {
              "color": "#EBF0F8"
             },
             "line": {
              "color": "white"
             }
            },
            "header": {
             "fill": {
              "color": "#C8D4E3"
             },
             "line": {
              "color": "white"
             }
            },
            "type": "table"
           }
          ]
         },
         "layout": {
          "annotationdefaults": {
           "arrowcolor": "#2a3f5f",
           "arrowhead": 0,
           "arrowwidth": 1
          },
          "coloraxis": {
           "colorbar": {
            "outlinewidth": 0,
            "ticks": ""
           }
          },
          "colorscale": {
           "diverging": [
            [
             0,
             "#8e0152"
            ],
            [
             0.1,
             "#c51b7d"
            ],
            [
             0.2,
             "#de77ae"
            ],
            [
             0.3,
             "#f1b6da"
            ],
            [
             0.4,
             "#fde0ef"
            ],
            [
             0.5,
             "#f7f7f7"
            ],
            [
             0.6,
             "#e6f5d0"
            ],
            [
             0.7,
             "#b8e186"
            ],
            [
             0.8,
             "#7fbc41"
            ],
            [
             0.9,
             "#4d9221"
            ],
            [
             1,
             "#276419"
            ]
           ],
           "sequential": [
            [
             0,
             "#0d0887"
            ],
            [
             0.1111111111111111,
             "#46039f"
            ],
            [
             0.2222222222222222,
             "#7201a8"
            ],
            [
             0.3333333333333333,
             "#9c179e"
            ],
            [
             0.4444444444444444,
             "#bd3786"
            ],
            [
             0.5555555555555556,
             "#d8576b"
            ],
            [
             0.6666666666666666,
             "#ed7953"
            ],
            [
             0.7777777777777778,
             "#fb9f3a"
            ],
            [
             0.8888888888888888,
             "#fdca26"
            ],
            [
             1,
             "#f0f921"
            ]
           ],
           "sequentialminus": [
            [
             0,
             "#0d0887"
            ],
            [
             0.1111111111111111,
             "#46039f"
            ],
            [
             0.2222222222222222,
             "#7201a8"
            ],
            [
             0.3333333333333333,
             "#9c179e"
            ],
            [
             0.4444444444444444,
             "#bd3786"
            ],
            [
             0.5555555555555556,
             "#d8576b"
            ],
            [
             0.6666666666666666,
             "#ed7953"
            ],
            [
             0.7777777777777778,
             "#fb9f3a"
            ],
            [
             0.8888888888888888,
             "#fdca26"
            ],
            [
             1,
             "#f0f921"
            ]
           ]
          },
          "colorway": [
           "#636efa",
           "#EF553B",
           "#00cc96",
           "#ab63fa",
           "#FFA15A",
           "#19d3f3",
           "#FF6692",
           "#B6E880",
           "#FF97FF",
           "#FECB52"
          ],
          "font": {
           "color": "#2a3f5f"
          },
          "geo": {
           "bgcolor": "white",
           "lakecolor": "white",
           "landcolor": "#E5ECF6",
           "showlakes": true,
           "showland": true,
           "subunitcolor": "white"
          },
          "hoverlabel": {
           "align": "left"
          },
          "hovermode": "closest",
          "mapbox": {
           "style": "light"
          },
          "paper_bgcolor": "white",
          "plot_bgcolor": "#E5ECF6",
          "polar": {
           "angularaxis": {
            "gridcolor": "white",
            "linecolor": "white",
            "ticks": ""
           },
           "bgcolor": "#E5ECF6",
           "radialaxis": {
            "gridcolor": "white",
            "linecolor": "white",
            "ticks": ""
           }
          },
          "scene": {
           "xaxis": {
            "backgroundcolor": "#E5ECF6",
            "gridcolor": "white",
            "gridwidth": 2,
            "linecolor": "white",
            "showbackground": true,
            "ticks": "",
            "zerolinecolor": "white"
           },
           "yaxis": {
            "backgroundcolor": "#E5ECF6",
            "gridcolor": "white",
            "gridwidth": 2,
            "linecolor": "white",
            "showbackground": true,
            "ticks": "",
            "zerolinecolor": "white"
           },
           "zaxis": {
            "backgroundcolor": "#E5ECF6",
            "gridcolor": "white",
            "gridwidth": 2,
            "linecolor": "white",
            "showbackground": true,
            "ticks": "",
            "zerolinecolor": "white"
           }
          },
          "shapedefaults": {
           "line": {
            "color": "#2a3f5f"
           }
          },
          "ternary": {
           "aaxis": {
            "gridcolor": "white",
            "linecolor": "white",
            "ticks": ""
           },
           "baxis": {
            "gridcolor": "white",
            "linecolor": "white",
            "ticks": ""
           },
           "bgcolor": "#E5ECF6",
           "caxis": {
            "gridcolor": "white",
            "linecolor": "white",
            "ticks": ""
           }
          },
          "title": {
           "x": 0.05
          },
          "xaxis": {
           "automargin": true,
           "gridcolor": "white",
           "linecolor": "white",
           "ticks": "",
           "title": {
            "standoff": 15
           },
           "zerolinecolor": "white",
           "zerolinewidth": 2
          },
          "yaxis": {
           "automargin": true,
           "gridcolor": "white",
           "linecolor": "white",
           "ticks": "",
           "title": {
            "standoff": 15
           },
           "zerolinecolor": "white",
           "zerolinewidth": 2
          }
         }
        },
        "title": {
         "text": "Differences between Dozen and global activity"
        },
        "xaxis": {
         "title": {
          "text": "Kind of activity"
         }
        },
        "yaxis": {
         "title": {
          "text": "Percentage of activity"
         }
        }
       }
      },
      "text/html": [
       "<div>                            <div id=\"213056ae-ddaf-4e6a-9d5b-bf96bd0a556b\" class=\"plotly-graph-div\" style=\"height:525px; width:100%;\"></div>            <script type=\"text/javascript\">                require([\"plotly\"], function(Plotly) {                    window.PLOTLYENV=window.PLOTLYENV || {};                                    if (document.getElementById(\"213056ae-ddaf-4e6a-9d5b-bf96bd0a556b\")) {                    Plotly.newPlot(                        \"213056ae-ddaf-4e6a-9d5b-bf96bd0a556b\",                        [{\"histfunc\": \"sum\", \"name\": \"Disinform Dozen\", \"type\": \"histogram\", \"x\": [\"Original\", \"Retweet\", \"Reply\"], \"y\": [0.7936979518343462, 0.13198289444069322, 0.07431915372496062]}, {\"histfunc\": \"sum\", \"name\": \"Global\", \"type\": \"histogram\", \"x\": [\"Original\", \"Retweet\", \"Reply\"], \"y\": [0.2107996801983292, 0.727461979960342, 0.06173833984132875]}],                        {\"legend\": {\"title\": {\"text\": \"Legend\"}}, \"template\": {\"data\": {\"bar\": [{\"error_x\": {\"color\": \"#2a3f5f\"}, \"error_y\": {\"color\": \"#2a3f5f\"}, \"marker\": {\"line\": {\"color\": \"#E5ECF6\", \"width\": 0.5}}, \"type\": \"bar\"}], \"barpolar\": [{\"marker\": {\"line\": {\"color\": \"#E5ECF6\", \"width\": 0.5}}, \"type\": \"barpolar\"}], \"carpet\": [{\"aaxis\": {\"endlinecolor\": \"#2a3f5f\", \"gridcolor\": \"white\", \"linecolor\": \"white\", \"minorgridcolor\": \"white\", \"startlinecolor\": \"#2a3f5f\"}, \"baxis\": {\"endlinecolor\": \"#2a3f5f\", \"gridcolor\": \"white\", \"linecolor\": \"white\", \"minorgridcolor\": \"white\", \"startlinecolor\": \"#2a3f5f\"}, \"type\": \"carpet\"}], \"choropleth\": [{\"colorbar\": {\"outlinewidth\": 0, \"ticks\": \"\"}, \"type\": \"choropleth\"}], \"contour\": [{\"colorbar\": {\"outlinewidth\": 0, \"ticks\": \"\"}, \"colorscale\": [[0.0, \"#0d0887\"], [0.1111111111111111, \"#46039f\"], [0.2222222222222222, \"#7201a8\"], [0.3333333333333333, \"#9c179e\"], [0.4444444444444444, \"#bd3786\"], [0.5555555555555556, \"#d8576b\"], [0.6666666666666666, \"#ed7953\"], [0.7777777777777778, \"#fb9f3a\"], [0.8888888888888888, \"#fdca26\"], [1.0, \"#f0f921\"]], \"type\": \"contour\"}], \"contourcarpet\": [{\"colorbar\": {\"outlinewidth\": 0, \"ticks\": \"\"}, \"type\": \"contourcarpet\"}], \"heatmap\": [{\"colorbar\": {\"outlinewidth\": 0, \"ticks\": \"\"}, \"colorscale\": [[0.0, \"#0d0887\"], [0.1111111111111111, \"#46039f\"], [0.2222222222222222, \"#7201a8\"], [0.3333333333333333, \"#9c179e\"], [0.4444444444444444, \"#bd3786\"], [0.5555555555555556, \"#d8576b\"], [0.6666666666666666, \"#ed7953\"], [0.7777777777777778, \"#fb9f3a\"], [0.8888888888888888, \"#fdca26\"], [1.0, \"#f0f921\"]], \"type\": \"heatmap\"}], \"heatmapgl\": [{\"colorbar\": {\"outlinewidth\": 0, \"ticks\": \"\"}, \"colorscale\": [[0.0, \"#0d0887\"], [0.1111111111111111, \"#46039f\"], [0.2222222222222222, \"#7201a8\"], [0.3333333333333333, \"#9c179e\"], [0.4444444444444444, \"#bd3786\"], [0.5555555555555556, \"#d8576b\"], [0.6666666666666666, \"#ed7953\"], [0.7777777777777778, \"#fb9f3a\"], [0.8888888888888888, \"#fdca26\"], [1.0, \"#f0f921\"]], \"type\": \"heatmapgl\"}], \"histogram\": [{\"marker\": {\"colorbar\": {\"outlinewidth\": 0, \"ticks\": \"\"}}, \"type\": \"histogram\"}], \"histogram2d\": [{\"colorbar\": {\"outlinewidth\": 0, \"ticks\": \"\"}, \"colorscale\": [[0.0, \"#0d0887\"], [0.1111111111111111, \"#46039f\"], [0.2222222222222222, \"#7201a8\"], [0.3333333333333333, \"#9c179e\"], [0.4444444444444444, \"#bd3786\"], [0.5555555555555556, \"#d8576b\"], [0.6666666666666666, \"#ed7953\"], [0.7777777777777778, \"#fb9f3a\"], [0.8888888888888888, \"#fdca26\"], [1.0, \"#f0f921\"]], \"type\": \"histogram2d\"}], \"histogram2dcontour\": [{\"colorbar\": {\"outlinewidth\": 0, \"ticks\": \"\"}, \"colorscale\": [[0.0, \"#0d0887\"], [0.1111111111111111, \"#46039f\"], [0.2222222222222222, \"#7201a8\"], [0.3333333333333333, \"#9c179e\"], [0.4444444444444444, \"#bd3786\"], [0.5555555555555556, \"#d8576b\"], [0.6666666666666666, \"#ed7953\"], [0.7777777777777778, \"#fb9f3a\"], [0.8888888888888888, \"#fdca26\"], [1.0, \"#f0f921\"]], \"type\": \"histogram2dcontour\"}], \"mesh3d\": [{\"colorbar\": {\"outlinewidth\": 0, \"ticks\": \"\"}, \"type\": \"mesh3d\"}], \"parcoords\": [{\"line\": {\"colorbar\": {\"outlinewidth\": 0, \"ticks\": \"\"}}, \"type\": \"parcoords\"}], \"pie\": [{\"automargin\": true, \"type\": \"pie\"}], \"scatter\": [{\"marker\": {\"colorbar\": {\"outlinewidth\": 0, \"ticks\": \"\"}}, \"type\": \"scatter\"}], \"scatter3d\": [{\"line\": {\"colorbar\": {\"outlinewidth\": 0, \"ticks\": \"\"}}, \"marker\": {\"colorbar\": {\"outlinewidth\": 0, \"ticks\": \"\"}}, \"type\": \"scatter3d\"}], \"scattercarpet\": [{\"marker\": {\"colorbar\": {\"outlinewidth\": 0, \"ticks\": \"\"}}, \"type\": \"scattercarpet\"}], \"scattergeo\": [{\"marker\": {\"colorbar\": {\"outlinewidth\": 0, \"ticks\": \"\"}}, \"type\": \"scattergeo\"}], \"scattergl\": [{\"marker\": {\"colorbar\": {\"outlinewidth\": 0, \"ticks\": \"\"}}, \"type\": \"scattergl\"}], \"scattermapbox\": [{\"marker\": {\"colorbar\": {\"outlinewidth\": 0, \"ticks\": \"\"}}, \"type\": \"scattermapbox\"}], \"scatterpolar\": [{\"marker\": {\"colorbar\": {\"outlinewidth\": 0, \"ticks\": \"\"}}, \"type\": \"scatterpolar\"}], \"scatterpolargl\": [{\"marker\": {\"colorbar\": {\"outlinewidth\": 0, \"ticks\": \"\"}}, \"type\": \"scatterpolargl\"}], \"scatterternary\": [{\"marker\": {\"colorbar\": {\"outlinewidth\": 0, \"ticks\": \"\"}}, \"type\": \"scatterternary\"}], \"surface\": [{\"colorbar\": {\"outlinewidth\": 0, \"ticks\": \"\"}, \"colorscale\": [[0.0, \"#0d0887\"], [0.1111111111111111, \"#46039f\"], [0.2222222222222222, \"#7201a8\"], [0.3333333333333333, \"#9c179e\"], [0.4444444444444444, \"#bd3786\"], [0.5555555555555556, \"#d8576b\"], [0.6666666666666666, \"#ed7953\"], [0.7777777777777778, \"#fb9f3a\"], [0.8888888888888888, \"#fdca26\"], [1.0, \"#f0f921\"]], \"type\": \"surface\"}], \"table\": [{\"cells\": {\"fill\": {\"color\": \"#EBF0F8\"}, \"line\": {\"color\": \"white\"}}, \"header\": {\"fill\": {\"color\": \"#C8D4E3\"}, \"line\": {\"color\": \"white\"}}, \"type\": \"table\"}]}, \"layout\": {\"annotationdefaults\": {\"arrowcolor\": \"#2a3f5f\", \"arrowhead\": 0, \"arrowwidth\": 1}, \"coloraxis\": {\"colorbar\": {\"outlinewidth\": 0, \"ticks\": \"\"}}, \"colorscale\": {\"diverging\": [[0, \"#8e0152\"], [0.1, \"#c51b7d\"], [0.2, \"#de77ae\"], [0.3, \"#f1b6da\"], [0.4, \"#fde0ef\"], [0.5, \"#f7f7f7\"], [0.6, \"#e6f5d0\"], [0.7, \"#b8e186\"], [0.8, \"#7fbc41\"], [0.9, \"#4d9221\"], [1, \"#276419\"]], \"sequential\": [[0.0, \"#0d0887\"], [0.1111111111111111, \"#46039f\"], [0.2222222222222222, \"#7201a8\"], [0.3333333333333333, \"#9c179e\"], [0.4444444444444444, \"#bd3786\"], [0.5555555555555556, \"#d8576b\"], [0.6666666666666666, \"#ed7953\"], [0.7777777777777778, \"#fb9f3a\"], [0.8888888888888888, \"#fdca26\"], [1.0, \"#f0f921\"]], \"sequentialminus\": [[0.0, \"#0d0887\"], [0.1111111111111111, \"#46039f\"], [0.2222222222222222, \"#7201a8\"], [0.3333333333333333, \"#9c179e\"], [0.4444444444444444, \"#bd3786\"], [0.5555555555555556, \"#d8576b\"], [0.6666666666666666, \"#ed7953\"], [0.7777777777777778, \"#fb9f3a\"], [0.8888888888888888, \"#fdca26\"], [1.0, \"#f0f921\"]]}, \"colorway\": [\"#636efa\", \"#EF553B\", \"#00cc96\", \"#ab63fa\", \"#FFA15A\", \"#19d3f3\", \"#FF6692\", \"#B6E880\", \"#FF97FF\", \"#FECB52\"], \"font\": {\"color\": \"#2a3f5f\"}, \"geo\": {\"bgcolor\": \"white\", \"lakecolor\": \"white\", \"landcolor\": \"#E5ECF6\", \"showlakes\": true, \"showland\": true, \"subunitcolor\": \"white\"}, \"hoverlabel\": {\"align\": \"left\"}, \"hovermode\": \"closest\", \"mapbox\": {\"style\": \"light\"}, \"paper_bgcolor\": \"white\", \"plot_bgcolor\": \"#E5ECF6\", \"polar\": {\"angularaxis\": {\"gridcolor\": \"white\", \"linecolor\": \"white\", \"ticks\": \"\"}, \"bgcolor\": \"#E5ECF6\", \"radialaxis\": {\"gridcolor\": \"white\", \"linecolor\": \"white\", \"ticks\": \"\"}}, \"scene\": {\"xaxis\": {\"backgroundcolor\": \"#E5ECF6\", \"gridcolor\": \"white\", \"gridwidth\": 2, \"linecolor\": \"white\", \"showbackground\": true, \"ticks\": \"\", \"zerolinecolor\": \"white\"}, \"yaxis\": {\"backgroundcolor\": \"#E5ECF6\", \"gridcolor\": \"white\", \"gridwidth\": 2, \"linecolor\": \"white\", \"showbackground\": true, \"ticks\": \"\", \"zerolinecolor\": \"white\"}, \"zaxis\": {\"backgroundcolor\": \"#E5ECF6\", \"gridcolor\": \"white\", \"gridwidth\": 2, \"linecolor\": \"white\", \"showbackground\": true, \"ticks\": \"\", \"zerolinecolor\": \"white\"}}, \"shapedefaults\": {\"line\": {\"color\": \"#2a3f5f\"}}, \"ternary\": {\"aaxis\": {\"gridcolor\": \"white\", \"linecolor\": \"white\", \"ticks\": \"\"}, \"baxis\": {\"gridcolor\": \"white\", \"linecolor\": \"white\", \"ticks\": \"\"}, \"bgcolor\": \"#E5ECF6\", \"caxis\": {\"gridcolor\": \"white\", \"linecolor\": \"white\", \"ticks\": \"\"}}, \"title\": {\"x\": 0.05}, \"xaxis\": {\"automargin\": true, \"gridcolor\": \"white\", \"linecolor\": \"white\", \"ticks\": \"\", \"title\": {\"standoff\": 15}, \"zerolinecolor\": \"white\", \"zerolinewidth\": 2}, \"yaxis\": {\"automargin\": true, \"gridcolor\": \"white\", \"linecolor\": \"white\", \"ticks\": \"\", \"title\": {\"standoff\": 15}, \"zerolinecolor\": \"white\", \"zerolinewidth\": 2}}}, \"title\": {\"text\": \"Differences between Dozen and global activity\"}, \"xaxis\": {\"title\": {\"text\": \"Kind of activity\"}}, \"yaxis\": {\"title\": {\"text\": \"Percentage of activity\"}}},                        {\"responsive\": true}                    ).then(function(){\n",
       "                            \n",
       "var gd = document.getElementById('213056ae-ddaf-4e6a-9d5b-bf96bd0a556b');\n",
       "var x = new MutationObserver(function (mutations, observer) {{\n",
       "        var display = window.getComputedStyle(gd).display;\n",
       "        if (!display || display === 'none') {{\n",
       "            console.log([gd, 'removed!']);\n",
       "            Plotly.purge(gd);\n",
       "            observer.disconnect();\n",
       "        }}\n",
       "}});\n",
       "\n",
       "// Listen for the removal of the full notebook cells\n",
       "var notebookContainer = gd.closest('#notebook-container');\n",
       "if (notebookContainer) {{\n",
       "    x.observe(notebookContainer, {childList: true});\n",
       "}}\n",
       "\n",
       "// Listen for the clearing of the current output cell\n",
       "var outputEl = gd.closest('.output');\n",
       "if (outputEl) {{\n",
       "    x.observe(outputEl, {childList: true});\n",
       "}}\n",
       "\n",
       "                        })                };                });            </script>        </div>"
      ]
     },
     "metadata": {},
     "output_type": "display_data"
    }
   ],
   "source": [
    "import plotly.graph_objects as go\n",
    "total_ccdh = 22215\n",
    "original_ccdh = 17632\n",
    "rt_ccdh =  2932\n",
    "rp_ccdh = 1651\n",
    "\n",
    "original_n = 13999715 \n",
    "retweet_n = 48312504 \n",
    "reply_n = 4100192 \n",
    "total_tweets = 13999715 + 48312504 + 4100192\n",
    "list_ccdh = [original_ccdh/total_ccdh, rt_ccdh/total_ccdh, rp_ccdh/total_ccdh]\n",
    "label_ccdh = [\"Original\", \"Retweet\", \"Reply\"]\n",
    "list_verified = [original_n/total_tweets, retweet_n/total_tweets, reply_n/total_tweets]\n",
    "\n",
    "fig = go.Figure()\n",
    "fig.add_trace(go.Histogram(histfunc=\"sum\", y=list_ccdh, x=label_ccdh, name=\"Disinform Dozen\"))\n",
    "fig.add_trace(go.Histogram(histfunc=\"sum\", y=list_verified, x=label_ccdh, name=\"Global\"))\n",
    "fig.update_layout(\n",
    "    title=\"Differences between Dozen and global activity\",\n",
    "    xaxis_title=\"Kind of activity\",\n",
    "    yaxis_title=\"Percentage of activity\",\n",
    "    legend_title=\"Legend\")\n",
    "fig.show()"
   ]
  },
  {
   "cell_type": "markdown",
   "metadata": {},
   "source": [
    "# Check quotes"
   ]
  },
  {
   "cell_type": "code",
   "execution_count": 12,
   "metadata": {},
   "outputs": [],
   "source": [
    "cols = [\"id\", \"created_at\", \"user_id\", \"user_screen_name\", \"text\", \"in_reply_to_screen_name\", \"rt_created_at\", \"quoted_status_created_at\", \"quoted_user_id\", \"urls\"] "
   ]
  },
  {
   "cell_type": "code",
   "execution_count": 21,
   "metadata": {
    "scrolled": false
   },
   "outputs": [
    {
     "name": "stdout",
     "output_type": "stream",
     "text": [
      "<class 'pandas.core.frame.DataFrame'>\n",
      "RangeIndex: 10000 entries, 0 to 9999\n",
      "Data columns (total 46 columns):\n",
      " #   Column                     Non-Null Count  Dtype  \n",
      "---  ------                     --------------  -----  \n",
      " 0   id                         10000 non-null  int64  \n",
      " 1   id_str                     10000 non-null  int64  \n",
      " 2   created_at                 10000 non-null  object \n",
      " 3   user_id                    10000 non-null  int64  \n",
      " 4   user_screen_name           10000 non-null  object \n",
      " 5   user_verified              10000 non-null  bool   \n",
      " 6   user_created_at            10000 non-null  object \n",
      " 7   text                       10000 non-null  object \n",
      " 8   source                     10000 non-null  object \n",
      " 9   coordinates                3 non-null      object \n",
      " 10  is_quote_status            10000 non-null  bool   \n",
      " 11  retweet_count              10000 non-null  int64  \n",
      " 12  favorite_count             10000 non-null  int64  \n",
      " 13  favorited                  10000 non-null  bool   \n",
      " 14  retweeted                  10000 non-null  bool   \n",
      " 15  lang                       10000 non-null  object \n",
      " 16  in_reply_to_status_id      602 non-null    float64\n",
      " 17  in_reply_to_status_id_str  602 non-null    float64\n",
      " 18  in_reply_to_user_id        643 non-null    float64\n",
      " 19  in_reply_to_user_id_str    643 non-null    float64\n",
      " 20  in_reply_to_screen_name    643 non-null    object \n",
      " 21  rt_coordinates             0 non-null      float64\n",
      " 22  rt_created_at              7594 non-null   object \n",
      " 23  rt_in_reply_to_status_id   820 non-null    float64\n",
      " 24  rt_in_reply_to_user_id     883 non-null    float64\n",
      " 25  rt_lang                    7594 non-null   object \n",
      " 26  rt_favourite_count         7594 non-null   float64\n",
      " 27  rt_id                      7594 non-null   float64\n",
      " 28  rt_user_id                 7594 non-null   float64\n",
      " 29  rt_user_screen_name        7594 non-null   object \n",
      " 30  rt_user_created_at         7594 non-null   object \n",
      " 31  rt_user_verified           7594 non-null   object \n",
      " 32  rt_user_followers_count    7594 non-null   float64\n",
      " 33  rt_user_friends_count      7594 non-null   float64\n",
      " 34  rt_user_favourites_count   7594 non-null   float64\n",
      " 35  quoted_status_id           770 non-null    float64\n",
      " 36  quoted_status_text         219 non-null    object \n",
      " 37  quoted_status_created_at   219 non-null    object \n",
      " 38  quoted_user_id             219 non-null    float64\n",
      " 39  quoted_user_created_at     219 non-null    object \n",
      " 40  hashtags                   10000 non-null  object \n",
      " 41  symbols                    10000 non-null  object \n",
      " 42  user_mentions              10000 non-null  object \n",
      " 43  urls                       10000 non-null  object \n",
      " 44  polls                      10000 non-null  object \n",
      " 45  media                      10000 non-null  object \n",
      "dtypes: bool(4), float64(15), int64(5), object(22)\n",
      "memory usage: 3.2+ MB\n"
     ]
    }
   ],
   "source": [
    "for chunk in pd.read_csv(files_tweets[0], \n",
    "                         chunksize=10000, \n",
    "                         lineterminator = '\\n',\n",
    "#                          usecols = cols\n",
    "                        ):\n",
    "    df = chunk\n",
    "    break\n",
    "df.info()"
   ]
  },
  {
   "cell_type": "code",
   "execution_count": 15,
   "metadata": {},
   "outputs": [],
   "source": [
    "# df[(df[\"quoted_status_created_at\"].notna()) & (df[\"in_reply_to_screen_name\"].notna())]"
   ]
  },
  {
   "cell_type": "code",
   "execution_count": 29,
   "metadata": {},
   "outputs": [
    {
     "data": {
      "text/html": [
       "<div>\n",
       "<style scoped>\n",
       "    .dataframe tbody tr th:only-of-type {\n",
       "        vertical-align: middle;\n",
       "    }\n",
       "\n",
       "    .dataframe tbody tr th {\n",
       "        vertical-align: top;\n",
       "    }\n",
       "\n",
       "    .dataframe thead th {\n",
       "        text-align: right;\n",
       "    }\n",
       "</style>\n",
       "<table border=\"1\" class=\"dataframe\">\n",
       "  <thead>\n",
       "    <tr style=\"text-align: right;\">\n",
       "      <th></th>\n",
       "      <th>id</th>\n",
       "      <th>id_str</th>\n",
       "      <th>created_at</th>\n",
       "      <th>user_id</th>\n",
       "      <th>user_screen_name</th>\n",
       "      <th>user_verified</th>\n",
       "      <th>user_created_at</th>\n",
       "      <th>text</th>\n",
       "      <th>source</th>\n",
       "      <th>coordinates</th>\n",
       "      <th>...</th>\n",
       "      <th>quoted_status_text</th>\n",
       "      <th>quoted_status_created_at</th>\n",
       "      <th>quoted_user_id</th>\n",
       "      <th>quoted_user_created_at</th>\n",
       "      <th>hashtags</th>\n",
       "      <th>symbols</th>\n",
       "      <th>user_mentions</th>\n",
       "      <th>urls</th>\n",
       "      <th>polls</th>\n",
       "      <th>media</th>\n",
       "    </tr>\n",
       "  </thead>\n",
       "  <tbody>\n",
       "  </tbody>\n",
       "</table>\n",
       "<p>0 rows × 46 columns</p>\n",
       "</div>"
      ],
      "text/plain": [
       "Empty DataFrame\n",
       "Columns: [id, id_str, created_at, user_id, user_screen_name, user_verified, user_created_at, text, source, coordinates, is_quote_status, retweet_count, favorite_count, favorited, retweeted, lang, in_reply_to_status_id, in_reply_to_status_id_str, in_reply_to_user_id, in_reply_to_user_id_str, in_reply_to_screen_name, rt_coordinates, rt_created_at, rt_in_reply_to_status_id, rt_in_reply_to_user_id, rt_lang, rt_favourite_count, rt_id, rt_user_id, rt_user_screen_name, rt_user_created_at, rt_user_verified, rt_user_followers_count, rt_user_friends_count, rt_user_favourites_count, quoted_status_id, quoted_status_text, quoted_status_created_at, quoted_user_id, quoted_user_created_at, hashtags, symbols, user_mentions, urls, polls, media]\n",
       "Index: []\n",
       "\n",
       "[0 rows x 46 columns]"
      ]
     },
     "execution_count": 29,
     "metadata": {},
     "output_type": "execute_result"
    }
   ],
   "source": [
    "x = df[df[\"rt_created_at\"].notna()]\n",
    "y = x[x[\"quoted_status_created_at\"].notna()]\n",
    "y"
   ]
  },
  {
   "cell_type": "code",
   "execution_count": 16,
   "metadata": {
    "scrolled": false
   },
   "outputs": [],
   "source": [
    "result = []\n",
    "len_rt = 0\n",
    "checksum_rt = 0\n",
    "importlib.reload(tweets_utils)\n",
    "start_time = time.perf_counter()\n",
    "j = 0\n",
    "for filename in files_tweets:\n",
    "    print(f\"Reading file: {filename}\")\n",
    "    result.extend(tweets_utils.process_all_data(filename, cols, True))\n",
    "    lista = result[j]\n",
    "    j = j + 1\n",
    "    print(f\"Mese numero {j}\")\n",
    "    for i in range(len(lista)):\n",
    "\n",
    "        len_rt = len_rt + lista[i][\"rt_len\"] \n",
    "        checksum_rt = checksum_rt + lista[i][\"quotes_rt_len\"]\n",
    "\n",
    "stop_time = time.perf_counter()\n",
    "print(\"Time: \",stop_time-start_time)\n",
    "print(checksum_rt)\n",
    "print(len_rt)"
   ]
  },
  {
   "cell_type": "markdown",
   "metadata": {},
   "source": [
    "### Treshold"
   ]
  },
  {
   "cell_type": "code",
   "execution_count": 36,
   "metadata": {},
   "outputs": [],
   "source": [
    "path = glob.glob(\"C:/Users/gianl/Desktop/Gi/Supsi/BachelorProject/csv/score_avaxtar/\")\n",
    "good = pd.read_csv(path[0] + \"good_users.csv\", lineterminator=\"\\n\")\n",
    "good = good.drop(good[good.score == \"Error\"].index)\n",
    "bad = pd.read_csv(path[0] + \"bad_dozen.csv\", lineterminator=\"\\n\") \n",
    "bad2 = pd.read_csv(path[0] + \"novax_manual.csv\", lineterminator=\"\\n\") \n",
    "bad = bad.append(bad2)\n",
    "good[\"score\"] = good[\"score\"].astype(\"float\")\n",
    "good_lst = list(good[\"score\"])\n",
    "good = good.append(bad)\n",
    "good = good.iloc[:120 ,:]\n",
    "total = good.append(bad)"
   ]
  },
  {
   "cell_type": "code",
   "execution_count": 83,
   "metadata": {},
   "outputs": [],
   "source": [
    "def threshold_calculate(threshold):\n",
    "    true_negative = 0\n",
    "    false_negative = 0\n",
    "    false_positive = 0\n",
    "    true_positive = 0\n",
    "    lst_score = list(total[\"score\"])\n",
    "    lst_name = list(total[\"screen_name\"])\n",
    "    \n",
    "    for i in range(len(total[\"score\"])):\n",
    "        if lst_score[i] > threshold:\n",
    "            if lst_name[i] in list(bad[\"screen_name\"]):\n",
    "#                 print(f\"{lst_name[i]}, {lst_score[i]}\")\n",
    "                true_negative = true_negative  + 1\n",
    "            else:\n",
    "                false_negative = false_negative + 1\n",
    "        else:\n",
    "            if lst_name[i] in list(bad[\"screen_name\"]):\n",
    "                false_positive = false_positive + 1\n",
    "            else:\n",
    "                true_positive = true_positive + 1\n",
    "    totali = len(good[\"score\"])\n",
    "    check = (totali == true_negative + false_negative + false_positive + true_positive)\n",
    "    print(f\"Threshold: {threshold}\")\n",
    "    print(f\"TN: {true_negative} + FN: {false_negative} + FP: {false_positive} + TP: {true_positive}\")\n",
    "\n",
    "    precision = round(true_positive/(true_positive + false_positive),2)\n",
    "    print(f\"Precision: {precision}\")\n",
    "    recall = round(true_positive/(true_positive + false_negative),2)\n",
    "    print(f\"Recall: {recall}\")\n",
    "    accuracy = round((true_positive + true_negative) / ( true_negative + false_negative + false_positive + true_positive),2)\n",
    "    print(f\"Accuracy: {accuracy}\")\n",
    "    f1 = round(2* ((precision*recall)/(precision+recall)),2)\n",
    "    print(f\"F1: {f1}\")\n",
    "    print(f\"Sensitivity (TPR): {recall}\")\n",
    "    specificity = round(true_negative/(true_negative+false_positive),2)\n",
    "    print(f\"Specificity: {specificity}\")\n",
    "    fpr = round(1 - specificity,2)\n",
    "    print(f\"FPR: {fpr}\")\n",
    "\n",
    "    print(f\"{(1-fpr)*100}% of negatives are correctly classified\")\n",
    "    print(f\"{recall*100}% of positives are correctly classified\")\n",
    "    print(\"________________________________________________\")\n",
    "    return (specificity, recall)"
   ]
  },
  {
   "cell_type": "code",
   "execution_count": 84,
   "metadata": {},
   "outputs": [
    {
     "name": "stdout",
     "output_type": "stream",
     "text": [
      "Threshold: 0.55\n",
      "TN: 106 + FN: 22 + FP: 15 + TP: 98\n",
      "Precision: 0.87\n",
      "Recall: 0.82\n",
      "Accuracy: 0.85\n",
      "F1: 0.84\n",
      "Sensitivity (TPR): 0.82\n",
      "Specificity: 0.88\n",
      "FPR: 0.12\n",
      "88.0% of negatives are correctly classified\n",
      "82.0% of positives are correctly classified\n",
      "________________________________________________\n",
      "Threshold: 0.6\n",
      "TN: 106 + FN: 17 + FP: 15 + TP: 103\n",
      "Precision: 0.87\n",
      "Recall: 0.86\n",
      "Accuracy: 0.87\n",
      "F1: 0.86\n",
      "Sensitivity (TPR): 0.86\n",
      "Specificity: 0.88\n",
      "FPR: 0.12\n",
      "88.0% of negatives are correctly classified\n",
      "86.0% of positives are correctly classified\n",
      "________________________________________________\n",
      "Threshold: 0.65\n",
      "TN: 104 + FN: 17 + FP: 17 + TP: 103\n",
      "Precision: 0.86\n",
      "Recall: 0.86\n",
      "Accuracy: 0.86\n",
      "F1: 0.86\n",
      "Sensitivity (TPR): 0.86\n",
      "Specificity: 0.86\n",
      "FPR: 0.14\n",
      "86.0% of negatives are correctly classified\n",
      "86.0% of positives are correctly classified\n",
      "________________________________________________\n",
      "Threshold: 0.7\n",
      "TN: 103 + FN: 14 + FP: 18 + TP: 106\n",
      "Precision: 0.85\n",
      "Recall: 0.88\n",
      "Accuracy: 0.87\n",
      "F1: 0.86\n",
      "Sensitivity (TPR): 0.88\n",
      "Specificity: 0.85\n",
      "FPR: 0.15\n",
      "85.0% of negatives are correctly classified\n",
      "88.0% of positives are correctly classified\n",
      "________________________________________________\n",
      "Threshold: 0.75\n",
      "TN: 102 + FN: 13 + FP: 19 + TP: 107\n",
      "Precision: 0.85\n",
      "Recall: 0.89\n",
      "Accuracy: 0.87\n",
      "F1: 0.87\n",
      "Sensitivity (TPR): 0.89\n",
      "Specificity: 0.84\n",
      "FPR: 0.16\n",
      "84.0% of negatives are correctly classified\n",
      "89.0% of positives are correctly classified\n",
      "________________________________________________\n",
      "Threshold: 0.8\n",
      "TN: 97 + FN: 12 + FP: 24 + TP: 108\n",
      "Precision: 0.82\n",
      "Recall: 0.9\n",
      "Accuracy: 0.85\n",
      "F1: 0.86\n",
      "Sensitivity (TPR): 0.9\n",
      "Specificity: 0.8\n",
      "FPR: 0.2\n",
      "80.0% of negatives are correctly classified\n",
      "90.0% of positives are correctly classified\n",
      "________________________________________________\n",
      "Threshold: 0.85\n",
      "TN: 91 + FN: 10 + FP: 30 + TP: 110\n",
      "Precision: 0.79\n",
      "Recall: 0.92\n",
      "Accuracy: 0.83\n",
      "F1: 0.85\n",
      "Sensitivity (TPR): 0.92\n",
      "Specificity: 0.75\n",
      "FPR: 0.25\n",
      "75.0% of negatives are correctly classified\n",
      "92.0% of positives are correctly classified\n",
      "________________________________________________\n",
      "Threshold: 0.9\n",
      "TN: 86 + FN: 7 + FP: 35 + TP: 113\n",
      "Precision: 0.76\n",
      "Recall: 0.94\n",
      "Accuracy: 0.83\n",
      "F1: 0.84\n",
      "Sensitivity (TPR): 0.94\n",
      "Specificity: 0.71\n",
      "FPR: 0.29\n",
      "71.0% of negatives are correctly classified\n",
      "94.0% of positives are correctly classified\n",
      "________________________________________________\n"
     ]
    }
   ],
   "source": [
    "xy = []\n",
    "xy.append(threshold_calculate(0.55))\n",
    "xy.append(threshold_calculate(0.6))\n",
    "xy.append(threshold_calculate(0.65))\n",
    "xy.append(threshold_calculate(0.7))\n",
    "xy.append(threshold_calculate(0.75))\n",
    "xy.append(threshold_calculate(0.8))\n",
    "xy.append(threshold_calculate(0.85))\n",
    "xy.append(threshold_calculate(0.9))"
   ]
  },
  {
   "cell_type": "code",
   "execution_count": 85,
   "metadata": {},
   "outputs": [],
   "source": [
    "x = []\n",
    "y = []\n",
    "for i in xy:\n",
    "    x.append(i[0])\n",
    "    y.append(i[1])"
   ]
  },
  {
   "cell_type": "markdown",
   "metadata": {},
   "source": [
    "#### Hashtags"
   ]
  },
  {
   "cell_type": "code",
   "execution_count": 7,
   "metadata": {},
   "outputs": [
    {
     "name": "stderr",
     "output_type": "stream",
     "text": [
      "100%|████████████████████████████████████████████████████████████████████████████████████| 5/5 [00:37<00:00,  7.48s/it]\n"
     ]
    }
   ],
   "source": [
    "paths = glob.glob(\"F:/Supsi/COVID-19-Tweets/large_files/hashtags/*.csv\")\n",
    "x = pd.DataFrame()\n",
    "from tqdm import tqdm\n",
    "for p in tqdm(paths):\n",
    "    df_n = pd.read_csv(p, lineterminator=\"\\n\")\n",
    "    x = x.append(df_n)"
   ]
  },
  {
   "cell_type": "code",
   "execution_count": 8,
   "metadata": {},
   "outputs": [
    {
     "data": {
      "text/plain": [
       "15695945"
      ]
     },
     "execution_count": 8,
     "metadata": {},
     "output_type": "execute_result"
    }
   ],
   "source": [
    "len(x)"
   ]
  },
  {
   "cell_type": "code",
   "execution_count": 24,
   "metadata": {},
   "outputs": [],
   "source": [
    "from datetime import date\n",
    "def get_series(hash_date, name):\n",
    "    d = hash_date[hash_date[\"hashtag\"]==name][\"date\"]\n",
    "    dates_list = []\n",
    "    for i in tqdm(list(d)):\n",
    "        x = i.split()[0]\n",
    "        if not \"2\" in x:\n",
    "            x = tweets_utils.process_datetime(i)        \n",
    "        dates_list.append(datetime.strptime(x, '%Y-%m-%d'))\n",
    "    serie = pd.Series(dates_list, name=name).value_counts().sort_index()\n",
    "    return serie"
   ]
  },
  {
   "cell_type": "code",
   "execution_count": 25,
   "metadata": {},
   "outputs": [],
   "source": [
    "def plot_lines(hash_date, hashtags):\n",
    "    x1 = get_series(hash_date, hashtags[0])\n",
    "    x2 = get_series(hash_date, hashtags[1])\n",
    "    x3 = get_series(hash_date, hashtags[2])\n",
    "    x4 = get_series(hash_date, hashtags[3])\n",
    "    x5 = get_series(hash_date, hashtags[4])\n",
    "    df = pd.concat([x1, x2, x3, x4, x5], axis=1)\n",
    "    df = df.fillna(0)\n",
    "    df.sort_index(ascending=True, inplace=True)\n",
    "    lines = df.plot.line(figsize=(14,6))\n",
    "    lines.set_xlim([date(2020, 1, 1), date(2020, 6, 1)])"
   ]
  },
  {
   "cell_type": "code",
   "execution_count": 12,
   "metadata": {},
   "outputs": [
    {
     "data": {
      "image/png": "[encoded data removed]",
      "text/plain": [
       "<Figure size 432x288 with 1 Axes>"
      ]
     },
     "metadata": {
      "needs_background": "light"
     },
     "output_type": "display_data"
    }
   ],
   "source": [
    "val = pd.Series(tweets_utils.hashtag_process(x))\n",
    "val = val.value_counts().sort_values(ascending=False)\n",
    "fig = plt.figure()\n",
    "ax = val[:10].plot(kind='barh', color='lightseagreen') #red #darkturquoise\n",
    "ax.set_title('Hashtag used', fontsize=15)\n",
    "ax.invert_yaxis()\n",
    "plt.show()"
   ]
  },
  {
   "cell_type": "code",
   "execution_count": 15,
   "metadata": {},
   "outputs": [
    {
     "data": {
      "application/vnd.jupyter.widget-view+json": {
       "model_id": "642273358e4a4604bca23b8def263e4b",
       "version_major": 2,
       "version_minor": 0
      },
      "text/plain": [
       "0it [00:00, ?it/s]"
      ]
     },
     "metadata": {},
     "output_type": "display_data"
    }
   ],
   "source": [
    "importlib.reload(tweets_utils)\n",
    "x = x.dropna()\n",
    "hash_date = tweets_utils.hashtag_date(x)"
   ]
  },
  {
   "cell_type": "code",
   "execution_count": 23,
   "metadata": {},
   "outputs": [],
   "source": [
    "hash_date.to_csv(\"C:/Users/gianl/Desktop/Gi/Supsi/BachelorProject/csv/hashtag_date.csv\",\n",
    "                 line_terminator=\"\\n\", index=False, encoding=\"utf-8\")"
   ]
  },
  {
   "cell_type": "code",
   "execution_count": 29,
   "metadata": {},
   "outputs": [],
   "source": [
    "# hashtags = [\"pizzagate\", \"DarkToLight\", \"5g\", \"wwg1wga\",\"covid19\"]\n",
    "# plot_lines(hash_date, hashtags)"
   ]
  },
  {
   "cell_type": "markdown",
   "metadata": {},
   "source": [
    "https://www.forbes.com/sites/thomasbrewster/2021/02/23/facebook-and-instagram-hashtag-crackdown-struggles-to-shut-down-covid-19-conspiracies/?sh=583dd557187b"
   ]
  },
  {
   "cell_type": "code",
   "execution_count": 6,
   "metadata": {},
   "outputs": [
    {
     "data": {
      "text/html": [
       "<div>\n",
       "<style scoped>\n",
       "    .dataframe tbody tr th:only-of-type {\n",
       "        vertical-align: middle;\n",
       "    }\n",
       "\n",
       "    .dataframe tbody tr th {\n",
       "        vertical-align: top;\n",
       "    }\n",
       "\n",
       "    .dataframe thead th {\n",
       "        text-align: right;\n",
       "    }\n",
       "</style>\n",
       "<table border=\"1\" class=\"dataframe\">\n",
       "  <thead>\n",
       "    <tr style=\"text-align: right;\">\n",
       "      <th></th>\n",
       "      <th>source</th>\n",
       "      <th>word</th>\n",
       "      <th>sage</th>\n",
       "      <th>file_count</th>\n",
       "      <th>file_rate</th>\n",
       "      <th>base_count</th>\n",
       "      <th>base_rate</th>\n",
       "    </tr>\n",
       "  </thead>\n",
       "  <tbody>\n",
       "    <tr>\n",
       "      <th>0</th>\n",
       "      <td>.\\data\\rt_hs_bad.txt</td>\n",
       "      <td>thedefender</td>\n",
       "      <td>2.157602</td>\n",
       "      <td>304331</td>\n",
       "      <td>0.018539</td>\n",
       "      <td>304342</td>\n",
       "      <td>0.003273</td>\n",
       "    </tr>\n",
       "    <tr>\n",
       "      <th>1</th>\n",
       "      <td>.\\data\\rt_hs_bad.txt</td>\n",
       "      <td>hankaaron</td>\n",
       "      <td>2.157399</td>\n",
       "      <td>6735</td>\n",
       "      <td>0.000410</td>\n",
       "      <td>6735</td>\n",
       "      <td>0.000072</td>\n",
       "    </tr>\n",
       "    <tr>\n",
       "      <th>2</th>\n",
       "      <td>.\\data\\rt_hs_bad.txt</td>\n",
       "      <td>dolworth</td>\n",
       "      <td>2.157393</td>\n",
       "      <td>6578</td>\n",
       "      <td>0.000401</td>\n",
       "      <td>6578</td>\n",
       "      <td>0.000071</td>\n",
       "    </tr>\n",
       "    <tr>\n",
       "      <th>3</th>\n",
       "      <td>.\\data\\rt_hs_bad.txt</td>\n",
       "      <td>zook</td>\n",
       "      <td>2.157347</td>\n",
       "      <td>5546</td>\n",
       "      <td>0.000338</td>\n",
       "      <td>5546</td>\n",
       "      <td>0.000060</td>\n",
       "    </tr>\n",
       "    <tr>\n",
       "      <th>4</th>\n",
       "      <td>.\\data\\rt_hs_bad.txt</td>\n",
       "      <td>classen</td>\n",
       "      <td>2.157295</td>\n",
       "      <td>4714</td>\n",
       "      <td>0.000287</td>\n",
       "      <td>4714</td>\n",
       "      <td>0.000051</td>\n",
       "    </tr>\n",
       "    <tr>\n",
       "      <th>5</th>\n",
       "      <td>.\\data\\rt_hs_bad.txt</td>\n",
       "      <td>bart</td>\n",
       "      <td>2.157295</td>\n",
       "      <td>4713</td>\n",
       "      <td>0.000287</td>\n",
       "      <td>4713</td>\n",
       "      <td>0.000051</td>\n",
       "    </tr>\n",
       "    <tr>\n",
       "      <th>6</th>\n",
       "      <td>.\\data\\rt_hs_bad.txt</td>\n",
       "      <td>we89</td>\n",
       "      <td>2.157249</td>\n",
       "      <td>4147</td>\n",
       "      <td>0.000253</td>\n",
       "      <td>4147</td>\n",
       "      <td>0.000045</td>\n",
       "    </tr>\n",
       "    <tr>\n",
       "      <th>7</th>\n",
       "      <td>.\\data\\rt_hs_bad.txt</td>\n",
       "      <td>willowbrook</td>\n",
       "      <td>2.157235</td>\n",
       "      <td>4005</td>\n",
       "      <td>0.000244</td>\n",
       "      <td>4005</td>\n",
       "      <td>0.000043</td>\n",
       "    </tr>\n",
       "    <tr>\n",
       "      <th>8</th>\n",
       "      <td>.\\data\\rt_hs_bad.txt</td>\n",
       "      <td>chum</td>\n",
       "      <td>2.157231</td>\n",
       "      <td>6416</td>\n",
       "      <td>0.000391</td>\n",
       "      <td>6417</td>\n",
       "      <td>0.000069</td>\n",
       "    </tr>\n",
       "    <tr>\n",
       "      <th>9</th>\n",
       "      <td>.\\data\\rt_hs_bad.txt</td>\n",
       "      <td>isaiah</td>\n",
       "      <td>2.157203</td>\n",
       "      <td>3705</td>\n",
       "      <td>0.000226</td>\n",
       "      <td>3705</td>\n",
       "      <td>0.000040</td>\n",
       "    </tr>\n",
       "    <tr>\n",
       "      <th>10</th>\n",
       "      <td>.\\data\\rt_hs_bad.txt</td>\n",
       "      <td>fabio</td>\n",
       "      <td>2.157189</td>\n",
       "      <td>3583</td>\n",
       "      <td>0.000218</td>\n",
       "      <td>3583</td>\n",
       "      <td>0.000039</td>\n",
       "    </tr>\n",
       "    <tr>\n",
       "      <th>11</th>\n",
       "      <td>.\\data\\rt_hs_bad.txt</td>\n",
       "      <td>berlingieri</td>\n",
       "      <td>2.157189</td>\n",
       "      <td>3583</td>\n",
       "      <td>0.000218</td>\n",
       "      <td>3583</td>\n",
       "      <td>0.000039</td>\n",
       "    </tr>\n",
       "    <tr>\n",
       "      <th>12</th>\n",
       "      <td>.\\data\\rt_hs_bad.txt</td>\n",
       "      <td>deplatforming</td>\n",
       "      <td>2.157147</td>\n",
       "      <td>3271</td>\n",
       "      <td>0.000199</td>\n",
       "      <td>3271</td>\n",
       "      <td>0.000035</td>\n",
       "    </tr>\n",
       "    <tr>\n",
       "      <th>13</th>\n",
       "      <td>.\\data\\rt_hs_bad.txt</td>\n",
       "      <td>weedkiller</td>\n",
       "      <td>2.157094</td>\n",
       "      <td>2946</td>\n",
       "      <td>0.000179</td>\n",
       "      <td>2946</td>\n",
       "      <td>0.000032</td>\n",
       "    </tr>\n",
       "    <tr>\n",
       "      <th>14</th>\n",
       "      <td>.\\data\\rt_hs_bad.txt</td>\n",
       "      <td>bigchemical</td>\n",
       "      <td>2.157079</td>\n",
       "      <td>2864</td>\n",
       "      <td>0.000174</td>\n",
       "      <td>2864</td>\n",
       "      <td>0.000031</td>\n",
       "    </tr>\n",
       "    <tr>\n",
       "      <th>15</th>\n",
       "      <td>.\\data\\rt_hs_bad.txt</td>\n",
       "      <td>fluoridation</td>\n",
       "      <td>2.157064</td>\n",
       "      <td>8014</td>\n",
       "      <td>0.000488</td>\n",
       "      <td>8017</td>\n",
       "      <td>0.000086</td>\n",
       "    </tr>\n",
       "    <tr>\n",
       "      <th>16</th>\n",
       "      <td>.\\data\\rt_hs_bad.txt</td>\n",
       "      <td>osu</td>\n",
       "      <td>2.157052</td>\n",
       "      <td>2730</td>\n",
       "      <td>0.000166</td>\n",
       "      <td>2730</td>\n",
       "      <td>0.000029</td>\n",
       "    </tr>\n",
       "    <tr>\n",
       "      <th>17</th>\n",
       "      <td>.\\data\\rt_hs_bad.txt</td>\n",
       "      <td>rotc</td>\n",
       "      <td>2.157052</td>\n",
       "      <td>2730</td>\n",
       "      <td>0.000166</td>\n",
       "      <td>2730</td>\n",
       "      <td>0.000029</td>\n",
       "    </tr>\n",
       "    <tr>\n",
       "      <th>18</th>\n",
       "      <td>.\\data\\rt_hs_bad.txt</td>\n",
       "      <td>glaxo</td>\n",
       "      <td>2.157045</td>\n",
       "      <td>4405</td>\n",
       "      <td>0.000268</td>\n",
       "      <td>4406</td>\n",
       "      <td>0.000047</td>\n",
       "    </tr>\n",
       "    <tr>\n",
       "      <th>19</th>\n",
       "      <td>.\\data\\rt_hs_bad.txt</td>\n",
       "      <td>mamadeb</td>\n",
       "      <td>2.157002</td>\n",
       "      <td>7242</td>\n",
       "      <td>0.000441</td>\n",
       "      <td>7245</td>\n",
       "      <td>0.000078</td>\n",
       "    </tr>\n",
       "    <tr>\n",
       "      <th>20</th>\n",
       "      <td>.\\data\\rt_hs_good.txt</td>\n",
       "      <td>gopsedition</td>\n",
       "      <td>0.358873</td>\n",
       "      <td>83300</td>\n",
       "      <td>0.001088</td>\n",
       "      <td>83300</td>\n",
       "      <td>0.000896</td>\n",
       "    </tr>\n",
       "    <tr>\n",
       "      <th>21</th>\n",
       "      <td>.\\data\\rt_hs_good.txt</td>\n",
       "      <td>bidenharris2020</td>\n",
       "      <td>0.358871</td>\n",
       "      <td>87748</td>\n",
       "      <td>0.001146</td>\n",
       "      <td>87748</td>\n",
       "      <td>0.000944</td>\n",
       "    </tr>\n",
       "    <tr>\n",
       "      <th>22</th>\n",
       "      <td>.\\data\\rt_hs_good.txt</td>\n",
       "      <td>trumpvirus</td>\n",
       "      <td>0.358864</td>\n",
       "      <td>110828</td>\n",
       "      <td>0.001448</td>\n",
       "      <td>110830</td>\n",
       "      <td>0.001192</td>\n",
       "    </tr>\n",
       "    <tr>\n",
       "      <th>23</th>\n",
       "      <td>.\\data\\rt_hs_good.txt</td>\n",
       "      <td>trumpinsurrection</td>\n",
       "      <td>0.358851</td>\n",
       "      <td>43834</td>\n",
       "      <td>0.000573</td>\n",
       "      <td>43834</td>\n",
       "      <td>0.000471</td>\n",
       "    </tr>\n",
       "    <tr>\n",
       "      <th>24</th>\n",
       "      <td>.\\data\\rt_hs_good.txt</td>\n",
       "      <td>trumprussia</td>\n",
       "      <td>0.358844</td>\n",
       "      <td>43169</td>\n",
       "      <td>0.000564</td>\n",
       "      <td>43169</td>\n",
       "      <td>0.000464</td>\n",
       "    </tr>\n",
       "    <tr>\n",
       "      <th>25</th>\n",
       "      <td>.\\data\\rt_hs_good.txt</td>\n",
       "      <td>votehimout</td>\n",
       "      <td>0.358817</td>\n",
       "      <td>35243</td>\n",
       "      <td>0.000460</td>\n",
       "      <td>35243</td>\n",
       "      <td>0.000379</td>\n",
       "    </tr>\n",
       "    <tr>\n",
       "      <th>26</th>\n",
       "      <td>.\\data\\rt_hs_good.txt</td>\n",
       "      <td>580</td>\n",
       "      <td>0.358806</td>\n",
       "      <td>33007</td>\n",
       "      <td>0.000431</td>\n",
       "      <td>33007</td>\n",
       "      <td>0.000355</td>\n",
       "    </tr>\n",
       "    <tr>\n",
       "      <th>27</th>\n",
       "      <td>.\\data\\rt_hs_good.txt</td>\n",
       "      <td>16m</td>\n",
       "      <td>0.358806</td>\n",
       "      <td>33001</td>\n",
       "      <td>0.000431</td>\n",
       "      <td>33001</td>\n",
       "      <td>0.000355</td>\n",
       "    </tr>\n",
       "    <tr>\n",
       "      <th>28</th>\n",
       "      <td>.\\data\\rt_hs_good.txt</td>\n",
       "      <td>sedition</td>\n",
       "      <td>0.358788</td>\n",
       "      <td>42195</td>\n",
       "      <td>0.000551</td>\n",
       "      <td>42197</td>\n",
       "      <td>0.000454</td>\n",
       "    </tr>\n",
       "    <tr>\n",
       "      <th>29</th>\n",
       "      <td>.\\data\\rt_hs_good.txt</td>\n",
       "      <td>wearamask</td>\n",
       "      <td>0.358786</td>\n",
       "      <td>52558</td>\n",
       "      <td>0.000687</td>\n",
       "      <td>52561</td>\n",
       "      <td>0.000565</td>\n",
       "    </tr>\n",
       "    <tr>\n",
       "      <th>30</th>\n",
       "      <td>.\\data\\rt_hs_good.txt</td>\n",
       "      <td>14m</td>\n",
       "      <td>0.358776</td>\n",
       "      <td>32995</td>\n",
       "      <td>0.000431</td>\n",
       "      <td>32996</td>\n",
       "      <td>0.000355</td>\n",
       "    </tr>\n",
       "    <tr>\n",
       "      <th>31</th>\n",
       "      <td>.\\data\\rt_hs_good.txt</td>\n",
       "      <td>trumpknew</td>\n",
       "      <td>0.358772</td>\n",
       "      <td>25238</td>\n",
       "      <td>0.000330</td>\n",
       "      <td>25238</td>\n",
       "      <td>0.000271</td>\n",
       "    </tr>\n",
       "    <tr>\n",
       "      <th>32</th>\n",
       "      <td>.\\data\\rt_hs_good.txt</td>\n",
       "      <td>physicaldistancing</td>\n",
       "      <td>0.358770</td>\n",
       "      <td>24990</td>\n",
       "      <td>0.000326</td>\n",
       "      <td>24990</td>\n",
       "      <td>0.000269</td>\n",
       "    </tr>\n",
       "    <tr>\n",
       "      <th>33</th>\n",
       "      <td>.\\data\\rt_hs_good.txt</td>\n",
       "      <td>deltavariant</td>\n",
       "      <td>0.358753</td>\n",
       "      <td>48910</td>\n",
       "      <td>0.000639</td>\n",
       "      <td>48915</td>\n",
       "      <td>0.000526</td>\n",
       "    </tr>\n",
       "    <tr>\n",
       "      <th>34</th>\n",
       "      <td>.\\data\\rt_hs_good.txt</td>\n",
       "      <td>mailinballots</td>\n",
       "      <td>0.358752</td>\n",
       "      <td>22460</td>\n",
       "      <td>0.000293</td>\n",
       "      <td>22460</td>\n",
       "      <td>0.000242</td>\n",
       "    </tr>\n",
       "    <tr>\n",
       "      <th>35</th>\n",
       "      <td>.\\data\\rt_hs_good.txt</td>\n",
       "      <td>loveisnottourism</td>\n",
       "      <td>0.358750</td>\n",
       "      <td>22173</td>\n",
       "      <td>0.000290</td>\n",
       "      <td>22173</td>\n",
       "      <td>0.000238</td>\n",
       "    </tr>\n",
       "    <tr>\n",
       "      <th>36</th>\n",
       "      <td>.\\data\\rt_hs_good.txt</td>\n",
       "      <td>scotusnominee</td>\n",
       "      <td>0.358746</td>\n",
       "      <td>21535</td>\n",
       "      <td>0.000281</td>\n",
       "      <td>21535</td>\n",
       "      <td>0.000232</td>\n",
       "    </tr>\n",
       "    <tr>\n",
       "      <th>37</th>\n",
       "      <td>.\\data\\rt_hs_good.txt</td>\n",
       "      <td>gopsuperspreaders</td>\n",
       "      <td>0.358741</td>\n",
       "      <td>20891</td>\n",
       "      <td>0.000273</td>\n",
       "      <td>20891</td>\n",
       "      <td>0.000225</td>\n",
       "    </tr>\n",
       "    <tr>\n",
       "      <th>38</th>\n",
       "      <td>.\\data\\rt_hs_good.txt</td>\n",
       "      <td>stayhome</td>\n",
       "      <td>0.358741</td>\n",
       "      <td>44174</td>\n",
       "      <td>0.000577</td>\n",
       "      <td>44179</td>\n",
       "      <td>0.000475</td>\n",
       "    </tr>\n",
       "    <tr>\n",
       "      <th>39</th>\n",
       "      <td>.\\data\\rt_hs_good.txt</td>\n",
       "      <td>convicttrump</td>\n",
       "      <td>0.358737</td>\n",
       "      <td>25746</td>\n",
       "      <td>0.000336</td>\n",
       "      <td>25747</td>\n",
       "      <td>0.000277</td>\n",
       "    </tr>\n",
       "  </tbody>\n",
       "</table>\n",
       "</div>"
      ],
      "text/plain": [
       "                   source                word      sage  file_count  \\\n",
       "0    .\\data\\rt_hs_bad.txt         thedefender  2.157602      304331   \n",
       "1    .\\data\\rt_hs_bad.txt           hankaaron  2.157399        6735   \n",
       "2    .\\data\\rt_hs_bad.txt            dolworth  2.157393        6578   \n",
       "3    .\\data\\rt_hs_bad.txt                zook  2.157347        5546   \n",
       "4    .\\data\\rt_hs_bad.txt             classen  2.157295        4714   \n",
       "5    .\\data\\rt_hs_bad.txt                bart  2.157295        4713   \n",
       "6    .\\data\\rt_hs_bad.txt                we89  2.157249        4147   \n",
       "7    .\\data\\rt_hs_bad.txt         willowbrook  2.157235        4005   \n",
       "8    .\\data\\rt_hs_bad.txt                chum  2.157231        6416   \n",
       "9    .\\data\\rt_hs_bad.txt              isaiah  2.157203        3705   \n",
       "10   .\\data\\rt_hs_bad.txt               fabio  2.157189        3583   \n",
       "11   .\\data\\rt_hs_bad.txt         berlingieri  2.157189        3583   \n",
       "12   .\\data\\rt_hs_bad.txt       deplatforming  2.157147        3271   \n",
       "13   .\\data\\rt_hs_bad.txt          weedkiller  2.157094        2946   \n",
       "14   .\\data\\rt_hs_bad.txt         bigchemical  2.157079        2864   \n",
       "15   .\\data\\rt_hs_bad.txt        fluoridation  2.157064        8014   \n",
       "16   .\\data\\rt_hs_bad.txt                 osu  2.157052        2730   \n",
       "17   .\\data\\rt_hs_bad.txt                rotc  2.157052        2730   \n",
       "18   .\\data\\rt_hs_bad.txt               glaxo  2.157045        4405   \n",
       "19   .\\data\\rt_hs_bad.txt             mamadeb  2.157002        7242   \n",
       "20  .\\data\\rt_hs_good.txt         gopsedition  0.358873       83300   \n",
       "21  .\\data\\rt_hs_good.txt     bidenharris2020  0.358871       87748   \n",
       "22  .\\data\\rt_hs_good.txt          trumpvirus  0.358864      110828   \n",
       "23  .\\data\\rt_hs_good.txt   trumpinsurrection  0.358851       43834   \n",
       "24  .\\data\\rt_hs_good.txt         trumprussia  0.358844       43169   \n",
       "25  .\\data\\rt_hs_good.txt          votehimout  0.358817       35243   \n",
       "26  .\\data\\rt_hs_good.txt                 580  0.358806       33007   \n",
       "27  .\\data\\rt_hs_good.txt                 16m  0.358806       33001   \n",
       "28  .\\data\\rt_hs_good.txt            sedition  0.358788       42195   \n",
       "29  .\\data\\rt_hs_good.txt           wearamask  0.358786       52558   \n",
       "30  .\\data\\rt_hs_good.txt                 14m  0.358776       32995   \n",
       "31  .\\data\\rt_hs_good.txt           trumpknew  0.358772       25238   \n",
       "32  .\\data\\rt_hs_good.txt  physicaldistancing  0.358770       24990   \n",
       "33  .\\data\\rt_hs_good.txt        deltavariant  0.358753       48910   \n",
       "34  .\\data\\rt_hs_good.txt       mailinballots  0.358752       22460   \n",
       "35  .\\data\\rt_hs_good.txt    loveisnottourism  0.358750       22173   \n",
       "36  .\\data\\rt_hs_good.txt       scotusnominee  0.358746       21535   \n",
       "37  .\\data\\rt_hs_good.txt   gopsuperspreaders  0.358741       20891   \n",
       "38  .\\data\\rt_hs_good.txt            stayhome  0.358741       44174   \n",
       "39  .\\data\\rt_hs_good.txt        convicttrump  0.358737       25746   \n",
       "\n",
       "    file_rate  base_count  base_rate  \n",
       "0    0.018539      304342   0.003273  \n",
       "1    0.000410        6735   0.000072  \n",
       "2    0.000401        6578   0.000071  \n",
       "3    0.000338        5546   0.000060  \n",
       "4    0.000287        4714   0.000051  \n",
       "5    0.000287        4713   0.000051  \n",
       "6    0.000253        4147   0.000045  \n",
       "7    0.000244        4005   0.000043  \n",
       "8    0.000391        6417   0.000069  \n",
       "9    0.000226        3705   0.000040  \n",
       "10   0.000218        3583   0.000039  \n",
       "11   0.000218        3583   0.000039  \n",
       "12   0.000199        3271   0.000035  \n",
       "13   0.000179        2946   0.000032  \n",
       "14   0.000174        2864   0.000031  \n",
       "15   0.000488        8017   0.000086  \n",
       "16   0.000166        2730   0.000029  \n",
       "17   0.000166        2730   0.000029  \n",
       "18   0.000268        4406   0.000047  \n",
       "19   0.000441        7245   0.000078  \n",
       "20   0.001088       83300   0.000896  \n",
       "21   0.001146       87748   0.000944  \n",
       "22   0.001448      110830   0.001192  \n",
       "23   0.000573       43834   0.000471  \n",
       "24   0.000564       43169   0.000464  \n",
       "25   0.000460       35243   0.000379  \n",
       "26   0.000431       33007   0.000355  \n",
       "27   0.000431       33001   0.000355  \n",
       "28   0.000551       42197   0.000454  \n",
       "29   0.000687       52561   0.000565  \n",
       "30   0.000431       32996   0.000355  \n",
       "31   0.000330       25238   0.000271  \n",
       "32   0.000326       24990   0.000269  \n",
       "33   0.000639       48915   0.000526  \n",
       "34   0.000293       22460   0.000242  \n",
       "35   0.000290       22173   0.000238  \n",
       "36   0.000281       21535   0.000232  \n",
       "37   0.000273       20891   0.000225  \n",
       "38   0.000577       44179   0.000475  \n",
       "39   0.000336       25747   0.000277  "
      ]
     },
     "execution_count": 6,
     "metadata": {},
     "output_type": "execute_result"
    }
   ],
   "source": [
    "path_sage_rt = \"F:/Supsi/COVID-19-Tweets/large_files/sage_data/hs_rt_bad_good.csv\"\n",
    "path_sage = \"F:/Supsi/COVID-19-Tweets/large_files/sage_data/hs_bad_good.csv\"\n",
    "sage_good_bad = pd.read_csv(path_sage_rt, lineterminator=\"\\n\")\n",
    "sage_good_bad\n",
    "# print(sage_good_bad.last_valid_index())"
   ]
  },
  {
   "cell_type": "code",
   "execution_count": 3,
   "metadata": {},
   "outputs": [
    {
     "data": {
      "text/html": [
       "<div>\n",
       "<style scoped>\n",
       "    .dataframe tbody tr th:only-of-type {\n",
       "        vertical-align: middle;\n",
       "    }\n",
       "\n",
       "    .dataframe tbody tr th {\n",
       "        vertical-align: top;\n",
       "    }\n",
       "\n",
       "    .dataframe thead th {\n",
       "        text-align: right;\n",
       "    }\n",
       "</style>\n",
       "<table border=\"1\" class=\"dataframe\">\n",
       "  <thead>\n",
       "    <tr style=\"text-align: right;\">\n",
       "      <th></th>\n",
       "      <th>source</th>\n",
       "      <th>word</th>\n",
       "      <th>sage</th>\n",
       "      <th>file_count</th>\n",
       "      <th>file_rate</th>\n",
       "      <th>base_count</th>\n",
       "      <th>base_rate</th>\n",
       "    </tr>\n",
       "  </thead>\n",
       "  <tbody>\n",
       "    <tr>\n",
       "      <th>0</th>\n",
       "      <td>C:\\Users\\gianl\\Desktop\\Gi\\Supsi\\BachelorProjec...</td>\n",
       "      <td>thedefender</td>\n",
       "      <td>4.474934</td>\n",
       "      <td>14256</td>\n",
       "      <td>0.442870</td>\n",
       "      <td>14256</td>\n",
       "      <td>0.034374</td>\n",
       "    </tr>\n",
       "    <tr>\n",
       "      <th>1</th>\n",
       "      <td>C:\\Users\\gianl\\Desktop\\Gi\\Supsi\\BachelorProjec...</td>\n",
       "      <td>poli</td>\n",
       "      <td>4.472942</td>\n",
       "      <td>804</td>\n",
       "      <td>0.024977</td>\n",
       "      <td>804</td>\n",
       "      <td>0.001939</td>\n",
       "    </tr>\n",
       "    <tr>\n",
       "      <th>2</th>\n",
       "      <td>C:\\Users\\gianl\\Desktop\\Gi\\Supsi\\BachelorProjec...</td>\n",
       "      <td>truthaboutcovid</td>\n",
       "      <td>4.472457</td>\n",
       "      <td>441</td>\n",
       "      <td>0.013700</td>\n",
       "      <td>441</td>\n",
       "      <td>0.001063</td>\n",
       "    </tr>\n",
       "    <tr>\n",
       "      <th>3</th>\n",
       "      <td>C:\\Users\\gianl\\Desktop\\Gi\\Supsi\\BachelorProjec...</td>\n",
       "      <td>aleksandrlukashenko</td>\n",
       "      <td>4.468981</td>\n",
       "      <td>194</td>\n",
       "      <td>0.006027</td>\n",
       "      <td>194</td>\n",
       "      <td>0.000468</td>\n",
       "    </tr>\n",
       "    <tr>\n",
       "      <th>4</th>\n",
       "      <td>C:\\Users\\gianl\\Desktop\\Gi\\Supsi\\BachelorProjec...</td>\n",
       "      <td>nswlockdown</td>\n",
       "      <td>4.465973</td>\n",
       "      <td>163</td>\n",
       "      <td>0.005064</td>\n",
       "      <td>163</td>\n",
       "      <td>0.000393</td>\n",
       "    </tr>\n",
       "    <tr>\n",
       "      <th>5</th>\n",
       "      <td>C:\\Users\\gianl\\Desktop\\Gi\\Supsi\\BachelorProjec...</td>\n",
       "      <td>trumponeaz</td>\n",
       "      <td>4.464776</td>\n",
       "      <td>115</td>\n",
       "      <td>0.003573</td>\n",
       "      <td>115</td>\n",
       "      <td>0.000277</td>\n",
       "    </tr>\n",
       "    <tr>\n",
       "      <th>6</th>\n",
       "      <td>C:\\Users\\gianl\\Desktop\\Gi\\Supsi\\BachelorProjec...</td>\n",
       "      <td>monsanto</td>\n",
       "      <td>4.462953</td>\n",
       "      <td>96</td>\n",
       "      <td>0.002982</td>\n",
       "      <td>96</td>\n",
       "      <td>0.000231</td>\n",
       "    </tr>\n",
       "    <tr>\n",
       "      <th>7</th>\n",
       "      <td>C:\\Users\\gianl\\Desktop\\Gi\\Supsi\\BachelorProjec...</td>\n",
       "      <td>amindofyourown</td>\n",
       "      <td>4.460962</td>\n",
       "      <td>89</td>\n",
       "      <td>0.002765</td>\n",
       "      <td>89</td>\n",
       "      <td>0.000215</td>\n",
       "    </tr>\n",
       "    <tr>\n",
       "      <th>8</th>\n",
       "      <td>C:\\Users\\gianl\\Desktop\\Gi\\Supsi\\BachelorProjec...</td>\n",
       "      <td>bribery</td>\n",
       "      <td>4.459001</td>\n",
       "      <td>80</td>\n",
       "      <td>0.002485</td>\n",
       "      <td>80</td>\n",
       "      <td>0.000193</td>\n",
       "    </tr>\n",
       "    <tr>\n",
       "      <th>9</th>\n",
       "      <td>C:\\Users\\gianl\\Desktop\\Gi\\Supsi\\BachelorProjec...</td>\n",
       "      <td>boycottnfl</td>\n",
       "      <td>4.458815</td>\n",
       "      <td>79</td>\n",
       "      <td>0.002454</td>\n",
       "      <td>79</td>\n",
       "      <td>0.000190</td>\n",
       "    </tr>\n",
       "    <tr>\n",
       "      <th>10</th>\n",
       "      <td>C:\\Users\\gianl\\Desktop\\Gi\\Supsi\\BachelorProjec...</td>\n",
       "      <td>ncov2019</td>\n",
       "      <td>0.303546</td>\n",
       "      <td>6938</td>\n",
       "      <td>0.018136</td>\n",
       "      <td>6938</td>\n",
       "      <td>0.016729</td>\n",
       "    </tr>\n",
       "    <tr>\n",
       "      <th>11</th>\n",
       "      <td>C:\\Users\\gianl\\Desktop\\Gi\\Supsi\\BachelorProjec...</td>\n",
       "      <td>2019ncov</td>\n",
       "      <td>0.303467</td>\n",
       "      <td>6426</td>\n",
       "      <td>0.016798</td>\n",
       "      <td>6426</td>\n",
       "      <td>0.015494</td>\n",
       "    </tr>\n",
       "    <tr>\n",
       "      <th>12</th>\n",
       "      <td>C:\\Users\\gianl\\Desktop\\Gi\\Supsi\\BachelorProjec...</td>\n",
       "      <td>ebola</td>\n",
       "      <td>0.303148</td>\n",
       "      <td>4997</td>\n",
       "      <td>0.013063</td>\n",
       "      <td>4998</td>\n",
       "      <td>0.012051</td>\n",
       "    </tr>\n",
       "    <tr>\n",
       "      <th>13</th>\n",
       "      <td>C:\\Users\\gianl\\Desktop\\Gi\\Supsi\\BachelorProjec...</td>\n",
       "      <td>coronavirus</td>\n",
       "      <td>0.302974</td>\n",
       "      <td>42989</td>\n",
       "      <td>0.112376</td>\n",
       "      <td>43038</td>\n",
       "      <td>0.103772</td>\n",
       "    </tr>\n",
       "    <tr>\n",
       "      <th>14</th>\n",
       "      <td>C:\\Users\\gianl\\Desktop\\Gi\\Supsi\\BachelorProjec...</td>\n",
       "      <td>sarscov2</td>\n",
       "      <td>0.302711</td>\n",
       "      <td>12999</td>\n",
       "      <td>0.033980</td>\n",
       "      <td>13014</td>\n",
       "      <td>0.031379</td>\n",
       "    </tr>\n",
       "    <tr>\n",
       "      <th>15</th>\n",
       "      <td>C:\\Users\\gianl\\Desktop\\Gi\\Supsi\\BachelorProjec...</td>\n",
       "      <td>nih</td>\n",
       "      <td>0.302383</td>\n",
       "      <td>2415</td>\n",
       "      <td>0.006313</td>\n",
       "      <td>2415</td>\n",
       "      <td>0.005823</td>\n",
       "    </tr>\n",
       "    <tr>\n",
       "      <th>16</th>\n",
       "      <td>C:\\Users\\gianl\\Desktop\\Gi\\Supsi\\BachelorProjec...</td>\n",
       "      <td>wuhan</td>\n",
       "      <td>0.302087</td>\n",
       "      <td>2014</td>\n",
       "      <td>0.005265</td>\n",
       "      <td>2014</td>\n",
       "      <td>0.004856</td>\n",
       "    </tr>\n",
       "    <tr>\n",
       "      <th>17</th>\n",
       "      <td>C:\\Users\\gianl\\Desktop\\Gi\\Supsi\\BachelorProjec...</td>\n",
       "      <td>globalhealth</td>\n",
       "      <td>0.301615</td>\n",
       "      <td>1672</td>\n",
       "      <td>0.004371</td>\n",
       "      <td>1672</td>\n",
       "      <td>0.004031</td>\n",
       "    </tr>\n",
       "    <tr>\n",
       "      <th>18</th>\n",
       "      <td>C:\\Users\\gianl\\Desktop\\Gi\\Supsi\\BachelorProjec...</td>\n",
       "      <td>drc</td>\n",
       "      <td>0.301490</td>\n",
       "      <td>1601</td>\n",
       "      <td>0.004185</td>\n",
       "      <td>1601</td>\n",
       "      <td>0.003860</td>\n",
       "    </tr>\n",
       "    <tr>\n",
       "      <th>19</th>\n",
       "      <td>C:\\Users\\gianl\\Desktop\\Gi\\Supsi\\BachelorProjec...</td>\n",
       "      <td>sarscov19</td>\n",
       "      <td>0.301220</td>\n",
       "      <td>1463</td>\n",
       "      <td>0.003824</td>\n",
       "      <td>1463</td>\n",
       "      <td>0.003528</td>\n",
       "    </tr>\n",
       "  </tbody>\n",
       "</table>\n",
       "</div>"
      ],
      "text/plain": [
       "                                               source                 word  \\\n",
       "0   C:\\Users\\gianl\\Desktop\\Gi\\Supsi\\BachelorProjec...          thedefender   \n",
       "1   C:\\Users\\gianl\\Desktop\\Gi\\Supsi\\BachelorProjec...                 poli   \n",
       "2   C:\\Users\\gianl\\Desktop\\Gi\\Supsi\\BachelorProjec...      truthaboutcovid   \n",
       "3   C:\\Users\\gianl\\Desktop\\Gi\\Supsi\\BachelorProjec...  aleksandrlukashenko   \n",
       "4   C:\\Users\\gianl\\Desktop\\Gi\\Supsi\\BachelorProjec...          nswlockdown   \n",
       "5   C:\\Users\\gianl\\Desktop\\Gi\\Supsi\\BachelorProjec...           trumponeaz   \n",
       "6   C:\\Users\\gianl\\Desktop\\Gi\\Supsi\\BachelorProjec...             monsanto   \n",
       "7   C:\\Users\\gianl\\Desktop\\Gi\\Supsi\\BachelorProjec...       amindofyourown   \n",
       "8   C:\\Users\\gianl\\Desktop\\Gi\\Supsi\\BachelorProjec...              bribery   \n",
       "9   C:\\Users\\gianl\\Desktop\\Gi\\Supsi\\BachelorProjec...           boycottnfl   \n",
       "10  C:\\Users\\gianl\\Desktop\\Gi\\Supsi\\BachelorProjec...             ncov2019   \n",
       "11  C:\\Users\\gianl\\Desktop\\Gi\\Supsi\\BachelorProjec...             2019ncov   \n",
       "12  C:\\Users\\gianl\\Desktop\\Gi\\Supsi\\BachelorProjec...                ebola   \n",
       "13  C:\\Users\\gianl\\Desktop\\Gi\\Supsi\\BachelorProjec...          coronavirus   \n",
       "14  C:\\Users\\gianl\\Desktop\\Gi\\Supsi\\BachelorProjec...             sarscov2   \n",
       "15  C:\\Users\\gianl\\Desktop\\Gi\\Supsi\\BachelorProjec...                  nih   \n",
       "16  C:\\Users\\gianl\\Desktop\\Gi\\Supsi\\BachelorProjec...                wuhan   \n",
       "17  C:\\Users\\gianl\\Desktop\\Gi\\Supsi\\BachelorProjec...         globalhealth   \n",
       "18  C:\\Users\\gianl\\Desktop\\Gi\\Supsi\\BachelorProjec...                  drc   \n",
       "19  C:\\Users\\gianl\\Desktop\\Gi\\Supsi\\BachelorProjec...            sarscov19   \n",
       "\n",
       "        sage  file_count  file_rate  base_count  base_rate  \n",
       "0   4.474934       14256   0.442870       14256   0.034374  \n",
       "1   4.472942         804   0.024977         804   0.001939  \n",
       "2   4.472457         441   0.013700         441   0.001063  \n",
       "3   4.468981         194   0.006027         194   0.000468  \n",
       "4   4.465973         163   0.005064         163   0.000393  \n",
       "5   4.464776         115   0.003573         115   0.000277  \n",
       "6   4.462953          96   0.002982          96   0.000231  \n",
       "7   4.460962          89   0.002765          89   0.000215  \n",
       "8   4.459001          80   0.002485          80   0.000193  \n",
       "9   4.458815          79   0.002454          79   0.000190  \n",
       "10  0.303546        6938   0.018136        6938   0.016729  \n",
       "11  0.303467        6426   0.016798        6426   0.015494  \n",
       "12  0.303148        4997   0.013063        4998   0.012051  \n",
       "13  0.302974       42989   0.112376       43038   0.103772  \n",
       "14  0.302711       12999   0.033980       13014   0.031379  \n",
       "15  0.302383        2415   0.006313        2415   0.005823  \n",
       "16  0.302087        2014   0.005265        2014   0.004856  \n",
       "17  0.301615        1672   0.004371        1672   0.004031  \n",
       "18  0.301490        1601   0.004185        1601   0.003860  \n",
       "19  0.301220        1463   0.003824        1463   0.003528  "
      ]
     },
     "execution_count": 3,
     "metadata": {},
     "output_type": "execute_result"
    }
   ],
   "source": [
    "sage_good_bad_ = pd.read_csv(path_sage, lineterminator=\"\\n\")\n",
    "sage_good_bad_"
   ]
  },
  {
   "cell_type": "code",
   "execution_count": null,
   "metadata": {},
   "outputs": [],
   "source": []
  }
 ],
 "metadata": {
  "kernelspec": {
   "display_name": "Python 3 (ipykernel)",
   "language": "python",
   "name": "python3"
  },
  "language_info": {
   "codemirror_mode": {
    "name": "ipython",
    "version": 3
   },
   "file_extension": ".py",
   "mimetype": "text/x-python",
   "name": "python",
   "nbconvert_exporter": "python",
   "pygments_lexer": "ipython3",
   "version": "3.8.11"
  }
 },
 "nbformat": 4,
 "nbformat_minor": 4
}
