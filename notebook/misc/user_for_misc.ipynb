{
 "cells": [
  {
   "cell_type": "code",
   "execution_count": 1,
   "id": "fc763919",
   "metadata": {},
   "outputs": [],
   "source": [
    "import pandas as pd\n",
    "import seaborn as sns\n",
    "import numpy as np"
   ]
  },
  {
   "cell_type": "code",
   "execution_count": 2,
   "id": "789ef608",
   "metadata": {},
   "outputs": [],
   "source": [
    "path = \"F:/Supsi/COVID-19-Tweets/large_files/rt_network/louvain/big_network/df_degree.csv\""
   ]
  },
  {
   "cell_type": "code",
   "execution_count": 5,
   "id": "88987785",
   "metadata": {},
   "outputs": [
    {
     "name": "stdout",
     "output_type": "stream",
     "text": [
      "68340\n",
      "12513502\n"
     ]
    },
    {
     "data": {
      "text/plain": [
       "494.30459467369036"
      ]
     },
     "execution_count": 5,
     "metadata": {},
     "output_type": "execute_result"
    }
   ],
   "source": [
    "degree = pd.read_csv(path)\n",
    "degrees = list(degree[degree[\"degree\"]>100][\"degree\"])\n",
    "print(len(degrees))\n",
    "print(len(degree))\n",
    "np.mean(degrees)"
   ]
  },
  {
   "cell_type": "code",
   "execution_count": null,
   "id": "4a4fab89",
   "metadata": {},
   "outputs": [],
   "source": [
    "# sns.displot(degree, x=\"degree\")"
   ]
  },
  {
   "cell_type": "code",
   "execution_count": null,
   "id": "ad892660",
   "metadata": {},
   "outputs": [],
   "source": [
    "df = degree.sample(n=10)\n",
    "df"
   ]
  },
  {
   "cell_type": "code",
   "execution_count": null,
   "id": "545723f7",
   "metadata": {},
   "outputs": [],
   "source": []
  }
 ],
 "metadata": {
  "kernelspec": {
   "display_name": "Python 3",
   "language": "python",
   "name": "python3"
  },
  "language_info": {
   "codemirror_mode": {
    "name": "ipython",
    "version": 3
   },
   "file_extension": ".py",
   "mimetype": "text/x-python",
   "name": "python",
   "nbconvert_exporter": "python",
   "pygments_lexer": "ipython3",
   "version": "3.8.11"
  }
 },
 "nbformat": 4,
 "nbformat_minor": 5
}
