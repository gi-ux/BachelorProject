{
 "cells": [
  {
   "cell_type": "code",
   "execution_count": 1,
   "id": "1a996418",
   "metadata": {},
   "outputs": [
    {
     "data": {
      "application/javascript": [
       "IPython.notebook.set_autosave_interval(3600000)"
      ]
     },
     "metadata": {},
     "output_type": "display_data"
    },
    {
     "name": "stdout",
     "output_type": "stream",
     "text": [
      "Autosaving every 3600 seconds\n"
     ]
    }
   ],
   "source": [
    "import pandas as pd\n",
    "import plotly.graph_objects as go\n",
    "import numpy as np\n",
    "import matplotlib.pyplot as plt\n",
    "from matplotlib.pyplot import figure\n",
    "import datetime\n",
    "import plotly.express as px\n",
    "import math\n",
    "import warnings\n",
    "warnings.filterwarnings('ignore')\n",
    "import time\n",
    "from time import perf_counter\n",
    "import glob\n",
    "import tweets_utils\n",
    "import csv\n",
    "import importlib\n",
    "import seaborn as sns\n",
    "%autosave 3600"
   ]
  },
  {
   "cell_type": "markdown",
   "id": "bf9e76ef",
   "metadata": {},
   "source": [
    "# Indice\n",
    "\n",
    "- [Data collection](#data_collection)\n",
    "- [Hashtag study](#hashtag_study)\n",
    "- [Urls study](#urls_study)\n",
    "- [Dates study](#date_study)"
   ]
  },
  {
   "cell_type": "code",
   "execution_count": 2,
   "id": "126dcbcd",
   "metadata": {},
   "outputs": [],
   "source": [
    "path = glob.glob(\"C:/Users/gianl/Desktop/Gi/Supsi/BachelorProject/csv/not_found/\")\n",
    "issues = pd.read_csv(path[0] + \"users_not_found.csv\", low_memory=False, lineterminator=\"\\n\")\n",
    "suspended = pd.read_csv(path[0] + \"users_not_found_inspected.csv\", low_memory=False, lineterminator=\"\\n\")"
   ]
  },
  {
   "cell_type": "code",
   "execution_count": 3,
   "id": "e74fc082",
   "metadata": {},
   "outputs": [],
   "source": [
    "# issues.loc[(issues[\"code\"].notna())]"
   ]
  },
  {
   "cell_type": "code",
   "execution_count": 12,
   "id": "a5ea85f4",
   "metadata": {},
   "outputs": [],
   "source": [
    "ids_suspended = list(suspended.loc[(suspended['code']==63)][\"id\"])"
   ]
  },
  {
   "cell_type": "code",
   "execution_count": 17,
   "id": "2f91734c",
   "metadata": {},
   "outputs": [],
   "source": [
    "list_name = issues[issues.id.isin(ids_suspended)][\"screen_name\"]"
   ]
  },
  {
   "cell_type": "markdown",
   "id": "9573cd5d",
   "metadata": {},
   "source": [
    "# Data collection\n",
    "<a id=\"data_collection\"/>"
   ]
  },
  {
   "cell_type": "code",
   "execution_count": 7,
   "id": "b615fb95",
   "metadata": {},
   "outputs": [],
   "source": [
    "files_tweets = glob.glob(\"F:/Supsi/COVID-19-Tweets/*/tweets.csv\")"
   ]
  },
  {
   "cell_type": "code",
   "execution_count": 10,
   "id": "35f883e3",
   "metadata": {},
   "outputs": [
    {
     "name": "stdout",
     "output_type": "stream",
     "text": [
      "<class 'pandas.core.frame.DataFrame'>\n",
      "RangeIndex: 10 entries, 0 to 9\n",
      "Data columns (total 46 columns):\n",
      " #   Column                     Non-Null Count  Dtype  \n",
      "---  ------                     --------------  -----  \n",
      " 0   id                         10 non-null     int64  \n",
      " 1   id_str                     10 non-null     int64  \n",
      " 2   created_at                 10 non-null     object \n",
      " 3   user_id                    10 non-null     int64  \n",
      " 4   user_screen_name           10 non-null     object \n",
      " 5   user_verified              10 non-null     bool   \n",
      " 6   user_created_at            10 non-null     object \n",
      " 7   text                       10 non-null     object \n",
      " 8   source                     10 non-null     object \n",
      " 9   coordinates                0 non-null      float64\n",
      " 10  is_quote_status            10 non-null     bool   \n",
      " 11  retweet_count              10 non-null     int64  \n",
      " 12  favorite_count             10 non-null     int64  \n",
      " 13  favorited                  10 non-null     bool   \n",
      " 14  retweeted                  10 non-null     bool   \n",
      " 15  lang                       10 non-null     object \n",
      " 16  in_reply_to_status_id      0 non-null      float64\n",
      " 17  in_reply_to_status_id_str  0 non-null      float64\n",
      " 18  in_reply_to_user_id        0 non-null      float64\n",
      " 19  in_reply_to_user_id_str    0 non-null      float64\n",
      " 20  in_reply_to_screen_name    0 non-null      float64\n",
      " 21  rt_coordinates             0 non-null      float64\n",
      " 22  rt_created_at              9 non-null      object \n",
      " 23  rt_in_reply_to_status_id   1 non-null      float64\n",
      " 24  rt_in_reply_to_user_id     2 non-null      float64\n",
      " 25  rt_lang                    9 non-null      object \n",
      " 26  rt_favourite_count         9 non-null      float64\n",
      " 27  rt_id                      9 non-null      float64\n",
      " 28  rt_user_id                 9 non-null      float64\n",
      " 29  rt_user_screen_name        9 non-null      object \n",
      " 30  rt_user_created_at         9 non-null      object \n",
      " 31  rt_user_verified           9 non-null      object \n",
      " 32  rt_user_followers_count    9 non-null      float64\n",
      " 33  rt_user_friends_count      9 non-null      float64\n",
      " 34  rt_user_favourites_count   9 non-null      float64\n",
      " 35  quoted_status_id           1 non-null      float64\n",
      " 36  quoted_status_text         0 non-null      float64\n",
      " 37  quoted_status_created_at   0 non-null      float64\n",
      " 38  quoted_user_id             0 non-null      float64\n",
      " 39  quoted_user_created_at     0 non-null      float64\n",
      " 40  hashtags                   10 non-null     object \n",
      " 41  symbols                    10 non-null     object \n",
      " 42  user_mentions              10 non-null     object \n",
      " 43  urls                       10 non-null     object \n",
      " 44  polls                      10 non-null     object \n",
      " 45  media                      10 non-null     object \n",
      "dtypes: bool(4), float64(20), int64(5), object(17)\n",
      "memory usage: 3.4+ KB\n"
     ]
    }
   ],
   "source": [
    "chunksize = 10\n",
    "for chunk in pd.read_csv(files_tweets[0], chunksize=10, lineterminator = '\\n'):\n",
    "    df = chunk\n",
    "    break\n",
    "df.head()\n",
    "df.info()"
   ]
  },
  {
   "cell_type": "code",
   "execution_count": 39,
   "id": "46bf4619",
   "metadata": {},
   "outputs": [],
   "source": [
    "cols_tweets = [u'user_screen_name', u'rt_user_screen_name', u'hashtags', u'urls', u'text', u'created_at']\n",
    "\n",
    "users = []\n",
    "hashtags = []\n",
    "urls = []\n",
    "text = []\n",
    "created_at = []"
   ]
  },
  {
   "cell_type": "code",
   "execution_count": 40,
   "id": "5f1b3e60",
   "metadata": {},
   "outputs": [
    {
     "name": "stdout",
     "output_type": "stream",
     "text": [
      "Reading file: F:/Supsi/COVID-19-Tweets\\2020-01\\tweets.csv\n",
      "Processing chunk 1\n",
      "Processing chunk 2\n",
      "Processing chunk 3\n",
      "Processing chunk 4\n",
      "Processing chunk 5\n",
      "Mese numero 1\n",
      "Reading file: F:/Supsi/COVID-19-Tweets\\2020-02\\tweets.csv\n",
      "Processing chunk 1\n",
      "Processing chunk 2\n",
      "Processing chunk 3\n",
      "Processing chunk 4\n",
      "Processing chunk 5\n",
      "Processing chunk 6\n",
      "Processing chunk 7\n",
      "Processing chunk 8\n",
      "Processing chunk 9\n",
      "Processing chunk 10\n",
      "Processing chunk 11\n",
      "Processing chunk 12\n",
      "Mese numero 2\n",
      "Reading file: F:/Supsi/COVID-19-Tweets\\2020-03\\tweets.csv\n",
      "Processing chunk 1\n",
      "Processing chunk 2\n",
      "Processing chunk 3\n",
      "Processing chunk 4\n",
      "Processing chunk 5\n",
      "Processing chunk 6\n",
      "Processing chunk 7\n",
      "Processing chunk 8\n",
      "Processing chunk 9\n",
      "Processing chunk 10\n",
      "Processing chunk 11\n",
      "Processing chunk 12\n",
      "Processing chunk 13\n",
      "Processing chunk 14\n",
      "Processing chunk 15\n",
      "Mese numero 3\n",
      "Reading file: F:/Supsi/COVID-19-Tweets\\2020-04\\tweets.csv\n",
      "Processing chunk 1\n",
      "Processing chunk 2\n",
      "Processing chunk 3\n",
      "Processing chunk 4\n",
      "Processing chunk 5\n",
      "Processing chunk 6\n",
      "Processing chunk 7\n",
      "Processing chunk 8\n",
      "Processing chunk 9\n",
      "Processing chunk 10\n",
      "Processing chunk 11\n",
      "Processing chunk 12\n",
      "Processing chunk 13\n",
      "Mese numero 4\n",
      "Reading file: F:/Supsi/COVID-19-Tweets\\2020-05\\tweets.csv\n",
      "Processing chunk 1\n",
      "Processing chunk 2\n",
      "Processing chunk 3\n",
      "Processing chunk 4\n",
      "Processing chunk 5\n",
      "Processing chunk 6\n",
      "Processing chunk 7\n",
      "Processing chunk 8\n",
      "Processing chunk 9\n",
      "Processing chunk 10\n",
      "Processing chunk 11\n",
      "Processing chunk 12\n",
      "Processing chunk 13\n",
      "Processing chunk 14\n",
      "Processing chunk 15\n",
      "Processing chunk 16\n",
      "Processing chunk 17\n",
      "Processing chunk 18\n",
      "Processing chunk 19\n",
      "Processing chunk 20\n",
      "Processing chunk 21\n",
      "Processing chunk 22\n",
      "Processing chunk 23\n",
      "Processing chunk 24\n",
      "Mese numero 5\n",
      "Time:  1881.6147296\n"
     ]
    }
   ],
   "source": [
    "result = []\n",
    "importlib.reload(tweets_utils)\n",
    "start_time = time.perf_counter()\n",
    "j = 0\n",
    "for filename in files_tweets:\n",
    "    print(f\"Reading file: {filename}\")\n",
    "    result.extend(tweets_utils.process_all_data(filename, cols_tweets, True, list_name))\n",
    "    lista = result[j]\n",
    "    j = j + 1\n",
    "    print(f\"Mese numero {j}\")\n",
    "    for i in range(len(lista)):\n",
    "        users.extend(lista[i][\"users\"])\n",
    "        hashtags.extend(lista[i][\"hashtags\"])\n",
    "        urls.extend(lista[i][\"urls\"])\n",
    "        text.extend(lista[i][\"text\"])\n",
    "        created_at.extend(lista[i][\"created_at\"])\n",
    "        \n",
    "stop_time = time.perf_counter()\n",
    "print(\"Time: \",stop_time-start_time)"
   ]
  },
  {
   "cell_type": "code",
   "execution_count": 42,
   "id": "bc042f49",
   "metadata": {},
   "outputs": [
    {
     "data": {
      "text/plain": [
       "97562"
      ]
     },
     "execution_count": 42,
     "metadata": {},
     "output_type": "execute_result"
    }
   ],
   "source": [
    "len(users)"
   ]
  },
  {
   "cell_type": "code",
   "execution_count": 43,
   "id": "3d2f65e7",
   "metadata": {},
   "outputs": [],
   "source": [
    "df = pd.DataFrame(list(zip(users, hashtags, urls, text, created_at)),\n",
    "               columns =['name', 'hashtags', 'urls', 'text', \"date\"])\n",
    "df.to_csv(\"C:/Users/gianl/Desktop/Gi/Supsi/BachelorProject/large_files/df_suspended.csv\", \n",
    "          encoding='utf-8', index=False, line_terminator='\\n')"
   ]
  },
  {
   "cell_type": "markdown",
   "id": "ec96baa4",
   "metadata": {},
   "source": [
    "# Hashtags study\n",
    "<a id=\"hashtag_study\"/>"
   ]
  },
  {
   "cell_type": "code",
   "execution_count": 96,
   "id": "8c74b25e",
   "metadata": {},
   "outputs": [],
   "source": [
    "hs = tweets_utils.hashtag_process(df)\n",
    "list_covid_keyword = [\"coronavirus\", \"covid19\", \"covid\", \"chinacoronavirus\", \"coronavirusoutbreak\",\n",
    "  \"covid_19\", \"sarscov2\", \"covidー19\", \"wuhancoronavirus\", \"wuhan\", \"china\", \"coronoavirus\", \"coronaviruschina\"]\n",
    "list_1 = [item for item in hs if item.lower() not in list_covid_keyword]\n",
    "# list_1"
   ]
  },
  {
   "cell_type": "code",
   "execution_count": 100,
   "id": "ad931442",
   "metadata": {},
   "outputs": [
    {
     "data": {
      "image/png": "[encoded data removed]",
      "text/plain": [
       "<Figure size 1008x576 with 1 Axes>"
      ]
     },
     "metadata": {
      "needs_background": "light"
     },
     "output_type": "display_data"
    }
   ],
   "source": [
    "hs = pd.Series(list_1).value_counts().sort_values(ascending=False)\n",
    "fig = plt.figure(figsize=(14, 8))\n",
    "ax = hs[:10].plot(kind='barh', color='lightseagreen', fig=(14,14)) #green #steelblue\n",
    "ax.set_title('Top 10 HASHTAGS shared by suspended account', fontsize=15)\n",
    "ax.invert_yaxis()\n",
    "plt.show()"
   ]
  },
  {
   "cell_type": "markdown",
   "id": "f5061339",
   "metadata": {},
   "source": [
    "# Urls study\n",
    "<a id=\"urls_study\"/>"
   ]
  },
  {
   "cell_type": "code",
   "execution_count": 99,
   "id": "1a5e2ad4",
   "metadata": {},
   "outputs": [
    {
     "data": {
      "text/plain": [
       "twitter.com                  8897\n",
       "bit.ly                       2164\n",
       "thepigeonexpress.com         1714\n",
       "mazo4f.com                    894\n",
       "ow.ly                         572\n",
       "                             ... \n",
       "brighterworld.mcmaster.ca       1\n",
       "counton2.com                    1\n",
       "royalcentral.co.uk              1\n",
       "chroniclelive.co                1\n",
       "explica.co                      1\n",
       "Length: 2731, dtype: int64"
      ]
     },
     "execution_count": 99,
     "metadata": {},
     "output_type": "execute_result"
    }
   ],
   "source": [
    "urls = df[\"urls\"]\n",
    "urls = [tweets_utils.url_decompress(v) if v != \"[]\" else \"0\" for v in urls]\n",
    "urls = list(filter(lambda num: num != \"0\", urls))\n",
    "urls = tweets_utils.remove_www(urls)\n",
    "urls = pd.Series(urls).value_counts().sort_values(ascending=False)\n",
    "urls"
   ]
  },
  {
   "cell_type": "code",
   "execution_count": 102,
   "id": "6ce5d40a",
   "metadata": {},
   "outputs": [
    {
     "data": {
      "image/png": "[encoded data removed]",
      "text/plain": [
       "<Figure size 1008x576 with 1 Axes>"
      ]
     },
     "metadata": {
      "needs_background": "light"
     },
     "output_type": "display_data"
    }
   ],
   "source": [
    "fig = plt.figure(figsize=(14, 8))\n",
    "ax = urls[:10].plot(kind='barh', color='green', fig=(14,14)) #green #steelblue\n",
    "ax.set_title('Top 10 URLS shared by suspended account', fontsize=15)\n",
    "ax.invert_yaxis()\n",
    "plt.show()"
   ]
  },
  {
   "cell_type": "markdown",
   "id": "e93b2c6f",
   "metadata": {},
   "source": [
    "# Dates study\n",
    "<a id=\"date_study\"/>"
   ]
  },
  {
   "cell_type": "code",
   "execution_count": 105,
   "id": "ae990edd",
   "metadata": {},
   "outputs": [
    {
     "data": {
      "text/plain": [
       "'2020-05-12'"
      ]
     },
     "execution_count": 105,
     "metadata": {},
     "output_type": "execute_result"
    }
   ],
   "source": [
    "dates = []\n",
    "for i in created_at:\n",
    "    x = tweets_utils.process_datetime(i)\n",
    "    dates.append(x)"
   ]
  },
  {
   "cell_type": "code",
   "execution_count": 110,
   "id": "bd183baf",
   "metadata": {},
   "outputs": [],
   "source": [
    "dates_p = pd.Series(dates).value_counts().sort_values(ascending=False)\n",
    "# fig = px.histogram(dates)\n",
    "# fig.update_layout(\n",
    "#     title_text='Daily tweets', # title of plot\n",
    "#     xaxis_title_text='Tweet', # xaxis label\n",
    "#     yaxis_title_text='Count', # yaxis label\n",
    "#     bargap=0.1, # gap between bars of adjacent location coordinates\n",
    "#     bargroupgap=0.1 # gap between bars of the same location coordinates\n",
    "# )\n",
    "# fig.show()"
   ]
  },
  {
   "cell_type": "markdown",
   "id": "de9c9616",
   "metadata": {},
   "source": [
    "# Profiles activity"
   ]
  },
  {
   "cell_type": "code",
   "execution_count": 8,
   "id": "4cf3df30",
   "metadata": {},
   "outputs": [],
   "source": [
    "files_users = glob.glob(\"F:/Supsi/COVID-19-Tweets/*/users.csv\")\n",
    "cols_users = [u'id', u'screen_name', u'location', u'followers_count', u'created_at', u'geo_enabled', u'verified', u'statuses_count']         "
   ]
  },
  {
   "cell_type": "code",
   "execution_count": 10,
   "id": "1ff3da50",
   "metadata": {},
   "outputs": [
    {
     "name": "stdout",
     "output_type": "stream",
     "text": [
      "<class 'pandas.core.frame.DataFrame'>\n",
      "RangeIndex: 10 entries, 0 to 9\n",
      "Data columns (total 8 columns):\n",
      " #   Column           Non-Null Count  Dtype \n",
      "---  ------           --------------  ----- \n",
      " 0   id               10 non-null     int64 \n",
      " 1   screen_name      10 non-null     object\n",
      " 2   location         6 non-null      object\n",
      " 3   followers_count  10 non-null     int64 \n",
      " 4   created_at       10 non-null     object\n",
      " 5   geo_enabled      10 non-null     bool  \n",
      " 6   verified         10 non-null     bool  \n",
      " 7   statuses_count   10 non-null     int64 \n",
      "dtypes: bool(2), int64(3), object(3)\n",
      "memory usage: 628.0+ bytes\n"
     ]
    }
   ],
   "source": [
    "for chunk in pd.read_csv(files_users[0], usecols=cols_users, chunksize=10, lineterminator = '\\n'):\n",
    "    df = chunk\n",
    "    break\n",
    "df.info()"
   ]
  },
  {
   "cell_type": "code",
   "execution_count": 12,
   "id": "9402550d",
   "metadata": {},
   "outputs": [],
   "source": [
    "# result = []\n",
    "# importlib.reload(tweets_utils)\n",
    "# data = pd.DataFrame()\n",
    "# start_time = time.perf_counter()\n",
    "# j = 0\n",
    "# for filename in files_users:\n",
    "#     print(f\"Reading file: {filename}\")\n",
    "#     result.extend(tweets_utils.process_all_data(filename, cols_users, False, ))\n",
    "#     lista = result[j]\n",
    "#     j = j + 1\n",
    "#     print(f\"Mese numero {j}\")\n",
    "#     for i in range(len(lista)):\n",
    "#         data = data.append(lista[i][\"df\"])\n",
    "#     print(len(data))\n",
    "# stop_time = time.perf_counter()\n",
    "# print(\"Time: \",stop_time-start_time)"
   ]
  },
  {
   "cell_type": "code",
   "execution_count": null,
   "id": "0f41c15f",
   "metadata": {},
   "outputs": [],
   "source": []
  }
 ],
 "metadata": {
  "kernelspec": {
   "display_name": "Python 3 (ipykernel)",
   "language": "python",
   "name": "python3"
  },
  "language_info": {
   "codemirror_mode": {
    "name": "ipython",
    "version": 3
   },
   "file_extension": ".py",
   "mimetype": "text/x-python",
   "name": "python",
   "nbconvert_exporter": "python",
   "pygments_lexer": "ipython3",
   "version": "3.8.11"
  }
 },
 "nbformat": 4,
 "nbformat_minor": 5
}
