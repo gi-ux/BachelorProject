{
 "cells": [
  {
   "cell_type": "code",
   "execution_count": 1,
   "id": "1a996418",
   "metadata": {},
   "outputs": [
    {
     "data": {
      "application/javascript": [
       "IPython.notebook.set_autosave_interval(3600000)"
      ]
     },
     "metadata": {},
     "output_type": "display_data"
    },
    {
     "name": "stdout",
     "output_type": "stream",
     "text": [
      "Autosaving every 3600 seconds\n"
     ]
    }
   ],
   "source": [
    "import pandas as pd\n",
    "import plotly.graph_objects as go\n",
    "import numpy as np\n",
    "import matplotlib.pyplot as plt\n",
    "from matplotlib.pyplot import figure\n",
    "import datetime\n",
    "import plotly.express as px\n",
    "import math\n",
    "import warnings\n",
    "warnings.filterwarnings('ignore')\n",
    "import time\n",
    "from time import perf_counter\n",
    "import glob\n",
    "import tweets_utils\n",
    "import csv\n",
    "import importlib\n",
    "import seaborn as sns\n",
    "%autosave 3600"
   ]
  },
  {
   "cell_type": "markdown",
   "id": "bf9e76ef",
   "metadata": {},
   "source": [
    "# Indice\n",
    "\n",
    "- [Data collection](#data_collection)\n",
    "- [Hashtag study](#hashtag_study)\n",
    "- [Users acitivty](#activity)\n",
    "- [Urls study](#urls_study)\n",
    "- [Correlation with conspiracy score](#conspiracy_score_suspended)\n",
    "- [Profiles activity](#profiles_activity)"
   ]
  },
  {
   "cell_type": "code",
   "execution_count": 3,
   "id": "126dcbcd",
   "metadata": {},
   "outputs": [],
   "source": [
    "path = glob.glob(\"C:/Users/gianl/Desktop/Gi/Supsi/BachelorProject/csv/not_found/\")\n",
    "issues = pd.read_csv(path[0] + \"users_not_found.csv\", low_memory=False, lineterminator=\"\\n\")\n",
    "suspended = pd.read_csv(path[0] + \"users_not_found_inspected.csv\", low_memory=False, lineterminator=\"\\n\")\n",
    "path =  glob.glob(\"F:/Supsi/COVID-19-Tweets/large_files/urls/\")\n",
    "scores = pd.read_csv(path[0] + \"sum_of_urls_df_all_months_with_score.csv\", low_memory=False, lineterminator=\"\\n\")\n",
    "df = pd.read_csv(\"F:/Supsi/COVID-19-Tweets/large_files/df_suspended.csv\", low_memory=False, lineterminator=\"\\n\")"
   ]
  },
  {
   "cell_type": "code",
   "execution_count": 4,
   "id": "f4ce53fa",
   "metadata": {},
   "outputs": [
    {
     "data": {
      "text/html": [
       "<div>\n",
       "<style scoped>\n",
       "    .dataframe tbody tr th:only-of-type {\n",
       "        vertical-align: middle;\n",
       "    }\n",
       "\n",
       "    .dataframe tbody tr th {\n",
       "        vertical-align: top;\n",
       "    }\n",
       "\n",
       "    .dataframe thead th {\n",
       "        text-align: right;\n",
       "    }\n",
       "</style>\n",
       "<table border=\"1\" class=\"dataframe\">\n",
       "  <thead>\n",
       "    <tr style=\"text-align: right;\">\n",
       "      <th></th>\n",
       "      <th>id</th>\n",
       "      <th>code</th>\n",
       "      <th>message</th>\n",
       "    </tr>\n",
       "  </thead>\n",
       "  <tbody>\n",
       "    <tr>\n",
       "      <th>0</th>\n",
       "      <td>2767590820</td>\n",
       "      <td>63</td>\n",
       "      <td>User has been suspended.</td>\n",
       "    </tr>\n",
       "    <tr>\n",
       "      <th>1</th>\n",
       "      <td>887508829587488768</td>\n",
       "      <td>63</td>\n",
       "      <td>User has been suspended.</td>\n",
       "    </tr>\n",
       "    <tr>\n",
       "      <th>2</th>\n",
       "      <td>1338073232</td>\n",
       "      <td>63</td>\n",
       "      <td>User has been suspended.</td>\n",
       "    </tr>\n",
       "    <tr>\n",
       "      <th>3</th>\n",
       "      <td>1147654506076725248</td>\n",
       "      <td>63</td>\n",
       "      <td>User has been suspended.</td>\n",
       "    </tr>\n",
       "    <tr>\n",
       "      <th>4</th>\n",
       "      <td>1160237865516838912</td>\n",
       "      <td>50</td>\n",
       "      <td>User not found.</td>\n",
       "    </tr>\n",
       "    <tr>\n",
       "      <th>...</th>\n",
       "      <td>...</td>\n",
       "      <td>...</td>\n",
       "      <td>...</td>\n",
       "    </tr>\n",
       "    <tr>\n",
       "      <th>804</th>\n",
       "      <td>1191844511896539136</td>\n",
       "      <td>63</td>\n",
       "      <td>User has been suspended.</td>\n",
       "    </tr>\n",
       "    <tr>\n",
       "      <th>805</th>\n",
       "      <td>1091708583388110848</td>\n",
       "      <td>63</td>\n",
       "      <td>User has been suspended.</td>\n",
       "    </tr>\n",
       "    <tr>\n",
       "      <th>806</th>\n",
       "      <td>112209293</td>\n",
       "      <td>63</td>\n",
       "      <td>User has been suspended.</td>\n",
       "    </tr>\n",
       "    <tr>\n",
       "      <th>807</th>\n",
       "      <td>1239851148187594759</td>\n",
       "      <td>63</td>\n",
       "      <td>User has been suspended.</td>\n",
       "    </tr>\n",
       "    <tr>\n",
       "      <th>808</th>\n",
       "      <td>2723737081</td>\n",
       "      <td>63</td>\n",
       "      <td>User has been suspended.</td>\n",
       "    </tr>\n",
       "  </tbody>\n",
       "</table>\n",
       "<p>809 rows × 3 columns</p>\n",
       "</div>"
      ],
      "text/plain": [
       "                      id  code                   message\n",
       "0             2767590820    63  User has been suspended.\n",
       "1     887508829587488768    63  User has been suspended.\n",
       "2             1338073232    63  User has been suspended.\n",
       "3    1147654506076725248    63  User has been suspended.\n",
       "4    1160237865516838912    50           User not found.\n",
       "..                   ...   ...                       ...\n",
       "804  1191844511896539136    63  User has been suspended.\n",
       "805  1091708583388110848    63  User has been suspended.\n",
       "806            112209293    63  User has been suspended.\n",
       "807  1239851148187594759    63  User has been suspended.\n",
       "808           2723737081    63  User has been suspended.\n",
       "\n",
       "[809 rows x 3 columns]"
      ]
     },
     "execution_count": 4,
     "metadata": {},
     "output_type": "execute_result"
    }
   ],
   "source": [
    "suspended"
   ]
  },
  {
   "cell_type": "code",
   "execution_count": 6,
   "id": "c0c297ca",
   "metadata": {},
   "outputs": [
    {
     "data": {
      "text/html": [
       "<div>\n",
       "<style scoped>\n",
       "    .dataframe tbody tr th:only-of-type {\n",
       "        vertical-align: middle;\n",
       "    }\n",
       "\n",
       "    .dataframe tbody tr th {\n",
       "        vertical-align: top;\n",
       "    }\n",
       "\n",
       "    .dataframe thead th {\n",
       "        text-align: right;\n",
       "    }\n",
       "</style>\n",
       "<table border=\"1\" class=\"dataframe\">\n",
       "  <thead>\n",
       "    <tr style=\"text-align: right;\">\n",
       "      <th></th>\n",
       "      <th>id</th>\n",
       "      <th>code</th>\n",
       "      <th>message</th>\n",
       "    </tr>\n",
       "  </thead>\n",
       "  <tbody>\n",
       "    <tr>\n",
       "      <th>0</th>\n",
       "      <td>2789044371</td>\n",
       "      <td>50</td>\n",
       "      <td>User not found.</td>\n",
       "    </tr>\n",
       "    <tr>\n",
       "      <th>1</th>\n",
       "      <td>1465048274</td>\n",
       "      <td>63</td>\n",
       "      <td>User has been suspended.</td>\n",
       "    </tr>\n",
       "    <tr>\n",
       "      <th>2</th>\n",
       "      <td>1187538722008502274</td>\n",
       "      <td>50</td>\n",
       "      <td>User not found.</td>\n",
       "    </tr>\n",
       "    <tr>\n",
       "      <th>3</th>\n",
       "      <td>991298454453284864</td>\n",
       "      <td>50</td>\n",
       "      <td>User not found.</td>\n",
       "    </tr>\n",
       "    <tr>\n",
       "      <th>4</th>\n",
       "      <td>723297485142286337</td>\n",
       "      <td>63</td>\n",
       "      <td>User has been suspended.</td>\n",
       "    </tr>\n",
       "    <tr>\n",
       "      <th>...</th>\n",
       "      <td>...</td>\n",
       "      <td>...</td>\n",
       "      <td>...</td>\n",
       "    </tr>\n",
       "    <tr>\n",
       "      <th>8628</th>\n",
       "      <td>3293934672</td>\n",
       "      <td>50</td>\n",
       "      <td>User not found.</td>\n",
       "    </tr>\n",
       "    <tr>\n",
       "      <th>8629</th>\n",
       "      <td>230200026</td>\n",
       "      <td>50</td>\n",
       "      <td>User not found.</td>\n",
       "    </tr>\n",
       "    <tr>\n",
       "      <th>8630</th>\n",
       "      <td>3282707335</td>\n",
       "      <td>50</td>\n",
       "      <td>User not found.</td>\n",
       "    </tr>\n",
       "    <tr>\n",
       "      <th>8631</th>\n",
       "      <td>1049583492600918016</td>\n",
       "      <td>50</td>\n",
       "      <td>User not found.</td>\n",
       "    </tr>\n",
       "    <tr>\n",
       "      <th>8632</th>\n",
       "      <td>1095688636069228544</td>\n",
       "      <td>50</td>\n",
       "      <td>User not found.</td>\n",
       "    </tr>\n",
       "  </tbody>\n",
       "</table>\n",
       "<p>8633 rows × 3 columns</p>\n",
       "</div>"
      ],
      "text/plain": [
       "                       id  code                   message\n",
       "0              2789044371    50           User not found.\n",
       "1              1465048274    63  User has been suspended.\n",
       "2     1187538722008502274    50           User not found.\n",
       "3      991298454453284864    50           User not found.\n",
       "4      723297485142286337    63  User has been suspended.\n",
       "...                   ...   ...                       ...\n",
       "8628           3293934672    50           User not found.\n",
       "8629            230200026    50           User not found.\n",
       "8630           3282707335    50           User not found.\n",
       "8631  1049583492600918016    50           User not found.\n",
       "8632  1095688636069228544    50           User not found.\n",
       "\n",
       "[8633 rows x 3 columns]"
      ]
     },
     "execution_count": 6,
     "metadata": {},
     "output_type": "execute_result"
    }
   ],
   "source": [
    "path = glob.glob(\"C:/Users/gianl/Desktop/Gi/Supsi/BachelorProject/csv/suspended/*.csv\")\n",
    "sus = pd.DataFrame()\n",
    "for i in path:\n",
    "    sus = sus.append(pd.read_csv(i, low_memory=False, lineterminator=\"\\n\"))\n",
    "sus = sus.reset_index(drop=True)\n",
    "sus = sus.drop_duplicates(subset=[\"id\"])\n",
    "sus"
   ]
  },
  {
   "cell_type": "code",
   "execution_count": 8,
   "id": "6687b399",
   "metadata": {},
   "outputs": [
    {
     "data": {
      "text/plain": [
       "3706"
      ]
     },
     "execution_count": 8,
     "metadata": {},
     "output_type": "execute_result"
    }
   ],
   "source": [
    "ids_suspended = list(sus.loc[(sus['code']==63)][\"id\"])\n",
    "len(ids_suspended)"
   ]
  },
  {
   "cell_type": "code",
   "execution_count": null,
   "id": "e74fc082",
   "metadata": {},
   "outputs": [],
   "source": [
    "# issues.loc[(issues[\"code\"].notna())]"
   ]
  },
  {
   "cell_type": "code",
   "execution_count": null,
   "id": "a5ea85f4",
   "metadata": {},
   "outputs": [],
   "source": [
    "ids_suspended = list(suspended.loc[(suspended['code']==63)][\"id\"])"
   ]
  },
  {
   "cell_type": "code",
   "execution_count": null,
   "id": "2f91734c",
   "metadata": {},
   "outputs": [],
   "source": [
    "list_name = issues[issues.id.isin(ids_suspended)][\"screen_name\"]"
   ]
  },
  {
   "cell_type": "markdown",
   "id": "9573cd5d",
   "metadata": {},
   "source": [
    "# Data collection\n",
    "<a id=\"data_collection\"/>"
   ]
  },
  {
   "cell_type": "code",
   "execution_count": 7,
   "id": "b615fb95",
   "metadata": {},
   "outputs": [],
   "source": [
    "files_tweets = glob.glob(\"F:/Supsi/COVID-19-Tweets/*/tweets.csv\")"
   ]
  },
  {
   "cell_type": "code",
   "execution_count": 9,
   "id": "46bf4619",
   "metadata": {},
   "outputs": [],
   "source": [
    "cols = [\"id\", \"id_str\", \"user_id\", \"user_screen_name\", \"text\",\"in_reply_to_status_id\",\n",
    "        \"in_reply_to_status_id_str\" ,\"in_reply_to_user_id\" ,\"in_reply_to_user_id_str\" ,\"in_reply_to_screen_name\",\n",
    "        \"rt_created_at\", \"rt_in_reply_to_status_id\", \"rt_in_reply_to_user_id\", \"rt_id\", \"rt_user_id\", \"rt_created_at\",\n",
    "        \"rt_user_screen_name\", \"quoted_status_id\" ,\"quoted_status_text\" ,\"quoted_status_created_at\", \"quoted_user_id\",\n",
    "        \"quoted_user_created_at\", \"hashtags\", \"user_mentions\", \"urls\"]\n",
    "df = pd.DataFrame()"
   ]
  },
  {
   "cell_type": "code",
   "execution_count": 14,
   "id": "5f1b3e60",
   "metadata": {},
   "outputs": [],
   "source": [
    "result = []\n",
    "importlib.reload(tweets_utils)\n",
    "start_time = time.perf_counter()\n",
    "j = 0\n",
    "for filename in files_tweets:\n",
    "    print(f\"Reading file: {filename}\")\n",
    "    result.extend(tweets_utils.process_all_data(filename, cols, True, list_name))\n",
    "    lista = result[j]\n",
    "    j = j + 1\n",
    "    print(f\"Mese numero {j}\")\n",
    "    for i in range(len(lista)):\n",
    "        df = df.append(lista[i][\"df\"])\n",
    "        \n",
    "stop_time = time.perf_counter()\n",
    "print(\"Time: \",stop_time-start_time)"
   ]
  },
  {
   "cell_type": "code",
   "execution_count": 13,
   "id": "bc042f49",
   "metadata": {},
   "outputs": [],
   "source": [
    "df = df.reset_index(drop=True)\n",
    "df"
   ]
  },
  {
   "cell_type": "code",
   "execution_count": 12,
   "id": "3d2f65e7",
   "metadata": {},
   "outputs": [],
   "source": [
    "df.to_csv(\"C:/Users/gianl/Desktop/Gi/Supsi/BachelorProject/df_suspended.csv\", \n",
    "          encoding='utf-8', index=False, line_terminator='\\n')"
   ]
  },
  {
   "cell_type": "markdown",
   "id": "26c6b03f",
   "metadata": {},
   "source": [
    "# User activity\n",
    "<a id=\"activity\"/>"
   ]
  },
  {
   "cell_type": "code",
   "execution_count": 18,
   "id": "c5863899",
   "metadata": {},
   "outputs": [
    {
     "name": "stdout",
     "output_type": "stream",
     "text": [
      "Number of total tweets: 97562\n",
      "Number of original tweets: 24482\n",
      "Number of retweets: 56138\n",
      "Number of replies: 9272\n",
      "Number of quotes: 7670\n",
      "Number of original_tweets: 25.09% of total tweets\n",
      "Number of retweets: 57.54% of total tweets\n",
      "Number of replies: 9.5% of total tweets\n",
      "Number of quotes: 7.86% of total tweets\n",
      "Check sum == len(tweets):  True\n"
     ]
    },
    {
     "data": {
      "image/png": "[encoded data removed]",
      "text/plain": [
       "<Figure size 720x504 with 1 Axes>"
      ]
     },
     "metadata": {},
     "output_type": "display_data"
    }
   ],
   "source": [
    "df_split = tweets_utils.split_df(df)\n",
    "original = df_split[\"original\"]\n",
    "quote = df_split[\"quote\"]\n",
    "retweet = df_split[\"retweet\"]\n",
    "reply = df_split[\"reply\"]\n",
    "mentions = df_split[\"original_mention\"]\n",
    "reply_status = df_split['reply_to_status']\n",
    "retweet_original = df_split['rt_original']\n",
    "retweet_reply = df_split['rt_in_reply']\n",
    "retweet_mention = df_split['rt_mention']\n",
    "quote_original = df_split['quote_original']\n",
    "quote_reply = df_split['quote_reply']\n",
    "quote_mention = df_split['quote_mention']\n",
    "total_len = len(df) \n",
    "len_quote = len(quote)\n",
    "len_original = len(original)\n",
    "len_rt = len(retweet)\n",
    "len_rp = len(reply)\n",
    "len_mentions = len(mentions)\n",
    "len_reply_status = len(reply_status)\n",
    "len_retweet_original = len(retweet_original)\n",
    "len_retweet_reply = len(retweet_reply)\n",
    "len_retweet_mention = len(retweet_mention)\n",
    "len_quote_original = len(quote_original)\n",
    "len_quote_reply = len(quote_reply)\n",
    "len_quote_mention = len(quote_mention)\n",
    "tweets_utils.stats(total_len, len_original, len_rt, len_rp, len_quote)\n",
    "tweets_utils.print_pie_chart4(\"Suspended users tweets\", \"Original\", \"Retweet\", \"Reply\", \"Quote\", len_original, len_rt, len_rp, len_quote)"
   ]
  },
  {
   "cell_type": "markdown",
   "id": "ec96baa4",
   "metadata": {},
   "source": [
    "# Hashtags study\n",
    "<a id=\"hashtag_study\"/>"
   ]
  },
  {
   "cell_type": "code",
   "execution_count": 96,
   "id": "8c74b25e",
   "metadata": {},
   "outputs": [],
   "source": [
    "hs = tweets_utils.hashtag_process(df)\n",
    "list_covid_keyword = [\"coronavirus\", \"covid19\", \"covid\", \"chinacoronavirus\", \"coronavirusoutbreak\",\n",
    "  \"covid_19\", \"sarscov2\", \"covidー19\", \"wuhancoronavirus\", \"wuhan\", \"china\", \"coronoavirus\", \"coronaviruschina\"]\n",
    "list_1 = [item for item in hs if item.lower() not in list_covid_keyword]\n",
    "# list_1"
   ]
  },
  {
   "cell_type": "code",
   "execution_count": 100,
   "id": "ad931442",
   "metadata": {},
   "outputs": [
    {
     "data": {
      "image/png": "[encoded data removed]",
      "text/plain": [
       "<Figure size 1008x576 with 1 Axes>"
      ]
     },
     "metadata": {
      "needs_background": "light"
     },
     "output_type": "display_data"
    }
   ],
   "source": [
    "hs = pd.Series(list_1).value_counts().sort_values(ascending=False)\n",
    "ax = hs[:10].plot(kind='barh', color='lightseagreen', fig=(14,14)) #green #steelblue\n",
    "ax.set_title('Top 10 HASHTAGS shared by suspended account', fontsize=15)\n",
    "ax.invert_yaxis()\n",
    "plt.show()"
   ]
  },
  {
   "cell_type": "markdown",
   "id": "f5061339",
   "metadata": {},
   "source": [
    "# Urls study\n",
    "<a id=\"urls_study\"/>"
   ]
  },
  {
   "cell_type": "code",
   "execution_count": 99,
   "id": "1a5e2ad4",
   "metadata": {},
   "outputs": [
    {
     "data": {
      "text/plain": [
       "twitter.com                  8897\n",
       "bit.ly                       2164\n",
       "thepigeonexpress.com         1714\n",
       "mazo4f.com                    894\n",
       "ow.ly                         572\n",
       "                             ... \n",
       "brighterworld.mcmaster.ca       1\n",
       "counton2.com                    1\n",
       "royalcentral.co.uk              1\n",
       "chroniclelive.co                1\n",
       "explica.co                      1\n",
       "Length: 2731, dtype: int64"
      ]
     },
     "execution_count": 99,
     "metadata": {},
     "output_type": "execute_result"
    }
   ],
   "source": [
    "urls = df[\"urls\"]\n",
    "urls = [tweets_utils.url_decompress(v) if v != \"[]\" else \"0\" for v in urls]\n",
    "urls = list(filter(lambda num: num != \"0\", urls))\n",
    "urls = tweets_utils.remove_www(urls)\n",
    "urls = pd.Series(urls).value_counts().sort_values(ascending=False)\n",
    "urls"
   ]
  },
  {
   "cell_type": "code",
   "execution_count": 102,
   "id": "6ce5d40a",
   "metadata": {},
   "outputs": [
    {
     "data": {
      "image/png": "[encoded data removed]",
      "text/plain": [
       "<Figure size 1008x576 with 1 Axes>"
      ]
     },
     "metadata": {
      "needs_background": "light"
     },
     "output_type": "display_data"
    }
   ],
   "source": [
    "fig = plt.figure(figsize=(14, 8))\n",
    "ax = urls[:10].plot(kind='barh', color='green', fig=(14,14)) #green #steelblue\n",
    "ax.set_title('Top 10 URLS shared by suspended account', fontsize=15)\n",
    "ax.invert_yaxis()\n",
    "plt.show()"
   ]
  },
  {
   "cell_type": "markdown",
   "id": "fb3604c0",
   "metadata": {},
   "source": [
    "### Correlation with conspiracy score\n",
    "<a id=\"conspiracy_score_suspended\"/>"
   ]
  },
  {
   "cell_type": "code",
   "execution_count": 23,
   "id": "7d12c7e7",
   "metadata": {},
   "outputs": [
    {
     "data": {
      "text/html": [
       "<div>\n",
       "<style scoped>\n",
       "    .dataframe tbody tr th:only-of-type {\n",
       "        vertical-align: middle;\n",
       "    }\n",
       "\n",
       "    .dataframe tbody tr th {\n",
       "        vertical-align: top;\n",
       "    }\n",
       "\n",
       "    .dataframe thead th {\n",
       "        text-align: right;\n",
       "    }\n",
       "</style>\n",
       "<table border=\"1\" class=\"dataframe\">\n",
       "  <thead>\n",
       "    <tr style=\"text-align: right;\">\n",
       "      <th></th>\n",
       "      <th>user_screen_name</th>\n",
       "      <th>number_of_urls</th>\n",
       "      <th>HIGH</th>\n",
       "      <th>LOW</th>\n",
       "      <th>UNKW</th>\n",
       "      <th>SOCIAL</th>\n",
       "      <th>conspiracy_score</th>\n",
       "      <th>dozen</th>\n",
       "      <th>name</th>\n",
       "      <th>community</th>\n",
       "      <th>degree</th>\n",
       "    </tr>\n",
       "  </thead>\n",
       "  <tbody>\n",
       "    <tr>\n",
       "      <th>0</th>\n",
       "      <td>KeiserOla</td>\n",
       "      <td>12.0</td>\n",
       "      <td>0.0</td>\n",
       "      <td>1.0</td>\n",
       "      <td>9.0</td>\n",
       "      <td>2.0</td>\n",
       "      <td>1.0</td>\n",
       "      <td>common</td>\n",
       "      <td>KeiserOla</td>\n",
       "      <td>2.0</td>\n",
       "      <td>16.0</td>\n",
       "    </tr>\n",
       "    <tr>\n",
       "      <th>1</th>\n",
       "      <td>Breinbrouwsels</td>\n",
       "      <td>25.0</td>\n",
       "      <td>0.0</td>\n",
       "      <td>2.0</td>\n",
       "      <td>19.0</td>\n",
       "      <td>4.0</td>\n",
       "      <td>1.0</td>\n",
       "      <td>common</td>\n",
       "      <td>Breinbrouwsels</td>\n",
       "      <td>2.0</td>\n",
       "      <td>60.0</td>\n",
       "    </tr>\n",
       "    <tr>\n",
       "      <th>2</th>\n",
       "      <td>CristianeWynnie</td>\n",
       "      <td>12.0</td>\n",
       "      <td>0.0</td>\n",
       "      <td>1.0</td>\n",
       "      <td>11.0</td>\n",
       "      <td>0.0</td>\n",
       "      <td>1.0</td>\n",
       "      <td>common</td>\n",
       "      <td>CristianeWynnie</td>\n",
       "      <td>32.0</td>\n",
       "      <td>39.0</td>\n",
       "    </tr>\n",
       "    <tr>\n",
       "      <th>3</th>\n",
       "      <td>ak2webd3</td>\n",
       "      <td>12.0</td>\n",
       "      <td>0.0</td>\n",
       "      <td>1.0</td>\n",
       "      <td>9.0</td>\n",
       "      <td>2.0</td>\n",
       "      <td>1.0</td>\n",
       "      <td>good</td>\n",
       "      <td>ak2webd3</td>\n",
       "      <td>2.0</td>\n",
       "      <td>42.0</td>\n",
       "    </tr>\n",
       "    <tr>\n",
       "      <th>4</th>\n",
       "      <td>jdmcnamara</td>\n",
       "      <td>12.0</td>\n",
       "      <td>0.0</td>\n",
       "      <td>1.0</td>\n",
       "      <td>11.0</td>\n",
       "      <td>0.0</td>\n",
       "      <td>1.0</td>\n",
       "      <td>common</td>\n",
       "      <td>jdmcnamara</td>\n",
       "      <td>2.0</td>\n",
       "      <td>12.0</td>\n",
       "    </tr>\n",
       "    <tr>\n",
       "      <th>...</th>\n",
       "      <td>...</td>\n",
       "      <td>...</td>\n",
       "      <td>...</td>\n",
       "      <td>...</td>\n",
       "      <td>...</td>\n",
       "      <td>...</td>\n",
       "      <td>...</td>\n",
       "      <td>...</td>\n",
       "      <td>...</td>\n",
       "      <td>...</td>\n",
       "      <td>...</td>\n",
       "    </tr>\n",
       "    <tr>\n",
       "      <th>140390</th>\n",
       "      <td>Gus_802</td>\n",
       "      <td>15.0</td>\n",
       "      <td>2.0</td>\n",
       "      <td>0.0</td>\n",
       "      <td>3.0</td>\n",
       "      <td>10.0</td>\n",
       "      <td>0.0</td>\n",
       "      <td>common</td>\n",
       "      <td>Gus_802</td>\n",
       "      <td>1.0</td>\n",
       "      <td>48.0</td>\n",
       "    </tr>\n",
       "    <tr>\n",
       "      <th>140391</th>\n",
       "      <td>FemiJelena</td>\n",
       "      <td>15.0</td>\n",
       "      <td>3.0</td>\n",
       "      <td>0.0</td>\n",
       "      <td>7.0</td>\n",
       "      <td>5.0</td>\n",
       "      <td>0.0</td>\n",
       "      <td>bad</td>\n",
       "      <td>FemiJelena</td>\n",
       "      <td>2.0</td>\n",
       "      <td>27.0</td>\n",
       "    </tr>\n",
       "    <tr>\n",
       "      <th>140392</th>\n",
       "      <td>tunde_adenuga</td>\n",
       "      <td>15.0</td>\n",
       "      <td>3.0</td>\n",
       "      <td>0.0</td>\n",
       "      <td>10.0</td>\n",
       "      <td>2.0</td>\n",
       "      <td>0.0</td>\n",
       "      <td>common</td>\n",
       "      <td>tunde_adenuga</td>\n",
       "      <td>19.0</td>\n",
       "      <td>33.0</td>\n",
       "    </tr>\n",
       "    <tr>\n",
       "      <th>140393</th>\n",
       "      <td>Teensthack</td>\n",
       "      <td>15.0</td>\n",
       "      <td>2.0</td>\n",
       "      <td>0.0</td>\n",
       "      <td>10.0</td>\n",
       "      <td>3.0</td>\n",
       "      <td>0.0</td>\n",
       "      <td>common</td>\n",
       "      <td>Teensthack</td>\n",
       "      <td>6.0</td>\n",
       "      <td>317.0</td>\n",
       "    </tr>\n",
       "    <tr>\n",
       "      <th>140394</th>\n",
       "      <td>poandpo</td>\n",
       "      <td>6118.0</td>\n",
       "      <td>1.0</td>\n",
       "      <td>0.0</td>\n",
       "      <td>6117.0</td>\n",
       "      <td>0.0</td>\n",
       "      <td>0.0</td>\n",
       "      <td>common</td>\n",
       "      <td>poandpo</td>\n",
       "      <td>2.0</td>\n",
       "      <td>75.0</td>\n",
       "    </tr>\n",
       "  </tbody>\n",
       "</table>\n",
       "<p>140395 rows × 11 columns</p>\n",
       "</div>"
      ],
      "text/plain": [
       "       user_screen_name  number_of_urls  HIGH  LOW    UNKW  SOCIAL  \\\n",
       "0             KeiserOla            12.0   0.0  1.0     9.0     2.0   \n",
       "1        Breinbrouwsels            25.0   0.0  2.0    19.0     4.0   \n",
       "2       CristianeWynnie            12.0   0.0  1.0    11.0     0.0   \n",
       "3              ak2webd3            12.0   0.0  1.0     9.0     2.0   \n",
       "4            jdmcnamara            12.0   0.0  1.0    11.0     0.0   \n",
       "...                 ...             ...   ...  ...     ...     ...   \n",
       "140390          Gus_802            15.0   2.0  0.0     3.0    10.0   \n",
       "140391       FemiJelena            15.0   3.0  0.0     7.0     5.0   \n",
       "140392    tunde_adenuga            15.0   3.0  0.0    10.0     2.0   \n",
       "140393       Teensthack            15.0   2.0  0.0    10.0     3.0   \n",
       "140394          poandpo          6118.0   1.0  0.0  6117.0     0.0   \n",
       "\n",
       "        conspiracy_score   dozen             name  community  degree  \n",
       "0                    1.0  common        KeiserOla        2.0    16.0  \n",
       "1                    1.0  common   Breinbrouwsels        2.0    60.0  \n",
       "2                    1.0  common  CristianeWynnie       32.0    39.0  \n",
       "3                    1.0    good         ak2webd3        2.0    42.0  \n",
       "4                    1.0  common       jdmcnamara        2.0    12.0  \n",
       "...                  ...     ...              ...        ...     ...  \n",
       "140390               0.0  common          Gus_802        1.0    48.0  \n",
       "140391               0.0     bad       FemiJelena        2.0    27.0  \n",
       "140392               0.0  common    tunde_adenuga       19.0    33.0  \n",
       "140393               0.0  common       Teensthack        6.0   317.0  \n",
       "140394               0.0  common          poandpo        2.0    75.0  \n",
       "\n",
       "[140395 rows x 11 columns]"
      ]
     },
     "execution_count": 23,
     "metadata": {},
     "output_type": "execute_result"
    }
   ],
   "source": [
    "df_scores = pd.read_csv(\"F:/Supsi/COVID-19-Tweets/large_files/scores_dozen_degree.csv\", lineterminator=\"\\n\", low_memory=False)\n",
    "df_scores"
   ]
  },
  {
   "cell_type": "code",
   "execution_count": 24,
   "id": "c3624277",
   "metadata": {},
   "outputs": [],
   "source": [
    "ids_suspended = list(suspended.loc[(suspended['code']==63)][\"id\"])\n",
    "list_name = list(issues[issues.id.isin(ids_suspended)][\"screen_name\"])"
   ]
  },
  {
   "cell_type": "code",
   "execution_count": 25,
   "id": "26ea0b9c",
   "metadata": {},
   "outputs": [],
   "source": [
    "df_suspended_score = df_scores[df_scores[\"name\"].isin(list_name)].reset_index(drop=True) "
   ]
  },
  {
   "cell_type": "code",
   "execution_count": 26,
   "id": "1845a01a",
   "metadata": {},
   "outputs": [
    {
     "data": {
      "image/png": "[encoded data removed]",
      "text/plain": [
       "<Figure size 432x288 with 1 Axes>"
      ]
     },
     "metadata": {
      "needs_background": "light"
     },
     "output_type": "display_data"
    }
   ],
   "source": [
    "plt.hist(df_suspended_score[\"conspiracy_score\"], 50)\n",
    "plt.title(\"Distribution of conspiracy score\")\n",
    "plt.yscale('log', nonposy='clip')\n",
    "plt.show()"
   ]
  },
  {
   "cell_type": "code",
   "execution_count": 27,
   "id": "3db13213",
   "metadata": {},
   "outputs": [
    {
     "data": {
      "image/png": "[encoded data removed]",
      "text/plain": [
       "<Figure size 720x504 with 1 Axes>"
      ]
     },
     "metadata": {},
     "output_type": "display_data"
    }
   ],
   "source": [
    "x = df_suspended_score[\"dozen\"].value_counts().sort_values(ascending=False)\n",
    "data = x\n",
    "label = x.index\n",
    "explode = (0.1, 0, 0, 0)\n",
    "# Creating color parameters\n",
    "colors = ( \"lightgreen\", \"orange\", \"azure\", \"yellow\")\n",
    "\n",
    "# Wedge properties\n",
    "wp = { 'linewidth' : 1, 'edgecolor' : \"black\" }\n",
    "\n",
    "# Creating autocpt arguments\n",
    "def func(pct, allvalues):\n",
    "    absolute = int(pct / 100.*np.sum(allvalues))\n",
    "    return \"{:.1f}%\\n({:d})\".format(pct, absolute)\n",
    "\n",
    "# Creating plot\n",
    "fig, ax = plt.subplots(figsize =(10, 7))\n",
    "wedges, texts, autotexts = ax.pie(data, \n",
    "                                  autopct = lambda pct: func(pct, data),\n",
    "                                  explode = explode, \n",
    "                                  labels = label,\n",
    "                                  shadow = True,\n",
    "                                  colors = colors,\n",
    "                                  startangle = 90,\n",
    "                                  wedgeprops = wp)\n",
    "\n",
    "# # Adding legend\n",
    "# ax.legend(wedges, label,\n",
    "#           title =\"Legend\",\n",
    "#           loc =\"center left\",\n",
    "#           bbox_to_anchor =(1, 0.3, 0.5, 1))\n",
    "\n",
    "plt.setp(autotexts, size = 8, weight =\"bold\")\n",
    "ax.set_title(\"Kind of suspended users\")\n",
    "plt.show()"
   ]
  },
  {
   "cell_type": "code",
   "execution_count": 59,
   "id": "7cf30203",
   "metadata": {
    "scrolled": false
   },
   "outputs": [
    {
     "data": {
      "image/png": "[encoded data removed]",
      "text/plain": [
       "<Figure size 432x288 with 1 Axes>"
      ]
     },
     "metadata": {
      "needs_background": "light"
     },
     "output_type": "display_data"
    },
    {
     "name": "stdout",
     "output_type": "stream",
     "text": [
      "le prime 5 subcommunities sono il 97.14% del totale nella network\n",
      "il numero di utenti è 315\n"
     ]
    }
   ],
   "source": [
    "comm = comm.rename(lambda x: int(x))\n",
    "# comm = df_suspended_score[\"community\"].value_counts().sort_values(ascending=False)\n",
    "ax = comm[:10].plot(kind='barh', color='orange') \n",
    "ax.set_title('Number of nodes per community - Suspended (top 10)', fontsize=15)\n",
    "ax.invert_yaxis()\n",
    "plt.show()\n",
    "s = 0\n",
    "for i in comm[:10]:\n",
    "    s = s + i \n",
    "print(f\"le prime 5 subcommunities sono il {round(s/comm.sum()*100,2)}% del totale nella network\")\n",
    "print(f\"il numero di utenti è {comm.sum()}\")"
   ]
  }
 ],
 "metadata": {
  "kernelspec": {
   "display_name": "Python 3 (ipykernel)",
   "language": "python",
   "name": "python3"
  },
  "language_info": {
   "codemirror_mode": {
    "name": "ipython",
    "version": 3
   },
   "file_extension": ".py",
   "mimetype": "text/x-python",
   "name": "python",
   "nbconvert_exporter": "python",
   "pygments_lexer": "ipython3",
   "version": "3.8.11"
  }
 },
 "nbformat": 4,
 "nbformat_minor": 5
}
