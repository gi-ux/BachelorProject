{
 "cells": [
  {
   "cell_type": "code",
   "execution_count": 1,
   "metadata": {},
   "outputs": [
    {
     "data": {
      "application/javascript": [
       "IPython.notebook.set_autosave_interval(3600000)"
      ]
     },
     "metadata": {},
     "output_type": "display_data"
    },
    {
     "name": "stdout",
     "output_type": "stream",
     "text": [
      "Autosaving every 3600 seconds\n"
     ]
    }
   ],
   "source": [
    "import pandas as pd\n",
    "import numpy as np\n",
    "import plotly.express as px\n",
    "import matplotlib.pyplot as plt\n",
    "from time import strptime\n",
    "import datetime\n",
    "from datetime import datetime\n",
    "import warnings\n",
    "import time\n",
    "import csv\n",
    "import glob\n",
    "import logging\n",
    "import importlib\n",
    "import json\n",
    "# import networkx as nx\n",
    "import seaborn as sns\n",
    "# import re\n",
    "# from operator import itemgetter\n",
    "# import matplotlib.cm as mcm\n",
    "# import community\n",
    "# from community import community_louvain as cm\n",
    "# import leidenalg as la\n",
    "# import igraph as ig\n",
    "# from cdlib import algorithms\n",
    "warnings.filterwarnings('ignore')\n",
    "%autosave 3600"
   ]
  },
  {
   "cell_type": "markdown",
   "metadata": {},
   "source": [
    "# Indice\n",
    "\n",
    "- [Network Script](#script)\n",
    "\n",
    "\n",
    "- [Network](#network)\n",
    "\n",
    "    - [Netwrok info](#info)\n",
    "    - [Load files](#load)\n",
    "    \n",
    "    \n",
    "- [Communities](#communities)\n",
    "\n",
    "    - [Stats](#stats)    \n",
    "    - [Rt Disinform Dozen](#rt_dozen)\n",
    "    - [Disinform Dozen and community](#dozen_comm)\n",
    "    - [Good Dozen and community](#good_comm)\n",
    "    - [Top communities](#top_comm)\n",
    "    - [Community degrees](#degrees_comm)"
   ]
  },
  {
   "cell_type": "markdown",
   "metadata": {},
   "source": [
    "# Network Script\n",
    "<a id=\"script\"/>"
   ]
  },
  {
   "cell_type": "code",
   "execution_count": null,
   "metadata": {},
   "outputs": [],
   "source": [
    "retweets_graph = nx.from_pandas_edgelist(df,'name','rt_name', create_using=nx.DiGraph())\n",
    "print(nx.info(retweets_graph)) #da ritornare le info\n",
    "#-----------------------------------------------------------------\n",
    "degree_dict = dict(retweets_graph.degree(retweets_graph.nodes()))\n",
    "sorted_degree = sorted(degree_dict.items(), key=itemgetter(1), reverse=True) #da ritornare il dictionary\n",
    "#-----------------------------------------------------------------\n",
    "in_degree_dict = dict(retweets_graph.in_degree(retweets_graph.nodes()))\n",
    "sorted_in_degree = sorted(in_degree_dict.items(), key=itemgetter(1), reverse=True) #da ritornare il dictionary\n",
    "#-----------------------------------------------------------------\n",
    "out_degree_dict = dict(retweets_graph.out_degree(retweets_graph.nodes()))\n",
    "sorted_out_degree = sorted(out_degree_dict.items(), key=itemgetter(1), reverse=True) #da ritornare il dictionary\n",
    "#-----------------------------------------------------------------\n",
    "#### Communities with Louvain modularity\n",
    "retweets_graph_und = nx.from_pandas_edgelist(df,'name','rt_name')\n",
    "print(nx.info(retweets_graph_und)) #da ritornare \n",
    "#-----------------------------------------------------------------\n",
    "best_part = cm.best_partition(retweets_graph_und, random_state=42) #da ritornare il best part\n",
    "#-----------------------------------------------------------------\n",
    "#### Communities with Leiden (opzionale, se riesci)\n",
    "tuples = [tuple(x) for x in df_rt.values]\n",
    "retweets_graph = ig.Graph.TupleList(tuples, directed = True)\n",
    "n_vertices = retweets_graph.vcount()\n",
    "print(\"Number of vertices:\", n_vertices)\n",
    "print(\"Number of edges:\", retweets_graph.ecount())\n",
    "print(\"Density of the graph:\", 2*retweets_graph.ecount()/(retweets_graph.vcount()*(retweets_graph.vcount()-1)))\n",
    "#da ritornare\n",
    "#-----------------------------------------------------------------\n",
    "total_degree=0\n",
    "total_indegree = 0\n",
    "total_outdegree = 0\n",
    "for n in range(n_vertices):\n",
    "    total_degree += retweets_graph.degree(n)\n",
    "    total_indegree += retweets_graph.indegree(n)\n",
    "    total_outdegree += retweets_graph.outdegree(n)\n",
    "print(\"Average indegree:\", total_indegree/n_vertices)\n",
    "print(\"Average outdegree:\", total_outdegree/n_vertices)\n",
    "#da ritornare\n",
    "#-----------------------------------------------------------------\n",
    "partition = la.find_partition(retweets_graph, la.ModularityVertexPartition)\n",
    "partition\n",
    "#da ritornare"
   ]
  },
  {
   "cell_type": "markdown",
   "metadata": {},
   "source": [
    "# Network\n",
    "<a id=\"network\"/>"
   ]
  },
  {
   "cell_type": "markdown",
   "metadata": {},
   "source": [
    "### Nx info\n",
    "<p>\n",
    "    \n",
    "    Type: DiGraph\n",
    "    Number of nodes: 12513502\n",
    "    Number of edges: 40027282\n",
    "    Average in degree: 3.1987\n",
    "    Average out degree: 3.1987\n",
    "    \n",
    "</p>\n",
    "<a id=\"info\"/>\n"
   ]
  },
  {
   "cell_type": "markdown",
   "metadata": {},
   "source": [
    "### Load files\n",
    "<a id=\"load\"/>"
   ]
  },
  {
   "cell_type": "code",
   "execution_count": 2,
   "metadata": {},
   "outputs": [],
   "source": [
    "path_degrees = glob.glob(\"C:/Users/gianl/Desktop/Gi/Supsi/BachelorProject/large_files/rt_network/*degree*.json\")\n",
    "path_communities = glob.glob(\"C:/Users/gianl/Desktop/Gi/Supsi/BachelorProject/large_files/rt_network/*communities*.json\")"
   ]
  },
  {
   "cell_type": "code",
   "execution_count": 3,
   "metadata": {},
   "outputs": [
    {
     "name": "stdout",
     "output_type": "stream",
     "text": [
      "Time:  36.76910900000007\n"
     ]
    }
   ],
   "source": [
    "start_time = time.perf_counter()\n",
    "file = open (path_degrees[0],)\n",
    "degree = json.loads(file.read())\n",
    "file.close()\n",
    "stop_time = time.perf_counter()\n",
    "print(\"Time: \",stop_time-start_time)"
   ]
  },
  {
   "cell_type": "code",
   "execution_count": 4,
   "metadata": {},
   "outputs": [
    {
     "name": "stdout",
     "output_type": "stream",
     "text": [
      "Time:  52.02346729999999\n"
     ]
    }
   ],
   "source": [
    "start_time = time.perf_counter()\n",
    "file = open (path_degrees[1],)\n",
    "in_degree = json.loads(file.read())\n",
    "file.close()\n",
    "stop_time = time.perf_counter()\n",
    "print(\"Time: \",stop_time-start_time)"
   ]
  },
  {
   "cell_type": "code",
   "execution_count": 6,
   "metadata": {},
   "outputs": [
    {
     "name": "stdout",
     "output_type": "stream",
     "text": [
      "Time:  330.66192780000006\n"
     ]
    }
   ],
   "source": [
    "start_time = time.perf_counter()\n",
    "file = open (path_degrees[2],)\n",
    "out_degree = json.loads(file.read())\n",
    "file.close()\n",
    "stop_time = time.perf_counter()\n",
    "print(\"Time: \",stop_time-start_time)"
   ]
  },
  {
   "cell_type": "code",
   "execution_count": 9,
   "metadata": {},
   "outputs": [
    {
     "name": "stdout",
     "output_type": "stream",
     "text": [
      "Time:  1.6485553999999638\n"
     ]
    }
   ],
   "source": [
    "start_time = time.perf_counter()\n",
    "file = open (path_communities[0],)\n",
    "leiden = json.loads(file.read())\n",
    "file.close()\n",
    "stop_time = time.perf_counter()\n",
    "print(\"Time: \",stop_time-start_time)"
   ]
  },
  {
   "cell_type": "code",
   "execution_count": 3,
   "metadata": {},
   "outputs": [
    {
     "name": "stdout",
     "output_type": "stream",
     "text": [
      "Time:  29.89199819999999\n"
     ]
    }
   ],
   "source": [
    "start_time = time.perf_counter()\n",
    "file = open (path_communities[1],)\n",
    "louvain = json.loads(file.read())\n",
    "file.close()\n",
    "stop_time = time.perf_counter()\n",
    "print(\"Time: \",stop_time-start_time)"
   ]
  },
  {
   "cell_type": "markdown",
   "metadata": {},
   "source": [
    "#### write users contained into rt_network"
   ]
  },
  {
   "cell_type": "code",
   "execution_count": 2,
   "metadata": {},
   "outputs": [],
   "source": [
    "path_nt = glob.glob(\"C:/Users/gianl/Desktop/Gi/Supsi/BachelorProject/network/names/\")\n",
    "# users = pd.Series(louvain.keys())\n",
    "# users = users.unique()\n",
    "# df_network = pd.DataFrame(users, columns=['user_screen_name'])\n",
    "# df_network.to_csv(path_nt[0] + \"network_users.csv\", index=False, encoding='utf-8', line_terminator='\\n')"
   ]
  },
  {
   "cell_type": "code",
   "execution_count": 39,
   "metadata": {},
   "outputs": [
    {
     "name": "stdout",
     "output_type": "stream",
     "text": [
      "1 done...\n",
      "2 done...\n",
      "19 done...\n"
     ]
    }
   ],
   "source": [
    "communities = [1,2,19]\n",
    "for j in communities:\n",
    "    lst = []\n",
    "    df_name = pd.DataFrame()\n",
    "    for i in louvain:\n",
    "        if(louvain.get(i) == j):\n",
    "            lst.append(i)\n",
    "    df_name = pd.DataFrame(lst, columns=['user_screen_name'])\n",
    "    df_name.to_csv(path_nt[0] + f\"names_{j}.csv\", index=False, encoding='utf-8', line_terminator='\\n')\n",
    "    print(f\"{j} done...\")"
   ]
  },
  {
   "cell_type": "code",
   "execution_count": 7,
   "metadata": {},
   "outputs": [
    {
     "data": {
      "text/html": [
       "<div>\n",
       "<style scoped>\n",
       "    .dataframe tbody tr th:only-of-type {\n",
       "        vertical-align: middle;\n",
       "    }\n",
       "\n",
       "    .dataframe tbody tr th {\n",
       "        vertical-align: top;\n",
       "    }\n",
       "\n",
       "    .dataframe thead th {\n",
       "        text-align: right;\n",
       "    }\n",
       "</style>\n",
       "<table border=\"1\" class=\"dataframe\">\n",
       "  <thead>\n",
       "    <tr style=\"text-align: right;\">\n",
       "      <th></th>\n",
       "      <th>name</th>\n",
       "      <th>rt_name</th>\n",
       "    </tr>\n",
       "  </thead>\n",
       "  <tbody>\n",
       "    <tr>\n",
       "      <th>0</th>\n",
       "      <td>Huerconetzin</td>\n",
       "      <td>AnneKPIX</td>\n",
       "    </tr>\n",
       "    <tr>\n",
       "      <th>1</th>\n",
       "      <td>JustAnotherAme4</td>\n",
       "      <td>cnni</td>\n",
       "    </tr>\n",
       "    <tr>\n",
       "      <th>2</th>\n",
       "      <td>HHSRegion8</td>\n",
       "      <td>CDCgov</td>\n",
       "    </tr>\n",
       "    <tr>\n",
       "      <th>3</th>\n",
       "      <td>Paxman42</td>\n",
       "      <td>OurWarOnCancer</td>\n",
       "    </tr>\n",
       "    <tr>\n",
       "      <th>4</th>\n",
       "      <td>beerhowell</td>\n",
       "      <td>nytimes</td>\n",
       "    </tr>\n",
       "    <tr>\n",
       "      <th>...</th>\n",
       "      <td>...</td>\n",
       "      <td>...</td>\n",
       "    </tr>\n",
       "    <tr>\n",
       "      <th>48312499</th>\n",
       "      <td>Dinora21971394</td>\n",
       "      <td>saludhn</td>\n",
       "    </tr>\n",
       "    <tr>\n",
       "      <th>48312500</th>\n",
       "      <td>EllyJonkerVliet</td>\n",
       "      <td>StopEcocideNL</td>\n",
       "    </tr>\n",
       "    <tr>\n",
       "      <th>48312501</th>\n",
       "      <td>anna76746180</td>\n",
       "      <td>Haggis_UK</td>\n",
       "    </tr>\n",
       "    <tr>\n",
       "      <th>48312502</th>\n",
       "      <td>SueHealy16</td>\n",
       "      <td>Auchindrain</td>\n",
       "    </tr>\n",
       "    <tr>\n",
       "      <th>48312503</th>\n",
       "      <td>inquisitor111</td>\n",
       "      <td>StagecoachBBird</td>\n",
       "    </tr>\n",
       "  </tbody>\n",
       "</table>\n",
       "<p>48312504 rows × 2 columns</p>\n",
       "</div>"
      ],
      "text/plain": [
       "                     name          rt_name\n",
       "0            Huerconetzin         AnneKPIX\n",
       "1         JustAnotherAme4             cnni\n",
       "2              HHSRegion8           CDCgov\n",
       "3                Paxman42   OurWarOnCancer\n",
       "4              beerhowell          nytimes\n",
       "...                   ...              ...\n",
       "48312499   Dinora21971394          saludhn\n",
       "48312500  EllyJonkerVliet    StopEcocideNL\n",
       "48312501     anna76746180        Haggis_UK\n",
       "48312502       SueHealy16      Auchindrain\n",
       "48312503    inquisitor111  StagecoachBBird\n",
       "\n",
       "[48312504 rows x 2 columns]"
      ]
     },
     "execution_count": 7,
     "metadata": {},
     "output_type": "execute_result"
    }
   ],
   "source": [
    "# user_rtuser = pd.read_csv(path_nt[0] + \"user_rtuser.csv\", low_memory=False, lineterminator='\\n')\n",
    "user_rtuser"
   ]
  },
  {
   "cell_type": "code",
   "execution_count": 21,
   "metadata": {},
   "outputs": [
    {
     "name": "stdout",
     "output_type": "stream",
     "text": [
      "Paxman42\n"
     ]
    }
   ],
   "source": [
    "for i in lst:\n",
    "    print(i[0])   break"
   ]
  },
  {
   "cell_type": "code",
   "execution_count": 27,
   "metadata": {
    "scrolled": true
   },
   "outputs": [
    {
     "name": "stdout",
     "output_type": "stream",
     "text": [
      "community 1 done ...\n",
      "community 2 done ...\n",
      "community 19 done ...\n"
     ]
    }
   ],
   "source": [
    "communities = [1,2,19]\n",
    "for j in communities:\n",
    "    df_names = pd.read_csv(path_nt[0] + f\"names_{j}.csv\", low_memory=False, lineterminator=\"\\n\")\n",
    "    names = list(df_names[\"user_screen_name\"])\n",
    "    new_df = user_rtuser[user_rtuser.name.isin(names)]\n",
    "    new_df2 = new_df[new_df.rt_name.isin(names)]\n",
    "    lst_iter_t = tuple(new_df2[\"name\"])\n",
    "    lst_iter_rt = tuple(new_df2[\"rt_name\"])\n",
    "    df = pd.DataFrame(list(zip(lst_iter_t, lst_iter_rt)), columns =['name', 'rt_name'])\n",
    "    df.to_csv(path_nt[0] + f\"rt_nt_{j}.csv\", line_terminator='\\n', encoding='utf-8', index=False)\n",
    "    print(f\"community {j} done ...\")"
   ]
  },
  {
   "cell_type": "markdown",
   "metadata": {},
   "source": [
    "# Communities\n",
    "<a id=\"communities\"/>"
   ]
  },
  {
   "cell_type": "code",
   "execution_count": 9,
   "metadata": {},
   "outputs": [],
   "source": [
    "path_ccdh_rt = glob.glob(\"C:/Users/gianl/Desktop/Gi/Supsi/BachelorProject/large_files/ccdh/\")\n",
    "path_disinform = glob.glob(\"C:/Users/gianl/Desktop/Gi/Supsi/BachelorProject/csv/\")"
   ]
  },
  {
   "cell_type": "code",
   "execution_count": 12,
   "metadata": {},
   "outputs": [],
   "source": [
    "ccdh_rt = pd.read_csv(path_ccdh_rt[0] + \"rt_bad.csv\")\n",
    "good_rt = pd.read_csv(path_ccdh_rt[0] + \"rt_good.csv\")"
   ]
  },
  {
   "cell_type": "code",
   "execution_count": 13,
   "metadata": {},
   "outputs": [],
   "source": [
    "ccdh_rt_flt = ccdh_rt[ccdh_rt.user_screen_name.isin([x for x in louvain])]\n",
    "good_rt_flt = good_rt[good_rt.user_screen_name.isin([x for x in louvain])]"
   ]
  },
  {
   "cell_type": "code",
   "execution_count": 8,
   "metadata": {},
   "outputs": [],
   "source": [
    "disinform = pd.read_csv(path_disinform[0] + \"disinformation_users.csv\")\n",
    "good_dozen = pd.read_csv(path_disinform[0] + \"good_dozen.csv\")"
   ]
  },
  {
   "cell_type": "markdown",
   "metadata": {},
   "source": [
    "### Stats\n",
    "<a id=\"stats\"/>"
   ]
  },
  {
   "cell_type": "code",
   "execution_count": 22,
   "metadata": {},
   "outputs": [
    {
     "data": {
      "text/html": [
       "<div>\n",
       "<style scoped>\n",
       "    .dataframe tbody tr th:only-of-type {\n",
       "        vertical-align: middle;\n",
       "    }\n",
       "\n",
       "    .dataframe tbody tr th {\n",
       "        vertical-align: top;\n",
       "    }\n",
       "\n",
       "    .dataframe thead th {\n",
       "        text-align: right;\n",
       "    }\n",
       "</style>\n",
       "<table border=\"1\" class=\"dataframe\">\n",
       "  <thead>\n",
       "    <tr style=\"text-align: right;\">\n",
       "      <th></th>\n",
       "      <th>screen_name</th>\n",
       "    </tr>\n",
       "  </thead>\n",
       "  <tbody>\n",
       "    <tr>\n",
       "      <th>0</th>\n",
       "      <td>DrDenaGrayson</td>\n",
       "    </tr>\n",
       "    <tr>\n",
       "      <th>1</th>\n",
       "      <td>MackayIM</td>\n",
       "    </tr>\n",
       "    <tr>\n",
       "      <th>2</th>\n",
       "      <td>DrEricDing</td>\n",
       "    </tr>\n",
       "    <tr>\n",
       "      <th>3</th>\n",
       "      <td>IlonaKickbusch</td>\n",
       "    </tr>\n",
       "    <tr>\n",
       "      <th>4</th>\n",
       "      <td>ashishkjha</td>\n",
       "    </tr>\n",
       "    <tr>\n",
       "      <th>5</th>\n",
       "      <td>HelenBranswell</td>\n",
       "    </tr>\n",
       "    <tr>\n",
       "      <th>6</th>\n",
       "      <td>mlipsitch</td>\n",
       "    </tr>\n",
       "    <tr>\n",
       "      <th>7</th>\n",
       "      <td>trvrb</td>\n",
       "    </tr>\n",
       "    <tr>\n",
       "      <th>8</th>\n",
       "      <td>kakape</td>\n",
       "    </tr>\n",
       "    <tr>\n",
       "      <th>9</th>\n",
       "      <td>edyong209</td>\n",
       "    </tr>\n",
       "    <tr>\n",
       "      <th>10</th>\n",
       "      <td>CDCDirector</td>\n",
       "    </tr>\n",
       "    <tr>\n",
       "      <th>11</th>\n",
       "      <td>DrTedros</td>\n",
       "    </tr>\n",
       "  </tbody>\n",
       "</table>\n",
       "</div>"
      ],
      "text/plain": [
       "       screen_name\n",
       "0    DrDenaGrayson\n",
       "1         MackayIM\n",
       "2       DrEricDing\n",
       "3   IlonaKickbusch\n",
       "4       ashishkjha\n",
       "5   HelenBranswell\n",
       "6        mlipsitch\n",
       "7            trvrb\n",
       "8           kakape\n",
       "9        edyong209\n",
       "10     CDCDirector\n",
       "11        DrTedros"
      ]
     },
     "execution_count": 22,
     "metadata": {},
     "output_type": "execute_result"
    }
   ],
   "source": [
    "ccdh_flt = disinform[disinform.screen_name.isin([x for x in louvain])]\n",
    "good_flt = good_dozen[good_dozen.screen_name.isin([x for x in louvain])]\n",
    "ccdh_flt\n",
    "good_flt"
   ]
  },
  {
   "cell_type": "code",
   "execution_count": 19,
   "metadata": {
    "scrolled": true
   },
   "outputs": [],
   "source": [
    "total_users = len(louvain)\n",
    "total_rt_good = len(good_rt)\n",
    "found_good = len(good_rt_flt)\n",
    "cont = 0\n",
    "for i in louvain:\n",
    "    if(louvain.get(i) == 1):\n",
    "        cont = cont + 1"
   ]
  },
  {
   "cell_type": "code",
   "execution_count": 30,
   "metadata": {},
   "outputs": [
    {
     "name": "stdout",
     "output_type": "stream",
     "text": [
      "Utenti che retweettano i Dozen presenti nella Network: 65.51%\n",
      "Che rappresentano il: 0.31% della network\n",
      "e rappresentano il: 3.41% della Community numero 1\n"
     ]
    }
   ],
   "source": [
    "print(f\"Utenti che retweettano i Dozen presenti nella Network: {round((found_good/total_rt_good)*100,2)}%\")\n",
    "print(f\"Che rappresentano il: {round((found_good/total_users)*100,2)}% della network\")\n",
    "print(f\"e rappresentano il: {round((found_good/cont)*100,2)}% della Community numero 1\")"
   ]
  },
  {
   "cell_type": "code",
   "execution_count": 26,
   "metadata": {},
   "outputs": [],
   "source": [
    "total_users = len(louvain)\n",
    "total_rt_ccdh = len(ccdh_rt)\n",
    "found = len(ccdh_rt_flt)\n",
    "cont = 0\n",
    "for i in louvain:\n",
    "    if(louvain.get(i) == 2):\n",
    "        cont = cont + 1"
   ]
  },
  {
   "cell_type": "code",
   "execution_count": 27,
   "metadata": {
    "scrolled": true
   },
   "outputs": [
    {
     "name": "stdout",
     "output_type": "stream",
     "text": [
      "Utenti che retweettano i Dozen presenti nella Network: 48.34%\n",
      "Che rappresentano il: 0.59% della network\n",
      "e rappresentano il: 7.16% della Community numero 2\n"
     ]
    }
   ],
   "source": [
    "print(f\"Utenti che retweettano i Dozen presenti nella Network: {round((found/total_rt_ccdh)*100,2)}%\")\n",
    "print(f\"Che rappresentano il: {round((found/total_users)*100,2)}% della network\")\n",
    "print(f\"e rappresentano il: {round((found/cont)*100,2)}% della Community numero 2\")"
   ]
  },
  {
   "cell_type": "code",
   "execution_count": 9,
   "metadata": {},
   "outputs": [
    {
     "data": {
      "text/plain": [
       "74231"
      ]
     },
     "execution_count": 9,
     "metadata": {},
     "output_type": "execute_result"
    }
   ],
   "source": [
    "len(ccdh_rt_flt)"
   ]
  },
  {
   "cell_type": "markdown",
   "metadata": {},
   "source": [
    "### Rt Disinform Dozen\n",
    "<a id=\"rt_dozen\"/>"
   ]
  },
  {
   "cell_type": "code",
   "execution_count": 18,
   "metadata": {},
   "outputs": [
    {
     "name": "stdout",
     "output_type": "stream",
     "text": [
      "La community 2 contiene il 65.2% degli utenti presenti nella network\n",
      "48402\n",
      "7156\n"
     ]
    },
    {
     "data": {
      "image/png": "[encoded data removed]",
      "text/plain": [
       "<Figure size 1008x576 with 1 Axes>"
      ]
     },
     "metadata": {
      "needs_background": "light"
     },
     "output_type": "display_data"
    }
   ],
   "source": [
    "community = []\n",
    "name = []\n",
    "rt = []\n",
    "for i in ccdh_rt_flt[\"user_screen_name\"]:\n",
    "    if i in louvain:\n",
    "        rt.append((i, louvain.get(i)))\n",
    "for i in range(len(rt)):\n",
    "    community.append(rt[i][1])\n",
    "val = pd.Series(community)\n",
    "val = val.value_counts().sort_values(ascending=False)\n",
    "fig = plt.figure(figsize=(14, 8))\n",
    "ax = val[:10].plot(kind='barh', color='lightseagreen', fig=(14,14)) #orange #lightseagreen\n",
    "ax.set_title('Number of community for user who retweet BAD DOZEN', fontsize=15)\n",
    "ax.invert_yaxis()\n",
    "print(f\"La community 2 contiene il {round(val[2] / sum(val),4)*100}% degli utenti presenti nella network\")\n",
    "print(val[2])\n",
    "print(val[1])\n",
    "\n",
    "plt.show()"
   ]
  },
  {
   "cell_type": "code",
   "execution_count": 21,
   "metadata": {},
   "outputs": [],
   "source": [
    "x = val[:3]"
   ]
  },
  {
   "cell_type": "code",
   "execution_count": 24,
   "metadata": {},
   "outputs": [
    {
     "name": "stdout",
     "output_type": "stream",
     "text": [
      "La community 1 contiene il 62.74999999999999% degli utenti presenti nella network\n",
      "24427\n"
     ]
    },
    {
     "data": {
      "image/png": "[encoded data removed]",
      "text/plain": [
       "<Figure size 1008x576 with 1 Axes>"
      ]
     },
     "metadata": {
      "needs_background": "light"
     },
     "output_type": "display_data"
    }
   ],
   "source": [
    "community = []\n",
    "name = []\n",
    "rt = []\n",
    "for i in good_rt_flt[\"user_screen_name\"]:\n",
    "    if i in louvain:\n",
    "        rt.append((i, louvain.get(i)))\n",
    "for i in range(len(rt)):\n",
    "    community.append(rt[i][1])\n",
    "val = pd.Series(community)\n",
    "val = val.value_counts().sort_values(ascending=False)\n",
    "fig = plt.figure(figsize=(14, 8))\n",
    "ax = val[:10].plot(kind='barh', color='steelblue', fig=(14,14)) #orange #lightseagreen\n",
    "ax.set_title('Number of community for user who retweet GOOD DOZEN', fontsize=15)\n",
    "ax.invert_yaxis()\n",
    "print(f\"La community 1 contiene il {round(val[1] / sum(val),4)*100}% degli utenti presenti nella network\")\n",
    "print(val[1])\n",
    "plt.show()"
   ]
  },
  {
   "cell_type": "code",
   "execution_count": 36,
   "metadata": {},
   "outputs": [],
   "source": [
    "y = val[:3]\n",
    "y_v = list(y.values)\n",
    "y_k = list(y.keys())\n",
    "x_v = list(x.values)\n",
    "x_k = list(x.keys())\n",
    "label_g = [\"Good\", \"Good\", \"Good\"]\n",
    "label_b = [\"Bad\", \"Bad\", \"Bad\"]\n",
    "df_plot = pd.DataFrame({'Value':y_v, \"Community\":y_k, \"Dozen\":label_g})\n",
    "df_plot = df_plot.append(pd.DataFrame({'Value':x_v, \"Community\":x_k, \"Dozen\": label_b}))"
   ]
  },
  {
   "cell_type": "code",
   "execution_count": 37,
   "metadata": {},
   "outputs": [
    {
     "data": {
      "text/html": [
       "<div>\n",
       "<style scoped>\n",
       "    .dataframe tbody tr th:only-of-type {\n",
       "        vertical-align: middle;\n",
       "    }\n",
       "\n",
       "    .dataframe tbody tr th {\n",
       "        vertical-align: top;\n",
       "    }\n",
       "\n",
       "    .dataframe thead th {\n",
       "        text-align: right;\n",
       "    }\n",
       "</style>\n",
       "<table border=\"1\" class=\"dataframe\">\n",
       "  <thead>\n",
       "    <tr style=\"text-align: right;\">\n",
       "      <th></th>\n",
       "      <th>Value</th>\n",
       "      <th>Community</th>\n",
       "      <th>Dozen</th>\n",
       "    </tr>\n",
       "  </thead>\n",
       "  <tbody>\n",
       "    <tr>\n",
       "      <th>0</th>\n",
       "      <td>24427</td>\n",
       "      <td>1</td>\n",
       "      <td>Good</td>\n",
       "    </tr>\n",
       "    <tr>\n",
       "      <th>1</th>\n",
       "      <td>8240</td>\n",
       "      <td>2</td>\n",
       "      <td>Good</td>\n",
       "    </tr>\n",
       "    <tr>\n",
       "      <th>2</th>\n",
       "      <td>2088</td>\n",
       "      <td>10</td>\n",
       "      <td>Good</td>\n",
       "    </tr>\n",
       "    <tr>\n",
       "      <th>0</th>\n",
       "      <td>48402</td>\n",
       "      <td>2</td>\n",
       "      <td>Bad</td>\n",
       "    </tr>\n",
       "    <tr>\n",
       "      <th>1</th>\n",
       "      <td>7156</td>\n",
       "      <td>1</td>\n",
       "      <td>Bad</td>\n",
       "    </tr>\n",
       "    <tr>\n",
       "      <th>2</th>\n",
       "      <td>3735</td>\n",
       "      <td>10</td>\n",
       "      <td>Bad</td>\n",
       "    </tr>\n",
       "  </tbody>\n",
       "</table>\n",
       "</div>"
      ],
      "text/plain": [
       "   Value  Community Dozen\n",
       "0  24427          1  Good\n",
       "1   8240          2  Good\n",
       "2   2088         10  Good\n",
       "0  48402          2   Bad\n",
       "1   7156          1   Bad\n",
       "2   3735         10   Bad"
      ]
     },
     "execution_count": 37,
     "metadata": {},
     "output_type": "execute_result"
    }
   ],
   "source": [
    "df_plot"
   ]
  },
  {
   "cell_type": "code",
   "execution_count": 41,
   "metadata": {},
   "outputs": [
    {
     "data": {
      "application/vnd.plotly.v1+json": {
       "config": {
        "plotlyServerURL": "https://plot.ly"
       },
       "data": [
        {
         "alignmentgroup": "True",
         "hovertemplate": "Dozen=Good<br>Community=%{x}<br>Value=%{y}<extra></extra>",
         "legendgroup": "Good",
         "marker": {
          "color": "#636efa"
         },
         "name": "Good",
         "offsetgroup": "Good",
         "orientation": "v",
         "showlegend": true,
         "textposition": "auto",
         "type": "bar",
         "x": [
          1,
          2,
          10
         ],
         "xaxis": "x",
         "y": [
          24427,
          8240,
          2088
         ],
         "yaxis": "y"
        },
        {
         "alignmentgroup": "True",
         "hovertemplate": "Dozen=Bad<br>Community=%{x}<br>Value=%{y}<extra></extra>",
         "legendgroup": "Bad",
         "marker": {
          "color": "#EF553B"
         },
         "name": "Bad",
         "offsetgroup": "Bad",
         "orientation": "v",
         "showlegend": true,
         "textposition": "auto",
         "type": "bar",
         "x": [
          2,
          1,
          10
         ],
         "xaxis": "x",
         "y": [
          48402,
          7156,
          3735
         ],
         "yaxis": "y"
        }
       ],
       "layout": {
        "barmode": "group",
        "legend": {
         "title": {
          "text": "Dozen"
         },
         "tracegroupgap": 0
        },
        "template": {
         "data": {
          "bar": [
           {
            "error_x": {
             "color": "#2a3f5f"
            },
            "error_y": {
             "color": "#2a3f5f"
            },
            "marker": {
             "line": {
              "color": "#E5ECF6",
              "width": 0.5
             }
            },
            "type": "bar"
           }
          ],
          "barpolar": [
           {
            "marker": {
             "line": {
              "color": "#E5ECF6",
              "width": 0.5
             }
            },
            "type": "barpolar"
           }
          ],
          "carpet": [
           {
            "aaxis": {
             "endlinecolor": "#2a3f5f",
             "gridcolor": "white",
             "linecolor": "white",
             "minorgridcolor": "white",
             "startlinecolor": "#2a3f5f"
            },
            "baxis": {
             "endlinecolor": "#2a3f5f",
             "gridcolor": "white",
             "linecolor": "white",
             "minorgridcolor": "white",
             "startlinecolor": "#2a3f5f"
            },
            "type": "carpet"
           }
          ],
          "choropleth": [
           {
            "colorbar": {
             "outlinewidth": 0,
             "ticks": ""
            },
            "type": "choropleth"
           }
          ],
          "contour": [
           {
            "colorbar": {
             "outlinewidth": 0,
             "ticks": ""
            },
            "colorscale": [
             [
              0,
              "#0d0887"
             ],
             [
              0.1111111111111111,
              "#46039f"
             ],
             [
              0.2222222222222222,
              "#7201a8"
             ],
             [
              0.3333333333333333,
              "#9c179e"
             ],
             [
              0.4444444444444444,
              "#bd3786"
             ],
             [
              0.5555555555555556,
              "#d8576b"
             ],
             [
              0.6666666666666666,
              "#ed7953"
             ],
             [
              0.7777777777777778,
              "#fb9f3a"
             ],
             [
              0.8888888888888888,
              "#fdca26"
             ],
             [
              1,
              "#f0f921"
             ]
            ],
            "type": "contour"
           }
          ],
          "contourcarpet": [
           {
            "colorbar": {
             "outlinewidth": 0,
             "ticks": ""
            },
            "type": "contourcarpet"
           }
          ],
          "heatmap": [
           {
            "colorbar": {
             "outlinewidth": 0,
             "ticks": ""
            },
            "colorscale": [
             [
              0,
              "#0d0887"
             ],
             [
              0.1111111111111111,
              "#46039f"
             ],
             [
              0.2222222222222222,
              "#7201a8"
             ],
             [
              0.3333333333333333,
              "#9c179e"
             ],
             [
              0.4444444444444444,
              "#bd3786"
             ],
             [
              0.5555555555555556,
              "#d8576b"
             ],
             [
              0.6666666666666666,
              "#ed7953"
             ],
             [
              0.7777777777777778,
              "#fb9f3a"
             ],
             [
              0.8888888888888888,
              "#fdca26"
             ],
             [
              1,
              "#f0f921"
             ]
            ],
            "type": "heatmap"
           }
          ],
          "heatmapgl": [
           {
            "colorbar": {
             "outlinewidth": 0,
             "ticks": ""
            },
            "colorscale": [
             [
              0,
              "#0d0887"
             ],
             [
              0.1111111111111111,
              "#46039f"
             ],
             [
              0.2222222222222222,
              "#7201a8"
             ],
             [
              0.3333333333333333,
              "#9c179e"
             ],
             [
              0.4444444444444444,
              "#bd3786"
             ],
             [
              0.5555555555555556,
              "#d8576b"
             ],
             [
              0.6666666666666666,
              "#ed7953"
             ],
             [
              0.7777777777777778,
              "#fb9f3a"
             ],
             [
              0.8888888888888888,
              "#fdca26"
             ],
             [
              1,
              "#f0f921"
             ]
            ],
            "type": "heatmapgl"
           }
          ],
          "histogram": [
           {
            "marker": {
             "colorbar": {
              "outlinewidth": 0,
              "ticks": ""
             }
            },
            "type": "histogram"
           }
          ],
          "histogram2d": [
           {
            "colorbar": {
             "outlinewidth": 0,
             "ticks": ""
            },
            "colorscale": [
             [
              0,
              "#0d0887"
             ],
             [
              0.1111111111111111,
              "#46039f"
             ],
             [
              0.2222222222222222,
              "#7201a8"
             ],
             [
              0.3333333333333333,
              "#9c179e"
             ],
             [
              0.4444444444444444,
              "#bd3786"
             ],
             [
              0.5555555555555556,
              "#d8576b"
             ],
             [
              0.6666666666666666,
              "#ed7953"
             ],
             [
              0.7777777777777778,
              "#fb9f3a"
             ],
             [
              0.8888888888888888,
              "#fdca26"
             ],
             [
              1,
              "#f0f921"
             ]
            ],
            "type": "histogram2d"
           }
          ],
          "histogram2dcontour": [
           {
            "colorbar": {
             "outlinewidth": 0,
             "ticks": ""
            },
            "colorscale": [
             [
              0,
              "#0d0887"
             ],
             [
              0.1111111111111111,
              "#46039f"
             ],
             [
              0.2222222222222222,
              "#7201a8"
             ],
             [
              0.3333333333333333,
              "#9c179e"
             ],
             [
              0.4444444444444444,
              "#bd3786"
             ],
             [
              0.5555555555555556,
              "#d8576b"
             ],
             [
              0.6666666666666666,
              "#ed7953"
             ],
             [
              0.7777777777777778,
              "#fb9f3a"
             ],
             [
              0.8888888888888888,
              "#fdca26"
             ],
             [
              1,
              "#f0f921"
             ]
            ],
            "type": "histogram2dcontour"
           }
          ],
          "mesh3d": [
           {
            "colorbar": {
             "outlinewidth": 0,
             "ticks": ""
            },
            "type": "mesh3d"
           }
          ],
          "parcoords": [
           {
            "line": {
             "colorbar": {
              "outlinewidth": 0,
              "ticks": ""
             }
            },
            "type": "parcoords"
           }
          ],
          "pie": [
           {
            "automargin": true,
            "type": "pie"
           }
          ],
          "scatter": [
           {
            "marker": {
             "colorbar": {
              "outlinewidth": 0,
              "ticks": ""
             }
            },
            "type": "scatter"
           }
          ],
          "scatter3d": [
           {
            "line": {
             "colorbar": {
              "outlinewidth": 0,
              "ticks": ""
             }
            },
            "marker": {
             "colorbar": {
              "outlinewidth": 0,
              "ticks": ""
             }
            },
            "type": "scatter3d"
           }
          ],
          "scattercarpet": [
           {
            "marker": {
             "colorbar": {
              "outlinewidth": 0,
              "ticks": ""
             }
            },
            "type": "scattercarpet"
           }
          ],
          "scattergeo": [
           {
            "marker": {
             "colorbar": {
              "outlinewidth": 0,
              "ticks": ""
             }
            },
            "type": "scattergeo"
           }
          ],
          "scattergl": [
           {
            "marker": {
             "colorbar": {
              "outlinewidth": 0,
              "ticks": ""
             }
            },
            "type": "scattergl"
           }
          ],
          "scattermapbox": [
           {
            "marker": {
             "colorbar": {
              "outlinewidth": 0,
              "ticks": ""
             }
            },
            "type": "scattermapbox"
           }
          ],
          "scatterpolar": [
           {
            "marker": {
             "colorbar": {
              "outlinewidth": 0,
              "ticks": ""
             }
            },
            "type": "scatterpolar"
           }
          ],
          "scatterpolargl": [
           {
            "marker": {
             "colorbar": {
              "outlinewidth": 0,
              "ticks": ""
             }
            },
            "type": "scatterpolargl"
           }
          ],
          "scatterternary": [
           {
            "marker": {
             "colorbar": {
              "outlinewidth": 0,
              "ticks": ""
             }
            },
            "type": "scatterternary"
           }
          ],
          "surface": [
           {
            "colorbar": {
             "outlinewidth": 0,
             "ticks": ""
            },
            "colorscale": [
             [
              0,
              "#0d0887"
             ],
             [
              0.1111111111111111,
              "#46039f"
             ],
             [
              0.2222222222222222,
              "#7201a8"
             ],
             [
              0.3333333333333333,
              "#9c179e"
             ],
             [
              0.4444444444444444,
              "#bd3786"
             ],
             [
              0.5555555555555556,
              "#d8576b"
             ],
             [
              0.6666666666666666,
              "#ed7953"
             ],
             [
              0.7777777777777778,
              "#fb9f3a"
             ],
             [
              0.8888888888888888,
              "#fdca26"
             ],
             [
              1,
              "#f0f921"
             ]
            ],
            "type": "surface"
           }
          ],
          "table": [
           {
            "cells": {
             "fill": {
              "color": "#EBF0F8"
             },
             "line": {
              "color": "white"
             }
            },
            "header": {
             "fill": {
              "color": "#C8D4E3"
             },
             "line": {
              "color": "white"
             }
            },
            "type": "table"
           }
          ]
         },
         "layout": {
          "annotationdefaults": {
           "arrowcolor": "#2a3f5f",
           "arrowhead": 0,
           "arrowwidth": 1
          },
          "coloraxis": {
           "colorbar": {
            "outlinewidth": 0,
            "ticks": ""
           }
          },
          "colorscale": {
           "diverging": [
            [
             0,
             "#8e0152"
            ],
            [
             0.1,
             "#c51b7d"
            ],
            [
             0.2,
             "#de77ae"
            ],
            [
             0.3,
             "#f1b6da"
            ],
            [
             0.4,
             "#fde0ef"
            ],
            [
             0.5,
             "#f7f7f7"
            ],
            [
             0.6,
             "#e6f5d0"
            ],
            [
             0.7,
             "#b8e186"
            ],
            [
             0.8,
             "#7fbc41"
            ],
            [
             0.9,
             "#4d9221"
            ],
            [
             1,
             "#276419"
            ]
           ],
           "sequential": [
            [
             0,
             "#0d0887"
            ],
            [
             0.1111111111111111,
             "#46039f"
            ],
            [
             0.2222222222222222,
             "#7201a8"
            ],
            [
             0.3333333333333333,
             "#9c179e"
            ],
            [
             0.4444444444444444,
             "#bd3786"
            ],
            [
             0.5555555555555556,
             "#d8576b"
            ],
            [
             0.6666666666666666,
             "#ed7953"
            ],
            [
             0.7777777777777778,
             "#fb9f3a"
            ],
            [
             0.8888888888888888,
             "#fdca26"
            ],
            [
             1,
             "#f0f921"
            ]
           ],
           "sequentialminus": [
            [
             0,
             "#0d0887"
            ],
            [
             0.1111111111111111,
             "#46039f"
            ],
            [
             0.2222222222222222,
             "#7201a8"
            ],
            [
             0.3333333333333333,
             "#9c179e"
            ],
            [
             0.4444444444444444,
             "#bd3786"
            ],
            [
             0.5555555555555556,
             "#d8576b"
            ],
            [
             0.6666666666666666,
             "#ed7953"
            ],
            [
             0.7777777777777778,
             "#fb9f3a"
            ],
            [
             0.8888888888888888,
             "#fdca26"
            ],
            [
             1,
             "#f0f921"
            ]
           ]
          },
          "colorway": [
           "#636efa",
           "#EF553B",
           "#00cc96",
           "#ab63fa",
           "#FFA15A",
           "#19d3f3",
           "#FF6692",
           "#B6E880",
           "#FF97FF",
           "#FECB52"
          ],
          "font": {
           "color": "#2a3f5f"
          },
          "geo": {
           "bgcolor": "white",
           "lakecolor": "white",
           "landcolor": "#E5ECF6",
           "showlakes": true,
           "showland": true,
           "subunitcolor": "white"
          },
          "hoverlabel": {
           "align": "left"
          },
          "hovermode": "closest",
          "mapbox": {
           "style": "light"
          },
          "paper_bgcolor": "white",
          "plot_bgcolor": "#E5ECF6",
          "polar": {
           "angularaxis": {
            "gridcolor": "white",
            "linecolor": "white",
            "ticks": ""
           },
           "bgcolor": "#E5ECF6",
           "radialaxis": {
            "gridcolor": "white",
            "linecolor": "white",
            "ticks": ""
           }
          },
          "scene": {
           "xaxis": {
            "backgroundcolor": "#E5ECF6",
            "gridcolor": "white",
            "gridwidth": 2,
            "linecolor": "white",
            "showbackground": true,
            "ticks": "",
            "zerolinecolor": "white"
           },
           "yaxis": {
            "backgroundcolor": "#E5ECF6",
            "gridcolor": "white",
            "gridwidth": 2,
            "linecolor": "white",
            "showbackground": true,
            "ticks": "",
            "zerolinecolor": "white"
           },
           "zaxis": {
            "backgroundcolor": "#E5ECF6",
            "gridcolor": "white",
            "gridwidth": 2,
            "linecolor": "white",
            "showbackground": true,
            "ticks": "",
            "zerolinecolor": "white"
           }
          },
          "shapedefaults": {
           "line": {
            "color": "#2a3f5f"
           }
          },
          "ternary": {
           "aaxis": {
            "gridcolor": "white",
            "linecolor": "white",
            "ticks": ""
           },
           "baxis": {
            "gridcolor": "white",
            "linecolor": "white",
            "ticks": ""
           },
           "bgcolor": "#E5ECF6",
           "caxis": {
            "gridcolor": "white",
            "linecolor": "white",
            "ticks": ""
           }
          },
          "title": {
           "x": 0.05
          },
          "xaxis": {
           "automargin": true,
           "gridcolor": "white",
           "linecolor": "white",
           "ticks": "",
           "title": {
            "standoff": 15
           },
           "zerolinecolor": "white",
           "zerolinewidth": 2
          },
          "yaxis": {
           "automargin": true,
           "gridcolor": "white",
           "linecolor": "white",
           "ticks": "",
           "title": {
            "standoff": 15
           },
           "zerolinecolor": "white",
           "zerolinewidth": 2
          }
         }
        },
        "title": {
         "text": "Comparison of communities of interactions with Good and Bad Dozen (Top 3)"
        },
        "xaxis": {
         "anchor": "y",
         "domain": [
          0,
          1
         ],
         "title": {
          "text": "Community"
         },
         "type": "category"
        },
        "yaxis": {
         "anchor": "x",
         "domain": [
          0,
          1
         ],
         "title": {
          "text": "Value"
         }
        }
       }
      },
      "text/html": [
       "<div>                            <div id=\"7be42848-2390-409d-9938-4fe95875ee93\" class=\"plotly-graph-div\" style=\"height:525px; width:100%;\"></div>            <script type=\"text/javascript\">                require([\"plotly\"], function(Plotly) {                    window.PLOTLYENV=window.PLOTLYENV || {};                                    if (document.getElementById(\"7be42848-2390-409d-9938-4fe95875ee93\")) {                    Plotly.newPlot(                        \"7be42848-2390-409d-9938-4fe95875ee93\",                        [{\"alignmentgroup\": \"True\", \"hovertemplate\": \"Dozen=Good<br>Community=%{x}<br>Value=%{y}<extra></extra>\", \"legendgroup\": \"Good\", \"marker\": {\"color\": \"#636efa\"}, \"name\": \"Good\", \"offsetgroup\": \"Good\", \"orientation\": \"v\", \"showlegend\": true, \"textposition\": \"auto\", \"type\": \"bar\", \"x\": [1, 2, 10], \"xaxis\": \"x\", \"y\": [24427, 8240, 2088], \"yaxis\": \"y\"}, {\"alignmentgroup\": \"True\", \"hovertemplate\": \"Dozen=Bad<br>Community=%{x}<br>Value=%{y}<extra></extra>\", \"legendgroup\": \"Bad\", \"marker\": {\"color\": \"#EF553B\"}, \"name\": \"Bad\", \"offsetgroup\": \"Bad\", \"orientation\": \"v\", \"showlegend\": true, \"textposition\": \"auto\", \"type\": \"bar\", \"x\": [2, 1, 10], \"xaxis\": \"x\", \"y\": [48402, 7156, 3735], \"yaxis\": \"y\"}],                        {\"barmode\": \"group\", \"legend\": {\"title\": {\"text\": \"Dozen\"}, \"tracegroupgap\": 0}, \"template\": {\"data\": {\"bar\": [{\"error_x\": {\"color\": \"#2a3f5f\"}, \"error_y\": {\"color\": \"#2a3f5f\"}, \"marker\": {\"line\": {\"color\": \"#E5ECF6\", \"width\": 0.5}}, \"type\": \"bar\"}], \"barpolar\": [{\"marker\": {\"line\": {\"color\": \"#E5ECF6\", \"width\": 0.5}}, \"type\": \"barpolar\"}], \"carpet\": [{\"aaxis\": {\"endlinecolor\": \"#2a3f5f\", \"gridcolor\": \"white\", \"linecolor\": \"white\", \"minorgridcolor\": \"white\", \"startlinecolor\": \"#2a3f5f\"}, \"baxis\": {\"endlinecolor\": \"#2a3f5f\", \"gridcolor\": \"white\", \"linecolor\": \"white\", \"minorgridcolor\": \"white\", \"startlinecolor\": \"#2a3f5f\"}, \"type\": \"carpet\"}], \"choropleth\": [{\"colorbar\": {\"outlinewidth\": 0, \"ticks\": \"\"}, \"type\": \"choropleth\"}], \"contour\": [{\"colorbar\": {\"outlinewidth\": 0, \"ticks\": \"\"}, \"colorscale\": [[0.0, \"#0d0887\"], [0.1111111111111111, \"#46039f\"], [0.2222222222222222, \"#7201a8\"], [0.3333333333333333, \"#9c179e\"], [0.4444444444444444, \"#bd3786\"], [0.5555555555555556, \"#d8576b\"], [0.6666666666666666, \"#ed7953\"], [0.7777777777777778, \"#fb9f3a\"], [0.8888888888888888, \"#fdca26\"], [1.0, \"#f0f921\"]], \"type\": \"contour\"}], \"contourcarpet\": [{\"colorbar\": {\"outlinewidth\": 0, \"ticks\": \"\"}, \"type\": \"contourcarpet\"}], \"heatmap\": [{\"colorbar\": {\"outlinewidth\": 0, \"ticks\": \"\"}, \"colorscale\": [[0.0, \"#0d0887\"], [0.1111111111111111, \"#46039f\"], [0.2222222222222222, \"#7201a8\"], [0.3333333333333333, \"#9c179e\"], [0.4444444444444444, \"#bd3786\"], [0.5555555555555556, \"#d8576b\"], [0.6666666666666666, \"#ed7953\"], [0.7777777777777778, \"#fb9f3a\"], [0.8888888888888888, \"#fdca26\"], [1.0, \"#f0f921\"]], \"type\": \"heatmap\"}], \"heatmapgl\": [{\"colorbar\": {\"outlinewidth\": 0, \"ticks\": \"\"}, \"colorscale\": [[0.0, \"#0d0887\"], [0.1111111111111111, \"#46039f\"], [0.2222222222222222, \"#7201a8\"], [0.3333333333333333, \"#9c179e\"], [0.4444444444444444, \"#bd3786\"], [0.5555555555555556, \"#d8576b\"], [0.6666666666666666, \"#ed7953\"], [0.7777777777777778, \"#fb9f3a\"], [0.8888888888888888, \"#fdca26\"], [1.0, \"#f0f921\"]], \"type\": \"heatmapgl\"}], \"histogram\": [{\"marker\": {\"colorbar\": {\"outlinewidth\": 0, \"ticks\": \"\"}}, \"type\": \"histogram\"}], \"histogram2d\": [{\"colorbar\": {\"outlinewidth\": 0, \"ticks\": \"\"}, \"colorscale\": [[0.0, \"#0d0887\"], [0.1111111111111111, \"#46039f\"], [0.2222222222222222, \"#7201a8\"], [0.3333333333333333, \"#9c179e\"], [0.4444444444444444, \"#bd3786\"], [0.5555555555555556, \"#d8576b\"], [0.6666666666666666, \"#ed7953\"], [0.7777777777777778, \"#fb9f3a\"], [0.8888888888888888, \"#fdca26\"], [1.0, \"#f0f921\"]], \"type\": \"histogram2d\"}], \"histogram2dcontour\": [{\"colorbar\": {\"outlinewidth\": 0, \"ticks\": \"\"}, \"colorscale\": [[0.0, \"#0d0887\"], [0.1111111111111111, \"#46039f\"], [0.2222222222222222, \"#7201a8\"], [0.3333333333333333, \"#9c179e\"], [0.4444444444444444, \"#bd3786\"], [0.5555555555555556, \"#d8576b\"], [0.6666666666666666, \"#ed7953\"], [0.7777777777777778, \"#fb9f3a\"], [0.8888888888888888, \"#fdca26\"], [1.0, \"#f0f921\"]], \"type\": \"histogram2dcontour\"}], \"mesh3d\": [{\"colorbar\": {\"outlinewidth\": 0, \"ticks\": \"\"}, \"type\": \"mesh3d\"}], \"parcoords\": [{\"line\": {\"colorbar\": {\"outlinewidth\": 0, \"ticks\": \"\"}}, \"type\": \"parcoords\"}], \"pie\": [{\"automargin\": true, \"type\": \"pie\"}], \"scatter\": [{\"marker\": {\"colorbar\": {\"outlinewidth\": 0, \"ticks\": \"\"}}, \"type\": \"scatter\"}], \"scatter3d\": [{\"line\": {\"colorbar\": {\"outlinewidth\": 0, \"ticks\": \"\"}}, \"marker\": {\"colorbar\": {\"outlinewidth\": 0, \"ticks\": \"\"}}, \"type\": \"scatter3d\"}], \"scattercarpet\": [{\"marker\": {\"colorbar\": {\"outlinewidth\": 0, \"ticks\": \"\"}}, \"type\": \"scattercarpet\"}], \"scattergeo\": [{\"marker\": {\"colorbar\": {\"outlinewidth\": 0, \"ticks\": \"\"}}, \"type\": \"scattergeo\"}], \"scattergl\": [{\"marker\": {\"colorbar\": {\"outlinewidth\": 0, \"ticks\": \"\"}}, \"type\": \"scattergl\"}], \"scattermapbox\": [{\"marker\": {\"colorbar\": {\"outlinewidth\": 0, \"ticks\": \"\"}}, \"type\": \"scattermapbox\"}], \"scatterpolar\": [{\"marker\": {\"colorbar\": {\"outlinewidth\": 0, \"ticks\": \"\"}}, \"type\": \"scatterpolar\"}], \"scatterpolargl\": [{\"marker\": {\"colorbar\": {\"outlinewidth\": 0, \"ticks\": \"\"}}, \"type\": \"scatterpolargl\"}], \"scatterternary\": [{\"marker\": {\"colorbar\": {\"outlinewidth\": 0, \"ticks\": \"\"}}, \"type\": \"scatterternary\"}], \"surface\": [{\"colorbar\": {\"outlinewidth\": 0, \"ticks\": \"\"}, \"colorscale\": [[0.0, \"#0d0887\"], [0.1111111111111111, \"#46039f\"], [0.2222222222222222, \"#7201a8\"], [0.3333333333333333, \"#9c179e\"], [0.4444444444444444, \"#bd3786\"], [0.5555555555555556, \"#d8576b\"], [0.6666666666666666, \"#ed7953\"], [0.7777777777777778, \"#fb9f3a\"], [0.8888888888888888, \"#fdca26\"], [1.0, \"#f0f921\"]], \"type\": \"surface\"}], \"table\": [{\"cells\": {\"fill\": {\"color\": \"#EBF0F8\"}, \"line\": {\"color\": \"white\"}}, \"header\": {\"fill\": {\"color\": \"#C8D4E3\"}, \"line\": {\"color\": \"white\"}}, \"type\": \"table\"}]}, \"layout\": {\"annotationdefaults\": {\"arrowcolor\": \"#2a3f5f\", \"arrowhead\": 0, \"arrowwidth\": 1}, \"coloraxis\": {\"colorbar\": {\"outlinewidth\": 0, \"ticks\": \"\"}}, \"colorscale\": {\"diverging\": [[0, \"#8e0152\"], [0.1, \"#c51b7d\"], [0.2, \"#de77ae\"], [0.3, \"#f1b6da\"], [0.4, \"#fde0ef\"], [0.5, \"#f7f7f7\"], [0.6, \"#e6f5d0\"], [0.7, \"#b8e186\"], [0.8, \"#7fbc41\"], [0.9, \"#4d9221\"], [1, \"#276419\"]], \"sequential\": [[0.0, \"#0d0887\"], [0.1111111111111111, \"#46039f\"], [0.2222222222222222, \"#7201a8\"], [0.3333333333333333, \"#9c179e\"], [0.4444444444444444, \"#bd3786\"], [0.5555555555555556, \"#d8576b\"], [0.6666666666666666, \"#ed7953\"], [0.7777777777777778, \"#fb9f3a\"], [0.8888888888888888, \"#fdca26\"], [1.0, \"#f0f921\"]], \"sequentialminus\": [[0.0, \"#0d0887\"], [0.1111111111111111, \"#46039f\"], [0.2222222222222222, \"#7201a8\"], [0.3333333333333333, \"#9c179e\"], [0.4444444444444444, \"#bd3786\"], [0.5555555555555556, \"#d8576b\"], [0.6666666666666666, \"#ed7953\"], [0.7777777777777778, \"#fb9f3a\"], [0.8888888888888888, \"#fdca26\"], [1.0, \"#f0f921\"]]}, \"colorway\": [\"#636efa\", \"#EF553B\", \"#00cc96\", \"#ab63fa\", \"#FFA15A\", \"#19d3f3\", \"#FF6692\", \"#B6E880\", \"#FF97FF\", \"#FECB52\"], \"font\": {\"color\": \"#2a3f5f\"}, \"geo\": {\"bgcolor\": \"white\", \"lakecolor\": \"white\", \"landcolor\": \"#E5ECF6\", \"showlakes\": true, \"showland\": true, \"subunitcolor\": \"white\"}, \"hoverlabel\": {\"align\": \"left\"}, \"hovermode\": \"closest\", \"mapbox\": {\"style\": \"light\"}, \"paper_bgcolor\": \"white\", \"plot_bgcolor\": \"#E5ECF6\", \"polar\": {\"angularaxis\": {\"gridcolor\": \"white\", \"linecolor\": \"white\", \"ticks\": \"\"}, \"bgcolor\": \"#E5ECF6\", \"radialaxis\": {\"gridcolor\": \"white\", \"linecolor\": \"white\", \"ticks\": \"\"}}, \"scene\": {\"xaxis\": {\"backgroundcolor\": \"#E5ECF6\", \"gridcolor\": \"white\", \"gridwidth\": 2, \"linecolor\": \"white\", \"showbackground\": true, \"ticks\": \"\", \"zerolinecolor\": \"white\"}, \"yaxis\": {\"backgroundcolor\": \"#E5ECF6\", \"gridcolor\": \"white\", \"gridwidth\": 2, \"linecolor\": \"white\", \"showbackground\": true, \"ticks\": \"\", \"zerolinecolor\": \"white\"}, \"zaxis\": {\"backgroundcolor\": \"#E5ECF6\", \"gridcolor\": \"white\", \"gridwidth\": 2, \"linecolor\": \"white\", \"showbackground\": true, \"ticks\": \"\", \"zerolinecolor\": \"white\"}}, \"shapedefaults\": {\"line\": {\"color\": \"#2a3f5f\"}}, \"ternary\": {\"aaxis\": {\"gridcolor\": \"white\", \"linecolor\": \"white\", \"ticks\": \"\"}, \"baxis\": {\"gridcolor\": \"white\", \"linecolor\": \"white\", \"ticks\": \"\"}, \"bgcolor\": \"#E5ECF6\", \"caxis\": {\"gridcolor\": \"white\", \"linecolor\": \"white\", \"ticks\": \"\"}}, \"title\": {\"x\": 0.05}, \"xaxis\": {\"automargin\": true, \"gridcolor\": \"white\", \"linecolor\": \"white\", \"ticks\": \"\", \"title\": {\"standoff\": 15}, \"zerolinecolor\": \"white\", \"zerolinewidth\": 2}, \"yaxis\": {\"automargin\": true, \"gridcolor\": \"white\", \"linecolor\": \"white\", \"ticks\": \"\", \"title\": {\"standoff\": 15}, \"zerolinecolor\": \"white\", \"zerolinewidth\": 2}}}, \"title\": {\"text\": \"Comparison of communities of interactions with Good and Bad Dozen (Top 3)\"}, \"xaxis\": {\"anchor\": \"y\", \"domain\": [0.0, 1.0], \"title\": {\"text\": \"Community\"}, \"type\": \"category\"}, \"yaxis\": {\"anchor\": \"x\", \"domain\": [0.0, 1.0], \"title\": {\"text\": \"Value\"}}},                        {\"responsive\": true}                    ).then(function(){\n",
       "                            \n",
       "var gd = document.getElementById('7be42848-2390-409d-9938-4fe95875ee93');\n",
       "var x = new MutationObserver(function (mutations, observer) {{\n",
       "        var display = window.getComputedStyle(gd).display;\n",
       "        if (!display || display === 'none') {{\n",
       "            console.log([gd, 'removed!']);\n",
       "            Plotly.purge(gd);\n",
       "            observer.disconnect();\n",
       "        }}\n",
       "}});\n",
       "\n",
       "// Listen for the removal of the full notebook cells\n",
       "var notebookContainer = gd.closest('#notebook-container');\n",
       "if (notebookContainer) {{\n",
       "    x.observe(notebookContainer, {childList: true});\n",
       "}}\n",
       "\n",
       "// Listen for the clearing of the current output cell\n",
       "var outputEl = gd.closest('.output');\n",
       "if (outputEl) {{\n",
       "    x.observe(outputEl, {childList: true});\n",
       "}}\n",
       "\n",
       "                        })                };                });            </script>        </div>"
      ]
     },
     "metadata": {},
     "output_type": "display_data"
    }
   ],
   "source": [
    "fig = px.bar(df_plot, x=\"Community\", y=\"Value\", color=\"Dozen\", barmode='group', title=\"Comparison of communities of interactions with Good and Bad Dozen (Top 3)\")\n",
    "fig.update_xaxes(type='category')\n",
    "fig.show()"
   ]
  },
  {
   "cell_type": "markdown",
   "metadata": {},
   "source": [
    "### Disinform Dozen and community\n",
    "<a id=\"dozen_comm\"/>"
   ]
  },
  {
   "cell_type": "code",
   "execution_count": 20,
   "metadata": {},
   "outputs": [
    {
     "name": "stdout",
     "output_type": "stream",
     "text": [
      "Name: unhealthytruth, Community: 2\n",
      "Name: BusyDrT, Community: 2\n",
      "Name: RobertKennedyJr, Community: 2\n",
      "Name: mercola, Community: 2\n",
      "Name: kevdjenkins1, Community: 2\n",
      "Name: DrChrisNorthrup, Community: 2\n",
      "Name: DrButtar, Community: 2\n"
     ]
    }
   ],
   "source": [
    "for i in louvain:\n",
    "    if i in list(disinform[\"screen_name\"]):\n",
    "        print(f\"Name: {i}, Community: {louvain.get(i)}\")"
   ]
  },
  {
   "cell_type": "markdown",
   "metadata": {},
   "source": [
    "### Good Dozen and community\n",
    "<a id=\"good_comm\"/>\n"
   ]
  },
  {
   "cell_type": "code",
   "execution_count": 68,
   "metadata": {
    "scrolled": true
   },
   "outputs": [
    {
     "name": "stdout",
     "output_type": "stream",
     "text": [
      "Name: trvrb, Community: 2\n",
      "Name: CDCDirector, Community: 2\n",
      "Name: MackayIM, Community: 2\n",
      "Name: DrTedros, Community: 19\n",
      "Name: IlonaKickbusch, Community: 2\n",
      "Name: DrEricDing, Community: 2\n",
      "Name: kakape, Community: 2\n",
      "Name: DrDenaGrayson, Community: 1\n",
      "Name: ashishkjha, Community: 1\n",
      "Name: mlipsitch, Community: 2\n",
      "Name: edyong209, Community: 1\n",
      "Name: HelenBranswell, Community: 1\n"
     ]
    }
   ],
   "source": [
    "for i in louvain:\n",
    "    if i in list(good_dozen[\"screen_name\"]):\n",
    "        print(f\"Name: {i}, Community: {louvain.get(i)}\")"
   ]
  },
  {
   "cell_type": "markdown",
   "metadata": {},
   "source": [
    "### Top communities\n",
    "<a id=\"top_comm\"/>"
   ]
  },
  {
   "cell_type": "code",
   "execution_count": 11,
   "metadata": {},
   "outputs": [
    {
     "data": {
      "text/plain": [
       "5     1687953\n",
       "0     1516564\n",
       "1     1142470\n",
       "2     1036651\n",
       "11     725867\n",
       "10     703335\n",
       "6      685690\n",
       "14     612418\n",
       "19     607295\n",
       "9      585305\n",
       "dtype: int64"
      ]
     },
     "execution_count": 11,
     "metadata": {},
     "output_type": "execute_result"
    }
   ],
   "source": [
    "val[:10]"
   ]
  },
  {
   "cell_type": "code",
   "execution_count": 4,
   "metadata": {},
   "outputs": [],
   "source": [
    "communities = []\n",
    "for i in louvain:\n",
    "    communities.append(louvain.get(i))\n",
    "val = pd.Series(communities).value_counts().sort_values(ascending=False)"
   ]
  },
  {
   "cell_type": "code",
   "execution_count": 9,
   "metadata": {},
   "outputs": [
    {
     "name": "stdout",
     "output_type": "stream",
     "text": [
      "Le prime 10 community contengono il 74.35% degli utenti su 325073 communities\n"
     ]
    }
   ],
   "source": [
    "total = 0\n",
    "total2 = 0\n",
    "for i in val[:10]:\n",
    "    total = total + i\n",
    "print(f\"Le prime 10 community contengono il {round(total/len(louvain)*100,2)}% degli utenti su {len(pd.Series(communities).unique())} communities\")"
   ]
  },
  {
   "cell_type": "code",
   "execution_count": 7,
   "metadata": {},
   "outputs": [
    {
     "data": {
      "image/png": "[encoded data removed]",
      "text/plain": [
       "<Figure size 432x288 with 1 Axes>"
      ]
     },
     "metadata": {
      "needs_background": "light"
     },
     "output_type": "display_data"
    }
   ],
   "source": [
    "fig = plt.figure() #figsize=(14, 8)\n",
    "ax = val[:10].plot(kind='barh', color='plum', fig=(14,14)) #orange #lightseagreen\n",
    "ax.set_title('Number of nodes per community (top 10)', fontsize=15)\n",
    "ax.invert_yaxis()\n",
    "ax.set_ylabel(\"Community number\")\n",
    "ax.set_xlabel(\"Number of Nodes\")\n",
    "\n",
    "plt.show()"
   ]
  },
  {
   "cell_type": "markdown",
   "metadata": {},
   "source": [
    "<p>\n",
    "    \n",
    "    5) Utenti comuni, non ci sono testate / influencer / politici / giornalisti\n",
    "    0) Tutto ciò che riguarda le notizie in spagnolo (Sudamerica e Spagna)\n",
    "    1) Politici americani / Giornalisti con posizione tendenzialmente di sinistra / Testate giornalistiche\n",
    "        - DrDenaGrayson (run for congress)\n",
    "        - ashishkjha (medico)\n",
    "        - edyong209 (writer at The Atlantic)\n",
    "        - HelenBranswell (writer)\n",
    "    2) News meno politiche, più concentrato sulle notizie (maggiori testate al mondo come CNN international,\n",
    "       BBC world, Time ecc)\n",
    "        - unhealthytruth\n",
    "        - BusyDrT\n",
    "        - RobertKennedyJr\n",
    "        - mercola\n",
    "        - kevdjenkins1\n",
    "        - DrChrisNorthrup\n",
    "        - DrButtar\n",
    "        - trvrb\n",
    "        - CDCDirector\n",
    "        - MackayIM\n",
    "        - IlonaKickbusch\n",
    "        - DrEricDing\n",
    "        - kakape\n",
    "        - mlipsitch\n",
    "    11) Gappione (yoshiko_sead, georgebest1969, CalbeeKappaCP)\n",
    "    10) Uk (SkyNewsBreak, NicolaSturgeon -> primo ministro scozzese, carolecadwalla -> giornalista)\n",
    "    6) India (narendramodi -> primo ministro indiano, ANI, NorbertElekes)\n",
    "    14) Korea / Thailandia\n",
    "    19) Good info (United Nations, WHO, medici)\n",
    "    \n",
    "</p>"
   ]
  },
  {
   "cell_type": "markdown",
   "metadata": {},
   "source": [
    "### Community degrees\n",
    "<a id=\"degrees_comm\"/>"
   ]
  },
  {
   "cell_type": "code",
   "execution_count": 28,
   "metadata": {
    "scrolled": false
   },
   "outputs": [
    {
     "name": "stdout",
     "output_type": "stream",
     "text": [
      "In degree: \n",
      "good: ['DrDenaGrayson', 32737]\n",
      "good: ['DrTedros', 26854]\n",
      "good: ['DrEricDing', 23985]\n",
      "good: ['trvrb', 5936]\n",
      "good: ['MackayIM', 4291]\n",
      "good: ['kakape', 3419]\n",
      "good: ['edyong209', 2810]\n",
      "good: ['CDCDirector', 2705]\n",
      "good: ['mlipsitch', 1885]\n",
      "disinform: ['BusyDrT', 1274]\n",
      "good: ['HelenBranswell', 1018]\n",
      "good: ['ashishkjha', 637]\n",
      "disinform: ['RobertKennedyJr', 579]\n",
      "----------------------\n",
      "Out degree: \n",
      "good: ['IlonaKickbusch', 233]\n",
      "good: ['MackayIM', 171]\n"
     ]
    }
   ],
   "source": [
    "print(\"In degree: \")\n",
    "for i in in_degree[:10000]:\n",
    "    if i[0] in list(good_dozen[\"screen_name\"]):\n",
    "        print(f\"good: {i}\")\n",
    "    if i[0] in list(disinform[\"screen_name\"]):\n",
    "        print(f\"disinform: {i}\")\n",
    "print(\"----------------------\")\n",
    "print(\"Out degree: \")\n",
    "for i in out_degree[:10000]:\n",
    "    if i[0] in list(good_dozen[\"screen_name\"]):\n",
    "        print(f\"good: {i}\")\n",
    "    if i[0] in list(disinform[\"screen_name\"]):\n",
    "        print(f\"disinform: {i}\")"
   ]
  },
  {
   "cell_type": "markdown",
   "metadata": {},
   "source": [
    "### Write communities"
   ]
  },
  {
   "cell_type": "code",
   "execution_count": 36,
   "metadata": {},
   "outputs": [
    {
     "name": "stdout",
     "output_type": "stream",
     "text": [
      "C:/Users/Gianluca/Desktop/Supsi/Git/BachelorProject/network/_5\n",
      "C:/Users/Gianluca/Desktop/Supsi/Git/BachelorProject/network/_0\n",
      "C:/Users/Gianluca/Desktop/Supsi/Git/BachelorProject/network/_1\n",
      "C:/Users/Gianluca/Desktop/Supsi/Git/BachelorProject/network/_2\n",
      "C:/Users/Gianluca/Desktop/Supsi/Git/BachelorProject/network/_19\n"
     ]
    }
   ],
   "source": [
    "filename = glob.glob(\"C:/Users/Gianluca/Desktop/Supsi/Git/BachelorProject/network/\")\n",
    "list_comm = [5,1,2,19]\n",
    "for i in range(len(list_comm)):\n",
    "    comm = []\n",
    "    for j in louvain:\n",
    "        if(louvain.get(j) == i):\n",
    "            comm.append(j)\n",
    "    df = pd.DataFrame(comm, columns = [\"name\"])\n",
    "    df.to_csv(f'{filename[0]}_{list_comm[i]}.csv', index=False)\n",
    "    print(f'{filename[0]}_{list_comm[i]}')"
   ]
  },
  {
   "cell_type": "code",
   "execution_count": 27,
   "metadata": {},
   "outputs": [],
   "source": [
    "comm = []\n",
    "filename = glob.glob(\"C:/Users/gianl/Desktop/Gi/Supsi/BachelorProject/network/\")\n",
    "\n",
    "for i in louvain:\n",
    "    if(louvain.get(i) == 1):\n",
    "        comm.append(i)\n",
    "df = pd.DataFrame(comm, columns = [\"name\"])\n",
    "# df.to_csv(filename[0] + 'prova_19.csv', index=False, encoding=\"utf-8\", line_terminator=\"\\n\")"
   ]
  },
  {
   "cell_type": "code",
   "execution_count": 29,
   "metadata": {},
   "outputs": [
    {
     "data": {
      "text/html": [
       "<div>\n",
       "<style scoped>\n",
       "    .dataframe tbody tr th:only-of-type {\n",
       "        vertical-align: middle;\n",
       "    }\n",
       "\n",
       "    .dataframe tbody tr th {\n",
       "        vertical-align: top;\n",
       "    }\n",
       "\n",
       "    .dataframe thead th {\n",
       "        text-align: right;\n",
       "    }\n",
       "</style>\n",
       "<table border=\"1\" class=\"dataframe\">\n",
       "  <thead>\n",
       "    <tr style=\"text-align: right;\">\n",
       "      <th></th>\n",
       "      <th>name</th>\n",
       "    </tr>\n",
       "  </thead>\n",
       "  <tbody>\n",
       "    <tr>\n",
       "      <th>0</th>\n",
       "      <td>AnneKPIX</td>\n",
       "    </tr>\n",
       "    <tr>\n",
       "      <th>1</th>\n",
       "      <td>Paxman42</td>\n",
       "    </tr>\n",
       "    <tr>\n",
       "      <th>2</th>\n",
       "      <td>OurWarOnCancer</td>\n",
       "    </tr>\n",
       "    <tr>\n",
       "      <th>3</th>\n",
       "      <td>nytimes</td>\n",
       "    </tr>\n",
       "    <tr>\n",
       "      <th>4</th>\n",
       "      <td>buysell55555</td>\n",
       "    </tr>\n",
       "    <tr>\n",
       "      <th>...</th>\n",
       "      <td>...</td>\n",
       "    </tr>\n",
       "    <tr>\n",
       "      <th>1142465</th>\n",
       "      <td>erinaroo</td>\n",
       "    </tr>\n",
       "    <tr>\n",
       "      <th>1142466</th>\n",
       "      <td>LaCoutour</td>\n",
       "    </tr>\n",
       "    <tr>\n",
       "      <th>1142467</th>\n",
       "      <td>GenomeMed</td>\n",
       "    </tr>\n",
       "    <tr>\n",
       "      <th>1142468</th>\n",
       "      <td>megannnbeck</td>\n",
       "    </tr>\n",
       "    <tr>\n",
       "      <th>1142469</th>\n",
       "      <td>sharkfin71</td>\n",
       "    </tr>\n",
       "  </tbody>\n",
       "</table>\n",
       "<p>1142470 rows × 1 columns</p>\n",
       "</div>"
      ],
      "text/plain": [
       "                   name\n",
       "0              AnneKPIX\n",
       "1              Paxman42\n",
       "2        OurWarOnCancer\n",
       "3               nytimes\n",
       "4          buysell55555\n",
       "...                 ...\n",
       "1142465        erinaroo\n",
       "1142466       LaCoutour\n",
       "1142467       GenomeMed\n",
       "1142468     megannnbeck\n",
       "1142469      sharkfin71\n",
       "\n",
       "[1142470 rows x 1 columns]"
      ]
     },
     "execution_count": 29,
     "metadata": {},
     "output_type": "execute_result"
    }
   ],
   "source": [
    "df"
   ]
  },
  {
   "cell_type": "code",
   "execution_count": 39,
   "metadata": {},
   "outputs": [],
   "source": [
    "prova_nt_1 = pd.read_csv(filename[0] + \"prova_nt_1.csv\")\n",
    "rt_user = pd.read_csv(filename[0] + \"user_rtuser.csv\")"
   ]
  },
  {
   "cell_type": "code",
   "execution_count": 40,
   "metadata": {},
   "outputs": [
    {
     "data": {
      "text/html": [
       "<div>\n",
       "<style scoped>\n",
       "    .dataframe tbody tr th:only-of-type {\n",
       "        vertical-align: middle;\n",
       "    }\n",
       "\n",
       "    .dataframe tbody tr th {\n",
       "        vertical-align: top;\n",
       "    }\n",
       "\n",
       "    .dataframe thead th {\n",
       "        text-align: right;\n",
       "    }\n",
       "</style>\n",
       "<table border=\"1\" class=\"dataframe\">\n",
       "  <thead>\n",
       "    <tr style=\"text-align: right;\">\n",
       "      <th></th>\n",
       "      <th>name</th>\n",
       "      <th>rt_name</th>\n",
       "    </tr>\n",
       "  </thead>\n",
       "  <tbody>\n",
       "    <tr>\n",
       "      <th>0</th>\n",
       "      <td>Huerconetzin</td>\n",
       "      <td>AnneKPIX</td>\n",
       "    </tr>\n",
       "    <tr>\n",
       "      <th>1</th>\n",
       "      <td>JustAnotherAme4</td>\n",
       "      <td>cnni</td>\n",
       "    </tr>\n",
       "    <tr>\n",
       "      <th>2</th>\n",
       "      <td>HHSRegion8</td>\n",
       "      <td>CDCgov</td>\n",
       "    </tr>\n",
       "    <tr>\n",
       "      <th>3</th>\n",
       "      <td>Paxman42</td>\n",
       "      <td>OurWarOnCancer</td>\n",
       "    </tr>\n",
       "    <tr>\n",
       "      <th>4</th>\n",
       "      <td>beerhowell</td>\n",
       "      <td>nytimes</td>\n",
       "    </tr>\n",
       "    <tr>\n",
       "      <th>...</th>\n",
       "      <td>...</td>\n",
       "      <td>...</td>\n",
       "    </tr>\n",
       "    <tr>\n",
       "      <th>48312499</th>\n",
       "      <td>Dinora21971394</td>\n",
       "      <td>saludhn</td>\n",
       "    </tr>\n",
       "    <tr>\n",
       "      <th>48312500</th>\n",
       "      <td>EllyJonkerVliet</td>\n",
       "      <td>StopEcocideNL</td>\n",
       "    </tr>\n",
       "    <tr>\n",
       "      <th>48312501</th>\n",
       "      <td>anna76746180</td>\n",
       "      <td>Haggis_UK</td>\n",
       "    </tr>\n",
       "    <tr>\n",
       "      <th>48312502</th>\n",
       "      <td>SueHealy16</td>\n",
       "      <td>Auchindrain</td>\n",
       "    </tr>\n",
       "    <tr>\n",
       "      <th>48312503</th>\n",
       "      <td>inquisitor111</td>\n",
       "      <td>StagecoachBBird</td>\n",
       "    </tr>\n",
       "  </tbody>\n",
       "</table>\n",
       "<p>48312504 rows × 2 columns</p>\n",
       "</div>"
      ],
      "text/plain": [
       "                     name          rt_name\n",
       "0            Huerconetzin         AnneKPIX\n",
       "1         JustAnotherAme4             cnni\n",
       "2              HHSRegion8           CDCgov\n",
       "3                Paxman42   OurWarOnCancer\n",
       "4              beerhowell          nytimes\n",
       "...                   ...              ...\n",
       "48312499   Dinora21971394          saludhn\n",
       "48312500  EllyJonkerVliet    StopEcocideNL\n",
       "48312501     anna76746180        Haggis_UK\n",
       "48312502       SueHealy16      Auchindrain\n",
       "48312503    inquisitor111  StagecoachBBird\n",
       "\n",
       "[48312504 rows x 2 columns]"
      ]
     },
     "execution_count": 40,
     "metadata": {},
     "output_type": "execute_result"
    }
   ],
   "source": [
    "rt_user"
   ]
  },
  {
   "cell_type": "code",
   "execution_count": 38,
   "metadata": {},
   "outputs": [
    {
     "name": "stdout",
     "output_type": "stream",
     "text": [
      "f\n"
     ]
    }
   ],
   "source": [
    "for x in prova_nt_1[\"rt_name\"]:\n",
    "    if x == \"mercola\":\n",
    "        print(\"f\")\n",
    "        break"
   ]
  },
  {
   "cell_type": "code",
   "execution_count": 34,
   "metadata": {},
   "outputs": [
    {
     "data": {
      "text/html": [
       "<div>\n",
       "<style scoped>\n",
       "    .dataframe tbody tr th:only-of-type {\n",
       "        vertical-align: middle;\n",
       "    }\n",
       "\n",
       "    .dataframe tbody tr th {\n",
       "        vertical-align: top;\n",
       "    }\n",
       "\n",
       "    .dataframe thead th {\n",
       "        text-align: right;\n",
       "    }\n",
       "</style>\n",
       "<table border=\"1\" class=\"dataframe\">\n",
       "  <thead>\n",
       "    <tr style=\"text-align: right;\">\n",
       "      <th></th>\n",
       "      <th>name</th>\n",
       "      <th>rt_name</th>\n",
       "    </tr>\n",
       "  </thead>\n",
       "  <tbody>\n",
       "    <tr>\n",
       "      <th>0</th>\n",
       "      <td>Huerconetzin</td>\n",
       "      <td>AnneKPIX</td>\n",
       "    </tr>\n",
       "    <tr>\n",
       "      <th>1</th>\n",
       "      <td>Paxman42</td>\n",
       "      <td>OurWarOnCancer</td>\n",
       "    </tr>\n",
       "    <tr>\n",
       "      <th>2</th>\n",
       "      <td>beerhowell</td>\n",
       "      <td>nytimes</td>\n",
       "    </tr>\n",
       "    <tr>\n",
       "      <th>3</th>\n",
       "      <td>buysell55555</td>\n",
       "      <td>MerlinofCanada</td>\n",
       "    </tr>\n",
       "    <tr>\n",
       "      <th>4</th>\n",
       "      <td>kbplitt</td>\n",
       "      <td>cnnbrk</td>\n",
       "    </tr>\n",
       "    <tr>\n",
       "      <th>...</th>\n",
       "      <td>...</td>\n",
       "      <td>...</td>\n",
       "    </tr>\n",
       "    <tr>\n",
       "      <th>10291344</th>\n",
       "      <td>athenamarks27</td>\n",
       "      <td>StavrosZenios</td>\n",
       "    </tr>\n",
       "    <tr>\n",
       "      <th>10291345</th>\n",
       "      <td>someleftyfucker</td>\n",
       "      <td>HayesBrown</td>\n",
       "    </tr>\n",
       "    <tr>\n",
       "      <th>10291346</th>\n",
       "      <td>wordbrd</td>\n",
       "      <td>TaraLOGrady</td>\n",
       "    </tr>\n",
       "    <tr>\n",
       "      <th>10291347</th>\n",
       "      <td>ashsantacruz</td>\n",
       "      <td>anders_aslund</td>\n",
       "    </tr>\n",
       "    <tr>\n",
       "      <th>10291348</th>\n",
       "      <td>chazzbot</td>\n",
       "      <td>FrankConniff</td>\n",
       "    </tr>\n",
       "  </tbody>\n",
       "</table>\n",
       "<p>10291349 rows × 2 columns</p>\n",
       "</div>"
      ],
      "text/plain": [
       "                     name         rt_name\n",
       "0            Huerconetzin        AnneKPIX\n",
       "1                Paxman42  OurWarOnCancer\n",
       "2              beerhowell         nytimes\n",
       "3            buysell55555  MerlinofCanada\n",
       "4                 kbplitt          cnnbrk\n",
       "...                   ...             ...\n",
       "10291344    athenamarks27   StavrosZenios\n",
       "10291345  someleftyfucker      HayesBrown\n",
       "10291346          wordbrd     TaraLOGrady\n",
       "10291347     ashsantacruz   anders_aslund\n",
       "10291348         chazzbot    FrankConniff\n",
       "\n",
       "[10291349 rows x 2 columns]"
      ]
     },
     "execution_count": 34,
     "metadata": {},
     "output_type": "execute_result"
    }
   ],
   "source": [
    "prova_nt_1"
   ]
  },
  {
   "cell_type": "code",
   "execution_count": null,
   "metadata": {},
   "outputs": [],
   "source": []
  }
 ],
 "metadata": {
  "kernelspec": {
   "display_name": "Python 3 (ipykernel)",
   "language": "python",
   "name": "python3"
  },
  "language_info": {
   "codemirror_mode": {
    "name": "ipython",
    "version": 3
   },
   "file_extension": ".py",
   "mimetype": "text/x-python",
   "name": "python",
   "nbconvert_exporter": "python",
   "pygments_lexer": "ipython3",
   "version": "3.8.11"
  }
 },
 "nbformat": 4,
 "nbformat_minor": 4
}
