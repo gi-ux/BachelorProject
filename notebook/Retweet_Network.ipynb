{
 "cells": [
  {
   "cell_type": "code",
   "execution_count": 8,
   "metadata": {},
   "outputs": [
    {
     "data": {
      "application/javascript": [
       "IPython.notebook.set_autosave_interval(3600000)"
      ]
     },
     "metadata": {},
     "output_type": "display_data"
    },
    {
     "name": "stdout",
     "output_type": "stream",
     "text": [
      "Autosaving every 3600 seconds\n"
     ]
    }
   ],
   "source": [
    "import pandas as pd\n",
    "import numpy as np\n",
    "import matplotlib.pyplot as plt\n",
    "from time import strptime\n",
    "import datetime\n",
    "from datetime import datetime\n",
    "import math\n",
    "import warnings\n",
    "warnings.filterwarnings('ignore')\n",
    "import time\n",
    "import csv\n",
    "import glob\n",
    "import logging\n",
    "import importlib\n",
    "import tweets_utils\n",
    "import json\n",
    "import networkx as nx\n",
    "import matplotlib.pyplot as plt\n",
    "import seaborn as sns\n",
    "import re\n",
    "from operator import itemgetter\n",
    "import matplotlib.cm as mcm\n",
    "import community\n",
    "from community import community_louvain as cm\n",
    "import leidenalg as la\n",
    "import igraph as ig\n",
    "from cdlib import algorithms\n",
    "import plotly.express as px\n",
    "%autosave 3600"
   ]
  },
  {
   "cell_type": "markdown",
   "metadata": {},
   "source": [
    "#### Generate user - rt (once in file is useless)"
   ]
  },
  {
   "cell_type": "code",
   "execution_count": 9,
   "metadata": {},
   "outputs": [
    {
     "name": "stdout",
     "output_type": "stream",
     "text": [
      "Reading file: F:/COVID-19-Tweets\\2020-01\\tweets.csv\n",
      "Processing chunk 1\n",
      "Processing chunk 2\n",
      "Processing chunk 3\n",
      "Processing chunk 4\n",
      "Processing chunk 5\n",
      "Mese numero 1\n",
      "Reading file: F:/COVID-19-Tweets\\2020-02\\tweets.csv\n",
      "Processing chunk 1\n",
      "Processing chunk 2\n",
      "Processing chunk 3\n",
      "Processing chunk 4\n",
      "Processing chunk 5\n",
      "Processing chunk 6\n",
      "Processing chunk 7\n",
      "Processing chunk 8\n",
      "Processing chunk 9\n",
      "Processing chunk 10\n",
      "Processing chunk 11\n",
      "Processing chunk 12\n",
      "Mese numero 2\n",
      "Reading file: F:/COVID-19-Tweets\\2020-03\\tweets.csv\n",
      "Processing chunk 1\n",
      "Processing chunk 2\n",
      "Processing chunk 3\n",
      "Processing chunk 4\n",
      "Processing chunk 5\n",
      "Processing chunk 6\n",
      "Processing chunk 7\n",
      "Processing chunk 8\n",
      "Processing chunk 9\n",
      "Processing chunk 10\n",
      "Processing chunk 11\n",
      "Processing chunk 12\n",
      "Processing chunk 13\n",
      "Processing chunk 14\n",
      "Processing chunk 15\n",
      "Mese numero 3\n",
      "Reading file: F:/COVID-19-Tweets\\2020-04\\tweets.csv\n",
      "Processing chunk 1\n",
      "Processing chunk 2\n",
      "Processing chunk 3\n",
      "Processing chunk 4\n",
      "Processing chunk 5\n",
      "Processing chunk 6\n",
      "Processing chunk 7\n",
      "Processing chunk 8\n",
      "Processing chunk 9\n",
      "Processing chunk 10\n",
      "Processing chunk 11\n",
      "Processing chunk 12\n",
      "Processing chunk 13\n",
      "Mese numero 4\n",
      "Reading file: F:/COVID-19-Tweets\\2020-05\\tweets.csv\n",
      "Processing chunk 1\n",
      "Processing chunk 2\n",
      "Processing chunk 3\n",
      "Processing chunk 4\n",
      "Processing chunk 5\n",
      "Processing chunk 6\n",
      "Processing chunk 7\n",
      "Processing chunk 8\n",
      "Processing chunk 9\n",
      "Processing chunk 10\n",
      "Processing chunk 11\n",
      "Processing chunk 12\n",
      "Processing chunk 13\n",
      "Processing chunk 14\n",
      "Processing chunk 15\n",
      "Processing chunk 16\n",
      "Processing chunk 17\n",
      "Processing chunk 18\n",
      "Processing chunk 19\n",
      "Processing chunk 20\n",
      "Processing chunk 21\n",
      "Processing chunk 22\n",
      "Processing chunk 23\n",
      "Processing chunk 24\n",
      "Mese numero 5\n",
      "Time:  1058.7695512999999\n"
     ]
    }
   ],
   "source": [
    "rt_user_name = []\n",
    "user_name = []\n",
    "result = []\n",
    "files_tweets = glob.glob(\"F:/COVID-19-Tweets/*/tweets.csv\")\n",
    "cols_tweets = [u'user_screen_name', u\"rt_created_at\",u\"rt_user_screen_name\"]\n",
    "importlib.reload(tweets_utils)\n",
    "start_time = time.perf_counter()\n",
    "j = 0\n",
    "for filename in files_tweets:\n",
    "    print(f\"Reading file: {filename}\")\n",
    "    result.extend(tweets_utils.process_all_data(filename, cols_tweets, True))\n",
    "    lista = result[j]\n",
    "    j = j + 1\n",
    "    print(f\"Mese numero {j}\")\n",
    "    for i in range(len(lista)):\n",
    "        #user who retweet\n",
    "        user_name.extend(lista[i][\"retweet_users\"])\n",
    "        #user retweeted\n",
    "        rt_user_name.extend(lista[i][\"retweeted_users\"])\n",
    "stop_time = time.perf_counter()\n",
    "print(\"Time: \",stop_time-start_time)"
   ]
  },
  {
   "cell_type": "code",
   "execution_count": 13,
   "metadata": {},
   "outputs": [],
   "source": [
    "df_rt = pd.DataFrame(list(zip(user_name, rt_user_name)), columns =['name', 'rt_name'])"
   ]
  },
  {
   "cell_type": "code",
   "execution_count": 14,
   "metadata": {},
   "outputs": [],
   "source": [
    "del user_name\n",
    "del rt_user_name"
   ]
  },
  {
   "cell_type": "code",
   "execution_count": 15,
   "metadata": {},
   "outputs": [],
   "source": [
    "df_rt.to_csv(\"C:/Users/Gianluca/Desktop/Supsi/Git/BachelorProject/large_files/user_rtuser.csv\", index=False)"
   ]
  },
  {
   "cell_type": "code",
   "execution_count": 2,
   "metadata": {},
   "outputs": [],
   "source": [
    "df_rt = pd.read_csv(\"C:/Users/Gianluca/Desktop/Supsi/Git/BachelorProject/large_files/user_rtuser.csv\")"
   ]
  },
  {
   "cell_type": "code",
   "execution_count": 16,
   "metadata": {},
   "outputs": [
    {
     "data": {
      "text/html": [
       "<div>\n",
       "<style scoped>\n",
       "    .dataframe tbody tr th:only-of-type {\n",
       "        vertical-align: middle;\n",
       "    }\n",
       "\n",
       "    .dataframe tbody tr th {\n",
       "        vertical-align: top;\n",
       "    }\n",
       "\n",
       "    .dataframe thead th {\n",
       "        text-align: right;\n",
       "    }\n",
       "</style>\n",
       "<table border=\"1\" class=\"dataframe\">\n",
       "  <thead>\n",
       "    <tr style=\"text-align: right;\">\n",
       "      <th></th>\n",
       "      <th>name</th>\n",
       "      <th>rt_name</th>\n",
       "    </tr>\n",
       "  </thead>\n",
       "  <tbody>\n",
       "    <tr>\n",
       "      <th>0</th>\n",
       "      <td>Huerconetzin</td>\n",
       "      <td>AnneKPIX</td>\n",
       "    </tr>\n",
       "    <tr>\n",
       "      <th>1</th>\n",
       "      <td>JustAnotherAme4</td>\n",
       "      <td>cnni</td>\n",
       "    </tr>\n",
       "    <tr>\n",
       "      <th>2</th>\n",
       "      <td>HHSRegion8</td>\n",
       "      <td>CDCgov</td>\n",
       "    </tr>\n",
       "    <tr>\n",
       "      <th>3</th>\n",
       "      <td>Paxman42</td>\n",
       "      <td>OurWarOnCancer</td>\n",
       "    </tr>\n",
       "    <tr>\n",
       "      <th>4</th>\n",
       "      <td>beerhowell</td>\n",
       "      <td>nytimes</td>\n",
       "    </tr>\n",
       "    <tr>\n",
       "      <th>...</th>\n",
       "      <td>...</td>\n",
       "      <td>...</td>\n",
       "    </tr>\n",
       "    <tr>\n",
       "      <th>48312499</th>\n",
       "      <td>Dinora21971394</td>\n",
       "      <td>saludhn</td>\n",
       "    </tr>\n",
       "    <tr>\n",
       "      <th>48312500</th>\n",
       "      <td>EllyJonkerVliet</td>\n",
       "      <td>StopEcocideNL</td>\n",
       "    </tr>\n",
       "    <tr>\n",
       "      <th>48312501</th>\n",
       "      <td>anna76746180</td>\n",
       "      <td>Haggis_UK</td>\n",
       "    </tr>\n",
       "    <tr>\n",
       "      <th>48312502</th>\n",
       "      <td>SueHealy16</td>\n",
       "      <td>Auchindrain</td>\n",
       "    </tr>\n",
       "    <tr>\n",
       "      <th>48312503</th>\n",
       "      <td>inquisitor111</td>\n",
       "      <td>StagecoachBBird</td>\n",
       "    </tr>\n",
       "  </tbody>\n",
       "</table>\n",
       "<p>48312504 rows × 2 columns</p>\n",
       "</div>"
      ],
      "text/plain": [
       "                     name          rt_name\n",
       "0            Huerconetzin         AnneKPIX\n",
       "1         JustAnotherAme4             cnni\n",
       "2              HHSRegion8           CDCgov\n",
       "3                Paxman42   OurWarOnCancer\n",
       "4              beerhowell          nytimes\n",
       "...                   ...              ...\n",
       "48312499   Dinora21971394          saludhn\n",
       "48312500  EllyJonkerVliet    StopEcocideNL\n",
       "48312501     anna76746180        Haggis_UK\n",
       "48312502       SueHealy16      Auchindrain\n",
       "48312503    inquisitor111  StagecoachBBird\n",
       "\n",
       "[48312504 rows x 2 columns]"
      ]
     },
     "execution_count": 16,
     "metadata": {},
     "output_type": "execute_result"
    }
   ],
   "source": [
    "df_rt"
   ]
  },
  {
   "cell_type": "markdown",
   "metadata": {},
   "source": [
    "### Network"
   ]
  },
  {
   "cell_type": "code",
   "execution_count": null,
   "metadata": {},
   "outputs": [],
   "source": [
    "retweets_graph = nx.from_pandas_edgelist(df_rt,'name','rt_name', create_using=nx.DiGraph())\n",
    "print(nx.info(retweets_graph))"
   ]
  },
  {
   "cell_type": "code",
   "execution_count": null,
   "metadata": {},
   "outputs": [],
   "source": [
    "isolated_nodes = list(nx.isolates(retweets_graph))\n",
    "print('Isoleted nodes:',len(isolated_nodes))"
   ]
  },
  {
   "cell_type": "code",
   "execution_count": null,
   "metadata": {},
   "outputs": [],
   "source": [
    "print('Strongly connected: ',nx.is_strongly_connected(retweets_graph))"
   ]
  },
  {
   "cell_type": "code",
   "execution_count": null,
   "metadata": {},
   "outputs": [],
   "source": [
    "print('Number of connected components: ',nx.number_strongly_connected_components(retweets_graph))"
   ]
  },
  {
   "cell_type": "code",
   "execution_count": null,
   "metadata": {},
   "outputs": [],
   "source": [
    "# Extract the giant connected component\n",
    "Gcc = sorted((retweets_graph.subgraph(c) for c in nx.strongly_connected_components(retweets_graph)), key = len,reverse=True)[0]\n",
    "print(\"Number of nodes in the Gcc graph: \")\n",
    "print(len(Gcc.nodes()))\n",
    "print(\"Number of edges in the Gcc graph: \")\n",
    "print(len(Gcc.edges()))"
   ]
  },
  {
   "cell_type": "code",
   "execution_count": null,
   "metadata": {},
   "outputs": [],
   "source": [
    "degrees = [val for (node, val) in retweets_graph.degree()]\n",
    "\n",
    "print(f\"The maximum degree of the Graph is {np.max(degrees)}\")   \n",
    "print(f\"The minimum degree of the Graph is {np.min(degrees)}\")\n",
    "\n",
    "out_degrees = [val for (node, val) in retweets_graph.out_degree()]\n",
    "\n",
    "print(f\"The maximum out_degree of the Graph is {np.max(out_degrees)}\")   \n",
    "print(f\"The minimum out_degree of the Graph is {np.min(out_degrees)}\")\n",
    "\n",
    "in_degrees = [val for (node, val) in retweets_graph.in_degree()]\n",
    "\n",
    "print(f\"The maximum in_degree of the Graph is {np.max(in_degrees)}\")   \n",
    "print(f\"The minimum in_degree of the Graph is {np.min(in_degrees)}\")"
   ]
  },
  {
   "cell_type": "code",
   "execution_count": null,
   "metadata": {},
   "outputs": [],
   "source": [
    "density = nx.density(retweets_graph)\n",
    "print(\"Network density:\", density)"
   ]
  },
  {
   "cell_type": "code",
   "execution_count": null,
   "metadata": {},
   "outputs": [],
   "source": [
    "degree_dict = dict(retweets_graph.degree(retweets_graph.nodes()))\n",
    "sorted_degree = sorted(degree_dict.items(), key=itemgetter(1), reverse=True)"
   ]
  },
  {
   "cell_type": "code",
   "execution_count": null,
   "metadata": {},
   "outputs": [],
   "source": [
    "n=5\n",
    "print(\"Top n nodes by degree:\")\n",
    "for d in sorted_degree[:n]:\n",
    "    print(f\"the node with name {d[0]} , has a degree of {d[1]}\")"
   ]
  },
  {
   "cell_type": "code",
   "execution_count": null,
   "metadata": {},
   "outputs": [],
   "source": [
    "in_degree_dict = dict(retweets_graph.in_degree(retweets_graph.nodes()))\n",
    "sorted_in_degree = sorted(in_degree_dict.items(), key=itemgetter(1), reverse=True)"
   ]
  },
  {
   "cell_type": "code",
   "execution_count": null,
   "metadata": {},
   "outputs": [],
   "source": [
    "n=5\n",
    "print(\"Top n nodes by in_degree:\")\n",
    "for d in sorted_in_degree[:n]:\n",
    "    print(f\"the node with name {d[0]} , has a in-degree of {d[1]}\")"
   ]
  },
  {
   "cell_type": "code",
   "execution_count": null,
   "metadata": {},
   "outputs": [],
   "source": [
    "out_degree_dict = dict(retweets_graph.out_degree(retweets_graph.nodes()))\n",
    "sorted_out_degree = sorted(out_degree_dict.items(), key=itemgetter(1), reverse=True)"
   ]
  },
  {
   "cell_type": "code",
   "execution_count": null,
   "metadata": {},
   "outputs": [],
   "source": [
    "n=5\n",
    "print(\"Top n nodes by out_degree:\")\n",
    "for d in sorted_out_degree[:n]:\n",
    "    print(f\"the node with name {d[0]} , has a out-degree of {d[1]}\")"
   ]
  },
  {
   "cell_type": "code",
   "execution_count": null,
   "metadata": {},
   "outputs": [],
   "source": [
    "graph_centrality = nx.degree_centrality(retweets_graph)\n",
    "max_de = max(graph_centrality.items(), key=itemgetter(1))\n",
    "graph_closeness = nx.closeness_centrality(retweets_graph)\n",
    "max_clo = max(graph_closeness.items(), key=itemgetter(1))\n",
    "graph_betweenness = nx.betweenness_centrality(retweets_graph, normalized=True, endpoints=False)\n",
    "max_bet = max(graph_betweenness.items(), key=itemgetter(1))\n",
    "\n",
    "print(f\"the node with id {max_de[0]} has a degree centrality of {max_de[1]:.2f} which is the maximum of the Graph\")\n",
    "print(f\"the node with id {max_clo[0]} has a closeness centrality of {max_clo[1]:.2f} which is the maximum of the Graph\")\n",
    "print(f\"the node with id {max_bet[0]} has a betweenness centrality of {max_bet[1]:.2f} which is the maximum of the Graph\")"
   ]
  },
  {
   "cell_type": "code",
   "execution_count": null,
   "metadata": {},
   "outputs": [],
   "source": [
    "#pageRank centrality for each node\n",
    "pagerank_centr = nx.pagerank(retweets_graph)"
   ]
  },
  {
   "cell_type": "markdown",
   "metadata": {},
   "source": [
    "#### Communities with Louvain modularity"
   ]
  },
  {
   "cell_type": "code",
   "execution_count": null,
   "metadata": {},
   "outputs": [],
   "source": [
    "retweets_graph_und = nx.from_pandas_edgelist(df_rt,'name','rt_name')\n",
    "print(nx.info(retweets_graph_und))"
   ]
  },
  {
   "cell_type": "code",
   "execution_count": null,
   "metadata": {},
   "outputs": [],
   "source": [
    "best_part = cm.best_partition(retweets_graph_und, random_state=42)"
   ]
  },
  {
   "cell_type": "code",
   "execution_count": null,
   "metadata": {},
   "outputs": [],
   "source": [
    "size = float(len(set(best_part.values())))\n",
    "print(\"Number of communities: \", size)"
   ]
  },
  {
   "cell_type": "code",
   "execution_count": null,
   "metadata": {},
   "outputs": [],
   "source": [
    "#check that sum of each community size = number of nodes\n",
    "communities_size = np.zeros(len(set(best_part.values())))\n",
    "for v in list(best_part.values()):\n",
    "    communities_size[v] +=1\n",
    "print(sum(communities_size))"
   ]
  },
  {
   "cell_type": "code",
   "execution_count": null,
   "metadata": {},
   "outputs": [],
   "source": [
    "print(\"Louvain Modularity: \",cm.modularity(best_part, retweets_graph_und))"
   ]
  },
  {
   "cell_type": "code",
   "execution_count": null,
   "metadata": {},
   "outputs": [],
   "source": [
    "# color the nodes according to their partition\n",
    "pos = nx.spring_layout(retweets_graph_und)\n",
    "\n",
    "plt.figure(figsize=(10,10)) \n",
    "cmap = mcm.get_cmap('viridis', max(best_part.values()) + 1)\n",
    "shapes = 'so^>v<dph8'\n",
    "shapes_iter = 0\n",
    "for node, color in best_part.items():\n",
    "    nx.draw_networkx_nodes(retweets_graph_und, pos, [node], node_size=40,\n",
    "                           node_color=[cmap.colors[color]],\n",
    "                           node_shape=shapes[shapes_iter])\n",
    "    shapes_iter +=1\n",
    "    if shapes_iter == len(shapes):\n",
    "        shapes_iter=0\n",
    "nx.draw_networkx_edges(retweets_graph_und, pos, alpha=0.5)\n",
    "#plt.savefig('plots/communities')\n",
    "plt.show() #add labels"
   ]
  },
  {
   "cell_type": "markdown",
   "metadata": {},
   "source": [
    "#### Communities with Leiden"
   ]
  },
  {
   "cell_type": "code",
   "execution_count": null,
   "metadata": {},
   "outputs": [],
   "source": [
    "tuples = [tuple(x) for x in df_rt.values]\n",
    "retweets_graph = ig.Graph.TupleList(tuples, directed = True)"
   ]
  },
  {
   "cell_type": "code",
   "execution_count": null,
   "metadata": {},
   "outputs": [],
   "source": [
    "n_vertices = retweets_graph.vcount()\n",
    "print(\"Number of vertices:\", n_vertices)\n",
    "print(\"Number of edges:\", retweets_graph.ecount())\n",
    "print(\"Density of the graph:\", 2*retweets_graph.ecount()/(retweets_graph.vcount()*(retweets_graph.vcount()-1)))"
   ]
  },
  {
   "cell_type": "code",
   "execution_count": null,
   "metadata": {},
   "outputs": [],
   "source": [
    "total_degree=0\n",
    "total_indegree = 0\n",
    "total_outdegree = 0\n",
    "for n in range(n_vertices):\n",
    "    total_degree += retweets_graph.degree(n)\n",
    "    total_indegree += retweets_graph.indegree(n)\n",
    "    total_outdegree += retweets_graph.outdegree(n)\n",
    "print(\"Average indegree:\", total_indegree/n_vertices)\n",
    "print(\"Average indegree:\", total_outdegree/n_vertices)"
   ]
  },
  {
   "cell_type": "code",
   "execution_count": null,
   "metadata": {},
   "outputs": [],
   "source": [
    "partition = la.find_partition(retweets_graph, la.ModularityVertexPartition)\n",
    "partition"
   ]
  },
  {
   "cell_type": "code",
   "execution_count": null,
   "metadata": {},
   "outputs": [],
   "source": [
    "retweets_graph.vs[0]['name']"
   ]
  },
  {
   "cell_type": "code",
   "execution_count": null,
   "metadata": {},
   "outputs": [],
   "source": [
    "retweets_graph.vs()[\"name\"]"
   ]
  },
  {
   "cell_type": "code",
   "execution_count": null,
   "metadata": {},
   "outputs": [],
   "source": [
    "partition.membership"
   ]
  },
  {
   "cell_type": "code",
   "execution_count": null,
   "metadata": {},
   "outputs": [],
   "source": [
    "zip_iterator = zip(retweets_graph.vs()[\"name\"], partition.membership)\n",
    "best_part = dict(zip_iterator)\n",
    "best_part"
   ]
  },
  {
   "cell_type": "code",
   "execution_count": null,
   "metadata": {},
   "outputs": [],
   "source": []
  }
 ],
 "metadata": {
  "kernelspec": {
   "display_name": "Python 3",
   "language": "python",
   "name": "python3"
  },
  "language_info": {
   "codemirror_mode": {
    "name": "ipython",
    "version": 3
   },
   "file_extension": ".py",
   "mimetype": "text/x-python",
   "name": "python",
   "nbconvert_exporter": "python",
   "pygments_lexer": "ipython3",
   "version": "3.8.5"
  }
 },
 "nbformat": 4,
 "nbformat_minor": 4
}
