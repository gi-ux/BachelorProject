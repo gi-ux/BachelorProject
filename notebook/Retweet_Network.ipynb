{
 "cells": [
  {
   "cell_type": "code",
   "execution_count": 1,
   "metadata": {},
   "outputs": [
    {
     "data": {
      "application/javascript": [
       "IPython.notebook.set_autosave_interval(3600000)"
      ]
     },
     "metadata": {},
     "output_type": "display_data"
    },
    {
     "name": "stdout",
     "output_type": "stream",
     "text": [
      "Autosaving every 3600 seconds\n"
     ]
    }
   ],
   "source": [
    "import pandas as pd\n",
    "import numpy as np\n",
    "import plotly.express as px\n",
    "import matplotlib.pyplot as plt\n",
    "from time import strptime\n",
    "import datetime\n",
    "from datetime import datetime\n",
    "import warnings\n",
    "import time\n",
    "import csv\n",
    "import glob\n",
    "import logging\n",
    "import importlib\n",
    "import tweets_utils\n",
    "import json\n",
    "# import networkx as nx\n",
    "import seaborn as sns\n",
    "# import re\n",
    "# from operator import itemgetter\n",
    "# import matplotlib.cm as mcm\n",
    "# import community\n",
    "# from community import community_louvain as cm\n",
    "# import leidenalg as la\n",
    "# import igraph as ig\n",
    "# from cdlib import algorithms\n",
    "warnings.filterwarnings('ignore')\n",
    "%autosave 3600"
   ]
  },
  {
   "cell_type": "markdown",
   "metadata": {},
   "source": [
    "# Indice\n",
    "\n",
    "- [Network Script](#script)\n",
    "\n",
    "\n",
    "- [Network](#network)\n",
    "\n",
    "    - [Netwrok info](#info)\n",
    "    - [Load files](#load)\n",
    "    \n",
    "    \n",
    "- [Communities](#communities)\n",
    "    \n",
    "    - [Disinform Dozen and community](#dozen_comm)\n",
    "    - [Good Dozen and community](#good_comm)\n",
    "    - [Top communities](#top_commm)"
   ]
  },
  {
   "cell_type": "markdown",
   "metadata": {},
   "source": [
    "# Network Script\n",
    "<a id=\"script\"/>"
   ]
  },
  {
   "cell_type": "code",
   "execution_count": null,
   "metadata": {},
   "outputs": [],
   "source": [
    "retweets_graph = nx.from_pandas_edgelist(df,'name','rt_name', create_using=nx.DiGraph())\n",
    "print(nx.info(retweets_graph)) #da ritornare le info\n",
    "#-----------------------------------------------------------------\n",
    "degree_dict = dict(retweets_graph.degree(retweets_graph.nodes()))\n",
    "sorted_degree = sorted(degree_dict.items(), key=itemgetter(1), reverse=True) #da ritornare il dictionary\n",
    "#-----------------------------------------------------------------\n",
    "in_degree_dict = dict(retweets_graph.in_degree(retweets_graph.nodes()))\n",
    "sorted_in_degree = sorted(in_degree_dict.items(), key=itemgetter(1), reverse=True) #da ritornare il dictionary\n",
    "#-----------------------------------------------------------------\n",
    "out_degree_dict = dict(retweets_graph.out_degree(retweets_graph.nodes()))\n",
    "sorted_out_degree = sorted(out_degree_dict.items(), key=itemgetter(1), reverse=True) #da ritornare il dictionary\n",
    "#-----------------------------------------------------------------\n",
    "#### Communities with Louvain modularity\n",
    "retweets_graph_und = nx.from_pandas_edgelist(df,'name','rt_name')\n",
    "print(nx.info(retweets_graph_und)) #da ritornare \n",
    "#-----------------------------------------------------------------\n",
    "best_part = cm.best_partition(retweets_graph_und, random_state=42) #da ritornare il best part\n",
    "#-----------------------------------------------------------------\n",
    "#### Communities with Leiden (opzionale, se riesci)\n",
    "tuples = [tuple(x) for x in df_rt.values]\n",
    "retweets_graph = ig.Graph.TupleList(tuples, directed = True)\n",
    "n_vertices = retweets_graph.vcount()\n",
    "print(\"Number of vertices:\", n_vertices)\n",
    "print(\"Number of edges:\", retweets_graph.ecount())\n",
    "print(\"Density of the graph:\", 2*retweets_graph.ecount()/(retweets_graph.vcount()*(retweets_graph.vcount()-1)))\n",
    "#da ritornare\n",
    "#-----------------------------------------------------------------\n",
    "total_degree=0\n",
    "total_indegree = 0\n",
    "total_outdegree = 0\n",
    "for n in range(n_vertices):\n",
    "    total_degree += retweets_graph.degree(n)\n",
    "    total_indegree += retweets_graph.indegree(n)\n",
    "    total_outdegree += retweets_graph.outdegree(n)\n",
    "print(\"Average indegree:\", total_indegree/n_vertices)\n",
    "print(\"Average outdegree:\", total_outdegree/n_vertices)\n",
    "#da ritornare\n",
    "#-----------------------------------------------------------------\n",
    "partition = la.find_partition(retweets_graph, la.ModularityVertexPartition)\n",
    "partition\n",
    "#da ritornare"
   ]
  },
  {
   "cell_type": "markdown",
   "metadata": {},
   "source": [
    "# Network\n",
    "<a id=\"network\"/>"
   ]
  },
  {
   "cell_type": "markdown",
   "metadata": {},
   "source": [
    "### Nx info\n",
    "<a id=\"info\"/>\n",
    "<p>\n",
    "    \n",
    "    Type: DiGraph\n",
    "    Number of nodes: 12513502\n",
    "    Number of edges: 40027282\n",
    "    Average in degree: 3.1987\n",
    "    Average out degree: 3.1987\n",
    "    \n",
    "</p>"
   ]
  },
  {
   "cell_type": "markdown",
   "metadata": {},
   "source": [
    "### Load files\n",
    "<a id=\"load\"/>"
   ]
  },
  {
   "cell_type": "code",
   "execution_count": 2,
   "metadata": {},
   "outputs": [
    {
     "data": {
      "text/plain": [
       "['C:/Users/Gianluca/Desktop/Supsi/Git/BachelorProject/large_files/rt_network\\\\degree.json',\n",
       " 'C:/Users/Gianluca/Desktop/Supsi/Git/BachelorProject/large_files/rt_network\\\\in_degree.json',\n",
       " 'C:/Users/Gianluca/Desktop/Supsi/Git/BachelorProject/large_files/rt_network\\\\out_degree.json']"
      ]
     },
     "execution_count": 2,
     "metadata": {},
     "output_type": "execute_result"
    }
   ],
   "source": [
    "path_degrees = glob.glob(\"C:/Users/Gianluca/Desktop/Supsi/Git/BachelorProject/large_files/rt_network/*degree*.json\")\n",
    "path_degrees"
   ]
  },
  {
   "cell_type": "code",
   "execution_count": 3,
   "metadata": {},
   "outputs": [
    {
     "data": {
      "text/plain": [
       "['C:/Users/Gianluca/Desktop/Supsi/Git/BachelorProject/large_files/rt_network\\\\leiden_communities.json',\n",
       " 'C:/Users/Gianluca/Desktop/Supsi/Git/BachelorProject/large_files/rt_network\\\\louvain_communities.json']"
      ]
     },
     "execution_count": 3,
     "metadata": {},
     "output_type": "execute_result"
    }
   ],
   "source": [
    "path_communities = glob.glob(\"C:/Users/Gianluca/Desktop/Supsi/Git/BachelorProject/large_files/rt_network/*communities*.json\")\n",
    "path_communities"
   ]
  },
  {
   "cell_type": "code",
   "execution_count": 4,
   "metadata": {},
   "outputs": [
    {
     "name": "stdout",
     "output_type": "stream",
     "text": [
      "Time:  16.1185445\n"
     ]
    }
   ],
   "source": [
    "start_time = time.perf_counter()\n",
    "file = open (path_degrees[0],)\n",
    "degree = json.loads(file.read())\n",
    "file.close()\n",
    "stop_time = time.perf_counter()\n",
    "print(\"Time: \",stop_time-start_time)"
   ]
  },
  {
   "cell_type": "code",
   "execution_count": 5,
   "metadata": {},
   "outputs": [
    {
     "name": "stdout",
     "output_type": "stream",
     "text": [
      "Time:  25.49214769999999\n"
     ]
    }
   ],
   "source": [
    "start_time = time.perf_counter()\n",
    "file = open (path_degrees[1],)\n",
    "in_degree = json.loads(file.read())\n",
    "file.close()\n",
    "stop_time = time.perf_counter()\n",
    "print(\"Time: \",stop_time-start_time)"
   ]
  },
  {
   "cell_type": "code",
   "execution_count": 6,
   "metadata": {},
   "outputs": [
    {
     "name": "stdout",
     "output_type": "stream",
     "text": [
      "Time:  112.72753800000001\n"
     ]
    }
   ],
   "source": [
    "start_time = time.perf_counter()\n",
    "file = open (path_degrees[2],)\n",
    "out_degree = json.loads(file.read())\n",
    "file.close()\n",
    "stop_time = time.perf_counter()\n",
    "print(\"Time: \",stop_time-start_time)"
   ]
  },
  {
   "cell_type": "code",
   "execution_count": 7,
   "metadata": {},
   "outputs": [
    {
     "name": "stdout",
     "output_type": "stream",
     "text": [
      "Time:  3.057021000000077\n"
     ]
    }
   ],
   "source": [
    "start_time = time.perf_counter()\n",
    "file = open (path_communities[0],)\n",
    "leiden = json.loads(file.read())\n",
    "file.close()\n",
    "stop_time = time.perf_counter()\n",
    "print(\"Time: \",stop_time-start_time)"
   ]
  },
  {
   "cell_type": "code",
   "execution_count": 7,
   "metadata": {},
   "outputs": [
    {
     "name": "stdout",
     "output_type": "stream",
     "text": [
      "Time:  23.727270199999964\n"
     ]
    }
   ],
   "source": [
    "start_time = time.perf_counter()\n",
    "file = open (path_communities[1],)\n",
    "louvain = json.loads(file.read())\n",
    "file.close()\n",
    "stop_time = time.perf_counter()\n",
    "print(\"Time: \",stop_time-start_time)"
   ]
  },
  {
   "cell_type": "markdown",
   "metadata": {},
   "source": [
    "# Communities\n",
    "<a id=\"communities\"/>"
   ]
  },
  {
   "cell_type": "code",
   "execution_count": 8,
   "metadata": {},
   "outputs": [],
   "source": [
    "path_ccdh = glob.glob(\"C:/Users/Gianluca/Desktop/Supsi/Git/BachelorProject/large_files/ccdh/\")\n",
    "path_disinform = glob.glob(\"C:/Users/Gianluca/Desktop/Supsi/Git/BachelorProject/csv/\")"
   ]
  },
  {
   "cell_type": "code",
   "execution_count": 9,
   "metadata": {},
   "outputs": [],
   "source": [
    "ccdh_rt = pd.read_csv(path_ccdh[0] + \"retweet_users_ccdh.csv\")"
   ]
  },
  {
   "cell_type": "code",
   "execution_count": 10,
   "metadata": {},
   "outputs": [],
   "source": [
    "ccdh_rt_flt = ccdh_rt[ccdh_rt.user_screen_name.isin([x for x in louvain])]"
   ]
  },
  {
   "cell_type": "code",
   "execution_count": 11,
   "metadata": {},
   "outputs": [],
   "source": [
    "total_users = len(louvain)\n",
    "total_rt_ccdh = len(ccdh_rt)\n",
    "found = len(ccdh_rt_flt)"
   ]
  },
  {
   "cell_type": "code",
   "execution_count": 12,
   "metadata": {},
   "outputs": [],
   "source": [
    "cont = 0\n",
    "for i in louvain:\n",
    "    if(louvain.get(i) == 2):\n",
    "        cont = cont + 1"
   ]
  },
  {
   "cell_type": "code",
   "execution_count": 48,
   "metadata": {},
   "outputs": [],
   "source": [
    "disinform = pd.read_csv(path_disinform[0] + \"disinformation_users.csv\")\n",
    "# disinform"
   ]
  },
  {
   "cell_type": "markdown",
   "metadata": {},
   "source": [
    "### Disinform Dozen and community\n",
    "<a id=\"dozen_comm\"/>"
   ]
  },
  {
   "cell_type": "code",
   "execution_count": 51,
   "metadata": {},
   "outputs": [
    {
     "name": "stdout",
     "output_type": "stream",
     "text": [
      "Name: unhealthytruth, Community: 2\n",
      "Name: BusyDrT, Community: 2\n",
      "Name: RobertKennedyJr, Community: 2\n",
      "Name: mercola, Community: 2\n",
      "Name: kevdjenkins1, Community: 2\n",
      "Name: DrChrisNorthrup, Community: 2\n",
      "Name: DrButtar, Community: 2\n"
     ]
    }
   ],
   "source": [
    "for i in louvain:\n",
    "    if i in list(disinform[\"screen_name\"]):\n",
    "        print(f\"Name: {i}, Community: {louvain.get(i)}\")"
   ]
  },
  {
   "cell_type": "markdown",
   "metadata": {},
   "source": [
    "### Good Dozen and community\n",
    "<a id=\"good_comm\"/>\n"
   ]
  },
  {
   "cell_type": "code",
   "execution_count": 52,
   "metadata": {},
   "outputs": [
    {
     "name": "stdout",
     "output_type": "stream",
     "text": [
      "Name: trvrb, Community: 2\n",
      "Name: CDCDirector, Community: 2\n",
      "Name: MackayIM, Community: 2\n",
      "Name: DrTedros, Community: 19\n",
      "Name: IlonaKickbusch, Community: 2\n",
      "Name: DrEricDing, Community: 2\n",
      "Name: kakape, Community: 2\n",
      "Name: DrDenaGrayson, Community: 1\n",
      "Name: ashishkjha, Community: 1\n",
      "Name: mlipsitch, Community: 2\n",
      "Name: edyong209, Community: 1\n",
      "Name: HelenBranswell, Community: 1\n"
     ]
    }
   ],
   "source": [
    "file_verified = [\"DrDenaGrayson\", \"MackayIM\", \"DrEricDing\", \"IlonaKickbusch\", \"ashishkjha\", \n",
    "                 \"HelenBranswell\", \"mlipsitch\", \"trvrb\", \"kakape\", \"edyong209\", \"CDCDirector\",\n",
    "                \"DrTedros\"]\n",
    "for i in louvain:\n",
    "    if i in list(file_verified):\n",
    "        print(f\"Name: {i}, Community: {louvain.get(i)}\")"
   ]
  },
  {
   "cell_type": "code",
   "execution_count": 18,
   "metadata": {},
   "outputs": [],
   "source": [
    "communities = []\n",
    "for i in louvain:\n",
    "    communities.append(louvain.get(i))\n",
    "# communities = pd.Series(communities).unique()\n",
    "# len(communities)\n",
    "communities = pd.Series(communities).value_counts().sort_values(ascending=False)\n"
   ]
  },
  {
   "cell_type": "markdown",
   "metadata": {},
   "source": [
    "### Top communities\n",
    "<a id=\"top_commm\"/>"
   ]
  },
  {
   "cell_type": "code",
   "execution_count": 22,
   "metadata": {},
   "outputs": [
    {
     "data": {
      "image/png": "[encoded data removed]",
      "text/plain": [
       "<Figure size 1008x576 with 1 Axes>"
      ]
     },
     "metadata": {
      "needs_background": "light"
     },
     "output_type": "display_data"
    }
   ],
   "source": [
    "val = communities\n",
    "fig = plt.figure(figsize=(14, 8))\n",
    "ax = val[:30].plot(kind='barh', color='plum', fig=(14,14)) #orange #lightseagreen\n",
    "ax.set_title('Number of nodes per community (top 30)', fontsize=15)\n",
    "ax.invert_yaxis()\n",
    "plt.show()"
   ]
  },
  {
   "cell_type": "markdown",
   "metadata": {},
   "source": [
    "### Stats"
   ]
  },
  {
   "cell_type": "code",
   "execution_count": 39,
   "metadata": {},
   "outputs": [
    {
     "name": "stdout",
     "output_type": "stream",
     "text": [
      "Utenti che retweettano i Dozen presenti nella Network: 48.48%\n",
      "Che rappresentano il: 0.15% della network\n",
      "e rappresentano il: 1.86% della Community numero 2\n"
     ]
    }
   ],
   "source": [
    "print(f\"Utenti che retweettano i Dozen presenti nella Network: {round((found/total_rt_ccdh)*100,2)}%\")\n",
    "print(f\"Che rappresentano il: {round((found/total_users)*100,2)}% della network\")\n",
    "print(f\"e rappresentano il: {round((found/cont)*100,2)}% della Community numero 2\")"
   ]
  },
  {
   "cell_type": "code",
   "execution_count": 15,
   "metadata": {},
   "outputs": [
    {
     "name": "stdout",
     "output_type": "stream",
     "text": [
      "Time:  0.07087520000004588\n"
     ]
    }
   ],
   "source": [
    "rt = []\n",
    "start_time = time.perf_counter()\n",
    "for i in ccdh_rt_flt[\"user_screen_name\"]:\n",
    "    if i in louvain:\n",
    "        rt.append((i, louvain.get(i)))\n",
    "stop_time = time.perf_counter()\n",
    "print(\"Time: \",stop_time-start_time)"
   ]
  },
  {
   "cell_type": "code",
   "execution_count": 18,
   "metadata": {
    "scrolled": true
   },
   "outputs": [],
   "source": [
    "community = []\n",
    "name = []\n",
    "for i in range(len(rt)):\n",
    "    community.append(rt[i][1])"
   ]
  },
  {
   "cell_type": "code",
   "execution_count": 19,
   "metadata": {
    "scrolled": false
   },
   "outputs": [
    {
     "data": {
      "image/png": "[encoded data removed]",
      "text/plain": [
       "<Figure size 1008x576 with 1 Axes>"
      ]
     },
     "metadata": {
      "needs_background": "light"
     },
     "output_type": "display_data"
    }
   ],
   "source": [
    "val = pd.Series(community)\n",
    "val = val.value_counts().sort_values(ascending=False)\n",
    "fig = plt.figure(figsize=(14, 8))\n",
    "ax = val[:10].plot(kind='barh', color='lightseagreen', fig=(14,14)) #orange #lightseagreen\n",
    "ax.set_title('Number of community', fontsize=15)\n",
    "ax.invert_yaxis()\n",
    "plt.show()"
   ]
  },
  {
   "cell_type": "markdown",
   "metadata": {},
   "source": [
    "- interazioni con le altre community\n",
    "- se i dozen ne fanno parte\n",
    "- caratterizzazione community\n",
    "- prendi rt di un gruppo e vedi quanti hanno come altro nodo della rete un gruppo all'interno della propria community\n",
    "    - prime 5, caratterizza (community seguaci, community alto verified, ...)"
   ]
  },
  {
   "cell_type": "markdown",
   "metadata": {},
   "source": [
    "### Community interaction"
   ]
  },
  {
   "cell_type": "code",
   "execution_count": 47,
   "metadata": {},
   "outputs": [
    {
     "name": "stdout",
     "output_type": "stream",
     "text": [
      "In degree: \n",
      "good: ['DrDenaGrayson', 32737]\n",
      "good: ['DrTedros', 26854]\n",
      "good: ['DrEricDing', 23985]\n",
      "good: ['trvrb', 5936]\n",
      "good: ['MackayIM', 4291]\n",
      "good: ['kakape', 3419]\n",
      "good: ['edyong209', 2810]\n",
      "good: ['CDCDirector', 2705]\n",
      "good: ['mlipsitch', 1885]\n",
      "disinform: ['BusyDrT', 1274]\n",
      "good: ['HelenBranswell', 1018]\n",
      "good: ['ashishkjha', 637]\n",
      "disinform: ['RobertKennedyJr', 579]\n",
      "----------------------\n",
      "Out degree: \n",
      "good: ['IlonaKickbusch', 233]\n",
      "good: ['MackayIM', 171]\n"
     ]
    }
   ],
   "source": [
    "print(\"In degree: \")\n",
    "for i in in_degree[:10000]:\n",
    "    if i[0] in file_verified:\n",
    "        print(f\"good: {i}\")\n",
    "    if i[0] in list(disinform[\"screen_name\"]):\n",
    "        print(f\"disinform: {i}\")\n",
    "print(\"----------------------\")\n",
    "print(\"Out degree: \")\n",
    "for i in out_degree[:10000]:\n",
    "    if i[0] in file_verified:\n",
    "        print(f\"good: {i}\")\n",
    "    if i[0] in list(disinform[\"screen_name\"]):\n",
    "        print(f\"disinform: {i}\")"
   ]
  },
  {
   "cell_type": "code",
   "execution_count": null,
   "metadata": {},
   "outputs": [],
   "source": []
  }
 ],
 "metadata": {
  "kernelspec": {
   "display_name": "Python 3",
   "language": "python",
   "name": "python3"
  },
  "language_info": {
   "codemirror_mode": {
    "name": "ipython",
    "version": 3
   },
   "file_extension": ".py",
   "mimetype": "text/x-python",
   "name": "python",
   "nbconvert_exporter": "python",
   "pygments_lexer": "ipython3",
   "version": "3.8.5"
  }
 },
 "nbformat": 4,
 "nbformat_minor": 4
}
