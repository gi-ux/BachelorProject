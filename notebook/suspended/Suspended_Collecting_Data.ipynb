{
 "cells": [
  {
   "cell_type": "code",
   "execution_count": 2,
   "id": "17404527",
   "metadata": {},
   "outputs": [
    {
     "data": {
      "application/javascript": [
       "IPython.notebook.set_autosave_interval(3600000)"
      ]
     },
     "metadata": {},
     "output_type": "display_data"
    },
    {
     "name": "stdout",
     "output_type": "stream",
     "text": [
      "Autosaving every 3600 seconds\n"
     ]
    }
   ],
   "source": [
    "import pandas as pd\n",
    "import numpy as np\n",
    "import matplotlib.pyplot as plt\n",
    "from matplotlib.pyplot import figure\n",
    "import datetime\n",
    "import plotly.express as px\n",
    "import math\n",
    "import warnings\n",
    "warnings.filterwarnings('ignore')\n",
    "import time\n",
    "from time import perf_counter\n",
    "import glob\n",
    "import tweets_utils\n",
    "import csv\n",
    "import importlib\n",
    "%autosave 3600"
   ]
  },
  {
   "cell_type": "code",
   "execution_count": null,
   "id": "c8c8a499",
   "metadata": {},
   "outputs": [],
   "source": [
    "path = glob.glob(\"C:/Users/gianl/Desktop/Gi/Supsi/BachelorProject/to_be_scored/user*.csv\")\n",
    "centok = pd.DataFrame()\n",
    "for name in path:\n",
    "    df = pd.read_csv(name, lineterminator=\"\\n\", low_memory=False)\n",
    "    df = tweets_utils.clean_data_format(df)\n",
    "    centok = centok.append(df)\n",
    "centok = centok.drop_duplicates(subset=[\"screen_name\"])"
   ]
  },
  {
   "cell_type": "code",
   "execution_count": null,
   "id": "e0f67ca6",
   "metadata": {},
   "outputs": [],
   "source": [
    "path_prova = glob.glob(\"C:/Users/gianl/Desktop/not_found_users/u_*.csv\") #in base al mese\n",
    "for i in path_prova:\n",
    "    print(\"leggo \", i)\n",
    "    df = pd.read_csv(i, lineterminator=\"\\n\", low_memory=False, usecols=[\"id\",\"screen_name\"])\n",
    "    centok = centok.append(df)\n",
    "    centok = centok.drop_duplicates(subset=[\"screen_name\"])"
   ]
  },
  {
   "cell_type": "code",
   "execution_count": null,
   "id": "0925c199",
   "metadata": {},
   "outputs": [],
   "source": [
    "centok"
   ]
  },
  {
   "cell_type": "code",
   "execution_count": null,
   "id": "a1c57dd6",
   "metadata": {},
   "outputs": [],
   "source": [
    "target = pd.read_csv(\"C:/Users/gianl/Desktop/prova/users.csv\", \n",
    "                     lineterminator=\"\\n\", low_memory=False)"
   ]
  },
  {
   "cell_type": "code",
   "execution_count": null,
   "id": "86c8b133",
   "metadata": {},
   "outputs": [],
   "source": [
    "target"
   ]
  },
  {
   "cell_type": "code",
   "execution_count": null,
   "id": "113e01f3",
   "metadata": {},
   "outputs": [],
   "source": [
    "merge = target.merge(centok, left_on=\"screen_name\",  right_on=\"screen_name\", how=\"left\")\n",
    "merge"
   ]
  },
  {
   "cell_type": "code",
   "execution_count": null,
   "id": "cdfe0500",
   "metadata": {},
   "outputs": [],
   "source": [
    "to_write = merge[merge[\"id_y\"].isna()]"
   ]
  },
  {
   "cell_type": "code",
   "execution_count": null,
   "id": "785b0a9f",
   "metadata": {},
   "outputs": [],
   "source": [
    "to_write"
   ]
  },
  {
   "cell_type": "code",
   "execution_count": null,
   "id": "be10f25a",
   "metadata": {},
   "outputs": [],
   "source": [
    "to_write.columns"
   ]
  },
  {
   "cell_type": "code",
   "execution_count": null,
   "id": "4e423a73",
   "metadata": {},
   "outputs": [],
   "source": [
    "to_write = to_write.drop(\"id_y\",1)\n",
    "to_write.columns"
   ]
  },
  {
   "cell_type": "code",
   "execution_count": null,
   "id": "c1db6da1",
   "metadata": {},
   "outputs": [],
   "source": [
    "to_write = to_write.rename(columns={'id_x': 'id'})\n",
    "to_write.columns                 "
   ]
  },
  {
   "cell_type": "code",
   "execution_count": null,
   "id": "993333c5",
   "metadata": {},
   "outputs": [],
   "source": [
    "to_write = to_write.drop_duplicates(subset=[\"screen_name\"])\n",
    "to_write = to_write.reset_index(drop=True)\n",
    "to_write"
   ]
  },
  {
   "cell_type": "code",
   "execution_count": null,
   "id": "979287ce",
   "metadata": {},
   "outputs": [],
   "source": [
    "to_write.to_csv(\"C:/Users/gianl/Desktop/prova/users.csv\", encoding=\"utf-8\", line_terminator=\"\\n\", index=False)"
   ]
  },
  {
   "cell_type": "markdown",
   "id": "97af2c99",
   "metadata": {},
   "source": [
    "# Rewrite suspended"
   ]
  },
  {
   "cell_type": "code",
   "execution_count": 3,
   "id": "b415dbd9",
   "metadata": {},
   "outputs": [
    {
     "data": {
      "text/plain": [
       "['F:/Supsi/COVID-19-Tweets/large_files/not_found_users\\\\users_not_found_inspected_old.csv',\n",
       " 'F:/Supsi/COVID-19-Tweets/large_files/not_found_users\\\\users_with_not_found_info_inspected_apr.csv',\n",
       " 'F:/Supsi/COVID-19-Tweets/large_files/not_found_users\\\\users_with_not_found_info_inspected_feb.csv',\n",
       " 'F:/Supsi/COVID-19-Tweets/large_files/not_found_users\\\\users_with_not_found_info_inspected_jan.csv',\n",
       " 'F:/Supsi/COVID-19-Tweets/large_files/not_found_users\\\\users_with_not_found_info_inspected_mag.csv',\n",
       " 'F:/Supsi/COVID-19-Tweets/large_files/not_found_users\\\\users_with_not_found_info_inspected_mar.csv',\n",
       " 'F:/Supsi/COVID-19-Tweets/large_files/not_found_users\\\\users_with_not_found_info_inspected_try.csv']"
      ]
     },
     "execution_count": 3,
     "metadata": {},
     "output_type": "execute_result"
    }
   ],
   "source": [
    "path = glob.glob(\"F:/Supsi/COVID-19-Tweets/large_files/not_found_users/users*.csv\")\n",
    "path"
   ]
  },
  {
   "cell_type": "code",
   "execution_count": 5,
   "id": "04f6d2ff",
   "metadata": {},
   "outputs": [
    {
     "data": {
      "text/html": [
       "<div>\n",
       "<style scoped>\n",
       "    .dataframe tbody tr th:only-of-type {\n",
       "        vertical-align: middle;\n",
       "    }\n",
       "\n",
       "    .dataframe tbody tr th {\n",
       "        vertical-align: top;\n",
       "    }\n",
       "\n",
       "    .dataframe thead th {\n",
       "        text-align: right;\n",
       "    }\n",
       "</style>\n",
       "<table border=\"1\" class=\"dataframe\">\n",
       "  <thead>\n",
       "    <tr style=\"text-align: right;\">\n",
       "      <th></th>\n",
       "      <th>id</th>\n",
       "      <th>code</th>\n",
       "      <th>message</th>\n",
       "    </tr>\n",
       "  </thead>\n",
       "  <tbody>\n",
       "    <tr>\n",
       "      <th>0</th>\n",
       "      <td>2767590820</td>\n",
       "      <td>63</td>\n",
       "      <td>User has been suspended.</td>\n",
       "    </tr>\n",
       "    <tr>\n",
       "      <th>1</th>\n",
       "      <td>887508829587488768</td>\n",
       "      <td>63</td>\n",
       "      <td>User has been suspended.</td>\n",
       "    </tr>\n",
       "    <tr>\n",
       "      <th>2</th>\n",
       "      <td>1338073232</td>\n",
       "      <td>63</td>\n",
       "      <td>User has been suspended.</td>\n",
       "    </tr>\n",
       "    <tr>\n",
       "      <th>3</th>\n",
       "      <td>1147654506076725248</td>\n",
       "      <td>63</td>\n",
       "      <td>User has been suspended.</td>\n",
       "    </tr>\n",
       "    <tr>\n",
       "      <th>4</th>\n",
       "      <td>1160237865516838912</td>\n",
       "      <td>50</td>\n",
       "      <td>User not found.</td>\n",
       "    </tr>\n",
       "    <tr>\n",
       "      <th>...</th>\n",
       "      <td>...</td>\n",
       "      <td>...</td>\n",
       "      <td>...</td>\n",
       "    </tr>\n",
       "    <tr>\n",
       "      <th>25738</th>\n",
       "      <td>311856115</td>\n",
       "      <td>50</td>\n",
       "      <td>User not found.</td>\n",
       "    </tr>\n",
       "    <tr>\n",
       "      <th>25739</th>\n",
       "      <td>933447206</td>\n",
       "      <td>63</td>\n",
       "      <td>User has been suspended.</td>\n",
       "    </tr>\n",
       "    <tr>\n",
       "      <th>25740</th>\n",
       "      <td>858542327215738880</td>\n",
       "      <td>50</td>\n",
       "      <td>User not found.</td>\n",
       "    </tr>\n",
       "    <tr>\n",
       "      <th>25741</th>\n",
       "      <td>1065131465720193025</td>\n",
       "      <td>50</td>\n",
       "      <td>User not found.</td>\n",
       "    </tr>\n",
       "    <tr>\n",
       "      <th>25742</th>\n",
       "      <td>962379378</td>\n",
       "      <td>63</td>\n",
       "      <td>User has been suspended.</td>\n",
       "    </tr>\n",
       "  </tbody>\n",
       "</table>\n",
       "<p>25743 rows × 3 columns</p>\n",
       "</div>"
      ],
      "text/plain": [
       "                        id  code                   message\n",
       "0               2767590820    63  User has been suspended.\n",
       "1       887508829587488768    63  User has been suspended.\n",
       "2               1338073232    63  User has been suspended.\n",
       "3      1147654506076725248    63  User has been suspended.\n",
       "4      1160237865516838912    50           User not found.\n",
       "...                    ...   ...                       ...\n",
       "25738            311856115    50           User not found.\n",
       "25739            933447206    63  User has been suspended.\n",
       "25740   858542327215738880    50           User not found.\n",
       "25741  1065131465720193025    50           User not found.\n",
       "25742            962379378    63  User has been suspended.\n",
       "\n",
       "[25743 rows x 3 columns]"
      ]
     },
     "execution_count": 5,
     "metadata": {},
     "output_type": "execute_result"
    }
   ],
   "source": [
    "nf = pd.DataFrame()\n",
    "for i in path:\n",
    "    df = pd.read_csv(i, low_memory=False, lineterminator=\"\\n\")\n",
    "    nf = nf.append(df)\n",
    "    nf = nf.drop_duplicates(subset=[\"id\"])\n",
    "    nf = nf.reset_index(drop=True)\n",
    "nf"
   ]
  },
  {
   "cell_type": "code",
   "execution_count": 6,
   "id": "4e183ab5",
   "metadata": {},
   "outputs": [],
   "source": [
    "suspended = nf[(nf['code']==63)]"
   ]
  },
  {
   "cell_type": "code",
   "execution_count": 9,
   "id": "2e0a5d81",
   "metadata": {},
   "outputs": [
    {
     "data": {
      "text/html": [
       "<div>\n",
       "<style scoped>\n",
       "    .dataframe tbody tr th:only-of-type {\n",
       "        vertical-align: middle;\n",
       "    }\n",
       "\n",
       "    .dataframe tbody tr th {\n",
       "        vertical-align: top;\n",
       "    }\n",
       "\n",
       "    .dataframe thead th {\n",
       "        text-align: right;\n",
       "    }\n",
       "</style>\n",
       "<table border=\"1\" class=\"dataframe\">\n",
       "  <thead>\n",
       "    <tr style=\"text-align: right;\">\n",
       "      <th></th>\n",
       "      <th>id</th>\n",
       "      <th>code</th>\n",
       "      <th>message</th>\n",
       "    </tr>\n",
       "  </thead>\n",
       "  <tbody>\n",
       "    <tr>\n",
       "      <th>0</th>\n",
       "      <td>2767590820</td>\n",
       "      <td>63</td>\n",
       "      <td>User has been suspended.</td>\n",
       "    </tr>\n",
       "    <tr>\n",
       "      <th>1</th>\n",
       "      <td>887508829587488768</td>\n",
       "      <td>63</td>\n",
       "      <td>User has been suspended.</td>\n",
       "    </tr>\n",
       "    <tr>\n",
       "      <th>2</th>\n",
       "      <td>1338073232</td>\n",
       "      <td>63</td>\n",
       "      <td>User has been suspended.</td>\n",
       "    </tr>\n",
       "    <tr>\n",
       "      <th>3</th>\n",
       "      <td>1147654506076725248</td>\n",
       "      <td>63</td>\n",
       "      <td>User has been suspended.</td>\n",
       "    </tr>\n",
       "    <tr>\n",
       "      <th>5</th>\n",
       "      <td>1076440707626225664</td>\n",
       "      <td>63</td>\n",
       "      <td>User has been suspended.</td>\n",
       "    </tr>\n",
       "    <tr>\n",
       "      <th>...</th>\n",
       "      <td>...</td>\n",
       "      <td>...</td>\n",
       "      <td>...</td>\n",
       "    </tr>\n",
       "    <tr>\n",
       "      <th>25731</th>\n",
       "      <td>114299539</td>\n",
       "      <td>63</td>\n",
       "      <td>User has been suspended.</td>\n",
       "    </tr>\n",
       "    <tr>\n",
       "      <th>25733</th>\n",
       "      <td>713873945439641600</td>\n",
       "      <td>63</td>\n",
       "      <td>User has been suspended.</td>\n",
       "    </tr>\n",
       "    <tr>\n",
       "      <th>25734</th>\n",
       "      <td>997673205354577920</td>\n",
       "      <td>63</td>\n",
       "      <td>User has been suspended.</td>\n",
       "    </tr>\n",
       "    <tr>\n",
       "      <th>25739</th>\n",
       "      <td>933447206</td>\n",
       "      <td>63</td>\n",
       "      <td>User has been suspended.</td>\n",
       "    </tr>\n",
       "    <tr>\n",
       "      <th>25742</th>\n",
       "      <td>962379378</td>\n",
       "      <td>63</td>\n",
       "      <td>User has been suspended.</td>\n",
       "    </tr>\n",
       "  </tbody>\n",
       "</table>\n",
       "<p>9625 rows × 3 columns</p>\n",
       "</div>"
      ],
      "text/plain": [
       "                        id  code                   message\n",
       "0               2767590820    63  User has been suspended.\n",
       "1       887508829587488768    63  User has been suspended.\n",
       "2               1338073232    63  User has been suspended.\n",
       "3      1147654506076725248    63  User has been suspended.\n",
       "5      1076440707626225664    63  User has been suspended.\n",
       "...                    ...   ...                       ...\n",
       "25731            114299539    63  User has been suspended.\n",
       "25733   713873945439641600    63  User has been suspended.\n",
       "25734   997673205354577920    63  User has been suspended.\n",
       "25739            933447206    63  User has been suspended.\n",
       "25742            962379378    63  User has been suspended.\n",
       "\n",
       "[9625 rows x 3 columns]"
      ]
     },
     "execution_count": 9,
     "metadata": {},
     "output_type": "execute_result"
    }
   ],
   "source": [
    "suspended"
   ]
  },
  {
   "cell_type": "code",
   "execution_count": 8,
   "id": "fb4811cd",
   "metadata": {},
   "outputs": [],
   "source": [
    "# id_suspended = list(suspended[id])"
   ]
  },
  {
   "cell_type": "code",
   "execution_count": null,
   "id": "2fbf5d6b",
   "metadata": {},
   "outputs": [],
   "source": [
    "path = glob.glob(\"F:/Supsi/COVID-19-Tweets/large_files/not_found_users/u_*.csv\")\n",
    "path"
   ]
  },
  {
   "cell_type": "code",
   "execution_count": null,
   "id": "2c99694e",
   "metadata": {},
   "outputs": [],
   "source": [
    "result = []\n",
    "importlib.reload(tweets_utils)\n",
    "start_time = time.perf_counter()\n",
    "j = 0\n",
    "daraframe = pd.DataFrame()\n",
    "cols = [\"id\", \"screen_name\"]\n",
    "for filename in path:\n",
    "    print(f\"Reading file: {filename}\")\n",
    "    result.extend(tweets_utils.process_all_data(filename, cols, True))\n",
    "    lista = result[j]\n",
    "    j = j + 1\n",
    "    print(f\"Mese numero {j}\")\n",
    "    for i in range(len(lista)):\n",
    "        daraframe = daraframe.append(lista[i][\"df\"])\n",
    "\n",
    "stop_time = time.perf_counter()\n",
    "print(\"Time: \",stop_time-start_time)"
   ]
  },
  {
   "cell_type": "code",
   "execution_count": null,
   "id": "a83ad120",
   "metadata": {},
   "outputs": [],
   "source": [
    "daraframe = daraframe.append(centok)\n",
    "daraframe = daraframe.drop_duplicates(subset=[\"screen_name\"])\n",
    "daraframe"
   ]
  },
  {
   "cell_type": "code",
   "execution_count": null,
   "id": "476375db",
   "metadata": {},
   "outputs": [],
   "source": [
    "x = suspended.merge(daraframe, on=\"id\", how=\"left\")"
   ]
  },
  {
   "cell_type": "code",
   "execution_count": null,
   "id": "ae7bcd65",
   "metadata": {},
   "outputs": [],
   "source": [
    "list(x[x[\"screen_name\"].isna()][\"id\"])"
   ]
  },
  {
   "cell_type": "code",
   "execution_count": null,
   "id": "f8d3ac3b",
   "metadata": {},
   "outputs": [],
   "source": [
    "path_data = glob.glob(\"C:/Users/gianl/Desktop/Gi/Supsi/BachelorProject/id_finder/data/out*.json\")\n",
    "# path_data\n",
    "lst_id = []\n",
    "lst_user = []\n",
    "for i in path_data:\n",
    "    data = tweets_utils.read_from_json(i)\n",
    "    for i in data[\"data\"]:\n",
    "        lst_id.append(i[\"id\"])\n",
    "        lst_user.append(i[\"username\"])"
   ]
  },
  {
   "cell_type": "code",
   "execution_count": null,
   "id": "d72b28a6",
   "metadata": {},
   "outputs": [],
   "source": [
    "find = pd.DataFrame(list(zip(lst_id, lst_user)), columns=[\"id\", \"screen_name\"])\n",
    "find"
   ]
  },
  {
   "cell_type": "code",
   "execution_count": null,
   "id": "6f07fade",
   "metadata": {},
   "outputs": [],
   "source": [
    "f = x[x[\"screen_name\"].notna()]"
   ]
  },
  {
   "cell_type": "code",
   "execution_count": null,
   "id": "bd9f5cf6",
   "metadata": {},
   "outputs": [],
   "source": [
    "f = f.append(find)\n",
    "f = f.drop_duplicates(subset=[\"id\"])\n",
    "f = f.reset_index(drop=True)\n",
    "f = f[[\"id\",\"screen_name\"]]"
   ]
  },
  {
   "cell_type": "code",
   "execution_count": null,
   "id": "0b948a3c",
   "metadata": {},
   "outputs": [],
   "source": [
    "f.to_csv(\"C:/Users/gianl/Desktop/Gi/Supsi/BachelorProject/csv/not_found/suspended.csv\",\n",
    "        line_terminator=\"\\n\", encoding=\"utf-8\", index=False)"
   ]
  },
  {
   "cell_type": "code",
   "execution_count": 10,
   "id": "cbafa56a",
   "metadata": {},
   "outputs": [
    {
     "data": {
      "text/html": [
       "<div>\n",
       "<style scoped>\n",
       "    .dataframe tbody tr th:only-of-type {\n",
       "        vertical-align: middle;\n",
       "    }\n",
       "\n",
       "    .dataframe tbody tr th {\n",
       "        vertical-align: top;\n",
       "    }\n",
       "\n",
       "    .dataframe thead th {\n",
       "        text-align: right;\n",
       "    }\n",
       "</style>\n",
       "<table border=\"1\" class=\"dataframe\">\n",
       "  <thead>\n",
       "    <tr style=\"text-align: right;\">\n",
       "      <th></th>\n",
       "      <th>id</th>\n",
       "      <th>screen_name</th>\n",
       "    </tr>\n",
       "  </thead>\n",
       "  <tbody>\n",
       "    <tr>\n",
       "      <th>0</th>\n",
       "      <td>2767590820</td>\n",
       "      <td>ConElMazoDando</td>\n",
       "    </tr>\n",
       "    <tr>\n",
       "      <th>1</th>\n",
       "      <td>887508829587488768</td>\n",
       "      <td>thehawk</td>\n",
       "    </tr>\n",
       "    <tr>\n",
       "      <th>2</th>\n",
       "      <td>1338073232</td>\n",
       "      <td>onenewsofficial</td>\n",
       "    </tr>\n",
       "    <tr>\n",
       "      <th>3</th>\n",
       "      <td>1147654506076725248</td>\n",
       "      <td>Ace135Q</td>\n",
       "    </tr>\n",
       "    <tr>\n",
       "      <th>4</th>\n",
       "      <td>250425415</td>\n",
       "      <td>chris19thws</td>\n",
       "    </tr>\n",
       "    <tr>\n",
       "      <th>...</th>\n",
       "      <td>...</td>\n",
       "      <td>...</td>\n",
       "    </tr>\n",
       "    <tr>\n",
       "      <th>9488</th>\n",
       "      <td>1027822379228000257</td>\n",
       "      <td>japenbbsppj</td>\n",
       "    </tr>\n",
       "    <tr>\n",
       "      <th>9489</th>\n",
       "      <td>140394191</td>\n",
       "      <td>SYSCARE20</td>\n",
       "    </tr>\n",
       "    <tr>\n",
       "      <th>9490</th>\n",
       "      <td>48865797</td>\n",
       "      <td>potkazar</td>\n",
       "    </tr>\n",
       "    <tr>\n",
       "      <th>9491</th>\n",
       "      <td>3965308156</td>\n",
       "      <td>p4d065</td>\n",
       "    </tr>\n",
       "    <tr>\n",
       "      <th>9492</th>\n",
       "      <td>838604291183095809</td>\n",
       "      <td>adrian_indio</td>\n",
       "    </tr>\n",
       "  </tbody>\n",
       "</table>\n",
       "<p>9493 rows × 2 columns</p>\n",
       "</div>"
      ],
      "text/plain": [
       "                       id      screen_name\n",
       "0              2767590820   ConElMazoDando\n",
       "1      887508829587488768          thehawk\n",
       "2              1338073232  onenewsofficial\n",
       "3     1147654506076725248          Ace135Q\n",
       "4               250425415      chris19thws\n",
       "...                   ...              ...\n",
       "9488  1027822379228000257      japenbbsppj\n",
       "9489            140394191        SYSCARE20\n",
       "9490             48865797         potkazar\n",
       "9491           3965308156           p4d065\n",
       "9492   838604291183095809     adrian_indio\n",
       "\n",
       "[9493 rows x 2 columns]"
      ]
     },
     "execution_count": 10,
     "metadata": {},
     "output_type": "execute_result"
    }
   ],
   "source": [
    "f = pd.read_csv(\"C:/Users/gianl/Desktop/Gi/Supsi/BachelorProject/csv/not_found/suspended.csv\",\n",
    "        lineterminator=\"\\n\", low_memory=False)\n",
    "f"
   ]
  },
  {
   "cell_type": "code",
   "execution_count": 11,
   "id": "13ff9764",
   "metadata": {},
   "outputs": [
    {
     "data": {
      "text/html": [
       "<div>\n",
       "<style scoped>\n",
       "    .dataframe tbody tr th:only-of-type {\n",
       "        vertical-align: middle;\n",
       "    }\n",
       "\n",
       "    .dataframe tbody tr th {\n",
       "        vertical-align: top;\n",
       "    }\n",
       "\n",
       "    .dataframe thead th {\n",
       "        text-align: right;\n",
       "    }\n",
       "</style>\n",
       "<table border=\"1\" class=\"dataframe\">\n",
       "  <thead>\n",
       "    <tr style=\"text-align: right;\">\n",
       "      <th></th>\n",
       "      <th>id</th>\n",
       "      <th>code</th>\n",
       "      <th>message</th>\n",
       "    </tr>\n",
       "  </thead>\n",
       "  <tbody>\n",
       "    <tr>\n",
       "      <th>0</th>\n",
       "      <td>2767590820</td>\n",
       "      <td>63</td>\n",
       "      <td>User has been suspended.</td>\n",
       "    </tr>\n",
       "    <tr>\n",
       "      <th>1</th>\n",
       "      <td>887508829587488768</td>\n",
       "      <td>63</td>\n",
       "      <td>User has been suspended.</td>\n",
       "    </tr>\n",
       "    <tr>\n",
       "      <th>2</th>\n",
       "      <td>1338073232</td>\n",
       "      <td>63</td>\n",
       "      <td>User has been suspended.</td>\n",
       "    </tr>\n",
       "    <tr>\n",
       "      <th>3</th>\n",
       "      <td>1147654506076725248</td>\n",
       "      <td>63</td>\n",
       "      <td>User has been suspended.</td>\n",
       "    </tr>\n",
       "    <tr>\n",
       "      <th>5</th>\n",
       "      <td>1076440707626225664</td>\n",
       "      <td>63</td>\n",
       "      <td>User has been suspended.</td>\n",
       "    </tr>\n",
       "    <tr>\n",
       "      <th>...</th>\n",
       "      <td>...</td>\n",
       "      <td>...</td>\n",
       "      <td>...</td>\n",
       "    </tr>\n",
       "    <tr>\n",
       "      <th>25731</th>\n",
       "      <td>114299539</td>\n",
       "      <td>63</td>\n",
       "      <td>User has been suspended.</td>\n",
       "    </tr>\n",
       "    <tr>\n",
       "      <th>25733</th>\n",
       "      <td>713873945439641600</td>\n",
       "      <td>63</td>\n",
       "      <td>User has been suspended.</td>\n",
       "    </tr>\n",
       "    <tr>\n",
       "      <th>25734</th>\n",
       "      <td>997673205354577920</td>\n",
       "      <td>63</td>\n",
       "      <td>User has been suspended.</td>\n",
       "    </tr>\n",
       "    <tr>\n",
       "      <th>25739</th>\n",
       "      <td>933447206</td>\n",
       "      <td>63</td>\n",
       "      <td>User has been suspended.</td>\n",
       "    </tr>\n",
       "    <tr>\n",
       "      <th>25742</th>\n",
       "      <td>962379378</td>\n",
       "      <td>63</td>\n",
       "      <td>User has been suspended.</td>\n",
       "    </tr>\n",
       "  </tbody>\n",
       "</table>\n",
       "<p>9625 rows × 3 columns</p>\n",
       "</div>"
      ],
      "text/plain": [
       "                        id  code                   message\n",
       "0               2767590820    63  User has been suspended.\n",
       "1       887508829587488768    63  User has been suspended.\n",
       "2               1338073232    63  User has been suspended.\n",
       "3      1147654506076725248    63  User has been suspended.\n",
       "5      1076440707626225664    63  User has been suspended.\n",
       "...                    ...   ...                       ...\n",
       "25731            114299539    63  User has been suspended.\n",
       "25733   713873945439641600    63  User has been suspended.\n",
       "25734   997673205354577920    63  User has been suspended.\n",
       "25739            933447206    63  User has been suspended.\n",
       "25742            962379378    63  User has been suspended.\n",
       "\n",
       "[9625 rows x 3 columns]"
      ]
     },
     "execution_count": 11,
     "metadata": {},
     "output_type": "execute_result"
    }
   ],
   "source": [
    "suspended"
   ]
  },
  {
   "cell_type": "code",
   "execution_count": 12,
   "id": "968e8735",
   "metadata": {},
   "outputs": [
    {
     "data": {
      "text/html": [
       "<div>\n",
       "<style scoped>\n",
       "    .dataframe tbody tr th:only-of-type {\n",
       "        vertical-align: middle;\n",
       "    }\n",
       "\n",
       "    .dataframe tbody tr th {\n",
       "        vertical-align: top;\n",
       "    }\n",
       "\n",
       "    .dataframe thead th {\n",
       "        text-align: right;\n",
       "    }\n",
       "</style>\n",
       "<table border=\"1\" class=\"dataframe\">\n",
       "  <thead>\n",
       "    <tr style=\"text-align: right;\">\n",
       "      <th></th>\n",
       "      <th>id</th>\n",
       "      <th>code</th>\n",
       "      <th>message</th>\n",
       "      <th>screen_name</th>\n",
       "    </tr>\n",
       "  </thead>\n",
       "  <tbody>\n",
       "    <tr>\n",
       "      <th>0</th>\n",
       "      <td>2767590820</td>\n",
       "      <td>63</td>\n",
       "      <td>User has been suspended.</td>\n",
       "      <td>ConElMazoDando</td>\n",
       "    </tr>\n",
       "    <tr>\n",
       "      <th>1</th>\n",
       "      <td>887508829587488768</td>\n",
       "      <td>63</td>\n",
       "      <td>User has been suspended.</td>\n",
       "      <td>thehawk</td>\n",
       "    </tr>\n",
       "    <tr>\n",
       "      <th>2</th>\n",
       "      <td>1338073232</td>\n",
       "      <td>63</td>\n",
       "      <td>User has been suspended.</td>\n",
       "      <td>onenewsofficial</td>\n",
       "    </tr>\n",
       "    <tr>\n",
       "      <th>3</th>\n",
       "      <td>1147654506076725248</td>\n",
       "      <td>63</td>\n",
       "      <td>User has been suspended.</td>\n",
       "      <td>Ace135Q</td>\n",
       "    </tr>\n",
       "    <tr>\n",
       "      <th>4</th>\n",
       "      <td>1076440707626225664</td>\n",
       "      <td>63</td>\n",
       "      <td>User has been suspended.</td>\n",
       "      <td>NaN</td>\n",
       "    </tr>\n",
       "    <tr>\n",
       "      <th>...</th>\n",
       "      <td>...</td>\n",
       "      <td>...</td>\n",
       "      <td>...</td>\n",
       "      <td>...</td>\n",
       "    </tr>\n",
       "    <tr>\n",
       "      <th>9620</th>\n",
       "      <td>114299539</td>\n",
       "      <td>63</td>\n",
       "      <td>User has been suspended.</td>\n",
       "      <td>zaririha</td>\n",
       "    </tr>\n",
       "    <tr>\n",
       "      <th>9621</th>\n",
       "      <td>713873945439641600</td>\n",
       "      <td>63</td>\n",
       "      <td>User has been suspended.</td>\n",
       "      <td>missuniversal91</td>\n",
       "    </tr>\n",
       "    <tr>\n",
       "      <th>9622</th>\n",
       "      <td>997673205354577920</td>\n",
       "      <td>63</td>\n",
       "      <td>User has been suspended.</td>\n",
       "      <td>cutry6</td>\n",
       "    </tr>\n",
       "    <tr>\n",
       "      <th>9623</th>\n",
       "      <td>933447206</td>\n",
       "      <td>63</td>\n",
       "      <td>User has been suspended.</td>\n",
       "      <td>bloodtribeelect</td>\n",
       "    </tr>\n",
       "    <tr>\n",
       "      <th>9624</th>\n",
       "      <td>962379378</td>\n",
       "      <td>63</td>\n",
       "      <td>User has been suspended.</td>\n",
       "      <td>baekaeri06</td>\n",
       "    </tr>\n",
       "  </tbody>\n",
       "</table>\n",
       "<p>9625 rows × 4 columns</p>\n",
       "</div>"
      ],
      "text/plain": [
       "                       id  code                   message      screen_name\n",
       "0              2767590820    63  User has been suspended.   ConElMazoDando\n",
       "1      887508829587488768    63  User has been suspended.          thehawk\n",
       "2              1338073232    63  User has been suspended.  onenewsofficial\n",
       "3     1147654506076725248    63  User has been suspended.          Ace135Q\n",
       "4     1076440707626225664    63  User has been suspended.              NaN\n",
       "...                   ...   ...                       ...              ...\n",
       "9620            114299539    63  User has been suspended.         zaririha\n",
       "9621   713873945439641600    63  User has been suspended.  missuniversal91\n",
       "9622   997673205354577920    63  User has been suspended.           cutry6\n",
       "9623            933447206    63  User has been suspended.  bloodtribeelect\n",
       "9624            962379378    63  User has been suspended.       baekaeri06\n",
       "\n",
       "[9625 rows x 4 columns]"
      ]
     },
     "execution_count": 12,
     "metadata": {},
     "output_type": "execute_result"
    }
   ],
   "source": [
    "x = suspended.merge(f, left_on=\"id\", right_on=\"id\", how=\"left\")\n",
    "x"
   ]
  },
  {
   "cell_type": "code",
   "execution_count": 16,
   "id": "11b21b9f",
   "metadata": {},
   "outputs": [],
   "source": [
    "x = x[x[\"screen_name\"].notna()]"
   ]
  },
  {
   "cell_type": "code",
   "execution_count": 20,
   "id": "f7c57bc5",
   "metadata": {},
   "outputs": [],
   "source": [
    "x.to_csv(\"C:/Users/gianl/Desktop/Gi/Supsi/BachelorProject/csv/not_found/suspended_account.csv\",\n",
    "        line_terminator=\"\\n\", encoding=\"utf-8\", index=False)"
   ]
  },
  {
   "cell_type": "code",
   "execution_count": null,
   "id": "303916b5",
   "metadata": {},
   "outputs": [],
   "source": []
  }
 ],
 "metadata": {
  "kernelspec": {
   "display_name": "Python 3 (ipykernel)",
   "language": "python",
   "name": "python3"
  },
  "language_info": {
   "codemirror_mode": {
    "name": "ipython",
    "version": 3
   },
   "file_extension": ".py",
   "mimetype": "text/x-python",
   "name": "python",
   "nbconvert_exporter": "python",
   "pygments_lexer": "ipython3",
   "version": "3.8.11"
  }
 },
 "nbformat": 4,
 "nbformat_minor": 5
}
