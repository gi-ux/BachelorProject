{
 "cells": [
  {
   "cell_type": "code",
   "execution_count": null,
   "id": "17404527",
   "metadata": {},
   "outputs": [],
   "source": [
    "import pandas as pd\n",
    "import numpy as np\n",
    "import matplotlib.pyplot as plt\n",
    "from matplotlib.pyplot import figure\n",
    "import datetime\n",
    "import plotly.express as px\n",
    "import math\n",
    "import warnings\n",
    "warnings.filterwarnings('ignore')\n",
    "import time\n",
    "from time import perf_counter\n",
    "import glob\n",
    "import tweets_utils\n",
    "import csv\n",
    "import importlib\n",
    "%autosave 3600"
   ]
  },
  {
   "cell_type": "code",
   "execution_count": null,
   "id": "c8c8a499",
   "metadata": {},
   "outputs": [],
   "source": [
    "path = glob.glob(\"C:/Users/gianl/Desktop/Gi/Supsi/BachelorProject/to_be_scored/user*.csv\")\n",
    "centok = pd.DataFrame()\n",
    "for name in path:\n",
    "    df = pd.read_csv(name, lineterminator=\"\\n\", low_memory=False)\n",
    "    df = tweets_utils.clean_data_format(df)\n",
    "    centok = centok.append(df)\n",
    "centok = centok.drop_duplicates(subset=[\"screen_name\"])"
   ]
  },
  {
   "cell_type": "code",
   "execution_count": null,
   "id": "e0f67ca6",
   "metadata": {},
   "outputs": [],
   "source": [
    "path_prova = glob.glob(\"C:/Users/gianl/Desktop/not_found_users/u_*.csv\") #in base al mese\n",
    "for i in path_prova:\n",
    "    print(\"leggo \", i)\n",
    "    df = pd.read_csv(i, lineterminator=\"\\n\", low_memory=False, usecols=[\"id\",\"screen_name\"])\n",
    "    centok = centok.append(df)\n",
    "    centok = centok.drop_duplicates(subset=[\"screen_name\"])"
   ]
  },
  {
   "cell_type": "code",
   "execution_count": null,
   "id": "0925c199",
   "metadata": {},
   "outputs": [],
   "source": [
    "centok"
   ]
  },
  {
   "cell_type": "code",
   "execution_count": null,
   "id": "a1c57dd6",
   "metadata": {},
   "outputs": [],
   "source": [
    "target = pd.read_csv(\"C:/Users/gianl/Desktop/prova/users.csv\", \n",
    "                     lineterminator=\"\\n\", low_memory=False)"
   ]
  },
  {
   "cell_type": "code",
   "execution_count": null,
   "id": "86c8b133",
   "metadata": {},
   "outputs": [],
   "source": [
    "target"
   ]
  },
  {
   "cell_type": "code",
   "execution_count": null,
   "id": "113e01f3",
   "metadata": {},
   "outputs": [],
   "source": [
    "merge = target.merge(centok, left_on=\"screen_name\",  right_on=\"screen_name\", how=\"left\")\n",
    "merge"
   ]
  },
  {
   "cell_type": "code",
   "execution_count": null,
   "id": "cdfe0500",
   "metadata": {},
   "outputs": [],
   "source": [
    "to_write = merge[merge[\"id_y\"].isna()]"
   ]
  },
  {
   "cell_type": "code",
   "execution_count": null,
   "id": "785b0a9f",
   "metadata": {},
   "outputs": [],
   "source": [
    "to_write"
   ]
  },
  {
   "cell_type": "code",
   "execution_count": null,
   "id": "be10f25a",
   "metadata": {},
   "outputs": [],
   "source": [
    "to_write.columns"
   ]
  },
  {
   "cell_type": "code",
   "execution_count": null,
   "id": "4e423a73",
   "metadata": {},
   "outputs": [],
   "source": [
    "to_write = to_write.drop(\"id_y\",1)\n",
    "to_write.columns"
   ]
  },
  {
   "cell_type": "code",
   "execution_count": null,
   "id": "c1db6da1",
   "metadata": {},
   "outputs": [],
   "source": [
    "to_write = to_write.rename(columns={'id_x': 'id'})\n",
    "to_write.columns                 "
   ]
  },
  {
   "cell_type": "code",
   "execution_count": null,
   "id": "993333c5",
   "metadata": {},
   "outputs": [],
   "source": [
    "to_write = to_write.drop_duplicates(subset=[\"screen_name\"])\n",
    "to_write = to_write.reset_index(drop=True)\n",
    "to_write"
   ]
  },
  {
   "cell_type": "code",
   "execution_count": null,
   "id": "979287ce",
   "metadata": {},
   "outputs": [],
   "source": [
    "to_write.to_csv(\"C:/Users/gianl/Desktop/prova/users.csv\", encoding=\"utf-8\", line_terminator=\"\\n\", index=False)"
   ]
  },
  {
   "cell_type": "markdown",
   "id": "97af2c99",
   "metadata": {},
   "source": [
    "# Rewrite suspended"
   ]
  },
  {
   "cell_type": "code",
   "execution_count": null,
   "id": "b415dbd9",
   "metadata": {},
   "outputs": [],
   "source": [
    "path = glob.glob(\"F:/Supsi/COVID-19-Tweets/large_files/not_found_users/users*.csv\")\n",
    "path"
   ]
  },
  {
   "cell_type": "code",
   "execution_count": null,
   "id": "04f6d2ff",
   "metadata": {},
   "outputs": [],
   "source": [
    "nf = pd.DataFrame()\n",
    "for i in path:\n",
    "    df = pd.read_csv(i, low_memory=False, lineterminator=\"\\n\")\n",
    "    nf = nf.append(df)\n",
    "    nf = nf.drop_duplicates(subset=[\"id\"])\n",
    "    nf = nf.reset_index(drop=True)\n",
    "nf"
   ]
  },
  {
   "cell_type": "code",
   "execution_count": null,
   "id": "4e183ab5",
   "metadata": {},
   "outputs": [],
   "source": [
    "suspended = nf[(nf['code']==63)]"
   ]
  },
  {
   "cell_type": "code",
   "execution_count": null,
   "id": "fb4811cd",
   "metadata": {},
   "outputs": [],
   "source": [
    "id_suspended = list(suspended[id])"
   ]
  },
  {
   "cell_type": "code",
   "execution_count": null,
   "id": "2fbf5d6b",
   "metadata": {},
   "outputs": [],
   "source": [
    "path = glob.glob(\"F:/Supsi/COVID-19-Tweets/large_files/not_found_users/u_*.csv\")\n",
    "path"
   ]
  },
  {
   "cell_type": "code",
   "execution_count": null,
   "id": "2c99694e",
   "metadata": {},
   "outputs": [],
   "source": [
    "result = []\n",
    "importlib.reload(tweets_utils)\n",
    "start_time = time.perf_counter()\n",
    "j = 0\n",
    "daraframe = pd.DataFrame()\n",
    "cols = [\"id\", \"screen_name\"]\n",
    "for filename in path:\n",
    "    print(f\"Reading file: {filename}\")\n",
    "    result.extend(tweets_utils.process_all_data(filename, cols, True))\n",
    "    lista = result[j]\n",
    "    j = j + 1\n",
    "    print(f\"Mese numero {j}\")\n",
    "    for i in range(len(lista)):\n",
    "        daraframe = daraframe.append(lista[i][\"df\"])\n",
    "\n",
    "stop_time = time.perf_counter()\n",
    "print(\"Time: \",stop_time-start_time)"
   ]
  },
  {
   "cell_type": "code",
   "execution_count": null,
   "id": "a83ad120",
   "metadata": {},
   "outputs": [],
   "source": [
    "daraframe = daraframe.append(centok)\n",
    "daraframe = daraframe.drop_duplicates(subset=[\"screen_name\"])\n",
    "daraframe"
   ]
  },
  {
   "cell_type": "code",
   "execution_count": null,
   "id": "476375db",
   "metadata": {},
   "outputs": [],
   "source": [
    "x = suspended.merge(daraframe, on=\"id\", how=\"left\")"
   ]
  },
  {
   "cell_type": "code",
   "execution_count": null,
   "id": "ae7bcd65",
   "metadata": {},
   "outputs": [],
   "source": [
    "list(x[x[\"screen_name\"].isna()][\"id\"])"
   ]
  },
  {
   "cell_type": "code",
   "execution_count": null,
   "id": "f8d3ac3b",
   "metadata": {},
   "outputs": [],
   "source": [
    "path_data = glob.glob(\"C:/Users/gianl/Desktop/Gi/Supsi/BachelorProject/id_finder/data/out*.json\")\n",
    "# path_data\n",
    "lst_id = []\n",
    "lst_user = []\n",
    "for i in path_data:\n",
    "    data = tweets_utils.read_from_json(i)\n",
    "    for i in data[\"data\"]:\n",
    "        lst_id.append(i[\"id\"])\n",
    "        lst_user.append(i[\"username\"])"
   ]
  },
  {
   "cell_type": "code",
   "execution_count": null,
   "id": "d72b28a6",
   "metadata": {},
   "outputs": [],
   "source": [
    "find = pd.DataFrame(list(zip(lst_id, lst_user)), columns=[\"id\", \"screen_name\"])\n",
    "find"
   ]
  },
  {
   "cell_type": "code",
   "execution_count": null,
   "id": "6f07fade",
   "metadata": {},
   "outputs": [],
   "source": [
    "f = x[x[\"screen_name\"].notna()]"
   ]
  },
  {
   "cell_type": "code",
   "execution_count": null,
   "id": "bd9f5cf6",
   "metadata": {},
   "outputs": [],
   "source": [
    "f = f.append(find)\n",
    "f = f.drop_duplicates(subset=[\"id\"])\n",
    "f = f.reset_index(drop=True)\n",
    "f = f[[\"id\",\"screen_name\"]]"
   ]
  },
  {
   "cell_type": "code",
   "execution_count": null,
   "id": "0b948a3c",
   "metadata": {},
   "outputs": [],
   "source": [
    "f.to_csv(\"C:/Users/gianl/Desktop/Gi/Supsi/BachelorProject/csv/not_found/suspended.csv\",\n",
    "        line_terminator=\"\\n\", encoding=\"utf-8\", index=False)"
   ]
  }
 ],
 "metadata": {
  "kernelspec": {
   "display_name": "Python 3 (ipykernel)",
   "language": "python",
   "name": "python3"
  },
  "language_info": {
   "codemirror_mode": {
    "name": "ipython",
    "version": 3
   },
   "file_extension": ".py",
   "mimetype": "text/x-python",
   "name": "python",
   "nbconvert_exporter": "python",
   "pygments_lexer": "ipython3",
   "version": "3.8.11"
  }
 },
 "nbformat": 4,
 "nbformat_minor": 5
}
